{
 "cells": [
  {
   "cell_type": "code",
   "execution_count": 1,
   "metadata": {},
   "outputs": [],
   "source": [
    "import pandas as pd\n",
    "import time\n",
    "import matplotlib.pyplot as plt\n",
    "import plotly.express as px\n",
    "import plotly.graph_objects as go"
   ]
  },
  {
   "cell_type": "code",
   "execution_count": 2,
   "metadata": {},
   "outputs": [],
   "source": [
    "from numba import njit\n",
    "from window_ops.expanding import expanding_mean\n",
    "from window_ops.rolling import rolling_mean\n",
    "\n",
    "@njit\n",
    "def rolling_mean_14(x):\n",
    "    return rolling_mean(x, window_size=14)\n",
    "@njit\n",
    "def rolling_mean_30(x):\n",
    "    return rolling_mean(x, window_size=30)"
   ]
  },
  {
   "cell_type": "code",
   "execution_count": 3,
   "metadata": {},
   "outputs": [],
   "source": [
    "def format_df_to_mlforecast(df, date_col, target_col, unique_id='mean'):\n",
    "    df_ = df.rename({\n",
    "        date_col: \"ds\",\n",
    "        # target_col: 'y',\n",
    "    }, axis=1)\n",
    "\n",
    "    df_['ds'] = pd.to_datetime(df_['ds'])\n",
    "\n",
    "    df_['y'] = df_[target_col].copy()\n",
    "    # df_.drop(columns=target_col)\n",
    "\n",
    "    df_['unique_id'] = unique_id\n",
    "    return df_"
   ]
  },
  {
   "cell_type": "code",
   "execution_count": 4,
   "metadata": {},
   "outputs": [],
   "source": [
    "selected_sensors_df = pd.read_csv(\"../data/selected_sensors2_cleaned.csv\", index_col=0)"
   ]
  },
  {
   "cell_type": "code",
   "execution_count": 5,
   "metadata": {},
   "outputs": [],
   "source": [
    "scenarios_sensors = {\n",
    "    # 0: 1, 4372603\n",
    "    # \"0_12M_train_7M_test\": {\"train_start\": \"2017-03-25\", \"train_end\": \"2018-03-25\", \"test_start\": \"2018-03-26\", \"test_end\": \"2018-10-10\"},\n",
    "    '2': {\n",
    "        \"26M_train\":  {\"train_start\": \"2017-04-01\", \"train_end\": \"2019-06-01\"},\n",
    "        \"24M_train\":  {\"train_start\": \"2017-04-01\", \"train_end\": \"2019-04-01\"},\n",
    "        \"22M_train\":  {\"train_start\": \"2017-04-01\", \"train_end\": \"2019-02-01\"},\n",
    "        \"20M_train\":  {\"train_start\": \"2017-04-01\", \"train_end\": \"2018-12-01\"},\n",
    "        \"18M_train\":  {\"train_start\": \"2017-04-01\", \"train_end\": \"2018-10-01\"},\n",
    "        \"12M_train\":  {\"train_start\": \"2017-04-01\", \"train_end\": \"2018-04-01\"},\n",
    "        \"10M_train\":  {\"train_start\": \"2017-04-01\", \"train_end\": \"2018-01-25\"},\n",
    "        # \"8M_train\":   {\"train_start\": \"2017-04-01\", \"train_end\": \"2017-10-25\"},\n",
    "        \n",
    "        # Non-Heating Periods\n",
    "        # \"NH_3M_train\":  {\"train_start\": \"2017-04-15\", \"train_end\": \"2017-07-15\"},\n",
    "        # \"NH_4M_train\":  {\"train_start\": \"2017-04-15\", \"train_end\": \"2017-08-15\"},\n",
    "        # \"NH_2M_train\":  {\"train_start\": \"2017-04-15\", \"train_end\": \"2017-06-15\"},\n",
    "        # \"NH_1M_train\":  {\"train_start\": \"2017-04-15\", \"train_end\": \"2017-05-15\"},\n",
    "        # \"NH_15D_train\": {\"train_start\": \"2017-04-15\", \"train_end\": \"2017-04-30\"},\n",
    "        # \"NH_feb_2M_train\": {\"train_start\": \"2017-02-15\", \"train_end\": \"2017-04-15\"},\n",
    "        # \"NH_feb_1M_train\": {\"train_start\": \"2017-02-15\", \"train_end\": \"2017-04-15\"},\n",
    "        # \"NH_mar_2M_train\": {\"train_start\": \"2017-03-15\", \"train_end\": \"2017-05-15\"},\n",
    "        # \"NH_mar_1M_train\": {\"train_start\": \"2017-03-15\", \"train_end\": \"2017-04-15\"},\n",
    "\n",
    "        # # Heating Periods\n",
    "        # \"H_5M_train\":     {\"train_start\": \"2017-06-01\", \"train_end\": \"2017-11-01\"},\n",
    "        # \"H_3M_jul_train\": {\"train_start\": \"2017-07-01\", \"train_end\": \"2017-10-10\"},\n",
    "        # \"H_3M_sep_train\": {\"train_start\": \"2017-09-01\", \"train_end\": \"2017-12-10\"},\n",
    "        # \"H_3M_nov_train\": {\"train_start\": \"2017-11-01\", \"train_end\": \"2018-02-10\"},\n",
    "        },\n",
    "}\n",
    "# scenarios_sensors['5'] = scenarios_sensors['2'].copy()\n",
    "# scenarios_sensors['6'] = scenarios_sensors['2'].copy()"
   ]
  },
  {
   "cell_type": "code",
   "execution_count": 6,
   "metadata": {},
   "outputs": [],
   "source": [
    "from MLForecastPipeline import *"
   ]
  },
  {
   "cell_type": "code",
   "execution_count": 7,
   "metadata": {},
   "outputs": [],
   "source": [
    "def split_data(df, scenario, date_col=\"ds\"):\n",
    "    \"\"\"Extracts train and test data based on train end date.\"\"\"\n",
    "    train_data = df[df[date_col] <= scenario['train_end']]\n",
    "    test_start = pd.to_datetime(scenario['train_end']) + pd.Timedelta(days=1)\n",
    "    test_data = df[df[date_col] >= test_start]\n",
    "    return train_data, test_data"
   ]
  },
  {
   "cell_type": "code",
   "execution_count": 8,
   "metadata": {},
   "outputs": [],
   "source": [
    "import warnings\n",
    "import numpy as np\n",
    "import pandas as pd\n",
    "from scipy import stats\n",
    "from statsmodels.tsa.seasonal import seasonal_decompose\n",
    "from scipy.special import boxcox1p, inv_boxcox1p\n",
    "\n",
    "class TimeSeriesPreprocessor:\n",
    "    def __init__(self, seasonal_period=365):\n",
    "        \"\"\"\n",
    "        Preprocessor for time series data with optional transformations.\n",
    "\n",
    "        Args:\n",
    "        - seasonal_period (int): Periodicity of the seasonal component (e.g., 365 for yearly seasonality).\n",
    "        \"\"\"\n",
    "        self.seasonal_period = seasonal_period\n",
    "        self.trend = None\n",
    "        self.seasonality = None\n",
    "        self.lambda_param = None\n",
    "        self.mean = None\n",
    "        self.std = None\n",
    "        self.lambdas = None\n",
    "        self.original_first_value = None\n",
    "        \n",
    "    def remove_trend(self, series, method='diff'):\n",
    "        \"\"\"Removes trend using differencing (default) or decomposition (if enough data).\"\"\"\n",
    "        try:\n",
    "            if method == 'decomposition':\n",
    "                if len(series) < (2 * self.seasonal_period):  # Ensure enough data\n",
    "                    warnings.warn(f\"Skipping decomposition: Data is too short (min required: {2*self.seasonal_period}). Falling back to differencing.\")\n",
    "                    method = 'diff'  # Fallback to differencing\n",
    "            \n",
    "                else:\n",
    "                    decomposition = seasonal_decompose(series, period=self.seasonal_period)\n",
    "                    self.trend = decomposition.trend\n",
    "                    return series - decomposition.trend\n",
    "            \n",
    "            if method == 'diff':  # Default method\n",
    "                self.original_first_value = series[0]\n",
    "                return np.diff(series, prepend=series[0])\n",
    "        \n",
    "        except Exception as e:\n",
    "            warnings.warn(f\"Failed to remove trend: {e}\")\n",
    "            return series\n",
    "\n",
    "    def remove_seasonality(self, series):\n",
    "        \"\"\"Removes seasonality only if data is long enough to support it.\"\"\"\n",
    "        if len(series) < (2 * self.seasonal_period):  # Ensure enough data\n",
    "            warnings.warn(\"Skipping seasonality removal: Data is too short for a full seasonal cycle.\")\n",
    "            return series\n",
    "        \n",
    "        try:\n",
    "            decomposition = seasonal_decompose(series, period=self.seasonal_period)\n",
    "            self.seasonality = decomposition.seasonal\n",
    "            return series - decomposition.seasonal\n",
    "        except Exception as e:\n",
    "            warnings.warn(f\"Failed to remove seasonality: {e}\")\n",
    "            return series\n",
    "\n",
    "    def apply_boxcox(self, series, lambda_param=None):\n",
    "        \"\"\"Applies Box-Cox transformation (handles errors).\"\"\"\n",
    "        try:\n",
    "            if lambda_param is None:\n",
    "                self.lambda_param = stats.boxcox_normmax(series + 1)\n",
    "            else:\n",
    "                self.lambda_param = lambda_param\n",
    "            return boxcox1p(series, self.lambda_param), self.lambda_param\n",
    "        except Exception as e:\n",
    "            warnings.warn(f\"Failed to apply Box-Cox transformation: {e}\")\n",
    "            return series, -1\n",
    "\n",
    "    def apply_log(self, series):\n",
    "        \"\"\"Applies log transformation (skips if negative values exist).\"\"\"\n",
    "        try:\n",
    "            if (series <= 0).any():\n",
    "                warnings.warn(\"Skipping log transformation (negative values detected).\")\n",
    "                return series\n",
    "            return np.log(series)\n",
    "        except Exception as e:\n",
    "            warnings.warn(f\"Failed to apply log transformation: {e}\")\n",
    "            return series\n",
    "\n",
    "    def standardize(self, series):\n",
    "        \"\"\"Applies standardization (z-score normalization).\"\"\"\n",
    "        try:\n",
    "            self.mean = series.mean()\n",
    "            self.std = series.std()\n",
    "            return (series - self.mean) / self.std\n",
    "        except Exception as e:\n",
    "            warnings.warn(f\"Failed to standardize series: {e}\")\n",
    "            return series\n",
    "\n",
    "    def fit_transform(self, series, steps):\n",
    "        \"\"\"\n",
    "        Dynamically applies transformations based on provided steps.\n",
    "        \n",
    "        Args:\n",
    "        - series (np.array or pd.Series): Input time series data.\n",
    "        - steps (list): List of transformations to apply (e.g., ['trend', 'seasonality', 'boxcox', 'log', 'standardize']).\n",
    "        \n",
    "        Returns:\n",
    "        - Transformed series (np.array).\n",
    "        \"\"\"\n",
    "        transformed = series.copy()\n",
    "\n",
    "        for step in steps:\n",
    "            if step == 'trend':\n",
    "                transformed = self.remove_trend(transformed)\n",
    "            elif step == 'seasonality':\n",
    "                transformed = self.remove_seasonality(transformed)  # Only if data is long enough\n",
    "            elif step == 'boxcox':\n",
    "                transformed, _ = self.apply_boxcox(transformed)\n",
    "            elif step == 'log':\n",
    "                transformed = self.apply_log(transformed)\n",
    "            elif step == 'standardize':\n",
    "                transformed = self.standardize(transformed)\n",
    "        \n",
    "        return transformed\n",
    "\n",
    "    def inverse_transform_predictions(self, predictions):\n",
    "        \"\"\"\n",
    "        Inverses transformations in the correct order.\n",
    "        \n",
    "        Args:\n",
    "        - predictions (np.array): Transformed predictions.\n",
    "        \n",
    "        Returns:\n",
    "        - Original scale predictions.\n",
    "        \"\"\"\n",
    "        transformed = predictions.copy()\n",
    "\n",
    "        if 'standardize' in self.transforms:\n",
    "            transformed = (transformed * self.std) + self.mean\n",
    "\n",
    "        if 'log' in self.transforms:\n",
    "            transformed = np.exp(transformed)\n",
    "\n",
    "        if 'boxcox' in self.transforms:\n",
    "            if self.lambda_param != -1:\n",
    "                transformed = inv_boxcox1p(transformed, self.lambda_param)\n",
    "\n",
    "        if 'seasonality' in self.transforms and self.seasonality is not None:\n",
    "            start_idx = len(self.trend) % self.seasonal_period if self.trend is not None else 0\n",
    "            seasonal_indices = np.arange(start_idx, start_idx + len(predictions)) % self.seasonal_period\n",
    "            seasonal_pattern = self.seasonality[seasonal_indices]\n",
    "            transformed = transformed + seasonal_pattern\n",
    "\n",
    "        if 'trend' in self.transforms:\n",
    "            if hasattr(self, 'original_first_value'):\n",
    "                reversed_series = np.cumsum(transformed)\n",
    "                transformed = reversed_series + self.original_first_value\n",
    "            else:\n",
    "                warnings.warn(\"Trend removal used differencing, but original_first_value is not set. Skipping trend reversal.\")\n",
    "        \n",
    "        return transformed\n",
    "\n",
    "    def create_pipeline(self, series, steps):\n",
    "        \"\"\"\n",
    "        Generates all valid transformation pipelines.\n",
    "\n",
    "        Args:\n",
    "        - series (np.array): Time series data.\n",
    "        - steps (list): List of possible transformations.\n",
    "\n",
    "        Returns:\n",
    "        - dict with transformed series for each pipeline.\n",
    "        \"\"\"\n",
    "        import itertools\n",
    "\n",
    "        results = {'original': series.copy()}\n",
    "        self.lambdas = {}\n",
    "\n",
    "        for r in range(1, len(steps) + 1):\n",
    "            for combo in itertools.combinations(steps, r):\n",
    "                transformed = series.copy()\n",
    "                name = []\n",
    "\n",
    "                for step in combo:\n",
    "                    if step == 'trend':\n",
    "                        transformed = self.remove_trend(transformed)\n",
    "                        name.append('trend')\n",
    "                    elif step == 'seasonality':\n",
    "                        transformed = self.remove_seasonality(transformed)\n",
    "                        name.append('seasonality')\n",
    "                    elif step == 'boxcox':\n",
    "                        transformed, lambda_param = self.apply_boxcox(transformed)\n",
    "                        self.lambdas[\"_\".join(combo)] = lambda_param\n",
    "                        name.append('boxcox')\n",
    "                    elif step == 'log':\n",
    "                        transformed = self.apply_log(transformed)\n",
    "                        name.append('log')\n",
    "                    elif step == 'standardize':\n",
    "                        transformed = self.standardize(transformed)\n",
    "                        name.append('standardize')\n",
    "\n",
    "                    transformed = transformed[~np.isnan(transformed)]\n",
    "\n",
    "                results['_'.join(name)] = transformed\n",
    "                \n",
    "        return results\n"
   ]
  },
  {
   "cell_type": "code",
   "execution_count": 9,
   "metadata": {},
   "outputs": [],
   "source": [
    "from statsforecast import StatsForecast\n",
    "from statsforecast.models import (\n",
    "    AutoARIMA, AutoETS, AutoCES, AutoTheta, CrostonClassic, CrostonSBA,\n",
    "    AutoTBATS, SeasonalExponentialSmoothingOptimized, HoltWinters, Holt,\n",
    "    SeasonalWindowAverage, ADIDA, CrostonOptimized, IMAPA, TSB,\n",
    "    MSTL, MFLES, OptimizedTheta, DynamicOptimizedTheta, GARCH\n",
    ")\n",
    "models_dict = {\n",
    "    \"MSTL_abc_ARIMA\": MSTL(season_length=[7, 30, 365], trend_forecaster=AutoARIMA()),\n",
    "    \"MSTL_ac_ARIMA\": MSTL(season_length=[7, 365], trend_forecaster=AutoARIMA()),\n",
    "    \"MSTL_a_ARIMA\": MSTL(season_length=[7], trend_forecaster=AutoARIMA()),\n",
    "    \"MSTL_ac_MFLES1\": MSTL(season_length=[7, 365], trend_forecaster=MFLES(season_length=1)),\n",
    "    \"MSTL_ac_MFLES2\": MSTL(season_length=[7, 365], trend_forecaster=MFLES(season_length=1, fourier_order=3)),\n",
    "    \"MSTL_ac_MFLES3\": MSTL(season_length=[7, 365], trend_forecaster=MFLES(season_length=1, fourier_order=5)),\n",
    "}"
   ]
  },
  {
   "cell_type": "code",
   "execution_count": 14,
   "metadata": {},
   "outputs": [
    {
     "name": "stdout",
     "output_type": "stream",
     "text": [
      "Processing Sensor 2, Scenario: 26M_train\n"
     ]
    },
    {
     "name": "stderr",
     "output_type": "stream",
     "text": [
      "C:\\Users\\PC314\\AppData\\Local\\Temp\\ipykernel_17148\\2310296225.py:69: UserWarning: Failed to apply Box-Cox transformation: The `x` argument of `boxcox_normmax` must contain only positive, finite, real numbers.\n",
      "  warnings.warn(f\"Failed to apply Box-Cox transformation: {e}\")\n"
     ]
    },
    {
     "name": "stdout",
     "output_type": "stream",
     "text": [
      "Training on transformed version: original\n"
     ]
    },
    {
     "name": "stderr",
     "output_type": "stream",
     "text": [
      "C:\\Users\\PC314\\AppData\\Local\\Temp\\ipykernel_17148\\3122320333.py:50: SettingWithCopyWarning: \n",
      "A value is trying to be set on a copy of a slice from a DataFrame.\n",
      "Try using .loc[row_indexer,col_indexer] = value instead\n",
      "\n",
      "See the caveats in the documentation: https://pandas.pydata.org/pandas-docs/stable/user_guide/indexing.html#returning-a-view-versus-a-copy\n",
      "  train_df['y'] = series\n",
      "c:\\Users\\PC314\\anaconda3\\Lib\\site-packages\\statsforecast\\core.py:494: FutureWarning: In a future version the predictions will have the id as a column. You can set the `NIXTLA_ID_AS_COL` environment variable to adopt the new behavior and to suppress this warning.\n",
      "  warnings.warn(\n",
      "c:\\Users\\PC314\\anaconda3\\Lib\\site-packages\\statsforecast\\core.py:494: FutureWarning: In a future version the predictions will have the id as a column. You can set the `NIXTLA_ID_AS_COL` environment variable to adopt the new behavior and to suppress this warning.\n",
      "  warnings.warn(\n",
      "c:\\Users\\PC314\\anaconda3\\Lib\\site-packages\\statsforecast\\core.py:494: FutureWarning: In a future version the predictions will have the id as a column. You can set the `NIXTLA_ID_AS_COL` environment variable to adopt the new behavior and to suppress this warning.\n",
      "  warnings.warn(\n",
      "c:\\Users\\PC314\\anaconda3\\Lib\\site-packages\\statsforecast\\core.py:494: FutureWarning: In a future version the predictions will have the id as a column. You can set the `NIXTLA_ID_AS_COL` environment variable to adopt the new behavior and to suppress this warning.\n",
      "  warnings.warn(\n",
      "c:\\Users\\PC314\\anaconda3\\Lib\\site-packages\\statsforecast\\core.py:494: FutureWarning: In a future version the predictions will have the id as a column. You can set the `NIXTLA_ID_AS_COL` environment variable to adopt the new behavior and to suppress this warning.\n",
      "  warnings.warn(\n",
      "c:\\Users\\PC314\\anaconda3\\Lib\\site-packages\\statsforecast\\core.py:494: FutureWarning: In a future version the predictions will have the id as a column. You can set the `NIXTLA_ID_AS_COL` environment variable to adopt the new behavior and to suppress this warning.\n",
      "  warnings.warn(\n",
      "C:\\Users\\PC314\\AppData\\Local\\Temp\\ipykernel_17148\\3122320333.py:50: SettingWithCopyWarning: \n",
      "A value is trying to be set on a copy of a slice from a DataFrame.\n",
      "Try using .loc[row_indexer,col_indexer] = value instead\n",
      "\n",
      "See the caveats in the documentation: https://pandas.pydata.org/pandas-docs/stable/user_guide/indexing.html#returning-a-view-versus-a-copy\n",
      "  train_df['y'] = series\n"
     ]
    },
    {
     "name": "stdout",
     "output_type": "stream",
     "text": [
      "Best Model for original: MSTL_ac_MFLES2 (MAPE: 38.07%)\n",
      "Saving model 2_26M_train_original_MSTL_ac_MFLES2_8e5ff900\n",
      "Training on transformed version: log\n"
     ]
    },
    {
     "name": "stderr",
     "output_type": "stream",
     "text": [
      "c:\\Users\\PC314\\anaconda3\\Lib\\site-packages\\statsforecast\\core.py:494: FutureWarning: In a future version the predictions will have the id as a column. You can set the `NIXTLA_ID_AS_COL` environment variable to adopt the new behavior and to suppress this warning.\n",
      "  warnings.warn(\n",
      "c:\\Users\\PC314\\anaconda3\\Lib\\site-packages\\statsforecast\\core.py:494: FutureWarning: In a future version the predictions will have the id as a column. You can set the `NIXTLA_ID_AS_COL` environment variable to adopt the new behavior and to suppress this warning.\n",
      "  warnings.warn(\n",
      "c:\\Users\\PC314\\anaconda3\\Lib\\site-packages\\statsforecast\\core.py:494: FutureWarning: In a future version the predictions will have the id as a column. You can set the `NIXTLA_ID_AS_COL` environment variable to adopt the new behavior and to suppress this warning.\n",
      "  warnings.warn(\n",
      "c:\\Users\\PC314\\anaconda3\\Lib\\site-packages\\statsforecast\\mfles.py:301: RuntimeWarning: overflow encountered in scalar multiply\n",
      "  slope = (M * x_y_sum - x_sum * y_sum) / (M * x_sq_sum - x_sum**2)\n",
      "c:\\Users\\PC314\\anaconda3\\Lib\\site-packages\\statsforecast\\core.py:494: FutureWarning: In a future version the predictions will have the id as a column. You can set the `NIXTLA_ID_AS_COL` environment variable to adopt the new behavior and to suppress this warning.\n",
      "  warnings.warn(\n",
      "c:\\Users\\PC314\\anaconda3\\Lib\\site-packages\\statsforecast\\mfles.py:301: RuntimeWarning: overflow encountered in scalar multiply\n",
      "  slope = (M * x_y_sum - x_sum * y_sum) / (M * x_sq_sum - x_sum**2)\n",
      "c:\\Users\\PC314\\anaconda3\\Lib\\site-packages\\statsforecast\\core.py:494: FutureWarning: In a future version the predictions will have the id as a column. You can set the `NIXTLA_ID_AS_COL` environment variable to adopt the new behavior and to suppress this warning.\n",
      "  warnings.warn(\n",
      "c:\\Users\\PC314\\anaconda3\\Lib\\site-packages\\statsforecast\\mfles.py:301: RuntimeWarning: overflow encountered in scalar multiply\n",
      "  slope = (M * x_y_sum - x_sum * y_sum) / (M * x_sq_sum - x_sum**2)\n",
      "c:\\Users\\PC314\\anaconda3\\Lib\\site-packages\\statsforecast\\core.py:494: FutureWarning: In a future version the predictions will have the id as a column. You can set the `NIXTLA_ID_AS_COL` environment variable to adopt the new behavior and to suppress this warning.\n",
      "  warnings.warn(\n",
      "C:\\Users\\PC314\\AppData\\Local\\Temp\\ipykernel_17148\\3122320333.py:50: SettingWithCopyWarning: \n",
      "A value is trying to be set on a copy of a slice from a DataFrame.\n",
      "Try using .loc[row_indexer,col_indexer] = value instead\n",
      "\n",
      "See the caveats in the documentation: https://pandas.pydata.org/pandas-docs/stable/user_guide/indexing.html#returning-a-view-versus-a-copy\n",
      "  train_df['y'] = series\n"
     ]
    },
    {
     "name": "stdout",
     "output_type": "stream",
     "text": [
      "Best Model for log: MSTL_ac_MFLES1 (MAPE: 39.84%)\n",
      "Saving model 2_26M_train_log_MSTL_ac_MFLES1_94e4ce88\n",
      "Training on transformed version: trend\n"
     ]
    },
    {
     "name": "stderr",
     "output_type": "stream",
     "text": [
      "c:\\Users\\PC314\\anaconda3\\Lib\\site-packages\\statsforecast\\core.py:494: FutureWarning: In a future version the predictions will have the id as a column. You can set the `NIXTLA_ID_AS_COL` environment variable to adopt the new behavior and to suppress this warning.\n",
      "  warnings.warn(\n",
      "c:\\Users\\PC314\\anaconda3\\Lib\\site-packages\\statsforecast\\core.py:494: FutureWarning: In a future version the predictions will have the id as a column. You can set the `NIXTLA_ID_AS_COL` environment variable to adopt the new behavior and to suppress this warning.\n",
      "  warnings.warn(\n",
      "c:\\Users\\PC314\\anaconda3\\Lib\\site-packages\\statsforecast\\core.py:494: FutureWarning: In a future version the predictions will have the id as a column. You can set the `NIXTLA_ID_AS_COL` environment variable to adopt the new behavior and to suppress this warning.\n",
      "  warnings.warn(\n",
      "c:\\Users\\PC314\\anaconda3\\Lib\\site-packages\\statsforecast\\mfles.py:301: RuntimeWarning: overflow encountered in scalar multiply\n",
      "  slope = (M * x_y_sum - x_sum * y_sum) / (M * x_sq_sum - x_sum**2)\n",
      "c:\\Users\\PC314\\anaconda3\\Lib\\site-packages\\statsforecast\\core.py:494: FutureWarning: In a future version the predictions will have the id as a column. You can set the `NIXTLA_ID_AS_COL` environment variable to adopt the new behavior and to suppress this warning.\n",
      "  warnings.warn(\n",
      "c:\\Users\\PC314\\anaconda3\\Lib\\site-packages\\statsforecast\\mfles.py:301: RuntimeWarning: overflow encountered in scalar multiply\n",
      "  slope = (M * x_y_sum - x_sum * y_sum) / (M * x_sq_sum - x_sum**2)\n",
      "c:\\Users\\PC314\\anaconda3\\Lib\\site-packages\\statsforecast\\core.py:494: FutureWarning: In a future version the predictions will have the id as a column. You can set the `NIXTLA_ID_AS_COL` environment variable to adopt the new behavior and to suppress this warning.\n",
      "  warnings.warn(\n",
      "c:\\Users\\PC314\\anaconda3\\Lib\\site-packages\\statsforecast\\mfles.py:301: RuntimeWarning: overflow encountered in scalar multiply\n",
      "  slope = (M * x_y_sum - x_sum * y_sum) / (M * x_sq_sum - x_sum**2)\n",
      "c:\\Users\\PC314\\anaconda3\\Lib\\site-packages\\statsforecast\\core.py:494: FutureWarning: In a future version the predictions will have the id as a column. You can set the `NIXTLA_ID_AS_COL` environment variable to adopt the new behavior and to suppress this warning.\n",
      "  warnings.warn(\n",
      "C:\\Users\\PC314\\AppData\\Local\\Temp\\ipykernel_17148\\3122320333.py:50: SettingWithCopyWarning: \n",
      "A value is trying to be set on a copy of a slice from a DataFrame.\n",
      "Try using .loc[row_indexer,col_indexer] = value instead\n",
      "\n",
      "See the caveats in the documentation: https://pandas.pydata.org/pandas-docs/stable/user_guide/indexing.html#returning-a-view-versus-a-copy\n",
      "  train_df['y'] = series\n"
     ]
    },
    {
     "name": "stdout",
     "output_type": "stream",
     "text": [
      "Best Model for trend: MSTL_ac_ARIMA (MAPE: 46.81%)\n",
      "Saving model 2_26M_train_trend_MSTL_ac_ARIMA_8f9676db\n",
      "Training on transformed version: seasonality\n"
     ]
    },
    {
     "name": "stderr",
     "output_type": "stream",
     "text": [
      "c:\\Users\\PC314\\anaconda3\\Lib\\site-packages\\statsforecast\\core.py:494: FutureWarning: In a future version the predictions will have the id as a column. You can set the `NIXTLA_ID_AS_COL` environment variable to adopt the new behavior and to suppress this warning.\n",
      "  warnings.warn(\n",
      "c:\\Users\\PC314\\anaconda3\\Lib\\site-packages\\statsforecast\\core.py:494: FutureWarning: In a future version the predictions will have the id as a column. You can set the `NIXTLA_ID_AS_COL` environment variable to adopt the new behavior and to suppress this warning.\n",
      "  warnings.warn(\n",
      "c:\\Users\\PC314\\anaconda3\\Lib\\site-packages\\statsforecast\\core.py:494: FutureWarning: In a future version the predictions will have the id as a column. You can set the `NIXTLA_ID_AS_COL` environment variable to adopt the new behavior and to suppress this warning.\n",
      "  warnings.warn(\n",
      "c:\\Users\\PC314\\anaconda3\\Lib\\site-packages\\statsforecast\\core.py:494: FutureWarning: In a future version the predictions will have the id as a column. You can set the `NIXTLA_ID_AS_COL` environment variable to adopt the new behavior and to suppress this warning.\n",
      "  warnings.warn(\n",
      "c:\\Users\\PC314\\anaconda3\\Lib\\site-packages\\statsforecast\\core.py:494: FutureWarning: In a future version the predictions will have the id as a column. You can set the `NIXTLA_ID_AS_COL` environment variable to adopt the new behavior and to suppress this warning.\n",
      "  warnings.warn(\n",
      "c:\\Users\\PC314\\anaconda3\\Lib\\site-packages\\statsforecast\\core.py:494: FutureWarning: In a future version the predictions will have the id as a column. You can set the `NIXTLA_ID_AS_COL` environment variable to adopt the new behavior and to suppress this warning.\n",
      "  warnings.warn(\n",
      "C:\\Users\\PC314\\AppData\\Local\\Temp\\ipykernel_17148\\3122320333.py:50: SettingWithCopyWarning: \n",
      "A value is trying to be set on a copy of a slice from a DataFrame.\n",
      "Try using .loc[row_indexer,col_indexer] = value instead\n",
      "\n",
      "See the caveats in the documentation: https://pandas.pydata.org/pandas-docs/stable/user_guide/indexing.html#returning-a-view-versus-a-copy\n",
      "  train_df['y'] = series\n"
     ]
    },
    {
     "name": "stdout",
     "output_type": "stream",
     "text": [
      "Best Model for seasonality: MSTL_ac_MFLES1 (MAPE: 104.54%)\n",
      "Training on transformed version: boxcox\n"
     ]
    },
    {
     "name": "stderr",
     "output_type": "stream",
     "text": [
      "c:\\Users\\PC314\\anaconda3\\Lib\\site-packages\\statsforecast\\core.py:494: FutureWarning: In a future version the predictions will have the id as a column. You can set the `NIXTLA_ID_AS_COL` environment variable to adopt the new behavior and to suppress this warning.\n",
      "  warnings.warn(\n",
      "c:\\Users\\PC314\\anaconda3\\Lib\\site-packages\\statsforecast\\core.py:494: FutureWarning: In a future version the predictions will have the id as a column. You can set the `NIXTLA_ID_AS_COL` environment variable to adopt the new behavior and to suppress this warning.\n",
      "  warnings.warn(\n",
      "c:\\Users\\PC314\\anaconda3\\Lib\\site-packages\\statsforecast\\core.py:494: FutureWarning: In a future version the predictions will have the id as a column. You can set the `NIXTLA_ID_AS_COL` environment variable to adopt the new behavior and to suppress this warning.\n",
      "  warnings.warn(\n",
      "c:\\Users\\PC314\\anaconda3\\Lib\\site-packages\\statsforecast\\mfles.py:301: RuntimeWarning: overflow encountered in scalar multiply\n",
      "  slope = (M * x_y_sum - x_sum * y_sum) / (M * x_sq_sum - x_sum**2)\n",
      "c:\\Users\\PC314\\anaconda3\\Lib\\site-packages\\statsforecast\\core.py:494: FutureWarning: In a future version the predictions will have the id as a column. You can set the `NIXTLA_ID_AS_COL` environment variable to adopt the new behavior and to suppress this warning.\n",
      "  warnings.warn(\n",
      "c:\\Users\\PC314\\anaconda3\\Lib\\site-packages\\statsforecast\\mfles.py:301: RuntimeWarning: overflow encountered in scalar multiply\n",
      "  slope = (M * x_y_sum - x_sum * y_sum) / (M * x_sq_sum - x_sum**2)\n",
      "c:\\Users\\PC314\\anaconda3\\Lib\\site-packages\\statsforecast\\core.py:494: FutureWarning: In a future version the predictions will have the id as a column. You can set the `NIXTLA_ID_AS_COL` environment variable to adopt the new behavior and to suppress this warning.\n",
      "  warnings.warn(\n",
      "c:\\Users\\PC314\\anaconda3\\Lib\\site-packages\\statsforecast\\mfles.py:301: RuntimeWarning: overflow encountered in scalar multiply\n",
      "  slope = (M * x_y_sum - x_sum * y_sum) / (M * x_sq_sum - x_sum**2)\n",
      "c:\\Users\\PC314\\anaconda3\\Lib\\site-packages\\statsforecast\\core.py:494: FutureWarning: In a future version the predictions will have the id as a column. You can set the `NIXTLA_ID_AS_COL` environment variable to adopt the new behavior and to suppress this warning.\n",
      "  warnings.warn(\n",
      "C:\\Users\\PC314\\AppData\\Local\\Temp\\ipykernel_17148\\3122320333.py:50: SettingWithCopyWarning: \n",
      "A value is trying to be set on a copy of a slice from a DataFrame.\n",
      "Try using .loc[row_indexer,col_indexer] = value instead\n",
      "\n",
      "See the caveats in the documentation: https://pandas.pydata.org/pandas-docs/stable/user_guide/indexing.html#returning-a-view-versus-a-copy\n",
      "  train_df['y'] = series\n"
     ]
    },
    {
     "name": "stdout",
     "output_type": "stream",
     "text": [
      "Best Model for boxcox: MSTL_ac_MFLES1 (MAPE: 41.92%)\n",
      "Saving model 2_26M_train_boxcox_MSTL_ac_MFLES1_4582d69a\n",
      "Training on transformed version: standardize\n"
     ]
    },
    {
     "name": "stderr",
     "output_type": "stream",
     "text": [
      "c:\\Users\\PC314\\anaconda3\\Lib\\site-packages\\statsforecast\\core.py:494: FutureWarning: In a future version the predictions will have the id as a column. You can set the `NIXTLA_ID_AS_COL` environment variable to adopt the new behavior and to suppress this warning.\n",
      "  warnings.warn(\n",
      "c:\\Users\\PC314\\anaconda3\\Lib\\site-packages\\statsforecast\\core.py:494: FutureWarning: In a future version the predictions will have the id as a column. You can set the `NIXTLA_ID_AS_COL` environment variable to adopt the new behavior and to suppress this warning.\n",
      "  warnings.warn(\n",
      "c:\\Users\\PC314\\anaconda3\\Lib\\site-packages\\statsforecast\\core.py:494: FutureWarning: In a future version the predictions will have the id as a column. You can set the `NIXTLA_ID_AS_COL` environment variable to adopt the new behavior and to suppress this warning.\n",
      "  warnings.warn(\n",
      "c:\\Users\\PC314\\anaconda3\\Lib\\site-packages\\statsforecast\\core.py:494: FutureWarning: In a future version the predictions will have the id as a column. You can set the `NIXTLA_ID_AS_COL` environment variable to adopt the new behavior and to suppress this warning.\n",
      "  warnings.warn(\n",
      "c:\\Users\\PC314\\anaconda3\\Lib\\site-packages\\statsforecast\\core.py:494: FutureWarning: In a future version the predictions will have the id as a column. You can set the `NIXTLA_ID_AS_COL` environment variable to adopt the new behavior and to suppress this warning.\n",
      "  warnings.warn(\n",
      "c:\\Users\\PC314\\anaconda3\\Lib\\site-packages\\statsforecast\\core.py:494: FutureWarning: In a future version the predictions will have the id as a column. You can set the `NIXTLA_ID_AS_COL` environment variable to adopt the new behavior and to suppress this warning.\n",
      "  warnings.warn(\n",
      "C:\\Users\\PC314\\AppData\\Local\\Temp\\ipykernel_17148\\3122320333.py:50: SettingWithCopyWarning: \n",
      "A value is trying to be set on a copy of a slice from a DataFrame.\n",
      "Try using .loc[row_indexer,col_indexer] = value instead\n",
      "\n",
      "See the caveats in the documentation: https://pandas.pydata.org/pandas-docs/stable/user_guide/indexing.html#returning-a-view-versus-a-copy\n",
      "  train_df['y'] = series\n"
     ]
    },
    {
     "name": "stdout",
     "output_type": "stream",
     "text": [
      "Best Model for standardize: MSTL_abc_ARIMA (MAPE: 100.30%)\n",
      "Training on transformed version: log_trend\n"
     ]
    },
    {
     "name": "stderr",
     "output_type": "stream",
     "text": [
      "c:\\Users\\PC314\\anaconda3\\Lib\\site-packages\\statsforecast\\core.py:494: FutureWarning: In a future version the predictions will have the id as a column. You can set the `NIXTLA_ID_AS_COL` environment variable to adopt the new behavior and to suppress this warning.\n",
      "  warnings.warn(\n",
      "c:\\Users\\PC314\\anaconda3\\Lib\\site-packages\\statsforecast\\core.py:494: FutureWarning: In a future version the predictions will have the id as a column. You can set the `NIXTLA_ID_AS_COL` environment variable to adopt the new behavior and to suppress this warning.\n",
      "  warnings.warn(\n",
      "c:\\Users\\PC314\\anaconda3\\Lib\\site-packages\\statsforecast\\core.py:494: FutureWarning: In a future version the predictions will have the id as a column. You can set the `NIXTLA_ID_AS_COL` environment variable to adopt the new behavior and to suppress this warning.\n",
      "  warnings.warn(\n",
      "c:\\Users\\PC314\\anaconda3\\Lib\\site-packages\\statsforecast\\mfles.py:301: RuntimeWarning: overflow encountered in scalar multiply\n",
      "  slope = (M * x_y_sum - x_sum * y_sum) / (M * x_sq_sum - x_sum**2)\n",
      "c:\\Users\\PC314\\anaconda3\\Lib\\site-packages\\statsforecast\\core.py:494: FutureWarning: In a future version the predictions will have the id as a column. You can set the `NIXTLA_ID_AS_COL` environment variable to adopt the new behavior and to suppress this warning.\n",
      "  warnings.warn(\n",
      "c:\\Users\\PC314\\anaconda3\\Lib\\site-packages\\statsforecast\\mfles.py:301: RuntimeWarning: overflow encountered in scalar multiply\n",
      "  slope = (M * x_y_sum - x_sum * y_sum) / (M * x_sq_sum - x_sum**2)\n",
      "c:\\Users\\PC314\\anaconda3\\Lib\\site-packages\\statsforecast\\core.py:494: FutureWarning: In a future version the predictions will have the id as a column. You can set the `NIXTLA_ID_AS_COL` environment variable to adopt the new behavior and to suppress this warning.\n",
      "  warnings.warn(\n",
      "c:\\Users\\PC314\\anaconda3\\Lib\\site-packages\\statsforecast\\mfles.py:301: RuntimeWarning: overflow encountered in scalar multiply\n",
      "  slope = (M * x_y_sum - x_sum * y_sum) / (M * x_sq_sum - x_sum**2)\n",
      "c:\\Users\\PC314\\anaconda3\\Lib\\site-packages\\statsforecast\\core.py:494: FutureWarning: In a future version the predictions will have the id as a column. You can set the `NIXTLA_ID_AS_COL` environment variable to adopt the new behavior and to suppress this warning.\n",
      "  warnings.warn(\n",
      "C:\\Users\\PC314\\AppData\\Local\\Temp\\ipykernel_17148\\3122320333.py:50: SettingWithCopyWarning: \n",
      "A value is trying to be set on a copy of a slice from a DataFrame.\n",
      "Try using .loc[row_indexer,col_indexer] = value instead\n",
      "\n",
      "See the caveats in the documentation: https://pandas.pydata.org/pandas-docs/stable/user_guide/indexing.html#returning-a-view-versus-a-copy\n",
      "  train_df['y'] = series\n"
     ]
    },
    {
     "name": "stdout",
     "output_type": "stream",
     "text": [
      "Best Model for log_trend: MSTL_ac_MFLES1 (MAPE: 805.74%)\n",
      "Training on transformed version: log_seasonality\n"
     ]
    },
    {
     "name": "stderr",
     "output_type": "stream",
     "text": [
      "c:\\Users\\PC314\\anaconda3\\Lib\\site-packages\\statsforecast\\core.py:494: FutureWarning: In a future version the predictions will have the id as a column. You can set the `NIXTLA_ID_AS_COL` environment variable to adopt the new behavior and to suppress this warning.\n",
      "  warnings.warn(\n",
      "c:\\Users\\PC314\\anaconda3\\Lib\\site-packages\\statsforecast\\core.py:494: FutureWarning: In a future version the predictions will have the id as a column. You can set the `NIXTLA_ID_AS_COL` environment variable to adopt the new behavior and to suppress this warning.\n",
      "  warnings.warn(\n",
      "c:\\Users\\PC314\\anaconda3\\Lib\\site-packages\\statsforecast\\core.py:494: FutureWarning: In a future version the predictions will have the id as a column. You can set the `NIXTLA_ID_AS_COL` environment variable to adopt the new behavior and to suppress this warning.\n",
      "  warnings.warn(\n",
      "c:\\Users\\PC314\\anaconda3\\Lib\\site-packages\\statsforecast\\mfles.py:301: RuntimeWarning: overflow encountered in scalar multiply\n",
      "  slope = (M * x_y_sum - x_sum * y_sum) / (M * x_sq_sum - x_sum**2)\n",
      "c:\\Users\\PC314\\anaconda3\\Lib\\site-packages\\statsforecast\\core.py:494: FutureWarning: In a future version the predictions will have the id as a column. You can set the `NIXTLA_ID_AS_COL` environment variable to adopt the new behavior and to suppress this warning.\n",
      "  warnings.warn(\n",
      "c:\\Users\\PC314\\anaconda3\\Lib\\site-packages\\statsforecast\\mfles.py:301: RuntimeWarning: overflow encountered in scalar multiply\n",
      "  slope = (M * x_y_sum - x_sum * y_sum) / (M * x_sq_sum - x_sum**2)\n",
      "c:\\Users\\PC314\\anaconda3\\Lib\\site-packages\\statsforecast\\core.py:494: FutureWarning: In a future version the predictions will have the id as a column. You can set the `NIXTLA_ID_AS_COL` environment variable to adopt the new behavior and to suppress this warning.\n",
      "  warnings.warn(\n",
      "c:\\Users\\PC314\\anaconda3\\Lib\\site-packages\\statsforecast\\mfles.py:301: RuntimeWarning: overflow encountered in scalar multiply\n",
      "  slope = (M * x_y_sum - x_sum * y_sum) / (M * x_sq_sum - x_sum**2)\n",
      "c:\\Users\\PC314\\anaconda3\\Lib\\site-packages\\statsforecast\\core.py:494: FutureWarning: In a future version the predictions will have the id as a column. You can set the `NIXTLA_ID_AS_COL` environment variable to adopt the new behavior and to suppress this warning.\n",
      "  warnings.warn(\n",
      "C:\\Users\\PC314\\AppData\\Local\\Temp\\ipykernel_17148\\3122320333.py:50: SettingWithCopyWarning: \n",
      "A value is trying to be set on a copy of a slice from a DataFrame.\n",
      "Try using .loc[row_indexer,col_indexer] = value instead\n",
      "\n",
      "See the caveats in the documentation: https://pandas.pydata.org/pandas-docs/stable/user_guide/indexing.html#returning-a-view-versus-a-copy\n",
      "  train_df['y'] = series\n"
     ]
    },
    {
     "name": "stdout",
     "output_type": "stream",
     "text": [
      "Best Model for log_seasonality: MSTL_ac_MFLES1 (MAPE: 79.59%)\n",
      "Training on transformed version: log_boxcox\n"
     ]
    },
    {
     "name": "stderr",
     "output_type": "stream",
     "text": [
      "c:\\Users\\PC314\\anaconda3\\Lib\\site-packages\\statsforecast\\core.py:494: FutureWarning: In a future version the predictions will have the id as a column. You can set the `NIXTLA_ID_AS_COL` environment variable to adopt the new behavior and to suppress this warning.\n",
      "  warnings.warn(\n",
      "c:\\Users\\PC314\\anaconda3\\Lib\\site-packages\\statsforecast\\core.py:494: FutureWarning: In a future version the predictions will have the id as a column. You can set the `NIXTLA_ID_AS_COL` environment variable to adopt the new behavior and to suppress this warning.\n",
      "  warnings.warn(\n",
      "c:\\Users\\PC314\\anaconda3\\Lib\\site-packages\\statsforecast\\core.py:494: FutureWarning: In a future version the predictions will have the id as a column. You can set the `NIXTLA_ID_AS_COL` environment variable to adopt the new behavior and to suppress this warning.\n",
      "  warnings.warn(\n",
      "c:\\Users\\PC314\\anaconda3\\Lib\\site-packages\\statsforecast\\mfles.py:301: RuntimeWarning: overflow encountered in scalar multiply\n",
      "  slope = (M * x_y_sum - x_sum * y_sum) / (M * x_sq_sum - x_sum**2)\n",
      "c:\\Users\\PC314\\anaconda3\\Lib\\site-packages\\statsforecast\\core.py:494: FutureWarning: In a future version the predictions will have the id as a column. You can set the `NIXTLA_ID_AS_COL` environment variable to adopt the new behavior and to suppress this warning.\n",
      "  warnings.warn(\n",
      "c:\\Users\\PC314\\anaconda3\\Lib\\site-packages\\statsforecast\\mfles.py:301: RuntimeWarning: overflow encountered in scalar multiply\n",
      "  slope = (M * x_y_sum - x_sum * y_sum) / (M * x_sq_sum - x_sum**2)\n",
      "c:\\Users\\PC314\\anaconda3\\Lib\\site-packages\\statsforecast\\core.py:494: FutureWarning: In a future version the predictions will have the id as a column. You can set the `NIXTLA_ID_AS_COL` environment variable to adopt the new behavior and to suppress this warning.\n",
      "  warnings.warn(\n",
      "c:\\Users\\PC314\\anaconda3\\Lib\\site-packages\\statsforecast\\mfles.py:301: RuntimeWarning: overflow encountered in scalar multiply\n",
      "  slope = (M * x_y_sum - x_sum * y_sum) / (M * x_sq_sum - x_sum**2)\n",
      "c:\\Users\\PC314\\anaconda3\\Lib\\site-packages\\statsforecast\\core.py:494: FutureWarning: In a future version the predictions will have the id as a column. You can set the `NIXTLA_ID_AS_COL` environment variable to adopt the new behavior and to suppress this warning.\n",
      "  warnings.warn(\n",
      "C:\\Users\\PC314\\AppData\\Local\\Temp\\ipykernel_17148\\3122320333.py:50: SettingWithCopyWarning: \n",
      "A value is trying to be set on a copy of a slice from a DataFrame.\n",
      "Try using .loc[row_indexer,col_indexer] = value instead\n",
      "\n",
      "See the caveats in the documentation: https://pandas.pydata.org/pandas-docs/stable/user_guide/indexing.html#returning-a-view-versus-a-copy\n",
      "  train_df['y'] = series\n"
     ]
    },
    {
     "name": "stdout",
     "output_type": "stream",
     "text": [
      "Best Model for log_boxcox: MSTL_a_ARIMA (MAPE: 273.97%)\n",
      "Training on transformed version: log_standardize\n"
     ]
    },
    {
     "name": "stderr",
     "output_type": "stream",
     "text": [
      "c:\\Users\\PC314\\anaconda3\\Lib\\site-packages\\statsforecast\\core.py:494: FutureWarning: In a future version the predictions will have the id as a column. You can set the `NIXTLA_ID_AS_COL` environment variable to adopt the new behavior and to suppress this warning.\n",
      "  warnings.warn(\n",
      "c:\\Users\\PC314\\anaconda3\\Lib\\site-packages\\statsforecast\\core.py:494: FutureWarning: In a future version the predictions will have the id as a column. You can set the `NIXTLA_ID_AS_COL` environment variable to adopt the new behavior and to suppress this warning.\n",
      "  warnings.warn(\n",
      "c:\\Users\\PC314\\anaconda3\\Lib\\site-packages\\statsforecast\\core.py:494: FutureWarning: In a future version the predictions will have the id as a column. You can set the `NIXTLA_ID_AS_COL` environment variable to adopt the new behavior and to suppress this warning.\n",
      "  warnings.warn(\n",
      "c:\\Users\\PC314\\anaconda3\\Lib\\site-packages\\statsforecast\\mfles.py:301: RuntimeWarning: overflow encountered in scalar multiply\n",
      "  slope = (M * x_y_sum - x_sum * y_sum) / (M * x_sq_sum - x_sum**2)\n",
      "c:\\Users\\PC314\\anaconda3\\Lib\\site-packages\\statsforecast\\core.py:494: FutureWarning: In a future version the predictions will have the id as a column. You can set the `NIXTLA_ID_AS_COL` environment variable to adopt the new behavior and to suppress this warning.\n",
      "  warnings.warn(\n",
      "c:\\Users\\PC314\\anaconda3\\Lib\\site-packages\\statsforecast\\mfles.py:301: RuntimeWarning: overflow encountered in scalar multiply\n",
      "  slope = (M * x_y_sum - x_sum * y_sum) / (M * x_sq_sum - x_sum**2)\n",
      "c:\\Users\\PC314\\anaconda3\\Lib\\site-packages\\statsforecast\\core.py:494: FutureWarning: In a future version the predictions will have the id as a column. You can set the `NIXTLA_ID_AS_COL` environment variable to adopt the new behavior and to suppress this warning.\n",
      "  warnings.warn(\n",
      "c:\\Users\\PC314\\anaconda3\\Lib\\site-packages\\statsforecast\\mfles.py:301: RuntimeWarning: overflow encountered in scalar multiply\n",
      "  slope = (M * x_y_sum - x_sum * y_sum) / (M * x_sq_sum - x_sum**2)\n",
      "c:\\Users\\PC314\\anaconda3\\Lib\\site-packages\\statsforecast\\core.py:494: FutureWarning: In a future version the predictions will have the id as a column. You can set the `NIXTLA_ID_AS_COL` environment variable to adopt the new behavior and to suppress this warning.\n",
      "  warnings.warn(\n",
      "C:\\Users\\PC314\\AppData\\Local\\Temp\\ipykernel_17148\\3122320333.py:50: SettingWithCopyWarning: \n",
      "A value is trying to be set on a copy of a slice from a DataFrame.\n",
      "Try using .loc[row_indexer,col_indexer] = value instead\n",
      "\n",
      "See the caveats in the documentation: https://pandas.pydata.org/pandas-docs/stable/user_guide/indexing.html#returning-a-view-versus-a-copy\n",
      "  train_df['y'] = series\n"
     ]
    },
    {
     "name": "stdout",
     "output_type": "stream",
     "text": [
      "Best Model for log_standardize: MSTL_abc_ARIMA (MAPE: 96.41%)\n",
      "Training on transformed version: trend_seasonality\n"
     ]
    },
    {
     "name": "stderr",
     "output_type": "stream",
     "text": [
      "c:\\Users\\PC314\\anaconda3\\Lib\\site-packages\\statsforecast\\core.py:494: FutureWarning: In a future version the predictions will have the id as a column. You can set the `NIXTLA_ID_AS_COL` environment variable to adopt the new behavior and to suppress this warning.\n",
      "  warnings.warn(\n",
      "c:\\Users\\PC314\\anaconda3\\Lib\\site-packages\\statsforecast\\core.py:494: FutureWarning: In a future version the predictions will have the id as a column. You can set the `NIXTLA_ID_AS_COL` environment variable to adopt the new behavior and to suppress this warning.\n",
      "  warnings.warn(\n",
      "c:\\Users\\PC314\\anaconda3\\Lib\\site-packages\\statsforecast\\core.py:494: FutureWarning: In a future version the predictions will have the id as a column. You can set the `NIXTLA_ID_AS_COL` environment variable to adopt the new behavior and to suppress this warning.\n",
      "  warnings.warn(\n",
      "c:\\Users\\PC314\\anaconda3\\Lib\\site-packages\\statsforecast\\core.py:494: FutureWarning: In a future version the predictions will have the id as a column. You can set the `NIXTLA_ID_AS_COL` environment variable to adopt the new behavior and to suppress this warning.\n",
      "  warnings.warn(\n",
      "c:\\Users\\PC314\\anaconda3\\Lib\\site-packages\\statsforecast\\core.py:494: FutureWarning: In a future version the predictions will have the id as a column. You can set the `NIXTLA_ID_AS_COL` environment variable to adopt the new behavior and to suppress this warning.\n",
      "  warnings.warn(\n",
      "c:\\Users\\PC314\\anaconda3\\Lib\\site-packages\\statsforecast\\core.py:494: FutureWarning: In a future version the predictions will have the id as a column. You can set the `NIXTLA_ID_AS_COL` environment variable to adopt the new behavior and to suppress this warning.\n",
      "  warnings.warn(\n",
      "C:\\Users\\PC314\\AppData\\Local\\Temp\\ipykernel_17148\\3122320333.py:50: SettingWithCopyWarning: \n",
      "A value is trying to be set on a copy of a slice from a DataFrame.\n",
      "Try using .loc[row_indexer,col_indexer] = value instead\n",
      "\n",
      "See the caveats in the documentation: https://pandas.pydata.org/pandas-docs/stable/user_guide/indexing.html#returning-a-view-versus-a-copy\n",
      "  train_df['y'] = series\n"
     ]
    },
    {
     "name": "stdout",
     "output_type": "stream",
     "text": [
      "Best Model for trend_seasonality: MSTL_a_ARIMA (MAPE: 61.28%)\n",
      "Training on transformed version: trend_boxcox\n"
     ]
    },
    {
     "name": "stderr",
     "output_type": "stream",
     "text": [
      "c:\\Users\\PC314\\anaconda3\\Lib\\site-packages\\statsforecast\\core.py:494: FutureWarning: In a future version the predictions will have the id as a column. You can set the `NIXTLA_ID_AS_COL` environment variable to adopt the new behavior and to suppress this warning.\n",
      "  warnings.warn(\n",
      "c:\\Users\\PC314\\anaconda3\\Lib\\site-packages\\statsforecast\\core.py:494: FutureWarning: In a future version the predictions will have the id as a column. You can set the `NIXTLA_ID_AS_COL` environment variable to adopt the new behavior and to suppress this warning.\n",
      "  warnings.warn(\n",
      "c:\\Users\\PC314\\anaconda3\\Lib\\site-packages\\statsforecast\\core.py:494: FutureWarning: In a future version the predictions will have the id as a column. You can set the `NIXTLA_ID_AS_COL` environment variable to adopt the new behavior and to suppress this warning.\n",
      "  warnings.warn(\n",
      "c:\\Users\\PC314\\anaconda3\\Lib\\site-packages\\statsforecast\\mfles.py:301: RuntimeWarning: overflow encountered in scalar multiply\n",
      "  slope = (M * x_y_sum - x_sum * y_sum) / (M * x_sq_sum - x_sum**2)\n",
      "c:\\Users\\PC314\\anaconda3\\Lib\\site-packages\\statsforecast\\core.py:494: FutureWarning: In a future version the predictions will have the id as a column. You can set the `NIXTLA_ID_AS_COL` environment variable to adopt the new behavior and to suppress this warning.\n",
      "  warnings.warn(\n",
      "c:\\Users\\PC314\\anaconda3\\Lib\\site-packages\\statsforecast\\mfles.py:301: RuntimeWarning: overflow encountered in scalar multiply\n",
      "  slope = (M * x_y_sum - x_sum * y_sum) / (M * x_sq_sum - x_sum**2)\n",
      "c:\\Users\\PC314\\anaconda3\\Lib\\site-packages\\statsforecast\\core.py:494: FutureWarning: In a future version the predictions will have the id as a column. You can set the `NIXTLA_ID_AS_COL` environment variable to adopt the new behavior and to suppress this warning.\n",
      "  warnings.warn(\n",
      "c:\\Users\\PC314\\anaconda3\\Lib\\site-packages\\statsforecast\\mfles.py:301: RuntimeWarning: overflow encountered in scalar multiply\n",
      "  slope = (M * x_y_sum - x_sum * y_sum) / (M * x_sq_sum - x_sum**2)\n",
      "c:\\Users\\PC314\\anaconda3\\Lib\\site-packages\\statsforecast\\core.py:494: FutureWarning: In a future version the predictions will have the id as a column. You can set the `NIXTLA_ID_AS_COL` environment variable to adopt the new behavior and to suppress this warning.\n",
      "  warnings.warn(\n",
      "C:\\Users\\PC314\\AppData\\Local\\Temp\\ipykernel_17148\\3122320333.py:50: SettingWithCopyWarning: \n",
      "A value is trying to be set on a copy of a slice from a DataFrame.\n",
      "Try using .loc[row_indexer,col_indexer] = value instead\n",
      "\n",
      "See the caveats in the documentation: https://pandas.pydata.org/pandas-docs/stable/user_guide/indexing.html#returning-a-view-versus-a-copy\n",
      "  train_df['y'] = series\n"
     ]
    },
    {
     "name": "stdout",
     "output_type": "stream",
     "text": [
      "Best Model for trend_boxcox: MSTL_ac_ARIMA (MAPE: 46.81%)\n",
      "Saving model 2_26M_train_trend_boxcox_MSTL_ac_ARIMA_00ca77ac\n",
      "Training on transformed version: trend_standardize\n"
     ]
    },
    {
     "name": "stderr",
     "output_type": "stream",
     "text": [
      "c:\\Users\\PC314\\anaconda3\\Lib\\site-packages\\statsforecast\\core.py:494: FutureWarning: In a future version the predictions will have the id as a column. You can set the `NIXTLA_ID_AS_COL` environment variable to adopt the new behavior and to suppress this warning.\n",
      "  warnings.warn(\n",
      "c:\\Users\\PC314\\anaconda3\\Lib\\site-packages\\statsforecast\\core.py:494: FutureWarning: In a future version the predictions will have the id as a column. You can set the `NIXTLA_ID_AS_COL` environment variable to adopt the new behavior and to suppress this warning.\n",
      "  warnings.warn(\n",
      "c:\\Users\\PC314\\anaconda3\\Lib\\site-packages\\statsforecast\\core.py:494: FutureWarning: In a future version the predictions will have the id as a column. You can set the `NIXTLA_ID_AS_COL` environment variable to adopt the new behavior and to suppress this warning.\n",
      "  warnings.warn(\n",
      "c:\\Users\\PC314\\anaconda3\\Lib\\site-packages\\statsforecast\\mfles.py:301: RuntimeWarning: overflow encountered in scalar multiply\n",
      "  slope = (M * x_y_sum - x_sum * y_sum) / (M * x_sq_sum - x_sum**2)\n",
      "c:\\Users\\PC314\\anaconda3\\Lib\\site-packages\\statsforecast\\core.py:494: FutureWarning: In a future version the predictions will have the id as a column. You can set the `NIXTLA_ID_AS_COL` environment variable to adopt the new behavior and to suppress this warning.\n",
      "  warnings.warn(\n",
      "c:\\Users\\PC314\\anaconda3\\Lib\\site-packages\\statsforecast\\mfles.py:301: RuntimeWarning: overflow encountered in scalar multiply\n",
      "  slope = (M * x_y_sum - x_sum * y_sum) / (M * x_sq_sum - x_sum**2)\n",
      "c:\\Users\\PC314\\anaconda3\\Lib\\site-packages\\statsforecast\\core.py:494: FutureWarning: In a future version the predictions will have the id as a column. You can set the `NIXTLA_ID_AS_COL` environment variable to adopt the new behavior and to suppress this warning.\n",
      "  warnings.warn(\n",
      "c:\\Users\\PC314\\anaconda3\\Lib\\site-packages\\statsforecast\\mfles.py:301: RuntimeWarning: overflow encountered in scalar multiply\n",
      "  slope = (M * x_y_sum - x_sum * y_sum) / (M * x_sq_sum - x_sum**2)\n",
      "c:\\Users\\PC314\\anaconda3\\Lib\\site-packages\\statsforecast\\core.py:494: FutureWarning: In a future version the predictions will have the id as a column. You can set the `NIXTLA_ID_AS_COL` environment variable to adopt the new behavior and to suppress this warning.\n",
      "  warnings.warn(\n",
      "C:\\Users\\PC314\\AppData\\Local\\Temp\\ipykernel_17148\\3122320333.py:50: SettingWithCopyWarning: \n",
      "A value is trying to be set on a copy of a slice from a DataFrame.\n",
      "Try using .loc[row_indexer,col_indexer] = value instead\n",
      "\n",
      "See the caveats in the documentation: https://pandas.pydata.org/pandas-docs/stable/user_guide/indexing.html#returning-a-view-versus-a-copy\n",
      "  train_df['y'] = series\n"
     ]
    },
    {
     "name": "stdout",
     "output_type": "stream",
     "text": [
      "Best Model for trend_standardize: MSTL_abc_ARIMA (MAPE: 85.25%)\n",
      "Training on transformed version: seasonality_boxcox\n"
     ]
    },
    {
     "name": "stderr",
     "output_type": "stream",
     "text": [
      "c:\\Users\\PC314\\anaconda3\\Lib\\site-packages\\statsforecast\\core.py:494: FutureWarning: In a future version the predictions will have the id as a column. You can set the `NIXTLA_ID_AS_COL` environment variable to adopt the new behavior and to suppress this warning.\n",
      "  warnings.warn(\n",
      "c:\\Users\\PC314\\anaconda3\\Lib\\site-packages\\statsforecast\\core.py:494: FutureWarning: In a future version the predictions will have the id as a column. You can set the `NIXTLA_ID_AS_COL` environment variable to adopt the new behavior and to suppress this warning.\n",
      "  warnings.warn(\n",
      "c:\\Users\\PC314\\anaconda3\\Lib\\site-packages\\statsforecast\\core.py:494: FutureWarning: In a future version the predictions will have the id as a column. You can set the `NIXTLA_ID_AS_COL` environment variable to adopt the new behavior and to suppress this warning.\n",
      "  warnings.warn(\n",
      "c:\\Users\\PC314\\anaconda3\\Lib\\site-packages\\statsforecast\\core.py:494: FutureWarning: In a future version the predictions will have the id as a column. You can set the `NIXTLA_ID_AS_COL` environment variable to adopt the new behavior and to suppress this warning.\n",
      "  warnings.warn(\n",
      "c:\\Users\\PC314\\anaconda3\\Lib\\site-packages\\statsforecast\\core.py:494: FutureWarning: In a future version the predictions will have the id as a column. You can set the `NIXTLA_ID_AS_COL` environment variable to adopt the new behavior and to suppress this warning.\n",
      "  warnings.warn(\n",
      "c:\\Users\\PC314\\anaconda3\\Lib\\site-packages\\statsforecast\\core.py:494: FutureWarning: In a future version the predictions will have the id as a column. You can set the `NIXTLA_ID_AS_COL` environment variable to adopt the new behavior and to suppress this warning.\n",
      "  warnings.warn(\n",
      "C:\\Users\\PC314\\AppData\\Local\\Temp\\ipykernel_17148\\3122320333.py:50: SettingWithCopyWarning: \n",
      "A value is trying to be set on a copy of a slice from a DataFrame.\n",
      "Try using .loc[row_indexer,col_indexer] = value instead\n",
      "\n",
      "See the caveats in the documentation: https://pandas.pydata.org/pandas-docs/stable/user_guide/indexing.html#returning-a-view-versus-a-copy\n",
      "  train_df['y'] = series\n"
     ]
    },
    {
     "name": "stdout",
     "output_type": "stream",
     "text": [
      "Best Model for seasonality_boxcox: MSTL_ac_MFLES1 (MAPE: 104.54%)\n",
      "Training on transformed version: seasonality_standardize\n"
     ]
    },
    {
     "name": "stderr",
     "output_type": "stream",
     "text": [
      "c:\\Users\\PC314\\anaconda3\\Lib\\site-packages\\statsforecast\\core.py:494: FutureWarning: In a future version the predictions will have the id as a column. You can set the `NIXTLA_ID_AS_COL` environment variable to adopt the new behavior and to suppress this warning.\n",
      "  warnings.warn(\n",
      "c:\\Users\\PC314\\anaconda3\\Lib\\site-packages\\statsforecast\\core.py:494: FutureWarning: In a future version the predictions will have the id as a column. You can set the `NIXTLA_ID_AS_COL` environment variable to adopt the new behavior and to suppress this warning.\n",
      "  warnings.warn(\n",
      "c:\\Users\\PC314\\anaconda3\\Lib\\site-packages\\statsforecast\\core.py:494: FutureWarning: In a future version the predictions will have the id as a column. You can set the `NIXTLA_ID_AS_COL` environment variable to adopt the new behavior and to suppress this warning.\n",
      "  warnings.warn(\n",
      "c:\\Users\\PC314\\anaconda3\\Lib\\site-packages\\statsforecast\\core.py:494: FutureWarning: In a future version the predictions will have the id as a column. You can set the `NIXTLA_ID_AS_COL` environment variable to adopt the new behavior and to suppress this warning.\n",
      "  warnings.warn(\n",
      "c:\\Users\\PC314\\anaconda3\\Lib\\site-packages\\statsforecast\\core.py:494: FutureWarning: In a future version the predictions will have the id as a column. You can set the `NIXTLA_ID_AS_COL` environment variable to adopt the new behavior and to suppress this warning.\n",
      "  warnings.warn(\n",
      "c:\\Users\\PC314\\anaconda3\\Lib\\site-packages\\statsforecast\\core.py:494: FutureWarning: In a future version the predictions will have the id as a column. You can set the `NIXTLA_ID_AS_COL` environment variable to adopt the new behavior and to suppress this warning.\n",
      "  warnings.warn(\n",
      "C:\\Users\\PC314\\AppData\\Local\\Temp\\ipykernel_17148\\3122320333.py:50: SettingWithCopyWarning: \n",
      "A value is trying to be set on a copy of a slice from a DataFrame.\n",
      "Try using .loc[row_indexer,col_indexer] = value instead\n",
      "\n",
      "See the caveats in the documentation: https://pandas.pydata.org/pandas-docs/stable/user_guide/indexing.html#returning-a-view-versus-a-copy\n",
      "  train_df['y'] = series\n"
     ]
    },
    {
     "name": "stdout",
     "output_type": "stream",
     "text": [
      "Best Model for seasonality_standardize: MSTL_abc_ARIMA (MAPE: 99.77%)\n",
      "Training on transformed version: boxcox_standardize\n"
     ]
    },
    {
     "name": "stderr",
     "output_type": "stream",
     "text": [
      "c:\\Users\\PC314\\anaconda3\\Lib\\site-packages\\statsforecast\\core.py:494: FutureWarning: In a future version the predictions will have the id as a column. You can set the `NIXTLA_ID_AS_COL` environment variable to adopt the new behavior and to suppress this warning.\n",
      "  warnings.warn(\n",
      "c:\\Users\\PC314\\anaconda3\\Lib\\site-packages\\statsforecast\\core.py:494: FutureWarning: In a future version the predictions will have the id as a column. You can set the `NIXTLA_ID_AS_COL` environment variable to adopt the new behavior and to suppress this warning.\n",
      "  warnings.warn(\n",
      "c:\\Users\\PC314\\anaconda3\\Lib\\site-packages\\statsforecast\\core.py:494: FutureWarning: In a future version the predictions will have the id as a column. You can set the `NIXTLA_ID_AS_COL` environment variable to adopt the new behavior and to suppress this warning.\n",
      "  warnings.warn(\n",
      "c:\\Users\\PC314\\anaconda3\\Lib\\site-packages\\statsforecast\\mfles.py:301: RuntimeWarning: overflow encountered in scalar multiply\n",
      "  slope = (M * x_y_sum - x_sum * y_sum) / (M * x_sq_sum - x_sum**2)\n",
      "c:\\Users\\PC314\\anaconda3\\Lib\\site-packages\\statsforecast\\core.py:494: FutureWarning: In a future version the predictions will have the id as a column. You can set the `NIXTLA_ID_AS_COL` environment variable to adopt the new behavior and to suppress this warning.\n",
      "  warnings.warn(\n",
      "c:\\Users\\PC314\\anaconda3\\Lib\\site-packages\\statsforecast\\mfles.py:301: RuntimeWarning: overflow encountered in scalar multiply\n",
      "  slope = (M * x_y_sum - x_sum * y_sum) / (M * x_sq_sum - x_sum**2)\n",
      "c:\\Users\\PC314\\anaconda3\\Lib\\site-packages\\statsforecast\\core.py:494: FutureWarning: In a future version the predictions will have the id as a column. You can set the `NIXTLA_ID_AS_COL` environment variable to adopt the new behavior and to suppress this warning.\n",
      "  warnings.warn(\n",
      "c:\\Users\\PC314\\anaconda3\\Lib\\site-packages\\statsforecast\\mfles.py:301: RuntimeWarning: overflow encountered in scalar multiply\n",
      "  slope = (M * x_y_sum - x_sum * y_sum) / (M * x_sq_sum - x_sum**2)\n",
      "c:\\Users\\PC314\\anaconda3\\Lib\\site-packages\\statsforecast\\core.py:494: FutureWarning: In a future version the predictions will have the id as a column. You can set the `NIXTLA_ID_AS_COL` environment variable to adopt the new behavior and to suppress this warning.\n",
      "  warnings.warn(\n",
      "C:\\Users\\PC314\\AppData\\Local\\Temp\\ipykernel_17148\\3122320333.py:50: SettingWithCopyWarning: \n",
      "A value is trying to be set on a copy of a slice from a DataFrame.\n",
      "Try using .loc[row_indexer,col_indexer] = value instead\n",
      "\n",
      "See the caveats in the documentation: https://pandas.pydata.org/pandas-docs/stable/user_guide/indexing.html#returning-a-view-versus-a-copy\n",
      "  train_df['y'] = series\n"
     ]
    },
    {
     "name": "stdout",
     "output_type": "stream",
     "text": [
      "Best Model for boxcox_standardize: MSTL_abc_ARIMA (MAPE: 99.94%)\n",
      "Training on transformed version: log_trend_seasonality\n"
     ]
    },
    {
     "name": "stderr",
     "output_type": "stream",
     "text": [
      "c:\\Users\\PC314\\anaconda3\\Lib\\site-packages\\statsforecast\\core.py:494: FutureWarning: In a future version the predictions will have the id as a column. You can set the `NIXTLA_ID_AS_COL` environment variable to adopt the new behavior and to suppress this warning.\n",
      "  warnings.warn(\n",
      "c:\\Users\\PC314\\anaconda3\\Lib\\site-packages\\statsforecast\\core.py:494: FutureWarning: In a future version the predictions will have the id as a column. You can set the `NIXTLA_ID_AS_COL` environment variable to adopt the new behavior and to suppress this warning.\n",
      "  warnings.warn(\n",
      "c:\\Users\\PC314\\anaconda3\\Lib\\site-packages\\statsforecast\\core.py:494: FutureWarning: In a future version the predictions will have the id as a column. You can set the `NIXTLA_ID_AS_COL` environment variable to adopt the new behavior and to suppress this warning.\n",
      "  warnings.warn(\n",
      "c:\\Users\\PC314\\anaconda3\\Lib\\site-packages\\statsforecast\\core.py:494: FutureWarning: In a future version the predictions will have the id as a column. You can set the `NIXTLA_ID_AS_COL` environment variable to adopt the new behavior and to suppress this warning.\n",
      "  warnings.warn(\n",
      "c:\\Users\\PC314\\anaconda3\\Lib\\site-packages\\statsforecast\\core.py:494: FutureWarning: In a future version the predictions will have the id as a column. You can set the `NIXTLA_ID_AS_COL` environment variable to adopt the new behavior and to suppress this warning.\n",
      "  warnings.warn(\n",
      "c:\\Users\\PC314\\anaconda3\\Lib\\site-packages\\statsforecast\\core.py:494: FutureWarning: In a future version the predictions will have the id as a column. You can set the `NIXTLA_ID_AS_COL` environment variable to adopt the new behavior and to suppress this warning.\n",
      "  warnings.warn(\n",
      "C:\\Users\\PC314\\AppData\\Local\\Temp\\ipykernel_17148\\3122320333.py:50: SettingWithCopyWarning: \n",
      "A value is trying to be set on a copy of a slice from a DataFrame.\n",
      "Try using .loc[row_indexer,col_indexer] = value instead\n",
      "\n",
      "See the caveats in the documentation: https://pandas.pydata.org/pandas-docs/stable/user_guide/indexing.html#returning-a-view-versus-a-copy\n",
      "  train_df['y'] = series\n"
     ]
    },
    {
     "name": "stdout",
     "output_type": "stream",
     "text": [
      "Best Model for log_trend_seasonality: MSTL_ac_MFLES1 (MAPE: 802.67%)\n",
      "Training on transformed version: log_trend_boxcox\n"
     ]
    },
    {
     "name": "stderr",
     "output_type": "stream",
     "text": [
      "c:\\Users\\PC314\\anaconda3\\Lib\\site-packages\\statsforecast\\core.py:494: FutureWarning: In a future version the predictions will have the id as a column. You can set the `NIXTLA_ID_AS_COL` environment variable to adopt the new behavior and to suppress this warning.\n",
      "  warnings.warn(\n",
      "c:\\Users\\PC314\\anaconda3\\Lib\\site-packages\\statsforecast\\core.py:494: FutureWarning: In a future version the predictions will have the id as a column. You can set the `NIXTLA_ID_AS_COL` environment variable to adopt the new behavior and to suppress this warning.\n",
      "  warnings.warn(\n",
      "c:\\Users\\PC314\\anaconda3\\Lib\\site-packages\\statsforecast\\core.py:494: FutureWarning: In a future version the predictions will have the id as a column. You can set the `NIXTLA_ID_AS_COL` environment variable to adopt the new behavior and to suppress this warning.\n",
      "  warnings.warn(\n",
      "c:\\Users\\PC314\\anaconda3\\Lib\\site-packages\\statsforecast\\mfles.py:301: RuntimeWarning: overflow encountered in scalar multiply\n",
      "  slope = (M * x_y_sum - x_sum * y_sum) / (M * x_sq_sum - x_sum**2)\n",
      "c:\\Users\\PC314\\anaconda3\\Lib\\site-packages\\statsforecast\\core.py:494: FutureWarning: In a future version the predictions will have the id as a column. You can set the `NIXTLA_ID_AS_COL` environment variable to adopt the new behavior and to suppress this warning.\n",
      "  warnings.warn(\n",
      "c:\\Users\\PC314\\anaconda3\\Lib\\site-packages\\statsforecast\\mfles.py:301: RuntimeWarning: overflow encountered in scalar multiply\n",
      "  slope = (M * x_y_sum - x_sum * y_sum) / (M * x_sq_sum - x_sum**2)\n",
      "c:\\Users\\PC314\\anaconda3\\Lib\\site-packages\\statsforecast\\core.py:494: FutureWarning: In a future version the predictions will have the id as a column. You can set the `NIXTLA_ID_AS_COL` environment variable to adopt the new behavior and to suppress this warning.\n",
      "  warnings.warn(\n",
      "c:\\Users\\PC314\\anaconda3\\Lib\\site-packages\\statsforecast\\mfles.py:301: RuntimeWarning: overflow encountered in scalar multiply\n",
      "  slope = (M * x_y_sum - x_sum * y_sum) / (M * x_sq_sum - x_sum**2)\n",
      "c:\\Users\\PC314\\anaconda3\\Lib\\site-packages\\statsforecast\\core.py:494: FutureWarning: In a future version the predictions will have the id as a column. You can set the `NIXTLA_ID_AS_COL` environment variable to adopt the new behavior and to suppress this warning.\n",
      "  warnings.warn(\n",
      "C:\\Users\\PC314\\AppData\\Local\\Temp\\ipykernel_17148\\3122320333.py:50: SettingWithCopyWarning: \n",
      "A value is trying to be set on a copy of a slice from a DataFrame.\n",
      "Try using .loc[row_indexer,col_indexer] = value instead\n",
      "\n",
      "See the caveats in the documentation: https://pandas.pydata.org/pandas-docs/stable/user_guide/indexing.html#returning-a-view-versus-a-copy\n",
      "  train_df['y'] = series\n"
     ]
    },
    {
     "name": "stdout",
     "output_type": "stream",
     "text": [
      "Best Model for log_trend_boxcox: MSTL_ac_MFLES1 (MAPE: 805.74%)\n",
      "Training on transformed version: log_trend_standardize\n"
     ]
    },
    {
     "name": "stderr",
     "output_type": "stream",
     "text": [
      "c:\\Users\\PC314\\anaconda3\\Lib\\site-packages\\statsforecast\\core.py:494: FutureWarning: In a future version the predictions will have the id as a column. You can set the `NIXTLA_ID_AS_COL` environment variable to adopt the new behavior and to suppress this warning.\n",
      "  warnings.warn(\n",
      "c:\\Users\\PC314\\anaconda3\\Lib\\site-packages\\statsforecast\\core.py:494: FutureWarning: In a future version the predictions will have the id as a column. You can set the `NIXTLA_ID_AS_COL` environment variable to adopt the new behavior and to suppress this warning.\n",
      "  warnings.warn(\n",
      "c:\\Users\\PC314\\anaconda3\\Lib\\site-packages\\statsforecast\\core.py:494: FutureWarning: In a future version the predictions will have the id as a column. You can set the `NIXTLA_ID_AS_COL` environment variable to adopt the new behavior and to suppress this warning.\n",
      "  warnings.warn(\n",
      "c:\\Users\\PC314\\anaconda3\\Lib\\site-packages\\statsforecast\\mfles.py:301: RuntimeWarning: overflow encountered in scalar multiply\n",
      "  slope = (M * x_y_sum - x_sum * y_sum) / (M * x_sq_sum - x_sum**2)\n",
      "c:\\Users\\PC314\\anaconda3\\Lib\\site-packages\\statsforecast\\core.py:494: FutureWarning: In a future version the predictions will have the id as a column. You can set the `NIXTLA_ID_AS_COL` environment variable to adopt the new behavior and to suppress this warning.\n",
      "  warnings.warn(\n",
      "c:\\Users\\PC314\\anaconda3\\Lib\\site-packages\\statsforecast\\mfles.py:301: RuntimeWarning: overflow encountered in scalar multiply\n",
      "  slope = (M * x_y_sum - x_sum * y_sum) / (M * x_sq_sum - x_sum**2)\n",
      "c:\\Users\\PC314\\anaconda3\\Lib\\site-packages\\statsforecast\\core.py:494: FutureWarning: In a future version the predictions will have the id as a column. You can set the `NIXTLA_ID_AS_COL` environment variable to adopt the new behavior and to suppress this warning.\n",
      "  warnings.warn(\n",
      "c:\\Users\\PC314\\anaconda3\\Lib\\site-packages\\statsforecast\\mfles.py:301: RuntimeWarning: overflow encountered in scalar multiply\n",
      "  slope = (M * x_y_sum - x_sum * y_sum) / (M * x_sq_sum - x_sum**2)\n",
      "c:\\Users\\PC314\\anaconda3\\Lib\\site-packages\\statsforecast\\core.py:494: FutureWarning: In a future version the predictions will have the id as a column. You can set the `NIXTLA_ID_AS_COL` environment variable to adopt the new behavior and to suppress this warning.\n",
      "  warnings.warn(\n",
      "C:\\Users\\PC314\\AppData\\Local\\Temp\\ipykernel_17148\\3122320333.py:50: SettingWithCopyWarning: \n",
      "A value is trying to be set on a copy of a slice from a DataFrame.\n",
      "Try using .loc[row_indexer,col_indexer] = value instead\n",
      "\n",
      "See the caveats in the documentation: https://pandas.pydata.org/pandas-docs/stable/user_guide/indexing.html#returning-a-view-versus-a-copy\n",
      "  train_df['y'] = series\n"
     ]
    },
    {
     "name": "stdout",
     "output_type": "stream",
     "text": [
      "Best Model for log_trend_standardize: MSTL_ac_MFLES1 (MAPE: 809.42%)\n",
      "Training on transformed version: log_seasonality_boxcox\n"
     ]
    },
    {
     "name": "stderr",
     "output_type": "stream",
     "text": [
      "c:\\Users\\PC314\\anaconda3\\Lib\\site-packages\\statsforecast\\core.py:494: FutureWarning: In a future version the predictions will have the id as a column. You can set the `NIXTLA_ID_AS_COL` environment variable to adopt the new behavior and to suppress this warning.\n",
      "  warnings.warn(\n",
      "c:\\Users\\PC314\\anaconda3\\Lib\\site-packages\\statsforecast\\core.py:494: FutureWarning: In a future version the predictions will have the id as a column. You can set the `NIXTLA_ID_AS_COL` environment variable to adopt the new behavior and to suppress this warning.\n",
      "  warnings.warn(\n",
      "c:\\Users\\PC314\\anaconda3\\Lib\\site-packages\\statsforecast\\core.py:494: FutureWarning: In a future version the predictions will have the id as a column. You can set the `NIXTLA_ID_AS_COL` environment variable to adopt the new behavior and to suppress this warning.\n",
      "  warnings.warn(\n",
      "c:\\Users\\PC314\\anaconda3\\Lib\\site-packages\\statsforecast\\mfles.py:301: RuntimeWarning: overflow encountered in scalar multiply\n",
      "  slope = (M * x_y_sum - x_sum * y_sum) / (M * x_sq_sum - x_sum**2)\n",
      "c:\\Users\\PC314\\anaconda3\\Lib\\site-packages\\statsforecast\\core.py:494: FutureWarning: In a future version the predictions will have the id as a column. You can set the `NIXTLA_ID_AS_COL` environment variable to adopt the new behavior and to suppress this warning.\n",
      "  warnings.warn(\n",
      "c:\\Users\\PC314\\anaconda3\\Lib\\site-packages\\statsforecast\\mfles.py:301: RuntimeWarning: overflow encountered in scalar multiply\n",
      "  slope = (M * x_y_sum - x_sum * y_sum) / (M * x_sq_sum - x_sum**2)\n",
      "c:\\Users\\PC314\\anaconda3\\Lib\\site-packages\\statsforecast\\core.py:494: FutureWarning: In a future version the predictions will have the id as a column. You can set the `NIXTLA_ID_AS_COL` environment variable to adopt the new behavior and to suppress this warning.\n",
      "  warnings.warn(\n",
      "c:\\Users\\PC314\\anaconda3\\Lib\\site-packages\\statsforecast\\mfles.py:301: RuntimeWarning: overflow encountered in scalar multiply\n",
      "  slope = (M * x_y_sum - x_sum * y_sum) / (M * x_sq_sum - x_sum**2)\n",
      "c:\\Users\\PC314\\anaconda3\\Lib\\site-packages\\statsforecast\\core.py:494: FutureWarning: In a future version the predictions will have the id as a column. You can set the `NIXTLA_ID_AS_COL` environment variable to adopt the new behavior and to suppress this warning.\n",
      "  warnings.warn(\n",
      "C:\\Users\\PC314\\AppData\\Local\\Temp\\ipykernel_17148\\3122320333.py:50: SettingWithCopyWarning: \n",
      "A value is trying to be set on a copy of a slice from a DataFrame.\n",
      "Try using .loc[row_indexer,col_indexer] = value instead\n",
      "\n",
      "See the caveats in the documentation: https://pandas.pydata.org/pandas-docs/stable/user_guide/indexing.html#returning-a-view-versus-a-copy\n",
      "  train_df['y'] = series\n"
     ]
    },
    {
     "name": "stdout",
     "output_type": "stream",
     "text": [
      "Best Model for log_seasonality_boxcox: MSTL_ac_MFLES1 (MAPE: 72.58%)\n",
      "Training on transformed version: log_seasonality_standardize\n"
     ]
    },
    {
     "name": "stderr",
     "output_type": "stream",
     "text": [
      "c:\\Users\\PC314\\anaconda3\\Lib\\site-packages\\statsforecast\\core.py:494: FutureWarning: In a future version the predictions will have the id as a column. You can set the `NIXTLA_ID_AS_COL` environment variable to adopt the new behavior and to suppress this warning.\n",
      "  warnings.warn(\n",
      "c:\\Users\\PC314\\anaconda3\\Lib\\site-packages\\statsforecast\\core.py:494: FutureWarning: In a future version the predictions will have the id as a column. You can set the `NIXTLA_ID_AS_COL` environment variable to adopt the new behavior and to suppress this warning.\n",
      "  warnings.warn(\n",
      "c:\\Users\\PC314\\anaconda3\\Lib\\site-packages\\statsforecast\\core.py:494: FutureWarning: In a future version the predictions will have the id as a column. You can set the `NIXTLA_ID_AS_COL` environment variable to adopt the new behavior and to suppress this warning.\n",
      "  warnings.warn(\n",
      "c:\\Users\\PC314\\anaconda3\\Lib\\site-packages\\statsforecast\\mfles.py:301: RuntimeWarning: overflow encountered in scalar multiply\n",
      "  slope = (M * x_y_sum - x_sum * y_sum) / (M * x_sq_sum - x_sum**2)\n",
      "c:\\Users\\PC314\\anaconda3\\Lib\\site-packages\\statsforecast\\core.py:494: FutureWarning: In a future version the predictions will have the id as a column. You can set the `NIXTLA_ID_AS_COL` environment variable to adopt the new behavior and to suppress this warning.\n",
      "  warnings.warn(\n",
      "c:\\Users\\PC314\\anaconda3\\Lib\\site-packages\\statsforecast\\mfles.py:301: RuntimeWarning: overflow encountered in scalar multiply\n",
      "  slope = (M * x_y_sum - x_sum * y_sum) / (M * x_sq_sum - x_sum**2)\n",
      "c:\\Users\\PC314\\anaconda3\\Lib\\site-packages\\statsforecast\\core.py:494: FutureWarning: In a future version the predictions will have the id as a column. You can set the `NIXTLA_ID_AS_COL` environment variable to adopt the new behavior and to suppress this warning.\n",
      "  warnings.warn(\n",
      "c:\\Users\\PC314\\anaconda3\\Lib\\site-packages\\statsforecast\\mfles.py:301: RuntimeWarning: overflow encountered in scalar multiply\n",
      "  slope = (M * x_y_sum - x_sum * y_sum) / (M * x_sq_sum - x_sum**2)\n",
      "c:\\Users\\PC314\\anaconda3\\Lib\\site-packages\\statsforecast\\core.py:494: FutureWarning: In a future version the predictions will have the id as a column. You can set the `NIXTLA_ID_AS_COL` environment variable to adopt the new behavior and to suppress this warning.\n",
      "  warnings.warn(\n",
      "C:\\Users\\PC314\\AppData\\Local\\Temp\\ipykernel_17148\\3122320333.py:50: SettingWithCopyWarning: \n",
      "A value is trying to be set on a copy of a slice from a DataFrame.\n",
      "Try using .loc[row_indexer,col_indexer] = value instead\n",
      "\n",
      "See the caveats in the documentation: https://pandas.pydata.org/pandas-docs/stable/user_guide/indexing.html#returning-a-view-versus-a-copy\n",
      "  train_df['y'] = series\n"
     ]
    },
    {
     "name": "stdout",
     "output_type": "stream",
     "text": [
      "Best Model for log_seasonality_standardize: MSTL_a_ARIMA (MAPE: 95.21%)\n",
      "Training on transformed version: log_boxcox_standardize\n"
     ]
    },
    {
     "name": "stderr",
     "output_type": "stream",
     "text": [
      "c:\\Users\\PC314\\anaconda3\\Lib\\site-packages\\statsforecast\\core.py:494: FutureWarning: In a future version the predictions will have the id as a column. You can set the `NIXTLA_ID_AS_COL` environment variable to adopt the new behavior and to suppress this warning.\n",
      "  warnings.warn(\n",
      "c:\\Users\\PC314\\anaconda3\\Lib\\site-packages\\statsforecast\\core.py:494: FutureWarning: In a future version the predictions will have the id as a column. You can set the `NIXTLA_ID_AS_COL` environment variable to adopt the new behavior and to suppress this warning.\n",
      "  warnings.warn(\n",
      "c:\\Users\\PC314\\anaconda3\\Lib\\site-packages\\statsforecast\\core.py:494: FutureWarning: In a future version the predictions will have the id as a column. You can set the `NIXTLA_ID_AS_COL` environment variable to adopt the new behavior and to suppress this warning.\n",
      "  warnings.warn(\n",
      "c:\\Users\\PC314\\anaconda3\\Lib\\site-packages\\statsforecast\\mfles.py:301: RuntimeWarning: overflow encountered in scalar multiply\n",
      "  slope = (M * x_y_sum - x_sum * y_sum) / (M * x_sq_sum - x_sum**2)\n",
      "c:\\Users\\PC314\\anaconda3\\Lib\\site-packages\\statsforecast\\core.py:494: FutureWarning: In a future version the predictions will have the id as a column. You can set the `NIXTLA_ID_AS_COL` environment variable to adopt the new behavior and to suppress this warning.\n",
      "  warnings.warn(\n",
      "c:\\Users\\PC314\\anaconda3\\Lib\\site-packages\\statsforecast\\mfles.py:301: RuntimeWarning: overflow encountered in scalar multiply\n",
      "  slope = (M * x_y_sum - x_sum * y_sum) / (M * x_sq_sum - x_sum**2)\n",
      "c:\\Users\\PC314\\anaconda3\\Lib\\site-packages\\statsforecast\\core.py:494: FutureWarning: In a future version the predictions will have the id as a column. You can set the `NIXTLA_ID_AS_COL` environment variable to adopt the new behavior and to suppress this warning.\n",
      "  warnings.warn(\n",
      "c:\\Users\\PC314\\anaconda3\\Lib\\site-packages\\statsforecast\\mfles.py:301: RuntimeWarning: overflow encountered in scalar multiply\n",
      "  slope = (M * x_y_sum - x_sum * y_sum) / (M * x_sq_sum - x_sum**2)\n",
      "c:\\Users\\PC314\\anaconda3\\Lib\\site-packages\\statsforecast\\core.py:494: FutureWarning: In a future version the predictions will have the id as a column. You can set the `NIXTLA_ID_AS_COL` environment variable to adopt the new behavior and to suppress this warning.\n",
      "  warnings.warn(\n",
      "C:\\Users\\PC314\\AppData\\Local\\Temp\\ipykernel_17148\\3122320333.py:50: SettingWithCopyWarning: \n",
      "A value is trying to be set on a copy of a slice from a DataFrame.\n",
      "Try using .loc[row_indexer,col_indexer] = value instead\n",
      "\n",
      "See the caveats in the documentation: https://pandas.pydata.org/pandas-docs/stable/user_guide/indexing.html#returning-a-view-versus-a-copy\n",
      "  train_df['y'] = series\n"
     ]
    },
    {
     "name": "stdout",
     "output_type": "stream",
     "text": [
      "Best Model for log_boxcox_standardize: MSTL_abc_ARIMA (MAPE: 92.72%)\n",
      "Training on transformed version: trend_seasonality_boxcox\n"
     ]
    },
    {
     "name": "stderr",
     "output_type": "stream",
     "text": [
      "c:\\Users\\PC314\\anaconda3\\Lib\\site-packages\\statsforecast\\core.py:494: FutureWarning: In a future version the predictions will have the id as a column. You can set the `NIXTLA_ID_AS_COL` environment variable to adopt the new behavior and to suppress this warning.\n",
      "  warnings.warn(\n",
      "c:\\Users\\PC314\\anaconda3\\Lib\\site-packages\\statsforecast\\core.py:494: FutureWarning: In a future version the predictions will have the id as a column. You can set the `NIXTLA_ID_AS_COL` environment variable to adopt the new behavior and to suppress this warning.\n",
      "  warnings.warn(\n",
      "c:\\Users\\PC314\\anaconda3\\Lib\\site-packages\\statsforecast\\core.py:494: FutureWarning: In a future version the predictions will have the id as a column. You can set the `NIXTLA_ID_AS_COL` environment variable to adopt the new behavior and to suppress this warning.\n",
      "  warnings.warn(\n",
      "c:\\Users\\PC314\\anaconda3\\Lib\\site-packages\\statsforecast\\core.py:494: FutureWarning: In a future version the predictions will have the id as a column. You can set the `NIXTLA_ID_AS_COL` environment variable to adopt the new behavior and to suppress this warning.\n",
      "  warnings.warn(\n",
      "c:\\Users\\PC314\\anaconda3\\Lib\\site-packages\\statsforecast\\core.py:494: FutureWarning: In a future version the predictions will have the id as a column. You can set the `NIXTLA_ID_AS_COL` environment variable to adopt the new behavior and to suppress this warning.\n",
      "  warnings.warn(\n",
      "c:\\Users\\PC314\\anaconda3\\Lib\\site-packages\\statsforecast\\core.py:494: FutureWarning: In a future version the predictions will have the id as a column. You can set the `NIXTLA_ID_AS_COL` environment variable to adopt the new behavior and to suppress this warning.\n",
      "  warnings.warn(\n",
      "C:\\Users\\PC314\\AppData\\Local\\Temp\\ipykernel_17148\\3122320333.py:50: SettingWithCopyWarning: \n",
      "A value is trying to be set on a copy of a slice from a DataFrame.\n",
      "Try using .loc[row_indexer,col_indexer] = value instead\n",
      "\n",
      "See the caveats in the documentation: https://pandas.pydata.org/pandas-docs/stable/user_guide/indexing.html#returning-a-view-versus-a-copy\n",
      "  train_df['y'] = series\n"
     ]
    },
    {
     "name": "stdout",
     "output_type": "stream",
     "text": [
      "Best Model for trend_seasonality_boxcox: MSTL_a_ARIMA (MAPE: 61.28%)\n",
      "Training on transformed version: trend_seasonality_standardize\n"
     ]
    },
    {
     "name": "stderr",
     "output_type": "stream",
     "text": [
      "c:\\Users\\PC314\\anaconda3\\Lib\\site-packages\\statsforecast\\core.py:494: FutureWarning: In a future version the predictions will have the id as a column. You can set the `NIXTLA_ID_AS_COL` environment variable to adopt the new behavior and to suppress this warning.\n",
      "  warnings.warn(\n",
      "c:\\Users\\PC314\\anaconda3\\Lib\\site-packages\\statsforecast\\core.py:494: FutureWarning: In a future version the predictions will have the id as a column. You can set the `NIXTLA_ID_AS_COL` environment variable to adopt the new behavior and to suppress this warning.\n",
      "  warnings.warn(\n",
      "c:\\Users\\PC314\\anaconda3\\Lib\\site-packages\\statsforecast\\core.py:494: FutureWarning: In a future version the predictions will have the id as a column. You can set the `NIXTLA_ID_AS_COL` environment variable to adopt the new behavior and to suppress this warning.\n",
      "  warnings.warn(\n",
      "c:\\Users\\PC314\\anaconda3\\Lib\\site-packages\\statsforecast\\core.py:494: FutureWarning: In a future version the predictions will have the id as a column. You can set the `NIXTLA_ID_AS_COL` environment variable to adopt the new behavior and to suppress this warning.\n",
      "  warnings.warn(\n",
      "c:\\Users\\PC314\\anaconda3\\Lib\\site-packages\\statsforecast\\core.py:494: FutureWarning: In a future version the predictions will have the id as a column. You can set the `NIXTLA_ID_AS_COL` environment variable to adopt the new behavior and to suppress this warning.\n",
      "  warnings.warn(\n",
      "c:\\Users\\PC314\\anaconda3\\Lib\\site-packages\\statsforecast\\core.py:494: FutureWarning: In a future version the predictions will have the id as a column. You can set the `NIXTLA_ID_AS_COL` environment variable to adopt the new behavior and to suppress this warning.\n",
      "  warnings.warn(\n",
      "C:\\Users\\PC314\\AppData\\Local\\Temp\\ipykernel_17148\\3122320333.py:50: SettingWithCopyWarning: \n",
      "A value is trying to be set on a copy of a slice from a DataFrame.\n",
      "Try using .loc[row_indexer,col_indexer] = value instead\n",
      "\n",
      "See the caveats in the documentation: https://pandas.pydata.org/pandas-docs/stable/user_guide/indexing.html#returning-a-view-versus-a-copy\n",
      "  train_df['y'] = series\n"
     ]
    },
    {
     "name": "stdout",
     "output_type": "stream",
     "text": [
      "Best Model for trend_seasonality_standardize: MSTL_a_ARIMA (MAPE: 87.27%)\n",
      "Training on transformed version: trend_boxcox_standardize\n"
     ]
    },
    {
     "name": "stderr",
     "output_type": "stream",
     "text": [
      "c:\\Users\\PC314\\anaconda3\\Lib\\site-packages\\statsforecast\\core.py:494: FutureWarning: In a future version the predictions will have the id as a column. You can set the `NIXTLA_ID_AS_COL` environment variable to adopt the new behavior and to suppress this warning.\n",
      "  warnings.warn(\n",
      "c:\\Users\\PC314\\anaconda3\\Lib\\site-packages\\statsforecast\\core.py:494: FutureWarning: In a future version the predictions will have the id as a column. You can set the `NIXTLA_ID_AS_COL` environment variable to adopt the new behavior and to suppress this warning.\n",
      "  warnings.warn(\n",
      "c:\\Users\\PC314\\anaconda3\\Lib\\site-packages\\statsforecast\\core.py:494: FutureWarning: In a future version the predictions will have the id as a column. You can set the `NIXTLA_ID_AS_COL` environment variable to adopt the new behavior and to suppress this warning.\n",
      "  warnings.warn(\n",
      "c:\\Users\\PC314\\anaconda3\\Lib\\site-packages\\statsforecast\\mfles.py:301: RuntimeWarning: overflow encountered in scalar multiply\n",
      "  slope = (M * x_y_sum - x_sum * y_sum) / (M * x_sq_sum - x_sum**2)\n",
      "c:\\Users\\PC314\\anaconda3\\Lib\\site-packages\\statsforecast\\core.py:494: FutureWarning: In a future version the predictions will have the id as a column. You can set the `NIXTLA_ID_AS_COL` environment variable to adopt the new behavior and to suppress this warning.\n",
      "  warnings.warn(\n",
      "c:\\Users\\PC314\\anaconda3\\Lib\\site-packages\\statsforecast\\mfles.py:301: RuntimeWarning: overflow encountered in scalar multiply\n",
      "  slope = (M * x_y_sum - x_sum * y_sum) / (M * x_sq_sum - x_sum**2)\n",
      "c:\\Users\\PC314\\anaconda3\\Lib\\site-packages\\statsforecast\\core.py:494: FutureWarning: In a future version the predictions will have the id as a column. You can set the `NIXTLA_ID_AS_COL` environment variable to adopt the new behavior and to suppress this warning.\n",
      "  warnings.warn(\n",
      "c:\\Users\\PC314\\anaconda3\\Lib\\site-packages\\statsforecast\\mfles.py:301: RuntimeWarning: overflow encountered in scalar multiply\n",
      "  slope = (M * x_y_sum - x_sum * y_sum) / (M * x_sq_sum - x_sum**2)\n",
      "c:\\Users\\PC314\\anaconda3\\Lib\\site-packages\\statsforecast\\core.py:494: FutureWarning: In a future version the predictions will have the id as a column. You can set the `NIXTLA_ID_AS_COL` environment variable to adopt the new behavior and to suppress this warning.\n",
      "  warnings.warn(\n",
      "C:\\Users\\PC314\\AppData\\Local\\Temp\\ipykernel_17148\\3122320333.py:50: SettingWithCopyWarning: \n",
      "A value is trying to be set on a copy of a slice from a DataFrame.\n",
      "Try using .loc[row_indexer,col_indexer] = value instead\n",
      "\n",
      "See the caveats in the documentation: https://pandas.pydata.org/pandas-docs/stable/user_guide/indexing.html#returning-a-view-versus-a-copy\n",
      "  train_df['y'] = series\n"
     ]
    },
    {
     "name": "stdout",
     "output_type": "stream",
     "text": [
      "Best Model for trend_boxcox_standardize: MSTL_abc_ARIMA (MAPE: 85.25%)\n",
      "Training on transformed version: seasonality_boxcox_standardize\n"
     ]
    },
    {
     "name": "stderr",
     "output_type": "stream",
     "text": [
      "c:\\Users\\PC314\\anaconda3\\Lib\\site-packages\\statsforecast\\core.py:494: FutureWarning: In a future version the predictions will have the id as a column. You can set the `NIXTLA_ID_AS_COL` environment variable to adopt the new behavior and to suppress this warning.\n",
      "  warnings.warn(\n",
      "c:\\Users\\PC314\\anaconda3\\Lib\\site-packages\\statsforecast\\core.py:494: FutureWarning: In a future version the predictions will have the id as a column. You can set the `NIXTLA_ID_AS_COL` environment variable to adopt the new behavior and to suppress this warning.\n",
      "  warnings.warn(\n",
      "c:\\Users\\PC314\\anaconda3\\Lib\\site-packages\\statsforecast\\core.py:494: FutureWarning: In a future version the predictions will have the id as a column. You can set the `NIXTLA_ID_AS_COL` environment variable to adopt the new behavior and to suppress this warning.\n",
      "  warnings.warn(\n",
      "c:\\Users\\PC314\\anaconda3\\Lib\\site-packages\\statsforecast\\core.py:494: FutureWarning: In a future version the predictions will have the id as a column. You can set the `NIXTLA_ID_AS_COL` environment variable to adopt the new behavior and to suppress this warning.\n",
      "  warnings.warn(\n",
      "c:\\Users\\PC314\\anaconda3\\Lib\\site-packages\\statsforecast\\core.py:494: FutureWarning: In a future version the predictions will have the id as a column. You can set the `NIXTLA_ID_AS_COL` environment variable to adopt the new behavior and to suppress this warning.\n",
      "  warnings.warn(\n",
      "c:\\Users\\PC314\\anaconda3\\Lib\\site-packages\\statsforecast\\core.py:494: FutureWarning: In a future version the predictions will have the id as a column. You can set the `NIXTLA_ID_AS_COL` environment variable to adopt the new behavior and to suppress this warning.\n",
      "  warnings.warn(\n",
      "C:\\Users\\PC314\\AppData\\Local\\Temp\\ipykernel_17148\\3122320333.py:50: SettingWithCopyWarning: \n",
      "A value is trying to be set on a copy of a slice from a DataFrame.\n",
      "Try using .loc[row_indexer,col_indexer] = value instead\n",
      "\n",
      "See the caveats in the documentation: https://pandas.pydata.org/pandas-docs/stable/user_guide/indexing.html#returning-a-view-versus-a-copy\n",
      "  train_df['y'] = series\n"
     ]
    },
    {
     "name": "stdout",
     "output_type": "stream",
     "text": [
      "Best Model for seasonality_boxcox_standardize: MSTL_abc_ARIMA (MAPE: 99.77%)\n",
      "Training on transformed version: log_trend_seasonality_boxcox\n"
     ]
    },
    {
     "name": "stderr",
     "output_type": "stream",
     "text": [
      "c:\\Users\\PC314\\anaconda3\\Lib\\site-packages\\statsforecast\\core.py:494: FutureWarning: In a future version the predictions will have the id as a column. You can set the `NIXTLA_ID_AS_COL` environment variable to adopt the new behavior and to suppress this warning.\n",
      "  warnings.warn(\n",
      "c:\\Users\\PC314\\anaconda3\\Lib\\site-packages\\statsforecast\\core.py:494: FutureWarning: In a future version the predictions will have the id as a column. You can set the `NIXTLA_ID_AS_COL` environment variable to adopt the new behavior and to suppress this warning.\n",
      "  warnings.warn(\n",
      "c:\\Users\\PC314\\anaconda3\\Lib\\site-packages\\statsforecast\\core.py:494: FutureWarning: In a future version the predictions will have the id as a column. You can set the `NIXTLA_ID_AS_COL` environment variable to adopt the new behavior and to suppress this warning.\n",
      "  warnings.warn(\n",
      "c:\\Users\\PC314\\anaconda3\\Lib\\site-packages\\statsforecast\\core.py:494: FutureWarning: In a future version the predictions will have the id as a column. You can set the `NIXTLA_ID_AS_COL` environment variable to adopt the new behavior and to suppress this warning.\n",
      "  warnings.warn(\n",
      "c:\\Users\\PC314\\anaconda3\\Lib\\site-packages\\statsforecast\\core.py:494: FutureWarning: In a future version the predictions will have the id as a column. You can set the `NIXTLA_ID_AS_COL` environment variable to adopt the new behavior and to suppress this warning.\n",
      "  warnings.warn(\n",
      "c:\\Users\\PC314\\anaconda3\\Lib\\site-packages\\statsforecast\\core.py:494: FutureWarning: In a future version the predictions will have the id as a column. You can set the `NIXTLA_ID_AS_COL` environment variable to adopt the new behavior and to suppress this warning.\n",
      "  warnings.warn(\n",
      "C:\\Users\\PC314\\AppData\\Local\\Temp\\ipykernel_17148\\3122320333.py:50: SettingWithCopyWarning: \n",
      "A value is trying to be set on a copy of a slice from a DataFrame.\n",
      "Try using .loc[row_indexer,col_indexer] = value instead\n",
      "\n",
      "See the caveats in the documentation: https://pandas.pydata.org/pandas-docs/stable/user_guide/indexing.html#returning-a-view-versus-a-copy\n",
      "  train_df['y'] = series\n"
     ]
    },
    {
     "name": "stdout",
     "output_type": "stream",
     "text": [
      "Best Model for log_trend_seasonality_boxcox: MSTL_ac_MFLES1 (MAPE: 802.67%)\n",
      "Training on transformed version: log_trend_seasonality_standardize\n"
     ]
    },
    {
     "name": "stderr",
     "output_type": "stream",
     "text": [
      "c:\\Users\\PC314\\anaconda3\\Lib\\site-packages\\statsforecast\\core.py:494: FutureWarning: In a future version the predictions will have the id as a column. You can set the `NIXTLA_ID_AS_COL` environment variable to adopt the new behavior and to suppress this warning.\n",
      "  warnings.warn(\n",
      "c:\\Users\\PC314\\anaconda3\\Lib\\site-packages\\statsforecast\\core.py:494: FutureWarning: In a future version the predictions will have the id as a column. You can set the `NIXTLA_ID_AS_COL` environment variable to adopt the new behavior and to suppress this warning.\n",
      "  warnings.warn(\n",
      "c:\\Users\\PC314\\anaconda3\\Lib\\site-packages\\statsforecast\\core.py:494: FutureWarning: In a future version the predictions will have the id as a column. You can set the `NIXTLA_ID_AS_COL` environment variable to adopt the new behavior and to suppress this warning.\n",
      "  warnings.warn(\n",
      "c:\\Users\\PC314\\anaconda3\\Lib\\site-packages\\statsforecast\\core.py:494: FutureWarning: In a future version the predictions will have the id as a column. You can set the `NIXTLA_ID_AS_COL` environment variable to adopt the new behavior and to suppress this warning.\n",
      "  warnings.warn(\n",
      "c:\\Users\\PC314\\anaconda3\\Lib\\site-packages\\statsforecast\\core.py:494: FutureWarning: In a future version the predictions will have the id as a column. You can set the `NIXTLA_ID_AS_COL` environment variable to adopt the new behavior and to suppress this warning.\n",
      "  warnings.warn(\n",
      "c:\\Users\\PC314\\anaconda3\\Lib\\site-packages\\statsforecast\\core.py:494: FutureWarning: In a future version the predictions will have the id as a column. You can set the `NIXTLA_ID_AS_COL` environment variable to adopt the new behavior and to suppress this warning.\n",
      "  warnings.warn(\n",
      "C:\\Users\\PC314\\AppData\\Local\\Temp\\ipykernel_17148\\3122320333.py:50: SettingWithCopyWarning: \n",
      "A value is trying to be set on a copy of a slice from a DataFrame.\n",
      "Try using .loc[row_indexer,col_indexer] = value instead\n",
      "\n",
      "See the caveats in the documentation: https://pandas.pydata.org/pandas-docs/stable/user_guide/indexing.html#returning-a-view-versus-a-copy\n",
      "  train_df['y'] = series\n"
     ]
    },
    {
     "name": "stdout",
     "output_type": "stream",
     "text": [
      "Best Model for log_trend_seasonality_standardize: MSTL_ac_MFLES1 (MAPE: 802.67%)\n",
      "Training on transformed version: log_trend_boxcox_standardize\n"
     ]
    },
    {
     "name": "stderr",
     "output_type": "stream",
     "text": [
      "c:\\Users\\PC314\\anaconda3\\Lib\\site-packages\\statsforecast\\core.py:494: FutureWarning: In a future version the predictions will have the id as a column. You can set the `NIXTLA_ID_AS_COL` environment variable to adopt the new behavior and to suppress this warning.\n",
      "  warnings.warn(\n",
      "c:\\Users\\PC314\\anaconda3\\Lib\\site-packages\\statsforecast\\core.py:494: FutureWarning: In a future version the predictions will have the id as a column. You can set the `NIXTLA_ID_AS_COL` environment variable to adopt the new behavior and to suppress this warning.\n",
      "  warnings.warn(\n",
      "c:\\Users\\PC314\\anaconda3\\Lib\\site-packages\\statsforecast\\core.py:494: FutureWarning: In a future version the predictions will have the id as a column. You can set the `NIXTLA_ID_AS_COL` environment variable to adopt the new behavior and to suppress this warning.\n",
      "  warnings.warn(\n",
      "c:\\Users\\PC314\\anaconda3\\Lib\\site-packages\\statsforecast\\mfles.py:301: RuntimeWarning: overflow encountered in scalar multiply\n",
      "  slope = (M * x_y_sum - x_sum * y_sum) / (M * x_sq_sum - x_sum**2)\n",
      "c:\\Users\\PC314\\anaconda3\\Lib\\site-packages\\statsforecast\\core.py:494: FutureWarning: In a future version the predictions will have the id as a column. You can set the `NIXTLA_ID_AS_COL` environment variable to adopt the new behavior and to suppress this warning.\n",
      "  warnings.warn(\n",
      "c:\\Users\\PC314\\anaconda3\\Lib\\site-packages\\statsforecast\\mfles.py:301: RuntimeWarning: overflow encountered in scalar multiply\n",
      "  slope = (M * x_y_sum - x_sum * y_sum) / (M * x_sq_sum - x_sum**2)\n",
      "c:\\Users\\PC314\\anaconda3\\Lib\\site-packages\\statsforecast\\core.py:494: FutureWarning: In a future version the predictions will have the id as a column. You can set the `NIXTLA_ID_AS_COL` environment variable to adopt the new behavior and to suppress this warning.\n",
      "  warnings.warn(\n",
      "c:\\Users\\PC314\\anaconda3\\Lib\\site-packages\\statsforecast\\mfles.py:301: RuntimeWarning: overflow encountered in scalar multiply\n",
      "  slope = (M * x_y_sum - x_sum * y_sum) / (M * x_sq_sum - x_sum**2)\n",
      "c:\\Users\\PC314\\anaconda3\\Lib\\site-packages\\statsforecast\\core.py:494: FutureWarning: In a future version the predictions will have the id as a column. You can set the `NIXTLA_ID_AS_COL` environment variable to adopt the new behavior and to suppress this warning.\n",
      "  warnings.warn(\n",
      "C:\\Users\\PC314\\AppData\\Local\\Temp\\ipykernel_17148\\3122320333.py:50: SettingWithCopyWarning: \n",
      "A value is trying to be set on a copy of a slice from a DataFrame.\n",
      "Try using .loc[row_indexer,col_indexer] = value instead\n",
      "\n",
      "See the caveats in the documentation: https://pandas.pydata.org/pandas-docs/stable/user_guide/indexing.html#returning-a-view-versus-a-copy\n",
      "  train_df['y'] = series\n"
     ]
    },
    {
     "name": "stdout",
     "output_type": "stream",
     "text": [
      "Best Model for log_trend_boxcox_standardize: MSTL_ac_MFLES1 (MAPE: 809.42%)\n",
      "Training on transformed version: log_seasonality_boxcox_standardize\n"
     ]
    },
    {
     "name": "stderr",
     "output_type": "stream",
     "text": [
      "c:\\Users\\PC314\\anaconda3\\Lib\\site-packages\\statsforecast\\core.py:494: FutureWarning: In a future version the predictions will have the id as a column. You can set the `NIXTLA_ID_AS_COL` environment variable to adopt the new behavior and to suppress this warning.\n",
      "  warnings.warn(\n",
      "c:\\Users\\PC314\\anaconda3\\Lib\\site-packages\\statsforecast\\core.py:494: FutureWarning: In a future version the predictions will have the id as a column. You can set the `NIXTLA_ID_AS_COL` environment variable to adopt the new behavior and to suppress this warning.\n",
      "  warnings.warn(\n",
      "c:\\Users\\PC314\\anaconda3\\Lib\\site-packages\\statsforecast\\core.py:494: FutureWarning: In a future version the predictions will have the id as a column. You can set the `NIXTLA_ID_AS_COL` environment variable to adopt the new behavior and to suppress this warning.\n",
      "  warnings.warn(\n",
      "c:\\Users\\PC314\\anaconda3\\Lib\\site-packages\\statsforecast\\mfles.py:301: RuntimeWarning: overflow encountered in scalar multiply\n",
      "  slope = (M * x_y_sum - x_sum * y_sum) / (M * x_sq_sum - x_sum**2)\n",
      "c:\\Users\\PC314\\anaconda3\\Lib\\site-packages\\statsforecast\\core.py:494: FutureWarning: In a future version the predictions will have the id as a column. You can set the `NIXTLA_ID_AS_COL` environment variable to adopt the new behavior and to suppress this warning.\n",
      "  warnings.warn(\n",
      "c:\\Users\\PC314\\anaconda3\\Lib\\site-packages\\statsforecast\\mfles.py:301: RuntimeWarning: overflow encountered in scalar multiply\n",
      "  slope = (M * x_y_sum - x_sum * y_sum) / (M * x_sq_sum - x_sum**2)\n",
      "c:\\Users\\PC314\\anaconda3\\Lib\\site-packages\\statsforecast\\core.py:494: FutureWarning: In a future version the predictions will have the id as a column. You can set the `NIXTLA_ID_AS_COL` environment variable to adopt the new behavior and to suppress this warning.\n",
      "  warnings.warn(\n",
      "c:\\Users\\PC314\\anaconda3\\Lib\\site-packages\\statsforecast\\mfles.py:301: RuntimeWarning: overflow encountered in scalar multiply\n",
      "  slope = (M * x_y_sum - x_sum * y_sum) / (M * x_sq_sum - x_sum**2)\n",
      "c:\\Users\\PC314\\anaconda3\\Lib\\site-packages\\statsforecast\\core.py:494: FutureWarning: In a future version the predictions will have the id as a column. You can set the `NIXTLA_ID_AS_COL` environment variable to adopt the new behavior and to suppress this warning.\n",
      "  warnings.warn(\n",
      "C:\\Users\\PC314\\AppData\\Local\\Temp\\ipykernel_17148\\3122320333.py:50: SettingWithCopyWarning: \n",
      "A value is trying to be set on a copy of a slice from a DataFrame.\n",
      "Try using .loc[row_indexer,col_indexer] = value instead\n",
      "\n",
      "See the caveats in the documentation: https://pandas.pydata.org/pandas-docs/stable/user_guide/indexing.html#returning-a-view-versus-a-copy\n",
      "  train_df['y'] = series\n"
     ]
    },
    {
     "name": "stdout",
     "output_type": "stream",
     "text": [
      "Best Model for log_seasonality_boxcox_standardize: MSTL_a_ARIMA (MAPE: 95.02%)\n",
      "Training on transformed version: trend_seasonality_boxcox_standardize\n"
     ]
    },
    {
     "name": "stderr",
     "output_type": "stream",
     "text": [
      "c:\\Users\\PC314\\anaconda3\\Lib\\site-packages\\statsforecast\\core.py:494: FutureWarning: In a future version the predictions will have the id as a column. You can set the `NIXTLA_ID_AS_COL` environment variable to adopt the new behavior and to suppress this warning.\n",
      "  warnings.warn(\n",
      "c:\\Users\\PC314\\anaconda3\\Lib\\site-packages\\statsforecast\\core.py:494: FutureWarning: In a future version the predictions will have the id as a column. You can set the `NIXTLA_ID_AS_COL` environment variable to adopt the new behavior and to suppress this warning.\n",
      "  warnings.warn(\n",
      "c:\\Users\\PC314\\anaconda3\\Lib\\site-packages\\statsforecast\\core.py:494: FutureWarning: In a future version the predictions will have the id as a column. You can set the `NIXTLA_ID_AS_COL` environment variable to adopt the new behavior and to suppress this warning.\n",
      "  warnings.warn(\n",
      "c:\\Users\\PC314\\anaconda3\\Lib\\site-packages\\statsforecast\\core.py:494: FutureWarning: In a future version the predictions will have the id as a column. You can set the `NIXTLA_ID_AS_COL` environment variable to adopt the new behavior and to suppress this warning.\n",
      "  warnings.warn(\n",
      "c:\\Users\\PC314\\anaconda3\\Lib\\site-packages\\statsforecast\\core.py:494: FutureWarning: In a future version the predictions will have the id as a column. You can set the `NIXTLA_ID_AS_COL` environment variable to adopt the new behavior and to suppress this warning.\n",
      "  warnings.warn(\n",
      "c:\\Users\\PC314\\anaconda3\\Lib\\site-packages\\statsforecast\\core.py:494: FutureWarning: In a future version the predictions will have the id as a column. You can set the `NIXTLA_ID_AS_COL` environment variable to adopt the new behavior and to suppress this warning.\n",
      "  warnings.warn(\n",
      "C:\\Users\\PC314\\AppData\\Local\\Temp\\ipykernel_17148\\3122320333.py:50: SettingWithCopyWarning: \n",
      "A value is trying to be set on a copy of a slice from a DataFrame.\n",
      "Try using .loc[row_indexer,col_indexer] = value instead\n",
      "\n",
      "See the caveats in the documentation: https://pandas.pydata.org/pandas-docs/stable/user_guide/indexing.html#returning-a-view-versus-a-copy\n",
      "  train_df['y'] = series\n"
     ]
    },
    {
     "name": "stdout",
     "output_type": "stream",
     "text": [
      "Best Model for trend_seasonality_boxcox_standardize: MSTL_a_ARIMA (MAPE: 87.27%)\n",
      "Training on transformed version: log_trend_seasonality_boxcox_standardize\n"
     ]
    },
    {
     "name": "stderr",
     "output_type": "stream",
     "text": [
      "c:\\Users\\PC314\\anaconda3\\Lib\\site-packages\\statsforecast\\core.py:494: FutureWarning: In a future version the predictions will have the id as a column. You can set the `NIXTLA_ID_AS_COL` environment variable to adopt the new behavior and to suppress this warning.\n",
      "  warnings.warn(\n",
      "c:\\Users\\PC314\\anaconda3\\Lib\\site-packages\\statsforecast\\core.py:494: FutureWarning: In a future version the predictions will have the id as a column. You can set the `NIXTLA_ID_AS_COL` environment variable to adopt the new behavior and to suppress this warning.\n",
      "  warnings.warn(\n",
      "c:\\Users\\PC314\\anaconda3\\Lib\\site-packages\\statsforecast\\core.py:494: FutureWarning: In a future version the predictions will have the id as a column. You can set the `NIXTLA_ID_AS_COL` environment variable to adopt the new behavior and to suppress this warning.\n",
      "  warnings.warn(\n",
      "c:\\Users\\PC314\\anaconda3\\Lib\\site-packages\\statsforecast\\core.py:494: FutureWarning: In a future version the predictions will have the id as a column. You can set the `NIXTLA_ID_AS_COL` environment variable to adopt the new behavior and to suppress this warning.\n",
      "  warnings.warn(\n",
      "c:\\Users\\PC314\\anaconda3\\Lib\\site-packages\\statsforecast\\core.py:494: FutureWarning: In a future version the predictions will have the id as a column. You can set the `NIXTLA_ID_AS_COL` environment variable to adopt the new behavior and to suppress this warning.\n",
      "  warnings.warn(\n",
      "c:\\Users\\PC314\\anaconda3\\Lib\\site-packages\\statsforecast\\core.py:494: FutureWarning: In a future version the predictions will have the id as a column. You can set the `NIXTLA_ID_AS_COL` environment variable to adopt the new behavior and to suppress this warning.\n",
      "  warnings.warn(\n",
      "C:\\Users\\PC314\\AppData\\Local\\Temp\\ipykernel_17148\\2310296225.py:69: UserWarning: Failed to apply Box-Cox transformation: The `x` argument of `boxcox_normmax` must contain only positive, finite, real numbers.\n",
      "  warnings.warn(f\"Failed to apply Box-Cox transformation: {e}\")\n"
     ]
    },
    {
     "name": "stdout",
     "output_type": "stream",
     "text": [
      "Best Model for log_trend_seasonality_boxcox_standardize: MSTL_ac_MFLES1 (MAPE: 802.67%)\n",
      "Processing Sensor 2, Scenario: 24M_train\n",
      "Training on transformed version: original\n"
     ]
    },
    {
     "name": "stderr",
     "output_type": "stream",
     "text": [
      "C:\\Users\\PC314\\AppData\\Local\\Temp\\ipykernel_17148\\3122320333.py:50: SettingWithCopyWarning: \n",
      "A value is trying to be set on a copy of a slice from a DataFrame.\n",
      "Try using .loc[row_indexer,col_indexer] = value instead\n",
      "\n",
      "See the caveats in the documentation: https://pandas.pydata.org/pandas-docs/stable/user_guide/indexing.html#returning-a-view-versus-a-copy\n",
      "  train_df['y'] = series\n",
      "c:\\Users\\PC314\\anaconda3\\Lib\\site-packages\\statsforecast\\core.py:494: FutureWarning: In a future version the predictions will have the id as a column. You can set the `NIXTLA_ID_AS_COL` environment variable to adopt the new behavior and to suppress this warning.\n",
      "  warnings.warn(\n",
      "c:\\Users\\PC314\\anaconda3\\Lib\\site-packages\\statsforecast\\core.py:494: FutureWarning: In a future version the predictions will have the id as a column. You can set the `NIXTLA_ID_AS_COL` environment variable to adopt the new behavior and to suppress this warning.\n",
      "  warnings.warn(\n",
      "c:\\Users\\PC314\\anaconda3\\Lib\\site-packages\\statsforecast\\core.py:494: FutureWarning: In a future version the predictions will have the id as a column. You can set the `NIXTLA_ID_AS_COL` environment variable to adopt the new behavior and to suppress this warning.\n",
      "  warnings.warn(\n",
      "c:\\Users\\PC314\\anaconda3\\Lib\\site-packages\\statsforecast\\core.py:494: FutureWarning: In a future version the predictions will have the id as a column. You can set the `NIXTLA_ID_AS_COL` environment variable to adopt the new behavior and to suppress this warning.\n",
      "  warnings.warn(\n",
      "c:\\Users\\PC314\\anaconda3\\Lib\\site-packages\\statsforecast\\core.py:494: FutureWarning: In a future version the predictions will have the id as a column. You can set the `NIXTLA_ID_AS_COL` environment variable to adopt the new behavior and to suppress this warning.\n",
      "  warnings.warn(\n",
      "c:\\Users\\PC314\\anaconda3\\Lib\\site-packages\\statsforecast\\core.py:494: FutureWarning: In a future version the predictions will have the id as a column. You can set the `NIXTLA_ID_AS_COL` environment variable to adopt the new behavior and to suppress this warning.\n",
      "  warnings.warn(\n",
      "C:\\Users\\PC314\\AppData\\Local\\Temp\\ipykernel_17148\\3122320333.py:50: SettingWithCopyWarning: \n",
      "A value is trying to be set on a copy of a slice from a DataFrame.\n",
      "Try using .loc[row_indexer,col_indexer] = value instead\n",
      "\n",
      "See the caveats in the documentation: https://pandas.pydata.org/pandas-docs/stable/user_guide/indexing.html#returning-a-view-versus-a-copy\n",
      "  train_df['y'] = series\n"
     ]
    },
    {
     "name": "stdout",
     "output_type": "stream",
     "text": [
      "Best Model for original: MSTL_ac_ARIMA (MAPE: 41.49%)\n",
      "Saving model 2_24M_train_original_MSTL_ac_ARIMA_c9e8b6d5\n",
      "Training on transformed version: log\n"
     ]
    },
    {
     "name": "stderr",
     "output_type": "stream",
     "text": [
      "c:\\Users\\PC314\\anaconda3\\Lib\\site-packages\\statsforecast\\core.py:494: FutureWarning: In a future version the predictions will have the id as a column. You can set the `NIXTLA_ID_AS_COL` environment variable to adopt the new behavior and to suppress this warning.\n",
      "  warnings.warn(\n",
      "c:\\Users\\PC314\\anaconda3\\Lib\\site-packages\\statsforecast\\core.py:494: FutureWarning: In a future version the predictions will have the id as a column. You can set the `NIXTLA_ID_AS_COL` environment variable to adopt the new behavior and to suppress this warning.\n",
      "  warnings.warn(\n",
      "c:\\Users\\PC314\\anaconda3\\Lib\\site-packages\\statsforecast\\core.py:494: FutureWarning: In a future version the predictions will have the id as a column. You can set the `NIXTLA_ID_AS_COL` environment variable to adopt the new behavior and to suppress this warning.\n",
      "  warnings.warn(\n",
      "c:\\Users\\PC314\\anaconda3\\Lib\\site-packages\\statsforecast\\mfles.py:301: RuntimeWarning: overflow encountered in scalar multiply\n",
      "  slope = (M * x_y_sum - x_sum * y_sum) / (M * x_sq_sum - x_sum**2)\n",
      "c:\\Users\\PC314\\anaconda3\\Lib\\site-packages\\statsforecast\\mfles.py:301: RuntimeWarning: overflow encountered in scalar subtract\n",
      "  slope = (M * x_y_sum - x_sum * y_sum) / (M * x_sq_sum - x_sum**2)\n",
      "c:\\Users\\PC314\\anaconda3\\Lib\\site-packages\\statsforecast\\core.py:494: FutureWarning: In a future version the predictions will have the id as a column. You can set the `NIXTLA_ID_AS_COL` environment variable to adopt the new behavior and to suppress this warning.\n",
      "  warnings.warn(\n",
      "c:\\Users\\PC314\\anaconda3\\Lib\\site-packages\\statsforecast\\mfles.py:301: RuntimeWarning: overflow encountered in scalar multiply\n",
      "  slope = (M * x_y_sum - x_sum * y_sum) / (M * x_sq_sum - x_sum**2)\n",
      "c:\\Users\\PC314\\anaconda3\\Lib\\site-packages\\statsforecast\\mfles.py:301: RuntimeWarning: overflow encountered in scalar subtract\n",
      "  slope = (M * x_y_sum - x_sum * y_sum) / (M * x_sq_sum - x_sum**2)\n",
      "c:\\Users\\PC314\\anaconda3\\Lib\\site-packages\\statsforecast\\core.py:494: FutureWarning: In a future version the predictions will have the id as a column. You can set the `NIXTLA_ID_AS_COL` environment variable to adopt the new behavior and to suppress this warning.\n",
      "  warnings.warn(\n",
      "c:\\Users\\PC314\\anaconda3\\Lib\\site-packages\\statsforecast\\mfles.py:301: RuntimeWarning: overflow encountered in scalar multiply\n",
      "  slope = (M * x_y_sum - x_sum * y_sum) / (M * x_sq_sum - x_sum**2)\n",
      "c:\\Users\\PC314\\anaconda3\\Lib\\site-packages\\statsforecast\\mfles.py:301: RuntimeWarning: overflow encountered in scalar subtract\n",
      "  slope = (M * x_y_sum - x_sum * y_sum) / (M * x_sq_sum - x_sum**2)\n",
      "c:\\Users\\PC314\\anaconda3\\Lib\\site-packages\\statsforecast\\core.py:494: FutureWarning: In a future version the predictions will have the id as a column. You can set the `NIXTLA_ID_AS_COL` environment variable to adopt the new behavior and to suppress this warning.\n",
      "  warnings.warn(\n",
      "C:\\Users\\PC314\\AppData\\Local\\Temp\\ipykernel_17148\\3122320333.py:50: SettingWithCopyWarning: \n",
      "A value is trying to be set on a copy of a slice from a DataFrame.\n",
      "Try using .loc[row_indexer,col_indexer] = value instead\n",
      "\n",
      "See the caveats in the documentation: https://pandas.pydata.org/pandas-docs/stable/user_guide/indexing.html#returning-a-view-versus-a-copy\n",
      "  train_df['y'] = series\n"
     ]
    },
    {
     "name": "stdout",
     "output_type": "stream",
     "text": [
      "Best Model for log: MSTL_ac_ARIMA (MAPE: 40.07%)\n",
      "Saving model 2_24M_train_log_MSTL_ac_ARIMA_0480ec49\n",
      "Training on transformed version: trend\n"
     ]
    },
    {
     "name": "stderr",
     "output_type": "stream",
     "text": [
      "c:\\Users\\PC314\\anaconda3\\Lib\\site-packages\\statsforecast\\core.py:494: FutureWarning: In a future version the predictions will have the id as a column. You can set the `NIXTLA_ID_AS_COL` environment variable to adopt the new behavior and to suppress this warning.\n",
      "  warnings.warn(\n",
      "c:\\Users\\PC314\\anaconda3\\Lib\\site-packages\\statsforecast\\core.py:494: FutureWarning: In a future version the predictions will have the id as a column. You can set the `NIXTLA_ID_AS_COL` environment variable to adopt the new behavior and to suppress this warning.\n",
      "  warnings.warn(\n",
      "c:\\Users\\PC314\\anaconda3\\Lib\\site-packages\\statsforecast\\core.py:494: FutureWarning: In a future version the predictions will have the id as a column. You can set the `NIXTLA_ID_AS_COL` environment variable to adopt the new behavior and to suppress this warning.\n",
      "  warnings.warn(\n",
      "c:\\Users\\PC314\\anaconda3\\Lib\\site-packages\\statsforecast\\mfles.py:301: RuntimeWarning: overflow encountered in scalar multiply\n",
      "  slope = (M * x_y_sum - x_sum * y_sum) / (M * x_sq_sum - x_sum**2)\n",
      "c:\\Users\\PC314\\anaconda3\\Lib\\site-packages\\statsforecast\\mfles.py:301: RuntimeWarning: overflow encountered in scalar subtract\n",
      "  slope = (M * x_y_sum - x_sum * y_sum) / (M * x_sq_sum - x_sum**2)\n",
      "c:\\Users\\PC314\\anaconda3\\Lib\\site-packages\\statsforecast\\core.py:494: FutureWarning: In a future version the predictions will have the id as a column. You can set the `NIXTLA_ID_AS_COL` environment variable to adopt the new behavior and to suppress this warning.\n",
      "  warnings.warn(\n",
      "c:\\Users\\PC314\\anaconda3\\Lib\\site-packages\\statsforecast\\mfles.py:301: RuntimeWarning: overflow encountered in scalar multiply\n",
      "  slope = (M * x_y_sum - x_sum * y_sum) / (M * x_sq_sum - x_sum**2)\n",
      "c:\\Users\\PC314\\anaconda3\\Lib\\site-packages\\statsforecast\\mfles.py:301: RuntimeWarning: overflow encountered in scalar subtract\n",
      "  slope = (M * x_y_sum - x_sum * y_sum) / (M * x_sq_sum - x_sum**2)\n",
      "c:\\Users\\PC314\\anaconda3\\Lib\\site-packages\\statsforecast\\core.py:494: FutureWarning: In a future version the predictions will have the id as a column. You can set the `NIXTLA_ID_AS_COL` environment variable to adopt the new behavior and to suppress this warning.\n",
      "  warnings.warn(\n",
      "c:\\Users\\PC314\\anaconda3\\Lib\\site-packages\\statsforecast\\mfles.py:301: RuntimeWarning: overflow encountered in scalar multiply\n",
      "  slope = (M * x_y_sum - x_sum * y_sum) / (M * x_sq_sum - x_sum**2)\n",
      "c:\\Users\\PC314\\anaconda3\\Lib\\site-packages\\statsforecast\\mfles.py:301: RuntimeWarning: overflow encountered in scalar subtract\n",
      "  slope = (M * x_y_sum - x_sum * y_sum) / (M * x_sq_sum - x_sum**2)\n",
      "c:\\Users\\PC314\\anaconda3\\Lib\\site-packages\\statsforecast\\core.py:494: FutureWarning: In a future version the predictions will have the id as a column. You can set the `NIXTLA_ID_AS_COL` environment variable to adopt the new behavior and to suppress this warning.\n",
      "  warnings.warn(\n",
      "C:\\Users\\PC314\\AppData\\Local\\Temp\\ipykernel_17148\\3122320333.py:50: SettingWithCopyWarning: \n",
      "A value is trying to be set on a copy of a slice from a DataFrame.\n",
      "Try using .loc[row_indexer,col_indexer] = value instead\n",
      "\n",
      "See the caveats in the documentation: https://pandas.pydata.org/pandas-docs/stable/user_guide/indexing.html#returning-a-view-versus-a-copy\n",
      "  train_df['y'] = series\n"
     ]
    },
    {
     "name": "stdout",
     "output_type": "stream",
     "text": [
      "Best Model for trend: MSTL_a_ARIMA (MAPE: 88.78%)\n",
      "Training on transformed version: seasonality\n"
     ]
    },
    {
     "name": "stderr",
     "output_type": "stream",
     "text": [
      "c:\\Users\\PC314\\anaconda3\\Lib\\site-packages\\statsforecast\\core.py:494: FutureWarning: In a future version the predictions will have the id as a column. You can set the `NIXTLA_ID_AS_COL` environment variable to adopt the new behavior and to suppress this warning.\n",
      "  warnings.warn(\n",
      "c:\\Users\\PC314\\anaconda3\\Lib\\site-packages\\statsforecast\\core.py:494: FutureWarning: In a future version the predictions will have the id as a column. You can set the `NIXTLA_ID_AS_COL` environment variable to adopt the new behavior and to suppress this warning.\n",
      "  warnings.warn(\n",
      "c:\\Users\\PC314\\anaconda3\\Lib\\site-packages\\statsforecast\\core.py:494: FutureWarning: In a future version the predictions will have the id as a column. You can set the `NIXTLA_ID_AS_COL` environment variable to adopt the new behavior and to suppress this warning.\n",
      "  warnings.warn(\n",
      "c:\\Users\\PC314\\anaconda3\\Lib\\site-packages\\statsforecast\\core.py:494: FutureWarning: In a future version the predictions will have the id as a column. You can set the `NIXTLA_ID_AS_COL` environment variable to adopt the new behavior and to suppress this warning.\n",
      "  warnings.warn(\n",
      "c:\\Users\\PC314\\anaconda3\\Lib\\site-packages\\statsforecast\\core.py:494: FutureWarning: In a future version the predictions will have the id as a column. You can set the `NIXTLA_ID_AS_COL` environment variable to adopt the new behavior and to suppress this warning.\n",
      "  warnings.warn(\n",
      "c:\\Users\\PC314\\anaconda3\\Lib\\site-packages\\statsforecast\\core.py:494: FutureWarning: In a future version the predictions will have the id as a column. You can set the `NIXTLA_ID_AS_COL` environment variable to adopt the new behavior and to suppress this warning.\n",
      "  warnings.warn(\n",
      "C:\\Users\\PC314\\AppData\\Local\\Temp\\ipykernel_17148\\3122320333.py:50: SettingWithCopyWarning: \n",
      "A value is trying to be set on a copy of a slice from a DataFrame.\n",
      "Try using .loc[row_indexer,col_indexer] = value instead\n",
      "\n",
      "See the caveats in the documentation: https://pandas.pydata.org/pandas-docs/stable/user_guide/indexing.html#returning-a-view-versus-a-copy\n",
      "  train_df['y'] = series\n"
     ]
    },
    {
     "name": "stdout",
     "output_type": "stream",
     "text": [
      "Best Model for seasonality: MSTL_a_ARIMA (MAPE: 107.23%)\n",
      "Training on transformed version: boxcox\n"
     ]
    },
    {
     "name": "stderr",
     "output_type": "stream",
     "text": [
      "c:\\Users\\PC314\\anaconda3\\Lib\\site-packages\\statsforecast\\core.py:494: FutureWarning: In a future version the predictions will have the id as a column. You can set the `NIXTLA_ID_AS_COL` environment variable to adopt the new behavior and to suppress this warning.\n",
      "  warnings.warn(\n",
      "c:\\Users\\PC314\\anaconda3\\Lib\\site-packages\\statsforecast\\core.py:494: FutureWarning: In a future version the predictions will have the id as a column. You can set the `NIXTLA_ID_AS_COL` environment variable to adopt the new behavior and to suppress this warning.\n",
      "  warnings.warn(\n",
      "c:\\Users\\PC314\\anaconda3\\Lib\\site-packages\\statsforecast\\core.py:494: FutureWarning: In a future version the predictions will have the id as a column. You can set the `NIXTLA_ID_AS_COL` environment variable to adopt the new behavior and to suppress this warning.\n",
      "  warnings.warn(\n",
      "c:\\Users\\PC314\\anaconda3\\Lib\\site-packages\\statsforecast\\mfles.py:301: RuntimeWarning: overflow encountered in scalar multiply\n",
      "  slope = (M * x_y_sum - x_sum * y_sum) / (M * x_sq_sum - x_sum**2)\n",
      "c:\\Users\\PC314\\anaconda3\\Lib\\site-packages\\statsforecast\\mfles.py:301: RuntimeWarning: overflow encountered in scalar subtract\n",
      "  slope = (M * x_y_sum - x_sum * y_sum) / (M * x_sq_sum - x_sum**2)\n",
      "c:\\Users\\PC314\\anaconda3\\Lib\\site-packages\\statsforecast\\core.py:494: FutureWarning: In a future version the predictions will have the id as a column. You can set the `NIXTLA_ID_AS_COL` environment variable to adopt the new behavior and to suppress this warning.\n",
      "  warnings.warn(\n",
      "c:\\Users\\PC314\\anaconda3\\Lib\\site-packages\\statsforecast\\mfles.py:301: RuntimeWarning: overflow encountered in scalar multiply\n",
      "  slope = (M * x_y_sum - x_sum * y_sum) / (M * x_sq_sum - x_sum**2)\n",
      "c:\\Users\\PC314\\anaconda3\\Lib\\site-packages\\statsforecast\\mfles.py:301: RuntimeWarning: overflow encountered in scalar subtract\n",
      "  slope = (M * x_y_sum - x_sum * y_sum) / (M * x_sq_sum - x_sum**2)\n",
      "c:\\Users\\PC314\\anaconda3\\Lib\\site-packages\\statsforecast\\core.py:494: FutureWarning: In a future version the predictions will have the id as a column. You can set the `NIXTLA_ID_AS_COL` environment variable to adopt the new behavior and to suppress this warning.\n",
      "  warnings.warn(\n",
      "c:\\Users\\PC314\\anaconda3\\Lib\\site-packages\\statsforecast\\mfles.py:301: RuntimeWarning: overflow encountered in scalar multiply\n",
      "  slope = (M * x_y_sum - x_sum * y_sum) / (M * x_sq_sum - x_sum**2)\n",
      "c:\\Users\\PC314\\anaconda3\\Lib\\site-packages\\statsforecast\\mfles.py:301: RuntimeWarning: overflow encountered in scalar subtract\n",
      "  slope = (M * x_y_sum - x_sum * y_sum) / (M * x_sq_sum - x_sum**2)\n",
      "c:\\Users\\PC314\\anaconda3\\Lib\\site-packages\\statsforecast\\core.py:494: FutureWarning: In a future version the predictions will have the id as a column. You can set the `NIXTLA_ID_AS_COL` environment variable to adopt the new behavior and to suppress this warning.\n",
      "  warnings.warn(\n",
      "C:\\Users\\PC314\\AppData\\Local\\Temp\\ipykernel_17148\\3122320333.py:50: SettingWithCopyWarning: \n",
      "A value is trying to be set on a copy of a slice from a DataFrame.\n",
      "Try using .loc[row_indexer,col_indexer] = value instead\n",
      "\n",
      "See the caveats in the documentation: https://pandas.pydata.org/pandas-docs/stable/user_guide/indexing.html#returning-a-view-versus-a-copy\n",
      "  train_df['y'] = series\n"
     ]
    },
    {
     "name": "stdout",
     "output_type": "stream",
     "text": [
      "Best Model for boxcox: MSTL_ac_MFLES1 (MAPE: 41.42%)\n",
      "Saving model 2_24M_train_boxcox_MSTL_ac_MFLES1_5e4f8006\n",
      "Training on transformed version: standardize\n"
     ]
    },
    {
     "name": "stderr",
     "output_type": "stream",
     "text": [
      "c:\\Users\\PC314\\anaconda3\\Lib\\site-packages\\statsforecast\\core.py:494: FutureWarning: In a future version the predictions will have the id as a column. You can set the `NIXTLA_ID_AS_COL` environment variable to adopt the new behavior and to suppress this warning.\n",
      "  warnings.warn(\n",
      "c:\\Users\\PC314\\anaconda3\\Lib\\site-packages\\statsforecast\\core.py:494: FutureWarning: In a future version the predictions will have the id as a column. You can set the `NIXTLA_ID_AS_COL` environment variable to adopt the new behavior and to suppress this warning.\n",
      "  warnings.warn(\n",
      "c:\\Users\\PC314\\anaconda3\\Lib\\site-packages\\statsforecast\\core.py:494: FutureWarning: In a future version the predictions will have the id as a column. You can set the `NIXTLA_ID_AS_COL` environment variable to adopt the new behavior and to suppress this warning.\n",
      "  warnings.warn(\n",
      "c:\\Users\\PC314\\anaconda3\\Lib\\site-packages\\statsforecast\\core.py:494: FutureWarning: In a future version the predictions will have the id as a column. You can set the `NIXTLA_ID_AS_COL` environment variable to adopt the new behavior and to suppress this warning.\n",
      "  warnings.warn(\n",
      "c:\\Users\\PC314\\anaconda3\\Lib\\site-packages\\statsforecast\\core.py:494: FutureWarning: In a future version the predictions will have the id as a column. You can set the `NIXTLA_ID_AS_COL` environment variable to adopt the new behavior and to suppress this warning.\n",
      "  warnings.warn(\n",
      "c:\\Users\\PC314\\anaconda3\\Lib\\site-packages\\statsforecast\\core.py:494: FutureWarning: In a future version the predictions will have the id as a column. You can set the `NIXTLA_ID_AS_COL` environment variable to adopt the new behavior and to suppress this warning.\n",
      "  warnings.warn(\n",
      "C:\\Users\\PC314\\AppData\\Local\\Temp\\ipykernel_17148\\3122320333.py:50: SettingWithCopyWarning: \n",
      "A value is trying to be set on a copy of a slice from a DataFrame.\n",
      "Try using .loc[row_indexer,col_indexer] = value instead\n",
      "\n",
      "See the caveats in the documentation: https://pandas.pydata.org/pandas-docs/stable/user_guide/indexing.html#returning-a-view-versus-a-copy\n",
      "  train_df['y'] = series\n"
     ]
    },
    {
     "name": "stdout",
     "output_type": "stream",
     "text": [
      "Best Model for standardize: MSTL_a_ARIMA (MAPE: 99.89%)\n",
      "Training on transformed version: log_trend\n"
     ]
    },
    {
     "name": "stderr",
     "output_type": "stream",
     "text": [
      "c:\\Users\\PC314\\anaconda3\\Lib\\site-packages\\statsforecast\\core.py:494: FutureWarning: In a future version the predictions will have the id as a column. You can set the `NIXTLA_ID_AS_COL` environment variable to adopt the new behavior and to suppress this warning.\n",
      "  warnings.warn(\n",
      "c:\\Users\\PC314\\anaconda3\\Lib\\site-packages\\statsforecast\\core.py:494: FutureWarning: In a future version the predictions will have the id as a column. You can set the `NIXTLA_ID_AS_COL` environment variable to adopt the new behavior and to suppress this warning.\n",
      "  warnings.warn(\n",
      "c:\\Users\\PC314\\anaconda3\\Lib\\site-packages\\statsforecast\\core.py:494: FutureWarning: In a future version the predictions will have the id as a column. You can set the `NIXTLA_ID_AS_COL` environment variable to adopt the new behavior and to suppress this warning.\n",
      "  warnings.warn(\n",
      "c:\\Users\\PC314\\anaconda3\\Lib\\site-packages\\statsforecast\\mfles.py:301: RuntimeWarning: overflow encountered in scalar multiply\n",
      "  slope = (M * x_y_sum - x_sum * y_sum) / (M * x_sq_sum - x_sum**2)\n",
      "c:\\Users\\PC314\\anaconda3\\Lib\\site-packages\\statsforecast\\mfles.py:301: RuntimeWarning: overflow encountered in scalar subtract\n",
      "  slope = (M * x_y_sum - x_sum * y_sum) / (M * x_sq_sum - x_sum**2)\n",
      "c:\\Users\\PC314\\anaconda3\\Lib\\site-packages\\statsforecast\\core.py:494: FutureWarning: In a future version the predictions will have the id as a column. You can set the `NIXTLA_ID_AS_COL` environment variable to adopt the new behavior and to suppress this warning.\n",
      "  warnings.warn(\n",
      "c:\\Users\\PC314\\anaconda3\\Lib\\site-packages\\statsforecast\\mfles.py:301: RuntimeWarning: overflow encountered in scalar multiply\n",
      "  slope = (M * x_y_sum - x_sum * y_sum) / (M * x_sq_sum - x_sum**2)\n",
      "c:\\Users\\PC314\\anaconda3\\Lib\\site-packages\\statsforecast\\mfles.py:301: RuntimeWarning: overflow encountered in scalar subtract\n",
      "  slope = (M * x_y_sum - x_sum * y_sum) / (M * x_sq_sum - x_sum**2)\n",
      "c:\\Users\\PC314\\anaconda3\\Lib\\site-packages\\statsforecast\\core.py:494: FutureWarning: In a future version the predictions will have the id as a column. You can set the `NIXTLA_ID_AS_COL` environment variable to adopt the new behavior and to suppress this warning.\n",
      "  warnings.warn(\n",
      "c:\\Users\\PC314\\anaconda3\\Lib\\site-packages\\statsforecast\\mfles.py:301: RuntimeWarning: overflow encountered in scalar multiply\n",
      "  slope = (M * x_y_sum - x_sum * y_sum) / (M * x_sq_sum - x_sum**2)\n",
      "c:\\Users\\PC314\\anaconda3\\Lib\\site-packages\\statsforecast\\mfles.py:301: RuntimeWarning: overflow encountered in scalar subtract\n",
      "  slope = (M * x_y_sum - x_sum * y_sum) / (M * x_sq_sum - x_sum**2)\n",
      "c:\\Users\\PC314\\anaconda3\\Lib\\site-packages\\statsforecast\\core.py:494: FutureWarning: In a future version the predictions will have the id as a column. You can set the `NIXTLA_ID_AS_COL` environment variable to adopt the new behavior and to suppress this warning.\n",
      "  warnings.warn(\n",
      "C:\\Users\\PC314\\AppData\\Local\\Temp\\ipykernel_17148\\3122320333.py:50: SettingWithCopyWarning: \n",
      "A value is trying to be set on a copy of a slice from a DataFrame.\n",
      "Try using .loc[row_indexer,col_indexer] = value instead\n",
      "\n",
      "See the caveats in the documentation: https://pandas.pydata.org/pandas-docs/stable/user_guide/indexing.html#returning-a-view-versus-a-copy\n",
      "  train_df['y'] = series\n"
     ]
    },
    {
     "name": "stdout",
     "output_type": "stream",
     "text": [
      "Best Model for log_trend: MSTL_a_ARIMA (MAPE: 1017.53%)\n",
      "Training on transformed version: log_seasonality\n"
     ]
    },
    {
     "name": "stderr",
     "output_type": "stream",
     "text": [
      "c:\\Users\\PC314\\anaconda3\\Lib\\site-packages\\statsforecast\\core.py:494: FutureWarning: In a future version the predictions will have the id as a column. You can set the `NIXTLA_ID_AS_COL` environment variable to adopt the new behavior and to suppress this warning.\n",
      "  warnings.warn(\n",
      "c:\\Users\\PC314\\anaconda3\\Lib\\site-packages\\statsforecast\\core.py:494: FutureWarning: In a future version the predictions will have the id as a column. You can set the `NIXTLA_ID_AS_COL` environment variable to adopt the new behavior and to suppress this warning.\n",
      "  warnings.warn(\n",
      "c:\\Users\\PC314\\anaconda3\\Lib\\site-packages\\statsforecast\\core.py:494: FutureWarning: In a future version the predictions will have the id as a column. You can set the `NIXTLA_ID_AS_COL` environment variable to adopt the new behavior and to suppress this warning.\n",
      "  warnings.warn(\n",
      "c:\\Users\\PC314\\anaconda3\\Lib\\site-packages\\statsforecast\\mfles.py:301: RuntimeWarning: overflow encountered in scalar multiply\n",
      "  slope = (M * x_y_sum - x_sum * y_sum) / (M * x_sq_sum - x_sum**2)\n",
      "c:\\Users\\PC314\\anaconda3\\Lib\\site-packages\\statsforecast\\mfles.py:301: RuntimeWarning: overflow encountered in scalar subtract\n",
      "  slope = (M * x_y_sum - x_sum * y_sum) / (M * x_sq_sum - x_sum**2)\n",
      "c:\\Users\\PC314\\anaconda3\\Lib\\site-packages\\statsforecast\\core.py:494: FutureWarning: In a future version the predictions will have the id as a column. You can set the `NIXTLA_ID_AS_COL` environment variable to adopt the new behavior and to suppress this warning.\n",
      "  warnings.warn(\n",
      "c:\\Users\\PC314\\anaconda3\\Lib\\site-packages\\statsforecast\\mfles.py:301: RuntimeWarning: overflow encountered in scalar multiply\n",
      "  slope = (M * x_y_sum - x_sum * y_sum) / (M * x_sq_sum - x_sum**2)\n",
      "c:\\Users\\PC314\\anaconda3\\Lib\\site-packages\\statsforecast\\mfles.py:301: RuntimeWarning: overflow encountered in scalar subtract\n",
      "  slope = (M * x_y_sum - x_sum * y_sum) / (M * x_sq_sum - x_sum**2)\n",
      "c:\\Users\\PC314\\anaconda3\\Lib\\site-packages\\statsforecast\\core.py:494: FutureWarning: In a future version the predictions will have the id as a column. You can set the `NIXTLA_ID_AS_COL` environment variable to adopt the new behavior and to suppress this warning.\n",
      "  warnings.warn(\n",
      "c:\\Users\\PC314\\anaconda3\\Lib\\site-packages\\statsforecast\\mfles.py:301: RuntimeWarning: overflow encountered in scalar multiply\n",
      "  slope = (M * x_y_sum - x_sum * y_sum) / (M * x_sq_sum - x_sum**2)\n",
      "c:\\Users\\PC314\\anaconda3\\Lib\\site-packages\\statsforecast\\mfles.py:301: RuntimeWarning: overflow encountered in scalar subtract\n",
      "  slope = (M * x_y_sum - x_sum * y_sum) / (M * x_sq_sum - x_sum**2)\n",
      "c:\\Users\\PC314\\anaconda3\\Lib\\site-packages\\statsforecast\\core.py:494: FutureWarning: In a future version the predictions will have the id as a column. You can set the `NIXTLA_ID_AS_COL` environment variable to adopt the new behavior and to suppress this warning.\n",
      "  warnings.warn(\n",
      "C:\\Users\\PC314\\AppData\\Local\\Temp\\ipykernel_17148\\3122320333.py:50: SettingWithCopyWarning: \n",
      "A value is trying to be set on a copy of a slice from a DataFrame.\n",
      "Try using .loc[row_indexer,col_indexer] = value instead\n",
      "\n",
      "See the caveats in the documentation: https://pandas.pydata.org/pandas-docs/stable/user_guide/indexing.html#returning-a-view-versus-a-copy\n",
      "  train_df['y'] = series\n"
     ]
    },
    {
     "name": "stdout",
     "output_type": "stream",
     "text": [
      "Best Model for log_seasonality: MSTL_ac_ARIMA (MAPE: 79.52%)\n",
      "Training on transformed version: log_boxcox\n"
     ]
    },
    {
     "name": "stderr",
     "output_type": "stream",
     "text": [
      "c:\\Users\\PC314\\anaconda3\\Lib\\site-packages\\statsforecast\\core.py:494: FutureWarning: In a future version the predictions will have the id as a column. You can set the `NIXTLA_ID_AS_COL` environment variable to adopt the new behavior and to suppress this warning.\n",
      "  warnings.warn(\n",
      "c:\\Users\\PC314\\anaconda3\\Lib\\site-packages\\statsforecast\\core.py:494: FutureWarning: In a future version the predictions will have the id as a column. You can set the `NIXTLA_ID_AS_COL` environment variable to adopt the new behavior and to suppress this warning.\n",
      "  warnings.warn(\n",
      "c:\\Users\\PC314\\anaconda3\\Lib\\site-packages\\statsforecast\\core.py:494: FutureWarning: In a future version the predictions will have the id as a column. You can set the `NIXTLA_ID_AS_COL` environment variable to adopt the new behavior and to suppress this warning.\n",
      "  warnings.warn(\n",
      "c:\\Users\\PC314\\anaconda3\\Lib\\site-packages\\statsforecast\\mfles.py:301: RuntimeWarning: overflow encountered in scalar multiply\n",
      "  slope = (M * x_y_sum - x_sum * y_sum) / (M * x_sq_sum - x_sum**2)\n",
      "c:\\Users\\PC314\\anaconda3\\Lib\\site-packages\\statsforecast\\mfles.py:301: RuntimeWarning: overflow encountered in scalar subtract\n",
      "  slope = (M * x_y_sum - x_sum * y_sum) / (M * x_sq_sum - x_sum**2)\n",
      "c:\\Users\\PC314\\anaconda3\\Lib\\site-packages\\statsforecast\\core.py:494: FutureWarning: In a future version the predictions will have the id as a column. You can set the `NIXTLA_ID_AS_COL` environment variable to adopt the new behavior and to suppress this warning.\n",
      "  warnings.warn(\n",
      "c:\\Users\\PC314\\anaconda3\\Lib\\site-packages\\statsforecast\\mfles.py:301: RuntimeWarning: overflow encountered in scalar multiply\n",
      "  slope = (M * x_y_sum - x_sum * y_sum) / (M * x_sq_sum - x_sum**2)\n",
      "c:\\Users\\PC314\\anaconda3\\Lib\\site-packages\\statsforecast\\mfles.py:301: RuntimeWarning: overflow encountered in scalar subtract\n",
      "  slope = (M * x_y_sum - x_sum * y_sum) / (M * x_sq_sum - x_sum**2)\n",
      "c:\\Users\\PC314\\anaconda3\\Lib\\site-packages\\statsforecast\\core.py:494: FutureWarning: In a future version the predictions will have the id as a column. You can set the `NIXTLA_ID_AS_COL` environment variable to adopt the new behavior and to suppress this warning.\n",
      "  warnings.warn(\n",
      "c:\\Users\\PC314\\anaconda3\\Lib\\site-packages\\statsforecast\\mfles.py:301: RuntimeWarning: overflow encountered in scalar multiply\n",
      "  slope = (M * x_y_sum - x_sum * y_sum) / (M * x_sq_sum - x_sum**2)\n",
      "c:\\Users\\PC314\\anaconda3\\Lib\\site-packages\\statsforecast\\mfles.py:301: RuntimeWarning: overflow encountered in scalar subtract\n",
      "  slope = (M * x_y_sum - x_sum * y_sum) / (M * x_sq_sum - x_sum**2)\n",
      "c:\\Users\\PC314\\anaconda3\\Lib\\site-packages\\statsforecast\\core.py:494: FutureWarning: In a future version the predictions will have the id as a column. You can set the `NIXTLA_ID_AS_COL` environment variable to adopt the new behavior and to suppress this warning.\n",
      "  warnings.warn(\n",
      "C:\\Users\\PC314\\AppData\\Local\\Temp\\ipykernel_17148\\3122320333.py:50: SettingWithCopyWarning: \n",
      "A value is trying to be set on a copy of a slice from a DataFrame.\n",
      "Try using .loc[row_indexer,col_indexer] = value instead\n",
      "\n",
      "See the caveats in the documentation: https://pandas.pydata.org/pandas-docs/stable/user_guide/indexing.html#returning-a-view-versus-a-copy\n",
      "  train_df['y'] = series\n"
     ]
    },
    {
     "name": "stdout",
     "output_type": "stream",
     "text": [
      "Best Model for log_boxcox: MSTL_ac_MFLES1 (MAPE: 462.33%)\n",
      "Training on transformed version: log_standardize\n"
     ]
    },
    {
     "name": "stderr",
     "output_type": "stream",
     "text": [
      "c:\\Users\\PC314\\anaconda3\\Lib\\site-packages\\statsforecast\\core.py:494: FutureWarning: In a future version the predictions will have the id as a column. You can set the `NIXTLA_ID_AS_COL` environment variable to adopt the new behavior and to suppress this warning.\n",
      "  warnings.warn(\n",
      "c:\\Users\\PC314\\anaconda3\\Lib\\site-packages\\statsforecast\\core.py:494: FutureWarning: In a future version the predictions will have the id as a column. You can set the `NIXTLA_ID_AS_COL` environment variable to adopt the new behavior and to suppress this warning.\n",
      "  warnings.warn(\n",
      "c:\\Users\\PC314\\anaconda3\\Lib\\site-packages\\statsforecast\\core.py:494: FutureWarning: In a future version the predictions will have the id as a column. You can set the `NIXTLA_ID_AS_COL` environment variable to adopt the new behavior and to suppress this warning.\n",
      "  warnings.warn(\n",
      "c:\\Users\\PC314\\anaconda3\\Lib\\site-packages\\statsforecast\\mfles.py:301: RuntimeWarning: overflow encountered in scalar multiply\n",
      "  slope = (M * x_y_sum - x_sum * y_sum) / (M * x_sq_sum - x_sum**2)\n",
      "c:\\Users\\PC314\\anaconda3\\Lib\\site-packages\\statsforecast\\mfles.py:301: RuntimeWarning: overflow encountered in scalar subtract\n",
      "  slope = (M * x_y_sum - x_sum * y_sum) / (M * x_sq_sum - x_sum**2)\n",
      "c:\\Users\\PC314\\anaconda3\\Lib\\site-packages\\statsforecast\\core.py:494: FutureWarning: In a future version the predictions will have the id as a column. You can set the `NIXTLA_ID_AS_COL` environment variable to adopt the new behavior and to suppress this warning.\n",
      "  warnings.warn(\n",
      "c:\\Users\\PC314\\anaconda3\\Lib\\site-packages\\statsforecast\\mfles.py:301: RuntimeWarning: overflow encountered in scalar multiply\n",
      "  slope = (M * x_y_sum - x_sum * y_sum) / (M * x_sq_sum - x_sum**2)\n",
      "c:\\Users\\PC314\\anaconda3\\Lib\\site-packages\\statsforecast\\mfles.py:301: RuntimeWarning: overflow encountered in scalar subtract\n",
      "  slope = (M * x_y_sum - x_sum * y_sum) / (M * x_sq_sum - x_sum**2)\n",
      "c:\\Users\\PC314\\anaconda3\\Lib\\site-packages\\statsforecast\\core.py:494: FutureWarning: In a future version the predictions will have the id as a column. You can set the `NIXTLA_ID_AS_COL` environment variable to adopt the new behavior and to suppress this warning.\n",
      "  warnings.warn(\n",
      "c:\\Users\\PC314\\anaconda3\\Lib\\site-packages\\statsforecast\\mfles.py:301: RuntimeWarning: overflow encountered in scalar multiply\n",
      "  slope = (M * x_y_sum - x_sum * y_sum) / (M * x_sq_sum - x_sum**2)\n",
      "c:\\Users\\PC314\\anaconda3\\Lib\\site-packages\\statsforecast\\mfles.py:301: RuntimeWarning: overflow encountered in scalar subtract\n",
      "  slope = (M * x_y_sum - x_sum * y_sum) / (M * x_sq_sum - x_sum**2)\n",
      "c:\\Users\\PC314\\anaconda3\\Lib\\site-packages\\statsforecast\\core.py:494: FutureWarning: In a future version the predictions will have the id as a column. You can set the `NIXTLA_ID_AS_COL` environment variable to adopt the new behavior and to suppress this warning.\n",
      "  warnings.warn(\n",
      "C:\\Users\\PC314\\AppData\\Local\\Temp\\ipykernel_17148\\3122320333.py:50: SettingWithCopyWarning: \n",
      "A value is trying to be set on a copy of a slice from a DataFrame.\n",
      "Try using .loc[row_indexer,col_indexer] = value instead\n",
      "\n",
      "See the caveats in the documentation: https://pandas.pydata.org/pandas-docs/stable/user_guide/indexing.html#returning-a-view-versus-a-copy\n",
      "  train_df['y'] = series\n"
     ]
    },
    {
     "name": "stdout",
     "output_type": "stream",
     "text": [
      "Best Model for log_standardize: MSTL_a_ARIMA (MAPE: 96.00%)\n",
      "Training on transformed version: trend_seasonality\n"
     ]
    },
    {
     "name": "stderr",
     "output_type": "stream",
     "text": [
      "c:\\Users\\PC314\\anaconda3\\Lib\\site-packages\\statsforecast\\core.py:494: FutureWarning: In a future version the predictions will have the id as a column. You can set the `NIXTLA_ID_AS_COL` environment variable to adopt the new behavior and to suppress this warning.\n",
      "  warnings.warn(\n",
      "c:\\Users\\PC314\\anaconda3\\Lib\\site-packages\\statsforecast\\core.py:494: FutureWarning: In a future version the predictions will have the id as a column. You can set the `NIXTLA_ID_AS_COL` environment variable to adopt the new behavior and to suppress this warning.\n",
      "  warnings.warn(\n",
      "c:\\Users\\PC314\\anaconda3\\Lib\\site-packages\\statsforecast\\core.py:494: FutureWarning: In a future version the predictions will have the id as a column. You can set the `NIXTLA_ID_AS_COL` environment variable to adopt the new behavior and to suppress this warning.\n",
      "  warnings.warn(\n",
      "c:\\Users\\PC314\\anaconda3\\Lib\\site-packages\\statsforecast\\mfles.py:301: RuntimeWarning: overflow encountered in scalar multiply\n",
      "  slope = (M * x_y_sum - x_sum * y_sum) / (M * x_sq_sum - x_sum**2)\n",
      "c:\\Users\\PC314\\anaconda3\\Lib\\site-packages\\statsforecast\\mfles.py:301: RuntimeWarning: overflow encountered in scalar subtract\n",
      "  slope = (M * x_y_sum - x_sum * y_sum) / (M * x_sq_sum - x_sum**2)\n",
      "c:\\Users\\PC314\\anaconda3\\Lib\\site-packages\\statsforecast\\core.py:494: FutureWarning: In a future version the predictions will have the id as a column. You can set the `NIXTLA_ID_AS_COL` environment variable to adopt the new behavior and to suppress this warning.\n",
      "  warnings.warn(\n",
      "c:\\Users\\PC314\\anaconda3\\Lib\\site-packages\\statsforecast\\mfles.py:301: RuntimeWarning: overflow encountered in scalar multiply\n",
      "  slope = (M * x_y_sum - x_sum * y_sum) / (M * x_sq_sum - x_sum**2)\n",
      "c:\\Users\\PC314\\anaconda3\\Lib\\site-packages\\statsforecast\\mfles.py:301: RuntimeWarning: overflow encountered in scalar subtract\n",
      "  slope = (M * x_y_sum - x_sum * y_sum) / (M * x_sq_sum - x_sum**2)\n",
      "c:\\Users\\PC314\\anaconda3\\Lib\\site-packages\\statsforecast\\core.py:494: FutureWarning: In a future version the predictions will have the id as a column. You can set the `NIXTLA_ID_AS_COL` environment variable to adopt the new behavior and to suppress this warning.\n",
      "  warnings.warn(\n",
      "c:\\Users\\PC314\\anaconda3\\Lib\\site-packages\\statsforecast\\mfles.py:301: RuntimeWarning: overflow encountered in scalar multiply\n",
      "  slope = (M * x_y_sum - x_sum * y_sum) / (M * x_sq_sum - x_sum**2)\n",
      "c:\\Users\\PC314\\anaconda3\\Lib\\site-packages\\statsforecast\\mfles.py:301: RuntimeWarning: overflow encountered in scalar subtract\n",
      "  slope = (M * x_y_sum - x_sum * y_sum) / (M * x_sq_sum - x_sum**2)\n",
      "c:\\Users\\PC314\\anaconda3\\Lib\\site-packages\\statsforecast\\core.py:494: FutureWarning: In a future version the predictions will have the id as a column. You can set the `NIXTLA_ID_AS_COL` environment variable to adopt the new behavior and to suppress this warning.\n",
      "  warnings.warn(\n",
      "C:\\Users\\PC314\\AppData\\Local\\Temp\\ipykernel_17148\\3122320333.py:50: SettingWithCopyWarning: \n",
      "A value is trying to be set on a copy of a slice from a DataFrame.\n",
      "Try using .loc[row_indexer,col_indexer] = value instead\n",
      "\n",
      "See the caveats in the documentation: https://pandas.pydata.org/pandas-docs/stable/user_guide/indexing.html#returning-a-view-versus-a-copy\n",
      "  train_df['y'] = series\n"
     ]
    },
    {
     "name": "stdout",
     "output_type": "stream",
     "text": [
      "Best Model for trend_seasonality: MSTL_abc_ARIMA (MAPE: 99.22%)\n",
      "Training on transformed version: trend_boxcox\n"
     ]
    },
    {
     "name": "stderr",
     "output_type": "stream",
     "text": [
      "c:\\Users\\PC314\\anaconda3\\Lib\\site-packages\\statsforecast\\core.py:494: FutureWarning: In a future version the predictions will have the id as a column. You can set the `NIXTLA_ID_AS_COL` environment variable to adopt the new behavior and to suppress this warning.\n",
      "  warnings.warn(\n",
      "c:\\Users\\PC314\\anaconda3\\Lib\\site-packages\\statsforecast\\core.py:494: FutureWarning: In a future version the predictions will have the id as a column. You can set the `NIXTLA_ID_AS_COL` environment variable to adopt the new behavior and to suppress this warning.\n",
      "  warnings.warn(\n",
      "c:\\Users\\PC314\\anaconda3\\Lib\\site-packages\\statsforecast\\core.py:494: FutureWarning: In a future version the predictions will have the id as a column. You can set the `NIXTLA_ID_AS_COL` environment variable to adopt the new behavior and to suppress this warning.\n",
      "  warnings.warn(\n",
      "c:\\Users\\PC314\\anaconda3\\Lib\\site-packages\\statsforecast\\mfles.py:301: RuntimeWarning: overflow encountered in scalar multiply\n",
      "  slope = (M * x_y_sum - x_sum * y_sum) / (M * x_sq_sum - x_sum**2)\n",
      "c:\\Users\\PC314\\anaconda3\\Lib\\site-packages\\statsforecast\\mfles.py:301: RuntimeWarning: overflow encountered in scalar subtract\n",
      "  slope = (M * x_y_sum - x_sum * y_sum) / (M * x_sq_sum - x_sum**2)\n",
      "c:\\Users\\PC314\\anaconda3\\Lib\\site-packages\\statsforecast\\core.py:494: FutureWarning: In a future version the predictions will have the id as a column. You can set the `NIXTLA_ID_AS_COL` environment variable to adopt the new behavior and to suppress this warning.\n",
      "  warnings.warn(\n",
      "c:\\Users\\PC314\\anaconda3\\Lib\\site-packages\\statsforecast\\mfles.py:301: RuntimeWarning: overflow encountered in scalar multiply\n",
      "  slope = (M * x_y_sum - x_sum * y_sum) / (M * x_sq_sum - x_sum**2)\n",
      "c:\\Users\\PC314\\anaconda3\\Lib\\site-packages\\statsforecast\\mfles.py:301: RuntimeWarning: overflow encountered in scalar subtract\n",
      "  slope = (M * x_y_sum - x_sum * y_sum) / (M * x_sq_sum - x_sum**2)\n",
      "c:\\Users\\PC314\\anaconda3\\Lib\\site-packages\\statsforecast\\core.py:494: FutureWarning: In a future version the predictions will have the id as a column. You can set the `NIXTLA_ID_AS_COL` environment variable to adopt the new behavior and to suppress this warning.\n",
      "  warnings.warn(\n",
      "c:\\Users\\PC314\\anaconda3\\Lib\\site-packages\\statsforecast\\mfles.py:301: RuntimeWarning: overflow encountered in scalar multiply\n",
      "  slope = (M * x_y_sum - x_sum * y_sum) / (M * x_sq_sum - x_sum**2)\n",
      "c:\\Users\\PC314\\anaconda3\\Lib\\site-packages\\statsforecast\\mfles.py:301: RuntimeWarning: overflow encountered in scalar subtract\n",
      "  slope = (M * x_y_sum - x_sum * y_sum) / (M * x_sq_sum - x_sum**2)\n",
      "c:\\Users\\PC314\\anaconda3\\Lib\\site-packages\\statsforecast\\core.py:494: FutureWarning: In a future version the predictions will have the id as a column. You can set the `NIXTLA_ID_AS_COL` environment variable to adopt the new behavior and to suppress this warning.\n",
      "  warnings.warn(\n",
      "C:\\Users\\PC314\\AppData\\Local\\Temp\\ipykernel_17148\\3122320333.py:50: SettingWithCopyWarning: \n",
      "A value is trying to be set on a copy of a slice from a DataFrame.\n",
      "Try using .loc[row_indexer,col_indexer] = value instead\n",
      "\n",
      "See the caveats in the documentation: https://pandas.pydata.org/pandas-docs/stable/user_guide/indexing.html#returning-a-view-versus-a-copy\n",
      "  train_df['y'] = series\n"
     ]
    },
    {
     "name": "stdout",
     "output_type": "stream",
     "text": [
      "Best Model for trend_boxcox: MSTL_a_ARIMA (MAPE: 88.78%)\n",
      "Training on transformed version: trend_standardize\n"
     ]
    },
    {
     "name": "stderr",
     "output_type": "stream",
     "text": [
      "c:\\Users\\PC314\\anaconda3\\Lib\\site-packages\\statsforecast\\core.py:494: FutureWarning: In a future version the predictions will have the id as a column. You can set the `NIXTLA_ID_AS_COL` environment variable to adopt the new behavior and to suppress this warning.\n",
      "  warnings.warn(\n",
      "c:\\Users\\PC314\\anaconda3\\Lib\\site-packages\\statsforecast\\core.py:494: FutureWarning: In a future version the predictions will have the id as a column. You can set the `NIXTLA_ID_AS_COL` environment variable to adopt the new behavior and to suppress this warning.\n",
      "  warnings.warn(\n",
      "c:\\Users\\PC314\\anaconda3\\Lib\\site-packages\\statsforecast\\core.py:494: FutureWarning: In a future version the predictions will have the id as a column. You can set the `NIXTLA_ID_AS_COL` environment variable to adopt the new behavior and to suppress this warning.\n",
      "  warnings.warn(\n",
      "c:\\Users\\PC314\\anaconda3\\Lib\\site-packages\\statsforecast\\mfles.py:301: RuntimeWarning: overflow encountered in scalar multiply\n",
      "  slope = (M * x_y_sum - x_sum * y_sum) / (M * x_sq_sum - x_sum**2)\n",
      "c:\\Users\\PC314\\anaconda3\\Lib\\site-packages\\statsforecast\\mfles.py:301: RuntimeWarning: overflow encountered in scalar subtract\n",
      "  slope = (M * x_y_sum - x_sum * y_sum) / (M * x_sq_sum - x_sum**2)\n",
      "c:\\Users\\PC314\\anaconda3\\Lib\\site-packages\\statsforecast\\core.py:494: FutureWarning: In a future version the predictions will have the id as a column. You can set the `NIXTLA_ID_AS_COL` environment variable to adopt the new behavior and to suppress this warning.\n",
      "  warnings.warn(\n",
      "c:\\Users\\PC314\\anaconda3\\Lib\\site-packages\\statsforecast\\mfles.py:301: RuntimeWarning: overflow encountered in scalar multiply\n",
      "  slope = (M * x_y_sum - x_sum * y_sum) / (M * x_sq_sum - x_sum**2)\n",
      "c:\\Users\\PC314\\anaconda3\\Lib\\site-packages\\statsforecast\\mfles.py:301: RuntimeWarning: overflow encountered in scalar subtract\n",
      "  slope = (M * x_y_sum - x_sum * y_sum) / (M * x_sq_sum - x_sum**2)\n",
      "c:\\Users\\PC314\\anaconda3\\Lib\\site-packages\\statsforecast\\core.py:494: FutureWarning: In a future version the predictions will have the id as a column. You can set the `NIXTLA_ID_AS_COL` environment variable to adopt the new behavior and to suppress this warning.\n",
      "  warnings.warn(\n",
      "c:\\Users\\PC314\\anaconda3\\Lib\\site-packages\\statsforecast\\mfles.py:301: RuntimeWarning: overflow encountered in scalar multiply\n",
      "  slope = (M * x_y_sum - x_sum * y_sum) / (M * x_sq_sum - x_sum**2)\n",
      "c:\\Users\\PC314\\anaconda3\\Lib\\site-packages\\statsforecast\\mfles.py:301: RuntimeWarning: overflow encountered in scalar subtract\n",
      "  slope = (M * x_y_sum - x_sum * y_sum) / (M * x_sq_sum - x_sum**2)\n",
      "c:\\Users\\PC314\\anaconda3\\Lib\\site-packages\\statsforecast\\core.py:494: FutureWarning: In a future version the predictions will have the id as a column. You can set the `NIXTLA_ID_AS_COL` environment variable to adopt the new behavior and to suppress this warning.\n",
      "  warnings.warn(\n",
      "C:\\Users\\PC314\\AppData\\Local\\Temp\\ipykernel_17148\\3122320333.py:50: SettingWithCopyWarning: \n",
      "A value is trying to be set on a copy of a slice from a DataFrame.\n",
      "Try using .loc[row_indexer,col_indexer] = value instead\n",
      "\n",
      "See the caveats in the documentation: https://pandas.pydata.org/pandas-docs/stable/user_guide/indexing.html#returning-a-view-versus-a-copy\n",
      "  train_df['y'] = series\n"
     ]
    },
    {
     "name": "stdout",
     "output_type": "stream",
     "text": [
      "Best Model for trend_standardize: MSTL_ac_MFLES1 (MAPE: 64.17%)\n",
      "Training on transformed version: seasonality_boxcox\n"
     ]
    },
    {
     "name": "stderr",
     "output_type": "stream",
     "text": [
      "c:\\Users\\PC314\\anaconda3\\Lib\\site-packages\\statsforecast\\core.py:494: FutureWarning: In a future version the predictions will have the id as a column. You can set the `NIXTLA_ID_AS_COL` environment variable to adopt the new behavior and to suppress this warning.\n",
      "  warnings.warn(\n",
      "c:\\Users\\PC314\\anaconda3\\Lib\\site-packages\\statsforecast\\core.py:494: FutureWarning: In a future version the predictions will have the id as a column. You can set the `NIXTLA_ID_AS_COL` environment variable to adopt the new behavior and to suppress this warning.\n",
      "  warnings.warn(\n",
      "c:\\Users\\PC314\\anaconda3\\Lib\\site-packages\\statsforecast\\core.py:494: FutureWarning: In a future version the predictions will have the id as a column. You can set the `NIXTLA_ID_AS_COL` environment variable to adopt the new behavior and to suppress this warning.\n",
      "  warnings.warn(\n",
      "c:\\Users\\PC314\\anaconda3\\Lib\\site-packages\\statsforecast\\core.py:494: FutureWarning: In a future version the predictions will have the id as a column. You can set the `NIXTLA_ID_AS_COL` environment variable to adopt the new behavior and to suppress this warning.\n",
      "  warnings.warn(\n",
      "c:\\Users\\PC314\\anaconda3\\Lib\\site-packages\\statsforecast\\core.py:494: FutureWarning: In a future version the predictions will have the id as a column. You can set the `NIXTLA_ID_AS_COL` environment variable to adopt the new behavior and to suppress this warning.\n",
      "  warnings.warn(\n",
      "c:\\Users\\PC314\\anaconda3\\Lib\\site-packages\\statsforecast\\core.py:494: FutureWarning: In a future version the predictions will have the id as a column. You can set the `NIXTLA_ID_AS_COL` environment variable to adopt the new behavior and to suppress this warning.\n",
      "  warnings.warn(\n",
      "C:\\Users\\PC314\\AppData\\Local\\Temp\\ipykernel_17148\\3122320333.py:50: SettingWithCopyWarning: \n",
      "A value is trying to be set on a copy of a slice from a DataFrame.\n",
      "Try using .loc[row_indexer,col_indexer] = value instead\n",
      "\n",
      "See the caveats in the documentation: https://pandas.pydata.org/pandas-docs/stable/user_guide/indexing.html#returning-a-view-versus-a-copy\n",
      "  train_df['y'] = series\n"
     ]
    },
    {
     "name": "stdout",
     "output_type": "stream",
     "text": [
      "Best Model for seasonality_boxcox: MSTL_a_ARIMA (MAPE: 107.23%)\n",
      "Training on transformed version: seasonality_standardize\n"
     ]
    },
    {
     "name": "stderr",
     "output_type": "stream",
     "text": [
      "c:\\Users\\PC314\\anaconda3\\Lib\\site-packages\\statsforecast\\core.py:494: FutureWarning: In a future version the predictions will have the id as a column. You can set the `NIXTLA_ID_AS_COL` environment variable to adopt the new behavior and to suppress this warning.\n",
      "  warnings.warn(\n",
      "c:\\Users\\PC314\\anaconda3\\Lib\\site-packages\\statsforecast\\core.py:494: FutureWarning: In a future version the predictions will have the id as a column. You can set the `NIXTLA_ID_AS_COL` environment variable to adopt the new behavior and to suppress this warning.\n",
      "  warnings.warn(\n",
      "c:\\Users\\PC314\\anaconda3\\Lib\\site-packages\\statsforecast\\core.py:494: FutureWarning: In a future version the predictions will have the id as a column. You can set the `NIXTLA_ID_AS_COL` environment variable to adopt the new behavior and to suppress this warning.\n",
      "  warnings.warn(\n",
      "c:\\Users\\PC314\\anaconda3\\Lib\\site-packages\\statsforecast\\core.py:494: FutureWarning: In a future version the predictions will have the id as a column. You can set the `NIXTLA_ID_AS_COL` environment variable to adopt the new behavior and to suppress this warning.\n",
      "  warnings.warn(\n",
      "c:\\Users\\PC314\\anaconda3\\Lib\\site-packages\\statsforecast\\core.py:494: FutureWarning: In a future version the predictions will have the id as a column. You can set the `NIXTLA_ID_AS_COL` environment variable to adopt the new behavior and to suppress this warning.\n",
      "  warnings.warn(\n",
      "c:\\Users\\PC314\\anaconda3\\Lib\\site-packages\\statsforecast\\core.py:494: FutureWarning: In a future version the predictions will have the id as a column. You can set the `NIXTLA_ID_AS_COL` environment variable to adopt the new behavior and to suppress this warning.\n",
      "  warnings.warn(\n",
      "C:\\Users\\PC314\\AppData\\Local\\Temp\\ipykernel_17148\\3122320333.py:50: SettingWithCopyWarning: \n",
      "A value is trying to be set on a copy of a slice from a DataFrame.\n",
      "Try using .loc[row_indexer,col_indexer] = value instead\n",
      "\n",
      "See the caveats in the documentation: https://pandas.pydata.org/pandas-docs/stable/user_guide/indexing.html#returning-a-view-versus-a-copy\n",
      "  train_df['y'] = series\n"
     ]
    },
    {
     "name": "stdout",
     "output_type": "stream",
     "text": [
      "Best Model for seasonality_standardize: MSTL_abc_ARIMA (MAPE: 99.39%)\n",
      "Training on transformed version: boxcox_standardize\n"
     ]
    },
    {
     "name": "stderr",
     "output_type": "stream",
     "text": [
      "c:\\Users\\PC314\\anaconda3\\Lib\\site-packages\\statsforecast\\core.py:494: FutureWarning: In a future version the predictions will have the id as a column. You can set the `NIXTLA_ID_AS_COL` environment variable to adopt the new behavior and to suppress this warning.\n",
      "  warnings.warn(\n",
      "c:\\Users\\PC314\\anaconda3\\Lib\\site-packages\\statsforecast\\core.py:494: FutureWarning: In a future version the predictions will have the id as a column. You can set the `NIXTLA_ID_AS_COL` environment variable to adopt the new behavior and to suppress this warning.\n",
      "  warnings.warn(\n",
      "c:\\Users\\PC314\\anaconda3\\Lib\\site-packages\\statsforecast\\core.py:494: FutureWarning: In a future version the predictions will have the id as a column. You can set the `NIXTLA_ID_AS_COL` environment variable to adopt the new behavior and to suppress this warning.\n",
      "  warnings.warn(\n",
      "c:\\Users\\PC314\\anaconda3\\Lib\\site-packages\\statsforecast\\mfles.py:301: RuntimeWarning: overflow encountered in scalar multiply\n",
      "  slope = (M * x_y_sum - x_sum * y_sum) / (M * x_sq_sum - x_sum**2)\n",
      "c:\\Users\\PC314\\anaconda3\\Lib\\site-packages\\statsforecast\\mfles.py:301: RuntimeWarning: overflow encountered in scalar subtract\n",
      "  slope = (M * x_y_sum - x_sum * y_sum) / (M * x_sq_sum - x_sum**2)\n",
      "c:\\Users\\PC314\\anaconda3\\Lib\\site-packages\\statsforecast\\core.py:494: FutureWarning: In a future version the predictions will have the id as a column. You can set the `NIXTLA_ID_AS_COL` environment variable to adopt the new behavior and to suppress this warning.\n",
      "  warnings.warn(\n",
      "c:\\Users\\PC314\\anaconda3\\Lib\\site-packages\\statsforecast\\mfles.py:301: RuntimeWarning: overflow encountered in scalar multiply\n",
      "  slope = (M * x_y_sum - x_sum * y_sum) / (M * x_sq_sum - x_sum**2)\n",
      "c:\\Users\\PC314\\anaconda3\\Lib\\site-packages\\statsforecast\\mfles.py:301: RuntimeWarning: overflow encountered in scalar subtract\n",
      "  slope = (M * x_y_sum - x_sum * y_sum) / (M * x_sq_sum - x_sum**2)\n",
      "c:\\Users\\PC314\\anaconda3\\Lib\\site-packages\\statsforecast\\core.py:494: FutureWarning: In a future version the predictions will have the id as a column. You can set the `NIXTLA_ID_AS_COL` environment variable to adopt the new behavior and to suppress this warning.\n",
      "  warnings.warn(\n",
      "c:\\Users\\PC314\\anaconda3\\Lib\\site-packages\\statsforecast\\mfles.py:301: RuntimeWarning: overflow encountered in scalar multiply\n",
      "  slope = (M * x_y_sum - x_sum * y_sum) / (M * x_sq_sum - x_sum**2)\n",
      "c:\\Users\\PC314\\anaconda3\\Lib\\site-packages\\statsforecast\\mfles.py:301: RuntimeWarning: overflow encountered in scalar subtract\n",
      "  slope = (M * x_y_sum - x_sum * y_sum) / (M * x_sq_sum - x_sum**2)\n",
      "c:\\Users\\PC314\\anaconda3\\Lib\\site-packages\\statsforecast\\core.py:494: FutureWarning: In a future version the predictions will have the id as a column. You can set the `NIXTLA_ID_AS_COL` environment variable to adopt the new behavior and to suppress this warning.\n",
      "  warnings.warn(\n",
      "C:\\Users\\PC314\\AppData\\Local\\Temp\\ipykernel_17148\\3122320333.py:50: SettingWithCopyWarning: \n",
      "A value is trying to be set on a copy of a slice from a DataFrame.\n",
      "Try using .loc[row_indexer,col_indexer] = value instead\n",
      "\n",
      "See the caveats in the documentation: https://pandas.pydata.org/pandas-docs/stable/user_guide/indexing.html#returning-a-view-versus-a-copy\n",
      "  train_df['y'] = series\n"
     ]
    },
    {
     "name": "stdout",
     "output_type": "stream",
     "text": [
      "Best Model for boxcox_standardize: MSTL_a_ARIMA (MAPE: 99.50%)\n",
      "Training on transformed version: log_trend_seasonality\n"
     ]
    },
    {
     "name": "stderr",
     "output_type": "stream",
     "text": [
      "c:\\Users\\PC314\\anaconda3\\Lib\\site-packages\\statsforecast\\core.py:494: FutureWarning: In a future version the predictions will have the id as a column. You can set the `NIXTLA_ID_AS_COL` environment variable to adopt the new behavior and to suppress this warning.\n",
      "  warnings.warn(\n",
      "c:\\Users\\PC314\\anaconda3\\Lib\\site-packages\\statsforecast\\core.py:494: FutureWarning: In a future version the predictions will have the id as a column. You can set the `NIXTLA_ID_AS_COL` environment variable to adopt the new behavior and to suppress this warning.\n",
      "  warnings.warn(\n",
      "c:\\Users\\PC314\\anaconda3\\Lib\\site-packages\\statsforecast\\core.py:494: FutureWarning: In a future version the predictions will have the id as a column. You can set the `NIXTLA_ID_AS_COL` environment variable to adopt the new behavior and to suppress this warning.\n",
      "  warnings.warn(\n",
      "c:\\Users\\PC314\\anaconda3\\Lib\\site-packages\\statsforecast\\mfles.py:301: RuntimeWarning: overflow encountered in scalar multiply\n",
      "  slope = (M * x_y_sum - x_sum * y_sum) / (M * x_sq_sum - x_sum**2)\n",
      "c:\\Users\\PC314\\anaconda3\\Lib\\site-packages\\statsforecast\\mfles.py:301: RuntimeWarning: overflow encountered in scalar subtract\n",
      "  slope = (M * x_y_sum - x_sum * y_sum) / (M * x_sq_sum - x_sum**2)\n",
      "c:\\Users\\PC314\\anaconda3\\Lib\\site-packages\\statsforecast\\core.py:494: FutureWarning: In a future version the predictions will have the id as a column. You can set the `NIXTLA_ID_AS_COL` environment variable to adopt the new behavior and to suppress this warning.\n",
      "  warnings.warn(\n",
      "c:\\Users\\PC314\\anaconda3\\Lib\\site-packages\\statsforecast\\mfles.py:301: RuntimeWarning: overflow encountered in scalar multiply\n",
      "  slope = (M * x_y_sum - x_sum * y_sum) / (M * x_sq_sum - x_sum**2)\n",
      "c:\\Users\\PC314\\anaconda3\\Lib\\site-packages\\statsforecast\\mfles.py:301: RuntimeWarning: overflow encountered in scalar subtract\n",
      "  slope = (M * x_y_sum - x_sum * y_sum) / (M * x_sq_sum - x_sum**2)\n",
      "c:\\Users\\PC314\\anaconda3\\Lib\\site-packages\\statsforecast\\core.py:494: FutureWarning: In a future version the predictions will have the id as a column. You can set the `NIXTLA_ID_AS_COL` environment variable to adopt the new behavior and to suppress this warning.\n",
      "  warnings.warn(\n",
      "c:\\Users\\PC314\\anaconda3\\Lib\\site-packages\\statsforecast\\mfles.py:301: RuntimeWarning: overflow encountered in scalar multiply\n",
      "  slope = (M * x_y_sum - x_sum * y_sum) / (M * x_sq_sum - x_sum**2)\n",
      "c:\\Users\\PC314\\anaconda3\\Lib\\site-packages\\statsforecast\\mfles.py:301: RuntimeWarning: overflow encountered in scalar subtract\n",
      "  slope = (M * x_y_sum - x_sum * y_sum) / (M * x_sq_sum - x_sum**2)\n",
      "c:\\Users\\PC314\\anaconda3\\Lib\\site-packages\\statsforecast\\core.py:494: FutureWarning: In a future version the predictions will have the id as a column. You can set the `NIXTLA_ID_AS_COL` environment variable to adopt the new behavior and to suppress this warning.\n",
      "  warnings.warn(\n",
      "C:\\Users\\PC314\\AppData\\Local\\Temp\\ipykernel_17148\\3122320333.py:50: SettingWithCopyWarning: \n",
      "A value is trying to be set on a copy of a slice from a DataFrame.\n",
      "Try using .loc[row_indexer,col_indexer] = value instead\n",
      "\n",
      "See the caveats in the documentation: https://pandas.pydata.org/pandas-docs/stable/user_guide/indexing.html#returning-a-view-versus-a-copy\n",
      "  train_df['y'] = series\n"
     ]
    },
    {
     "name": "stdout",
     "output_type": "stream",
     "text": [
      "Best Model for log_trend_seasonality: MSTL_a_ARIMA (MAPE: 1029.61%)\n",
      "Training on transformed version: log_trend_boxcox\n"
     ]
    },
    {
     "name": "stderr",
     "output_type": "stream",
     "text": [
      "c:\\Users\\PC314\\anaconda3\\Lib\\site-packages\\statsforecast\\core.py:494: FutureWarning: In a future version the predictions will have the id as a column. You can set the `NIXTLA_ID_AS_COL` environment variable to adopt the new behavior and to suppress this warning.\n",
      "  warnings.warn(\n",
      "c:\\Users\\PC314\\anaconda3\\Lib\\site-packages\\statsforecast\\core.py:494: FutureWarning: In a future version the predictions will have the id as a column. You can set the `NIXTLA_ID_AS_COL` environment variable to adopt the new behavior and to suppress this warning.\n",
      "  warnings.warn(\n",
      "c:\\Users\\PC314\\anaconda3\\Lib\\site-packages\\statsforecast\\core.py:494: FutureWarning: In a future version the predictions will have the id as a column. You can set the `NIXTLA_ID_AS_COL` environment variable to adopt the new behavior and to suppress this warning.\n",
      "  warnings.warn(\n",
      "c:\\Users\\PC314\\anaconda3\\Lib\\site-packages\\statsforecast\\mfles.py:301: RuntimeWarning: overflow encountered in scalar multiply\n",
      "  slope = (M * x_y_sum - x_sum * y_sum) / (M * x_sq_sum - x_sum**2)\n",
      "c:\\Users\\PC314\\anaconda3\\Lib\\site-packages\\statsforecast\\mfles.py:301: RuntimeWarning: overflow encountered in scalar subtract\n",
      "  slope = (M * x_y_sum - x_sum * y_sum) / (M * x_sq_sum - x_sum**2)\n",
      "c:\\Users\\PC314\\anaconda3\\Lib\\site-packages\\statsforecast\\core.py:494: FutureWarning: In a future version the predictions will have the id as a column. You can set the `NIXTLA_ID_AS_COL` environment variable to adopt the new behavior and to suppress this warning.\n",
      "  warnings.warn(\n",
      "c:\\Users\\PC314\\anaconda3\\Lib\\site-packages\\statsforecast\\mfles.py:301: RuntimeWarning: overflow encountered in scalar multiply\n",
      "  slope = (M * x_y_sum - x_sum * y_sum) / (M * x_sq_sum - x_sum**2)\n",
      "c:\\Users\\PC314\\anaconda3\\Lib\\site-packages\\statsforecast\\mfles.py:301: RuntimeWarning: overflow encountered in scalar subtract\n",
      "  slope = (M * x_y_sum - x_sum * y_sum) / (M * x_sq_sum - x_sum**2)\n",
      "c:\\Users\\PC314\\anaconda3\\Lib\\site-packages\\statsforecast\\core.py:494: FutureWarning: In a future version the predictions will have the id as a column. You can set the `NIXTLA_ID_AS_COL` environment variable to adopt the new behavior and to suppress this warning.\n",
      "  warnings.warn(\n",
      "c:\\Users\\PC314\\anaconda3\\Lib\\site-packages\\statsforecast\\mfles.py:301: RuntimeWarning: overflow encountered in scalar multiply\n",
      "  slope = (M * x_y_sum - x_sum * y_sum) / (M * x_sq_sum - x_sum**2)\n",
      "c:\\Users\\PC314\\anaconda3\\Lib\\site-packages\\statsforecast\\mfles.py:301: RuntimeWarning: overflow encountered in scalar subtract\n",
      "  slope = (M * x_y_sum - x_sum * y_sum) / (M * x_sq_sum - x_sum**2)\n",
      "c:\\Users\\PC314\\anaconda3\\Lib\\site-packages\\statsforecast\\core.py:494: FutureWarning: In a future version the predictions will have the id as a column. You can set the `NIXTLA_ID_AS_COL` environment variable to adopt the new behavior and to suppress this warning.\n",
      "  warnings.warn(\n",
      "C:\\Users\\PC314\\AppData\\Local\\Temp\\ipykernel_17148\\3122320333.py:50: SettingWithCopyWarning: \n",
      "A value is trying to be set on a copy of a slice from a DataFrame.\n",
      "Try using .loc[row_indexer,col_indexer] = value instead\n",
      "\n",
      "See the caveats in the documentation: https://pandas.pydata.org/pandas-docs/stable/user_guide/indexing.html#returning-a-view-versus-a-copy\n",
      "  train_df['y'] = series\n"
     ]
    },
    {
     "name": "stdout",
     "output_type": "stream",
     "text": [
      "Best Model for log_trend_boxcox: MSTL_a_ARIMA (MAPE: 1017.53%)\n",
      "Training on transformed version: log_trend_standardize\n"
     ]
    },
    {
     "name": "stderr",
     "output_type": "stream",
     "text": [
      "c:\\Users\\PC314\\anaconda3\\Lib\\site-packages\\statsforecast\\core.py:494: FutureWarning: In a future version the predictions will have the id as a column. You can set the `NIXTLA_ID_AS_COL` environment variable to adopt the new behavior and to suppress this warning.\n",
      "  warnings.warn(\n",
      "c:\\Users\\PC314\\anaconda3\\Lib\\site-packages\\statsforecast\\core.py:494: FutureWarning: In a future version the predictions will have the id as a column. You can set the `NIXTLA_ID_AS_COL` environment variable to adopt the new behavior and to suppress this warning.\n",
      "  warnings.warn(\n",
      "c:\\Users\\PC314\\anaconda3\\Lib\\site-packages\\statsforecast\\core.py:494: FutureWarning: In a future version the predictions will have the id as a column. You can set the `NIXTLA_ID_AS_COL` environment variable to adopt the new behavior and to suppress this warning.\n",
      "  warnings.warn(\n",
      "c:\\Users\\PC314\\anaconda3\\Lib\\site-packages\\statsforecast\\mfles.py:301: RuntimeWarning: overflow encountered in scalar multiply\n",
      "  slope = (M * x_y_sum - x_sum * y_sum) / (M * x_sq_sum - x_sum**2)\n",
      "c:\\Users\\PC314\\anaconda3\\Lib\\site-packages\\statsforecast\\mfles.py:301: RuntimeWarning: overflow encountered in scalar subtract\n",
      "  slope = (M * x_y_sum - x_sum * y_sum) / (M * x_sq_sum - x_sum**2)\n",
      "c:\\Users\\PC314\\anaconda3\\Lib\\site-packages\\statsforecast\\core.py:494: FutureWarning: In a future version the predictions will have the id as a column. You can set the `NIXTLA_ID_AS_COL` environment variable to adopt the new behavior and to suppress this warning.\n",
      "  warnings.warn(\n",
      "c:\\Users\\PC314\\anaconda3\\Lib\\site-packages\\statsforecast\\mfles.py:301: RuntimeWarning: overflow encountered in scalar multiply\n",
      "  slope = (M * x_y_sum - x_sum * y_sum) / (M * x_sq_sum - x_sum**2)\n",
      "c:\\Users\\PC314\\anaconda3\\Lib\\site-packages\\statsforecast\\mfles.py:301: RuntimeWarning: overflow encountered in scalar subtract\n",
      "  slope = (M * x_y_sum - x_sum * y_sum) / (M * x_sq_sum - x_sum**2)\n",
      "c:\\Users\\PC314\\anaconda3\\Lib\\site-packages\\statsforecast\\core.py:494: FutureWarning: In a future version the predictions will have the id as a column. You can set the `NIXTLA_ID_AS_COL` environment variable to adopt the new behavior and to suppress this warning.\n",
      "  warnings.warn(\n",
      "c:\\Users\\PC314\\anaconda3\\Lib\\site-packages\\statsforecast\\mfles.py:301: RuntimeWarning: overflow encountered in scalar multiply\n",
      "  slope = (M * x_y_sum - x_sum * y_sum) / (M * x_sq_sum - x_sum**2)\n",
      "c:\\Users\\PC314\\anaconda3\\Lib\\site-packages\\statsforecast\\mfles.py:301: RuntimeWarning: overflow encountered in scalar subtract\n",
      "  slope = (M * x_y_sum - x_sum * y_sum) / (M * x_sq_sum - x_sum**2)\n",
      "c:\\Users\\PC314\\anaconda3\\Lib\\site-packages\\statsforecast\\core.py:494: FutureWarning: In a future version the predictions will have the id as a column. You can set the `NIXTLA_ID_AS_COL` environment variable to adopt the new behavior and to suppress this warning.\n",
      "  warnings.warn(\n",
      "C:\\Users\\PC314\\AppData\\Local\\Temp\\ipykernel_17148\\3122320333.py:50: SettingWithCopyWarning: \n",
      "A value is trying to be set on a copy of a slice from a DataFrame.\n",
      "Try using .loc[row_indexer,col_indexer] = value instead\n",
      "\n",
      "See the caveats in the documentation: https://pandas.pydata.org/pandas-docs/stable/user_guide/indexing.html#returning-a-view-versus-a-copy\n",
      "  train_df['y'] = series\n"
     ]
    },
    {
     "name": "stdout",
     "output_type": "stream",
     "text": [
      "Best Model for log_trend_standardize: MSTL_a_ARIMA (MAPE: 1017.33%)\n",
      "Training on transformed version: log_seasonality_boxcox\n"
     ]
    },
    {
     "name": "stderr",
     "output_type": "stream",
     "text": [
      "c:\\Users\\PC314\\anaconda3\\Lib\\site-packages\\statsforecast\\core.py:494: FutureWarning: In a future version the predictions will have the id as a column. You can set the `NIXTLA_ID_AS_COL` environment variable to adopt the new behavior and to suppress this warning.\n",
      "  warnings.warn(\n",
      "c:\\Users\\PC314\\anaconda3\\Lib\\site-packages\\statsforecast\\core.py:494: FutureWarning: In a future version the predictions will have the id as a column. You can set the `NIXTLA_ID_AS_COL` environment variable to adopt the new behavior and to suppress this warning.\n",
      "  warnings.warn(\n",
      "c:\\Users\\PC314\\anaconda3\\Lib\\site-packages\\statsforecast\\core.py:494: FutureWarning: In a future version the predictions will have the id as a column. You can set the `NIXTLA_ID_AS_COL` environment variable to adopt the new behavior and to suppress this warning.\n",
      "  warnings.warn(\n",
      "c:\\Users\\PC314\\anaconda3\\Lib\\site-packages\\statsforecast\\mfles.py:301: RuntimeWarning: overflow encountered in scalar multiply\n",
      "  slope = (M * x_y_sum - x_sum * y_sum) / (M * x_sq_sum - x_sum**2)\n",
      "c:\\Users\\PC314\\anaconda3\\Lib\\site-packages\\statsforecast\\mfles.py:301: RuntimeWarning: overflow encountered in scalar subtract\n",
      "  slope = (M * x_y_sum - x_sum * y_sum) / (M * x_sq_sum - x_sum**2)\n",
      "c:\\Users\\PC314\\anaconda3\\Lib\\site-packages\\statsforecast\\core.py:494: FutureWarning: In a future version the predictions will have the id as a column. You can set the `NIXTLA_ID_AS_COL` environment variable to adopt the new behavior and to suppress this warning.\n",
      "  warnings.warn(\n",
      "c:\\Users\\PC314\\anaconda3\\Lib\\site-packages\\statsforecast\\mfles.py:301: RuntimeWarning: overflow encountered in scalar multiply\n",
      "  slope = (M * x_y_sum - x_sum * y_sum) / (M * x_sq_sum - x_sum**2)\n",
      "c:\\Users\\PC314\\anaconda3\\Lib\\site-packages\\statsforecast\\mfles.py:301: RuntimeWarning: overflow encountered in scalar subtract\n",
      "  slope = (M * x_y_sum - x_sum * y_sum) / (M * x_sq_sum - x_sum**2)\n",
      "c:\\Users\\PC314\\anaconda3\\Lib\\site-packages\\statsforecast\\core.py:494: FutureWarning: In a future version the predictions will have the id as a column. You can set the `NIXTLA_ID_AS_COL` environment variable to adopt the new behavior and to suppress this warning.\n",
      "  warnings.warn(\n",
      "c:\\Users\\PC314\\anaconda3\\Lib\\site-packages\\statsforecast\\mfles.py:301: RuntimeWarning: overflow encountered in scalar multiply\n",
      "  slope = (M * x_y_sum - x_sum * y_sum) / (M * x_sq_sum - x_sum**2)\n",
      "c:\\Users\\PC314\\anaconda3\\Lib\\site-packages\\statsforecast\\mfles.py:301: RuntimeWarning: overflow encountered in scalar subtract\n",
      "  slope = (M * x_y_sum - x_sum * y_sum) / (M * x_sq_sum - x_sum**2)\n",
      "c:\\Users\\PC314\\anaconda3\\Lib\\site-packages\\statsforecast\\core.py:494: FutureWarning: In a future version the predictions will have the id as a column. You can set the `NIXTLA_ID_AS_COL` environment variable to adopt the new behavior and to suppress this warning.\n",
      "  warnings.warn(\n",
      "C:\\Users\\PC314\\AppData\\Local\\Temp\\ipykernel_17148\\3122320333.py:50: SettingWithCopyWarning: \n",
      "A value is trying to be set on a copy of a slice from a DataFrame.\n",
      "Try using .loc[row_indexer,col_indexer] = value instead\n",
      "\n",
      "See the caveats in the documentation: https://pandas.pydata.org/pandas-docs/stable/user_guide/indexing.html#returning-a-view-versus-a-copy\n",
      "  train_df['y'] = series\n"
     ]
    },
    {
     "name": "stdout",
     "output_type": "stream",
     "text": [
      "Best Model for log_seasonality_boxcox: MSTL_ac_ARIMA (MAPE: 62.32%)\n",
      "Training on transformed version: log_seasonality_standardize\n"
     ]
    },
    {
     "name": "stderr",
     "output_type": "stream",
     "text": [
      "c:\\Users\\PC314\\anaconda3\\Lib\\site-packages\\statsforecast\\core.py:494: FutureWarning: In a future version the predictions will have the id as a column. You can set the `NIXTLA_ID_AS_COL` environment variable to adopt the new behavior and to suppress this warning.\n",
      "  warnings.warn(\n",
      "c:\\Users\\PC314\\anaconda3\\Lib\\site-packages\\statsforecast\\core.py:494: FutureWarning: In a future version the predictions will have the id as a column. You can set the `NIXTLA_ID_AS_COL` environment variable to adopt the new behavior and to suppress this warning.\n",
      "  warnings.warn(\n",
      "c:\\Users\\PC314\\anaconda3\\Lib\\site-packages\\statsforecast\\core.py:494: FutureWarning: In a future version the predictions will have the id as a column. You can set the `NIXTLA_ID_AS_COL` environment variable to adopt the new behavior and to suppress this warning.\n",
      "  warnings.warn(\n",
      "c:\\Users\\PC314\\anaconda3\\Lib\\site-packages\\statsforecast\\mfles.py:301: RuntimeWarning: overflow encountered in scalar multiply\n",
      "  slope = (M * x_y_sum - x_sum * y_sum) / (M * x_sq_sum - x_sum**2)\n",
      "c:\\Users\\PC314\\anaconda3\\Lib\\site-packages\\statsforecast\\mfles.py:301: RuntimeWarning: overflow encountered in scalar subtract\n",
      "  slope = (M * x_y_sum - x_sum * y_sum) / (M * x_sq_sum - x_sum**2)\n",
      "c:\\Users\\PC314\\anaconda3\\Lib\\site-packages\\statsforecast\\core.py:494: FutureWarning: In a future version the predictions will have the id as a column. You can set the `NIXTLA_ID_AS_COL` environment variable to adopt the new behavior and to suppress this warning.\n",
      "  warnings.warn(\n",
      "c:\\Users\\PC314\\anaconda3\\Lib\\site-packages\\statsforecast\\mfles.py:301: RuntimeWarning: overflow encountered in scalar multiply\n",
      "  slope = (M * x_y_sum - x_sum * y_sum) / (M * x_sq_sum - x_sum**2)\n",
      "c:\\Users\\PC314\\anaconda3\\Lib\\site-packages\\statsforecast\\mfles.py:301: RuntimeWarning: overflow encountered in scalar subtract\n",
      "  slope = (M * x_y_sum - x_sum * y_sum) / (M * x_sq_sum - x_sum**2)\n",
      "c:\\Users\\PC314\\anaconda3\\Lib\\site-packages\\statsforecast\\core.py:494: FutureWarning: In a future version the predictions will have the id as a column. You can set the `NIXTLA_ID_AS_COL` environment variable to adopt the new behavior and to suppress this warning.\n",
      "  warnings.warn(\n",
      "c:\\Users\\PC314\\anaconda3\\Lib\\site-packages\\statsforecast\\mfles.py:301: RuntimeWarning: overflow encountered in scalar multiply\n",
      "  slope = (M * x_y_sum - x_sum * y_sum) / (M * x_sq_sum - x_sum**2)\n",
      "c:\\Users\\PC314\\anaconda3\\Lib\\site-packages\\statsforecast\\mfles.py:301: RuntimeWarning: overflow encountered in scalar subtract\n",
      "  slope = (M * x_y_sum - x_sum * y_sum) / (M * x_sq_sum - x_sum**2)\n",
      "c:\\Users\\PC314\\anaconda3\\Lib\\site-packages\\statsforecast\\core.py:494: FutureWarning: In a future version the predictions will have the id as a column. You can set the `NIXTLA_ID_AS_COL` environment variable to adopt the new behavior and to suppress this warning.\n",
      "  warnings.warn(\n",
      "C:\\Users\\PC314\\AppData\\Local\\Temp\\ipykernel_17148\\3122320333.py:50: SettingWithCopyWarning: \n",
      "A value is trying to be set on a copy of a slice from a DataFrame.\n",
      "Try using .loc[row_indexer,col_indexer] = value instead\n",
      "\n",
      "See the caveats in the documentation: https://pandas.pydata.org/pandas-docs/stable/user_guide/indexing.html#returning-a-view-versus-a-copy\n",
      "  train_df['y'] = series\n"
     ]
    },
    {
     "name": "stdout",
     "output_type": "stream",
     "text": [
      "Best Model for log_seasonality_standardize: MSTL_a_ARIMA (MAPE: 95.18%)\n",
      "Training on transformed version: log_boxcox_standardize\n"
     ]
    },
    {
     "name": "stderr",
     "output_type": "stream",
     "text": [
      "c:\\Users\\PC314\\anaconda3\\Lib\\site-packages\\statsforecast\\core.py:494: FutureWarning: In a future version the predictions will have the id as a column. You can set the `NIXTLA_ID_AS_COL` environment variable to adopt the new behavior and to suppress this warning.\n",
      "  warnings.warn(\n",
      "c:\\Users\\PC314\\anaconda3\\Lib\\site-packages\\statsforecast\\core.py:494: FutureWarning: In a future version the predictions will have the id as a column. You can set the `NIXTLA_ID_AS_COL` environment variable to adopt the new behavior and to suppress this warning.\n",
      "  warnings.warn(\n",
      "c:\\Users\\PC314\\anaconda3\\Lib\\site-packages\\statsforecast\\core.py:494: FutureWarning: In a future version the predictions will have the id as a column. You can set the `NIXTLA_ID_AS_COL` environment variable to adopt the new behavior and to suppress this warning.\n",
      "  warnings.warn(\n",
      "c:\\Users\\PC314\\anaconda3\\Lib\\site-packages\\statsforecast\\mfles.py:301: RuntimeWarning: overflow encountered in scalar multiply\n",
      "  slope = (M * x_y_sum - x_sum * y_sum) / (M * x_sq_sum - x_sum**2)\n",
      "c:\\Users\\PC314\\anaconda3\\Lib\\site-packages\\statsforecast\\mfles.py:301: RuntimeWarning: overflow encountered in scalar subtract\n",
      "  slope = (M * x_y_sum - x_sum * y_sum) / (M * x_sq_sum - x_sum**2)\n",
      "c:\\Users\\PC314\\anaconda3\\Lib\\site-packages\\statsforecast\\core.py:494: FutureWarning: In a future version the predictions will have the id as a column. You can set the `NIXTLA_ID_AS_COL` environment variable to adopt the new behavior and to suppress this warning.\n",
      "  warnings.warn(\n",
      "c:\\Users\\PC314\\anaconda3\\Lib\\site-packages\\statsforecast\\mfles.py:301: RuntimeWarning: overflow encountered in scalar multiply\n",
      "  slope = (M * x_y_sum - x_sum * y_sum) / (M * x_sq_sum - x_sum**2)\n",
      "c:\\Users\\PC314\\anaconda3\\Lib\\site-packages\\statsforecast\\mfles.py:301: RuntimeWarning: overflow encountered in scalar subtract\n",
      "  slope = (M * x_y_sum - x_sum * y_sum) / (M * x_sq_sum - x_sum**2)\n",
      "c:\\Users\\PC314\\anaconda3\\Lib\\site-packages\\statsforecast\\core.py:494: FutureWarning: In a future version the predictions will have the id as a column. You can set the `NIXTLA_ID_AS_COL` environment variable to adopt the new behavior and to suppress this warning.\n",
      "  warnings.warn(\n",
      "c:\\Users\\PC314\\anaconda3\\Lib\\site-packages\\statsforecast\\mfles.py:301: RuntimeWarning: overflow encountered in scalar multiply\n",
      "  slope = (M * x_y_sum - x_sum * y_sum) / (M * x_sq_sum - x_sum**2)\n",
      "c:\\Users\\PC314\\anaconda3\\Lib\\site-packages\\statsforecast\\mfles.py:301: RuntimeWarning: overflow encountered in scalar subtract\n",
      "  slope = (M * x_y_sum - x_sum * y_sum) / (M * x_sq_sum - x_sum**2)\n",
      "c:\\Users\\PC314\\anaconda3\\Lib\\site-packages\\statsforecast\\core.py:494: FutureWarning: In a future version the predictions will have the id as a column. You can set the `NIXTLA_ID_AS_COL` environment variable to adopt the new behavior and to suppress this warning.\n",
      "  warnings.warn(\n",
      "C:\\Users\\PC314\\AppData\\Local\\Temp\\ipykernel_17148\\3122320333.py:50: SettingWithCopyWarning: \n",
      "A value is trying to be set on a copy of a slice from a DataFrame.\n",
      "Try using .loc[row_indexer,col_indexer] = value instead\n",
      "\n",
      "See the caveats in the documentation: https://pandas.pydata.org/pandas-docs/stable/user_guide/indexing.html#returning-a-view-versus-a-copy\n",
      "  train_df['y'] = series\n"
     ]
    },
    {
     "name": "stdout",
     "output_type": "stream",
     "text": [
      "Best Model for log_boxcox_standardize: MSTL_a_ARIMA (MAPE: 91.84%)\n",
      "Training on transformed version: trend_seasonality_boxcox\n"
     ]
    },
    {
     "name": "stderr",
     "output_type": "stream",
     "text": [
      "c:\\Users\\PC314\\anaconda3\\Lib\\site-packages\\statsforecast\\core.py:494: FutureWarning: In a future version the predictions will have the id as a column. You can set the `NIXTLA_ID_AS_COL` environment variable to adopt the new behavior and to suppress this warning.\n",
      "  warnings.warn(\n",
      "c:\\Users\\PC314\\anaconda3\\Lib\\site-packages\\statsforecast\\core.py:494: FutureWarning: In a future version the predictions will have the id as a column. You can set the `NIXTLA_ID_AS_COL` environment variable to adopt the new behavior and to suppress this warning.\n",
      "  warnings.warn(\n",
      "c:\\Users\\PC314\\anaconda3\\Lib\\site-packages\\statsforecast\\core.py:494: FutureWarning: In a future version the predictions will have the id as a column. You can set the `NIXTLA_ID_AS_COL` environment variable to adopt the new behavior and to suppress this warning.\n",
      "  warnings.warn(\n",
      "c:\\Users\\PC314\\anaconda3\\Lib\\site-packages\\statsforecast\\mfles.py:301: RuntimeWarning: overflow encountered in scalar multiply\n",
      "  slope = (M * x_y_sum - x_sum * y_sum) / (M * x_sq_sum - x_sum**2)\n",
      "c:\\Users\\PC314\\anaconda3\\Lib\\site-packages\\statsforecast\\mfles.py:301: RuntimeWarning: overflow encountered in scalar subtract\n",
      "  slope = (M * x_y_sum - x_sum * y_sum) / (M * x_sq_sum - x_sum**2)\n",
      "c:\\Users\\PC314\\anaconda3\\Lib\\site-packages\\statsforecast\\core.py:494: FutureWarning: In a future version the predictions will have the id as a column. You can set the `NIXTLA_ID_AS_COL` environment variable to adopt the new behavior and to suppress this warning.\n",
      "  warnings.warn(\n",
      "c:\\Users\\PC314\\anaconda3\\Lib\\site-packages\\statsforecast\\mfles.py:301: RuntimeWarning: overflow encountered in scalar multiply\n",
      "  slope = (M * x_y_sum - x_sum * y_sum) / (M * x_sq_sum - x_sum**2)\n",
      "c:\\Users\\PC314\\anaconda3\\Lib\\site-packages\\statsforecast\\mfles.py:301: RuntimeWarning: overflow encountered in scalar subtract\n",
      "  slope = (M * x_y_sum - x_sum * y_sum) / (M * x_sq_sum - x_sum**2)\n",
      "c:\\Users\\PC314\\anaconda3\\Lib\\site-packages\\statsforecast\\core.py:494: FutureWarning: In a future version the predictions will have the id as a column. You can set the `NIXTLA_ID_AS_COL` environment variable to adopt the new behavior and to suppress this warning.\n",
      "  warnings.warn(\n",
      "c:\\Users\\PC314\\anaconda3\\Lib\\site-packages\\statsforecast\\mfles.py:301: RuntimeWarning: overflow encountered in scalar multiply\n",
      "  slope = (M * x_y_sum - x_sum * y_sum) / (M * x_sq_sum - x_sum**2)\n",
      "c:\\Users\\PC314\\anaconda3\\Lib\\site-packages\\statsforecast\\mfles.py:301: RuntimeWarning: overflow encountered in scalar subtract\n",
      "  slope = (M * x_y_sum - x_sum * y_sum) / (M * x_sq_sum - x_sum**2)\n",
      "c:\\Users\\PC314\\anaconda3\\Lib\\site-packages\\statsforecast\\core.py:494: FutureWarning: In a future version the predictions will have the id as a column. You can set the `NIXTLA_ID_AS_COL` environment variable to adopt the new behavior and to suppress this warning.\n",
      "  warnings.warn(\n",
      "C:\\Users\\PC314\\AppData\\Local\\Temp\\ipykernel_17148\\3122320333.py:50: SettingWithCopyWarning: \n",
      "A value is trying to be set on a copy of a slice from a DataFrame.\n",
      "Try using .loc[row_indexer,col_indexer] = value instead\n",
      "\n",
      "See the caveats in the documentation: https://pandas.pydata.org/pandas-docs/stable/user_guide/indexing.html#returning-a-view-versus-a-copy\n",
      "  train_df['y'] = series\n"
     ]
    },
    {
     "name": "stdout",
     "output_type": "stream",
     "text": [
      "Best Model for trend_seasonality_boxcox: MSTL_abc_ARIMA (MAPE: 99.22%)\n",
      "Training on transformed version: trend_seasonality_standardize\n"
     ]
    },
    {
     "name": "stderr",
     "output_type": "stream",
     "text": [
      "c:\\Users\\PC314\\anaconda3\\Lib\\site-packages\\statsforecast\\core.py:494: FutureWarning: In a future version the predictions will have the id as a column. You can set the `NIXTLA_ID_AS_COL` environment variable to adopt the new behavior and to suppress this warning.\n",
      "  warnings.warn(\n",
      "c:\\Users\\PC314\\anaconda3\\Lib\\site-packages\\statsforecast\\core.py:494: FutureWarning: In a future version the predictions will have the id as a column. You can set the `NIXTLA_ID_AS_COL` environment variable to adopt the new behavior and to suppress this warning.\n",
      "  warnings.warn(\n",
      "c:\\Users\\PC314\\anaconda3\\Lib\\site-packages\\statsforecast\\core.py:494: FutureWarning: In a future version the predictions will have the id as a column. You can set the `NIXTLA_ID_AS_COL` environment variable to adopt the new behavior and to suppress this warning.\n",
      "  warnings.warn(\n",
      "c:\\Users\\PC314\\anaconda3\\Lib\\site-packages\\statsforecast\\mfles.py:301: RuntimeWarning: overflow encountered in scalar multiply\n",
      "  slope = (M * x_y_sum - x_sum * y_sum) / (M * x_sq_sum - x_sum**2)\n",
      "c:\\Users\\PC314\\anaconda3\\Lib\\site-packages\\statsforecast\\mfles.py:301: RuntimeWarning: overflow encountered in scalar subtract\n",
      "  slope = (M * x_y_sum - x_sum * y_sum) / (M * x_sq_sum - x_sum**2)\n",
      "c:\\Users\\PC314\\anaconda3\\Lib\\site-packages\\statsforecast\\core.py:494: FutureWarning: In a future version the predictions will have the id as a column. You can set the `NIXTLA_ID_AS_COL` environment variable to adopt the new behavior and to suppress this warning.\n",
      "  warnings.warn(\n",
      "c:\\Users\\PC314\\anaconda3\\Lib\\site-packages\\statsforecast\\mfles.py:301: RuntimeWarning: overflow encountered in scalar multiply\n",
      "  slope = (M * x_y_sum - x_sum * y_sum) / (M * x_sq_sum - x_sum**2)\n",
      "c:\\Users\\PC314\\anaconda3\\Lib\\site-packages\\statsforecast\\mfles.py:301: RuntimeWarning: overflow encountered in scalar subtract\n",
      "  slope = (M * x_y_sum - x_sum * y_sum) / (M * x_sq_sum - x_sum**2)\n",
      "c:\\Users\\PC314\\anaconda3\\Lib\\site-packages\\statsforecast\\core.py:494: FutureWarning: In a future version the predictions will have the id as a column. You can set the `NIXTLA_ID_AS_COL` environment variable to adopt the new behavior and to suppress this warning.\n",
      "  warnings.warn(\n",
      "c:\\Users\\PC314\\anaconda3\\Lib\\site-packages\\statsforecast\\mfles.py:301: RuntimeWarning: overflow encountered in scalar multiply\n",
      "  slope = (M * x_y_sum - x_sum * y_sum) / (M * x_sq_sum - x_sum**2)\n",
      "c:\\Users\\PC314\\anaconda3\\Lib\\site-packages\\statsforecast\\mfles.py:301: RuntimeWarning: overflow encountered in scalar subtract\n",
      "  slope = (M * x_y_sum - x_sum * y_sum) / (M * x_sq_sum - x_sum**2)\n",
      "c:\\Users\\PC314\\anaconda3\\Lib\\site-packages\\statsforecast\\core.py:494: FutureWarning: In a future version the predictions will have the id as a column. You can set the `NIXTLA_ID_AS_COL` environment variable to adopt the new behavior and to suppress this warning.\n",
      "  warnings.warn(\n",
      "C:\\Users\\PC314\\AppData\\Local\\Temp\\ipykernel_17148\\3122320333.py:50: SettingWithCopyWarning: \n",
      "A value is trying to be set on a copy of a slice from a DataFrame.\n",
      "Try using .loc[row_indexer,col_indexer] = value instead\n",
      "\n",
      "See the caveats in the documentation: https://pandas.pydata.org/pandas-docs/stable/user_guide/indexing.html#returning-a-view-versus-a-copy\n",
      "  train_df['y'] = series\n"
     ]
    },
    {
     "name": "stdout",
     "output_type": "stream",
     "text": [
      "Best Model for trend_seasonality_standardize: MSTL_ac_MFLES1 (MAPE: 63.17%)\n",
      "Training on transformed version: trend_boxcox_standardize\n"
     ]
    },
    {
     "name": "stderr",
     "output_type": "stream",
     "text": [
      "c:\\Users\\PC314\\anaconda3\\Lib\\site-packages\\statsforecast\\core.py:494: FutureWarning: In a future version the predictions will have the id as a column. You can set the `NIXTLA_ID_AS_COL` environment variable to adopt the new behavior and to suppress this warning.\n",
      "  warnings.warn(\n",
      "c:\\Users\\PC314\\anaconda3\\Lib\\site-packages\\statsforecast\\core.py:494: FutureWarning: In a future version the predictions will have the id as a column. You can set the `NIXTLA_ID_AS_COL` environment variable to adopt the new behavior and to suppress this warning.\n",
      "  warnings.warn(\n",
      "c:\\Users\\PC314\\anaconda3\\Lib\\site-packages\\statsforecast\\core.py:494: FutureWarning: In a future version the predictions will have the id as a column. You can set the `NIXTLA_ID_AS_COL` environment variable to adopt the new behavior and to suppress this warning.\n",
      "  warnings.warn(\n",
      "c:\\Users\\PC314\\anaconda3\\Lib\\site-packages\\statsforecast\\mfles.py:301: RuntimeWarning: overflow encountered in scalar multiply\n",
      "  slope = (M * x_y_sum - x_sum * y_sum) / (M * x_sq_sum - x_sum**2)\n",
      "c:\\Users\\PC314\\anaconda3\\Lib\\site-packages\\statsforecast\\mfles.py:301: RuntimeWarning: overflow encountered in scalar subtract\n",
      "  slope = (M * x_y_sum - x_sum * y_sum) / (M * x_sq_sum - x_sum**2)\n",
      "c:\\Users\\PC314\\anaconda3\\Lib\\site-packages\\statsforecast\\core.py:494: FutureWarning: In a future version the predictions will have the id as a column. You can set the `NIXTLA_ID_AS_COL` environment variable to adopt the new behavior and to suppress this warning.\n",
      "  warnings.warn(\n",
      "c:\\Users\\PC314\\anaconda3\\Lib\\site-packages\\statsforecast\\mfles.py:301: RuntimeWarning: overflow encountered in scalar multiply\n",
      "  slope = (M * x_y_sum - x_sum * y_sum) / (M * x_sq_sum - x_sum**2)\n",
      "c:\\Users\\PC314\\anaconda3\\Lib\\site-packages\\statsforecast\\mfles.py:301: RuntimeWarning: overflow encountered in scalar subtract\n",
      "  slope = (M * x_y_sum - x_sum * y_sum) / (M * x_sq_sum - x_sum**2)\n",
      "c:\\Users\\PC314\\anaconda3\\Lib\\site-packages\\statsforecast\\core.py:494: FutureWarning: In a future version the predictions will have the id as a column. You can set the `NIXTLA_ID_AS_COL` environment variable to adopt the new behavior and to suppress this warning.\n",
      "  warnings.warn(\n",
      "c:\\Users\\PC314\\anaconda3\\Lib\\site-packages\\statsforecast\\mfles.py:301: RuntimeWarning: overflow encountered in scalar multiply\n",
      "  slope = (M * x_y_sum - x_sum * y_sum) / (M * x_sq_sum - x_sum**2)\n",
      "c:\\Users\\PC314\\anaconda3\\Lib\\site-packages\\statsforecast\\mfles.py:301: RuntimeWarning: overflow encountered in scalar subtract\n",
      "  slope = (M * x_y_sum - x_sum * y_sum) / (M * x_sq_sum - x_sum**2)\n",
      "c:\\Users\\PC314\\anaconda3\\Lib\\site-packages\\statsforecast\\core.py:494: FutureWarning: In a future version the predictions will have the id as a column. You can set the `NIXTLA_ID_AS_COL` environment variable to adopt the new behavior and to suppress this warning.\n",
      "  warnings.warn(\n",
      "C:\\Users\\PC314\\AppData\\Local\\Temp\\ipykernel_17148\\3122320333.py:50: SettingWithCopyWarning: \n",
      "A value is trying to be set on a copy of a slice from a DataFrame.\n",
      "Try using .loc[row_indexer,col_indexer] = value instead\n",
      "\n",
      "See the caveats in the documentation: https://pandas.pydata.org/pandas-docs/stable/user_guide/indexing.html#returning-a-view-versus-a-copy\n",
      "  train_df['y'] = series\n"
     ]
    },
    {
     "name": "stdout",
     "output_type": "stream",
     "text": [
      "Best Model for trend_boxcox_standardize: MSTL_ac_MFLES1 (MAPE: 64.17%)\n",
      "Training on transformed version: seasonality_boxcox_standardize\n"
     ]
    },
    {
     "name": "stderr",
     "output_type": "stream",
     "text": [
      "c:\\Users\\PC314\\anaconda3\\Lib\\site-packages\\statsforecast\\core.py:494: FutureWarning: In a future version the predictions will have the id as a column. You can set the `NIXTLA_ID_AS_COL` environment variable to adopt the new behavior and to suppress this warning.\n",
      "  warnings.warn(\n",
      "c:\\Users\\PC314\\anaconda3\\Lib\\site-packages\\statsforecast\\core.py:494: FutureWarning: In a future version the predictions will have the id as a column. You can set the `NIXTLA_ID_AS_COL` environment variable to adopt the new behavior and to suppress this warning.\n",
      "  warnings.warn(\n",
      "c:\\Users\\PC314\\anaconda3\\Lib\\site-packages\\statsforecast\\core.py:494: FutureWarning: In a future version the predictions will have the id as a column. You can set the `NIXTLA_ID_AS_COL` environment variable to adopt the new behavior and to suppress this warning.\n",
      "  warnings.warn(\n",
      "c:\\Users\\PC314\\anaconda3\\Lib\\site-packages\\statsforecast\\core.py:494: FutureWarning: In a future version the predictions will have the id as a column. You can set the `NIXTLA_ID_AS_COL` environment variable to adopt the new behavior and to suppress this warning.\n",
      "  warnings.warn(\n",
      "c:\\Users\\PC314\\anaconda3\\Lib\\site-packages\\statsforecast\\core.py:494: FutureWarning: In a future version the predictions will have the id as a column. You can set the `NIXTLA_ID_AS_COL` environment variable to adopt the new behavior and to suppress this warning.\n",
      "  warnings.warn(\n",
      "c:\\Users\\PC314\\anaconda3\\Lib\\site-packages\\statsforecast\\core.py:494: FutureWarning: In a future version the predictions will have the id as a column. You can set the `NIXTLA_ID_AS_COL` environment variable to adopt the new behavior and to suppress this warning.\n",
      "  warnings.warn(\n",
      "C:\\Users\\PC314\\AppData\\Local\\Temp\\ipykernel_17148\\3122320333.py:50: SettingWithCopyWarning: \n",
      "A value is trying to be set on a copy of a slice from a DataFrame.\n",
      "Try using .loc[row_indexer,col_indexer] = value instead\n",
      "\n",
      "See the caveats in the documentation: https://pandas.pydata.org/pandas-docs/stable/user_guide/indexing.html#returning-a-view-versus-a-copy\n",
      "  train_df['y'] = series\n"
     ]
    },
    {
     "name": "stdout",
     "output_type": "stream",
     "text": [
      "Best Model for seasonality_boxcox_standardize: MSTL_abc_ARIMA (MAPE: 99.39%)\n",
      "Training on transformed version: log_trend_seasonality_boxcox\n"
     ]
    },
    {
     "name": "stderr",
     "output_type": "stream",
     "text": [
      "c:\\Users\\PC314\\anaconda3\\Lib\\site-packages\\statsforecast\\core.py:494: FutureWarning: In a future version the predictions will have the id as a column. You can set the `NIXTLA_ID_AS_COL` environment variable to adopt the new behavior and to suppress this warning.\n",
      "  warnings.warn(\n",
      "c:\\Users\\PC314\\anaconda3\\Lib\\site-packages\\statsforecast\\core.py:494: FutureWarning: In a future version the predictions will have the id as a column. You can set the `NIXTLA_ID_AS_COL` environment variable to adopt the new behavior and to suppress this warning.\n",
      "  warnings.warn(\n",
      "c:\\Users\\PC314\\anaconda3\\Lib\\site-packages\\statsforecast\\core.py:494: FutureWarning: In a future version the predictions will have the id as a column. You can set the `NIXTLA_ID_AS_COL` environment variable to adopt the new behavior and to suppress this warning.\n",
      "  warnings.warn(\n",
      "c:\\Users\\PC314\\anaconda3\\Lib\\site-packages\\statsforecast\\mfles.py:301: RuntimeWarning: overflow encountered in scalar multiply\n",
      "  slope = (M * x_y_sum - x_sum * y_sum) / (M * x_sq_sum - x_sum**2)\n",
      "c:\\Users\\PC314\\anaconda3\\Lib\\site-packages\\statsforecast\\mfles.py:301: RuntimeWarning: overflow encountered in scalar subtract\n",
      "  slope = (M * x_y_sum - x_sum * y_sum) / (M * x_sq_sum - x_sum**2)\n",
      "c:\\Users\\PC314\\anaconda3\\Lib\\site-packages\\statsforecast\\core.py:494: FutureWarning: In a future version the predictions will have the id as a column. You can set the `NIXTLA_ID_AS_COL` environment variable to adopt the new behavior and to suppress this warning.\n",
      "  warnings.warn(\n",
      "c:\\Users\\PC314\\anaconda3\\Lib\\site-packages\\statsforecast\\mfles.py:301: RuntimeWarning: overflow encountered in scalar multiply\n",
      "  slope = (M * x_y_sum - x_sum * y_sum) / (M * x_sq_sum - x_sum**2)\n",
      "c:\\Users\\PC314\\anaconda3\\Lib\\site-packages\\statsforecast\\mfles.py:301: RuntimeWarning: overflow encountered in scalar subtract\n",
      "  slope = (M * x_y_sum - x_sum * y_sum) / (M * x_sq_sum - x_sum**2)\n",
      "c:\\Users\\PC314\\anaconda3\\Lib\\site-packages\\statsforecast\\core.py:494: FutureWarning: In a future version the predictions will have the id as a column. You can set the `NIXTLA_ID_AS_COL` environment variable to adopt the new behavior and to suppress this warning.\n",
      "  warnings.warn(\n",
      "c:\\Users\\PC314\\anaconda3\\Lib\\site-packages\\statsforecast\\mfles.py:301: RuntimeWarning: overflow encountered in scalar multiply\n",
      "  slope = (M * x_y_sum - x_sum * y_sum) / (M * x_sq_sum - x_sum**2)\n",
      "c:\\Users\\PC314\\anaconda3\\Lib\\site-packages\\statsforecast\\mfles.py:301: RuntimeWarning: overflow encountered in scalar subtract\n",
      "  slope = (M * x_y_sum - x_sum * y_sum) / (M * x_sq_sum - x_sum**2)\n",
      "c:\\Users\\PC314\\anaconda3\\Lib\\site-packages\\statsforecast\\core.py:494: FutureWarning: In a future version the predictions will have the id as a column. You can set the `NIXTLA_ID_AS_COL` environment variable to adopt the new behavior and to suppress this warning.\n",
      "  warnings.warn(\n",
      "C:\\Users\\PC314\\AppData\\Local\\Temp\\ipykernel_17148\\3122320333.py:50: SettingWithCopyWarning: \n",
      "A value is trying to be set on a copy of a slice from a DataFrame.\n",
      "Try using .loc[row_indexer,col_indexer] = value instead\n",
      "\n",
      "See the caveats in the documentation: https://pandas.pydata.org/pandas-docs/stable/user_guide/indexing.html#returning-a-view-versus-a-copy\n",
      "  train_df['y'] = series\n"
     ]
    },
    {
     "name": "stdout",
     "output_type": "stream",
     "text": [
      "Best Model for log_trend_seasonality_boxcox: MSTL_a_ARIMA (MAPE: 1029.61%)\n",
      "Training on transformed version: log_trend_seasonality_standardize\n"
     ]
    },
    {
     "name": "stderr",
     "output_type": "stream",
     "text": [
      "c:\\Users\\PC314\\anaconda3\\Lib\\site-packages\\statsforecast\\core.py:494: FutureWarning: In a future version the predictions will have the id as a column. You can set the `NIXTLA_ID_AS_COL` environment variable to adopt the new behavior and to suppress this warning.\n",
      "  warnings.warn(\n",
      "c:\\Users\\PC314\\anaconda3\\Lib\\site-packages\\statsforecast\\core.py:494: FutureWarning: In a future version the predictions will have the id as a column. You can set the `NIXTLA_ID_AS_COL` environment variable to adopt the new behavior and to suppress this warning.\n",
      "  warnings.warn(\n",
      "c:\\Users\\PC314\\anaconda3\\Lib\\site-packages\\statsforecast\\core.py:494: FutureWarning: In a future version the predictions will have the id as a column. You can set the `NIXTLA_ID_AS_COL` environment variable to adopt the new behavior and to suppress this warning.\n",
      "  warnings.warn(\n",
      "c:\\Users\\PC314\\anaconda3\\Lib\\site-packages\\statsforecast\\mfles.py:301: RuntimeWarning: overflow encountered in scalar multiply\n",
      "  slope = (M * x_y_sum - x_sum * y_sum) / (M * x_sq_sum - x_sum**2)\n",
      "c:\\Users\\PC314\\anaconda3\\Lib\\site-packages\\statsforecast\\mfles.py:301: RuntimeWarning: overflow encountered in scalar subtract\n",
      "  slope = (M * x_y_sum - x_sum * y_sum) / (M * x_sq_sum - x_sum**2)\n",
      "c:\\Users\\PC314\\anaconda3\\Lib\\site-packages\\statsforecast\\core.py:494: FutureWarning: In a future version the predictions will have the id as a column. You can set the `NIXTLA_ID_AS_COL` environment variable to adopt the new behavior and to suppress this warning.\n",
      "  warnings.warn(\n",
      "c:\\Users\\PC314\\anaconda3\\Lib\\site-packages\\statsforecast\\mfles.py:301: RuntimeWarning: overflow encountered in scalar multiply\n",
      "  slope = (M * x_y_sum - x_sum * y_sum) / (M * x_sq_sum - x_sum**2)\n",
      "c:\\Users\\PC314\\anaconda3\\Lib\\site-packages\\statsforecast\\mfles.py:301: RuntimeWarning: overflow encountered in scalar subtract\n",
      "  slope = (M * x_y_sum - x_sum * y_sum) / (M * x_sq_sum - x_sum**2)\n",
      "c:\\Users\\PC314\\anaconda3\\Lib\\site-packages\\statsforecast\\core.py:494: FutureWarning: In a future version the predictions will have the id as a column. You can set the `NIXTLA_ID_AS_COL` environment variable to adopt the new behavior and to suppress this warning.\n",
      "  warnings.warn(\n",
      "c:\\Users\\PC314\\anaconda3\\Lib\\site-packages\\statsforecast\\mfles.py:301: RuntimeWarning: overflow encountered in scalar multiply\n",
      "  slope = (M * x_y_sum - x_sum * y_sum) / (M * x_sq_sum - x_sum**2)\n",
      "c:\\Users\\PC314\\anaconda3\\Lib\\site-packages\\statsforecast\\mfles.py:301: RuntimeWarning: overflow encountered in scalar subtract\n",
      "  slope = (M * x_y_sum - x_sum * y_sum) / (M * x_sq_sum - x_sum**2)\n",
      "c:\\Users\\PC314\\anaconda3\\Lib\\site-packages\\statsforecast\\core.py:494: FutureWarning: In a future version the predictions will have the id as a column. You can set the `NIXTLA_ID_AS_COL` environment variable to adopt the new behavior and to suppress this warning.\n",
      "  warnings.warn(\n",
      "C:\\Users\\PC314\\AppData\\Local\\Temp\\ipykernel_17148\\3122320333.py:50: SettingWithCopyWarning: \n",
      "A value is trying to be set on a copy of a slice from a DataFrame.\n",
      "Try using .loc[row_indexer,col_indexer] = value instead\n",
      "\n",
      "See the caveats in the documentation: https://pandas.pydata.org/pandas-docs/stable/user_guide/indexing.html#returning-a-view-versus-a-copy\n",
      "  train_df['y'] = series\n"
     ]
    },
    {
     "name": "stdout",
     "output_type": "stream",
     "text": [
      "Best Model for log_trend_seasonality_standardize: MSTL_a_ARIMA (MAPE: 1029.73%)\n",
      "Training on transformed version: log_trend_boxcox_standardize\n"
     ]
    },
    {
     "name": "stderr",
     "output_type": "stream",
     "text": [
      "c:\\Users\\PC314\\anaconda3\\Lib\\site-packages\\statsforecast\\core.py:494: FutureWarning: In a future version the predictions will have the id as a column. You can set the `NIXTLA_ID_AS_COL` environment variable to adopt the new behavior and to suppress this warning.\n",
      "  warnings.warn(\n",
      "c:\\Users\\PC314\\anaconda3\\Lib\\site-packages\\statsforecast\\core.py:494: FutureWarning: In a future version the predictions will have the id as a column. You can set the `NIXTLA_ID_AS_COL` environment variable to adopt the new behavior and to suppress this warning.\n",
      "  warnings.warn(\n",
      "c:\\Users\\PC314\\anaconda3\\Lib\\site-packages\\statsforecast\\core.py:494: FutureWarning: In a future version the predictions will have the id as a column. You can set the `NIXTLA_ID_AS_COL` environment variable to adopt the new behavior and to suppress this warning.\n",
      "  warnings.warn(\n",
      "c:\\Users\\PC314\\anaconda3\\Lib\\site-packages\\statsforecast\\mfles.py:301: RuntimeWarning: overflow encountered in scalar multiply\n",
      "  slope = (M * x_y_sum - x_sum * y_sum) / (M * x_sq_sum - x_sum**2)\n",
      "c:\\Users\\PC314\\anaconda3\\Lib\\site-packages\\statsforecast\\mfles.py:301: RuntimeWarning: overflow encountered in scalar subtract\n",
      "  slope = (M * x_y_sum - x_sum * y_sum) / (M * x_sq_sum - x_sum**2)\n",
      "c:\\Users\\PC314\\anaconda3\\Lib\\site-packages\\statsforecast\\core.py:494: FutureWarning: In a future version the predictions will have the id as a column. You can set the `NIXTLA_ID_AS_COL` environment variable to adopt the new behavior and to suppress this warning.\n",
      "  warnings.warn(\n",
      "c:\\Users\\PC314\\anaconda3\\Lib\\site-packages\\statsforecast\\mfles.py:301: RuntimeWarning: overflow encountered in scalar multiply\n",
      "  slope = (M * x_y_sum - x_sum * y_sum) / (M * x_sq_sum - x_sum**2)\n",
      "c:\\Users\\PC314\\anaconda3\\Lib\\site-packages\\statsforecast\\mfles.py:301: RuntimeWarning: overflow encountered in scalar subtract\n",
      "  slope = (M * x_y_sum - x_sum * y_sum) / (M * x_sq_sum - x_sum**2)\n",
      "c:\\Users\\PC314\\anaconda3\\Lib\\site-packages\\statsforecast\\core.py:494: FutureWarning: In a future version the predictions will have the id as a column. You can set the `NIXTLA_ID_AS_COL` environment variable to adopt the new behavior and to suppress this warning.\n",
      "  warnings.warn(\n",
      "c:\\Users\\PC314\\anaconda3\\Lib\\site-packages\\statsforecast\\mfles.py:301: RuntimeWarning: overflow encountered in scalar multiply\n",
      "  slope = (M * x_y_sum - x_sum * y_sum) / (M * x_sq_sum - x_sum**2)\n",
      "c:\\Users\\PC314\\anaconda3\\Lib\\site-packages\\statsforecast\\mfles.py:301: RuntimeWarning: overflow encountered in scalar subtract\n",
      "  slope = (M * x_y_sum - x_sum * y_sum) / (M * x_sq_sum - x_sum**2)\n",
      "c:\\Users\\PC314\\anaconda3\\Lib\\site-packages\\statsforecast\\core.py:494: FutureWarning: In a future version the predictions will have the id as a column. You can set the `NIXTLA_ID_AS_COL` environment variable to adopt the new behavior and to suppress this warning.\n",
      "  warnings.warn(\n",
      "C:\\Users\\PC314\\AppData\\Local\\Temp\\ipykernel_17148\\3122320333.py:50: SettingWithCopyWarning: \n",
      "A value is trying to be set on a copy of a slice from a DataFrame.\n",
      "Try using .loc[row_indexer,col_indexer] = value instead\n",
      "\n",
      "See the caveats in the documentation: https://pandas.pydata.org/pandas-docs/stable/user_guide/indexing.html#returning-a-view-versus-a-copy\n",
      "  train_df['y'] = series\n"
     ]
    },
    {
     "name": "stdout",
     "output_type": "stream",
     "text": [
      "Best Model for log_trend_boxcox_standardize: MSTL_a_ARIMA (MAPE: 1017.33%)\n",
      "Training on transformed version: log_seasonality_boxcox_standardize\n"
     ]
    },
    {
     "name": "stderr",
     "output_type": "stream",
     "text": [
      "c:\\Users\\PC314\\anaconda3\\Lib\\site-packages\\statsforecast\\core.py:494: FutureWarning: In a future version the predictions will have the id as a column. You can set the `NIXTLA_ID_AS_COL` environment variable to adopt the new behavior and to suppress this warning.\n",
      "  warnings.warn(\n",
      "c:\\Users\\PC314\\anaconda3\\Lib\\site-packages\\statsforecast\\core.py:494: FutureWarning: In a future version the predictions will have the id as a column. You can set the `NIXTLA_ID_AS_COL` environment variable to adopt the new behavior and to suppress this warning.\n",
      "  warnings.warn(\n",
      "c:\\Users\\PC314\\anaconda3\\Lib\\site-packages\\statsforecast\\core.py:494: FutureWarning: In a future version the predictions will have the id as a column. You can set the `NIXTLA_ID_AS_COL` environment variable to adopt the new behavior and to suppress this warning.\n",
      "  warnings.warn(\n",
      "c:\\Users\\PC314\\anaconda3\\Lib\\site-packages\\statsforecast\\mfles.py:301: RuntimeWarning: overflow encountered in scalar multiply\n",
      "  slope = (M * x_y_sum - x_sum * y_sum) / (M * x_sq_sum - x_sum**2)\n",
      "c:\\Users\\PC314\\anaconda3\\Lib\\site-packages\\statsforecast\\mfles.py:301: RuntimeWarning: overflow encountered in scalar subtract\n",
      "  slope = (M * x_y_sum - x_sum * y_sum) / (M * x_sq_sum - x_sum**2)\n",
      "c:\\Users\\PC314\\anaconda3\\Lib\\site-packages\\statsforecast\\core.py:494: FutureWarning: In a future version the predictions will have the id as a column. You can set the `NIXTLA_ID_AS_COL` environment variable to adopt the new behavior and to suppress this warning.\n",
      "  warnings.warn(\n",
      "c:\\Users\\PC314\\anaconda3\\Lib\\site-packages\\statsforecast\\mfles.py:301: RuntimeWarning: overflow encountered in scalar multiply\n",
      "  slope = (M * x_y_sum - x_sum * y_sum) / (M * x_sq_sum - x_sum**2)\n",
      "c:\\Users\\PC314\\anaconda3\\Lib\\site-packages\\statsforecast\\mfles.py:301: RuntimeWarning: overflow encountered in scalar subtract\n",
      "  slope = (M * x_y_sum - x_sum * y_sum) / (M * x_sq_sum - x_sum**2)\n",
      "c:\\Users\\PC314\\anaconda3\\Lib\\site-packages\\statsforecast\\core.py:494: FutureWarning: In a future version the predictions will have the id as a column. You can set the `NIXTLA_ID_AS_COL` environment variable to adopt the new behavior and to suppress this warning.\n",
      "  warnings.warn(\n",
      "c:\\Users\\PC314\\anaconda3\\Lib\\site-packages\\statsforecast\\mfles.py:301: RuntimeWarning: overflow encountered in scalar multiply\n",
      "  slope = (M * x_y_sum - x_sum * y_sum) / (M * x_sq_sum - x_sum**2)\n",
      "c:\\Users\\PC314\\anaconda3\\Lib\\site-packages\\statsforecast\\mfles.py:301: RuntimeWarning: overflow encountered in scalar subtract\n",
      "  slope = (M * x_y_sum - x_sum * y_sum) / (M * x_sq_sum - x_sum**2)\n",
      "c:\\Users\\PC314\\anaconda3\\Lib\\site-packages\\statsforecast\\core.py:494: FutureWarning: In a future version the predictions will have the id as a column. You can set the `NIXTLA_ID_AS_COL` environment variable to adopt the new behavior and to suppress this warning.\n",
      "  warnings.warn(\n",
      "C:\\Users\\PC314\\AppData\\Local\\Temp\\ipykernel_17148\\3122320333.py:50: SettingWithCopyWarning: \n",
      "A value is trying to be set on a copy of a slice from a DataFrame.\n",
      "Try using .loc[row_indexer,col_indexer] = value instead\n",
      "\n",
      "See the caveats in the documentation: https://pandas.pydata.org/pandas-docs/stable/user_guide/indexing.html#returning-a-view-versus-a-copy\n",
      "  train_df['y'] = series\n"
     ]
    },
    {
     "name": "stdout",
     "output_type": "stream",
     "text": [
      "Best Model for log_seasonality_boxcox_standardize: MSTL_a_ARIMA (MAPE: 94.33%)\n",
      "Training on transformed version: trend_seasonality_boxcox_standardize\n"
     ]
    },
    {
     "name": "stderr",
     "output_type": "stream",
     "text": [
      "c:\\Users\\PC314\\anaconda3\\Lib\\site-packages\\statsforecast\\core.py:494: FutureWarning: In a future version the predictions will have the id as a column. You can set the `NIXTLA_ID_AS_COL` environment variable to adopt the new behavior and to suppress this warning.\n",
      "  warnings.warn(\n",
      "c:\\Users\\PC314\\anaconda3\\Lib\\site-packages\\statsforecast\\core.py:494: FutureWarning: In a future version the predictions will have the id as a column. You can set the `NIXTLA_ID_AS_COL` environment variable to adopt the new behavior and to suppress this warning.\n",
      "  warnings.warn(\n",
      "c:\\Users\\PC314\\anaconda3\\Lib\\site-packages\\statsforecast\\core.py:494: FutureWarning: In a future version the predictions will have the id as a column. You can set the `NIXTLA_ID_AS_COL` environment variable to adopt the new behavior and to suppress this warning.\n",
      "  warnings.warn(\n",
      "c:\\Users\\PC314\\anaconda3\\Lib\\site-packages\\statsforecast\\mfles.py:301: RuntimeWarning: overflow encountered in scalar multiply\n",
      "  slope = (M * x_y_sum - x_sum * y_sum) / (M * x_sq_sum - x_sum**2)\n",
      "c:\\Users\\PC314\\anaconda3\\Lib\\site-packages\\statsforecast\\mfles.py:301: RuntimeWarning: overflow encountered in scalar subtract\n",
      "  slope = (M * x_y_sum - x_sum * y_sum) / (M * x_sq_sum - x_sum**2)\n",
      "c:\\Users\\PC314\\anaconda3\\Lib\\site-packages\\statsforecast\\core.py:494: FutureWarning: In a future version the predictions will have the id as a column. You can set the `NIXTLA_ID_AS_COL` environment variable to adopt the new behavior and to suppress this warning.\n",
      "  warnings.warn(\n",
      "c:\\Users\\PC314\\anaconda3\\Lib\\site-packages\\statsforecast\\mfles.py:301: RuntimeWarning: overflow encountered in scalar multiply\n",
      "  slope = (M * x_y_sum - x_sum * y_sum) / (M * x_sq_sum - x_sum**2)\n",
      "c:\\Users\\PC314\\anaconda3\\Lib\\site-packages\\statsforecast\\mfles.py:301: RuntimeWarning: overflow encountered in scalar subtract\n",
      "  slope = (M * x_y_sum - x_sum * y_sum) / (M * x_sq_sum - x_sum**2)\n",
      "c:\\Users\\PC314\\anaconda3\\Lib\\site-packages\\statsforecast\\core.py:494: FutureWarning: In a future version the predictions will have the id as a column. You can set the `NIXTLA_ID_AS_COL` environment variable to adopt the new behavior and to suppress this warning.\n",
      "  warnings.warn(\n",
      "c:\\Users\\PC314\\anaconda3\\Lib\\site-packages\\statsforecast\\mfles.py:301: RuntimeWarning: overflow encountered in scalar multiply\n",
      "  slope = (M * x_y_sum - x_sum * y_sum) / (M * x_sq_sum - x_sum**2)\n",
      "c:\\Users\\PC314\\anaconda3\\Lib\\site-packages\\statsforecast\\mfles.py:301: RuntimeWarning: overflow encountered in scalar subtract\n",
      "  slope = (M * x_y_sum - x_sum * y_sum) / (M * x_sq_sum - x_sum**2)\n",
      "c:\\Users\\PC314\\anaconda3\\Lib\\site-packages\\statsforecast\\core.py:494: FutureWarning: In a future version the predictions will have the id as a column. You can set the `NIXTLA_ID_AS_COL` environment variable to adopt the new behavior and to suppress this warning.\n",
      "  warnings.warn(\n",
      "C:\\Users\\PC314\\AppData\\Local\\Temp\\ipykernel_17148\\3122320333.py:50: SettingWithCopyWarning: \n",
      "A value is trying to be set on a copy of a slice from a DataFrame.\n",
      "Try using .loc[row_indexer,col_indexer] = value instead\n",
      "\n",
      "See the caveats in the documentation: https://pandas.pydata.org/pandas-docs/stable/user_guide/indexing.html#returning-a-view-versus-a-copy\n",
      "  train_df['y'] = series\n"
     ]
    },
    {
     "name": "stdout",
     "output_type": "stream",
     "text": [
      "Best Model for trend_seasonality_boxcox_standardize: MSTL_ac_MFLES1 (MAPE: 63.17%)\n",
      "Training on transformed version: log_trend_seasonality_boxcox_standardize\n"
     ]
    },
    {
     "name": "stderr",
     "output_type": "stream",
     "text": [
      "c:\\Users\\PC314\\anaconda3\\Lib\\site-packages\\statsforecast\\core.py:494: FutureWarning: In a future version the predictions will have the id as a column. You can set the `NIXTLA_ID_AS_COL` environment variable to adopt the new behavior and to suppress this warning.\n",
      "  warnings.warn(\n",
      "c:\\Users\\PC314\\anaconda3\\Lib\\site-packages\\statsforecast\\core.py:494: FutureWarning: In a future version the predictions will have the id as a column. You can set the `NIXTLA_ID_AS_COL` environment variable to adopt the new behavior and to suppress this warning.\n",
      "  warnings.warn(\n",
      "c:\\Users\\PC314\\anaconda3\\Lib\\site-packages\\statsforecast\\core.py:494: FutureWarning: In a future version the predictions will have the id as a column. You can set the `NIXTLA_ID_AS_COL` environment variable to adopt the new behavior and to suppress this warning.\n",
      "  warnings.warn(\n",
      "c:\\Users\\PC314\\anaconda3\\Lib\\site-packages\\statsforecast\\mfles.py:301: RuntimeWarning: overflow encountered in scalar multiply\n",
      "  slope = (M * x_y_sum - x_sum * y_sum) / (M * x_sq_sum - x_sum**2)\n",
      "c:\\Users\\PC314\\anaconda3\\Lib\\site-packages\\statsforecast\\mfles.py:301: RuntimeWarning: overflow encountered in scalar subtract\n",
      "  slope = (M * x_y_sum - x_sum * y_sum) / (M * x_sq_sum - x_sum**2)\n",
      "c:\\Users\\PC314\\anaconda3\\Lib\\site-packages\\statsforecast\\core.py:494: FutureWarning: In a future version the predictions will have the id as a column. You can set the `NIXTLA_ID_AS_COL` environment variable to adopt the new behavior and to suppress this warning.\n",
      "  warnings.warn(\n",
      "c:\\Users\\PC314\\anaconda3\\Lib\\site-packages\\statsforecast\\mfles.py:301: RuntimeWarning: overflow encountered in scalar multiply\n",
      "  slope = (M * x_y_sum - x_sum * y_sum) / (M * x_sq_sum - x_sum**2)\n",
      "c:\\Users\\PC314\\anaconda3\\Lib\\site-packages\\statsforecast\\mfles.py:301: RuntimeWarning: overflow encountered in scalar subtract\n",
      "  slope = (M * x_y_sum - x_sum * y_sum) / (M * x_sq_sum - x_sum**2)\n",
      "c:\\Users\\PC314\\anaconda3\\Lib\\site-packages\\statsforecast\\core.py:494: FutureWarning: In a future version the predictions will have the id as a column. You can set the `NIXTLA_ID_AS_COL` environment variable to adopt the new behavior and to suppress this warning.\n",
      "  warnings.warn(\n",
      "c:\\Users\\PC314\\anaconda3\\Lib\\site-packages\\statsforecast\\mfles.py:301: RuntimeWarning: overflow encountered in scalar multiply\n",
      "  slope = (M * x_y_sum - x_sum * y_sum) / (M * x_sq_sum - x_sum**2)\n",
      "c:\\Users\\PC314\\anaconda3\\Lib\\site-packages\\statsforecast\\mfles.py:301: RuntimeWarning: overflow encountered in scalar subtract\n",
      "  slope = (M * x_y_sum - x_sum * y_sum) / (M * x_sq_sum - x_sum**2)\n",
      "c:\\Users\\PC314\\anaconda3\\Lib\\site-packages\\statsforecast\\core.py:494: FutureWarning: In a future version the predictions will have the id as a column. You can set the `NIXTLA_ID_AS_COL` environment variable to adopt the new behavior and to suppress this warning.\n",
      "  warnings.warn(\n",
      "C:\\Users\\PC314\\AppData\\Local\\Temp\\ipykernel_17148\\2310296225.py:49: UserWarning: Skipping seasonality removal: Data is too short for a full seasonal cycle.\n",
      "  warnings.warn(\"Skipping seasonality removal: Data is too short for a full seasonal cycle.\")\n",
      "C:\\Users\\PC314\\AppData\\Local\\Temp\\ipykernel_17148\\2310296225.py:69: UserWarning: Failed to apply Box-Cox transformation: The `x` argument of `boxcox_normmax` must contain only positive, finite, real numbers.\n",
      "  warnings.warn(f\"Failed to apply Box-Cox transformation: {e}\")\n",
      "C:\\Users\\PC314\\AppData\\Local\\Temp\\ipykernel_17148\\3122320333.py:50: SettingWithCopyWarning: \n",
      "A value is trying to be set on a copy of a slice from a DataFrame.\n",
      "Try using .loc[row_indexer,col_indexer] = value instead\n",
      "\n",
      "See the caveats in the documentation: https://pandas.pydata.org/pandas-docs/stable/user_guide/indexing.html#returning-a-view-versus-a-copy\n",
      "  train_df['y'] = series\n"
     ]
    },
    {
     "name": "stdout",
     "output_type": "stream",
     "text": [
      "Best Model for log_trend_seasonality_boxcox_standardize: MSTL_a_ARIMA (MAPE: 1029.73%)\n",
      "Processing Sensor 2, Scenario: 22M_train\n",
      "Training on transformed version: original\n"
     ]
    },
    {
     "name": "stderr",
     "output_type": "stream",
     "text": [
      "c:\\Users\\PC314\\anaconda3\\Lib\\site-packages\\statsforecast\\core.py:494: FutureWarning: In a future version the predictions will have the id as a column. You can set the `NIXTLA_ID_AS_COL` environment variable to adopt the new behavior and to suppress this warning.\n",
      "  warnings.warn(\n",
      "c:\\Users\\PC314\\anaconda3\\Lib\\site-packages\\statsforecast\\core.py:494: FutureWarning: In a future version the predictions will have the id as a column. You can set the `NIXTLA_ID_AS_COL` environment variable to adopt the new behavior and to suppress this warning.\n",
      "  warnings.warn(\n",
      "c:\\Users\\PC314\\anaconda3\\Lib\\site-packages\\statsforecast\\core.py:494: FutureWarning: In a future version the predictions will have the id as a column. You can set the `NIXTLA_ID_AS_COL` environment variable to adopt the new behavior and to suppress this warning.\n",
      "  warnings.warn(\n",
      "c:\\Users\\PC314\\anaconda3\\Lib\\site-packages\\statsforecast\\core.py:494: FutureWarning: In a future version the predictions will have the id as a column. You can set the `NIXTLA_ID_AS_COL` environment variable to adopt the new behavior and to suppress this warning.\n",
      "  warnings.warn(\n",
      "c:\\Users\\PC314\\anaconda3\\Lib\\site-packages\\statsforecast\\core.py:494: FutureWarning: In a future version the predictions will have the id as a column. You can set the `NIXTLA_ID_AS_COL` environment variable to adopt the new behavior and to suppress this warning.\n",
      "  warnings.warn(\n",
      "c:\\Users\\PC314\\anaconda3\\Lib\\site-packages\\statsforecast\\core.py:494: FutureWarning: In a future version the predictions will have the id as a column. You can set the `NIXTLA_ID_AS_COL` environment variable to adopt the new behavior and to suppress this warning.\n",
      "  warnings.warn(\n",
      "C:\\Users\\PC314\\AppData\\Local\\Temp\\ipykernel_17148\\3122320333.py:50: SettingWithCopyWarning: \n",
      "A value is trying to be set on a copy of a slice from a DataFrame.\n",
      "Try using .loc[row_indexer,col_indexer] = value instead\n",
      "\n",
      "See the caveats in the documentation: https://pandas.pydata.org/pandas-docs/stable/user_guide/indexing.html#returning-a-view-versus-a-copy\n",
      "  train_df['y'] = series\n"
     ]
    },
    {
     "name": "stdout",
     "output_type": "stream",
     "text": [
      "Best Model for original: MSTL_ac_ARIMA (MAPE: 58.55%)\n",
      "Training on transformed version: log\n"
     ]
    },
    {
     "name": "stderr",
     "output_type": "stream",
     "text": [
      "c:\\Users\\PC314\\anaconda3\\Lib\\site-packages\\statsforecast\\core.py:494: FutureWarning: In a future version the predictions will have the id as a column. You can set the `NIXTLA_ID_AS_COL` environment variable to adopt the new behavior and to suppress this warning.\n",
      "  warnings.warn(\n",
      "c:\\Users\\PC314\\anaconda3\\Lib\\site-packages\\statsforecast\\core.py:494: FutureWarning: In a future version the predictions will have the id as a column. You can set the `NIXTLA_ID_AS_COL` environment variable to adopt the new behavior and to suppress this warning.\n",
      "  warnings.warn(\n",
      "c:\\Users\\PC314\\anaconda3\\Lib\\site-packages\\statsforecast\\core.py:494: FutureWarning: In a future version the predictions will have the id as a column. You can set the `NIXTLA_ID_AS_COL` environment variable to adopt the new behavior and to suppress this warning.\n",
      "  warnings.warn(\n",
      "c:\\Users\\PC314\\anaconda3\\Lib\\site-packages\\statsforecast\\mfles.py:301: RuntimeWarning: overflow encountered in scalar multiply\n",
      "  slope = (M * x_y_sum - x_sum * y_sum) / (M * x_sq_sum - x_sum**2)\n",
      "c:\\Users\\PC314\\anaconda3\\Lib\\site-packages\\statsforecast\\core.py:494: FutureWarning: In a future version the predictions will have the id as a column. You can set the `NIXTLA_ID_AS_COL` environment variable to adopt the new behavior and to suppress this warning.\n",
      "  warnings.warn(\n",
      "c:\\Users\\PC314\\anaconda3\\Lib\\site-packages\\statsforecast\\mfles.py:301: RuntimeWarning: overflow encountered in scalar multiply\n",
      "  slope = (M * x_y_sum - x_sum * y_sum) / (M * x_sq_sum - x_sum**2)\n",
      "c:\\Users\\PC314\\anaconda3\\Lib\\site-packages\\statsforecast\\core.py:494: FutureWarning: In a future version the predictions will have the id as a column. You can set the `NIXTLA_ID_AS_COL` environment variable to adopt the new behavior and to suppress this warning.\n",
      "  warnings.warn(\n",
      "c:\\Users\\PC314\\anaconda3\\Lib\\site-packages\\statsforecast\\mfles.py:301: RuntimeWarning: overflow encountered in scalar multiply\n",
      "  slope = (M * x_y_sum - x_sum * y_sum) / (M * x_sq_sum - x_sum**2)\n",
      "c:\\Users\\PC314\\anaconda3\\Lib\\site-packages\\statsforecast\\core.py:494: FutureWarning: In a future version the predictions will have the id as a column. You can set the `NIXTLA_ID_AS_COL` environment variable to adopt the new behavior and to suppress this warning.\n",
      "  warnings.warn(\n",
      "C:\\Users\\PC314\\AppData\\Local\\Temp\\ipykernel_17148\\3122320333.py:50: SettingWithCopyWarning: \n",
      "A value is trying to be set on a copy of a slice from a DataFrame.\n",
      "Try using .loc[row_indexer,col_indexer] = value instead\n",
      "\n",
      "See the caveats in the documentation: https://pandas.pydata.org/pandas-docs/stable/user_guide/indexing.html#returning-a-view-versus-a-copy\n",
      "  train_df['y'] = series\n"
     ]
    },
    {
     "name": "stdout",
     "output_type": "stream",
     "text": [
      "Best Model for log: MSTL_abc_ARIMA (MAPE: 35.39%)\n",
      "Saving model 2_22M_train_log_MSTL_abc_ARIMA_e99da065\n",
      "Training on transformed version: trend\n"
     ]
    },
    {
     "name": "stderr",
     "output_type": "stream",
     "text": [
      "c:\\Users\\PC314\\anaconda3\\Lib\\site-packages\\statsforecast\\core.py:494: FutureWarning: In a future version the predictions will have the id as a column. You can set the `NIXTLA_ID_AS_COL` environment variable to adopt the new behavior and to suppress this warning.\n",
      "  warnings.warn(\n",
      "c:\\Users\\PC314\\anaconda3\\Lib\\site-packages\\statsforecast\\core.py:494: FutureWarning: In a future version the predictions will have the id as a column. You can set the `NIXTLA_ID_AS_COL` environment variable to adopt the new behavior and to suppress this warning.\n",
      "  warnings.warn(\n",
      "c:\\Users\\PC314\\anaconda3\\Lib\\site-packages\\statsforecast\\core.py:494: FutureWarning: In a future version the predictions will have the id as a column. You can set the `NIXTLA_ID_AS_COL` environment variable to adopt the new behavior and to suppress this warning.\n",
      "  warnings.warn(\n",
      "c:\\Users\\PC314\\anaconda3\\Lib\\site-packages\\statsforecast\\mfles.py:301: RuntimeWarning: overflow encountered in scalar multiply\n",
      "  slope = (M * x_y_sum - x_sum * y_sum) / (M * x_sq_sum - x_sum**2)\n",
      "c:\\Users\\PC314\\anaconda3\\Lib\\site-packages\\statsforecast\\core.py:494: FutureWarning: In a future version the predictions will have the id as a column. You can set the `NIXTLA_ID_AS_COL` environment variable to adopt the new behavior and to suppress this warning.\n",
      "  warnings.warn(\n",
      "c:\\Users\\PC314\\anaconda3\\Lib\\site-packages\\statsforecast\\mfles.py:301: RuntimeWarning: overflow encountered in scalar multiply\n",
      "  slope = (M * x_y_sum - x_sum * y_sum) / (M * x_sq_sum - x_sum**2)\n",
      "c:\\Users\\PC314\\anaconda3\\Lib\\site-packages\\statsforecast\\core.py:494: FutureWarning: In a future version the predictions will have the id as a column. You can set the `NIXTLA_ID_AS_COL` environment variable to adopt the new behavior and to suppress this warning.\n",
      "  warnings.warn(\n",
      "c:\\Users\\PC314\\anaconda3\\Lib\\site-packages\\statsforecast\\mfles.py:301: RuntimeWarning: overflow encountered in scalar multiply\n",
      "  slope = (M * x_y_sum - x_sum * y_sum) / (M * x_sq_sum - x_sum**2)\n",
      "c:\\Users\\PC314\\anaconda3\\Lib\\site-packages\\statsforecast\\core.py:494: FutureWarning: In a future version the predictions will have the id as a column. You can set the `NIXTLA_ID_AS_COL` environment variable to adopt the new behavior and to suppress this warning.\n",
      "  warnings.warn(\n",
      "C:\\Users\\PC314\\AppData\\Local\\Temp\\ipykernel_17148\\3122320333.py:50: SettingWithCopyWarning: \n",
      "A value is trying to be set on a copy of a slice from a DataFrame.\n",
      "Try using .loc[row_indexer,col_indexer] = value instead\n",
      "\n",
      "See the caveats in the documentation: https://pandas.pydata.org/pandas-docs/stable/user_guide/indexing.html#returning-a-view-versus-a-copy\n",
      "  train_df['y'] = series\n"
     ]
    },
    {
     "name": "stdout",
     "output_type": "stream",
     "text": [
      "Best Model for trend: MSTL_a_ARIMA (MAPE: 124.45%)\n",
      "Training on transformed version: seasonality\n"
     ]
    },
    {
     "name": "stderr",
     "output_type": "stream",
     "text": [
      "c:\\Users\\PC314\\anaconda3\\Lib\\site-packages\\statsforecast\\core.py:494: FutureWarning: In a future version the predictions will have the id as a column. You can set the `NIXTLA_ID_AS_COL` environment variable to adopt the new behavior and to suppress this warning.\n",
      "  warnings.warn(\n",
      "c:\\Users\\PC314\\anaconda3\\Lib\\site-packages\\statsforecast\\core.py:494: FutureWarning: In a future version the predictions will have the id as a column. You can set the `NIXTLA_ID_AS_COL` environment variable to adopt the new behavior and to suppress this warning.\n",
      "  warnings.warn(\n",
      "c:\\Users\\PC314\\anaconda3\\Lib\\site-packages\\statsforecast\\core.py:494: FutureWarning: In a future version the predictions will have the id as a column. You can set the `NIXTLA_ID_AS_COL` environment variable to adopt the new behavior and to suppress this warning.\n",
      "  warnings.warn(\n",
      "c:\\Users\\PC314\\anaconda3\\Lib\\site-packages\\statsforecast\\core.py:494: FutureWarning: In a future version the predictions will have the id as a column. You can set the `NIXTLA_ID_AS_COL` environment variable to adopt the new behavior and to suppress this warning.\n",
      "  warnings.warn(\n",
      "c:\\Users\\PC314\\anaconda3\\Lib\\site-packages\\statsforecast\\core.py:494: FutureWarning: In a future version the predictions will have the id as a column. You can set the `NIXTLA_ID_AS_COL` environment variable to adopt the new behavior and to suppress this warning.\n",
      "  warnings.warn(\n",
      "c:\\Users\\PC314\\anaconda3\\Lib\\site-packages\\statsforecast\\core.py:494: FutureWarning: In a future version the predictions will have the id as a column. You can set the `NIXTLA_ID_AS_COL` environment variable to adopt the new behavior and to suppress this warning.\n",
      "  warnings.warn(\n",
      "C:\\Users\\PC314\\AppData\\Local\\Temp\\ipykernel_17148\\3122320333.py:50: SettingWithCopyWarning: \n",
      "A value is trying to be set on a copy of a slice from a DataFrame.\n",
      "Try using .loc[row_indexer,col_indexer] = value instead\n",
      "\n",
      "See the caveats in the documentation: https://pandas.pydata.org/pandas-docs/stable/user_guide/indexing.html#returning-a-view-versus-a-copy\n",
      "  train_df['y'] = series\n"
     ]
    },
    {
     "name": "stdout",
     "output_type": "stream",
     "text": [
      "Best Model for seasonality: MSTL_ac_ARIMA (MAPE: 58.55%)\n",
      "Training on transformed version: boxcox\n"
     ]
    },
    {
     "name": "stderr",
     "output_type": "stream",
     "text": [
      "c:\\Users\\PC314\\anaconda3\\Lib\\site-packages\\statsforecast\\core.py:494: FutureWarning: In a future version the predictions will have the id as a column. You can set the `NIXTLA_ID_AS_COL` environment variable to adopt the new behavior and to suppress this warning.\n",
      "  warnings.warn(\n",
      "c:\\Users\\PC314\\anaconda3\\Lib\\site-packages\\statsforecast\\core.py:494: FutureWarning: In a future version the predictions will have the id as a column. You can set the `NIXTLA_ID_AS_COL` environment variable to adopt the new behavior and to suppress this warning.\n",
      "  warnings.warn(\n",
      "c:\\Users\\PC314\\anaconda3\\Lib\\site-packages\\statsforecast\\core.py:494: FutureWarning: In a future version the predictions will have the id as a column. You can set the `NIXTLA_ID_AS_COL` environment variable to adopt the new behavior and to suppress this warning.\n",
      "  warnings.warn(\n",
      "c:\\Users\\PC314\\anaconda3\\Lib\\site-packages\\statsforecast\\mfles.py:301: RuntimeWarning: overflow encountered in scalar multiply\n",
      "  slope = (M * x_y_sum - x_sum * y_sum) / (M * x_sq_sum - x_sum**2)\n",
      "c:\\Users\\PC314\\anaconda3\\Lib\\site-packages\\statsforecast\\core.py:494: FutureWarning: In a future version the predictions will have the id as a column. You can set the `NIXTLA_ID_AS_COL` environment variable to adopt the new behavior and to suppress this warning.\n",
      "  warnings.warn(\n",
      "c:\\Users\\PC314\\anaconda3\\Lib\\site-packages\\statsforecast\\mfles.py:301: RuntimeWarning: overflow encountered in scalar multiply\n",
      "  slope = (M * x_y_sum - x_sum * y_sum) / (M * x_sq_sum - x_sum**2)\n",
      "c:\\Users\\PC314\\anaconda3\\Lib\\site-packages\\statsforecast\\core.py:494: FutureWarning: In a future version the predictions will have the id as a column. You can set the `NIXTLA_ID_AS_COL` environment variable to adopt the new behavior and to suppress this warning.\n",
      "  warnings.warn(\n",
      "c:\\Users\\PC314\\anaconda3\\Lib\\site-packages\\statsforecast\\mfles.py:301: RuntimeWarning: overflow encountered in scalar multiply\n",
      "  slope = (M * x_y_sum - x_sum * y_sum) / (M * x_sq_sum - x_sum**2)\n",
      "c:\\Users\\PC314\\anaconda3\\Lib\\site-packages\\statsforecast\\core.py:494: FutureWarning: In a future version the predictions will have the id as a column. You can set the `NIXTLA_ID_AS_COL` environment variable to adopt the new behavior and to suppress this warning.\n",
      "  warnings.warn(\n",
      "C:\\Users\\PC314\\AppData\\Local\\Temp\\ipykernel_17148\\3122320333.py:50: SettingWithCopyWarning: \n",
      "A value is trying to be set on a copy of a slice from a DataFrame.\n",
      "Try using .loc[row_indexer,col_indexer] = value instead\n",
      "\n",
      "See the caveats in the documentation: https://pandas.pydata.org/pandas-docs/stable/user_guide/indexing.html#returning-a-view-versus-a-copy\n",
      "  train_df['y'] = series\n"
     ]
    },
    {
     "name": "stdout",
     "output_type": "stream",
     "text": [
      "Best Model for boxcox: MSTL_abc_ARIMA (MAPE: 34.75%)\n",
      "Saving model 2_22M_train_boxcox_MSTL_abc_ARIMA_b441edff\n",
      "Training on transformed version: standardize\n"
     ]
    },
    {
     "name": "stderr",
     "output_type": "stream",
     "text": [
      "c:\\Users\\PC314\\anaconda3\\Lib\\site-packages\\statsforecast\\core.py:494: FutureWarning: In a future version the predictions will have the id as a column. You can set the `NIXTLA_ID_AS_COL` environment variable to adopt the new behavior and to suppress this warning.\n",
      "  warnings.warn(\n",
      "c:\\Users\\PC314\\anaconda3\\Lib\\site-packages\\statsforecast\\core.py:494: FutureWarning: In a future version the predictions will have the id as a column. You can set the `NIXTLA_ID_AS_COL` environment variable to adopt the new behavior and to suppress this warning.\n",
      "  warnings.warn(\n",
      "c:\\Users\\PC314\\anaconda3\\Lib\\site-packages\\statsforecast\\core.py:494: FutureWarning: In a future version the predictions will have the id as a column. You can set the `NIXTLA_ID_AS_COL` environment variable to adopt the new behavior and to suppress this warning.\n",
      "  warnings.warn(\n",
      "c:\\Users\\PC314\\anaconda3\\Lib\\site-packages\\statsforecast\\core.py:494: FutureWarning: In a future version the predictions will have the id as a column. You can set the `NIXTLA_ID_AS_COL` environment variable to adopt the new behavior and to suppress this warning.\n",
      "  warnings.warn(\n",
      "c:\\Users\\PC314\\anaconda3\\Lib\\site-packages\\statsforecast\\core.py:494: FutureWarning: In a future version the predictions will have the id as a column. You can set the `NIXTLA_ID_AS_COL` environment variable to adopt the new behavior and to suppress this warning.\n",
      "  warnings.warn(\n",
      "c:\\Users\\PC314\\anaconda3\\Lib\\site-packages\\statsforecast\\core.py:494: FutureWarning: In a future version the predictions will have the id as a column. You can set the `NIXTLA_ID_AS_COL` environment variable to adopt the new behavior and to suppress this warning.\n",
      "  warnings.warn(\n",
      "C:\\Users\\PC314\\AppData\\Local\\Temp\\ipykernel_17148\\3122320333.py:50: SettingWithCopyWarning: \n",
      "A value is trying to be set on a copy of a slice from a DataFrame.\n",
      "Try using .loc[row_indexer,col_indexer] = value instead\n",
      "\n",
      "See the caveats in the documentation: https://pandas.pydata.org/pandas-docs/stable/user_guide/indexing.html#returning-a-view-versus-a-copy\n",
      "  train_df['y'] = series\n"
     ]
    },
    {
     "name": "stdout",
     "output_type": "stream",
     "text": [
      "Best Model for standardize: MSTL_a_ARIMA (MAPE: 98.70%)\n",
      "Training on transformed version: log_trend\n"
     ]
    },
    {
     "name": "stderr",
     "output_type": "stream",
     "text": [
      "c:\\Users\\PC314\\anaconda3\\Lib\\site-packages\\statsforecast\\core.py:494: FutureWarning: In a future version the predictions will have the id as a column. You can set the `NIXTLA_ID_AS_COL` environment variable to adopt the new behavior and to suppress this warning.\n",
      "  warnings.warn(\n",
      "c:\\Users\\PC314\\anaconda3\\Lib\\site-packages\\statsforecast\\core.py:494: FutureWarning: In a future version the predictions will have the id as a column. You can set the `NIXTLA_ID_AS_COL` environment variable to adopt the new behavior and to suppress this warning.\n",
      "  warnings.warn(\n",
      "c:\\Users\\PC314\\anaconda3\\Lib\\site-packages\\statsforecast\\core.py:494: FutureWarning: In a future version the predictions will have the id as a column. You can set the `NIXTLA_ID_AS_COL` environment variable to adopt the new behavior and to suppress this warning.\n",
      "  warnings.warn(\n",
      "c:\\Users\\PC314\\anaconda3\\Lib\\site-packages\\statsforecast\\mfles.py:301: RuntimeWarning: overflow encountered in scalar multiply\n",
      "  slope = (M * x_y_sum - x_sum * y_sum) / (M * x_sq_sum - x_sum**2)\n",
      "c:\\Users\\PC314\\anaconda3\\Lib\\site-packages\\statsforecast\\core.py:494: FutureWarning: In a future version the predictions will have the id as a column. You can set the `NIXTLA_ID_AS_COL` environment variable to adopt the new behavior and to suppress this warning.\n",
      "  warnings.warn(\n",
      "c:\\Users\\PC314\\anaconda3\\Lib\\site-packages\\statsforecast\\mfles.py:301: RuntimeWarning: overflow encountered in scalar multiply\n",
      "  slope = (M * x_y_sum - x_sum * y_sum) / (M * x_sq_sum - x_sum**2)\n",
      "c:\\Users\\PC314\\anaconda3\\Lib\\site-packages\\statsforecast\\core.py:494: FutureWarning: In a future version the predictions will have the id as a column. You can set the `NIXTLA_ID_AS_COL` environment variable to adopt the new behavior and to suppress this warning.\n",
      "  warnings.warn(\n",
      "c:\\Users\\PC314\\anaconda3\\Lib\\site-packages\\statsforecast\\mfles.py:301: RuntimeWarning: overflow encountered in scalar multiply\n",
      "  slope = (M * x_y_sum - x_sum * y_sum) / (M * x_sq_sum - x_sum**2)\n",
      "c:\\Users\\PC314\\anaconda3\\Lib\\site-packages\\statsforecast\\core.py:494: FutureWarning: In a future version the predictions will have the id as a column. You can set the `NIXTLA_ID_AS_COL` environment variable to adopt the new behavior and to suppress this warning.\n",
      "  warnings.warn(\n",
      "C:\\Users\\PC314\\AppData\\Local\\Temp\\ipykernel_17148\\3122320333.py:50: SettingWithCopyWarning: \n",
      "A value is trying to be set on a copy of a slice from a DataFrame.\n",
      "Try using .loc[row_indexer,col_indexer] = value instead\n",
      "\n",
      "See the caveats in the documentation: https://pandas.pydata.org/pandas-docs/stable/user_guide/indexing.html#returning-a-view-versus-a-copy\n",
      "  train_df['y'] = series\n"
     ]
    },
    {
     "name": "stdout",
     "output_type": "stream",
     "text": [
      "Best Model for log_trend: MSTL_ac_MFLES1 (MAPE: 878.53%)\n",
      "Training on transformed version: log_seasonality\n"
     ]
    },
    {
     "name": "stderr",
     "output_type": "stream",
     "text": [
      "c:\\Users\\PC314\\anaconda3\\Lib\\site-packages\\statsforecast\\core.py:494: FutureWarning: In a future version the predictions will have the id as a column. You can set the `NIXTLA_ID_AS_COL` environment variable to adopt the new behavior and to suppress this warning.\n",
      "  warnings.warn(\n",
      "c:\\Users\\PC314\\anaconda3\\Lib\\site-packages\\statsforecast\\core.py:494: FutureWarning: In a future version the predictions will have the id as a column. You can set the `NIXTLA_ID_AS_COL` environment variable to adopt the new behavior and to suppress this warning.\n",
      "  warnings.warn(\n",
      "c:\\Users\\PC314\\anaconda3\\Lib\\site-packages\\statsforecast\\core.py:494: FutureWarning: In a future version the predictions will have the id as a column. You can set the `NIXTLA_ID_AS_COL` environment variable to adopt the new behavior and to suppress this warning.\n",
      "  warnings.warn(\n",
      "c:\\Users\\PC314\\anaconda3\\Lib\\site-packages\\statsforecast\\mfles.py:301: RuntimeWarning: overflow encountered in scalar multiply\n",
      "  slope = (M * x_y_sum - x_sum * y_sum) / (M * x_sq_sum - x_sum**2)\n",
      "c:\\Users\\PC314\\anaconda3\\Lib\\site-packages\\statsforecast\\core.py:494: FutureWarning: In a future version the predictions will have the id as a column. You can set the `NIXTLA_ID_AS_COL` environment variable to adopt the new behavior and to suppress this warning.\n",
      "  warnings.warn(\n",
      "c:\\Users\\PC314\\anaconda3\\Lib\\site-packages\\statsforecast\\mfles.py:301: RuntimeWarning: overflow encountered in scalar multiply\n",
      "  slope = (M * x_y_sum - x_sum * y_sum) / (M * x_sq_sum - x_sum**2)\n",
      "c:\\Users\\PC314\\anaconda3\\Lib\\site-packages\\statsforecast\\core.py:494: FutureWarning: In a future version the predictions will have the id as a column. You can set the `NIXTLA_ID_AS_COL` environment variable to adopt the new behavior and to suppress this warning.\n",
      "  warnings.warn(\n",
      "c:\\Users\\PC314\\anaconda3\\Lib\\site-packages\\statsforecast\\mfles.py:301: RuntimeWarning: overflow encountered in scalar multiply\n",
      "  slope = (M * x_y_sum - x_sum * y_sum) / (M * x_sq_sum - x_sum**2)\n",
      "c:\\Users\\PC314\\anaconda3\\Lib\\site-packages\\statsforecast\\core.py:494: FutureWarning: In a future version the predictions will have the id as a column. You can set the `NIXTLA_ID_AS_COL` environment variable to adopt the new behavior and to suppress this warning.\n",
      "  warnings.warn(\n",
      "C:\\Users\\PC314\\AppData\\Local\\Temp\\ipykernel_17148\\3122320333.py:50: SettingWithCopyWarning: \n",
      "A value is trying to be set on a copy of a slice from a DataFrame.\n",
      "Try using .loc[row_indexer,col_indexer] = value instead\n",
      "\n",
      "See the caveats in the documentation: https://pandas.pydata.org/pandas-docs/stable/user_guide/indexing.html#returning-a-view-versus-a-copy\n",
      "  train_df['y'] = series\n"
     ]
    },
    {
     "name": "stdout",
     "output_type": "stream",
     "text": [
      "Best Model for log_seasonality: MSTL_abc_ARIMA (MAPE: 35.39%)\n",
      "Saving model 2_22M_train_log_seasonality_MSTL_abc_ARIMA_f2969f65\n",
      "Training on transformed version: log_boxcox\n"
     ]
    },
    {
     "name": "stderr",
     "output_type": "stream",
     "text": [
      "c:\\Users\\PC314\\anaconda3\\Lib\\site-packages\\statsforecast\\core.py:494: FutureWarning: In a future version the predictions will have the id as a column. You can set the `NIXTLA_ID_AS_COL` environment variable to adopt the new behavior and to suppress this warning.\n",
      "  warnings.warn(\n",
      "c:\\Users\\PC314\\anaconda3\\Lib\\site-packages\\statsforecast\\core.py:494: FutureWarning: In a future version the predictions will have the id as a column. You can set the `NIXTLA_ID_AS_COL` environment variable to adopt the new behavior and to suppress this warning.\n",
      "  warnings.warn(\n",
      "c:\\Users\\PC314\\anaconda3\\Lib\\site-packages\\statsforecast\\core.py:494: FutureWarning: In a future version the predictions will have the id as a column. You can set the `NIXTLA_ID_AS_COL` environment variable to adopt the new behavior and to suppress this warning.\n",
      "  warnings.warn(\n",
      "c:\\Users\\PC314\\anaconda3\\Lib\\site-packages\\statsforecast\\mfles.py:301: RuntimeWarning: overflow encountered in scalar multiply\n",
      "  slope = (M * x_y_sum - x_sum * y_sum) / (M * x_sq_sum - x_sum**2)\n",
      "c:\\Users\\PC314\\anaconda3\\Lib\\site-packages\\statsforecast\\core.py:494: FutureWarning: In a future version the predictions will have the id as a column. You can set the `NIXTLA_ID_AS_COL` environment variable to adopt the new behavior and to suppress this warning.\n",
      "  warnings.warn(\n",
      "c:\\Users\\PC314\\anaconda3\\Lib\\site-packages\\statsforecast\\mfles.py:301: RuntimeWarning: overflow encountered in scalar multiply\n",
      "  slope = (M * x_y_sum - x_sum * y_sum) / (M * x_sq_sum - x_sum**2)\n",
      "c:\\Users\\PC314\\anaconda3\\Lib\\site-packages\\statsforecast\\core.py:494: FutureWarning: In a future version the predictions will have the id as a column. You can set the `NIXTLA_ID_AS_COL` environment variable to adopt the new behavior and to suppress this warning.\n",
      "  warnings.warn(\n",
      "c:\\Users\\PC314\\anaconda3\\Lib\\site-packages\\statsforecast\\mfles.py:301: RuntimeWarning: overflow encountered in scalar multiply\n",
      "  slope = (M * x_y_sum - x_sum * y_sum) / (M * x_sq_sum - x_sum**2)\n",
      "c:\\Users\\PC314\\anaconda3\\Lib\\site-packages\\statsforecast\\core.py:494: FutureWarning: In a future version the predictions will have the id as a column. You can set the `NIXTLA_ID_AS_COL` environment variable to adopt the new behavior and to suppress this warning.\n",
      "  warnings.warn(\n",
      "C:\\Users\\PC314\\AppData\\Local\\Temp\\ipykernel_17148\\3122320333.py:50: SettingWithCopyWarning: \n",
      "A value is trying to be set on a copy of a slice from a DataFrame.\n",
      "Try using .loc[row_indexer,col_indexer] = value instead\n",
      "\n",
      "See the caveats in the documentation: https://pandas.pydata.org/pandas-docs/stable/user_guide/indexing.html#returning-a-view-versus-a-copy\n",
      "  train_df['y'] = series\n"
     ]
    },
    {
     "name": "stdout",
     "output_type": "stream",
     "text": [
      "Best Model for log_boxcox: MSTL_abc_ARIMA (MAPE: nan%)\n",
      "Training on transformed version: log_standardize\n"
     ]
    },
    {
     "name": "stderr",
     "output_type": "stream",
     "text": [
      "c:\\Users\\PC314\\anaconda3\\Lib\\site-packages\\statsforecast\\core.py:494: FutureWarning: In a future version the predictions will have the id as a column. You can set the `NIXTLA_ID_AS_COL` environment variable to adopt the new behavior and to suppress this warning.\n",
      "  warnings.warn(\n",
      "c:\\Users\\PC314\\anaconda3\\Lib\\site-packages\\statsforecast\\core.py:494: FutureWarning: In a future version the predictions will have the id as a column. You can set the `NIXTLA_ID_AS_COL` environment variable to adopt the new behavior and to suppress this warning.\n",
      "  warnings.warn(\n",
      "c:\\Users\\PC314\\anaconda3\\Lib\\site-packages\\statsforecast\\core.py:494: FutureWarning: In a future version the predictions will have the id as a column. You can set the `NIXTLA_ID_AS_COL` environment variable to adopt the new behavior and to suppress this warning.\n",
      "  warnings.warn(\n",
      "c:\\Users\\PC314\\anaconda3\\Lib\\site-packages\\statsforecast\\mfles.py:301: RuntimeWarning: overflow encountered in scalar multiply\n",
      "  slope = (M * x_y_sum - x_sum * y_sum) / (M * x_sq_sum - x_sum**2)\n",
      "c:\\Users\\PC314\\anaconda3\\Lib\\site-packages\\statsforecast\\core.py:494: FutureWarning: In a future version the predictions will have the id as a column. You can set the `NIXTLA_ID_AS_COL` environment variable to adopt the new behavior and to suppress this warning.\n",
      "  warnings.warn(\n",
      "c:\\Users\\PC314\\anaconda3\\Lib\\site-packages\\statsforecast\\mfles.py:301: RuntimeWarning: overflow encountered in scalar multiply\n",
      "  slope = (M * x_y_sum - x_sum * y_sum) / (M * x_sq_sum - x_sum**2)\n",
      "c:\\Users\\PC314\\anaconda3\\Lib\\site-packages\\statsforecast\\core.py:494: FutureWarning: In a future version the predictions will have the id as a column. You can set the `NIXTLA_ID_AS_COL` environment variable to adopt the new behavior and to suppress this warning.\n",
      "  warnings.warn(\n",
      "c:\\Users\\PC314\\anaconda3\\Lib\\site-packages\\statsforecast\\mfles.py:301: RuntimeWarning: overflow encountered in scalar multiply\n",
      "  slope = (M * x_y_sum - x_sum * y_sum) / (M * x_sq_sum - x_sum**2)\n",
      "c:\\Users\\PC314\\anaconda3\\Lib\\site-packages\\statsforecast\\core.py:494: FutureWarning: In a future version the predictions will have the id as a column. You can set the `NIXTLA_ID_AS_COL` environment variable to adopt the new behavior and to suppress this warning.\n",
      "  warnings.warn(\n",
      "C:\\Users\\PC314\\AppData\\Local\\Temp\\ipykernel_17148\\3122320333.py:50: SettingWithCopyWarning: \n",
      "A value is trying to be set on a copy of a slice from a DataFrame.\n",
      "Try using .loc[row_indexer,col_indexer] = value instead\n",
      "\n",
      "See the caveats in the documentation: https://pandas.pydata.org/pandas-docs/stable/user_guide/indexing.html#returning-a-view-versus-a-copy\n",
      "  train_df['y'] = series\n"
     ]
    },
    {
     "name": "stdout",
     "output_type": "stream",
     "text": [
      "Best Model for log_standardize: MSTL_a_ARIMA (MAPE: 94.98%)\n",
      "Training on transformed version: trend_seasonality\n"
     ]
    },
    {
     "name": "stderr",
     "output_type": "stream",
     "text": [
      "c:\\Users\\PC314\\anaconda3\\Lib\\site-packages\\statsforecast\\core.py:494: FutureWarning: In a future version the predictions will have the id as a column. You can set the `NIXTLA_ID_AS_COL` environment variable to adopt the new behavior and to suppress this warning.\n",
      "  warnings.warn(\n",
      "c:\\Users\\PC314\\anaconda3\\Lib\\site-packages\\statsforecast\\core.py:494: FutureWarning: In a future version the predictions will have the id as a column. You can set the `NIXTLA_ID_AS_COL` environment variable to adopt the new behavior and to suppress this warning.\n",
      "  warnings.warn(\n",
      "c:\\Users\\PC314\\anaconda3\\Lib\\site-packages\\statsforecast\\core.py:494: FutureWarning: In a future version the predictions will have the id as a column. You can set the `NIXTLA_ID_AS_COL` environment variable to adopt the new behavior and to suppress this warning.\n",
      "  warnings.warn(\n",
      "c:\\Users\\PC314\\anaconda3\\Lib\\site-packages\\statsforecast\\mfles.py:301: RuntimeWarning: overflow encountered in scalar multiply\n",
      "  slope = (M * x_y_sum - x_sum * y_sum) / (M * x_sq_sum - x_sum**2)\n",
      "c:\\Users\\PC314\\anaconda3\\Lib\\site-packages\\statsforecast\\core.py:494: FutureWarning: In a future version the predictions will have the id as a column. You can set the `NIXTLA_ID_AS_COL` environment variable to adopt the new behavior and to suppress this warning.\n",
      "  warnings.warn(\n",
      "c:\\Users\\PC314\\anaconda3\\Lib\\site-packages\\statsforecast\\mfles.py:301: RuntimeWarning: overflow encountered in scalar multiply\n",
      "  slope = (M * x_y_sum - x_sum * y_sum) / (M * x_sq_sum - x_sum**2)\n",
      "c:\\Users\\PC314\\anaconda3\\Lib\\site-packages\\statsforecast\\core.py:494: FutureWarning: In a future version the predictions will have the id as a column. You can set the `NIXTLA_ID_AS_COL` environment variable to adopt the new behavior and to suppress this warning.\n",
      "  warnings.warn(\n",
      "c:\\Users\\PC314\\anaconda3\\Lib\\site-packages\\statsforecast\\mfles.py:301: RuntimeWarning: overflow encountered in scalar multiply\n",
      "  slope = (M * x_y_sum - x_sum * y_sum) / (M * x_sq_sum - x_sum**2)\n",
      "c:\\Users\\PC314\\anaconda3\\Lib\\site-packages\\statsforecast\\core.py:494: FutureWarning: In a future version the predictions will have the id as a column. You can set the `NIXTLA_ID_AS_COL` environment variable to adopt the new behavior and to suppress this warning.\n",
      "  warnings.warn(\n",
      "C:\\Users\\PC314\\AppData\\Local\\Temp\\ipykernel_17148\\3122320333.py:50: SettingWithCopyWarning: \n",
      "A value is trying to be set on a copy of a slice from a DataFrame.\n",
      "Try using .loc[row_indexer,col_indexer] = value instead\n",
      "\n",
      "See the caveats in the documentation: https://pandas.pydata.org/pandas-docs/stable/user_guide/indexing.html#returning-a-view-versus-a-copy\n",
      "  train_df['y'] = series\n"
     ]
    },
    {
     "name": "stdout",
     "output_type": "stream",
     "text": [
      "Best Model for trend_seasonality: MSTL_a_ARIMA (MAPE: 124.45%)\n",
      "Training on transformed version: trend_boxcox\n"
     ]
    },
    {
     "name": "stderr",
     "output_type": "stream",
     "text": [
      "c:\\Users\\PC314\\anaconda3\\Lib\\site-packages\\statsforecast\\core.py:494: FutureWarning: In a future version the predictions will have the id as a column. You can set the `NIXTLA_ID_AS_COL` environment variable to adopt the new behavior and to suppress this warning.\n",
      "  warnings.warn(\n",
      "c:\\Users\\PC314\\anaconda3\\Lib\\site-packages\\statsforecast\\core.py:494: FutureWarning: In a future version the predictions will have the id as a column. You can set the `NIXTLA_ID_AS_COL` environment variable to adopt the new behavior and to suppress this warning.\n",
      "  warnings.warn(\n",
      "c:\\Users\\PC314\\anaconda3\\Lib\\site-packages\\statsforecast\\core.py:494: FutureWarning: In a future version the predictions will have the id as a column. You can set the `NIXTLA_ID_AS_COL` environment variable to adopt the new behavior and to suppress this warning.\n",
      "  warnings.warn(\n",
      "c:\\Users\\PC314\\anaconda3\\Lib\\site-packages\\statsforecast\\mfles.py:301: RuntimeWarning: overflow encountered in scalar multiply\n",
      "  slope = (M * x_y_sum - x_sum * y_sum) / (M * x_sq_sum - x_sum**2)\n",
      "c:\\Users\\PC314\\anaconda3\\Lib\\site-packages\\statsforecast\\core.py:494: FutureWarning: In a future version the predictions will have the id as a column. You can set the `NIXTLA_ID_AS_COL` environment variable to adopt the new behavior and to suppress this warning.\n",
      "  warnings.warn(\n",
      "c:\\Users\\PC314\\anaconda3\\Lib\\site-packages\\statsforecast\\mfles.py:301: RuntimeWarning: overflow encountered in scalar multiply\n",
      "  slope = (M * x_y_sum - x_sum * y_sum) / (M * x_sq_sum - x_sum**2)\n",
      "c:\\Users\\PC314\\anaconda3\\Lib\\site-packages\\statsforecast\\core.py:494: FutureWarning: In a future version the predictions will have the id as a column. You can set the `NIXTLA_ID_AS_COL` environment variable to adopt the new behavior and to suppress this warning.\n",
      "  warnings.warn(\n",
      "c:\\Users\\PC314\\anaconda3\\Lib\\site-packages\\statsforecast\\mfles.py:301: RuntimeWarning: overflow encountered in scalar multiply\n",
      "  slope = (M * x_y_sum - x_sum * y_sum) / (M * x_sq_sum - x_sum**2)\n",
      "c:\\Users\\PC314\\anaconda3\\Lib\\site-packages\\statsforecast\\core.py:494: FutureWarning: In a future version the predictions will have the id as a column. You can set the `NIXTLA_ID_AS_COL` environment variable to adopt the new behavior and to suppress this warning.\n",
      "  warnings.warn(\n",
      "C:\\Users\\PC314\\AppData\\Local\\Temp\\ipykernel_17148\\3122320333.py:50: SettingWithCopyWarning: \n",
      "A value is trying to be set on a copy of a slice from a DataFrame.\n",
      "Try using .loc[row_indexer,col_indexer] = value instead\n",
      "\n",
      "See the caveats in the documentation: https://pandas.pydata.org/pandas-docs/stable/user_guide/indexing.html#returning-a-view-versus-a-copy\n",
      "  train_df['y'] = series\n"
     ]
    },
    {
     "name": "stdout",
     "output_type": "stream",
     "text": [
      "Best Model for trend_boxcox: MSTL_a_ARIMA (MAPE: 124.45%)\n",
      "Training on transformed version: trend_standardize\n"
     ]
    },
    {
     "name": "stderr",
     "output_type": "stream",
     "text": [
      "c:\\Users\\PC314\\anaconda3\\Lib\\site-packages\\statsforecast\\core.py:494: FutureWarning: In a future version the predictions will have the id as a column. You can set the `NIXTLA_ID_AS_COL` environment variable to adopt the new behavior and to suppress this warning.\n",
      "  warnings.warn(\n",
      "c:\\Users\\PC314\\anaconda3\\Lib\\site-packages\\statsforecast\\core.py:494: FutureWarning: In a future version the predictions will have the id as a column. You can set the `NIXTLA_ID_AS_COL` environment variable to adopt the new behavior and to suppress this warning.\n",
      "  warnings.warn(\n",
      "c:\\Users\\PC314\\anaconda3\\Lib\\site-packages\\statsforecast\\core.py:494: FutureWarning: In a future version the predictions will have the id as a column. You can set the `NIXTLA_ID_AS_COL` environment variable to adopt the new behavior and to suppress this warning.\n",
      "  warnings.warn(\n",
      "c:\\Users\\PC314\\anaconda3\\Lib\\site-packages\\statsforecast\\mfles.py:301: RuntimeWarning: overflow encountered in scalar multiply\n",
      "  slope = (M * x_y_sum - x_sum * y_sum) / (M * x_sq_sum - x_sum**2)\n",
      "c:\\Users\\PC314\\anaconda3\\Lib\\site-packages\\statsforecast\\core.py:494: FutureWarning: In a future version the predictions will have the id as a column. You can set the `NIXTLA_ID_AS_COL` environment variable to adopt the new behavior and to suppress this warning.\n",
      "  warnings.warn(\n",
      "c:\\Users\\PC314\\anaconda3\\Lib\\site-packages\\statsforecast\\mfles.py:301: RuntimeWarning: overflow encountered in scalar multiply\n",
      "  slope = (M * x_y_sum - x_sum * y_sum) / (M * x_sq_sum - x_sum**2)\n",
      "c:\\Users\\PC314\\anaconda3\\Lib\\site-packages\\statsforecast\\core.py:494: FutureWarning: In a future version the predictions will have the id as a column. You can set the `NIXTLA_ID_AS_COL` environment variable to adopt the new behavior and to suppress this warning.\n",
      "  warnings.warn(\n",
      "c:\\Users\\PC314\\anaconda3\\Lib\\site-packages\\statsforecast\\mfles.py:301: RuntimeWarning: overflow encountered in scalar multiply\n",
      "  slope = (M * x_y_sum - x_sum * y_sum) / (M * x_sq_sum - x_sum**2)\n",
      "c:\\Users\\PC314\\anaconda3\\Lib\\site-packages\\statsforecast\\core.py:494: FutureWarning: In a future version the predictions will have the id as a column. You can set the `NIXTLA_ID_AS_COL` environment variable to adopt the new behavior and to suppress this warning.\n",
      "  warnings.warn(\n",
      "C:\\Users\\PC314\\AppData\\Local\\Temp\\ipykernel_17148\\3122320333.py:50: SettingWithCopyWarning: \n",
      "A value is trying to be set on a copy of a slice from a DataFrame.\n",
      "Try using .loc[row_indexer,col_indexer] = value instead\n",
      "\n",
      "See the caveats in the documentation: https://pandas.pydata.org/pandas-docs/stable/user_guide/indexing.html#returning-a-view-versus-a-copy\n",
      "  train_df['y'] = series\n"
     ]
    },
    {
     "name": "stdout",
     "output_type": "stream",
     "text": [
      "Best Model for trend_standardize: MSTL_a_ARIMA (MAPE: 86.93%)\n",
      "Training on transformed version: seasonality_boxcox\n"
     ]
    },
    {
     "name": "stderr",
     "output_type": "stream",
     "text": [
      "c:\\Users\\PC314\\anaconda3\\Lib\\site-packages\\statsforecast\\core.py:494: FutureWarning: In a future version the predictions will have the id as a column. You can set the `NIXTLA_ID_AS_COL` environment variable to adopt the new behavior and to suppress this warning.\n",
      "  warnings.warn(\n",
      "c:\\Users\\PC314\\anaconda3\\Lib\\site-packages\\statsforecast\\core.py:494: FutureWarning: In a future version the predictions will have the id as a column. You can set the `NIXTLA_ID_AS_COL` environment variable to adopt the new behavior and to suppress this warning.\n",
      "  warnings.warn(\n",
      "c:\\Users\\PC314\\anaconda3\\Lib\\site-packages\\statsforecast\\core.py:494: FutureWarning: In a future version the predictions will have the id as a column. You can set the `NIXTLA_ID_AS_COL` environment variable to adopt the new behavior and to suppress this warning.\n",
      "  warnings.warn(\n",
      "c:\\Users\\PC314\\anaconda3\\Lib\\site-packages\\statsforecast\\mfles.py:301: RuntimeWarning: overflow encountered in scalar multiply\n",
      "  slope = (M * x_y_sum - x_sum * y_sum) / (M * x_sq_sum - x_sum**2)\n",
      "c:\\Users\\PC314\\anaconda3\\Lib\\site-packages\\statsforecast\\core.py:494: FutureWarning: In a future version the predictions will have the id as a column. You can set the `NIXTLA_ID_AS_COL` environment variable to adopt the new behavior and to suppress this warning.\n",
      "  warnings.warn(\n",
      "c:\\Users\\PC314\\anaconda3\\Lib\\site-packages\\statsforecast\\mfles.py:301: RuntimeWarning: overflow encountered in scalar multiply\n",
      "  slope = (M * x_y_sum - x_sum * y_sum) / (M * x_sq_sum - x_sum**2)\n",
      "c:\\Users\\PC314\\anaconda3\\Lib\\site-packages\\statsforecast\\core.py:494: FutureWarning: In a future version the predictions will have the id as a column. You can set the `NIXTLA_ID_AS_COL` environment variable to adopt the new behavior and to suppress this warning.\n",
      "  warnings.warn(\n",
      "c:\\Users\\PC314\\anaconda3\\Lib\\site-packages\\statsforecast\\mfles.py:301: RuntimeWarning: overflow encountered in scalar multiply\n",
      "  slope = (M * x_y_sum - x_sum * y_sum) / (M * x_sq_sum - x_sum**2)\n",
      "c:\\Users\\PC314\\anaconda3\\Lib\\site-packages\\statsforecast\\core.py:494: FutureWarning: In a future version the predictions will have the id as a column. You can set the `NIXTLA_ID_AS_COL` environment variable to adopt the new behavior and to suppress this warning.\n",
      "  warnings.warn(\n",
      "C:\\Users\\PC314\\AppData\\Local\\Temp\\ipykernel_17148\\3122320333.py:50: SettingWithCopyWarning: \n",
      "A value is trying to be set on a copy of a slice from a DataFrame.\n",
      "Try using .loc[row_indexer,col_indexer] = value instead\n",
      "\n",
      "See the caveats in the documentation: https://pandas.pydata.org/pandas-docs/stable/user_guide/indexing.html#returning-a-view-versus-a-copy\n",
      "  train_df['y'] = series\n"
     ]
    },
    {
     "name": "stdout",
     "output_type": "stream",
     "text": [
      "Best Model for seasonality_boxcox: MSTL_abc_ARIMA (MAPE: 34.75%)\n",
      "Saving model 2_22M_train_seasonality_boxcox_MSTL_abc_ARIMA_938e1f2a\n",
      "Training on transformed version: seasonality_standardize\n"
     ]
    },
    {
     "name": "stderr",
     "output_type": "stream",
     "text": [
      "c:\\Users\\PC314\\anaconda3\\Lib\\site-packages\\statsforecast\\core.py:494: FutureWarning: In a future version the predictions will have the id as a column. You can set the `NIXTLA_ID_AS_COL` environment variable to adopt the new behavior and to suppress this warning.\n",
      "  warnings.warn(\n",
      "c:\\Users\\PC314\\anaconda3\\Lib\\site-packages\\statsforecast\\core.py:494: FutureWarning: In a future version the predictions will have the id as a column. You can set the `NIXTLA_ID_AS_COL` environment variable to adopt the new behavior and to suppress this warning.\n",
      "  warnings.warn(\n",
      "c:\\Users\\PC314\\anaconda3\\Lib\\site-packages\\statsforecast\\core.py:494: FutureWarning: In a future version the predictions will have the id as a column. You can set the `NIXTLA_ID_AS_COL` environment variable to adopt the new behavior and to suppress this warning.\n",
      "  warnings.warn(\n",
      "c:\\Users\\PC314\\anaconda3\\Lib\\site-packages\\statsforecast\\core.py:494: FutureWarning: In a future version the predictions will have the id as a column. You can set the `NIXTLA_ID_AS_COL` environment variable to adopt the new behavior and to suppress this warning.\n",
      "  warnings.warn(\n",
      "c:\\Users\\PC314\\anaconda3\\Lib\\site-packages\\statsforecast\\core.py:494: FutureWarning: In a future version the predictions will have the id as a column. You can set the `NIXTLA_ID_AS_COL` environment variable to adopt the new behavior and to suppress this warning.\n",
      "  warnings.warn(\n",
      "c:\\Users\\PC314\\anaconda3\\Lib\\site-packages\\statsforecast\\core.py:494: FutureWarning: In a future version the predictions will have the id as a column. You can set the `NIXTLA_ID_AS_COL` environment variable to adopt the new behavior and to suppress this warning.\n",
      "  warnings.warn(\n",
      "C:\\Users\\PC314\\AppData\\Local\\Temp\\ipykernel_17148\\3122320333.py:50: SettingWithCopyWarning: \n",
      "A value is trying to be set on a copy of a slice from a DataFrame.\n",
      "Try using .loc[row_indexer,col_indexer] = value instead\n",
      "\n",
      "See the caveats in the documentation: https://pandas.pydata.org/pandas-docs/stable/user_guide/indexing.html#returning-a-view-versus-a-copy\n",
      "  train_df['y'] = series\n"
     ]
    },
    {
     "name": "stdout",
     "output_type": "stream",
     "text": [
      "Best Model for seasonality_standardize: MSTL_a_ARIMA (MAPE: 98.70%)\n",
      "Training on transformed version: boxcox_standardize\n"
     ]
    },
    {
     "name": "stderr",
     "output_type": "stream",
     "text": [
      "c:\\Users\\PC314\\anaconda3\\Lib\\site-packages\\statsforecast\\core.py:494: FutureWarning: In a future version the predictions will have the id as a column. You can set the `NIXTLA_ID_AS_COL` environment variable to adopt the new behavior and to suppress this warning.\n",
      "  warnings.warn(\n",
      "c:\\Users\\PC314\\anaconda3\\Lib\\site-packages\\statsforecast\\core.py:494: FutureWarning: In a future version the predictions will have the id as a column. You can set the `NIXTLA_ID_AS_COL` environment variable to adopt the new behavior and to suppress this warning.\n",
      "  warnings.warn(\n",
      "c:\\Users\\PC314\\anaconda3\\Lib\\site-packages\\statsforecast\\core.py:494: FutureWarning: In a future version the predictions will have the id as a column. You can set the `NIXTLA_ID_AS_COL` environment variable to adopt the new behavior and to suppress this warning.\n",
      "  warnings.warn(\n",
      "c:\\Users\\PC314\\anaconda3\\Lib\\site-packages\\statsforecast\\mfles.py:301: RuntimeWarning: overflow encountered in scalar multiply\n",
      "  slope = (M * x_y_sum - x_sum * y_sum) / (M * x_sq_sum - x_sum**2)\n",
      "c:\\Users\\PC314\\anaconda3\\Lib\\site-packages\\statsforecast\\core.py:494: FutureWarning: In a future version the predictions will have the id as a column. You can set the `NIXTLA_ID_AS_COL` environment variable to adopt the new behavior and to suppress this warning.\n",
      "  warnings.warn(\n",
      "c:\\Users\\PC314\\anaconda3\\Lib\\site-packages\\statsforecast\\mfles.py:301: RuntimeWarning: overflow encountered in scalar multiply\n",
      "  slope = (M * x_y_sum - x_sum * y_sum) / (M * x_sq_sum - x_sum**2)\n",
      "c:\\Users\\PC314\\anaconda3\\Lib\\site-packages\\statsforecast\\core.py:494: FutureWarning: In a future version the predictions will have the id as a column. You can set the `NIXTLA_ID_AS_COL` environment variable to adopt the new behavior and to suppress this warning.\n",
      "  warnings.warn(\n",
      "c:\\Users\\PC314\\anaconda3\\Lib\\site-packages\\statsforecast\\mfles.py:301: RuntimeWarning: overflow encountered in scalar multiply\n",
      "  slope = (M * x_y_sum - x_sum * y_sum) / (M * x_sq_sum - x_sum**2)\n",
      "c:\\Users\\PC314\\anaconda3\\Lib\\site-packages\\statsforecast\\core.py:494: FutureWarning: In a future version the predictions will have the id as a column. You can set the `NIXTLA_ID_AS_COL` environment variable to adopt the new behavior and to suppress this warning.\n",
      "  warnings.warn(\n",
      "C:\\Users\\PC314\\AppData\\Local\\Temp\\ipykernel_17148\\3122320333.py:50: SettingWithCopyWarning: \n",
      "A value is trying to be set on a copy of a slice from a DataFrame.\n",
      "Try using .loc[row_indexer,col_indexer] = value instead\n",
      "\n",
      "See the caveats in the documentation: https://pandas.pydata.org/pandas-docs/stable/user_guide/indexing.html#returning-a-view-versus-a-copy\n",
      "  train_df['y'] = series\n"
     ]
    },
    {
     "name": "stdout",
     "output_type": "stream",
     "text": [
      "Best Model for boxcox_standardize: MSTL_a_ARIMA (MAPE: 98.30%)\n",
      "Training on transformed version: log_trend_seasonality\n"
     ]
    },
    {
     "name": "stderr",
     "output_type": "stream",
     "text": [
      "c:\\Users\\PC314\\anaconda3\\Lib\\site-packages\\statsforecast\\core.py:494: FutureWarning: In a future version the predictions will have the id as a column. You can set the `NIXTLA_ID_AS_COL` environment variable to adopt the new behavior and to suppress this warning.\n",
      "  warnings.warn(\n",
      "c:\\Users\\PC314\\anaconda3\\Lib\\site-packages\\statsforecast\\core.py:494: FutureWarning: In a future version the predictions will have the id as a column. You can set the `NIXTLA_ID_AS_COL` environment variable to adopt the new behavior and to suppress this warning.\n",
      "  warnings.warn(\n",
      "c:\\Users\\PC314\\anaconda3\\Lib\\site-packages\\statsforecast\\core.py:494: FutureWarning: In a future version the predictions will have the id as a column. You can set the `NIXTLA_ID_AS_COL` environment variable to adopt the new behavior and to suppress this warning.\n",
      "  warnings.warn(\n",
      "c:\\Users\\PC314\\anaconda3\\Lib\\site-packages\\statsforecast\\mfles.py:301: RuntimeWarning: overflow encountered in scalar multiply\n",
      "  slope = (M * x_y_sum - x_sum * y_sum) / (M * x_sq_sum - x_sum**2)\n",
      "c:\\Users\\PC314\\anaconda3\\Lib\\site-packages\\statsforecast\\core.py:494: FutureWarning: In a future version the predictions will have the id as a column. You can set the `NIXTLA_ID_AS_COL` environment variable to adopt the new behavior and to suppress this warning.\n",
      "  warnings.warn(\n",
      "c:\\Users\\PC314\\anaconda3\\Lib\\site-packages\\statsforecast\\mfles.py:301: RuntimeWarning: overflow encountered in scalar multiply\n",
      "  slope = (M * x_y_sum - x_sum * y_sum) / (M * x_sq_sum - x_sum**2)\n",
      "c:\\Users\\PC314\\anaconda3\\Lib\\site-packages\\statsforecast\\core.py:494: FutureWarning: In a future version the predictions will have the id as a column. You can set the `NIXTLA_ID_AS_COL` environment variable to adopt the new behavior and to suppress this warning.\n",
      "  warnings.warn(\n",
      "c:\\Users\\PC314\\anaconda3\\Lib\\site-packages\\statsforecast\\mfles.py:301: RuntimeWarning: overflow encountered in scalar multiply\n",
      "  slope = (M * x_y_sum - x_sum * y_sum) / (M * x_sq_sum - x_sum**2)\n",
      "c:\\Users\\PC314\\anaconda3\\Lib\\site-packages\\statsforecast\\core.py:494: FutureWarning: In a future version the predictions will have the id as a column. You can set the `NIXTLA_ID_AS_COL` environment variable to adopt the new behavior and to suppress this warning.\n",
      "  warnings.warn(\n",
      "C:\\Users\\PC314\\AppData\\Local\\Temp\\ipykernel_17148\\3122320333.py:50: SettingWithCopyWarning: \n",
      "A value is trying to be set on a copy of a slice from a DataFrame.\n",
      "Try using .loc[row_indexer,col_indexer] = value instead\n",
      "\n",
      "See the caveats in the documentation: https://pandas.pydata.org/pandas-docs/stable/user_guide/indexing.html#returning-a-view-versus-a-copy\n",
      "  train_df['y'] = series\n"
     ]
    },
    {
     "name": "stdout",
     "output_type": "stream",
     "text": [
      "Best Model for log_trend_seasonality: MSTL_ac_MFLES1 (MAPE: 878.53%)\n",
      "Training on transformed version: log_trend_boxcox\n"
     ]
    },
    {
     "name": "stderr",
     "output_type": "stream",
     "text": [
      "c:\\Users\\PC314\\anaconda3\\Lib\\site-packages\\statsforecast\\core.py:494: FutureWarning: In a future version the predictions will have the id as a column. You can set the `NIXTLA_ID_AS_COL` environment variable to adopt the new behavior and to suppress this warning.\n",
      "  warnings.warn(\n",
      "c:\\Users\\PC314\\anaconda3\\Lib\\site-packages\\statsforecast\\core.py:494: FutureWarning: In a future version the predictions will have the id as a column. You can set the `NIXTLA_ID_AS_COL` environment variable to adopt the new behavior and to suppress this warning.\n",
      "  warnings.warn(\n",
      "c:\\Users\\PC314\\anaconda3\\Lib\\site-packages\\statsforecast\\core.py:494: FutureWarning: In a future version the predictions will have the id as a column. You can set the `NIXTLA_ID_AS_COL` environment variable to adopt the new behavior and to suppress this warning.\n",
      "  warnings.warn(\n",
      "c:\\Users\\PC314\\anaconda3\\Lib\\site-packages\\statsforecast\\mfles.py:301: RuntimeWarning: overflow encountered in scalar multiply\n",
      "  slope = (M * x_y_sum - x_sum * y_sum) / (M * x_sq_sum - x_sum**2)\n",
      "c:\\Users\\PC314\\anaconda3\\Lib\\site-packages\\statsforecast\\core.py:494: FutureWarning: In a future version the predictions will have the id as a column. You can set the `NIXTLA_ID_AS_COL` environment variable to adopt the new behavior and to suppress this warning.\n",
      "  warnings.warn(\n",
      "c:\\Users\\PC314\\anaconda3\\Lib\\site-packages\\statsforecast\\mfles.py:301: RuntimeWarning: overflow encountered in scalar multiply\n",
      "  slope = (M * x_y_sum - x_sum * y_sum) / (M * x_sq_sum - x_sum**2)\n",
      "c:\\Users\\PC314\\anaconda3\\Lib\\site-packages\\statsforecast\\core.py:494: FutureWarning: In a future version the predictions will have the id as a column. You can set the `NIXTLA_ID_AS_COL` environment variable to adopt the new behavior and to suppress this warning.\n",
      "  warnings.warn(\n",
      "c:\\Users\\PC314\\anaconda3\\Lib\\site-packages\\statsforecast\\mfles.py:301: RuntimeWarning: overflow encountered in scalar multiply\n",
      "  slope = (M * x_y_sum - x_sum * y_sum) / (M * x_sq_sum - x_sum**2)\n",
      "c:\\Users\\PC314\\anaconda3\\Lib\\site-packages\\statsforecast\\core.py:494: FutureWarning: In a future version the predictions will have the id as a column. You can set the `NIXTLA_ID_AS_COL` environment variable to adopt the new behavior and to suppress this warning.\n",
      "  warnings.warn(\n",
      "C:\\Users\\PC314\\AppData\\Local\\Temp\\ipykernel_17148\\3122320333.py:50: SettingWithCopyWarning: \n",
      "A value is trying to be set on a copy of a slice from a DataFrame.\n",
      "Try using .loc[row_indexer,col_indexer] = value instead\n",
      "\n",
      "See the caveats in the documentation: https://pandas.pydata.org/pandas-docs/stable/user_guide/indexing.html#returning-a-view-versus-a-copy\n",
      "  train_df['y'] = series\n"
     ]
    },
    {
     "name": "stdout",
     "output_type": "stream",
     "text": [
      "Best Model for log_trend_boxcox: MSTL_ac_MFLES1 (MAPE: 878.53%)\n",
      "Training on transformed version: log_trend_standardize\n"
     ]
    },
    {
     "name": "stderr",
     "output_type": "stream",
     "text": [
      "c:\\Users\\PC314\\anaconda3\\Lib\\site-packages\\statsforecast\\core.py:494: FutureWarning: In a future version the predictions will have the id as a column. You can set the `NIXTLA_ID_AS_COL` environment variable to adopt the new behavior and to suppress this warning.\n",
      "  warnings.warn(\n",
      "c:\\Users\\PC314\\anaconda3\\Lib\\site-packages\\statsforecast\\core.py:494: FutureWarning: In a future version the predictions will have the id as a column. You can set the `NIXTLA_ID_AS_COL` environment variable to adopt the new behavior and to suppress this warning.\n",
      "  warnings.warn(\n",
      "c:\\Users\\PC314\\anaconda3\\Lib\\site-packages\\statsforecast\\core.py:494: FutureWarning: In a future version the predictions will have the id as a column. You can set the `NIXTLA_ID_AS_COL` environment variable to adopt the new behavior and to suppress this warning.\n",
      "  warnings.warn(\n",
      "c:\\Users\\PC314\\anaconda3\\Lib\\site-packages\\statsforecast\\mfles.py:301: RuntimeWarning: overflow encountered in scalar multiply\n",
      "  slope = (M * x_y_sum - x_sum * y_sum) / (M * x_sq_sum - x_sum**2)\n",
      "c:\\Users\\PC314\\anaconda3\\Lib\\site-packages\\statsforecast\\core.py:494: FutureWarning: In a future version the predictions will have the id as a column. You can set the `NIXTLA_ID_AS_COL` environment variable to adopt the new behavior and to suppress this warning.\n",
      "  warnings.warn(\n",
      "c:\\Users\\PC314\\anaconda3\\Lib\\site-packages\\statsforecast\\mfles.py:301: RuntimeWarning: overflow encountered in scalar multiply\n",
      "  slope = (M * x_y_sum - x_sum * y_sum) / (M * x_sq_sum - x_sum**2)\n",
      "c:\\Users\\PC314\\anaconda3\\Lib\\site-packages\\statsforecast\\core.py:494: FutureWarning: In a future version the predictions will have the id as a column. You can set the `NIXTLA_ID_AS_COL` environment variable to adopt the new behavior and to suppress this warning.\n",
      "  warnings.warn(\n",
      "c:\\Users\\PC314\\anaconda3\\Lib\\site-packages\\statsforecast\\mfles.py:301: RuntimeWarning: overflow encountered in scalar multiply\n",
      "  slope = (M * x_y_sum - x_sum * y_sum) / (M * x_sq_sum - x_sum**2)\n",
      "c:\\Users\\PC314\\anaconda3\\Lib\\site-packages\\statsforecast\\core.py:494: FutureWarning: In a future version the predictions will have the id as a column. You can set the `NIXTLA_ID_AS_COL` environment variable to adopt the new behavior and to suppress this warning.\n",
      "  warnings.warn(\n",
      "C:\\Users\\PC314\\AppData\\Local\\Temp\\ipykernel_17148\\3122320333.py:50: SettingWithCopyWarning: \n",
      "A value is trying to be set on a copy of a slice from a DataFrame.\n",
      "Try using .loc[row_indexer,col_indexer] = value instead\n",
      "\n",
      "See the caveats in the documentation: https://pandas.pydata.org/pandas-docs/stable/user_guide/indexing.html#returning-a-view-versus-a-copy\n",
      "  train_df['y'] = series\n"
     ]
    },
    {
     "name": "stdout",
     "output_type": "stream",
     "text": [
      "Best Model for log_trend_standardize: MSTL_ac_MFLES1 (MAPE: 878.53%)\n",
      "Training on transformed version: log_seasonality_boxcox\n"
     ]
    },
    {
     "name": "stderr",
     "output_type": "stream",
     "text": [
      "c:\\Users\\PC314\\anaconda3\\Lib\\site-packages\\statsforecast\\core.py:494: FutureWarning: In a future version the predictions will have the id as a column. You can set the `NIXTLA_ID_AS_COL` environment variable to adopt the new behavior and to suppress this warning.\n",
      "  warnings.warn(\n",
      "c:\\Users\\PC314\\anaconda3\\Lib\\site-packages\\statsforecast\\core.py:494: FutureWarning: In a future version the predictions will have the id as a column. You can set the `NIXTLA_ID_AS_COL` environment variable to adopt the new behavior and to suppress this warning.\n",
      "  warnings.warn(\n",
      "c:\\Users\\PC314\\anaconda3\\Lib\\site-packages\\statsforecast\\core.py:494: FutureWarning: In a future version the predictions will have the id as a column. You can set the `NIXTLA_ID_AS_COL` environment variable to adopt the new behavior and to suppress this warning.\n",
      "  warnings.warn(\n",
      "c:\\Users\\PC314\\anaconda3\\Lib\\site-packages\\statsforecast\\mfles.py:301: RuntimeWarning: overflow encountered in scalar multiply\n",
      "  slope = (M * x_y_sum - x_sum * y_sum) / (M * x_sq_sum - x_sum**2)\n",
      "c:\\Users\\PC314\\anaconda3\\Lib\\site-packages\\statsforecast\\core.py:494: FutureWarning: In a future version the predictions will have the id as a column. You can set the `NIXTLA_ID_AS_COL` environment variable to adopt the new behavior and to suppress this warning.\n",
      "  warnings.warn(\n",
      "c:\\Users\\PC314\\anaconda3\\Lib\\site-packages\\statsforecast\\mfles.py:301: RuntimeWarning: overflow encountered in scalar multiply\n",
      "  slope = (M * x_y_sum - x_sum * y_sum) / (M * x_sq_sum - x_sum**2)\n",
      "c:\\Users\\PC314\\anaconda3\\Lib\\site-packages\\statsforecast\\core.py:494: FutureWarning: In a future version the predictions will have the id as a column. You can set the `NIXTLA_ID_AS_COL` environment variable to adopt the new behavior and to suppress this warning.\n",
      "  warnings.warn(\n",
      "c:\\Users\\PC314\\anaconda3\\Lib\\site-packages\\statsforecast\\mfles.py:301: RuntimeWarning: overflow encountered in scalar multiply\n",
      "  slope = (M * x_y_sum - x_sum * y_sum) / (M * x_sq_sum - x_sum**2)\n",
      "c:\\Users\\PC314\\anaconda3\\Lib\\site-packages\\statsforecast\\core.py:494: FutureWarning: In a future version the predictions will have the id as a column. You can set the `NIXTLA_ID_AS_COL` environment variable to adopt the new behavior and to suppress this warning.\n",
      "  warnings.warn(\n",
      "C:\\Users\\PC314\\AppData\\Local\\Temp\\ipykernel_17148\\3122320333.py:50: SettingWithCopyWarning: \n",
      "A value is trying to be set on a copy of a slice from a DataFrame.\n",
      "Try using .loc[row_indexer,col_indexer] = value instead\n",
      "\n",
      "See the caveats in the documentation: https://pandas.pydata.org/pandas-docs/stable/user_guide/indexing.html#returning-a-view-versus-a-copy\n",
      "  train_df['y'] = series\n"
     ]
    },
    {
     "name": "stdout",
     "output_type": "stream",
     "text": [
      "Best Model for log_seasonality_boxcox: MSTL_abc_ARIMA (MAPE: nan%)\n",
      "Training on transformed version: log_seasonality_standardize\n"
     ]
    },
    {
     "name": "stderr",
     "output_type": "stream",
     "text": [
      "c:\\Users\\PC314\\anaconda3\\Lib\\site-packages\\statsforecast\\core.py:494: FutureWarning: In a future version the predictions will have the id as a column. You can set the `NIXTLA_ID_AS_COL` environment variable to adopt the new behavior and to suppress this warning.\n",
      "  warnings.warn(\n",
      "c:\\Users\\PC314\\anaconda3\\Lib\\site-packages\\statsforecast\\core.py:494: FutureWarning: In a future version the predictions will have the id as a column. You can set the `NIXTLA_ID_AS_COL` environment variable to adopt the new behavior and to suppress this warning.\n",
      "  warnings.warn(\n",
      "c:\\Users\\PC314\\anaconda3\\Lib\\site-packages\\statsforecast\\core.py:494: FutureWarning: In a future version the predictions will have the id as a column. You can set the `NIXTLA_ID_AS_COL` environment variable to adopt the new behavior and to suppress this warning.\n",
      "  warnings.warn(\n",
      "c:\\Users\\PC314\\anaconda3\\Lib\\site-packages\\statsforecast\\mfles.py:301: RuntimeWarning: overflow encountered in scalar multiply\n",
      "  slope = (M * x_y_sum - x_sum * y_sum) / (M * x_sq_sum - x_sum**2)\n",
      "c:\\Users\\PC314\\anaconda3\\Lib\\site-packages\\statsforecast\\core.py:494: FutureWarning: In a future version the predictions will have the id as a column. You can set the `NIXTLA_ID_AS_COL` environment variable to adopt the new behavior and to suppress this warning.\n",
      "  warnings.warn(\n",
      "c:\\Users\\PC314\\anaconda3\\Lib\\site-packages\\statsforecast\\mfles.py:301: RuntimeWarning: overflow encountered in scalar multiply\n",
      "  slope = (M * x_y_sum - x_sum * y_sum) / (M * x_sq_sum - x_sum**2)\n",
      "c:\\Users\\PC314\\anaconda3\\Lib\\site-packages\\statsforecast\\core.py:494: FutureWarning: In a future version the predictions will have the id as a column. You can set the `NIXTLA_ID_AS_COL` environment variable to adopt the new behavior and to suppress this warning.\n",
      "  warnings.warn(\n",
      "c:\\Users\\PC314\\anaconda3\\Lib\\site-packages\\statsforecast\\mfles.py:301: RuntimeWarning: overflow encountered in scalar multiply\n",
      "  slope = (M * x_y_sum - x_sum * y_sum) / (M * x_sq_sum - x_sum**2)\n",
      "c:\\Users\\PC314\\anaconda3\\Lib\\site-packages\\statsforecast\\core.py:494: FutureWarning: In a future version the predictions will have the id as a column. You can set the `NIXTLA_ID_AS_COL` environment variable to adopt the new behavior and to suppress this warning.\n",
      "  warnings.warn(\n",
      "C:\\Users\\PC314\\AppData\\Local\\Temp\\ipykernel_17148\\3122320333.py:50: SettingWithCopyWarning: \n",
      "A value is trying to be set on a copy of a slice from a DataFrame.\n",
      "Try using .loc[row_indexer,col_indexer] = value instead\n",
      "\n",
      "See the caveats in the documentation: https://pandas.pydata.org/pandas-docs/stable/user_guide/indexing.html#returning-a-view-versus-a-copy\n",
      "  train_df['y'] = series\n"
     ]
    },
    {
     "name": "stdout",
     "output_type": "stream",
     "text": [
      "Best Model for log_seasonality_standardize: MSTL_a_ARIMA (MAPE: 94.98%)\n",
      "Training on transformed version: log_boxcox_standardize\n"
     ]
    },
    {
     "name": "stderr",
     "output_type": "stream",
     "text": [
      "c:\\Users\\PC314\\anaconda3\\Lib\\site-packages\\statsforecast\\core.py:494: FutureWarning: In a future version the predictions will have the id as a column. You can set the `NIXTLA_ID_AS_COL` environment variable to adopt the new behavior and to suppress this warning.\n",
      "  warnings.warn(\n",
      "c:\\Users\\PC314\\anaconda3\\Lib\\site-packages\\statsforecast\\core.py:494: FutureWarning: In a future version the predictions will have the id as a column. You can set the `NIXTLA_ID_AS_COL` environment variable to adopt the new behavior and to suppress this warning.\n",
      "  warnings.warn(\n",
      "c:\\Users\\PC314\\anaconda3\\Lib\\site-packages\\statsforecast\\core.py:494: FutureWarning: In a future version the predictions will have the id as a column. You can set the `NIXTLA_ID_AS_COL` environment variable to adopt the new behavior and to suppress this warning.\n",
      "  warnings.warn(\n",
      "c:\\Users\\PC314\\anaconda3\\Lib\\site-packages\\statsforecast\\mfles.py:301: RuntimeWarning: overflow encountered in scalar multiply\n",
      "  slope = (M * x_y_sum - x_sum * y_sum) / (M * x_sq_sum - x_sum**2)\n",
      "c:\\Users\\PC314\\anaconda3\\Lib\\site-packages\\statsforecast\\core.py:494: FutureWarning: In a future version the predictions will have the id as a column. You can set the `NIXTLA_ID_AS_COL` environment variable to adopt the new behavior and to suppress this warning.\n",
      "  warnings.warn(\n",
      "c:\\Users\\PC314\\anaconda3\\Lib\\site-packages\\statsforecast\\mfles.py:301: RuntimeWarning: overflow encountered in scalar multiply\n",
      "  slope = (M * x_y_sum - x_sum * y_sum) / (M * x_sq_sum - x_sum**2)\n",
      "c:\\Users\\PC314\\anaconda3\\Lib\\site-packages\\statsforecast\\core.py:494: FutureWarning: In a future version the predictions will have the id as a column. You can set the `NIXTLA_ID_AS_COL` environment variable to adopt the new behavior and to suppress this warning.\n",
      "  warnings.warn(\n",
      "c:\\Users\\PC314\\anaconda3\\Lib\\site-packages\\statsforecast\\mfles.py:301: RuntimeWarning: overflow encountered in scalar multiply\n",
      "  slope = (M * x_y_sum - x_sum * y_sum) / (M * x_sq_sum - x_sum**2)\n",
      "c:\\Users\\PC314\\anaconda3\\Lib\\site-packages\\statsforecast\\core.py:494: FutureWarning: In a future version the predictions will have the id as a column. You can set the `NIXTLA_ID_AS_COL` environment variable to adopt the new behavior and to suppress this warning.\n",
      "  warnings.warn(\n",
      "C:\\Users\\PC314\\AppData\\Local\\Temp\\ipykernel_17148\\3122320333.py:50: SettingWithCopyWarning: \n",
      "A value is trying to be set on a copy of a slice from a DataFrame.\n",
      "Try using .loc[row_indexer,col_indexer] = value instead\n",
      "\n",
      "See the caveats in the documentation: https://pandas.pydata.org/pandas-docs/stable/user_guide/indexing.html#returning-a-view-versus-a-copy\n",
      "  train_df['y'] = series\n"
     ]
    },
    {
     "name": "stdout",
     "output_type": "stream",
     "text": [
      "Best Model for log_boxcox_standardize: MSTL_a_ARIMA (MAPE: 65.51%)\n",
      "Training on transformed version: trend_seasonality_boxcox\n"
     ]
    },
    {
     "name": "stderr",
     "output_type": "stream",
     "text": [
      "c:\\Users\\PC314\\anaconda3\\Lib\\site-packages\\statsforecast\\core.py:494: FutureWarning: In a future version the predictions will have the id as a column. You can set the `NIXTLA_ID_AS_COL` environment variable to adopt the new behavior and to suppress this warning.\n",
      "  warnings.warn(\n",
      "c:\\Users\\PC314\\anaconda3\\Lib\\site-packages\\statsforecast\\core.py:494: FutureWarning: In a future version the predictions will have the id as a column. You can set the `NIXTLA_ID_AS_COL` environment variable to adopt the new behavior and to suppress this warning.\n",
      "  warnings.warn(\n",
      "c:\\Users\\PC314\\anaconda3\\Lib\\site-packages\\statsforecast\\core.py:494: FutureWarning: In a future version the predictions will have the id as a column. You can set the `NIXTLA_ID_AS_COL` environment variable to adopt the new behavior and to suppress this warning.\n",
      "  warnings.warn(\n",
      "c:\\Users\\PC314\\anaconda3\\Lib\\site-packages\\statsforecast\\mfles.py:301: RuntimeWarning: overflow encountered in scalar multiply\n",
      "  slope = (M * x_y_sum - x_sum * y_sum) / (M * x_sq_sum - x_sum**2)\n",
      "c:\\Users\\PC314\\anaconda3\\Lib\\site-packages\\statsforecast\\core.py:494: FutureWarning: In a future version the predictions will have the id as a column. You can set the `NIXTLA_ID_AS_COL` environment variable to adopt the new behavior and to suppress this warning.\n",
      "  warnings.warn(\n",
      "c:\\Users\\PC314\\anaconda3\\Lib\\site-packages\\statsforecast\\mfles.py:301: RuntimeWarning: overflow encountered in scalar multiply\n",
      "  slope = (M * x_y_sum - x_sum * y_sum) / (M * x_sq_sum - x_sum**2)\n",
      "c:\\Users\\PC314\\anaconda3\\Lib\\site-packages\\statsforecast\\core.py:494: FutureWarning: In a future version the predictions will have the id as a column. You can set the `NIXTLA_ID_AS_COL` environment variable to adopt the new behavior and to suppress this warning.\n",
      "  warnings.warn(\n",
      "c:\\Users\\PC314\\anaconda3\\Lib\\site-packages\\statsforecast\\mfles.py:301: RuntimeWarning: overflow encountered in scalar multiply\n",
      "  slope = (M * x_y_sum - x_sum * y_sum) / (M * x_sq_sum - x_sum**2)\n",
      "c:\\Users\\PC314\\anaconda3\\Lib\\site-packages\\statsforecast\\core.py:494: FutureWarning: In a future version the predictions will have the id as a column. You can set the `NIXTLA_ID_AS_COL` environment variable to adopt the new behavior and to suppress this warning.\n",
      "  warnings.warn(\n",
      "C:\\Users\\PC314\\AppData\\Local\\Temp\\ipykernel_17148\\3122320333.py:50: SettingWithCopyWarning: \n",
      "A value is trying to be set on a copy of a slice from a DataFrame.\n",
      "Try using .loc[row_indexer,col_indexer] = value instead\n",
      "\n",
      "See the caveats in the documentation: https://pandas.pydata.org/pandas-docs/stable/user_guide/indexing.html#returning-a-view-versus-a-copy\n",
      "  train_df['y'] = series\n"
     ]
    },
    {
     "name": "stdout",
     "output_type": "stream",
     "text": [
      "Best Model for trend_seasonality_boxcox: MSTL_a_ARIMA (MAPE: 124.45%)\n",
      "Training on transformed version: trend_seasonality_standardize\n"
     ]
    },
    {
     "name": "stderr",
     "output_type": "stream",
     "text": [
      "c:\\Users\\PC314\\anaconda3\\Lib\\site-packages\\statsforecast\\core.py:494: FutureWarning: In a future version the predictions will have the id as a column. You can set the `NIXTLA_ID_AS_COL` environment variable to adopt the new behavior and to suppress this warning.\n",
      "  warnings.warn(\n",
      "c:\\Users\\PC314\\anaconda3\\Lib\\site-packages\\statsforecast\\core.py:494: FutureWarning: In a future version the predictions will have the id as a column. You can set the `NIXTLA_ID_AS_COL` environment variable to adopt the new behavior and to suppress this warning.\n",
      "  warnings.warn(\n",
      "c:\\Users\\PC314\\anaconda3\\Lib\\site-packages\\statsforecast\\core.py:494: FutureWarning: In a future version the predictions will have the id as a column. You can set the `NIXTLA_ID_AS_COL` environment variable to adopt the new behavior and to suppress this warning.\n",
      "  warnings.warn(\n",
      "c:\\Users\\PC314\\anaconda3\\Lib\\site-packages\\statsforecast\\mfles.py:301: RuntimeWarning: overflow encountered in scalar multiply\n",
      "  slope = (M * x_y_sum - x_sum * y_sum) / (M * x_sq_sum - x_sum**2)\n",
      "c:\\Users\\PC314\\anaconda3\\Lib\\site-packages\\statsforecast\\core.py:494: FutureWarning: In a future version the predictions will have the id as a column. You can set the `NIXTLA_ID_AS_COL` environment variable to adopt the new behavior and to suppress this warning.\n",
      "  warnings.warn(\n",
      "c:\\Users\\PC314\\anaconda3\\Lib\\site-packages\\statsforecast\\mfles.py:301: RuntimeWarning: overflow encountered in scalar multiply\n",
      "  slope = (M * x_y_sum - x_sum * y_sum) / (M * x_sq_sum - x_sum**2)\n",
      "c:\\Users\\PC314\\anaconda3\\Lib\\site-packages\\statsforecast\\core.py:494: FutureWarning: In a future version the predictions will have the id as a column. You can set the `NIXTLA_ID_AS_COL` environment variable to adopt the new behavior and to suppress this warning.\n",
      "  warnings.warn(\n",
      "c:\\Users\\PC314\\anaconda3\\Lib\\site-packages\\statsforecast\\mfles.py:301: RuntimeWarning: overflow encountered in scalar multiply\n",
      "  slope = (M * x_y_sum - x_sum * y_sum) / (M * x_sq_sum - x_sum**2)\n",
      "c:\\Users\\PC314\\anaconda3\\Lib\\site-packages\\statsforecast\\core.py:494: FutureWarning: In a future version the predictions will have the id as a column. You can set the `NIXTLA_ID_AS_COL` environment variable to adopt the new behavior and to suppress this warning.\n",
      "  warnings.warn(\n",
      "C:\\Users\\PC314\\AppData\\Local\\Temp\\ipykernel_17148\\3122320333.py:50: SettingWithCopyWarning: \n",
      "A value is trying to be set on a copy of a slice from a DataFrame.\n",
      "Try using .loc[row_indexer,col_indexer] = value instead\n",
      "\n",
      "See the caveats in the documentation: https://pandas.pydata.org/pandas-docs/stable/user_guide/indexing.html#returning-a-view-versus-a-copy\n",
      "  train_df['y'] = series\n"
     ]
    },
    {
     "name": "stdout",
     "output_type": "stream",
     "text": [
      "Best Model for trend_seasonality_standardize: MSTL_a_ARIMA (MAPE: 86.93%)\n",
      "Training on transformed version: trend_boxcox_standardize\n"
     ]
    },
    {
     "name": "stderr",
     "output_type": "stream",
     "text": [
      "c:\\Users\\PC314\\anaconda3\\Lib\\site-packages\\statsforecast\\core.py:494: FutureWarning: In a future version the predictions will have the id as a column. You can set the `NIXTLA_ID_AS_COL` environment variable to adopt the new behavior and to suppress this warning.\n",
      "  warnings.warn(\n",
      "c:\\Users\\PC314\\anaconda3\\Lib\\site-packages\\statsforecast\\core.py:494: FutureWarning: In a future version the predictions will have the id as a column. You can set the `NIXTLA_ID_AS_COL` environment variable to adopt the new behavior and to suppress this warning.\n",
      "  warnings.warn(\n",
      "c:\\Users\\PC314\\anaconda3\\Lib\\site-packages\\statsforecast\\core.py:494: FutureWarning: In a future version the predictions will have the id as a column. You can set the `NIXTLA_ID_AS_COL` environment variable to adopt the new behavior and to suppress this warning.\n",
      "  warnings.warn(\n",
      "c:\\Users\\PC314\\anaconda3\\Lib\\site-packages\\statsforecast\\mfles.py:301: RuntimeWarning: overflow encountered in scalar multiply\n",
      "  slope = (M * x_y_sum - x_sum * y_sum) / (M * x_sq_sum - x_sum**2)\n",
      "c:\\Users\\PC314\\anaconda3\\Lib\\site-packages\\statsforecast\\core.py:494: FutureWarning: In a future version the predictions will have the id as a column. You can set the `NIXTLA_ID_AS_COL` environment variable to adopt the new behavior and to suppress this warning.\n",
      "  warnings.warn(\n",
      "c:\\Users\\PC314\\anaconda3\\Lib\\site-packages\\statsforecast\\mfles.py:301: RuntimeWarning: overflow encountered in scalar multiply\n",
      "  slope = (M * x_y_sum - x_sum * y_sum) / (M * x_sq_sum - x_sum**2)\n",
      "c:\\Users\\PC314\\anaconda3\\Lib\\site-packages\\statsforecast\\core.py:494: FutureWarning: In a future version the predictions will have the id as a column. You can set the `NIXTLA_ID_AS_COL` environment variable to adopt the new behavior and to suppress this warning.\n",
      "  warnings.warn(\n",
      "c:\\Users\\PC314\\anaconda3\\Lib\\site-packages\\statsforecast\\mfles.py:301: RuntimeWarning: overflow encountered in scalar multiply\n",
      "  slope = (M * x_y_sum - x_sum * y_sum) / (M * x_sq_sum - x_sum**2)\n",
      "c:\\Users\\PC314\\anaconda3\\Lib\\site-packages\\statsforecast\\core.py:494: FutureWarning: In a future version the predictions will have the id as a column. You can set the `NIXTLA_ID_AS_COL` environment variable to adopt the new behavior and to suppress this warning.\n",
      "  warnings.warn(\n",
      "C:\\Users\\PC314\\AppData\\Local\\Temp\\ipykernel_17148\\3122320333.py:50: SettingWithCopyWarning: \n",
      "A value is trying to be set on a copy of a slice from a DataFrame.\n",
      "Try using .loc[row_indexer,col_indexer] = value instead\n",
      "\n",
      "See the caveats in the documentation: https://pandas.pydata.org/pandas-docs/stable/user_guide/indexing.html#returning-a-view-versus-a-copy\n",
      "  train_df['y'] = series\n"
     ]
    },
    {
     "name": "stdout",
     "output_type": "stream",
     "text": [
      "Best Model for trend_boxcox_standardize: MSTL_a_ARIMA (MAPE: 86.93%)\n",
      "Training on transformed version: seasonality_boxcox_standardize\n"
     ]
    },
    {
     "name": "stderr",
     "output_type": "stream",
     "text": [
      "c:\\Users\\PC314\\anaconda3\\Lib\\site-packages\\statsforecast\\core.py:494: FutureWarning: In a future version the predictions will have the id as a column. You can set the `NIXTLA_ID_AS_COL` environment variable to adopt the new behavior and to suppress this warning.\n",
      "  warnings.warn(\n",
      "c:\\Users\\PC314\\anaconda3\\Lib\\site-packages\\statsforecast\\core.py:494: FutureWarning: In a future version the predictions will have the id as a column. You can set the `NIXTLA_ID_AS_COL` environment variable to adopt the new behavior and to suppress this warning.\n",
      "  warnings.warn(\n",
      "c:\\Users\\PC314\\anaconda3\\Lib\\site-packages\\statsforecast\\core.py:494: FutureWarning: In a future version the predictions will have the id as a column. You can set the `NIXTLA_ID_AS_COL` environment variable to adopt the new behavior and to suppress this warning.\n",
      "  warnings.warn(\n",
      "c:\\Users\\PC314\\anaconda3\\Lib\\site-packages\\statsforecast\\mfles.py:301: RuntimeWarning: overflow encountered in scalar multiply\n",
      "  slope = (M * x_y_sum - x_sum * y_sum) / (M * x_sq_sum - x_sum**2)\n",
      "c:\\Users\\PC314\\anaconda3\\Lib\\site-packages\\statsforecast\\core.py:494: FutureWarning: In a future version the predictions will have the id as a column. You can set the `NIXTLA_ID_AS_COL` environment variable to adopt the new behavior and to suppress this warning.\n",
      "  warnings.warn(\n",
      "c:\\Users\\PC314\\anaconda3\\Lib\\site-packages\\statsforecast\\mfles.py:301: RuntimeWarning: overflow encountered in scalar multiply\n",
      "  slope = (M * x_y_sum - x_sum * y_sum) / (M * x_sq_sum - x_sum**2)\n",
      "c:\\Users\\PC314\\anaconda3\\Lib\\site-packages\\statsforecast\\core.py:494: FutureWarning: In a future version the predictions will have the id as a column. You can set the `NIXTLA_ID_AS_COL` environment variable to adopt the new behavior and to suppress this warning.\n",
      "  warnings.warn(\n",
      "c:\\Users\\PC314\\anaconda3\\Lib\\site-packages\\statsforecast\\mfles.py:301: RuntimeWarning: overflow encountered in scalar multiply\n",
      "  slope = (M * x_y_sum - x_sum * y_sum) / (M * x_sq_sum - x_sum**2)\n",
      "c:\\Users\\PC314\\anaconda3\\Lib\\site-packages\\statsforecast\\core.py:494: FutureWarning: In a future version the predictions will have the id as a column. You can set the `NIXTLA_ID_AS_COL` environment variable to adopt the new behavior and to suppress this warning.\n",
      "  warnings.warn(\n",
      "C:\\Users\\PC314\\AppData\\Local\\Temp\\ipykernel_17148\\3122320333.py:50: SettingWithCopyWarning: \n",
      "A value is trying to be set on a copy of a slice from a DataFrame.\n",
      "Try using .loc[row_indexer,col_indexer] = value instead\n",
      "\n",
      "See the caveats in the documentation: https://pandas.pydata.org/pandas-docs/stable/user_guide/indexing.html#returning-a-view-versus-a-copy\n",
      "  train_df['y'] = series\n"
     ]
    },
    {
     "name": "stdout",
     "output_type": "stream",
     "text": [
      "Best Model for seasonality_boxcox_standardize: MSTL_a_ARIMA (MAPE: 98.30%)\n",
      "Training on transformed version: log_trend_seasonality_boxcox\n"
     ]
    },
    {
     "name": "stderr",
     "output_type": "stream",
     "text": [
      "c:\\Users\\PC314\\anaconda3\\Lib\\site-packages\\statsforecast\\core.py:494: FutureWarning: In a future version the predictions will have the id as a column. You can set the `NIXTLA_ID_AS_COL` environment variable to adopt the new behavior and to suppress this warning.\n",
      "  warnings.warn(\n",
      "c:\\Users\\PC314\\anaconda3\\Lib\\site-packages\\statsforecast\\core.py:494: FutureWarning: In a future version the predictions will have the id as a column. You can set the `NIXTLA_ID_AS_COL` environment variable to adopt the new behavior and to suppress this warning.\n",
      "  warnings.warn(\n",
      "c:\\Users\\PC314\\anaconda3\\Lib\\site-packages\\statsforecast\\core.py:494: FutureWarning: In a future version the predictions will have the id as a column. You can set the `NIXTLA_ID_AS_COL` environment variable to adopt the new behavior and to suppress this warning.\n",
      "  warnings.warn(\n",
      "c:\\Users\\PC314\\anaconda3\\Lib\\site-packages\\statsforecast\\mfles.py:301: RuntimeWarning: overflow encountered in scalar multiply\n",
      "  slope = (M * x_y_sum - x_sum * y_sum) / (M * x_sq_sum - x_sum**2)\n",
      "c:\\Users\\PC314\\anaconda3\\Lib\\site-packages\\statsforecast\\core.py:494: FutureWarning: In a future version the predictions will have the id as a column. You can set the `NIXTLA_ID_AS_COL` environment variable to adopt the new behavior and to suppress this warning.\n",
      "  warnings.warn(\n",
      "c:\\Users\\PC314\\anaconda3\\Lib\\site-packages\\statsforecast\\mfles.py:301: RuntimeWarning: overflow encountered in scalar multiply\n",
      "  slope = (M * x_y_sum - x_sum * y_sum) / (M * x_sq_sum - x_sum**2)\n",
      "c:\\Users\\PC314\\anaconda3\\Lib\\site-packages\\statsforecast\\core.py:494: FutureWarning: In a future version the predictions will have the id as a column. You can set the `NIXTLA_ID_AS_COL` environment variable to adopt the new behavior and to suppress this warning.\n",
      "  warnings.warn(\n",
      "c:\\Users\\PC314\\anaconda3\\Lib\\site-packages\\statsforecast\\mfles.py:301: RuntimeWarning: overflow encountered in scalar multiply\n",
      "  slope = (M * x_y_sum - x_sum * y_sum) / (M * x_sq_sum - x_sum**2)\n",
      "c:\\Users\\PC314\\anaconda3\\Lib\\site-packages\\statsforecast\\core.py:494: FutureWarning: In a future version the predictions will have the id as a column. You can set the `NIXTLA_ID_AS_COL` environment variable to adopt the new behavior and to suppress this warning.\n",
      "  warnings.warn(\n",
      "C:\\Users\\PC314\\AppData\\Local\\Temp\\ipykernel_17148\\3122320333.py:50: SettingWithCopyWarning: \n",
      "A value is trying to be set on a copy of a slice from a DataFrame.\n",
      "Try using .loc[row_indexer,col_indexer] = value instead\n",
      "\n",
      "See the caveats in the documentation: https://pandas.pydata.org/pandas-docs/stable/user_guide/indexing.html#returning-a-view-versus-a-copy\n",
      "  train_df['y'] = series\n"
     ]
    },
    {
     "name": "stdout",
     "output_type": "stream",
     "text": [
      "Best Model for log_trend_seasonality_boxcox: MSTL_ac_MFLES1 (MAPE: 878.53%)\n",
      "Training on transformed version: log_trend_seasonality_standardize\n"
     ]
    },
    {
     "name": "stderr",
     "output_type": "stream",
     "text": [
      "c:\\Users\\PC314\\anaconda3\\Lib\\site-packages\\statsforecast\\core.py:494: FutureWarning: In a future version the predictions will have the id as a column. You can set the `NIXTLA_ID_AS_COL` environment variable to adopt the new behavior and to suppress this warning.\n",
      "  warnings.warn(\n",
      "c:\\Users\\PC314\\anaconda3\\Lib\\site-packages\\statsforecast\\core.py:494: FutureWarning: In a future version the predictions will have the id as a column. You can set the `NIXTLA_ID_AS_COL` environment variable to adopt the new behavior and to suppress this warning.\n",
      "  warnings.warn(\n",
      "c:\\Users\\PC314\\anaconda3\\Lib\\site-packages\\statsforecast\\core.py:494: FutureWarning: In a future version the predictions will have the id as a column. You can set the `NIXTLA_ID_AS_COL` environment variable to adopt the new behavior and to suppress this warning.\n",
      "  warnings.warn(\n",
      "c:\\Users\\PC314\\anaconda3\\Lib\\site-packages\\statsforecast\\mfles.py:301: RuntimeWarning: overflow encountered in scalar multiply\n",
      "  slope = (M * x_y_sum - x_sum * y_sum) / (M * x_sq_sum - x_sum**2)\n",
      "c:\\Users\\PC314\\anaconda3\\Lib\\site-packages\\statsforecast\\core.py:494: FutureWarning: In a future version the predictions will have the id as a column. You can set the `NIXTLA_ID_AS_COL` environment variable to adopt the new behavior and to suppress this warning.\n",
      "  warnings.warn(\n",
      "c:\\Users\\PC314\\anaconda3\\Lib\\site-packages\\statsforecast\\mfles.py:301: RuntimeWarning: overflow encountered in scalar multiply\n",
      "  slope = (M * x_y_sum - x_sum * y_sum) / (M * x_sq_sum - x_sum**2)\n",
      "c:\\Users\\PC314\\anaconda3\\Lib\\site-packages\\statsforecast\\core.py:494: FutureWarning: In a future version the predictions will have the id as a column. You can set the `NIXTLA_ID_AS_COL` environment variable to adopt the new behavior and to suppress this warning.\n",
      "  warnings.warn(\n",
      "c:\\Users\\PC314\\anaconda3\\Lib\\site-packages\\statsforecast\\mfles.py:301: RuntimeWarning: overflow encountered in scalar multiply\n",
      "  slope = (M * x_y_sum - x_sum * y_sum) / (M * x_sq_sum - x_sum**2)\n",
      "c:\\Users\\PC314\\anaconda3\\Lib\\site-packages\\statsforecast\\core.py:494: FutureWarning: In a future version the predictions will have the id as a column. You can set the `NIXTLA_ID_AS_COL` environment variable to adopt the new behavior and to suppress this warning.\n",
      "  warnings.warn(\n",
      "C:\\Users\\PC314\\AppData\\Local\\Temp\\ipykernel_17148\\3122320333.py:50: SettingWithCopyWarning: \n",
      "A value is trying to be set on a copy of a slice from a DataFrame.\n",
      "Try using .loc[row_indexer,col_indexer] = value instead\n",
      "\n",
      "See the caveats in the documentation: https://pandas.pydata.org/pandas-docs/stable/user_guide/indexing.html#returning-a-view-versus-a-copy\n",
      "  train_df['y'] = series\n"
     ]
    },
    {
     "name": "stdout",
     "output_type": "stream",
     "text": [
      "Best Model for log_trend_seasonality_standardize: MSTL_ac_MFLES1 (MAPE: 878.53%)\n",
      "Training on transformed version: log_trend_boxcox_standardize\n"
     ]
    },
    {
     "name": "stderr",
     "output_type": "stream",
     "text": [
      "c:\\Users\\PC314\\anaconda3\\Lib\\site-packages\\statsforecast\\core.py:494: FutureWarning: In a future version the predictions will have the id as a column. You can set the `NIXTLA_ID_AS_COL` environment variable to adopt the new behavior and to suppress this warning.\n",
      "  warnings.warn(\n",
      "c:\\Users\\PC314\\anaconda3\\Lib\\site-packages\\statsforecast\\core.py:494: FutureWarning: In a future version the predictions will have the id as a column. You can set the `NIXTLA_ID_AS_COL` environment variable to adopt the new behavior and to suppress this warning.\n",
      "  warnings.warn(\n",
      "c:\\Users\\PC314\\anaconda3\\Lib\\site-packages\\statsforecast\\core.py:494: FutureWarning: In a future version the predictions will have the id as a column. You can set the `NIXTLA_ID_AS_COL` environment variable to adopt the new behavior and to suppress this warning.\n",
      "  warnings.warn(\n",
      "c:\\Users\\PC314\\anaconda3\\Lib\\site-packages\\statsforecast\\mfles.py:301: RuntimeWarning: overflow encountered in scalar multiply\n",
      "  slope = (M * x_y_sum - x_sum * y_sum) / (M * x_sq_sum - x_sum**2)\n",
      "c:\\Users\\PC314\\anaconda3\\Lib\\site-packages\\statsforecast\\core.py:494: FutureWarning: In a future version the predictions will have the id as a column. You can set the `NIXTLA_ID_AS_COL` environment variable to adopt the new behavior and to suppress this warning.\n",
      "  warnings.warn(\n",
      "c:\\Users\\PC314\\anaconda3\\Lib\\site-packages\\statsforecast\\mfles.py:301: RuntimeWarning: overflow encountered in scalar multiply\n",
      "  slope = (M * x_y_sum - x_sum * y_sum) / (M * x_sq_sum - x_sum**2)\n",
      "c:\\Users\\PC314\\anaconda3\\Lib\\site-packages\\statsforecast\\core.py:494: FutureWarning: In a future version the predictions will have the id as a column. You can set the `NIXTLA_ID_AS_COL` environment variable to adopt the new behavior and to suppress this warning.\n",
      "  warnings.warn(\n",
      "c:\\Users\\PC314\\anaconda3\\Lib\\site-packages\\statsforecast\\mfles.py:301: RuntimeWarning: overflow encountered in scalar multiply\n",
      "  slope = (M * x_y_sum - x_sum * y_sum) / (M * x_sq_sum - x_sum**2)\n",
      "c:\\Users\\PC314\\anaconda3\\Lib\\site-packages\\statsforecast\\core.py:494: FutureWarning: In a future version the predictions will have the id as a column. You can set the `NIXTLA_ID_AS_COL` environment variable to adopt the new behavior and to suppress this warning.\n",
      "  warnings.warn(\n",
      "C:\\Users\\PC314\\AppData\\Local\\Temp\\ipykernel_17148\\3122320333.py:50: SettingWithCopyWarning: \n",
      "A value is trying to be set on a copy of a slice from a DataFrame.\n",
      "Try using .loc[row_indexer,col_indexer] = value instead\n",
      "\n",
      "See the caveats in the documentation: https://pandas.pydata.org/pandas-docs/stable/user_guide/indexing.html#returning-a-view-versus-a-copy\n",
      "  train_df['y'] = series\n"
     ]
    },
    {
     "name": "stdout",
     "output_type": "stream",
     "text": [
      "Best Model for log_trend_boxcox_standardize: MSTL_ac_MFLES1 (MAPE: 878.53%)\n",
      "Training on transformed version: log_seasonality_boxcox_standardize\n"
     ]
    },
    {
     "name": "stderr",
     "output_type": "stream",
     "text": [
      "c:\\Users\\PC314\\anaconda3\\Lib\\site-packages\\statsforecast\\core.py:494: FutureWarning: In a future version the predictions will have the id as a column. You can set the `NIXTLA_ID_AS_COL` environment variable to adopt the new behavior and to suppress this warning.\n",
      "  warnings.warn(\n",
      "c:\\Users\\PC314\\anaconda3\\Lib\\site-packages\\statsforecast\\core.py:494: FutureWarning: In a future version the predictions will have the id as a column. You can set the `NIXTLA_ID_AS_COL` environment variable to adopt the new behavior and to suppress this warning.\n",
      "  warnings.warn(\n",
      "c:\\Users\\PC314\\anaconda3\\Lib\\site-packages\\statsforecast\\core.py:494: FutureWarning: In a future version the predictions will have the id as a column. You can set the `NIXTLA_ID_AS_COL` environment variable to adopt the new behavior and to suppress this warning.\n",
      "  warnings.warn(\n",
      "c:\\Users\\PC314\\anaconda3\\Lib\\site-packages\\statsforecast\\mfles.py:301: RuntimeWarning: overflow encountered in scalar multiply\n",
      "  slope = (M * x_y_sum - x_sum * y_sum) / (M * x_sq_sum - x_sum**2)\n",
      "c:\\Users\\PC314\\anaconda3\\Lib\\site-packages\\statsforecast\\core.py:494: FutureWarning: In a future version the predictions will have the id as a column. You can set the `NIXTLA_ID_AS_COL` environment variable to adopt the new behavior and to suppress this warning.\n",
      "  warnings.warn(\n",
      "c:\\Users\\PC314\\anaconda3\\Lib\\site-packages\\statsforecast\\mfles.py:301: RuntimeWarning: overflow encountered in scalar multiply\n",
      "  slope = (M * x_y_sum - x_sum * y_sum) / (M * x_sq_sum - x_sum**2)\n",
      "c:\\Users\\PC314\\anaconda3\\Lib\\site-packages\\statsforecast\\core.py:494: FutureWarning: In a future version the predictions will have the id as a column. You can set the `NIXTLA_ID_AS_COL` environment variable to adopt the new behavior and to suppress this warning.\n",
      "  warnings.warn(\n",
      "c:\\Users\\PC314\\anaconda3\\Lib\\site-packages\\statsforecast\\mfles.py:301: RuntimeWarning: overflow encountered in scalar multiply\n",
      "  slope = (M * x_y_sum - x_sum * y_sum) / (M * x_sq_sum - x_sum**2)\n",
      "c:\\Users\\PC314\\anaconda3\\Lib\\site-packages\\statsforecast\\core.py:494: FutureWarning: In a future version the predictions will have the id as a column. You can set the `NIXTLA_ID_AS_COL` environment variable to adopt the new behavior and to suppress this warning.\n",
      "  warnings.warn(\n",
      "C:\\Users\\PC314\\AppData\\Local\\Temp\\ipykernel_17148\\3122320333.py:50: SettingWithCopyWarning: \n",
      "A value is trying to be set on a copy of a slice from a DataFrame.\n",
      "Try using .loc[row_indexer,col_indexer] = value instead\n",
      "\n",
      "See the caveats in the documentation: https://pandas.pydata.org/pandas-docs/stable/user_guide/indexing.html#returning-a-view-versus-a-copy\n",
      "  train_df['y'] = series\n"
     ]
    },
    {
     "name": "stdout",
     "output_type": "stream",
     "text": [
      "Best Model for log_seasonality_boxcox_standardize: MSTL_a_ARIMA (MAPE: 65.51%)\n",
      "Training on transformed version: trend_seasonality_boxcox_standardize\n"
     ]
    },
    {
     "name": "stderr",
     "output_type": "stream",
     "text": [
      "c:\\Users\\PC314\\anaconda3\\Lib\\site-packages\\statsforecast\\core.py:494: FutureWarning: In a future version the predictions will have the id as a column. You can set the `NIXTLA_ID_AS_COL` environment variable to adopt the new behavior and to suppress this warning.\n",
      "  warnings.warn(\n",
      "c:\\Users\\PC314\\anaconda3\\Lib\\site-packages\\statsforecast\\core.py:494: FutureWarning: In a future version the predictions will have the id as a column. You can set the `NIXTLA_ID_AS_COL` environment variable to adopt the new behavior and to suppress this warning.\n",
      "  warnings.warn(\n",
      "c:\\Users\\PC314\\anaconda3\\Lib\\site-packages\\statsforecast\\core.py:494: FutureWarning: In a future version the predictions will have the id as a column. You can set the `NIXTLA_ID_AS_COL` environment variable to adopt the new behavior and to suppress this warning.\n",
      "  warnings.warn(\n",
      "c:\\Users\\PC314\\anaconda3\\Lib\\site-packages\\statsforecast\\mfles.py:301: RuntimeWarning: overflow encountered in scalar multiply\n",
      "  slope = (M * x_y_sum - x_sum * y_sum) / (M * x_sq_sum - x_sum**2)\n",
      "c:\\Users\\PC314\\anaconda3\\Lib\\site-packages\\statsforecast\\core.py:494: FutureWarning: In a future version the predictions will have the id as a column. You can set the `NIXTLA_ID_AS_COL` environment variable to adopt the new behavior and to suppress this warning.\n",
      "  warnings.warn(\n",
      "c:\\Users\\PC314\\anaconda3\\Lib\\site-packages\\statsforecast\\mfles.py:301: RuntimeWarning: overflow encountered in scalar multiply\n",
      "  slope = (M * x_y_sum - x_sum * y_sum) / (M * x_sq_sum - x_sum**2)\n",
      "c:\\Users\\PC314\\anaconda3\\Lib\\site-packages\\statsforecast\\core.py:494: FutureWarning: In a future version the predictions will have the id as a column. You can set the `NIXTLA_ID_AS_COL` environment variable to adopt the new behavior and to suppress this warning.\n",
      "  warnings.warn(\n",
      "c:\\Users\\PC314\\anaconda3\\Lib\\site-packages\\statsforecast\\mfles.py:301: RuntimeWarning: overflow encountered in scalar multiply\n",
      "  slope = (M * x_y_sum - x_sum * y_sum) / (M * x_sq_sum - x_sum**2)\n",
      "c:\\Users\\PC314\\anaconda3\\Lib\\site-packages\\statsforecast\\core.py:494: FutureWarning: In a future version the predictions will have the id as a column. You can set the `NIXTLA_ID_AS_COL` environment variable to adopt the new behavior and to suppress this warning.\n",
      "  warnings.warn(\n",
      "C:\\Users\\PC314\\AppData\\Local\\Temp\\ipykernel_17148\\3122320333.py:50: SettingWithCopyWarning: \n",
      "A value is trying to be set on a copy of a slice from a DataFrame.\n",
      "Try using .loc[row_indexer,col_indexer] = value instead\n",
      "\n",
      "See the caveats in the documentation: https://pandas.pydata.org/pandas-docs/stable/user_guide/indexing.html#returning-a-view-versus-a-copy\n",
      "  train_df['y'] = series\n"
     ]
    },
    {
     "name": "stdout",
     "output_type": "stream",
     "text": [
      "Best Model for trend_seasonality_boxcox_standardize: MSTL_a_ARIMA (MAPE: 86.93%)\n",
      "Training on transformed version: log_trend_seasonality_boxcox_standardize\n"
     ]
    },
    {
     "name": "stderr",
     "output_type": "stream",
     "text": [
      "c:\\Users\\PC314\\anaconda3\\Lib\\site-packages\\statsforecast\\core.py:494: FutureWarning: In a future version the predictions will have the id as a column. You can set the `NIXTLA_ID_AS_COL` environment variable to adopt the new behavior and to suppress this warning.\n",
      "  warnings.warn(\n",
      "c:\\Users\\PC314\\anaconda3\\Lib\\site-packages\\statsforecast\\core.py:494: FutureWarning: In a future version the predictions will have the id as a column. You can set the `NIXTLA_ID_AS_COL` environment variable to adopt the new behavior and to suppress this warning.\n",
      "  warnings.warn(\n",
      "c:\\Users\\PC314\\anaconda3\\Lib\\site-packages\\statsforecast\\core.py:494: FutureWarning: In a future version the predictions will have the id as a column. You can set the `NIXTLA_ID_AS_COL` environment variable to adopt the new behavior and to suppress this warning.\n",
      "  warnings.warn(\n",
      "c:\\Users\\PC314\\anaconda3\\Lib\\site-packages\\statsforecast\\mfles.py:301: RuntimeWarning: overflow encountered in scalar multiply\n",
      "  slope = (M * x_y_sum - x_sum * y_sum) / (M * x_sq_sum - x_sum**2)\n",
      "c:\\Users\\PC314\\anaconda3\\Lib\\site-packages\\statsforecast\\core.py:494: FutureWarning: In a future version the predictions will have the id as a column. You can set the `NIXTLA_ID_AS_COL` environment variable to adopt the new behavior and to suppress this warning.\n",
      "  warnings.warn(\n",
      "c:\\Users\\PC314\\anaconda3\\Lib\\site-packages\\statsforecast\\mfles.py:301: RuntimeWarning: overflow encountered in scalar multiply\n",
      "  slope = (M * x_y_sum - x_sum * y_sum) / (M * x_sq_sum - x_sum**2)\n",
      "c:\\Users\\PC314\\anaconda3\\Lib\\site-packages\\statsforecast\\core.py:494: FutureWarning: In a future version the predictions will have the id as a column. You can set the `NIXTLA_ID_AS_COL` environment variable to adopt the new behavior and to suppress this warning.\n",
      "  warnings.warn(\n",
      "c:\\Users\\PC314\\anaconda3\\Lib\\site-packages\\statsforecast\\mfles.py:301: RuntimeWarning: overflow encountered in scalar multiply\n",
      "  slope = (M * x_y_sum - x_sum * y_sum) / (M * x_sq_sum - x_sum**2)\n",
      "c:\\Users\\PC314\\anaconda3\\Lib\\site-packages\\statsforecast\\core.py:494: FutureWarning: In a future version the predictions will have the id as a column. You can set the `NIXTLA_ID_AS_COL` environment variable to adopt the new behavior and to suppress this warning.\n",
      "  warnings.warn(\n",
      "C:\\Users\\PC314\\AppData\\Local\\Temp\\ipykernel_17148\\2310296225.py:49: UserWarning: Skipping seasonality removal: Data is too short for a full seasonal cycle.\n",
      "  warnings.warn(\"Skipping seasonality removal: Data is too short for a full seasonal cycle.\")\n",
      "C:\\Users\\PC314\\AppData\\Local\\Temp\\ipykernel_17148\\2310296225.py:69: UserWarning: Failed to apply Box-Cox transformation: The `x` argument of `boxcox_normmax` must contain only positive, finite, real numbers.\n",
      "  warnings.warn(f\"Failed to apply Box-Cox transformation: {e}\")\n",
      "C:\\Users\\PC314\\AppData\\Local\\Temp\\ipykernel_17148\\3122320333.py:50: SettingWithCopyWarning: \n",
      "A value is trying to be set on a copy of a slice from a DataFrame.\n",
      "Try using .loc[row_indexer,col_indexer] = value instead\n",
      "\n",
      "See the caveats in the documentation: https://pandas.pydata.org/pandas-docs/stable/user_guide/indexing.html#returning-a-view-versus-a-copy\n",
      "  train_df['y'] = series\n"
     ]
    },
    {
     "name": "stdout",
     "output_type": "stream",
     "text": [
      "Best Model for log_trend_seasonality_boxcox_standardize: MSTL_ac_MFLES1 (MAPE: 878.53%)\n",
      "Processing Sensor 2, Scenario: 20M_train\n",
      "Training on transformed version: original\n"
     ]
    },
    {
     "name": "stderr",
     "output_type": "stream",
     "text": [
      "c:\\Users\\PC314\\anaconda3\\Lib\\site-packages\\statsforecast\\core.py:494: FutureWarning: In a future version the predictions will have the id as a column. You can set the `NIXTLA_ID_AS_COL` environment variable to adopt the new behavior and to suppress this warning.\n",
      "  warnings.warn(\n",
      "c:\\Users\\PC314\\anaconda3\\Lib\\site-packages\\statsforecast\\core.py:494: FutureWarning: In a future version the predictions will have the id as a column. You can set the `NIXTLA_ID_AS_COL` environment variable to adopt the new behavior and to suppress this warning.\n",
      "  warnings.warn(\n",
      "c:\\Users\\PC314\\anaconda3\\Lib\\site-packages\\statsforecast\\core.py:494: FutureWarning: In a future version the predictions will have the id as a column. You can set the `NIXTLA_ID_AS_COL` environment variable to adopt the new behavior and to suppress this warning.\n",
      "  warnings.warn(\n",
      "c:\\Users\\PC314\\anaconda3\\Lib\\site-packages\\statsforecast\\mfles.py:301: RuntimeWarning: overflow encountered in scalar multiply\n",
      "  slope = (M * x_y_sum - x_sum * y_sum) / (M * x_sq_sum - x_sum**2)\n",
      "c:\\Users\\PC314\\anaconda3\\Lib\\site-packages\\statsforecast\\mfles.py:301: RuntimeWarning: overflow encountered in scalar subtract\n",
      "  slope = (M * x_y_sum - x_sum * y_sum) / (M * x_sq_sum - x_sum**2)\n",
      "c:\\Users\\PC314\\anaconda3\\Lib\\site-packages\\statsforecast\\core.py:494: FutureWarning: In a future version the predictions will have the id as a column. You can set the `NIXTLA_ID_AS_COL` environment variable to adopt the new behavior and to suppress this warning.\n",
      "  warnings.warn(\n",
      "c:\\Users\\PC314\\anaconda3\\Lib\\site-packages\\statsforecast\\mfles.py:301: RuntimeWarning: overflow encountered in scalar multiply\n",
      "  slope = (M * x_y_sum - x_sum * y_sum) / (M * x_sq_sum - x_sum**2)\n",
      "c:\\Users\\PC314\\anaconda3\\Lib\\site-packages\\statsforecast\\mfles.py:301: RuntimeWarning: overflow encountered in scalar subtract\n",
      "  slope = (M * x_y_sum - x_sum * y_sum) / (M * x_sq_sum - x_sum**2)\n",
      "c:\\Users\\PC314\\anaconda3\\Lib\\site-packages\\statsforecast\\core.py:494: FutureWarning: In a future version the predictions will have the id as a column. You can set the `NIXTLA_ID_AS_COL` environment variable to adopt the new behavior and to suppress this warning.\n",
      "  warnings.warn(\n",
      "c:\\Users\\PC314\\anaconda3\\Lib\\site-packages\\statsforecast\\mfles.py:301: RuntimeWarning: overflow encountered in scalar multiply\n",
      "  slope = (M * x_y_sum - x_sum * y_sum) / (M * x_sq_sum - x_sum**2)\n",
      "c:\\Users\\PC314\\anaconda3\\Lib\\site-packages\\statsforecast\\mfles.py:301: RuntimeWarning: overflow encountered in scalar subtract\n",
      "  slope = (M * x_y_sum - x_sum * y_sum) / (M * x_sq_sum - x_sum**2)\n",
      "c:\\Users\\PC314\\anaconda3\\Lib\\site-packages\\statsforecast\\core.py:494: FutureWarning: In a future version the predictions will have the id as a column. You can set the `NIXTLA_ID_AS_COL` environment variable to adopt the new behavior and to suppress this warning.\n",
      "  warnings.warn(\n",
      "C:\\Users\\PC314\\AppData\\Local\\Temp\\ipykernel_17148\\3122320333.py:50: SettingWithCopyWarning: \n",
      "A value is trying to be set on a copy of a slice from a DataFrame.\n",
      "Try using .loc[row_indexer,col_indexer] = value instead\n",
      "\n",
      "See the caveats in the documentation: https://pandas.pydata.org/pandas-docs/stable/user_guide/indexing.html#returning-a-view-versus-a-copy\n",
      "  train_df['y'] = series\n"
     ]
    },
    {
     "name": "stdout",
     "output_type": "stream",
     "text": [
      "Best Model for original: MSTL_ac_ARIMA (MAPE: 38.71%)\n",
      "Saving model 2_20M_train_original_MSTL_ac_ARIMA_c1edc0b7\n",
      "Training on transformed version: log\n"
     ]
    },
    {
     "name": "stderr",
     "output_type": "stream",
     "text": [
      "c:\\Users\\PC314\\anaconda3\\Lib\\site-packages\\statsforecast\\core.py:494: FutureWarning: In a future version the predictions will have the id as a column. You can set the `NIXTLA_ID_AS_COL` environment variable to adopt the new behavior and to suppress this warning.\n",
      "  warnings.warn(\n",
      "c:\\Users\\PC314\\anaconda3\\Lib\\site-packages\\statsforecast\\core.py:494: FutureWarning: In a future version the predictions will have the id as a column. You can set the `NIXTLA_ID_AS_COL` environment variable to adopt the new behavior and to suppress this warning.\n",
      "  warnings.warn(\n",
      "c:\\Users\\PC314\\anaconda3\\Lib\\site-packages\\statsforecast\\core.py:494: FutureWarning: In a future version the predictions will have the id as a column. You can set the `NIXTLA_ID_AS_COL` environment variable to adopt the new behavior and to suppress this warning.\n",
      "  warnings.warn(\n",
      "c:\\Users\\PC314\\anaconda3\\Lib\\site-packages\\statsforecast\\mfles.py:301: RuntimeWarning: overflow encountered in scalar multiply\n",
      "  slope = (M * x_y_sum - x_sum * y_sum) / (M * x_sq_sum - x_sum**2)\n",
      "c:\\Users\\PC314\\anaconda3\\Lib\\site-packages\\statsforecast\\mfles.py:301: RuntimeWarning: overflow encountered in scalar subtract\n",
      "  slope = (M * x_y_sum - x_sum * y_sum) / (M * x_sq_sum - x_sum**2)\n",
      "c:\\Users\\PC314\\anaconda3\\Lib\\site-packages\\statsforecast\\core.py:494: FutureWarning: In a future version the predictions will have the id as a column. You can set the `NIXTLA_ID_AS_COL` environment variable to adopt the new behavior and to suppress this warning.\n",
      "  warnings.warn(\n",
      "c:\\Users\\PC314\\anaconda3\\Lib\\site-packages\\statsforecast\\mfles.py:301: RuntimeWarning: overflow encountered in scalar multiply\n",
      "  slope = (M * x_y_sum - x_sum * y_sum) / (M * x_sq_sum - x_sum**2)\n",
      "c:\\Users\\PC314\\anaconda3\\Lib\\site-packages\\statsforecast\\mfles.py:301: RuntimeWarning: overflow encountered in scalar subtract\n",
      "  slope = (M * x_y_sum - x_sum * y_sum) / (M * x_sq_sum - x_sum**2)\n",
      "c:\\Users\\PC314\\anaconda3\\Lib\\site-packages\\statsforecast\\core.py:494: FutureWarning: In a future version the predictions will have the id as a column. You can set the `NIXTLA_ID_AS_COL` environment variable to adopt the new behavior and to suppress this warning.\n",
      "  warnings.warn(\n",
      "c:\\Users\\PC314\\anaconda3\\Lib\\site-packages\\statsforecast\\mfles.py:301: RuntimeWarning: overflow encountered in scalar multiply\n",
      "  slope = (M * x_y_sum - x_sum * y_sum) / (M * x_sq_sum - x_sum**2)\n",
      "c:\\Users\\PC314\\anaconda3\\Lib\\site-packages\\statsforecast\\mfles.py:301: RuntimeWarning: overflow encountered in scalar subtract\n",
      "  slope = (M * x_y_sum - x_sum * y_sum) / (M * x_sq_sum - x_sum**2)\n",
      "c:\\Users\\PC314\\anaconda3\\Lib\\site-packages\\statsforecast\\core.py:494: FutureWarning: In a future version the predictions will have the id as a column. You can set the `NIXTLA_ID_AS_COL` environment variable to adopt the new behavior and to suppress this warning.\n",
      "  warnings.warn(\n",
      "C:\\Users\\PC314\\AppData\\Local\\Temp\\ipykernel_17148\\3122320333.py:50: SettingWithCopyWarning: \n",
      "A value is trying to be set on a copy of a slice from a DataFrame.\n",
      "Try using .loc[row_indexer,col_indexer] = value instead\n",
      "\n",
      "See the caveats in the documentation: https://pandas.pydata.org/pandas-docs/stable/user_guide/indexing.html#returning-a-view-versus-a-copy\n",
      "  train_df['y'] = series\n"
     ]
    },
    {
     "name": "stdout",
     "output_type": "stream",
     "text": [
      "Best Model for log: MSTL_ac_MFLES1 (MAPE: 36.22%)\n",
      "Saving model 2_20M_train_log_MSTL_ac_MFLES1_eb65ca8c\n",
      "Training on transformed version: trend\n"
     ]
    },
    {
     "name": "stderr",
     "output_type": "stream",
     "text": [
      "c:\\Users\\PC314\\anaconda3\\Lib\\site-packages\\statsforecast\\core.py:494: FutureWarning: In a future version the predictions will have the id as a column. You can set the `NIXTLA_ID_AS_COL` environment variable to adopt the new behavior and to suppress this warning.\n",
      "  warnings.warn(\n",
      "c:\\Users\\PC314\\anaconda3\\Lib\\site-packages\\statsforecast\\core.py:494: FutureWarning: In a future version the predictions will have the id as a column. You can set the `NIXTLA_ID_AS_COL` environment variable to adopt the new behavior and to suppress this warning.\n",
      "  warnings.warn(\n",
      "c:\\Users\\PC314\\anaconda3\\Lib\\site-packages\\statsforecast\\core.py:494: FutureWarning: In a future version the predictions will have the id as a column. You can set the `NIXTLA_ID_AS_COL` environment variable to adopt the new behavior and to suppress this warning.\n",
      "  warnings.warn(\n",
      "c:\\Users\\PC314\\anaconda3\\Lib\\site-packages\\statsforecast\\core.py:494: FutureWarning: In a future version the predictions will have the id as a column. You can set the `NIXTLA_ID_AS_COL` environment variable to adopt the new behavior and to suppress this warning.\n",
      "  warnings.warn(\n",
      "c:\\Users\\PC314\\anaconda3\\Lib\\site-packages\\statsforecast\\core.py:494: FutureWarning: In a future version the predictions will have the id as a column. You can set the `NIXTLA_ID_AS_COL` environment variable to adopt the new behavior and to suppress this warning.\n",
      "  warnings.warn(\n",
      "c:\\Users\\PC314\\anaconda3\\Lib\\site-packages\\statsforecast\\core.py:494: FutureWarning: In a future version the predictions will have the id as a column. You can set the `NIXTLA_ID_AS_COL` environment variable to adopt the new behavior and to suppress this warning.\n",
      "  warnings.warn(\n",
      "C:\\Users\\PC314\\AppData\\Local\\Temp\\ipykernel_17148\\3122320333.py:50: SettingWithCopyWarning: \n",
      "A value is trying to be set on a copy of a slice from a DataFrame.\n",
      "Try using .loc[row_indexer,col_indexer] = value instead\n",
      "\n",
      "See the caveats in the documentation: https://pandas.pydata.org/pandas-docs/stable/user_guide/indexing.html#returning-a-view-versus-a-copy\n",
      "  train_df['y'] = series\n"
     ]
    },
    {
     "name": "stdout",
     "output_type": "stream",
     "text": [
      "Best Model for trend: MSTL_a_ARIMA (MAPE: 100.84%)\n",
      "Training on transformed version: seasonality\n"
     ]
    },
    {
     "name": "stderr",
     "output_type": "stream",
     "text": [
      "c:\\Users\\PC314\\anaconda3\\Lib\\site-packages\\statsforecast\\core.py:494: FutureWarning: In a future version the predictions will have the id as a column. You can set the `NIXTLA_ID_AS_COL` environment variable to adopt the new behavior and to suppress this warning.\n",
      "  warnings.warn(\n",
      "c:\\Users\\PC314\\anaconda3\\Lib\\site-packages\\statsforecast\\core.py:494: FutureWarning: In a future version the predictions will have the id as a column. You can set the `NIXTLA_ID_AS_COL` environment variable to adopt the new behavior and to suppress this warning.\n",
      "  warnings.warn(\n",
      "c:\\Users\\PC314\\anaconda3\\Lib\\site-packages\\statsforecast\\core.py:494: FutureWarning: In a future version the predictions will have the id as a column. You can set the `NIXTLA_ID_AS_COL` environment variable to adopt the new behavior and to suppress this warning.\n",
      "  warnings.warn(\n",
      "c:\\Users\\PC314\\anaconda3\\Lib\\site-packages\\statsforecast\\mfles.py:301: RuntimeWarning: overflow encountered in scalar multiply\n",
      "  slope = (M * x_y_sum - x_sum * y_sum) / (M * x_sq_sum - x_sum**2)\n",
      "c:\\Users\\PC314\\anaconda3\\Lib\\site-packages\\statsforecast\\mfles.py:301: RuntimeWarning: overflow encountered in scalar subtract\n",
      "  slope = (M * x_y_sum - x_sum * y_sum) / (M * x_sq_sum - x_sum**2)\n",
      "c:\\Users\\PC314\\anaconda3\\Lib\\site-packages\\statsforecast\\core.py:494: FutureWarning: In a future version the predictions will have the id as a column. You can set the `NIXTLA_ID_AS_COL` environment variable to adopt the new behavior and to suppress this warning.\n",
      "  warnings.warn(\n",
      "c:\\Users\\PC314\\anaconda3\\Lib\\site-packages\\statsforecast\\mfles.py:301: RuntimeWarning: overflow encountered in scalar multiply\n",
      "  slope = (M * x_y_sum - x_sum * y_sum) / (M * x_sq_sum - x_sum**2)\n",
      "c:\\Users\\PC314\\anaconda3\\Lib\\site-packages\\statsforecast\\mfles.py:301: RuntimeWarning: overflow encountered in scalar subtract\n",
      "  slope = (M * x_y_sum - x_sum * y_sum) / (M * x_sq_sum - x_sum**2)\n",
      "c:\\Users\\PC314\\anaconda3\\Lib\\site-packages\\statsforecast\\core.py:494: FutureWarning: In a future version the predictions will have the id as a column. You can set the `NIXTLA_ID_AS_COL` environment variable to adopt the new behavior and to suppress this warning.\n",
      "  warnings.warn(\n",
      "c:\\Users\\PC314\\anaconda3\\Lib\\site-packages\\statsforecast\\mfles.py:301: RuntimeWarning: overflow encountered in scalar multiply\n",
      "  slope = (M * x_y_sum - x_sum * y_sum) / (M * x_sq_sum - x_sum**2)\n",
      "c:\\Users\\PC314\\anaconda3\\Lib\\site-packages\\statsforecast\\mfles.py:301: RuntimeWarning: overflow encountered in scalar subtract\n",
      "  slope = (M * x_y_sum - x_sum * y_sum) / (M * x_sq_sum - x_sum**2)\n",
      "c:\\Users\\PC314\\anaconda3\\Lib\\site-packages\\statsforecast\\core.py:494: FutureWarning: In a future version the predictions will have the id as a column. You can set the `NIXTLA_ID_AS_COL` environment variable to adopt the new behavior and to suppress this warning.\n",
      "  warnings.warn(\n",
      "C:\\Users\\PC314\\AppData\\Local\\Temp\\ipykernel_17148\\3122320333.py:50: SettingWithCopyWarning: \n",
      "A value is trying to be set on a copy of a slice from a DataFrame.\n",
      "Try using .loc[row_indexer,col_indexer] = value instead\n",
      "\n",
      "See the caveats in the documentation: https://pandas.pydata.org/pandas-docs/stable/user_guide/indexing.html#returning-a-view-versus-a-copy\n",
      "  train_df['y'] = series\n"
     ]
    },
    {
     "name": "stdout",
     "output_type": "stream",
     "text": [
      "Best Model for seasonality: MSTL_ac_ARIMA (MAPE: 38.71%)\n",
      "Saving model 2_20M_train_seasonality_MSTL_ac_ARIMA_acf2984d\n",
      "Training on transformed version: boxcox\n"
     ]
    },
    {
     "name": "stderr",
     "output_type": "stream",
     "text": [
      "c:\\Users\\PC314\\anaconda3\\Lib\\site-packages\\statsforecast\\core.py:494: FutureWarning: In a future version the predictions will have the id as a column. You can set the `NIXTLA_ID_AS_COL` environment variable to adopt the new behavior and to suppress this warning.\n",
      "  warnings.warn(\n",
      "c:\\Users\\PC314\\anaconda3\\Lib\\site-packages\\statsforecast\\core.py:494: FutureWarning: In a future version the predictions will have the id as a column. You can set the `NIXTLA_ID_AS_COL` environment variable to adopt the new behavior and to suppress this warning.\n",
      "  warnings.warn(\n",
      "c:\\Users\\PC314\\anaconda3\\Lib\\site-packages\\statsforecast\\core.py:494: FutureWarning: In a future version the predictions will have the id as a column. You can set the `NIXTLA_ID_AS_COL` environment variable to adopt the new behavior and to suppress this warning.\n",
      "  warnings.warn(\n",
      "c:\\Users\\PC314\\anaconda3\\Lib\\site-packages\\statsforecast\\mfles.py:301: RuntimeWarning: overflow encountered in scalar multiply\n",
      "  slope = (M * x_y_sum - x_sum * y_sum) / (M * x_sq_sum - x_sum**2)\n",
      "c:\\Users\\PC314\\anaconda3\\Lib\\site-packages\\statsforecast\\mfles.py:301: RuntimeWarning: overflow encountered in scalar subtract\n",
      "  slope = (M * x_y_sum - x_sum * y_sum) / (M * x_sq_sum - x_sum**2)\n",
      "c:\\Users\\PC314\\anaconda3\\Lib\\site-packages\\statsforecast\\core.py:494: FutureWarning: In a future version the predictions will have the id as a column. You can set the `NIXTLA_ID_AS_COL` environment variable to adopt the new behavior and to suppress this warning.\n",
      "  warnings.warn(\n",
      "c:\\Users\\PC314\\anaconda3\\Lib\\site-packages\\statsforecast\\mfles.py:301: RuntimeWarning: overflow encountered in scalar multiply\n",
      "  slope = (M * x_y_sum - x_sum * y_sum) / (M * x_sq_sum - x_sum**2)\n",
      "c:\\Users\\PC314\\anaconda3\\Lib\\site-packages\\statsforecast\\mfles.py:301: RuntimeWarning: overflow encountered in scalar subtract\n",
      "  slope = (M * x_y_sum - x_sum * y_sum) / (M * x_sq_sum - x_sum**2)\n",
      "c:\\Users\\PC314\\anaconda3\\Lib\\site-packages\\statsforecast\\core.py:494: FutureWarning: In a future version the predictions will have the id as a column. You can set the `NIXTLA_ID_AS_COL` environment variable to adopt the new behavior and to suppress this warning.\n",
      "  warnings.warn(\n",
      "c:\\Users\\PC314\\anaconda3\\Lib\\site-packages\\statsforecast\\mfles.py:301: RuntimeWarning: overflow encountered in scalar multiply\n",
      "  slope = (M * x_y_sum - x_sum * y_sum) / (M * x_sq_sum - x_sum**2)\n",
      "c:\\Users\\PC314\\anaconda3\\Lib\\site-packages\\statsforecast\\mfles.py:301: RuntimeWarning: overflow encountered in scalar subtract\n",
      "  slope = (M * x_y_sum - x_sum * y_sum) / (M * x_sq_sum - x_sum**2)\n",
      "c:\\Users\\PC314\\anaconda3\\Lib\\site-packages\\statsforecast\\core.py:494: FutureWarning: In a future version the predictions will have the id as a column. You can set the `NIXTLA_ID_AS_COL` environment variable to adopt the new behavior and to suppress this warning.\n",
      "  warnings.warn(\n",
      "C:\\Users\\PC314\\AppData\\Local\\Temp\\ipykernel_17148\\3122320333.py:50: SettingWithCopyWarning: \n",
      "A value is trying to be set on a copy of a slice from a DataFrame.\n",
      "Try using .loc[row_indexer,col_indexer] = value instead\n",
      "\n",
      "See the caveats in the documentation: https://pandas.pydata.org/pandas-docs/stable/user_guide/indexing.html#returning-a-view-versus-a-copy\n",
      "  train_df['y'] = series\n"
     ]
    },
    {
     "name": "stdout",
     "output_type": "stream",
     "text": [
      "Best Model for boxcox: MSTL_ac_MFLES1 (MAPE: 35.89%)\n",
      "Saving model 2_20M_train_boxcox_MSTL_ac_MFLES1_4403391d\n",
      "Training on transformed version: standardize\n"
     ]
    },
    {
     "name": "stderr",
     "output_type": "stream",
     "text": [
      "c:\\Users\\PC314\\anaconda3\\Lib\\site-packages\\statsforecast\\core.py:494: FutureWarning: In a future version the predictions will have the id as a column. You can set the `NIXTLA_ID_AS_COL` environment variable to adopt the new behavior and to suppress this warning.\n",
      "  warnings.warn(\n",
      "c:\\Users\\PC314\\anaconda3\\Lib\\site-packages\\statsforecast\\core.py:494: FutureWarning: In a future version the predictions will have the id as a column. You can set the `NIXTLA_ID_AS_COL` environment variable to adopt the new behavior and to suppress this warning.\n",
      "  warnings.warn(\n",
      "c:\\Users\\PC314\\anaconda3\\Lib\\site-packages\\statsforecast\\core.py:494: FutureWarning: In a future version the predictions will have the id as a column. You can set the `NIXTLA_ID_AS_COL` environment variable to adopt the new behavior and to suppress this warning.\n",
      "  warnings.warn(\n",
      "c:\\Users\\PC314\\anaconda3\\Lib\\site-packages\\statsforecast\\mfles.py:301: RuntimeWarning: overflow encountered in scalar multiply\n",
      "  slope = (M * x_y_sum - x_sum * y_sum) / (M * x_sq_sum - x_sum**2)\n",
      "c:\\Users\\PC314\\anaconda3\\Lib\\site-packages\\statsforecast\\mfles.py:301: RuntimeWarning: overflow encountered in scalar subtract\n",
      "  slope = (M * x_y_sum - x_sum * y_sum) / (M * x_sq_sum - x_sum**2)\n",
      "c:\\Users\\PC314\\anaconda3\\Lib\\site-packages\\statsforecast\\core.py:494: FutureWarning: In a future version the predictions will have the id as a column. You can set the `NIXTLA_ID_AS_COL` environment variable to adopt the new behavior and to suppress this warning.\n",
      "  warnings.warn(\n",
      "c:\\Users\\PC314\\anaconda3\\Lib\\site-packages\\statsforecast\\mfles.py:301: RuntimeWarning: overflow encountered in scalar multiply\n",
      "  slope = (M * x_y_sum - x_sum * y_sum) / (M * x_sq_sum - x_sum**2)\n",
      "c:\\Users\\PC314\\anaconda3\\Lib\\site-packages\\statsforecast\\mfles.py:301: RuntimeWarning: overflow encountered in scalar subtract\n",
      "  slope = (M * x_y_sum - x_sum * y_sum) / (M * x_sq_sum - x_sum**2)\n",
      "c:\\Users\\PC314\\anaconda3\\Lib\\site-packages\\statsforecast\\core.py:494: FutureWarning: In a future version the predictions will have the id as a column. You can set the `NIXTLA_ID_AS_COL` environment variable to adopt the new behavior and to suppress this warning.\n",
      "  warnings.warn(\n",
      "c:\\Users\\PC314\\anaconda3\\Lib\\site-packages\\statsforecast\\mfles.py:301: RuntimeWarning: overflow encountered in scalar multiply\n",
      "  slope = (M * x_y_sum - x_sum * y_sum) / (M * x_sq_sum - x_sum**2)\n",
      "c:\\Users\\PC314\\anaconda3\\Lib\\site-packages\\statsforecast\\mfles.py:301: RuntimeWarning: overflow encountered in scalar subtract\n",
      "  slope = (M * x_y_sum - x_sum * y_sum) / (M * x_sq_sum - x_sum**2)\n",
      "c:\\Users\\PC314\\anaconda3\\Lib\\site-packages\\statsforecast\\core.py:494: FutureWarning: In a future version the predictions will have the id as a column. You can set the `NIXTLA_ID_AS_COL` environment variable to adopt the new behavior and to suppress this warning.\n",
      "  warnings.warn(\n",
      "C:\\Users\\PC314\\AppData\\Local\\Temp\\ipykernel_17148\\3122320333.py:50: SettingWithCopyWarning: \n",
      "A value is trying to be set on a copy of a slice from a DataFrame.\n",
      "Try using .loc[row_indexer,col_indexer] = value instead\n",
      "\n",
      "See the caveats in the documentation: https://pandas.pydata.org/pandas-docs/stable/user_guide/indexing.html#returning-a-view-versus-a-copy\n",
      "  train_df['y'] = series\n"
     ]
    },
    {
     "name": "stdout",
     "output_type": "stream",
     "text": [
      "Best Model for standardize: MSTL_a_ARIMA (MAPE: 99.24%)\n",
      "Training on transformed version: log_trend\n"
     ]
    },
    {
     "name": "stderr",
     "output_type": "stream",
     "text": [
      "c:\\Users\\PC314\\anaconda3\\Lib\\site-packages\\statsforecast\\core.py:494: FutureWarning: In a future version the predictions will have the id as a column. You can set the `NIXTLA_ID_AS_COL` environment variable to adopt the new behavior and to suppress this warning.\n",
      "  warnings.warn(\n",
      "c:\\Users\\PC314\\anaconda3\\Lib\\site-packages\\statsforecast\\core.py:494: FutureWarning: In a future version the predictions will have the id as a column. You can set the `NIXTLA_ID_AS_COL` environment variable to adopt the new behavior and to suppress this warning.\n",
      "  warnings.warn(\n",
      "c:\\Users\\PC314\\anaconda3\\Lib\\site-packages\\statsforecast\\core.py:494: FutureWarning: In a future version the predictions will have the id as a column. You can set the `NIXTLA_ID_AS_COL` environment variable to adopt the new behavior and to suppress this warning.\n",
      "  warnings.warn(\n",
      "c:\\Users\\PC314\\anaconda3\\Lib\\site-packages\\statsforecast\\mfles.py:301: RuntimeWarning: overflow encountered in scalar multiply\n",
      "  slope = (M * x_y_sum - x_sum * y_sum) / (M * x_sq_sum - x_sum**2)\n",
      "c:\\Users\\PC314\\anaconda3\\Lib\\site-packages\\statsforecast\\mfles.py:301: RuntimeWarning: overflow encountered in scalar subtract\n",
      "  slope = (M * x_y_sum - x_sum * y_sum) / (M * x_sq_sum - x_sum**2)\n",
      "c:\\Users\\PC314\\anaconda3\\Lib\\site-packages\\statsforecast\\core.py:494: FutureWarning: In a future version the predictions will have the id as a column. You can set the `NIXTLA_ID_AS_COL` environment variable to adopt the new behavior and to suppress this warning.\n",
      "  warnings.warn(\n",
      "c:\\Users\\PC314\\anaconda3\\Lib\\site-packages\\statsforecast\\mfles.py:301: RuntimeWarning: overflow encountered in scalar multiply\n",
      "  slope = (M * x_y_sum - x_sum * y_sum) / (M * x_sq_sum - x_sum**2)\n",
      "c:\\Users\\PC314\\anaconda3\\Lib\\site-packages\\statsforecast\\mfles.py:301: RuntimeWarning: overflow encountered in scalar subtract\n",
      "  slope = (M * x_y_sum - x_sum * y_sum) / (M * x_sq_sum - x_sum**2)\n",
      "c:\\Users\\PC314\\anaconda3\\Lib\\site-packages\\statsforecast\\core.py:494: FutureWarning: In a future version the predictions will have the id as a column. You can set the `NIXTLA_ID_AS_COL` environment variable to adopt the new behavior and to suppress this warning.\n",
      "  warnings.warn(\n",
      "c:\\Users\\PC314\\anaconda3\\Lib\\site-packages\\statsforecast\\mfles.py:301: RuntimeWarning: overflow encountered in scalar multiply\n",
      "  slope = (M * x_y_sum - x_sum * y_sum) / (M * x_sq_sum - x_sum**2)\n",
      "c:\\Users\\PC314\\anaconda3\\Lib\\site-packages\\statsforecast\\mfles.py:301: RuntimeWarning: overflow encountered in scalar subtract\n",
      "  slope = (M * x_y_sum - x_sum * y_sum) / (M * x_sq_sum - x_sum**2)\n",
      "c:\\Users\\PC314\\anaconda3\\Lib\\site-packages\\statsforecast\\core.py:494: FutureWarning: In a future version the predictions will have the id as a column. You can set the `NIXTLA_ID_AS_COL` environment variable to adopt the new behavior and to suppress this warning.\n",
      "  warnings.warn(\n",
      "C:\\Users\\PC314\\AppData\\Local\\Temp\\ipykernel_17148\\3122320333.py:50: SettingWithCopyWarning: \n",
      "A value is trying to be set on a copy of a slice from a DataFrame.\n",
      "Try using .loc[row_indexer,col_indexer] = value instead\n",
      "\n",
      "See the caveats in the documentation: https://pandas.pydata.org/pandas-docs/stable/user_guide/indexing.html#returning-a-view-versus-a-copy\n",
      "  train_df['y'] = series\n"
     ]
    },
    {
     "name": "stdout",
     "output_type": "stream",
     "text": [
      "Best Model for log_trend: MSTL_a_ARIMA (MAPE: 1211.40%)\n",
      "Training on transformed version: log_seasonality\n"
     ]
    },
    {
     "name": "stderr",
     "output_type": "stream",
     "text": [
      "c:\\Users\\PC314\\anaconda3\\Lib\\site-packages\\statsforecast\\core.py:494: FutureWarning: In a future version the predictions will have the id as a column. You can set the `NIXTLA_ID_AS_COL` environment variable to adopt the new behavior and to suppress this warning.\n",
      "  warnings.warn(\n",
      "c:\\Users\\PC314\\anaconda3\\Lib\\site-packages\\statsforecast\\core.py:494: FutureWarning: In a future version the predictions will have the id as a column. You can set the `NIXTLA_ID_AS_COL` environment variable to adopt the new behavior and to suppress this warning.\n",
      "  warnings.warn(\n",
      "c:\\Users\\PC314\\anaconda3\\Lib\\site-packages\\statsforecast\\core.py:494: FutureWarning: In a future version the predictions will have the id as a column. You can set the `NIXTLA_ID_AS_COL` environment variable to adopt the new behavior and to suppress this warning.\n",
      "  warnings.warn(\n",
      "c:\\Users\\PC314\\anaconda3\\Lib\\site-packages\\statsforecast\\mfles.py:301: RuntimeWarning: overflow encountered in scalar multiply\n",
      "  slope = (M * x_y_sum - x_sum * y_sum) / (M * x_sq_sum - x_sum**2)\n",
      "c:\\Users\\PC314\\anaconda3\\Lib\\site-packages\\statsforecast\\mfles.py:301: RuntimeWarning: overflow encountered in scalar subtract\n",
      "  slope = (M * x_y_sum - x_sum * y_sum) / (M * x_sq_sum - x_sum**2)\n",
      "c:\\Users\\PC314\\anaconda3\\Lib\\site-packages\\statsforecast\\core.py:494: FutureWarning: In a future version the predictions will have the id as a column. You can set the `NIXTLA_ID_AS_COL` environment variable to adopt the new behavior and to suppress this warning.\n",
      "  warnings.warn(\n",
      "c:\\Users\\PC314\\anaconda3\\Lib\\site-packages\\statsforecast\\mfles.py:301: RuntimeWarning: overflow encountered in scalar multiply\n",
      "  slope = (M * x_y_sum - x_sum * y_sum) / (M * x_sq_sum - x_sum**2)\n",
      "c:\\Users\\PC314\\anaconda3\\Lib\\site-packages\\statsforecast\\mfles.py:301: RuntimeWarning: overflow encountered in scalar subtract\n",
      "  slope = (M * x_y_sum - x_sum * y_sum) / (M * x_sq_sum - x_sum**2)\n",
      "c:\\Users\\PC314\\anaconda3\\Lib\\site-packages\\statsforecast\\core.py:494: FutureWarning: In a future version the predictions will have the id as a column. You can set the `NIXTLA_ID_AS_COL` environment variable to adopt the new behavior and to suppress this warning.\n",
      "  warnings.warn(\n",
      "c:\\Users\\PC314\\anaconda3\\Lib\\site-packages\\statsforecast\\mfles.py:301: RuntimeWarning: overflow encountered in scalar multiply\n",
      "  slope = (M * x_y_sum - x_sum * y_sum) / (M * x_sq_sum - x_sum**2)\n",
      "c:\\Users\\PC314\\anaconda3\\Lib\\site-packages\\statsforecast\\mfles.py:301: RuntimeWarning: overflow encountered in scalar subtract\n",
      "  slope = (M * x_y_sum - x_sum * y_sum) / (M * x_sq_sum - x_sum**2)\n",
      "c:\\Users\\PC314\\anaconda3\\Lib\\site-packages\\statsforecast\\core.py:494: FutureWarning: In a future version the predictions will have the id as a column. You can set the `NIXTLA_ID_AS_COL` environment variable to adopt the new behavior and to suppress this warning.\n",
      "  warnings.warn(\n",
      "C:\\Users\\PC314\\AppData\\Local\\Temp\\ipykernel_17148\\3122320333.py:50: SettingWithCopyWarning: \n",
      "A value is trying to be set on a copy of a slice from a DataFrame.\n",
      "Try using .loc[row_indexer,col_indexer] = value instead\n",
      "\n",
      "See the caveats in the documentation: https://pandas.pydata.org/pandas-docs/stable/user_guide/indexing.html#returning-a-view-versus-a-copy\n",
      "  train_df['y'] = series\n"
     ]
    },
    {
     "name": "stdout",
     "output_type": "stream",
     "text": [
      "Best Model for log_seasonality: MSTL_ac_MFLES1 (MAPE: 36.22%)\n",
      "Saving model 2_20M_train_log_seasonality_MSTL_ac_MFLES1_72b4c144\n",
      "Training on transformed version: log_boxcox\n"
     ]
    },
    {
     "name": "stderr",
     "output_type": "stream",
     "text": [
      "c:\\Users\\PC314\\anaconda3\\Lib\\site-packages\\statsforecast\\core.py:494: FutureWarning: In a future version the predictions will have the id as a column. You can set the `NIXTLA_ID_AS_COL` environment variable to adopt the new behavior and to suppress this warning.\n",
      "  warnings.warn(\n",
      "c:\\Users\\PC314\\anaconda3\\Lib\\site-packages\\statsforecast\\core.py:494: FutureWarning: In a future version the predictions will have the id as a column. You can set the `NIXTLA_ID_AS_COL` environment variable to adopt the new behavior and to suppress this warning.\n",
      "  warnings.warn(\n",
      "c:\\Users\\PC314\\anaconda3\\Lib\\site-packages\\statsforecast\\core.py:494: FutureWarning: In a future version the predictions will have the id as a column. You can set the `NIXTLA_ID_AS_COL` environment variable to adopt the new behavior and to suppress this warning.\n",
      "  warnings.warn(\n",
      "c:\\Users\\PC314\\anaconda3\\Lib\\site-packages\\statsforecast\\mfles.py:301: RuntimeWarning: overflow encountered in scalar multiply\n",
      "  slope = (M * x_y_sum - x_sum * y_sum) / (M * x_sq_sum - x_sum**2)\n",
      "c:\\Users\\PC314\\anaconda3\\Lib\\site-packages\\statsforecast\\mfles.py:301: RuntimeWarning: overflow encountered in scalar subtract\n",
      "  slope = (M * x_y_sum - x_sum * y_sum) / (M * x_sq_sum - x_sum**2)\n",
      "c:\\Users\\PC314\\anaconda3\\Lib\\site-packages\\statsforecast\\core.py:494: FutureWarning: In a future version the predictions will have the id as a column. You can set the `NIXTLA_ID_AS_COL` environment variable to adopt the new behavior and to suppress this warning.\n",
      "  warnings.warn(\n",
      "c:\\Users\\PC314\\anaconda3\\Lib\\site-packages\\statsforecast\\mfles.py:301: RuntimeWarning: overflow encountered in scalar multiply\n",
      "  slope = (M * x_y_sum - x_sum * y_sum) / (M * x_sq_sum - x_sum**2)\n",
      "c:\\Users\\PC314\\anaconda3\\Lib\\site-packages\\statsforecast\\mfles.py:301: RuntimeWarning: overflow encountered in scalar subtract\n",
      "  slope = (M * x_y_sum - x_sum * y_sum) / (M * x_sq_sum - x_sum**2)\n",
      "c:\\Users\\PC314\\anaconda3\\Lib\\site-packages\\statsforecast\\core.py:494: FutureWarning: In a future version the predictions will have the id as a column. You can set the `NIXTLA_ID_AS_COL` environment variable to adopt the new behavior and to suppress this warning.\n",
      "  warnings.warn(\n",
      "c:\\Users\\PC314\\anaconda3\\Lib\\site-packages\\statsforecast\\mfles.py:301: RuntimeWarning: overflow encountered in scalar multiply\n",
      "  slope = (M * x_y_sum - x_sum * y_sum) / (M * x_sq_sum - x_sum**2)\n",
      "c:\\Users\\PC314\\anaconda3\\Lib\\site-packages\\statsforecast\\mfles.py:301: RuntimeWarning: overflow encountered in scalar subtract\n",
      "  slope = (M * x_y_sum - x_sum * y_sum) / (M * x_sq_sum - x_sum**2)\n",
      "c:\\Users\\PC314\\anaconda3\\Lib\\site-packages\\statsforecast\\core.py:494: FutureWarning: In a future version the predictions will have the id as a column. You can set the `NIXTLA_ID_AS_COL` environment variable to adopt the new behavior and to suppress this warning.\n",
      "  warnings.warn(\n",
      "C:\\Users\\PC314\\AppData\\Local\\Temp\\ipykernel_17148\\3122320333.py:50: SettingWithCopyWarning: \n",
      "A value is trying to be set on a copy of a slice from a DataFrame.\n",
      "Try using .loc[row_indexer,col_indexer] = value instead\n",
      "\n",
      "See the caveats in the documentation: https://pandas.pydata.org/pandas-docs/stable/user_guide/indexing.html#returning-a-view-versus-a-copy\n",
      "  train_df['y'] = series\n"
     ]
    },
    {
     "name": "stdout",
     "output_type": "stream",
     "text": [
      "Best Model for log_boxcox: MSTL_abc_ARIMA (MAPE: nan%)\n",
      "Training on transformed version: log_standardize\n"
     ]
    },
    {
     "name": "stderr",
     "output_type": "stream",
     "text": [
      "c:\\Users\\PC314\\anaconda3\\Lib\\site-packages\\statsforecast\\core.py:494: FutureWarning: In a future version the predictions will have the id as a column. You can set the `NIXTLA_ID_AS_COL` environment variable to adopt the new behavior and to suppress this warning.\n",
      "  warnings.warn(\n",
      "c:\\Users\\PC314\\anaconda3\\Lib\\site-packages\\statsforecast\\core.py:494: FutureWarning: In a future version the predictions will have the id as a column. You can set the `NIXTLA_ID_AS_COL` environment variable to adopt the new behavior and to suppress this warning.\n",
      "  warnings.warn(\n",
      "c:\\Users\\PC314\\anaconda3\\Lib\\site-packages\\statsforecast\\core.py:494: FutureWarning: In a future version the predictions will have the id as a column. You can set the `NIXTLA_ID_AS_COL` environment variable to adopt the new behavior and to suppress this warning.\n",
      "  warnings.warn(\n",
      "c:\\Users\\PC314\\anaconda3\\Lib\\site-packages\\statsforecast\\mfles.py:301: RuntimeWarning: overflow encountered in scalar multiply\n",
      "  slope = (M * x_y_sum - x_sum * y_sum) / (M * x_sq_sum - x_sum**2)\n",
      "c:\\Users\\PC314\\anaconda3\\Lib\\site-packages\\statsforecast\\mfles.py:301: RuntimeWarning: overflow encountered in scalar subtract\n",
      "  slope = (M * x_y_sum - x_sum * y_sum) / (M * x_sq_sum - x_sum**2)\n",
      "c:\\Users\\PC314\\anaconda3\\Lib\\site-packages\\statsforecast\\core.py:494: FutureWarning: In a future version the predictions will have the id as a column. You can set the `NIXTLA_ID_AS_COL` environment variable to adopt the new behavior and to suppress this warning.\n",
      "  warnings.warn(\n",
      "c:\\Users\\PC314\\anaconda3\\Lib\\site-packages\\statsforecast\\mfles.py:301: RuntimeWarning: overflow encountered in scalar multiply\n",
      "  slope = (M * x_y_sum - x_sum * y_sum) / (M * x_sq_sum - x_sum**2)\n",
      "c:\\Users\\PC314\\anaconda3\\Lib\\site-packages\\statsforecast\\mfles.py:301: RuntimeWarning: overflow encountered in scalar subtract\n",
      "  slope = (M * x_y_sum - x_sum * y_sum) / (M * x_sq_sum - x_sum**2)\n",
      "c:\\Users\\PC314\\anaconda3\\Lib\\site-packages\\statsforecast\\core.py:494: FutureWarning: In a future version the predictions will have the id as a column. You can set the `NIXTLA_ID_AS_COL` environment variable to adopt the new behavior and to suppress this warning.\n",
      "  warnings.warn(\n",
      "c:\\Users\\PC314\\anaconda3\\Lib\\site-packages\\statsforecast\\mfles.py:301: RuntimeWarning: overflow encountered in scalar multiply\n",
      "  slope = (M * x_y_sum - x_sum * y_sum) / (M * x_sq_sum - x_sum**2)\n",
      "c:\\Users\\PC314\\anaconda3\\Lib\\site-packages\\statsforecast\\mfles.py:301: RuntimeWarning: overflow encountered in scalar subtract\n",
      "  slope = (M * x_y_sum - x_sum * y_sum) / (M * x_sq_sum - x_sum**2)\n",
      "c:\\Users\\PC314\\anaconda3\\Lib\\site-packages\\statsforecast\\core.py:494: FutureWarning: In a future version the predictions will have the id as a column. You can set the `NIXTLA_ID_AS_COL` environment variable to adopt the new behavior and to suppress this warning.\n",
      "  warnings.warn(\n",
      "C:\\Users\\PC314\\AppData\\Local\\Temp\\ipykernel_17148\\3122320333.py:50: SettingWithCopyWarning: \n",
      "A value is trying to be set on a copy of a slice from a DataFrame.\n",
      "Try using .loc[row_indexer,col_indexer] = value instead\n",
      "\n",
      "See the caveats in the documentation: https://pandas.pydata.org/pandas-docs/stable/user_guide/indexing.html#returning-a-view-versus-a-copy\n",
      "  train_df['y'] = series\n"
     ]
    },
    {
     "name": "stdout",
     "output_type": "stream",
     "text": [
      "Best Model for log_standardize: MSTL_a_ARIMA (MAPE: 95.74%)\n",
      "Training on transformed version: trend_seasonality\n"
     ]
    },
    {
     "name": "stderr",
     "output_type": "stream",
     "text": [
      "c:\\Users\\PC314\\anaconda3\\Lib\\site-packages\\statsforecast\\core.py:494: FutureWarning: In a future version the predictions will have the id as a column. You can set the `NIXTLA_ID_AS_COL` environment variable to adopt the new behavior and to suppress this warning.\n",
      "  warnings.warn(\n",
      "c:\\Users\\PC314\\anaconda3\\Lib\\site-packages\\statsforecast\\core.py:494: FutureWarning: In a future version the predictions will have the id as a column. You can set the `NIXTLA_ID_AS_COL` environment variable to adopt the new behavior and to suppress this warning.\n",
      "  warnings.warn(\n",
      "c:\\Users\\PC314\\anaconda3\\Lib\\site-packages\\statsforecast\\core.py:494: FutureWarning: In a future version the predictions will have the id as a column. You can set the `NIXTLA_ID_AS_COL` environment variable to adopt the new behavior and to suppress this warning.\n",
      "  warnings.warn(\n",
      "c:\\Users\\PC314\\anaconda3\\Lib\\site-packages\\statsforecast\\core.py:494: FutureWarning: In a future version the predictions will have the id as a column. You can set the `NIXTLA_ID_AS_COL` environment variable to adopt the new behavior and to suppress this warning.\n",
      "  warnings.warn(\n",
      "c:\\Users\\PC314\\anaconda3\\Lib\\site-packages\\statsforecast\\core.py:494: FutureWarning: In a future version the predictions will have the id as a column. You can set the `NIXTLA_ID_AS_COL` environment variable to adopt the new behavior and to suppress this warning.\n",
      "  warnings.warn(\n",
      "c:\\Users\\PC314\\anaconda3\\Lib\\site-packages\\statsforecast\\core.py:494: FutureWarning: In a future version the predictions will have the id as a column. You can set the `NIXTLA_ID_AS_COL` environment variable to adopt the new behavior and to suppress this warning.\n",
      "  warnings.warn(\n",
      "C:\\Users\\PC314\\AppData\\Local\\Temp\\ipykernel_17148\\3122320333.py:50: SettingWithCopyWarning: \n",
      "A value is trying to be set on a copy of a slice from a DataFrame.\n",
      "Try using .loc[row_indexer,col_indexer] = value instead\n",
      "\n",
      "See the caveats in the documentation: https://pandas.pydata.org/pandas-docs/stable/user_guide/indexing.html#returning-a-view-versus-a-copy\n",
      "  train_df['y'] = series\n"
     ]
    },
    {
     "name": "stdout",
     "output_type": "stream",
     "text": [
      "Best Model for trend_seasonality: MSTL_a_ARIMA (MAPE: 100.84%)\n",
      "Training on transformed version: trend_boxcox\n"
     ]
    },
    {
     "name": "stderr",
     "output_type": "stream",
     "text": [
      "c:\\Users\\PC314\\anaconda3\\Lib\\site-packages\\statsforecast\\core.py:494: FutureWarning: In a future version the predictions will have the id as a column. You can set the `NIXTLA_ID_AS_COL` environment variable to adopt the new behavior and to suppress this warning.\n",
      "  warnings.warn(\n",
      "c:\\Users\\PC314\\anaconda3\\Lib\\site-packages\\statsforecast\\core.py:494: FutureWarning: In a future version the predictions will have the id as a column. You can set the `NIXTLA_ID_AS_COL` environment variable to adopt the new behavior and to suppress this warning.\n",
      "  warnings.warn(\n",
      "c:\\Users\\PC314\\anaconda3\\Lib\\site-packages\\statsforecast\\core.py:494: FutureWarning: In a future version the predictions will have the id as a column. You can set the `NIXTLA_ID_AS_COL` environment variable to adopt the new behavior and to suppress this warning.\n",
      "  warnings.warn(\n",
      "c:\\Users\\PC314\\anaconda3\\Lib\\site-packages\\statsforecast\\core.py:494: FutureWarning: In a future version the predictions will have the id as a column. You can set the `NIXTLA_ID_AS_COL` environment variable to adopt the new behavior and to suppress this warning.\n",
      "  warnings.warn(\n",
      "c:\\Users\\PC314\\anaconda3\\Lib\\site-packages\\statsforecast\\core.py:494: FutureWarning: In a future version the predictions will have the id as a column. You can set the `NIXTLA_ID_AS_COL` environment variable to adopt the new behavior and to suppress this warning.\n",
      "  warnings.warn(\n",
      "c:\\Users\\PC314\\anaconda3\\Lib\\site-packages\\statsforecast\\core.py:494: FutureWarning: In a future version the predictions will have the id as a column. You can set the `NIXTLA_ID_AS_COL` environment variable to adopt the new behavior and to suppress this warning.\n",
      "  warnings.warn(\n",
      "C:\\Users\\PC314\\AppData\\Local\\Temp\\ipykernel_17148\\3122320333.py:50: SettingWithCopyWarning: \n",
      "A value is trying to be set on a copy of a slice from a DataFrame.\n",
      "Try using .loc[row_indexer,col_indexer] = value instead\n",
      "\n",
      "See the caveats in the documentation: https://pandas.pydata.org/pandas-docs/stable/user_guide/indexing.html#returning-a-view-versus-a-copy\n",
      "  train_df['y'] = series\n"
     ]
    },
    {
     "name": "stdout",
     "output_type": "stream",
     "text": [
      "Best Model for trend_boxcox: MSTL_a_ARIMA (MAPE: 100.84%)\n",
      "Training on transformed version: trend_standardize\n"
     ]
    },
    {
     "name": "stderr",
     "output_type": "stream",
     "text": [
      "c:\\Users\\PC314\\anaconda3\\Lib\\site-packages\\statsforecast\\core.py:494: FutureWarning: In a future version the predictions will have the id as a column. You can set the `NIXTLA_ID_AS_COL` environment variable to adopt the new behavior and to suppress this warning.\n",
      "  warnings.warn(\n",
      "c:\\Users\\PC314\\anaconda3\\Lib\\site-packages\\statsforecast\\core.py:494: FutureWarning: In a future version the predictions will have the id as a column. You can set the `NIXTLA_ID_AS_COL` environment variable to adopt the new behavior and to suppress this warning.\n",
      "  warnings.warn(\n",
      "c:\\Users\\PC314\\anaconda3\\Lib\\site-packages\\statsforecast\\core.py:494: FutureWarning: In a future version the predictions will have the id as a column. You can set the `NIXTLA_ID_AS_COL` environment variable to adopt the new behavior and to suppress this warning.\n",
      "  warnings.warn(\n",
      "c:\\Users\\PC314\\anaconda3\\Lib\\site-packages\\statsforecast\\core.py:494: FutureWarning: In a future version the predictions will have the id as a column. You can set the `NIXTLA_ID_AS_COL` environment variable to adopt the new behavior and to suppress this warning.\n",
      "  warnings.warn(\n",
      "c:\\Users\\PC314\\anaconda3\\Lib\\site-packages\\statsforecast\\core.py:494: FutureWarning: In a future version the predictions will have the id as a column. You can set the `NIXTLA_ID_AS_COL` environment variable to adopt the new behavior and to suppress this warning.\n",
      "  warnings.warn(\n",
      "c:\\Users\\PC314\\anaconda3\\Lib\\site-packages\\statsforecast\\core.py:494: FutureWarning: In a future version the predictions will have the id as a column. You can set the `NIXTLA_ID_AS_COL` environment variable to adopt the new behavior and to suppress this warning.\n",
      "  warnings.warn(\n",
      "C:\\Users\\PC314\\AppData\\Local\\Temp\\ipykernel_17148\\3122320333.py:50: SettingWithCopyWarning: \n",
      "A value is trying to be set on a copy of a slice from a DataFrame.\n",
      "Try using .loc[row_indexer,col_indexer] = value instead\n",
      "\n",
      "See the caveats in the documentation: https://pandas.pydata.org/pandas-docs/stable/user_guide/indexing.html#returning-a-view-versus-a-copy\n",
      "  train_df['y'] = series\n"
     ]
    },
    {
     "name": "stdout",
     "output_type": "stream",
     "text": [
      "Best Model for trend_standardize: MSTL_ac_MFLES1 (MAPE: 64.04%)\n",
      "Training on transformed version: seasonality_boxcox\n"
     ]
    },
    {
     "name": "stderr",
     "output_type": "stream",
     "text": [
      "c:\\Users\\PC314\\anaconda3\\Lib\\site-packages\\statsforecast\\core.py:494: FutureWarning: In a future version the predictions will have the id as a column. You can set the `NIXTLA_ID_AS_COL` environment variable to adopt the new behavior and to suppress this warning.\n",
      "  warnings.warn(\n",
      "c:\\Users\\PC314\\anaconda3\\Lib\\site-packages\\statsforecast\\core.py:494: FutureWarning: In a future version the predictions will have the id as a column. You can set the `NIXTLA_ID_AS_COL` environment variable to adopt the new behavior and to suppress this warning.\n",
      "  warnings.warn(\n",
      "c:\\Users\\PC314\\anaconda3\\Lib\\site-packages\\statsforecast\\core.py:494: FutureWarning: In a future version the predictions will have the id as a column. You can set the `NIXTLA_ID_AS_COL` environment variable to adopt the new behavior and to suppress this warning.\n",
      "  warnings.warn(\n",
      "c:\\Users\\PC314\\anaconda3\\Lib\\site-packages\\statsforecast\\mfles.py:301: RuntimeWarning: overflow encountered in scalar multiply\n",
      "  slope = (M * x_y_sum - x_sum * y_sum) / (M * x_sq_sum - x_sum**2)\n",
      "c:\\Users\\PC314\\anaconda3\\Lib\\site-packages\\statsforecast\\mfles.py:301: RuntimeWarning: overflow encountered in scalar subtract\n",
      "  slope = (M * x_y_sum - x_sum * y_sum) / (M * x_sq_sum - x_sum**2)\n",
      "c:\\Users\\PC314\\anaconda3\\Lib\\site-packages\\statsforecast\\core.py:494: FutureWarning: In a future version the predictions will have the id as a column. You can set the `NIXTLA_ID_AS_COL` environment variable to adopt the new behavior and to suppress this warning.\n",
      "  warnings.warn(\n",
      "c:\\Users\\PC314\\anaconda3\\Lib\\site-packages\\statsforecast\\mfles.py:301: RuntimeWarning: overflow encountered in scalar multiply\n",
      "  slope = (M * x_y_sum - x_sum * y_sum) / (M * x_sq_sum - x_sum**2)\n",
      "c:\\Users\\PC314\\anaconda3\\Lib\\site-packages\\statsforecast\\mfles.py:301: RuntimeWarning: overflow encountered in scalar subtract\n",
      "  slope = (M * x_y_sum - x_sum * y_sum) / (M * x_sq_sum - x_sum**2)\n",
      "c:\\Users\\PC314\\anaconda3\\Lib\\site-packages\\statsforecast\\core.py:494: FutureWarning: In a future version the predictions will have the id as a column. You can set the `NIXTLA_ID_AS_COL` environment variable to adopt the new behavior and to suppress this warning.\n",
      "  warnings.warn(\n",
      "c:\\Users\\PC314\\anaconda3\\Lib\\site-packages\\statsforecast\\mfles.py:301: RuntimeWarning: overflow encountered in scalar multiply\n",
      "  slope = (M * x_y_sum - x_sum * y_sum) / (M * x_sq_sum - x_sum**2)\n",
      "c:\\Users\\PC314\\anaconda3\\Lib\\site-packages\\statsforecast\\mfles.py:301: RuntimeWarning: overflow encountered in scalar subtract\n",
      "  slope = (M * x_y_sum - x_sum * y_sum) / (M * x_sq_sum - x_sum**2)\n",
      "c:\\Users\\PC314\\anaconda3\\Lib\\site-packages\\statsforecast\\core.py:494: FutureWarning: In a future version the predictions will have the id as a column. You can set the `NIXTLA_ID_AS_COL` environment variable to adopt the new behavior and to suppress this warning.\n",
      "  warnings.warn(\n",
      "C:\\Users\\PC314\\AppData\\Local\\Temp\\ipykernel_17148\\3122320333.py:50: SettingWithCopyWarning: \n",
      "A value is trying to be set on a copy of a slice from a DataFrame.\n",
      "Try using .loc[row_indexer,col_indexer] = value instead\n",
      "\n",
      "See the caveats in the documentation: https://pandas.pydata.org/pandas-docs/stable/user_guide/indexing.html#returning-a-view-versus-a-copy\n",
      "  train_df['y'] = series\n"
     ]
    },
    {
     "name": "stdout",
     "output_type": "stream",
     "text": [
      "Best Model for seasonality_boxcox: MSTL_ac_MFLES1 (MAPE: 35.89%)\n",
      "Saving model 2_20M_train_seasonality_boxcox_MSTL_ac_MFLES1_b1b0b5f7\n",
      "Training on transformed version: seasonality_standardize\n"
     ]
    },
    {
     "name": "stderr",
     "output_type": "stream",
     "text": [
      "c:\\Users\\PC314\\anaconda3\\Lib\\site-packages\\statsforecast\\core.py:494: FutureWarning: In a future version the predictions will have the id as a column. You can set the `NIXTLA_ID_AS_COL` environment variable to adopt the new behavior and to suppress this warning.\n",
      "  warnings.warn(\n",
      "c:\\Users\\PC314\\anaconda3\\Lib\\site-packages\\statsforecast\\core.py:494: FutureWarning: In a future version the predictions will have the id as a column. You can set the `NIXTLA_ID_AS_COL` environment variable to adopt the new behavior and to suppress this warning.\n",
      "  warnings.warn(\n",
      "c:\\Users\\PC314\\anaconda3\\Lib\\site-packages\\statsforecast\\core.py:494: FutureWarning: In a future version the predictions will have the id as a column. You can set the `NIXTLA_ID_AS_COL` environment variable to adopt the new behavior and to suppress this warning.\n",
      "  warnings.warn(\n",
      "c:\\Users\\PC314\\anaconda3\\Lib\\site-packages\\statsforecast\\mfles.py:301: RuntimeWarning: overflow encountered in scalar multiply\n",
      "  slope = (M * x_y_sum - x_sum * y_sum) / (M * x_sq_sum - x_sum**2)\n",
      "c:\\Users\\PC314\\anaconda3\\Lib\\site-packages\\statsforecast\\mfles.py:301: RuntimeWarning: overflow encountered in scalar subtract\n",
      "  slope = (M * x_y_sum - x_sum * y_sum) / (M * x_sq_sum - x_sum**2)\n",
      "c:\\Users\\PC314\\anaconda3\\Lib\\site-packages\\statsforecast\\core.py:494: FutureWarning: In a future version the predictions will have the id as a column. You can set the `NIXTLA_ID_AS_COL` environment variable to adopt the new behavior and to suppress this warning.\n",
      "  warnings.warn(\n",
      "c:\\Users\\PC314\\anaconda3\\Lib\\site-packages\\statsforecast\\mfles.py:301: RuntimeWarning: overflow encountered in scalar multiply\n",
      "  slope = (M * x_y_sum - x_sum * y_sum) / (M * x_sq_sum - x_sum**2)\n",
      "c:\\Users\\PC314\\anaconda3\\Lib\\site-packages\\statsforecast\\mfles.py:301: RuntimeWarning: overflow encountered in scalar subtract\n",
      "  slope = (M * x_y_sum - x_sum * y_sum) / (M * x_sq_sum - x_sum**2)\n",
      "c:\\Users\\PC314\\anaconda3\\Lib\\site-packages\\statsforecast\\core.py:494: FutureWarning: In a future version the predictions will have the id as a column. You can set the `NIXTLA_ID_AS_COL` environment variable to adopt the new behavior and to suppress this warning.\n",
      "  warnings.warn(\n",
      "c:\\Users\\PC314\\anaconda3\\Lib\\site-packages\\statsforecast\\mfles.py:301: RuntimeWarning: overflow encountered in scalar multiply\n",
      "  slope = (M * x_y_sum - x_sum * y_sum) / (M * x_sq_sum - x_sum**2)\n",
      "c:\\Users\\PC314\\anaconda3\\Lib\\site-packages\\statsforecast\\mfles.py:301: RuntimeWarning: overflow encountered in scalar subtract\n",
      "  slope = (M * x_y_sum - x_sum * y_sum) / (M * x_sq_sum - x_sum**2)\n",
      "c:\\Users\\PC314\\anaconda3\\Lib\\site-packages\\statsforecast\\core.py:494: FutureWarning: In a future version the predictions will have the id as a column. You can set the `NIXTLA_ID_AS_COL` environment variable to adopt the new behavior and to suppress this warning.\n",
      "  warnings.warn(\n",
      "C:\\Users\\PC314\\AppData\\Local\\Temp\\ipykernel_17148\\3122320333.py:50: SettingWithCopyWarning: \n",
      "A value is trying to be set on a copy of a slice from a DataFrame.\n",
      "Try using .loc[row_indexer,col_indexer] = value instead\n",
      "\n",
      "See the caveats in the documentation: https://pandas.pydata.org/pandas-docs/stable/user_guide/indexing.html#returning-a-view-versus-a-copy\n",
      "  train_df['y'] = series\n"
     ]
    },
    {
     "name": "stdout",
     "output_type": "stream",
     "text": [
      "Best Model for seasonality_standardize: MSTL_a_ARIMA (MAPE: 99.24%)\n",
      "Training on transformed version: boxcox_standardize\n"
     ]
    },
    {
     "name": "stderr",
     "output_type": "stream",
     "text": [
      "c:\\Users\\PC314\\anaconda3\\Lib\\site-packages\\statsforecast\\core.py:494: FutureWarning: In a future version the predictions will have the id as a column. You can set the `NIXTLA_ID_AS_COL` environment variable to adopt the new behavior and to suppress this warning.\n",
      "  warnings.warn(\n",
      "c:\\Users\\PC314\\anaconda3\\Lib\\site-packages\\statsforecast\\core.py:494: FutureWarning: In a future version the predictions will have the id as a column. You can set the `NIXTLA_ID_AS_COL` environment variable to adopt the new behavior and to suppress this warning.\n",
      "  warnings.warn(\n",
      "c:\\Users\\PC314\\anaconda3\\Lib\\site-packages\\statsforecast\\core.py:494: FutureWarning: In a future version the predictions will have the id as a column. You can set the `NIXTLA_ID_AS_COL` environment variable to adopt the new behavior and to suppress this warning.\n",
      "  warnings.warn(\n",
      "c:\\Users\\PC314\\anaconda3\\Lib\\site-packages\\statsforecast\\mfles.py:301: RuntimeWarning: overflow encountered in scalar multiply\n",
      "  slope = (M * x_y_sum - x_sum * y_sum) / (M * x_sq_sum - x_sum**2)\n",
      "c:\\Users\\PC314\\anaconda3\\Lib\\site-packages\\statsforecast\\mfles.py:301: RuntimeWarning: overflow encountered in scalar subtract\n",
      "  slope = (M * x_y_sum - x_sum * y_sum) / (M * x_sq_sum - x_sum**2)\n",
      "c:\\Users\\PC314\\anaconda3\\Lib\\site-packages\\statsforecast\\core.py:494: FutureWarning: In a future version the predictions will have the id as a column. You can set the `NIXTLA_ID_AS_COL` environment variable to adopt the new behavior and to suppress this warning.\n",
      "  warnings.warn(\n",
      "c:\\Users\\PC314\\anaconda3\\Lib\\site-packages\\statsforecast\\mfles.py:301: RuntimeWarning: overflow encountered in scalar multiply\n",
      "  slope = (M * x_y_sum - x_sum * y_sum) / (M * x_sq_sum - x_sum**2)\n",
      "c:\\Users\\PC314\\anaconda3\\Lib\\site-packages\\statsforecast\\mfles.py:301: RuntimeWarning: overflow encountered in scalar subtract\n",
      "  slope = (M * x_y_sum - x_sum * y_sum) / (M * x_sq_sum - x_sum**2)\n",
      "c:\\Users\\PC314\\anaconda3\\Lib\\site-packages\\statsforecast\\core.py:494: FutureWarning: In a future version the predictions will have the id as a column. You can set the `NIXTLA_ID_AS_COL` environment variable to adopt the new behavior and to suppress this warning.\n",
      "  warnings.warn(\n",
      "c:\\Users\\PC314\\anaconda3\\Lib\\site-packages\\statsforecast\\mfles.py:301: RuntimeWarning: overflow encountered in scalar multiply\n",
      "  slope = (M * x_y_sum - x_sum * y_sum) / (M * x_sq_sum - x_sum**2)\n",
      "c:\\Users\\PC314\\anaconda3\\Lib\\site-packages\\statsforecast\\mfles.py:301: RuntimeWarning: overflow encountered in scalar subtract\n",
      "  slope = (M * x_y_sum - x_sum * y_sum) / (M * x_sq_sum - x_sum**2)\n",
      "c:\\Users\\PC314\\anaconda3\\Lib\\site-packages\\statsforecast\\core.py:494: FutureWarning: In a future version the predictions will have the id as a column. You can set the `NIXTLA_ID_AS_COL` environment variable to adopt the new behavior and to suppress this warning.\n",
      "  warnings.warn(\n",
      "C:\\Users\\PC314\\AppData\\Local\\Temp\\ipykernel_17148\\3122320333.py:50: SettingWithCopyWarning: \n",
      "A value is trying to be set on a copy of a slice from a DataFrame.\n",
      "Try using .loc[row_indexer,col_indexer] = value instead\n",
      "\n",
      "See the caveats in the documentation: https://pandas.pydata.org/pandas-docs/stable/user_guide/indexing.html#returning-a-view-versus-a-copy\n",
      "  train_df['y'] = series\n"
     ]
    },
    {
     "name": "stdout",
     "output_type": "stream",
     "text": [
      "Best Model for boxcox_standardize: MSTL_a_ARIMA (MAPE: 98.80%)\n",
      "Training on transformed version: log_trend_seasonality\n"
     ]
    },
    {
     "name": "stderr",
     "output_type": "stream",
     "text": [
      "c:\\Users\\PC314\\anaconda3\\Lib\\site-packages\\statsforecast\\core.py:494: FutureWarning: In a future version the predictions will have the id as a column. You can set the `NIXTLA_ID_AS_COL` environment variable to adopt the new behavior and to suppress this warning.\n",
      "  warnings.warn(\n",
      "c:\\Users\\PC314\\anaconda3\\Lib\\site-packages\\statsforecast\\core.py:494: FutureWarning: In a future version the predictions will have the id as a column. You can set the `NIXTLA_ID_AS_COL` environment variable to adopt the new behavior and to suppress this warning.\n",
      "  warnings.warn(\n",
      "c:\\Users\\PC314\\anaconda3\\Lib\\site-packages\\statsforecast\\core.py:494: FutureWarning: In a future version the predictions will have the id as a column. You can set the `NIXTLA_ID_AS_COL` environment variable to adopt the new behavior and to suppress this warning.\n",
      "  warnings.warn(\n",
      "c:\\Users\\PC314\\anaconda3\\Lib\\site-packages\\statsforecast\\mfles.py:301: RuntimeWarning: overflow encountered in scalar multiply\n",
      "  slope = (M * x_y_sum - x_sum * y_sum) / (M * x_sq_sum - x_sum**2)\n",
      "c:\\Users\\PC314\\anaconda3\\Lib\\site-packages\\statsforecast\\mfles.py:301: RuntimeWarning: overflow encountered in scalar subtract\n",
      "  slope = (M * x_y_sum - x_sum * y_sum) / (M * x_sq_sum - x_sum**2)\n",
      "c:\\Users\\PC314\\anaconda3\\Lib\\site-packages\\statsforecast\\core.py:494: FutureWarning: In a future version the predictions will have the id as a column. You can set the `NIXTLA_ID_AS_COL` environment variable to adopt the new behavior and to suppress this warning.\n",
      "  warnings.warn(\n",
      "c:\\Users\\PC314\\anaconda3\\Lib\\site-packages\\statsforecast\\mfles.py:301: RuntimeWarning: overflow encountered in scalar multiply\n",
      "  slope = (M * x_y_sum - x_sum * y_sum) / (M * x_sq_sum - x_sum**2)\n",
      "c:\\Users\\PC314\\anaconda3\\Lib\\site-packages\\statsforecast\\mfles.py:301: RuntimeWarning: overflow encountered in scalar subtract\n",
      "  slope = (M * x_y_sum - x_sum * y_sum) / (M * x_sq_sum - x_sum**2)\n",
      "c:\\Users\\PC314\\anaconda3\\Lib\\site-packages\\statsforecast\\core.py:494: FutureWarning: In a future version the predictions will have the id as a column. You can set the `NIXTLA_ID_AS_COL` environment variable to adopt the new behavior and to suppress this warning.\n",
      "  warnings.warn(\n",
      "c:\\Users\\PC314\\anaconda3\\Lib\\site-packages\\statsforecast\\mfles.py:301: RuntimeWarning: overflow encountered in scalar multiply\n",
      "  slope = (M * x_y_sum - x_sum * y_sum) / (M * x_sq_sum - x_sum**2)\n",
      "c:\\Users\\PC314\\anaconda3\\Lib\\site-packages\\statsforecast\\mfles.py:301: RuntimeWarning: overflow encountered in scalar subtract\n",
      "  slope = (M * x_y_sum - x_sum * y_sum) / (M * x_sq_sum - x_sum**2)\n",
      "c:\\Users\\PC314\\anaconda3\\Lib\\site-packages\\statsforecast\\core.py:494: FutureWarning: In a future version the predictions will have the id as a column. You can set the `NIXTLA_ID_AS_COL` environment variable to adopt the new behavior and to suppress this warning.\n",
      "  warnings.warn(\n",
      "C:\\Users\\PC314\\AppData\\Local\\Temp\\ipykernel_17148\\3122320333.py:50: SettingWithCopyWarning: \n",
      "A value is trying to be set on a copy of a slice from a DataFrame.\n",
      "Try using .loc[row_indexer,col_indexer] = value instead\n",
      "\n",
      "See the caveats in the documentation: https://pandas.pydata.org/pandas-docs/stable/user_guide/indexing.html#returning-a-view-versus-a-copy\n",
      "  train_df['y'] = series\n"
     ]
    },
    {
     "name": "stdout",
     "output_type": "stream",
     "text": [
      "Best Model for log_trend_seasonality: MSTL_a_ARIMA (MAPE: 1211.40%)\n",
      "Training on transformed version: log_trend_boxcox\n"
     ]
    },
    {
     "name": "stderr",
     "output_type": "stream",
     "text": [
      "c:\\Users\\PC314\\anaconda3\\Lib\\site-packages\\statsforecast\\core.py:494: FutureWarning: In a future version the predictions will have the id as a column. You can set the `NIXTLA_ID_AS_COL` environment variable to adopt the new behavior and to suppress this warning.\n",
      "  warnings.warn(\n",
      "c:\\Users\\PC314\\anaconda3\\Lib\\site-packages\\statsforecast\\core.py:494: FutureWarning: In a future version the predictions will have the id as a column. You can set the `NIXTLA_ID_AS_COL` environment variable to adopt the new behavior and to suppress this warning.\n",
      "  warnings.warn(\n",
      "c:\\Users\\PC314\\anaconda3\\Lib\\site-packages\\statsforecast\\core.py:494: FutureWarning: In a future version the predictions will have the id as a column. You can set the `NIXTLA_ID_AS_COL` environment variable to adopt the new behavior and to suppress this warning.\n",
      "  warnings.warn(\n",
      "c:\\Users\\PC314\\anaconda3\\Lib\\site-packages\\statsforecast\\mfles.py:301: RuntimeWarning: overflow encountered in scalar multiply\n",
      "  slope = (M * x_y_sum - x_sum * y_sum) / (M * x_sq_sum - x_sum**2)\n",
      "c:\\Users\\PC314\\anaconda3\\Lib\\site-packages\\statsforecast\\mfles.py:301: RuntimeWarning: overflow encountered in scalar subtract\n",
      "  slope = (M * x_y_sum - x_sum * y_sum) / (M * x_sq_sum - x_sum**2)\n",
      "c:\\Users\\PC314\\anaconda3\\Lib\\site-packages\\statsforecast\\core.py:494: FutureWarning: In a future version the predictions will have the id as a column. You can set the `NIXTLA_ID_AS_COL` environment variable to adopt the new behavior and to suppress this warning.\n",
      "  warnings.warn(\n",
      "c:\\Users\\PC314\\anaconda3\\Lib\\site-packages\\statsforecast\\mfles.py:301: RuntimeWarning: overflow encountered in scalar multiply\n",
      "  slope = (M * x_y_sum - x_sum * y_sum) / (M * x_sq_sum - x_sum**2)\n",
      "c:\\Users\\PC314\\anaconda3\\Lib\\site-packages\\statsforecast\\mfles.py:301: RuntimeWarning: overflow encountered in scalar subtract\n",
      "  slope = (M * x_y_sum - x_sum * y_sum) / (M * x_sq_sum - x_sum**2)\n",
      "c:\\Users\\PC314\\anaconda3\\Lib\\site-packages\\statsforecast\\core.py:494: FutureWarning: In a future version the predictions will have the id as a column. You can set the `NIXTLA_ID_AS_COL` environment variable to adopt the new behavior and to suppress this warning.\n",
      "  warnings.warn(\n",
      "c:\\Users\\PC314\\anaconda3\\Lib\\site-packages\\statsforecast\\mfles.py:301: RuntimeWarning: overflow encountered in scalar multiply\n",
      "  slope = (M * x_y_sum - x_sum * y_sum) / (M * x_sq_sum - x_sum**2)\n",
      "c:\\Users\\PC314\\anaconda3\\Lib\\site-packages\\statsforecast\\mfles.py:301: RuntimeWarning: overflow encountered in scalar subtract\n",
      "  slope = (M * x_y_sum - x_sum * y_sum) / (M * x_sq_sum - x_sum**2)\n",
      "c:\\Users\\PC314\\anaconda3\\Lib\\site-packages\\statsforecast\\core.py:494: FutureWarning: In a future version the predictions will have the id as a column. You can set the `NIXTLA_ID_AS_COL` environment variable to adopt the new behavior and to suppress this warning.\n",
      "  warnings.warn(\n",
      "C:\\Users\\PC314\\AppData\\Local\\Temp\\ipykernel_17148\\3122320333.py:50: SettingWithCopyWarning: \n",
      "A value is trying to be set on a copy of a slice from a DataFrame.\n",
      "Try using .loc[row_indexer,col_indexer] = value instead\n",
      "\n",
      "See the caveats in the documentation: https://pandas.pydata.org/pandas-docs/stable/user_guide/indexing.html#returning-a-view-versus-a-copy\n",
      "  train_df['y'] = series\n"
     ]
    },
    {
     "name": "stdout",
     "output_type": "stream",
     "text": [
      "Best Model for log_trend_boxcox: MSTL_a_ARIMA (MAPE: 1211.40%)\n",
      "Training on transformed version: log_trend_standardize\n"
     ]
    },
    {
     "name": "stderr",
     "output_type": "stream",
     "text": [
      "c:\\Users\\PC314\\anaconda3\\Lib\\site-packages\\statsforecast\\core.py:494: FutureWarning: In a future version the predictions will have the id as a column. You can set the `NIXTLA_ID_AS_COL` environment variable to adopt the new behavior and to suppress this warning.\n",
      "  warnings.warn(\n",
      "c:\\Users\\PC314\\anaconda3\\Lib\\site-packages\\statsforecast\\core.py:494: FutureWarning: In a future version the predictions will have the id as a column. You can set the `NIXTLA_ID_AS_COL` environment variable to adopt the new behavior and to suppress this warning.\n",
      "  warnings.warn(\n",
      "c:\\Users\\PC314\\anaconda3\\Lib\\site-packages\\statsforecast\\core.py:494: FutureWarning: In a future version the predictions will have the id as a column. You can set the `NIXTLA_ID_AS_COL` environment variable to adopt the new behavior and to suppress this warning.\n",
      "  warnings.warn(\n",
      "c:\\Users\\PC314\\anaconda3\\Lib\\site-packages\\statsforecast\\mfles.py:301: RuntimeWarning: overflow encountered in scalar multiply\n",
      "  slope = (M * x_y_sum - x_sum * y_sum) / (M * x_sq_sum - x_sum**2)\n",
      "c:\\Users\\PC314\\anaconda3\\Lib\\site-packages\\statsforecast\\mfles.py:301: RuntimeWarning: overflow encountered in scalar subtract\n",
      "  slope = (M * x_y_sum - x_sum * y_sum) / (M * x_sq_sum - x_sum**2)\n",
      "c:\\Users\\PC314\\anaconda3\\Lib\\site-packages\\statsforecast\\core.py:494: FutureWarning: In a future version the predictions will have the id as a column. You can set the `NIXTLA_ID_AS_COL` environment variable to adopt the new behavior and to suppress this warning.\n",
      "  warnings.warn(\n",
      "c:\\Users\\PC314\\anaconda3\\Lib\\site-packages\\statsforecast\\mfles.py:301: RuntimeWarning: overflow encountered in scalar multiply\n",
      "  slope = (M * x_y_sum - x_sum * y_sum) / (M * x_sq_sum - x_sum**2)\n",
      "c:\\Users\\PC314\\anaconda3\\Lib\\site-packages\\statsforecast\\mfles.py:301: RuntimeWarning: overflow encountered in scalar subtract\n",
      "  slope = (M * x_y_sum - x_sum * y_sum) / (M * x_sq_sum - x_sum**2)\n",
      "c:\\Users\\PC314\\anaconda3\\Lib\\site-packages\\statsforecast\\core.py:494: FutureWarning: In a future version the predictions will have the id as a column. You can set the `NIXTLA_ID_AS_COL` environment variable to adopt the new behavior and to suppress this warning.\n",
      "  warnings.warn(\n",
      "c:\\Users\\PC314\\anaconda3\\Lib\\site-packages\\statsforecast\\mfles.py:301: RuntimeWarning: overflow encountered in scalar multiply\n",
      "  slope = (M * x_y_sum - x_sum * y_sum) / (M * x_sq_sum - x_sum**2)\n",
      "c:\\Users\\PC314\\anaconda3\\Lib\\site-packages\\statsforecast\\mfles.py:301: RuntimeWarning: overflow encountered in scalar subtract\n",
      "  slope = (M * x_y_sum - x_sum * y_sum) / (M * x_sq_sum - x_sum**2)\n",
      "c:\\Users\\PC314\\anaconda3\\Lib\\site-packages\\statsforecast\\core.py:494: FutureWarning: In a future version the predictions will have the id as a column. You can set the `NIXTLA_ID_AS_COL` environment variable to adopt the new behavior and to suppress this warning.\n",
      "  warnings.warn(\n",
      "C:\\Users\\PC314\\AppData\\Local\\Temp\\ipykernel_17148\\3122320333.py:50: SettingWithCopyWarning: \n",
      "A value is trying to be set on a copy of a slice from a DataFrame.\n",
      "Try using .loc[row_indexer,col_indexer] = value instead\n",
      "\n",
      "See the caveats in the documentation: https://pandas.pydata.org/pandas-docs/stable/user_guide/indexing.html#returning-a-view-versus-a-copy\n",
      "  train_df['y'] = series\n"
     ]
    },
    {
     "name": "stdout",
     "output_type": "stream",
     "text": [
      "Best Model for log_trend_standardize: MSTL_a_ARIMA (MAPE: 1212.54%)\n",
      "Training on transformed version: log_seasonality_boxcox\n"
     ]
    },
    {
     "name": "stderr",
     "output_type": "stream",
     "text": [
      "c:\\Users\\PC314\\anaconda3\\Lib\\site-packages\\statsforecast\\core.py:494: FutureWarning: In a future version the predictions will have the id as a column. You can set the `NIXTLA_ID_AS_COL` environment variable to adopt the new behavior and to suppress this warning.\n",
      "  warnings.warn(\n",
      "c:\\Users\\PC314\\anaconda3\\Lib\\site-packages\\statsforecast\\core.py:494: FutureWarning: In a future version the predictions will have the id as a column. You can set the `NIXTLA_ID_AS_COL` environment variable to adopt the new behavior and to suppress this warning.\n",
      "  warnings.warn(\n",
      "c:\\Users\\PC314\\anaconda3\\Lib\\site-packages\\statsforecast\\core.py:494: FutureWarning: In a future version the predictions will have the id as a column. You can set the `NIXTLA_ID_AS_COL` environment variable to adopt the new behavior and to suppress this warning.\n",
      "  warnings.warn(\n",
      "c:\\Users\\PC314\\anaconda3\\Lib\\site-packages\\statsforecast\\mfles.py:301: RuntimeWarning: overflow encountered in scalar multiply\n",
      "  slope = (M * x_y_sum - x_sum * y_sum) / (M * x_sq_sum - x_sum**2)\n",
      "c:\\Users\\PC314\\anaconda3\\Lib\\site-packages\\statsforecast\\mfles.py:301: RuntimeWarning: overflow encountered in scalar subtract\n",
      "  slope = (M * x_y_sum - x_sum * y_sum) / (M * x_sq_sum - x_sum**2)\n",
      "c:\\Users\\PC314\\anaconda3\\Lib\\site-packages\\statsforecast\\core.py:494: FutureWarning: In a future version the predictions will have the id as a column. You can set the `NIXTLA_ID_AS_COL` environment variable to adopt the new behavior and to suppress this warning.\n",
      "  warnings.warn(\n",
      "c:\\Users\\PC314\\anaconda3\\Lib\\site-packages\\statsforecast\\mfles.py:301: RuntimeWarning: overflow encountered in scalar multiply\n",
      "  slope = (M * x_y_sum - x_sum * y_sum) / (M * x_sq_sum - x_sum**2)\n",
      "c:\\Users\\PC314\\anaconda3\\Lib\\site-packages\\statsforecast\\mfles.py:301: RuntimeWarning: overflow encountered in scalar subtract\n",
      "  slope = (M * x_y_sum - x_sum * y_sum) / (M * x_sq_sum - x_sum**2)\n",
      "c:\\Users\\PC314\\anaconda3\\Lib\\site-packages\\statsforecast\\core.py:494: FutureWarning: In a future version the predictions will have the id as a column. You can set the `NIXTLA_ID_AS_COL` environment variable to adopt the new behavior and to suppress this warning.\n",
      "  warnings.warn(\n",
      "c:\\Users\\PC314\\anaconda3\\Lib\\site-packages\\statsforecast\\mfles.py:301: RuntimeWarning: overflow encountered in scalar multiply\n",
      "  slope = (M * x_y_sum - x_sum * y_sum) / (M * x_sq_sum - x_sum**2)\n",
      "c:\\Users\\PC314\\anaconda3\\Lib\\site-packages\\statsforecast\\mfles.py:301: RuntimeWarning: overflow encountered in scalar subtract\n",
      "  slope = (M * x_y_sum - x_sum * y_sum) / (M * x_sq_sum - x_sum**2)\n",
      "c:\\Users\\PC314\\anaconda3\\Lib\\site-packages\\statsforecast\\core.py:494: FutureWarning: In a future version the predictions will have the id as a column. You can set the `NIXTLA_ID_AS_COL` environment variable to adopt the new behavior and to suppress this warning.\n",
      "  warnings.warn(\n",
      "C:\\Users\\PC314\\AppData\\Local\\Temp\\ipykernel_17148\\3122320333.py:50: SettingWithCopyWarning: \n",
      "A value is trying to be set on a copy of a slice from a DataFrame.\n",
      "Try using .loc[row_indexer,col_indexer] = value instead\n",
      "\n",
      "See the caveats in the documentation: https://pandas.pydata.org/pandas-docs/stable/user_guide/indexing.html#returning-a-view-versus-a-copy\n",
      "  train_df['y'] = series\n"
     ]
    },
    {
     "name": "stdout",
     "output_type": "stream",
     "text": [
      "Best Model for log_seasonality_boxcox: MSTL_abc_ARIMA (MAPE: nan%)\n",
      "Training on transformed version: log_seasonality_standardize\n"
     ]
    },
    {
     "name": "stderr",
     "output_type": "stream",
     "text": [
      "c:\\Users\\PC314\\anaconda3\\Lib\\site-packages\\statsforecast\\core.py:494: FutureWarning: In a future version the predictions will have the id as a column. You can set the `NIXTLA_ID_AS_COL` environment variable to adopt the new behavior and to suppress this warning.\n",
      "  warnings.warn(\n",
      "c:\\Users\\PC314\\anaconda3\\Lib\\site-packages\\statsforecast\\core.py:494: FutureWarning: In a future version the predictions will have the id as a column. You can set the `NIXTLA_ID_AS_COL` environment variable to adopt the new behavior and to suppress this warning.\n",
      "  warnings.warn(\n",
      "c:\\Users\\PC314\\anaconda3\\Lib\\site-packages\\statsforecast\\core.py:494: FutureWarning: In a future version the predictions will have the id as a column. You can set the `NIXTLA_ID_AS_COL` environment variable to adopt the new behavior and to suppress this warning.\n",
      "  warnings.warn(\n",
      "c:\\Users\\PC314\\anaconda3\\Lib\\site-packages\\statsforecast\\mfles.py:301: RuntimeWarning: overflow encountered in scalar multiply\n",
      "  slope = (M * x_y_sum - x_sum * y_sum) / (M * x_sq_sum - x_sum**2)\n",
      "c:\\Users\\PC314\\anaconda3\\Lib\\site-packages\\statsforecast\\mfles.py:301: RuntimeWarning: overflow encountered in scalar subtract\n",
      "  slope = (M * x_y_sum - x_sum * y_sum) / (M * x_sq_sum - x_sum**2)\n",
      "c:\\Users\\PC314\\anaconda3\\Lib\\site-packages\\statsforecast\\core.py:494: FutureWarning: In a future version the predictions will have the id as a column. You can set the `NIXTLA_ID_AS_COL` environment variable to adopt the new behavior and to suppress this warning.\n",
      "  warnings.warn(\n",
      "c:\\Users\\PC314\\anaconda3\\Lib\\site-packages\\statsforecast\\mfles.py:301: RuntimeWarning: overflow encountered in scalar multiply\n",
      "  slope = (M * x_y_sum - x_sum * y_sum) / (M * x_sq_sum - x_sum**2)\n",
      "c:\\Users\\PC314\\anaconda3\\Lib\\site-packages\\statsforecast\\mfles.py:301: RuntimeWarning: overflow encountered in scalar subtract\n",
      "  slope = (M * x_y_sum - x_sum * y_sum) / (M * x_sq_sum - x_sum**2)\n",
      "c:\\Users\\PC314\\anaconda3\\Lib\\site-packages\\statsforecast\\core.py:494: FutureWarning: In a future version the predictions will have the id as a column. You can set the `NIXTLA_ID_AS_COL` environment variable to adopt the new behavior and to suppress this warning.\n",
      "  warnings.warn(\n",
      "c:\\Users\\PC314\\anaconda3\\Lib\\site-packages\\statsforecast\\mfles.py:301: RuntimeWarning: overflow encountered in scalar multiply\n",
      "  slope = (M * x_y_sum - x_sum * y_sum) / (M * x_sq_sum - x_sum**2)\n",
      "c:\\Users\\PC314\\anaconda3\\Lib\\site-packages\\statsforecast\\mfles.py:301: RuntimeWarning: overflow encountered in scalar subtract\n",
      "  slope = (M * x_y_sum - x_sum * y_sum) / (M * x_sq_sum - x_sum**2)\n",
      "c:\\Users\\PC314\\anaconda3\\Lib\\site-packages\\statsforecast\\core.py:494: FutureWarning: In a future version the predictions will have the id as a column. You can set the `NIXTLA_ID_AS_COL` environment variable to adopt the new behavior and to suppress this warning.\n",
      "  warnings.warn(\n",
      "C:\\Users\\PC314\\AppData\\Local\\Temp\\ipykernel_17148\\3122320333.py:50: SettingWithCopyWarning: \n",
      "A value is trying to be set on a copy of a slice from a DataFrame.\n",
      "Try using .loc[row_indexer,col_indexer] = value instead\n",
      "\n",
      "See the caveats in the documentation: https://pandas.pydata.org/pandas-docs/stable/user_guide/indexing.html#returning-a-view-versus-a-copy\n",
      "  train_df['y'] = series\n"
     ]
    },
    {
     "name": "stdout",
     "output_type": "stream",
     "text": [
      "Best Model for log_seasonality_standardize: MSTL_a_ARIMA (MAPE: 95.74%)\n",
      "Training on transformed version: log_boxcox_standardize\n"
     ]
    },
    {
     "name": "stderr",
     "output_type": "stream",
     "text": [
      "c:\\Users\\PC314\\anaconda3\\Lib\\site-packages\\statsforecast\\core.py:494: FutureWarning: In a future version the predictions will have the id as a column. You can set the `NIXTLA_ID_AS_COL` environment variable to adopt the new behavior and to suppress this warning.\n",
      "  warnings.warn(\n",
      "c:\\Users\\PC314\\anaconda3\\Lib\\site-packages\\statsforecast\\core.py:494: FutureWarning: In a future version the predictions will have the id as a column. You can set the `NIXTLA_ID_AS_COL` environment variable to adopt the new behavior and to suppress this warning.\n",
      "  warnings.warn(\n",
      "c:\\Users\\PC314\\anaconda3\\Lib\\site-packages\\statsforecast\\core.py:494: FutureWarning: In a future version the predictions will have the id as a column. You can set the `NIXTLA_ID_AS_COL` environment variable to adopt the new behavior and to suppress this warning.\n",
      "  warnings.warn(\n",
      "c:\\Users\\PC314\\anaconda3\\Lib\\site-packages\\statsforecast\\mfles.py:301: RuntimeWarning: overflow encountered in scalar multiply\n",
      "  slope = (M * x_y_sum - x_sum * y_sum) / (M * x_sq_sum - x_sum**2)\n",
      "c:\\Users\\PC314\\anaconda3\\Lib\\site-packages\\statsforecast\\mfles.py:301: RuntimeWarning: overflow encountered in scalar subtract\n",
      "  slope = (M * x_y_sum - x_sum * y_sum) / (M * x_sq_sum - x_sum**2)\n",
      "c:\\Users\\PC314\\anaconda3\\Lib\\site-packages\\statsforecast\\core.py:494: FutureWarning: In a future version the predictions will have the id as a column. You can set the `NIXTLA_ID_AS_COL` environment variable to adopt the new behavior and to suppress this warning.\n",
      "  warnings.warn(\n",
      "c:\\Users\\PC314\\anaconda3\\Lib\\site-packages\\statsforecast\\mfles.py:301: RuntimeWarning: overflow encountered in scalar multiply\n",
      "  slope = (M * x_y_sum - x_sum * y_sum) / (M * x_sq_sum - x_sum**2)\n",
      "c:\\Users\\PC314\\anaconda3\\Lib\\site-packages\\statsforecast\\mfles.py:301: RuntimeWarning: overflow encountered in scalar subtract\n",
      "  slope = (M * x_y_sum - x_sum * y_sum) / (M * x_sq_sum - x_sum**2)\n",
      "c:\\Users\\PC314\\anaconda3\\Lib\\site-packages\\statsforecast\\core.py:494: FutureWarning: In a future version the predictions will have the id as a column. You can set the `NIXTLA_ID_AS_COL` environment variable to adopt the new behavior and to suppress this warning.\n",
      "  warnings.warn(\n",
      "c:\\Users\\PC314\\anaconda3\\Lib\\site-packages\\statsforecast\\mfles.py:301: RuntimeWarning: overflow encountered in scalar multiply\n",
      "  slope = (M * x_y_sum - x_sum * y_sum) / (M * x_sq_sum - x_sum**2)\n",
      "c:\\Users\\PC314\\anaconda3\\Lib\\site-packages\\statsforecast\\mfles.py:301: RuntimeWarning: overflow encountered in scalar subtract\n",
      "  slope = (M * x_y_sum - x_sum * y_sum) / (M * x_sq_sum - x_sum**2)\n",
      "c:\\Users\\PC314\\anaconda3\\Lib\\site-packages\\statsforecast\\core.py:494: FutureWarning: In a future version the predictions will have the id as a column. You can set the `NIXTLA_ID_AS_COL` environment variable to adopt the new behavior and to suppress this warning.\n",
      "  warnings.warn(\n",
      "C:\\Users\\PC314\\AppData\\Local\\Temp\\ipykernel_17148\\3122320333.py:50: SettingWithCopyWarning: \n",
      "A value is trying to be set on a copy of a slice from a DataFrame.\n",
      "Try using .loc[row_indexer,col_indexer] = value instead\n",
      "\n",
      "See the caveats in the documentation: https://pandas.pydata.org/pandas-docs/stable/user_guide/indexing.html#returning-a-view-versus-a-copy\n",
      "  train_df['y'] = series\n"
     ]
    },
    {
     "name": "stdout",
     "output_type": "stream",
     "text": [
      "Best Model for log_boxcox_standardize: MSTL_abc_ARIMA (MAPE: nan%)\n",
      "Training on transformed version: trend_seasonality_boxcox\n"
     ]
    },
    {
     "name": "stderr",
     "output_type": "stream",
     "text": [
      "c:\\Users\\PC314\\anaconda3\\Lib\\site-packages\\statsforecast\\core.py:494: FutureWarning: In a future version the predictions will have the id as a column. You can set the `NIXTLA_ID_AS_COL` environment variable to adopt the new behavior and to suppress this warning.\n",
      "  warnings.warn(\n",
      "c:\\Users\\PC314\\anaconda3\\Lib\\site-packages\\statsforecast\\core.py:494: FutureWarning: In a future version the predictions will have the id as a column. You can set the `NIXTLA_ID_AS_COL` environment variable to adopt the new behavior and to suppress this warning.\n",
      "  warnings.warn(\n",
      "c:\\Users\\PC314\\anaconda3\\Lib\\site-packages\\statsforecast\\core.py:494: FutureWarning: In a future version the predictions will have the id as a column. You can set the `NIXTLA_ID_AS_COL` environment variable to adopt the new behavior and to suppress this warning.\n",
      "  warnings.warn(\n",
      "c:\\Users\\PC314\\anaconda3\\Lib\\site-packages\\statsforecast\\core.py:494: FutureWarning: In a future version the predictions will have the id as a column. You can set the `NIXTLA_ID_AS_COL` environment variable to adopt the new behavior and to suppress this warning.\n",
      "  warnings.warn(\n",
      "c:\\Users\\PC314\\anaconda3\\Lib\\site-packages\\statsforecast\\core.py:494: FutureWarning: In a future version the predictions will have the id as a column. You can set the `NIXTLA_ID_AS_COL` environment variable to adopt the new behavior and to suppress this warning.\n",
      "  warnings.warn(\n",
      "c:\\Users\\PC314\\anaconda3\\Lib\\site-packages\\statsforecast\\core.py:494: FutureWarning: In a future version the predictions will have the id as a column. You can set the `NIXTLA_ID_AS_COL` environment variable to adopt the new behavior and to suppress this warning.\n",
      "  warnings.warn(\n",
      "C:\\Users\\PC314\\AppData\\Local\\Temp\\ipykernel_17148\\3122320333.py:50: SettingWithCopyWarning: \n",
      "A value is trying to be set on a copy of a slice from a DataFrame.\n",
      "Try using .loc[row_indexer,col_indexer] = value instead\n",
      "\n",
      "See the caveats in the documentation: https://pandas.pydata.org/pandas-docs/stable/user_guide/indexing.html#returning-a-view-versus-a-copy\n",
      "  train_df['y'] = series\n"
     ]
    },
    {
     "name": "stdout",
     "output_type": "stream",
     "text": [
      "Best Model for trend_seasonality_boxcox: MSTL_a_ARIMA (MAPE: 100.84%)\n",
      "Training on transformed version: trend_seasonality_standardize\n"
     ]
    },
    {
     "name": "stderr",
     "output_type": "stream",
     "text": [
      "c:\\Users\\PC314\\anaconda3\\Lib\\site-packages\\statsforecast\\core.py:494: FutureWarning: In a future version the predictions will have the id as a column. You can set the `NIXTLA_ID_AS_COL` environment variable to adopt the new behavior and to suppress this warning.\n",
      "  warnings.warn(\n",
      "c:\\Users\\PC314\\anaconda3\\Lib\\site-packages\\statsforecast\\core.py:494: FutureWarning: In a future version the predictions will have the id as a column. You can set the `NIXTLA_ID_AS_COL` environment variable to adopt the new behavior and to suppress this warning.\n",
      "  warnings.warn(\n",
      "c:\\Users\\PC314\\anaconda3\\Lib\\site-packages\\statsforecast\\core.py:494: FutureWarning: In a future version the predictions will have the id as a column. You can set the `NIXTLA_ID_AS_COL` environment variable to adopt the new behavior and to suppress this warning.\n",
      "  warnings.warn(\n",
      "c:\\Users\\PC314\\anaconda3\\Lib\\site-packages\\statsforecast\\core.py:494: FutureWarning: In a future version the predictions will have the id as a column. You can set the `NIXTLA_ID_AS_COL` environment variable to adopt the new behavior and to suppress this warning.\n",
      "  warnings.warn(\n",
      "c:\\Users\\PC314\\anaconda3\\Lib\\site-packages\\statsforecast\\core.py:494: FutureWarning: In a future version the predictions will have the id as a column. You can set the `NIXTLA_ID_AS_COL` environment variable to adopt the new behavior and to suppress this warning.\n",
      "  warnings.warn(\n",
      "c:\\Users\\PC314\\anaconda3\\Lib\\site-packages\\statsforecast\\core.py:494: FutureWarning: In a future version the predictions will have the id as a column. You can set the `NIXTLA_ID_AS_COL` environment variable to adopt the new behavior and to suppress this warning.\n",
      "  warnings.warn(\n",
      "C:\\Users\\PC314\\AppData\\Local\\Temp\\ipykernel_17148\\3122320333.py:50: SettingWithCopyWarning: \n",
      "A value is trying to be set on a copy of a slice from a DataFrame.\n",
      "Try using .loc[row_indexer,col_indexer] = value instead\n",
      "\n",
      "See the caveats in the documentation: https://pandas.pydata.org/pandas-docs/stable/user_guide/indexing.html#returning-a-view-versus-a-copy\n",
      "  train_df['y'] = series\n"
     ]
    },
    {
     "name": "stdout",
     "output_type": "stream",
     "text": [
      "Best Model for trend_seasonality_standardize: MSTL_ac_MFLES1 (MAPE: 64.04%)\n",
      "Training on transformed version: trend_boxcox_standardize\n"
     ]
    },
    {
     "name": "stderr",
     "output_type": "stream",
     "text": [
      "c:\\Users\\PC314\\anaconda3\\Lib\\site-packages\\statsforecast\\core.py:494: FutureWarning: In a future version the predictions will have the id as a column. You can set the `NIXTLA_ID_AS_COL` environment variable to adopt the new behavior and to suppress this warning.\n",
      "  warnings.warn(\n",
      "c:\\Users\\PC314\\anaconda3\\Lib\\site-packages\\statsforecast\\core.py:494: FutureWarning: In a future version the predictions will have the id as a column. You can set the `NIXTLA_ID_AS_COL` environment variable to adopt the new behavior and to suppress this warning.\n",
      "  warnings.warn(\n",
      "c:\\Users\\PC314\\anaconda3\\Lib\\site-packages\\statsforecast\\core.py:494: FutureWarning: In a future version the predictions will have the id as a column. You can set the `NIXTLA_ID_AS_COL` environment variable to adopt the new behavior and to suppress this warning.\n",
      "  warnings.warn(\n",
      "c:\\Users\\PC314\\anaconda3\\Lib\\site-packages\\statsforecast\\core.py:494: FutureWarning: In a future version the predictions will have the id as a column. You can set the `NIXTLA_ID_AS_COL` environment variable to adopt the new behavior and to suppress this warning.\n",
      "  warnings.warn(\n",
      "c:\\Users\\PC314\\anaconda3\\Lib\\site-packages\\statsforecast\\core.py:494: FutureWarning: In a future version the predictions will have the id as a column. You can set the `NIXTLA_ID_AS_COL` environment variable to adopt the new behavior and to suppress this warning.\n",
      "  warnings.warn(\n",
      "c:\\Users\\PC314\\anaconda3\\Lib\\site-packages\\statsforecast\\core.py:494: FutureWarning: In a future version the predictions will have the id as a column. You can set the `NIXTLA_ID_AS_COL` environment variable to adopt the new behavior and to suppress this warning.\n",
      "  warnings.warn(\n",
      "C:\\Users\\PC314\\AppData\\Local\\Temp\\ipykernel_17148\\3122320333.py:50: SettingWithCopyWarning: \n",
      "A value is trying to be set on a copy of a slice from a DataFrame.\n",
      "Try using .loc[row_indexer,col_indexer] = value instead\n",
      "\n",
      "See the caveats in the documentation: https://pandas.pydata.org/pandas-docs/stable/user_guide/indexing.html#returning-a-view-versus-a-copy\n",
      "  train_df['y'] = series\n"
     ]
    },
    {
     "name": "stdout",
     "output_type": "stream",
     "text": [
      "Best Model for trend_boxcox_standardize: MSTL_ac_MFLES1 (MAPE: 64.04%)\n",
      "Training on transformed version: seasonality_boxcox_standardize\n"
     ]
    },
    {
     "name": "stderr",
     "output_type": "stream",
     "text": [
      "c:\\Users\\PC314\\anaconda3\\Lib\\site-packages\\statsforecast\\core.py:494: FutureWarning: In a future version the predictions will have the id as a column. You can set the `NIXTLA_ID_AS_COL` environment variable to adopt the new behavior and to suppress this warning.\n",
      "  warnings.warn(\n",
      "c:\\Users\\PC314\\anaconda3\\Lib\\site-packages\\statsforecast\\core.py:494: FutureWarning: In a future version the predictions will have the id as a column. You can set the `NIXTLA_ID_AS_COL` environment variable to adopt the new behavior and to suppress this warning.\n",
      "  warnings.warn(\n",
      "c:\\Users\\PC314\\anaconda3\\Lib\\site-packages\\statsforecast\\core.py:494: FutureWarning: In a future version the predictions will have the id as a column. You can set the `NIXTLA_ID_AS_COL` environment variable to adopt the new behavior and to suppress this warning.\n",
      "  warnings.warn(\n",
      "c:\\Users\\PC314\\anaconda3\\Lib\\site-packages\\statsforecast\\mfles.py:301: RuntimeWarning: overflow encountered in scalar multiply\n",
      "  slope = (M * x_y_sum - x_sum * y_sum) / (M * x_sq_sum - x_sum**2)\n",
      "c:\\Users\\PC314\\anaconda3\\Lib\\site-packages\\statsforecast\\mfles.py:301: RuntimeWarning: overflow encountered in scalar subtract\n",
      "  slope = (M * x_y_sum - x_sum * y_sum) / (M * x_sq_sum - x_sum**2)\n",
      "c:\\Users\\PC314\\anaconda3\\Lib\\site-packages\\statsforecast\\core.py:494: FutureWarning: In a future version the predictions will have the id as a column. You can set the `NIXTLA_ID_AS_COL` environment variable to adopt the new behavior and to suppress this warning.\n",
      "  warnings.warn(\n",
      "c:\\Users\\PC314\\anaconda3\\Lib\\site-packages\\statsforecast\\mfles.py:301: RuntimeWarning: overflow encountered in scalar multiply\n",
      "  slope = (M * x_y_sum - x_sum * y_sum) / (M * x_sq_sum - x_sum**2)\n",
      "c:\\Users\\PC314\\anaconda3\\Lib\\site-packages\\statsforecast\\mfles.py:301: RuntimeWarning: overflow encountered in scalar subtract\n",
      "  slope = (M * x_y_sum - x_sum * y_sum) / (M * x_sq_sum - x_sum**2)\n",
      "c:\\Users\\PC314\\anaconda3\\Lib\\site-packages\\statsforecast\\core.py:494: FutureWarning: In a future version the predictions will have the id as a column. You can set the `NIXTLA_ID_AS_COL` environment variable to adopt the new behavior and to suppress this warning.\n",
      "  warnings.warn(\n",
      "c:\\Users\\PC314\\anaconda3\\Lib\\site-packages\\statsforecast\\mfles.py:301: RuntimeWarning: overflow encountered in scalar multiply\n",
      "  slope = (M * x_y_sum - x_sum * y_sum) / (M * x_sq_sum - x_sum**2)\n",
      "c:\\Users\\PC314\\anaconda3\\Lib\\site-packages\\statsforecast\\mfles.py:301: RuntimeWarning: overflow encountered in scalar subtract\n",
      "  slope = (M * x_y_sum - x_sum * y_sum) / (M * x_sq_sum - x_sum**2)\n",
      "c:\\Users\\PC314\\anaconda3\\Lib\\site-packages\\statsforecast\\core.py:494: FutureWarning: In a future version the predictions will have the id as a column. You can set the `NIXTLA_ID_AS_COL` environment variable to adopt the new behavior and to suppress this warning.\n",
      "  warnings.warn(\n",
      "C:\\Users\\PC314\\AppData\\Local\\Temp\\ipykernel_17148\\3122320333.py:50: SettingWithCopyWarning: \n",
      "A value is trying to be set on a copy of a slice from a DataFrame.\n",
      "Try using .loc[row_indexer,col_indexer] = value instead\n",
      "\n",
      "See the caveats in the documentation: https://pandas.pydata.org/pandas-docs/stable/user_guide/indexing.html#returning-a-view-versus-a-copy\n",
      "  train_df['y'] = series\n"
     ]
    },
    {
     "name": "stdout",
     "output_type": "stream",
     "text": [
      "Best Model for seasonality_boxcox_standardize: MSTL_a_ARIMA (MAPE: 98.80%)\n",
      "Training on transformed version: log_trend_seasonality_boxcox\n"
     ]
    },
    {
     "name": "stderr",
     "output_type": "stream",
     "text": [
      "c:\\Users\\PC314\\anaconda3\\Lib\\site-packages\\statsforecast\\core.py:494: FutureWarning: In a future version the predictions will have the id as a column. You can set the `NIXTLA_ID_AS_COL` environment variable to adopt the new behavior and to suppress this warning.\n",
      "  warnings.warn(\n",
      "c:\\Users\\PC314\\anaconda3\\Lib\\site-packages\\statsforecast\\core.py:494: FutureWarning: In a future version the predictions will have the id as a column. You can set the `NIXTLA_ID_AS_COL` environment variable to adopt the new behavior and to suppress this warning.\n",
      "  warnings.warn(\n",
      "c:\\Users\\PC314\\anaconda3\\Lib\\site-packages\\statsforecast\\core.py:494: FutureWarning: In a future version the predictions will have the id as a column. You can set the `NIXTLA_ID_AS_COL` environment variable to adopt the new behavior and to suppress this warning.\n",
      "  warnings.warn(\n",
      "c:\\Users\\PC314\\anaconda3\\Lib\\site-packages\\statsforecast\\mfles.py:301: RuntimeWarning: overflow encountered in scalar multiply\n",
      "  slope = (M * x_y_sum - x_sum * y_sum) / (M * x_sq_sum - x_sum**2)\n",
      "c:\\Users\\PC314\\anaconda3\\Lib\\site-packages\\statsforecast\\mfles.py:301: RuntimeWarning: overflow encountered in scalar subtract\n",
      "  slope = (M * x_y_sum - x_sum * y_sum) / (M * x_sq_sum - x_sum**2)\n",
      "c:\\Users\\PC314\\anaconda3\\Lib\\site-packages\\statsforecast\\core.py:494: FutureWarning: In a future version the predictions will have the id as a column. You can set the `NIXTLA_ID_AS_COL` environment variable to adopt the new behavior and to suppress this warning.\n",
      "  warnings.warn(\n",
      "c:\\Users\\PC314\\anaconda3\\Lib\\site-packages\\statsforecast\\mfles.py:301: RuntimeWarning: overflow encountered in scalar multiply\n",
      "  slope = (M * x_y_sum - x_sum * y_sum) / (M * x_sq_sum - x_sum**2)\n",
      "c:\\Users\\PC314\\anaconda3\\Lib\\site-packages\\statsforecast\\mfles.py:301: RuntimeWarning: overflow encountered in scalar subtract\n",
      "  slope = (M * x_y_sum - x_sum * y_sum) / (M * x_sq_sum - x_sum**2)\n",
      "c:\\Users\\PC314\\anaconda3\\Lib\\site-packages\\statsforecast\\core.py:494: FutureWarning: In a future version the predictions will have the id as a column. You can set the `NIXTLA_ID_AS_COL` environment variable to adopt the new behavior and to suppress this warning.\n",
      "  warnings.warn(\n",
      "c:\\Users\\PC314\\anaconda3\\Lib\\site-packages\\statsforecast\\mfles.py:301: RuntimeWarning: overflow encountered in scalar multiply\n",
      "  slope = (M * x_y_sum - x_sum * y_sum) / (M * x_sq_sum - x_sum**2)\n",
      "c:\\Users\\PC314\\anaconda3\\Lib\\site-packages\\statsforecast\\mfles.py:301: RuntimeWarning: overflow encountered in scalar subtract\n",
      "  slope = (M * x_y_sum - x_sum * y_sum) / (M * x_sq_sum - x_sum**2)\n",
      "c:\\Users\\PC314\\anaconda3\\Lib\\site-packages\\statsforecast\\core.py:494: FutureWarning: In a future version the predictions will have the id as a column. You can set the `NIXTLA_ID_AS_COL` environment variable to adopt the new behavior and to suppress this warning.\n",
      "  warnings.warn(\n",
      "C:\\Users\\PC314\\AppData\\Local\\Temp\\ipykernel_17148\\3122320333.py:50: SettingWithCopyWarning: \n",
      "A value is trying to be set on a copy of a slice from a DataFrame.\n",
      "Try using .loc[row_indexer,col_indexer] = value instead\n",
      "\n",
      "See the caveats in the documentation: https://pandas.pydata.org/pandas-docs/stable/user_guide/indexing.html#returning-a-view-versus-a-copy\n",
      "  train_df['y'] = series\n"
     ]
    },
    {
     "name": "stdout",
     "output_type": "stream",
     "text": [
      "Best Model for log_trend_seasonality_boxcox: MSTL_a_ARIMA (MAPE: 1211.40%)\n",
      "Training on transformed version: log_trend_seasonality_standardize\n"
     ]
    },
    {
     "name": "stderr",
     "output_type": "stream",
     "text": [
      "c:\\Users\\PC314\\anaconda3\\Lib\\site-packages\\statsforecast\\core.py:494: FutureWarning: In a future version the predictions will have the id as a column. You can set the `NIXTLA_ID_AS_COL` environment variable to adopt the new behavior and to suppress this warning.\n",
      "  warnings.warn(\n",
      "c:\\Users\\PC314\\anaconda3\\Lib\\site-packages\\statsforecast\\core.py:494: FutureWarning: In a future version the predictions will have the id as a column. You can set the `NIXTLA_ID_AS_COL` environment variable to adopt the new behavior and to suppress this warning.\n",
      "  warnings.warn(\n",
      "c:\\Users\\PC314\\anaconda3\\Lib\\site-packages\\statsforecast\\core.py:494: FutureWarning: In a future version the predictions will have the id as a column. You can set the `NIXTLA_ID_AS_COL` environment variable to adopt the new behavior and to suppress this warning.\n",
      "  warnings.warn(\n",
      "c:\\Users\\PC314\\anaconda3\\Lib\\site-packages\\statsforecast\\mfles.py:301: RuntimeWarning: overflow encountered in scalar multiply\n",
      "  slope = (M * x_y_sum - x_sum * y_sum) / (M * x_sq_sum - x_sum**2)\n",
      "c:\\Users\\PC314\\anaconda3\\Lib\\site-packages\\statsforecast\\mfles.py:301: RuntimeWarning: overflow encountered in scalar subtract\n",
      "  slope = (M * x_y_sum - x_sum * y_sum) / (M * x_sq_sum - x_sum**2)\n",
      "c:\\Users\\PC314\\anaconda3\\Lib\\site-packages\\statsforecast\\core.py:494: FutureWarning: In a future version the predictions will have the id as a column. You can set the `NIXTLA_ID_AS_COL` environment variable to adopt the new behavior and to suppress this warning.\n",
      "  warnings.warn(\n",
      "c:\\Users\\PC314\\anaconda3\\Lib\\site-packages\\statsforecast\\mfles.py:301: RuntimeWarning: overflow encountered in scalar multiply\n",
      "  slope = (M * x_y_sum - x_sum * y_sum) / (M * x_sq_sum - x_sum**2)\n",
      "c:\\Users\\PC314\\anaconda3\\Lib\\site-packages\\statsforecast\\mfles.py:301: RuntimeWarning: overflow encountered in scalar subtract\n",
      "  slope = (M * x_y_sum - x_sum * y_sum) / (M * x_sq_sum - x_sum**2)\n",
      "c:\\Users\\PC314\\anaconda3\\Lib\\site-packages\\statsforecast\\core.py:494: FutureWarning: In a future version the predictions will have the id as a column. You can set the `NIXTLA_ID_AS_COL` environment variable to adopt the new behavior and to suppress this warning.\n",
      "  warnings.warn(\n",
      "c:\\Users\\PC314\\anaconda3\\Lib\\site-packages\\statsforecast\\mfles.py:301: RuntimeWarning: overflow encountered in scalar multiply\n",
      "  slope = (M * x_y_sum - x_sum * y_sum) / (M * x_sq_sum - x_sum**2)\n",
      "c:\\Users\\PC314\\anaconda3\\Lib\\site-packages\\statsforecast\\mfles.py:301: RuntimeWarning: overflow encountered in scalar subtract\n",
      "  slope = (M * x_y_sum - x_sum * y_sum) / (M * x_sq_sum - x_sum**2)\n",
      "c:\\Users\\PC314\\anaconda3\\Lib\\site-packages\\statsforecast\\core.py:494: FutureWarning: In a future version the predictions will have the id as a column. You can set the `NIXTLA_ID_AS_COL` environment variable to adopt the new behavior and to suppress this warning.\n",
      "  warnings.warn(\n",
      "C:\\Users\\PC314\\AppData\\Local\\Temp\\ipykernel_17148\\3122320333.py:50: SettingWithCopyWarning: \n",
      "A value is trying to be set on a copy of a slice from a DataFrame.\n",
      "Try using .loc[row_indexer,col_indexer] = value instead\n",
      "\n",
      "See the caveats in the documentation: https://pandas.pydata.org/pandas-docs/stable/user_guide/indexing.html#returning-a-view-versus-a-copy\n",
      "  train_df['y'] = series\n"
     ]
    },
    {
     "name": "stdout",
     "output_type": "stream",
     "text": [
      "Best Model for log_trend_seasonality_standardize: MSTL_a_ARIMA (MAPE: 1212.54%)\n",
      "Training on transformed version: log_trend_boxcox_standardize\n"
     ]
    },
    {
     "name": "stderr",
     "output_type": "stream",
     "text": [
      "c:\\Users\\PC314\\anaconda3\\Lib\\site-packages\\statsforecast\\core.py:494: FutureWarning: In a future version the predictions will have the id as a column. You can set the `NIXTLA_ID_AS_COL` environment variable to adopt the new behavior and to suppress this warning.\n",
      "  warnings.warn(\n",
      "c:\\Users\\PC314\\anaconda3\\Lib\\site-packages\\statsforecast\\core.py:494: FutureWarning: In a future version the predictions will have the id as a column. You can set the `NIXTLA_ID_AS_COL` environment variable to adopt the new behavior and to suppress this warning.\n",
      "  warnings.warn(\n",
      "c:\\Users\\PC314\\anaconda3\\Lib\\site-packages\\statsforecast\\core.py:494: FutureWarning: In a future version the predictions will have the id as a column. You can set the `NIXTLA_ID_AS_COL` environment variable to adopt the new behavior and to suppress this warning.\n",
      "  warnings.warn(\n",
      "c:\\Users\\PC314\\anaconda3\\Lib\\site-packages\\statsforecast\\mfles.py:301: RuntimeWarning: overflow encountered in scalar multiply\n",
      "  slope = (M * x_y_sum - x_sum * y_sum) / (M * x_sq_sum - x_sum**2)\n",
      "c:\\Users\\PC314\\anaconda3\\Lib\\site-packages\\statsforecast\\mfles.py:301: RuntimeWarning: overflow encountered in scalar subtract\n",
      "  slope = (M * x_y_sum - x_sum * y_sum) / (M * x_sq_sum - x_sum**2)\n",
      "c:\\Users\\PC314\\anaconda3\\Lib\\site-packages\\statsforecast\\core.py:494: FutureWarning: In a future version the predictions will have the id as a column. You can set the `NIXTLA_ID_AS_COL` environment variable to adopt the new behavior and to suppress this warning.\n",
      "  warnings.warn(\n",
      "c:\\Users\\PC314\\anaconda3\\Lib\\site-packages\\statsforecast\\mfles.py:301: RuntimeWarning: overflow encountered in scalar multiply\n",
      "  slope = (M * x_y_sum - x_sum * y_sum) / (M * x_sq_sum - x_sum**2)\n",
      "c:\\Users\\PC314\\anaconda3\\Lib\\site-packages\\statsforecast\\mfles.py:301: RuntimeWarning: overflow encountered in scalar subtract\n",
      "  slope = (M * x_y_sum - x_sum * y_sum) / (M * x_sq_sum - x_sum**2)\n",
      "c:\\Users\\PC314\\anaconda3\\Lib\\site-packages\\statsforecast\\core.py:494: FutureWarning: In a future version the predictions will have the id as a column. You can set the `NIXTLA_ID_AS_COL` environment variable to adopt the new behavior and to suppress this warning.\n",
      "  warnings.warn(\n",
      "c:\\Users\\PC314\\anaconda3\\Lib\\site-packages\\statsforecast\\mfles.py:301: RuntimeWarning: overflow encountered in scalar multiply\n",
      "  slope = (M * x_y_sum - x_sum * y_sum) / (M * x_sq_sum - x_sum**2)\n",
      "c:\\Users\\PC314\\anaconda3\\Lib\\site-packages\\statsforecast\\mfles.py:301: RuntimeWarning: overflow encountered in scalar subtract\n",
      "  slope = (M * x_y_sum - x_sum * y_sum) / (M * x_sq_sum - x_sum**2)\n",
      "c:\\Users\\PC314\\anaconda3\\Lib\\site-packages\\statsforecast\\core.py:494: FutureWarning: In a future version the predictions will have the id as a column. You can set the `NIXTLA_ID_AS_COL` environment variable to adopt the new behavior and to suppress this warning.\n",
      "  warnings.warn(\n",
      "C:\\Users\\PC314\\AppData\\Local\\Temp\\ipykernel_17148\\3122320333.py:50: SettingWithCopyWarning: \n",
      "A value is trying to be set on a copy of a slice from a DataFrame.\n",
      "Try using .loc[row_indexer,col_indexer] = value instead\n",
      "\n",
      "See the caveats in the documentation: https://pandas.pydata.org/pandas-docs/stable/user_guide/indexing.html#returning-a-view-versus-a-copy\n",
      "  train_df['y'] = series\n"
     ]
    },
    {
     "name": "stdout",
     "output_type": "stream",
     "text": [
      "Best Model for log_trend_boxcox_standardize: MSTL_a_ARIMA (MAPE: 1212.54%)\n",
      "Training on transformed version: log_seasonality_boxcox_standardize\n"
     ]
    },
    {
     "name": "stderr",
     "output_type": "stream",
     "text": [
      "c:\\Users\\PC314\\anaconda3\\Lib\\site-packages\\statsforecast\\core.py:494: FutureWarning: In a future version the predictions will have the id as a column. You can set the `NIXTLA_ID_AS_COL` environment variable to adopt the new behavior and to suppress this warning.\n",
      "  warnings.warn(\n",
      "c:\\Users\\PC314\\anaconda3\\Lib\\site-packages\\statsforecast\\core.py:494: FutureWarning: In a future version the predictions will have the id as a column. You can set the `NIXTLA_ID_AS_COL` environment variable to adopt the new behavior and to suppress this warning.\n",
      "  warnings.warn(\n",
      "c:\\Users\\PC314\\anaconda3\\Lib\\site-packages\\statsforecast\\core.py:494: FutureWarning: In a future version the predictions will have the id as a column. You can set the `NIXTLA_ID_AS_COL` environment variable to adopt the new behavior and to suppress this warning.\n",
      "  warnings.warn(\n",
      "c:\\Users\\PC314\\anaconda3\\Lib\\site-packages\\statsforecast\\mfles.py:301: RuntimeWarning: overflow encountered in scalar multiply\n",
      "  slope = (M * x_y_sum - x_sum * y_sum) / (M * x_sq_sum - x_sum**2)\n",
      "c:\\Users\\PC314\\anaconda3\\Lib\\site-packages\\statsforecast\\mfles.py:301: RuntimeWarning: overflow encountered in scalar subtract\n",
      "  slope = (M * x_y_sum - x_sum * y_sum) / (M * x_sq_sum - x_sum**2)\n",
      "c:\\Users\\PC314\\anaconda3\\Lib\\site-packages\\statsforecast\\core.py:494: FutureWarning: In a future version the predictions will have the id as a column. You can set the `NIXTLA_ID_AS_COL` environment variable to adopt the new behavior and to suppress this warning.\n",
      "  warnings.warn(\n",
      "c:\\Users\\PC314\\anaconda3\\Lib\\site-packages\\statsforecast\\mfles.py:301: RuntimeWarning: overflow encountered in scalar multiply\n",
      "  slope = (M * x_y_sum - x_sum * y_sum) / (M * x_sq_sum - x_sum**2)\n",
      "c:\\Users\\PC314\\anaconda3\\Lib\\site-packages\\statsforecast\\mfles.py:301: RuntimeWarning: overflow encountered in scalar subtract\n",
      "  slope = (M * x_y_sum - x_sum * y_sum) / (M * x_sq_sum - x_sum**2)\n",
      "c:\\Users\\PC314\\anaconda3\\Lib\\site-packages\\statsforecast\\core.py:494: FutureWarning: In a future version the predictions will have the id as a column. You can set the `NIXTLA_ID_AS_COL` environment variable to adopt the new behavior and to suppress this warning.\n",
      "  warnings.warn(\n",
      "c:\\Users\\PC314\\anaconda3\\Lib\\site-packages\\statsforecast\\mfles.py:301: RuntimeWarning: overflow encountered in scalar multiply\n",
      "  slope = (M * x_y_sum - x_sum * y_sum) / (M * x_sq_sum - x_sum**2)\n",
      "c:\\Users\\PC314\\anaconda3\\Lib\\site-packages\\statsforecast\\mfles.py:301: RuntimeWarning: overflow encountered in scalar subtract\n",
      "  slope = (M * x_y_sum - x_sum * y_sum) / (M * x_sq_sum - x_sum**2)\n",
      "c:\\Users\\PC314\\anaconda3\\Lib\\site-packages\\statsforecast\\core.py:494: FutureWarning: In a future version the predictions will have the id as a column. You can set the `NIXTLA_ID_AS_COL` environment variable to adopt the new behavior and to suppress this warning.\n",
      "  warnings.warn(\n",
      "C:\\Users\\PC314\\AppData\\Local\\Temp\\ipykernel_17148\\3122320333.py:50: SettingWithCopyWarning: \n",
      "A value is trying to be set on a copy of a slice from a DataFrame.\n",
      "Try using .loc[row_indexer,col_indexer] = value instead\n",
      "\n",
      "See the caveats in the documentation: https://pandas.pydata.org/pandas-docs/stable/user_guide/indexing.html#returning-a-view-versus-a-copy\n",
      "  train_df['y'] = series\n"
     ]
    },
    {
     "name": "stdout",
     "output_type": "stream",
     "text": [
      "Best Model for log_seasonality_boxcox_standardize: MSTL_abc_ARIMA (MAPE: nan%)\n",
      "Training on transformed version: trend_seasonality_boxcox_standardize\n"
     ]
    },
    {
     "name": "stderr",
     "output_type": "stream",
     "text": [
      "c:\\Users\\PC314\\anaconda3\\Lib\\site-packages\\statsforecast\\core.py:494: FutureWarning: In a future version the predictions will have the id as a column. You can set the `NIXTLA_ID_AS_COL` environment variable to adopt the new behavior and to suppress this warning.\n",
      "  warnings.warn(\n",
      "c:\\Users\\PC314\\anaconda3\\Lib\\site-packages\\statsforecast\\core.py:494: FutureWarning: In a future version the predictions will have the id as a column. You can set the `NIXTLA_ID_AS_COL` environment variable to adopt the new behavior and to suppress this warning.\n",
      "  warnings.warn(\n",
      "c:\\Users\\PC314\\anaconda3\\Lib\\site-packages\\statsforecast\\core.py:494: FutureWarning: In a future version the predictions will have the id as a column. You can set the `NIXTLA_ID_AS_COL` environment variable to adopt the new behavior and to suppress this warning.\n",
      "  warnings.warn(\n",
      "c:\\Users\\PC314\\anaconda3\\Lib\\site-packages\\statsforecast\\core.py:494: FutureWarning: In a future version the predictions will have the id as a column. You can set the `NIXTLA_ID_AS_COL` environment variable to adopt the new behavior and to suppress this warning.\n",
      "  warnings.warn(\n",
      "c:\\Users\\PC314\\anaconda3\\Lib\\site-packages\\statsforecast\\core.py:494: FutureWarning: In a future version the predictions will have the id as a column. You can set the `NIXTLA_ID_AS_COL` environment variable to adopt the new behavior and to suppress this warning.\n",
      "  warnings.warn(\n",
      "c:\\Users\\PC314\\anaconda3\\Lib\\site-packages\\statsforecast\\core.py:494: FutureWarning: In a future version the predictions will have the id as a column. You can set the `NIXTLA_ID_AS_COL` environment variable to adopt the new behavior and to suppress this warning.\n",
      "  warnings.warn(\n",
      "C:\\Users\\PC314\\AppData\\Local\\Temp\\ipykernel_17148\\3122320333.py:50: SettingWithCopyWarning: \n",
      "A value is trying to be set on a copy of a slice from a DataFrame.\n",
      "Try using .loc[row_indexer,col_indexer] = value instead\n",
      "\n",
      "See the caveats in the documentation: https://pandas.pydata.org/pandas-docs/stable/user_guide/indexing.html#returning-a-view-versus-a-copy\n",
      "  train_df['y'] = series\n"
     ]
    },
    {
     "name": "stdout",
     "output_type": "stream",
     "text": [
      "Best Model for trend_seasonality_boxcox_standardize: MSTL_ac_MFLES1 (MAPE: 64.04%)\n",
      "Training on transformed version: log_trend_seasonality_boxcox_standardize\n"
     ]
    },
    {
     "name": "stderr",
     "output_type": "stream",
     "text": [
      "c:\\Users\\PC314\\anaconda3\\Lib\\site-packages\\statsforecast\\core.py:494: FutureWarning: In a future version the predictions will have the id as a column. You can set the `NIXTLA_ID_AS_COL` environment variable to adopt the new behavior and to suppress this warning.\n",
      "  warnings.warn(\n",
      "c:\\Users\\PC314\\anaconda3\\Lib\\site-packages\\statsforecast\\core.py:494: FutureWarning: In a future version the predictions will have the id as a column. You can set the `NIXTLA_ID_AS_COL` environment variable to adopt the new behavior and to suppress this warning.\n",
      "  warnings.warn(\n",
      "c:\\Users\\PC314\\anaconda3\\Lib\\site-packages\\statsforecast\\core.py:494: FutureWarning: In a future version the predictions will have the id as a column. You can set the `NIXTLA_ID_AS_COL` environment variable to adopt the new behavior and to suppress this warning.\n",
      "  warnings.warn(\n",
      "c:\\Users\\PC314\\anaconda3\\Lib\\site-packages\\statsforecast\\mfles.py:301: RuntimeWarning: overflow encountered in scalar multiply\n",
      "  slope = (M * x_y_sum - x_sum * y_sum) / (M * x_sq_sum - x_sum**2)\n",
      "c:\\Users\\PC314\\anaconda3\\Lib\\site-packages\\statsforecast\\mfles.py:301: RuntimeWarning: overflow encountered in scalar subtract\n",
      "  slope = (M * x_y_sum - x_sum * y_sum) / (M * x_sq_sum - x_sum**2)\n",
      "c:\\Users\\PC314\\anaconda3\\Lib\\site-packages\\statsforecast\\core.py:494: FutureWarning: In a future version the predictions will have the id as a column. You can set the `NIXTLA_ID_AS_COL` environment variable to adopt the new behavior and to suppress this warning.\n",
      "  warnings.warn(\n",
      "c:\\Users\\PC314\\anaconda3\\Lib\\site-packages\\statsforecast\\mfles.py:301: RuntimeWarning: overflow encountered in scalar multiply\n",
      "  slope = (M * x_y_sum - x_sum * y_sum) / (M * x_sq_sum - x_sum**2)\n",
      "c:\\Users\\PC314\\anaconda3\\Lib\\site-packages\\statsforecast\\mfles.py:301: RuntimeWarning: overflow encountered in scalar subtract\n",
      "  slope = (M * x_y_sum - x_sum * y_sum) / (M * x_sq_sum - x_sum**2)\n",
      "c:\\Users\\PC314\\anaconda3\\Lib\\site-packages\\statsforecast\\core.py:494: FutureWarning: In a future version the predictions will have the id as a column. You can set the `NIXTLA_ID_AS_COL` environment variable to adopt the new behavior and to suppress this warning.\n",
      "  warnings.warn(\n",
      "c:\\Users\\PC314\\anaconda3\\Lib\\site-packages\\statsforecast\\mfles.py:301: RuntimeWarning: overflow encountered in scalar multiply\n",
      "  slope = (M * x_y_sum - x_sum * y_sum) / (M * x_sq_sum - x_sum**2)\n",
      "c:\\Users\\PC314\\anaconda3\\Lib\\site-packages\\statsforecast\\mfles.py:301: RuntimeWarning: overflow encountered in scalar subtract\n",
      "  slope = (M * x_y_sum - x_sum * y_sum) / (M * x_sq_sum - x_sum**2)\n",
      "c:\\Users\\PC314\\anaconda3\\Lib\\site-packages\\statsforecast\\core.py:494: FutureWarning: In a future version the predictions will have the id as a column. You can set the `NIXTLA_ID_AS_COL` environment variable to adopt the new behavior and to suppress this warning.\n",
      "  warnings.warn(\n",
      "C:\\Users\\PC314\\AppData\\Local\\Temp\\ipykernel_17148\\2310296225.py:49: UserWarning: Skipping seasonality removal: Data is too short for a full seasonal cycle.\n",
      "  warnings.warn(\"Skipping seasonality removal: Data is too short for a full seasonal cycle.\")\n",
      "C:\\Users\\PC314\\AppData\\Local\\Temp\\ipykernel_17148\\2310296225.py:69: UserWarning: Failed to apply Box-Cox transformation: The `x` argument of `boxcox_normmax` must contain only positive, finite, real numbers.\n",
      "  warnings.warn(f\"Failed to apply Box-Cox transformation: {e}\")\n",
      "C:\\Users\\PC314\\AppData\\Local\\Temp\\ipykernel_17148\\3122320333.py:50: SettingWithCopyWarning: \n",
      "A value is trying to be set on a copy of a slice from a DataFrame.\n",
      "Try using .loc[row_indexer,col_indexer] = value instead\n",
      "\n",
      "See the caveats in the documentation: https://pandas.pydata.org/pandas-docs/stable/user_guide/indexing.html#returning-a-view-versus-a-copy\n",
      "  train_df['y'] = series\n"
     ]
    },
    {
     "name": "stdout",
     "output_type": "stream",
     "text": [
      "Best Model for log_trend_seasonality_boxcox_standardize: MSTL_a_ARIMA (MAPE: 1212.54%)\n",
      "Processing Sensor 2, Scenario: 18M_train\n",
      "Training on transformed version: original\n"
     ]
    },
    {
     "name": "stderr",
     "output_type": "stream",
     "text": [
      "c:\\Users\\PC314\\anaconda3\\Lib\\site-packages\\statsforecast\\core.py:494: FutureWarning: In a future version the predictions will have the id as a column. You can set the `NIXTLA_ID_AS_COL` environment variable to adopt the new behavior and to suppress this warning.\n",
      "  warnings.warn(\n",
      "c:\\Users\\PC314\\anaconda3\\Lib\\site-packages\\statsforecast\\core.py:494: FutureWarning: In a future version the predictions will have the id as a column. You can set the `NIXTLA_ID_AS_COL` environment variable to adopt the new behavior and to suppress this warning.\n",
      "  warnings.warn(\n",
      "c:\\Users\\PC314\\anaconda3\\Lib\\site-packages\\statsforecast\\core.py:494: FutureWarning: In a future version the predictions will have the id as a column. You can set the `NIXTLA_ID_AS_COL` environment variable to adopt the new behavior and to suppress this warning.\n",
      "  warnings.warn(\n",
      "c:\\Users\\PC314\\anaconda3\\Lib\\site-packages\\statsforecast\\mfles.py:301: RuntimeWarning: overflow encountered in scalar multiply\n",
      "  slope = (M * x_y_sum - x_sum * y_sum) / (M * x_sq_sum - x_sum**2)\n",
      "c:\\Users\\PC314\\anaconda3\\Lib\\site-packages\\statsforecast\\core.py:494: FutureWarning: In a future version the predictions will have the id as a column. You can set the `NIXTLA_ID_AS_COL` environment variable to adopt the new behavior and to suppress this warning.\n",
      "  warnings.warn(\n",
      "c:\\Users\\PC314\\anaconda3\\Lib\\site-packages\\statsforecast\\mfles.py:301: RuntimeWarning: overflow encountered in scalar multiply\n",
      "  slope = (M * x_y_sum - x_sum * y_sum) / (M * x_sq_sum - x_sum**2)\n",
      "c:\\Users\\PC314\\anaconda3\\Lib\\site-packages\\statsforecast\\core.py:494: FutureWarning: In a future version the predictions will have the id as a column. You can set the `NIXTLA_ID_AS_COL` environment variable to adopt the new behavior and to suppress this warning.\n",
      "  warnings.warn(\n",
      "c:\\Users\\PC314\\anaconda3\\Lib\\site-packages\\statsforecast\\mfles.py:301: RuntimeWarning: overflow encountered in scalar multiply\n",
      "  slope = (M * x_y_sum - x_sum * y_sum) / (M * x_sq_sum - x_sum**2)\n",
      "c:\\Users\\PC314\\anaconda3\\Lib\\site-packages\\statsforecast\\core.py:494: FutureWarning: In a future version the predictions will have the id as a column. You can set the `NIXTLA_ID_AS_COL` environment variable to adopt the new behavior and to suppress this warning.\n",
      "  warnings.warn(\n",
      "C:\\Users\\PC314\\AppData\\Local\\Temp\\ipykernel_17148\\3122320333.py:50: SettingWithCopyWarning: \n",
      "A value is trying to be set on a copy of a slice from a DataFrame.\n",
      "Try using .loc[row_indexer,col_indexer] = value instead\n",
      "\n",
      "See the caveats in the documentation: https://pandas.pydata.org/pandas-docs/stable/user_guide/indexing.html#returning-a-view-versus-a-copy\n",
      "  train_df['y'] = series\n"
     ]
    },
    {
     "name": "stdout",
     "output_type": "stream",
     "text": [
      "Best Model for original: MSTL_ac_MFLES1 (MAPE: 34.85%)\n",
      "Saving model 2_18M_train_original_MSTL_ac_MFLES1_8cfb410b\n",
      "Training on transformed version: log\n"
     ]
    },
    {
     "name": "stderr",
     "output_type": "stream",
     "text": [
      "c:\\Users\\PC314\\anaconda3\\Lib\\site-packages\\statsforecast\\core.py:494: FutureWarning: In a future version the predictions will have the id as a column. You can set the `NIXTLA_ID_AS_COL` environment variable to adopt the new behavior and to suppress this warning.\n",
      "  warnings.warn(\n",
      "c:\\Users\\PC314\\anaconda3\\Lib\\site-packages\\statsforecast\\core.py:494: FutureWarning: In a future version the predictions will have the id as a column. You can set the `NIXTLA_ID_AS_COL` environment variable to adopt the new behavior and to suppress this warning.\n",
      "  warnings.warn(\n",
      "c:\\Users\\PC314\\anaconda3\\Lib\\site-packages\\statsforecast\\core.py:494: FutureWarning: In a future version the predictions will have the id as a column. You can set the `NIXTLA_ID_AS_COL` environment variable to adopt the new behavior and to suppress this warning.\n",
      "  warnings.warn(\n",
      "c:\\Users\\PC314\\anaconda3\\Lib\\site-packages\\statsforecast\\mfles.py:301: RuntimeWarning: overflow encountered in scalar multiply\n",
      "  slope = (M * x_y_sum - x_sum * y_sum) / (M * x_sq_sum - x_sum**2)\n",
      "c:\\Users\\PC314\\anaconda3\\Lib\\site-packages\\statsforecast\\core.py:494: FutureWarning: In a future version the predictions will have the id as a column. You can set the `NIXTLA_ID_AS_COL` environment variable to adopt the new behavior and to suppress this warning.\n",
      "  warnings.warn(\n",
      "c:\\Users\\PC314\\anaconda3\\Lib\\site-packages\\statsforecast\\mfles.py:301: RuntimeWarning: overflow encountered in scalar multiply\n",
      "  slope = (M * x_y_sum - x_sum * y_sum) / (M * x_sq_sum - x_sum**2)\n",
      "c:\\Users\\PC314\\anaconda3\\Lib\\site-packages\\statsforecast\\core.py:494: FutureWarning: In a future version the predictions will have the id as a column. You can set the `NIXTLA_ID_AS_COL` environment variable to adopt the new behavior and to suppress this warning.\n",
      "  warnings.warn(\n",
      "c:\\Users\\PC314\\anaconda3\\Lib\\site-packages\\statsforecast\\mfles.py:301: RuntimeWarning: overflow encountered in scalar multiply\n",
      "  slope = (M * x_y_sum - x_sum * y_sum) / (M * x_sq_sum - x_sum**2)\n",
      "c:\\Users\\PC314\\anaconda3\\Lib\\site-packages\\statsforecast\\core.py:494: FutureWarning: In a future version the predictions will have the id as a column. You can set the `NIXTLA_ID_AS_COL` environment variable to adopt the new behavior and to suppress this warning.\n",
      "  warnings.warn(\n",
      "C:\\Users\\PC314\\AppData\\Local\\Temp\\ipykernel_17148\\3122320333.py:50: SettingWithCopyWarning: \n",
      "A value is trying to be set on a copy of a slice from a DataFrame.\n",
      "Try using .loc[row_indexer,col_indexer] = value instead\n",
      "\n",
      "See the caveats in the documentation: https://pandas.pydata.org/pandas-docs/stable/user_guide/indexing.html#returning-a-view-versus-a-copy\n",
      "  train_df['y'] = series\n"
     ]
    },
    {
     "name": "stdout",
     "output_type": "stream",
     "text": [
      "Best Model for log: MSTL_ac_MFLES1 (MAPE: 37.77%)\n",
      "Saving model 2_18M_train_log_MSTL_ac_MFLES1_ff5a94de\n",
      "Training on transformed version: trend\n"
     ]
    },
    {
     "name": "stderr",
     "output_type": "stream",
     "text": [
      "c:\\Users\\PC314\\anaconda3\\Lib\\site-packages\\statsforecast\\core.py:494: FutureWarning: In a future version the predictions will have the id as a column. You can set the `NIXTLA_ID_AS_COL` environment variable to adopt the new behavior and to suppress this warning.\n",
      "  warnings.warn(\n",
      "c:\\Users\\PC314\\anaconda3\\Lib\\site-packages\\statsforecast\\core.py:494: FutureWarning: In a future version the predictions will have the id as a column. You can set the `NIXTLA_ID_AS_COL` environment variable to adopt the new behavior and to suppress this warning.\n",
      "  warnings.warn(\n",
      "c:\\Users\\PC314\\anaconda3\\Lib\\site-packages\\statsforecast\\core.py:494: FutureWarning: In a future version the predictions will have the id as a column. You can set the `NIXTLA_ID_AS_COL` environment variable to adopt the new behavior and to suppress this warning.\n",
      "  warnings.warn(\n",
      "c:\\Users\\PC314\\anaconda3\\Lib\\site-packages\\statsforecast\\mfles.py:301: RuntimeWarning: overflow encountered in scalar multiply\n",
      "  slope = (M * x_y_sum - x_sum * y_sum) / (M * x_sq_sum - x_sum**2)\n",
      "c:\\Users\\PC314\\anaconda3\\Lib\\site-packages\\statsforecast\\core.py:494: FutureWarning: In a future version the predictions will have the id as a column. You can set the `NIXTLA_ID_AS_COL` environment variable to adopt the new behavior and to suppress this warning.\n",
      "  warnings.warn(\n",
      "c:\\Users\\PC314\\anaconda3\\Lib\\site-packages\\statsforecast\\mfles.py:301: RuntimeWarning: overflow encountered in scalar multiply\n",
      "  slope = (M * x_y_sum - x_sum * y_sum) / (M * x_sq_sum - x_sum**2)\n",
      "c:\\Users\\PC314\\anaconda3\\Lib\\site-packages\\statsforecast\\core.py:494: FutureWarning: In a future version the predictions will have the id as a column. You can set the `NIXTLA_ID_AS_COL` environment variable to adopt the new behavior and to suppress this warning.\n",
      "  warnings.warn(\n",
      "c:\\Users\\PC314\\anaconda3\\Lib\\site-packages\\statsforecast\\mfles.py:301: RuntimeWarning: overflow encountered in scalar multiply\n",
      "  slope = (M * x_y_sum - x_sum * y_sum) / (M * x_sq_sum - x_sum**2)\n",
      "c:\\Users\\PC314\\anaconda3\\Lib\\site-packages\\statsforecast\\core.py:494: FutureWarning: In a future version the predictions will have the id as a column. You can set the `NIXTLA_ID_AS_COL` environment variable to adopt the new behavior and to suppress this warning.\n",
      "  warnings.warn(\n",
      "C:\\Users\\PC314\\AppData\\Local\\Temp\\ipykernel_17148\\3122320333.py:50: SettingWithCopyWarning: \n",
      "A value is trying to be set on a copy of a slice from a DataFrame.\n",
      "Try using .loc[row_indexer,col_indexer] = value instead\n",
      "\n",
      "See the caveats in the documentation: https://pandas.pydata.org/pandas-docs/stable/user_guide/indexing.html#returning-a-view-versus-a-copy\n",
      "  train_df['y'] = series\n"
     ]
    },
    {
     "name": "stdout",
     "output_type": "stream",
     "text": [
      "Best Model for trend: MSTL_a_ARIMA (MAPE: 72.63%)\n",
      "Training on transformed version: seasonality\n"
     ]
    },
    {
     "name": "stderr",
     "output_type": "stream",
     "text": [
      "c:\\Users\\PC314\\anaconda3\\Lib\\site-packages\\statsforecast\\core.py:494: FutureWarning: In a future version the predictions will have the id as a column. You can set the `NIXTLA_ID_AS_COL` environment variable to adopt the new behavior and to suppress this warning.\n",
      "  warnings.warn(\n",
      "c:\\Users\\PC314\\anaconda3\\Lib\\site-packages\\statsforecast\\core.py:494: FutureWarning: In a future version the predictions will have the id as a column. You can set the `NIXTLA_ID_AS_COL` environment variable to adopt the new behavior and to suppress this warning.\n",
      "  warnings.warn(\n",
      "c:\\Users\\PC314\\anaconda3\\Lib\\site-packages\\statsforecast\\core.py:494: FutureWarning: In a future version the predictions will have the id as a column. You can set the `NIXTLA_ID_AS_COL` environment variable to adopt the new behavior and to suppress this warning.\n",
      "  warnings.warn(\n",
      "c:\\Users\\PC314\\anaconda3\\Lib\\site-packages\\statsforecast\\mfles.py:301: RuntimeWarning: overflow encountered in scalar multiply\n",
      "  slope = (M * x_y_sum - x_sum * y_sum) / (M * x_sq_sum - x_sum**2)\n",
      "c:\\Users\\PC314\\anaconda3\\Lib\\site-packages\\statsforecast\\core.py:494: FutureWarning: In a future version the predictions will have the id as a column. You can set the `NIXTLA_ID_AS_COL` environment variable to adopt the new behavior and to suppress this warning.\n",
      "  warnings.warn(\n",
      "c:\\Users\\PC314\\anaconda3\\Lib\\site-packages\\statsforecast\\mfles.py:301: RuntimeWarning: overflow encountered in scalar multiply\n",
      "  slope = (M * x_y_sum - x_sum * y_sum) / (M * x_sq_sum - x_sum**2)\n",
      "c:\\Users\\PC314\\anaconda3\\Lib\\site-packages\\statsforecast\\core.py:494: FutureWarning: In a future version the predictions will have the id as a column. You can set the `NIXTLA_ID_AS_COL` environment variable to adopt the new behavior and to suppress this warning.\n",
      "  warnings.warn(\n",
      "c:\\Users\\PC314\\anaconda3\\Lib\\site-packages\\statsforecast\\mfles.py:301: RuntimeWarning: overflow encountered in scalar multiply\n",
      "  slope = (M * x_y_sum - x_sum * y_sum) / (M * x_sq_sum - x_sum**2)\n",
      "c:\\Users\\PC314\\anaconda3\\Lib\\site-packages\\statsforecast\\core.py:494: FutureWarning: In a future version the predictions will have the id as a column. You can set the `NIXTLA_ID_AS_COL` environment variable to adopt the new behavior and to suppress this warning.\n",
      "  warnings.warn(\n",
      "C:\\Users\\PC314\\AppData\\Local\\Temp\\ipykernel_17148\\3122320333.py:50: SettingWithCopyWarning: \n",
      "A value is trying to be set on a copy of a slice from a DataFrame.\n",
      "Try using .loc[row_indexer,col_indexer] = value instead\n",
      "\n",
      "See the caveats in the documentation: https://pandas.pydata.org/pandas-docs/stable/user_guide/indexing.html#returning-a-view-versus-a-copy\n",
      "  train_df['y'] = series\n"
     ]
    },
    {
     "name": "stdout",
     "output_type": "stream",
     "text": [
      "Best Model for seasonality: MSTL_ac_MFLES1 (MAPE: 34.85%)\n",
      "Saving model 2_18M_train_seasonality_MSTL_ac_MFLES1_4082fa63\n",
      "Training on transformed version: boxcox\n"
     ]
    },
    {
     "name": "stderr",
     "output_type": "stream",
     "text": [
      "c:\\Users\\PC314\\anaconda3\\Lib\\site-packages\\statsforecast\\core.py:494: FutureWarning: In a future version the predictions will have the id as a column. You can set the `NIXTLA_ID_AS_COL` environment variable to adopt the new behavior and to suppress this warning.\n",
      "  warnings.warn(\n",
      "c:\\Users\\PC314\\anaconda3\\Lib\\site-packages\\statsforecast\\core.py:494: FutureWarning: In a future version the predictions will have the id as a column. You can set the `NIXTLA_ID_AS_COL` environment variable to adopt the new behavior and to suppress this warning.\n",
      "  warnings.warn(\n",
      "c:\\Users\\PC314\\anaconda3\\Lib\\site-packages\\statsforecast\\core.py:494: FutureWarning: In a future version the predictions will have the id as a column. You can set the `NIXTLA_ID_AS_COL` environment variable to adopt the new behavior and to suppress this warning.\n",
      "  warnings.warn(\n",
      "c:\\Users\\PC314\\anaconda3\\Lib\\site-packages\\statsforecast\\mfles.py:301: RuntimeWarning: overflow encountered in scalar multiply\n",
      "  slope = (M * x_y_sum - x_sum * y_sum) / (M * x_sq_sum - x_sum**2)\n",
      "c:\\Users\\PC314\\anaconda3\\Lib\\site-packages\\statsforecast\\core.py:494: FutureWarning: In a future version the predictions will have the id as a column. You can set the `NIXTLA_ID_AS_COL` environment variable to adopt the new behavior and to suppress this warning.\n",
      "  warnings.warn(\n",
      "c:\\Users\\PC314\\anaconda3\\Lib\\site-packages\\statsforecast\\mfles.py:301: RuntimeWarning: overflow encountered in scalar multiply\n",
      "  slope = (M * x_y_sum - x_sum * y_sum) / (M * x_sq_sum - x_sum**2)\n",
      "c:\\Users\\PC314\\anaconda3\\Lib\\site-packages\\statsforecast\\core.py:494: FutureWarning: In a future version the predictions will have the id as a column. You can set the `NIXTLA_ID_AS_COL` environment variable to adopt the new behavior and to suppress this warning.\n",
      "  warnings.warn(\n",
      "c:\\Users\\PC314\\anaconda3\\Lib\\site-packages\\statsforecast\\mfles.py:301: RuntimeWarning: overflow encountered in scalar multiply\n",
      "  slope = (M * x_y_sum - x_sum * y_sum) / (M * x_sq_sum - x_sum**2)\n",
      "c:\\Users\\PC314\\anaconda3\\Lib\\site-packages\\statsforecast\\core.py:494: FutureWarning: In a future version the predictions will have the id as a column. You can set the `NIXTLA_ID_AS_COL` environment variable to adopt the new behavior and to suppress this warning.\n",
      "  warnings.warn(\n",
      "C:\\Users\\PC314\\AppData\\Local\\Temp\\ipykernel_17148\\3122320333.py:50: SettingWithCopyWarning: \n",
      "A value is trying to be set on a copy of a slice from a DataFrame.\n",
      "Try using .loc[row_indexer,col_indexer] = value instead\n",
      "\n",
      "See the caveats in the documentation: https://pandas.pydata.org/pandas-docs/stable/user_guide/indexing.html#returning-a-view-versus-a-copy\n",
      "  train_df['y'] = series\n"
     ]
    },
    {
     "name": "stdout",
     "output_type": "stream",
     "text": [
      "Best Model for boxcox: MSTL_ac_MFLES1 (MAPE: 43.81%)\n",
      "Saving model 2_18M_train_boxcox_MSTL_ac_MFLES1_d65987d1\n",
      "Training on transformed version: standardize\n"
     ]
    },
    {
     "name": "stderr",
     "output_type": "stream",
     "text": [
      "c:\\Users\\PC314\\anaconda3\\Lib\\site-packages\\statsforecast\\core.py:494: FutureWarning: In a future version the predictions will have the id as a column. You can set the `NIXTLA_ID_AS_COL` environment variable to adopt the new behavior and to suppress this warning.\n",
      "  warnings.warn(\n",
      "c:\\Users\\PC314\\anaconda3\\Lib\\site-packages\\statsforecast\\core.py:494: FutureWarning: In a future version the predictions will have the id as a column. You can set the `NIXTLA_ID_AS_COL` environment variable to adopt the new behavior and to suppress this warning.\n",
      "  warnings.warn(\n",
      "c:\\Users\\PC314\\anaconda3\\Lib\\site-packages\\statsforecast\\core.py:494: FutureWarning: In a future version the predictions will have the id as a column. You can set the `NIXTLA_ID_AS_COL` environment variable to adopt the new behavior and to suppress this warning.\n",
      "  warnings.warn(\n",
      "c:\\Users\\PC314\\anaconda3\\Lib\\site-packages\\statsforecast\\core.py:494: FutureWarning: In a future version the predictions will have the id as a column. You can set the `NIXTLA_ID_AS_COL` environment variable to adopt the new behavior and to suppress this warning.\n",
      "  warnings.warn(\n",
      "c:\\Users\\PC314\\anaconda3\\Lib\\site-packages\\statsforecast\\core.py:494: FutureWarning: In a future version the predictions will have the id as a column. You can set the `NIXTLA_ID_AS_COL` environment variable to adopt the new behavior and to suppress this warning.\n",
      "  warnings.warn(\n",
      "c:\\Users\\PC314\\anaconda3\\Lib\\site-packages\\statsforecast\\core.py:494: FutureWarning: In a future version the predictions will have the id as a column. You can set the `NIXTLA_ID_AS_COL` environment variable to adopt the new behavior and to suppress this warning.\n",
      "  warnings.warn(\n",
      "C:\\Users\\PC314\\AppData\\Local\\Temp\\ipykernel_17148\\3122320333.py:50: SettingWithCopyWarning: \n",
      "A value is trying to be set on a copy of a slice from a DataFrame.\n",
      "Try using .loc[row_indexer,col_indexer] = value instead\n",
      "\n",
      "See the caveats in the documentation: https://pandas.pydata.org/pandas-docs/stable/user_guide/indexing.html#returning-a-view-versus-a-copy\n",
      "  train_df['y'] = series\n"
     ]
    },
    {
     "name": "stdout",
     "output_type": "stream",
     "text": [
      "Best Model for standardize: MSTL_ac_ARIMA (MAPE: 100.06%)\n",
      "Training on transformed version: log_trend\n"
     ]
    },
    {
     "name": "stderr",
     "output_type": "stream",
     "text": [
      "c:\\Users\\PC314\\anaconda3\\Lib\\site-packages\\statsforecast\\core.py:494: FutureWarning: In a future version the predictions will have the id as a column. You can set the `NIXTLA_ID_AS_COL` environment variable to adopt the new behavior and to suppress this warning.\n",
      "  warnings.warn(\n",
      "c:\\Users\\PC314\\anaconda3\\Lib\\site-packages\\statsforecast\\core.py:494: FutureWarning: In a future version the predictions will have the id as a column. You can set the `NIXTLA_ID_AS_COL` environment variable to adopt the new behavior and to suppress this warning.\n",
      "  warnings.warn(\n",
      "c:\\Users\\PC314\\anaconda3\\Lib\\site-packages\\statsforecast\\core.py:494: FutureWarning: In a future version the predictions will have the id as a column. You can set the `NIXTLA_ID_AS_COL` environment variable to adopt the new behavior and to suppress this warning.\n",
      "  warnings.warn(\n",
      "c:\\Users\\PC314\\anaconda3\\Lib\\site-packages\\statsforecast\\mfles.py:301: RuntimeWarning: overflow encountered in scalar multiply\n",
      "  slope = (M * x_y_sum - x_sum * y_sum) / (M * x_sq_sum - x_sum**2)\n",
      "c:\\Users\\PC314\\anaconda3\\Lib\\site-packages\\statsforecast\\core.py:494: FutureWarning: In a future version the predictions will have the id as a column. You can set the `NIXTLA_ID_AS_COL` environment variable to adopt the new behavior and to suppress this warning.\n",
      "  warnings.warn(\n",
      "c:\\Users\\PC314\\anaconda3\\Lib\\site-packages\\statsforecast\\mfles.py:301: RuntimeWarning: overflow encountered in scalar multiply\n",
      "  slope = (M * x_y_sum - x_sum * y_sum) / (M * x_sq_sum - x_sum**2)\n",
      "c:\\Users\\PC314\\anaconda3\\Lib\\site-packages\\statsforecast\\core.py:494: FutureWarning: In a future version the predictions will have the id as a column. You can set the `NIXTLA_ID_AS_COL` environment variable to adopt the new behavior and to suppress this warning.\n",
      "  warnings.warn(\n",
      "c:\\Users\\PC314\\anaconda3\\Lib\\site-packages\\statsforecast\\mfles.py:301: RuntimeWarning: overflow encountered in scalar multiply\n",
      "  slope = (M * x_y_sum - x_sum * y_sum) / (M * x_sq_sum - x_sum**2)\n",
      "c:\\Users\\PC314\\anaconda3\\Lib\\site-packages\\statsforecast\\core.py:494: FutureWarning: In a future version the predictions will have the id as a column. You can set the `NIXTLA_ID_AS_COL` environment variable to adopt the new behavior and to suppress this warning.\n",
      "  warnings.warn(\n",
      "C:\\Users\\PC314\\AppData\\Local\\Temp\\ipykernel_17148\\3122320333.py:50: SettingWithCopyWarning: \n",
      "A value is trying to be set on a copy of a slice from a DataFrame.\n",
      "Try using .loc[row_indexer,col_indexer] = value instead\n",
      "\n",
      "See the caveats in the documentation: https://pandas.pydata.org/pandas-docs/stable/user_guide/indexing.html#returning-a-view-versus-a-copy\n",
      "  train_df['y'] = series\n"
     ]
    },
    {
     "name": "stdout",
     "output_type": "stream",
     "text": [
      "Best Model for log_trend: MSTL_ac_MFLES1 (MAPE: 1216.76%)\n",
      "Training on transformed version: log_seasonality\n"
     ]
    },
    {
     "name": "stderr",
     "output_type": "stream",
     "text": [
      "c:\\Users\\PC314\\anaconda3\\Lib\\site-packages\\statsforecast\\core.py:494: FutureWarning: In a future version the predictions will have the id as a column. You can set the `NIXTLA_ID_AS_COL` environment variable to adopt the new behavior and to suppress this warning.\n",
      "  warnings.warn(\n",
      "c:\\Users\\PC314\\anaconda3\\Lib\\site-packages\\statsforecast\\core.py:494: FutureWarning: In a future version the predictions will have the id as a column. You can set the `NIXTLA_ID_AS_COL` environment variable to adopt the new behavior and to suppress this warning.\n",
      "  warnings.warn(\n",
      "c:\\Users\\PC314\\anaconda3\\Lib\\site-packages\\statsforecast\\core.py:494: FutureWarning: In a future version the predictions will have the id as a column. You can set the `NIXTLA_ID_AS_COL` environment variable to adopt the new behavior and to suppress this warning.\n",
      "  warnings.warn(\n",
      "c:\\Users\\PC314\\anaconda3\\Lib\\site-packages\\statsforecast\\mfles.py:301: RuntimeWarning: overflow encountered in scalar multiply\n",
      "  slope = (M * x_y_sum - x_sum * y_sum) / (M * x_sq_sum - x_sum**2)\n",
      "c:\\Users\\PC314\\anaconda3\\Lib\\site-packages\\statsforecast\\core.py:494: FutureWarning: In a future version the predictions will have the id as a column. You can set the `NIXTLA_ID_AS_COL` environment variable to adopt the new behavior and to suppress this warning.\n",
      "  warnings.warn(\n",
      "c:\\Users\\PC314\\anaconda3\\Lib\\site-packages\\statsforecast\\mfles.py:301: RuntimeWarning: overflow encountered in scalar multiply\n",
      "  slope = (M * x_y_sum - x_sum * y_sum) / (M * x_sq_sum - x_sum**2)\n",
      "c:\\Users\\PC314\\anaconda3\\Lib\\site-packages\\statsforecast\\core.py:494: FutureWarning: In a future version the predictions will have the id as a column. You can set the `NIXTLA_ID_AS_COL` environment variable to adopt the new behavior and to suppress this warning.\n",
      "  warnings.warn(\n",
      "c:\\Users\\PC314\\anaconda3\\Lib\\site-packages\\statsforecast\\mfles.py:301: RuntimeWarning: overflow encountered in scalar multiply\n",
      "  slope = (M * x_y_sum - x_sum * y_sum) / (M * x_sq_sum - x_sum**2)\n",
      "c:\\Users\\PC314\\anaconda3\\Lib\\site-packages\\statsforecast\\core.py:494: FutureWarning: In a future version the predictions will have the id as a column. You can set the `NIXTLA_ID_AS_COL` environment variable to adopt the new behavior and to suppress this warning.\n",
      "  warnings.warn(\n",
      "C:\\Users\\PC314\\AppData\\Local\\Temp\\ipykernel_17148\\3122320333.py:50: SettingWithCopyWarning: \n",
      "A value is trying to be set on a copy of a slice from a DataFrame.\n",
      "Try using .loc[row_indexer,col_indexer] = value instead\n",
      "\n",
      "See the caveats in the documentation: https://pandas.pydata.org/pandas-docs/stable/user_guide/indexing.html#returning-a-view-versus-a-copy\n",
      "  train_df['y'] = series\n"
     ]
    },
    {
     "name": "stdout",
     "output_type": "stream",
     "text": [
      "Best Model for log_seasonality: MSTL_ac_MFLES1 (MAPE: 37.77%)\n",
      "Saving model 2_18M_train_log_seasonality_MSTL_ac_MFLES1_c83ab5f3\n",
      "Training on transformed version: log_boxcox\n"
     ]
    },
    {
     "name": "stderr",
     "output_type": "stream",
     "text": [
      "c:\\Users\\PC314\\anaconda3\\Lib\\site-packages\\statsforecast\\core.py:494: FutureWarning: In a future version the predictions will have the id as a column. You can set the `NIXTLA_ID_AS_COL` environment variable to adopt the new behavior and to suppress this warning.\n",
      "  warnings.warn(\n",
      "c:\\Users\\PC314\\anaconda3\\Lib\\site-packages\\statsforecast\\core.py:494: FutureWarning: In a future version the predictions will have the id as a column. You can set the `NIXTLA_ID_AS_COL` environment variable to adopt the new behavior and to suppress this warning.\n",
      "  warnings.warn(\n",
      "c:\\Users\\PC314\\anaconda3\\Lib\\site-packages\\statsforecast\\core.py:494: FutureWarning: In a future version the predictions will have the id as a column. You can set the `NIXTLA_ID_AS_COL` environment variable to adopt the new behavior and to suppress this warning.\n",
      "  warnings.warn(\n",
      "c:\\Users\\PC314\\anaconda3\\Lib\\site-packages\\statsforecast\\mfles.py:301: RuntimeWarning: overflow encountered in scalar multiply\n",
      "  slope = (M * x_y_sum - x_sum * y_sum) / (M * x_sq_sum - x_sum**2)\n",
      "c:\\Users\\PC314\\anaconda3\\Lib\\site-packages\\statsforecast\\core.py:494: FutureWarning: In a future version the predictions will have the id as a column. You can set the `NIXTLA_ID_AS_COL` environment variable to adopt the new behavior and to suppress this warning.\n",
      "  warnings.warn(\n",
      "c:\\Users\\PC314\\anaconda3\\Lib\\site-packages\\statsforecast\\mfles.py:301: RuntimeWarning: overflow encountered in scalar multiply\n",
      "  slope = (M * x_y_sum - x_sum * y_sum) / (M * x_sq_sum - x_sum**2)\n",
      "c:\\Users\\PC314\\anaconda3\\Lib\\site-packages\\statsforecast\\core.py:494: FutureWarning: In a future version the predictions will have the id as a column. You can set the `NIXTLA_ID_AS_COL` environment variable to adopt the new behavior and to suppress this warning.\n",
      "  warnings.warn(\n",
      "c:\\Users\\PC314\\anaconda3\\Lib\\site-packages\\statsforecast\\mfles.py:301: RuntimeWarning: overflow encountered in scalar multiply\n",
      "  slope = (M * x_y_sum - x_sum * y_sum) / (M * x_sq_sum - x_sum**2)\n",
      "c:\\Users\\PC314\\anaconda3\\Lib\\site-packages\\statsforecast\\core.py:494: FutureWarning: In a future version the predictions will have the id as a column. You can set the `NIXTLA_ID_AS_COL` environment variable to adopt the new behavior and to suppress this warning.\n",
      "  warnings.warn(\n",
      "C:\\Users\\PC314\\AppData\\Local\\Temp\\ipykernel_17148\\3122320333.py:50: SettingWithCopyWarning: \n",
      "A value is trying to be set on a copy of a slice from a DataFrame.\n",
      "Try using .loc[row_indexer,col_indexer] = value instead\n",
      "\n",
      "See the caveats in the documentation: https://pandas.pydata.org/pandas-docs/stable/user_guide/indexing.html#returning-a-view-versus-a-copy\n",
      "  train_df['y'] = series\n"
     ]
    },
    {
     "name": "stdout",
     "output_type": "stream",
     "text": [
      "Best Model for log_boxcox: MSTL_abc_ARIMA (MAPE: nan%)\n",
      "Training on transformed version: log_standardize\n"
     ]
    },
    {
     "name": "stderr",
     "output_type": "stream",
     "text": [
      "c:\\Users\\PC314\\anaconda3\\Lib\\site-packages\\statsforecast\\core.py:494: FutureWarning: In a future version the predictions will have the id as a column. You can set the `NIXTLA_ID_AS_COL` environment variable to adopt the new behavior and to suppress this warning.\n",
      "  warnings.warn(\n",
      "c:\\Users\\PC314\\anaconda3\\Lib\\site-packages\\statsforecast\\core.py:494: FutureWarning: In a future version the predictions will have the id as a column. You can set the `NIXTLA_ID_AS_COL` environment variable to adopt the new behavior and to suppress this warning.\n",
      "  warnings.warn(\n",
      "c:\\Users\\PC314\\anaconda3\\Lib\\site-packages\\statsforecast\\core.py:494: FutureWarning: In a future version the predictions will have the id as a column. You can set the `NIXTLA_ID_AS_COL` environment variable to adopt the new behavior and to suppress this warning.\n",
      "  warnings.warn(\n",
      "c:\\Users\\PC314\\anaconda3\\Lib\\site-packages\\statsforecast\\core.py:494: FutureWarning: In a future version the predictions will have the id as a column. You can set the `NIXTLA_ID_AS_COL` environment variable to adopt the new behavior and to suppress this warning.\n",
      "  warnings.warn(\n",
      "c:\\Users\\PC314\\anaconda3\\Lib\\site-packages\\statsforecast\\core.py:494: FutureWarning: In a future version the predictions will have the id as a column. You can set the `NIXTLA_ID_AS_COL` environment variable to adopt the new behavior and to suppress this warning.\n",
      "  warnings.warn(\n",
      "c:\\Users\\PC314\\anaconda3\\Lib\\site-packages\\statsforecast\\core.py:494: FutureWarning: In a future version the predictions will have the id as a column. You can set the `NIXTLA_ID_AS_COL` environment variable to adopt the new behavior and to suppress this warning.\n",
      "  warnings.warn(\n",
      "C:\\Users\\PC314\\AppData\\Local\\Temp\\ipykernel_17148\\3122320333.py:50: SettingWithCopyWarning: \n",
      "A value is trying to be set on a copy of a slice from a DataFrame.\n",
      "Try using .loc[row_indexer,col_indexer] = value instead\n",
      "\n",
      "See the caveats in the documentation: https://pandas.pydata.org/pandas-docs/stable/user_guide/indexing.html#returning-a-view-versus-a-copy\n",
      "  train_df['y'] = series\n"
     ]
    },
    {
     "name": "stdout",
     "output_type": "stream",
     "text": [
      "Best Model for log_standardize: MSTL_ac_MFLES1 (MAPE: 96.69%)\n",
      "Training on transformed version: trend_seasonality\n"
     ]
    },
    {
     "name": "stderr",
     "output_type": "stream",
     "text": [
      "c:\\Users\\PC314\\anaconda3\\Lib\\site-packages\\statsforecast\\core.py:494: FutureWarning: In a future version the predictions will have the id as a column. You can set the `NIXTLA_ID_AS_COL` environment variable to adopt the new behavior and to suppress this warning.\n",
      "  warnings.warn(\n",
      "c:\\Users\\PC314\\anaconda3\\Lib\\site-packages\\statsforecast\\core.py:494: FutureWarning: In a future version the predictions will have the id as a column. You can set the `NIXTLA_ID_AS_COL` environment variable to adopt the new behavior and to suppress this warning.\n",
      "  warnings.warn(\n",
      "c:\\Users\\PC314\\anaconda3\\Lib\\site-packages\\statsforecast\\core.py:494: FutureWarning: In a future version the predictions will have the id as a column. You can set the `NIXTLA_ID_AS_COL` environment variable to adopt the new behavior and to suppress this warning.\n",
      "  warnings.warn(\n",
      "c:\\Users\\PC314\\anaconda3\\Lib\\site-packages\\statsforecast\\mfles.py:301: RuntimeWarning: overflow encountered in scalar multiply\n",
      "  slope = (M * x_y_sum - x_sum * y_sum) / (M * x_sq_sum - x_sum**2)\n",
      "c:\\Users\\PC314\\anaconda3\\Lib\\site-packages\\statsforecast\\core.py:494: FutureWarning: In a future version the predictions will have the id as a column. You can set the `NIXTLA_ID_AS_COL` environment variable to adopt the new behavior and to suppress this warning.\n",
      "  warnings.warn(\n",
      "c:\\Users\\PC314\\anaconda3\\Lib\\site-packages\\statsforecast\\mfles.py:301: RuntimeWarning: overflow encountered in scalar multiply\n",
      "  slope = (M * x_y_sum - x_sum * y_sum) / (M * x_sq_sum - x_sum**2)\n",
      "c:\\Users\\PC314\\anaconda3\\Lib\\site-packages\\statsforecast\\core.py:494: FutureWarning: In a future version the predictions will have the id as a column. You can set the `NIXTLA_ID_AS_COL` environment variable to adopt the new behavior and to suppress this warning.\n",
      "  warnings.warn(\n",
      "c:\\Users\\PC314\\anaconda3\\Lib\\site-packages\\statsforecast\\mfles.py:301: RuntimeWarning: overflow encountered in scalar multiply\n",
      "  slope = (M * x_y_sum - x_sum * y_sum) / (M * x_sq_sum - x_sum**2)\n",
      "c:\\Users\\PC314\\anaconda3\\Lib\\site-packages\\statsforecast\\core.py:494: FutureWarning: In a future version the predictions will have the id as a column. You can set the `NIXTLA_ID_AS_COL` environment variable to adopt the new behavior and to suppress this warning.\n",
      "  warnings.warn(\n",
      "C:\\Users\\PC314\\AppData\\Local\\Temp\\ipykernel_17148\\3122320333.py:50: SettingWithCopyWarning: \n",
      "A value is trying to be set on a copy of a slice from a DataFrame.\n",
      "Try using .loc[row_indexer,col_indexer] = value instead\n",
      "\n",
      "See the caveats in the documentation: https://pandas.pydata.org/pandas-docs/stable/user_guide/indexing.html#returning-a-view-versus-a-copy\n",
      "  train_df['y'] = series\n"
     ]
    },
    {
     "name": "stdout",
     "output_type": "stream",
     "text": [
      "Best Model for trend_seasonality: MSTL_a_ARIMA (MAPE: 72.63%)\n",
      "Training on transformed version: trend_boxcox\n"
     ]
    },
    {
     "name": "stderr",
     "output_type": "stream",
     "text": [
      "c:\\Users\\PC314\\anaconda3\\Lib\\site-packages\\statsforecast\\core.py:494: FutureWarning: In a future version the predictions will have the id as a column. You can set the `NIXTLA_ID_AS_COL` environment variable to adopt the new behavior and to suppress this warning.\n",
      "  warnings.warn(\n",
      "c:\\Users\\PC314\\anaconda3\\Lib\\site-packages\\statsforecast\\core.py:494: FutureWarning: In a future version the predictions will have the id as a column. You can set the `NIXTLA_ID_AS_COL` environment variable to adopt the new behavior and to suppress this warning.\n",
      "  warnings.warn(\n",
      "c:\\Users\\PC314\\anaconda3\\Lib\\site-packages\\statsforecast\\core.py:494: FutureWarning: In a future version the predictions will have the id as a column. You can set the `NIXTLA_ID_AS_COL` environment variable to adopt the new behavior and to suppress this warning.\n",
      "  warnings.warn(\n",
      "c:\\Users\\PC314\\anaconda3\\Lib\\site-packages\\statsforecast\\mfles.py:301: RuntimeWarning: overflow encountered in scalar multiply\n",
      "  slope = (M * x_y_sum - x_sum * y_sum) / (M * x_sq_sum - x_sum**2)\n",
      "c:\\Users\\PC314\\anaconda3\\Lib\\site-packages\\statsforecast\\core.py:494: FutureWarning: In a future version the predictions will have the id as a column. You can set the `NIXTLA_ID_AS_COL` environment variable to adopt the new behavior and to suppress this warning.\n",
      "  warnings.warn(\n",
      "c:\\Users\\PC314\\anaconda3\\Lib\\site-packages\\statsforecast\\mfles.py:301: RuntimeWarning: overflow encountered in scalar multiply\n",
      "  slope = (M * x_y_sum - x_sum * y_sum) / (M * x_sq_sum - x_sum**2)\n",
      "c:\\Users\\PC314\\anaconda3\\Lib\\site-packages\\statsforecast\\core.py:494: FutureWarning: In a future version the predictions will have the id as a column. You can set the `NIXTLA_ID_AS_COL` environment variable to adopt the new behavior and to suppress this warning.\n",
      "  warnings.warn(\n",
      "c:\\Users\\PC314\\anaconda3\\Lib\\site-packages\\statsforecast\\mfles.py:301: RuntimeWarning: overflow encountered in scalar multiply\n",
      "  slope = (M * x_y_sum - x_sum * y_sum) / (M * x_sq_sum - x_sum**2)\n",
      "c:\\Users\\PC314\\anaconda3\\Lib\\site-packages\\statsforecast\\core.py:494: FutureWarning: In a future version the predictions will have the id as a column. You can set the `NIXTLA_ID_AS_COL` environment variable to adopt the new behavior and to suppress this warning.\n",
      "  warnings.warn(\n",
      "C:\\Users\\PC314\\AppData\\Local\\Temp\\ipykernel_17148\\3122320333.py:50: SettingWithCopyWarning: \n",
      "A value is trying to be set on a copy of a slice from a DataFrame.\n",
      "Try using .loc[row_indexer,col_indexer] = value instead\n",
      "\n",
      "See the caveats in the documentation: https://pandas.pydata.org/pandas-docs/stable/user_guide/indexing.html#returning-a-view-versus-a-copy\n",
      "  train_df['y'] = series\n"
     ]
    },
    {
     "name": "stdout",
     "output_type": "stream",
     "text": [
      "Best Model for trend_boxcox: MSTL_a_ARIMA (MAPE: 72.63%)\n",
      "Training on transformed version: trend_standardize\n"
     ]
    },
    {
     "name": "stderr",
     "output_type": "stream",
     "text": [
      "c:\\Users\\PC314\\anaconda3\\Lib\\site-packages\\statsforecast\\core.py:494: FutureWarning: In a future version the predictions will have the id as a column. You can set the `NIXTLA_ID_AS_COL` environment variable to adopt the new behavior and to suppress this warning.\n",
      "  warnings.warn(\n",
      "c:\\Users\\PC314\\anaconda3\\Lib\\site-packages\\statsforecast\\core.py:494: FutureWarning: In a future version the predictions will have the id as a column. You can set the `NIXTLA_ID_AS_COL` environment variable to adopt the new behavior and to suppress this warning.\n",
      "  warnings.warn(\n",
      "c:\\Users\\PC314\\anaconda3\\Lib\\site-packages\\statsforecast\\core.py:494: FutureWarning: In a future version the predictions will have the id as a column. You can set the `NIXTLA_ID_AS_COL` environment variable to adopt the new behavior and to suppress this warning.\n",
      "  warnings.warn(\n",
      "c:\\Users\\PC314\\anaconda3\\Lib\\site-packages\\statsforecast\\mfles.py:301: RuntimeWarning: overflow encountered in scalar multiply\n",
      "  slope = (M * x_y_sum - x_sum * y_sum) / (M * x_sq_sum - x_sum**2)\n",
      "c:\\Users\\PC314\\anaconda3\\Lib\\site-packages\\statsforecast\\core.py:494: FutureWarning: In a future version the predictions will have the id as a column. You can set the `NIXTLA_ID_AS_COL` environment variable to adopt the new behavior and to suppress this warning.\n",
      "  warnings.warn(\n",
      "c:\\Users\\PC314\\anaconda3\\Lib\\site-packages\\statsforecast\\mfles.py:301: RuntimeWarning: overflow encountered in scalar multiply\n",
      "  slope = (M * x_y_sum - x_sum * y_sum) / (M * x_sq_sum - x_sum**2)\n",
      "c:\\Users\\PC314\\anaconda3\\Lib\\site-packages\\statsforecast\\core.py:494: FutureWarning: In a future version the predictions will have the id as a column. You can set the `NIXTLA_ID_AS_COL` environment variable to adopt the new behavior and to suppress this warning.\n",
      "  warnings.warn(\n",
      "c:\\Users\\PC314\\anaconda3\\Lib\\site-packages\\statsforecast\\mfles.py:301: RuntimeWarning: overflow encountered in scalar multiply\n",
      "  slope = (M * x_y_sum - x_sum * y_sum) / (M * x_sq_sum - x_sum**2)\n",
      "c:\\Users\\PC314\\anaconda3\\Lib\\site-packages\\statsforecast\\core.py:494: FutureWarning: In a future version the predictions will have the id as a column. You can set the `NIXTLA_ID_AS_COL` environment variable to adopt the new behavior and to suppress this warning.\n",
      "  warnings.warn(\n",
      "C:\\Users\\PC314\\AppData\\Local\\Temp\\ipykernel_17148\\3122320333.py:50: SettingWithCopyWarning: \n",
      "A value is trying to be set on a copy of a slice from a DataFrame.\n",
      "Try using .loc[row_indexer,col_indexer] = value instead\n",
      "\n",
      "See the caveats in the documentation: https://pandas.pydata.org/pandas-docs/stable/user_guide/indexing.html#returning-a-view-versus-a-copy\n",
      "  train_df['y'] = series\n"
     ]
    },
    {
     "name": "stdout",
     "output_type": "stream",
     "text": [
      "Best Model for trend_standardize: MSTL_ac_ARIMA (MAPE: 89.05%)\n",
      "Training on transformed version: seasonality_boxcox\n"
     ]
    },
    {
     "name": "stderr",
     "output_type": "stream",
     "text": [
      "c:\\Users\\PC314\\anaconda3\\Lib\\site-packages\\statsforecast\\core.py:494: FutureWarning: In a future version the predictions will have the id as a column. You can set the `NIXTLA_ID_AS_COL` environment variable to adopt the new behavior and to suppress this warning.\n",
      "  warnings.warn(\n",
      "c:\\Users\\PC314\\anaconda3\\Lib\\site-packages\\statsforecast\\core.py:494: FutureWarning: In a future version the predictions will have the id as a column. You can set the `NIXTLA_ID_AS_COL` environment variable to adopt the new behavior and to suppress this warning.\n",
      "  warnings.warn(\n",
      "c:\\Users\\PC314\\anaconda3\\Lib\\site-packages\\statsforecast\\core.py:494: FutureWarning: In a future version the predictions will have the id as a column. You can set the `NIXTLA_ID_AS_COL` environment variable to adopt the new behavior and to suppress this warning.\n",
      "  warnings.warn(\n",
      "c:\\Users\\PC314\\anaconda3\\Lib\\site-packages\\statsforecast\\mfles.py:301: RuntimeWarning: overflow encountered in scalar multiply\n",
      "  slope = (M * x_y_sum - x_sum * y_sum) / (M * x_sq_sum - x_sum**2)\n",
      "c:\\Users\\PC314\\anaconda3\\Lib\\site-packages\\statsforecast\\core.py:494: FutureWarning: In a future version the predictions will have the id as a column. You can set the `NIXTLA_ID_AS_COL` environment variable to adopt the new behavior and to suppress this warning.\n",
      "  warnings.warn(\n",
      "c:\\Users\\PC314\\anaconda3\\Lib\\site-packages\\statsforecast\\mfles.py:301: RuntimeWarning: overflow encountered in scalar multiply\n",
      "  slope = (M * x_y_sum - x_sum * y_sum) / (M * x_sq_sum - x_sum**2)\n",
      "c:\\Users\\PC314\\anaconda3\\Lib\\site-packages\\statsforecast\\core.py:494: FutureWarning: In a future version the predictions will have the id as a column. You can set the `NIXTLA_ID_AS_COL` environment variable to adopt the new behavior and to suppress this warning.\n",
      "  warnings.warn(\n",
      "c:\\Users\\PC314\\anaconda3\\Lib\\site-packages\\statsforecast\\mfles.py:301: RuntimeWarning: overflow encountered in scalar multiply\n",
      "  slope = (M * x_y_sum - x_sum * y_sum) / (M * x_sq_sum - x_sum**2)\n",
      "c:\\Users\\PC314\\anaconda3\\Lib\\site-packages\\statsforecast\\core.py:494: FutureWarning: In a future version the predictions will have the id as a column. You can set the `NIXTLA_ID_AS_COL` environment variable to adopt the new behavior and to suppress this warning.\n",
      "  warnings.warn(\n",
      "C:\\Users\\PC314\\AppData\\Local\\Temp\\ipykernel_17148\\3122320333.py:50: SettingWithCopyWarning: \n",
      "A value is trying to be set on a copy of a slice from a DataFrame.\n",
      "Try using .loc[row_indexer,col_indexer] = value instead\n",
      "\n",
      "See the caveats in the documentation: https://pandas.pydata.org/pandas-docs/stable/user_guide/indexing.html#returning-a-view-versus-a-copy\n",
      "  train_df['y'] = series\n"
     ]
    },
    {
     "name": "stdout",
     "output_type": "stream",
     "text": [
      "Best Model for seasonality_boxcox: MSTL_ac_MFLES1 (MAPE: 43.81%)\n",
      "Saving model 2_18M_train_seasonality_boxcox_MSTL_ac_MFLES1_76ffb23d\n",
      "Training on transformed version: seasonality_standardize\n"
     ]
    },
    {
     "name": "stderr",
     "output_type": "stream",
     "text": [
      "c:\\Users\\PC314\\anaconda3\\Lib\\site-packages\\statsforecast\\core.py:494: FutureWarning: In a future version the predictions will have the id as a column. You can set the `NIXTLA_ID_AS_COL` environment variable to adopt the new behavior and to suppress this warning.\n",
      "  warnings.warn(\n",
      "c:\\Users\\PC314\\anaconda3\\Lib\\site-packages\\statsforecast\\core.py:494: FutureWarning: In a future version the predictions will have the id as a column. You can set the `NIXTLA_ID_AS_COL` environment variable to adopt the new behavior and to suppress this warning.\n",
      "  warnings.warn(\n",
      "c:\\Users\\PC314\\anaconda3\\Lib\\site-packages\\statsforecast\\core.py:494: FutureWarning: In a future version the predictions will have the id as a column. You can set the `NIXTLA_ID_AS_COL` environment variable to adopt the new behavior and to suppress this warning.\n",
      "  warnings.warn(\n",
      "c:\\Users\\PC314\\anaconda3\\Lib\\site-packages\\statsforecast\\core.py:494: FutureWarning: In a future version the predictions will have the id as a column. You can set the `NIXTLA_ID_AS_COL` environment variable to adopt the new behavior and to suppress this warning.\n",
      "  warnings.warn(\n",
      "c:\\Users\\PC314\\anaconda3\\Lib\\site-packages\\statsforecast\\core.py:494: FutureWarning: In a future version the predictions will have the id as a column. You can set the `NIXTLA_ID_AS_COL` environment variable to adopt the new behavior and to suppress this warning.\n",
      "  warnings.warn(\n",
      "c:\\Users\\PC314\\anaconda3\\Lib\\site-packages\\statsforecast\\core.py:494: FutureWarning: In a future version the predictions will have the id as a column. You can set the `NIXTLA_ID_AS_COL` environment variable to adopt the new behavior and to suppress this warning.\n",
      "  warnings.warn(\n",
      "C:\\Users\\PC314\\AppData\\Local\\Temp\\ipykernel_17148\\3122320333.py:50: SettingWithCopyWarning: \n",
      "A value is trying to be set on a copy of a slice from a DataFrame.\n",
      "Try using .loc[row_indexer,col_indexer] = value instead\n",
      "\n",
      "See the caveats in the documentation: https://pandas.pydata.org/pandas-docs/stable/user_guide/indexing.html#returning-a-view-versus-a-copy\n",
      "  train_df['y'] = series\n"
     ]
    },
    {
     "name": "stdout",
     "output_type": "stream",
     "text": [
      "Best Model for seasonality_standardize: MSTL_ac_ARIMA (MAPE: 100.06%)\n",
      "Training on transformed version: boxcox_standardize\n"
     ]
    },
    {
     "name": "stderr",
     "output_type": "stream",
     "text": [
      "c:\\Users\\PC314\\anaconda3\\Lib\\site-packages\\statsforecast\\core.py:494: FutureWarning: In a future version the predictions will have the id as a column. You can set the `NIXTLA_ID_AS_COL` environment variable to adopt the new behavior and to suppress this warning.\n",
      "  warnings.warn(\n",
      "c:\\Users\\PC314\\anaconda3\\Lib\\site-packages\\statsforecast\\core.py:494: FutureWarning: In a future version the predictions will have the id as a column. You can set the `NIXTLA_ID_AS_COL` environment variable to adopt the new behavior and to suppress this warning.\n",
      "  warnings.warn(\n",
      "c:\\Users\\PC314\\anaconda3\\Lib\\site-packages\\statsforecast\\core.py:494: FutureWarning: In a future version the predictions will have the id as a column. You can set the `NIXTLA_ID_AS_COL` environment variable to adopt the new behavior and to suppress this warning.\n",
      "  warnings.warn(\n",
      "c:\\Users\\PC314\\anaconda3\\Lib\\site-packages\\statsforecast\\mfles.py:301: RuntimeWarning: overflow encountered in scalar multiply\n",
      "  slope = (M * x_y_sum - x_sum * y_sum) / (M * x_sq_sum - x_sum**2)\n",
      "c:\\Users\\PC314\\anaconda3\\Lib\\site-packages\\statsforecast\\core.py:494: FutureWarning: In a future version the predictions will have the id as a column. You can set the `NIXTLA_ID_AS_COL` environment variable to adopt the new behavior and to suppress this warning.\n",
      "  warnings.warn(\n",
      "c:\\Users\\PC314\\anaconda3\\Lib\\site-packages\\statsforecast\\mfles.py:301: RuntimeWarning: overflow encountered in scalar multiply\n",
      "  slope = (M * x_y_sum - x_sum * y_sum) / (M * x_sq_sum - x_sum**2)\n",
      "c:\\Users\\PC314\\anaconda3\\Lib\\site-packages\\statsforecast\\core.py:494: FutureWarning: In a future version the predictions will have the id as a column. You can set the `NIXTLA_ID_AS_COL` environment variable to adopt the new behavior and to suppress this warning.\n",
      "  warnings.warn(\n",
      "c:\\Users\\PC314\\anaconda3\\Lib\\site-packages\\statsforecast\\mfles.py:301: RuntimeWarning: overflow encountered in scalar multiply\n",
      "  slope = (M * x_y_sum - x_sum * y_sum) / (M * x_sq_sum - x_sum**2)\n",
      "c:\\Users\\PC314\\anaconda3\\Lib\\site-packages\\statsforecast\\core.py:494: FutureWarning: In a future version the predictions will have the id as a column. You can set the `NIXTLA_ID_AS_COL` environment variable to adopt the new behavior and to suppress this warning.\n",
      "  warnings.warn(\n",
      "C:\\Users\\PC314\\AppData\\Local\\Temp\\ipykernel_17148\\3122320333.py:50: SettingWithCopyWarning: \n",
      "A value is trying to be set on a copy of a slice from a DataFrame.\n",
      "Try using .loc[row_indexer,col_indexer] = value instead\n",
      "\n",
      "See the caveats in the documentation: https://pandas.pydata.org/pandas-docs/stable/user_guide/indexing.html#returning-a-view-versus-a-copy\n",
      "  train_df['y'] = series\n"
     ]
    },
    {
     "name": "stdout",
     "output_type": "stream",
     "text": [
      "Best Model for boxcox_standardize: MSTL_ac_ARIMA (MAPE: 99.67%)\n",
      "Training on transformed version: log_trend_seasonality\n"
     ]
    },
    {
     "name": "stderr",
     "output_type": "stream",
     "text": [
      "c:\\Users\\PC314\\anaconda3\\Lib\\site-packages\\statsforecast\\core.py:494: FutureWarning: In a future version the predictions will have the id as a column. You can set the `NIXTLA_ID_AS_COL` environment variable to adopt the new behavior and to suppress this warning.\n",
      "  warnings.warn(\n",
      "c:\\Users\\PC314\\anaconda3\\Lib\\site-packages\\statsforecast\\core.py:494: FutureWarning: In a future version the predictions will have the id as a column. You can set the `NIXTLA_ID_AS_COL` environment variable to adopt the new behavior and to suppress this warning.\n",
      "  warnings.warn(\n",
      "c:\\Users\\PC314\\anaconda3\\Lib\\site-packages\\statsforecast\\core.py:494: FutureWarning: In a future version the predictions will have the id as a column. You can set the `NIXTLA_ID_AS_COL` environment variable to adopt the new behavior and to suppress this warning.\n",
      "  warnings.warn(\n",
      "c:\\Users\\PC314\\anaconda3\\Lib\\site-packages\\statsforecast\\mfles.py:301: RuntimeWarning: overflow encountered in scalar multiply\n",
      "  slope = (M * x_y_sum - x_sum * y_sum) / (M * x_sq_sum - x_sum**2)\n",
      "c:\\Users\\PC314\\anaconda3\\Lib\\site-packages\\statsforecast\\core.py:494: FutureWarning: In a future version the predictions will have the id as a column. You can set the `NIXTLA_ID_AS_COL` environment variable to adopt the new behavior and to suppress this warning.\n",
      "  warnings.warn(\n",
      "c:\\Users\\PC314\\anaconda3\\Lib\\site-packages\\statsforecast\\mfles.py:301: RuntimeWarning: overflow encountered in scalar multiply\n",
      "  slope = (M * x_y_sum - x_sum * y_sum) / (M * x_sq_sum - x_sum**2)\n",
      "c:\\Users\\PC314\\anaconda3\\Lib\\site-packages\\statsforecast\\core.py:494: FutureWarning: In a future version the predictions will have the id as a column. You can set the `NIXTLA_ID_AS_COL` environment variable to adopt the new behavior and to suppress this warning.\n",
      "  warnings.warn(\n",
      "c:\\Users\\PC314\\anaconda3\\Lib\\site-packages\\statsforecast\\mfles.py:301: RuntimeWarning: overflow encountered in scalar multiply\n",
      "  slope = (M * x_y_sum - x_sum * y_sum) / (M * x_sq_sum - x_sum**2)\n",
      "c:\\Users\\PC314\\anaconda3\\Lib\\site-packages\\statsforecast\\core.py:494: FutureWarning: In a future version the predictions will have the id as a column. You can set the `NIXTLA_ID_AS_COL` environment variable to adopt the new behavior and to suppress this warning.\n",
      "  warnings.warn(\n",
      "C:\\Users\\PC314\\AppData\\Local\\Temp\\ipykernel_17148\\3122320333.py:50: SettingWithCopyWarning: \n",
      "A value is trying to be set on a copy of a slice from a DataFrame.\n",
      "Try using .loc[row_indexer,col_indexer] = value instead\n",
      "\n",
      "See the caveats in the documentation: https://pandas.pydata.org/pandas-docs/stable/user_guide/indexing.html#returning-a-view-versus-a-copy\n",
      "  train_df['y'] = series\n"
     ]
    },
    {
     "name": "stdout",
     "output_type": "stream",
     "text": [
      "Best Model for log_trend_seasonality: MSTL_ac_MFLES1 (MAPE: 1216.76%)\n",
      "Training on transformed version: log_trend_boxcox\n"
     ]
    },
    {
     "name": "stderr",
     "output_type": "stream",
     "text": [
      "c:\\Users\\PC314\\anaconda3\\Lib\\site-packages\\statsforecast\\core.py:494: FutureWarning: In a future version the predictions will have the id as a column. You can set the `NIXTLA_ID_AS_COL` environment variable to adopt the new behavior and to suppress this warning.\n",
      "  warnings.warn(\n",
      "c:\\Users\\PC314\\anaconda3\\Lib\\site-packages\\statsforecast\\core.py:494: FutureWarning: In a future version the predictions will have the id as a column. You can set the `NIXTLA_ID_AS_COL` environment variable to adopt the new behavior and to suppress this warning.\n",
      "  warnings.warn(\n",
      "c:\\Users\\PC314\\anaconda3\\Lib\\site-packages\\statsforecast\\core.py:494: FutureWarning: In a future version the predictions will have the id as a column. You can set the `NIXTLA_ID_AS_COL` environment variable to adopt the new behavior and to suppress this warning.\n",
      "  warnings.warn(\n",
      "c:\\Users\\PC314\\anaconda3\\Lib\\site-packages\\statsforecast\\mfles.py:301: RuntimeWarning: overflow encountered in scalar multiply\n",
      "  slope = (M * x_y_sum - x_sum * y_sum) / (M * x_sq_sum - x_sum**2)\n",
      "c:\\Users\\PC314\\anaconda3\\Lib\\site-packages\\statsforecast\\core.py:494: FutureWarning: In a future version the predictions will have the id as a column. You can set the `NIXTLA_ID_AS_COL` environment variable to adopt the new behavior and to suppress this warning.\n",
      "  warnings.warn(\n",
      "c:\\Users\\PC314\\anaconda3\\Lib\\site-packages\\statsforecast\\mfles.py:301: RuntimeWarning: overflow encountered in scalar multiply\n",
      "  slope = (M * x_y_sum - x_sum * y_sum) / (M * x_sq_sum - x_sum**2)\n",
      "c:\\Users\\PC314\\anaconda3\\Lib\\site-packages\\statsforecast\\core.py:494: FutureWarning: In a future version the predictions will have the id as a column. You can set the `NIXTLA_ID_AS_COL` environment variable to adopt the new behavior and to suppress this warning.\n",
      "  warnings.warn(\n",
      "c:\\Users\\PC314\\anaconda3\\Lib\\site-packages\\statsforecast\\mfles.py:301: RuntimeWarning: overflow encountered in scalar multiply\n",
      "  slope = (M * x_y_sum - x_sum * y_sum) / (M * x_sq_sum - x_sum**2)\n",
      "c:\\Users\\PC314\\anaconda3\\Lib\\site-packages\\statsforecast\\core.py:494: FutureWarning: In a future version the predictions will have the id as a column. You can set the `NIXTLA_ID_AS_COL` environment variable to adopt the new behavior and to suppress this warning.\n",
      "  warnings.warn(\n",
      "C:\\Users\\PC314\\AppData\\Local\\Temp\\ipykernel_17148\\3122320333.py:50: SettingWithCopyWarning: \n",
      "A value is trying to be set on a copy of a slice from a DataFrame.\n",
      "Try using .loc[row_indexer,col_indexer] = value instead\n",
      "\n",
      "See the caveats in the documentation: https://pandas.pydata.org/pandas-docs/stable/user_guide/indexing.html#returning-a-view-versus-a-copy\n",
      "  train_df['y'] = series\n"
     ]
    },
    {
     "name": "stdout",
     "output_type": "stream",
     "text": [
      "Best Model for log_trend_boxcox: MSTL_ac_MFLES1 (MAPE: 1216.76%)\n",
      "Training on transformed version: log_trend_standardize\n"
     ]
    },
    {
     "name": "stderr",
     "output_type": "stream",
     "text": [
      "c:\\Users\\PC314\\anaconda3\\Lib\\site-packages\\statsforecast\\core.py:494: FutureWarning: In a future version the predictions will have the id as a column. You can set the `NIXTLA_ID_AS_COL` environment variable to adopt the new behavior and to suppress this warning.\n",
      "  warnings.warn(\n",
      "c:\\Users\\PC314\\anaconda3\\Lib\\site-packages\\statsforecast\\core.py:494: FutureWarning: In a future version the predictions will have the id as a column. You can set the `NIXTLA_ID_AS_COL` environment variable to adopt the new behavior and to suppress this warning.\n",
      "  warnings.warn(\n",
      "c:\\Users\\PC314\\anaconda3\\Lib\\site-packages\\statsforecast\\core.py:494: FutureWarning: In a future version the predictions will have the id as a column. You can set the `NIXTLA_ID_AS_COL` environment variable to adopt the new behavior and to suppress this warning.\n",
      "  warnings.warn(\n",
      "c:\\Users\\PC314\\anaconda3\\Lib\\site-packages\\statsforecast\\mfles.py:301: RuntimeWarning: overflow encountered in scalar multiply\n",
      "  slope = (M * x_y_sum - x_sum * y_sum) / (M * x_sq_sum - x_sum**2)\n",
      "c:\\Users\\PC314\\anaconda3\\Lib\\site-packages\\statsforecast\\core.py:494: FutureWarning: In a future version the predictions will have the id as a column. You can set the `NIXTLA_ID_AS_COL` environment variable to adopt the new behavior and to suppress this warning.\n",
      "  warnings.warn(\n",
      "c:\\Users\\PC314\\anaconda3\\Lib\\site-packages\\statsforecast\\mfles.py:301: RuntimeWarning: overflow encountered in scalar multiply\n",
      "  slope = (M * x_y_sum - x_sum * y_sum) / (M * x_sq_sum - x_sum**2)\n",
      "c:\\Users\\PC314\\anaconda3\\Lib\\site-packages\\statsforecast\\core.py:494: FutureWarning: In a future version the predictions will have the id as a column. You can set the `NIXTLA_ID_AS_COL` environment variable to adopt the new behavior and to suppress this warning.\n",
      "  warnings.warn(\n",
      "c:\\Users\\PC314\\anaconda3\\Lib\\site-packages\\statsforecast\\mfles.py:301: RuntimeWarning: overflow encountered in scalar multiply\n",
      "  slope = (M * x_y_sum - x_sum * y_sum) / (M * x_sq_sum - x_sum**2)\n",
      "c:\\Users\\PC314\\anaconda3\\Lib\\site-packages\\statsforecast\\core.py:494: FutureWarning: In a future version the predictions will have the id as a column. You can set the `NIXTLA_ID_AS_COL` environment variable to adopt the new behavior and to suppress this warning.\n",
      "  warnings.warn(\n",
      "C:\\Users\\PC314\\AppData\\Local\\Temp\\ipykernel_17148\\3122320333.py:50: SettingWithCopyWarning: \n",
      "A value is trying to be set on a copy of a slice from a DataFrame.\n",
      "Try using .loc[row_indexer,col_indexer] = value instead\n",
      "\n",
      "See the caveats in the documentation: https://pandas.pydata.org/pandas-docs/stable/user_guide/indexing.html#returning-a-view-versus-a-copy\n",
      "  train_df['y'] = series\n"
     ]
    },
    {
     "name": "stdout",
     "output_type": "stream",
     "text": [
      "Best Model for log_trend_standardize: MSTL_ac_MFLES1 (MAPE: 1216.76%)\n",
      "Training on transformed version: log_seasonality_boxcox\n"
     ]
    },
    {
     "name": "stderr",
     "output_type": "stream",
     "text": [
      "c:\\Users\\PC314\\anaconda3\\Lib\\site-packages\\statsforecast\\core.py:494: FutureWarning: In a future version the predictions will have the id as a column. You can set the `NIXTLA_ID_AS_COL` environment variable to adopt the new behavior and to suppress this warning.\n",
      "  warnings.warn(\n",
      "c:\\Users\\PC314\\anaconda3\\Lib\\site-packages\\statsforecast\\core.py:494: FutureWarning: In a future version the predictions will have the id as a column. You can set the `NIXTLA_ID_AS_COL` environment variable to adopt the new behavior and to suppress this warning.\n",
      "  warnings.warn(\n",
      "c:\\Users\\PC314\\anaconda3\\Lib\\site-packages\\statsforecast\\core.py:494: FutureWarning: In a future version the predictions will have the id as a column. You can set the `NIXTLA_ID_AS_COL` environment variable to adopt the new behavior and to suppress this warning.\n",
      "  warnings.warn(\n",
      "c:\\Users\\PC314\\anaconda3\\Lib\\site-packages\\statsforecast\\mfles.py:301: RuntimeWarning: overflow encountered in scalar multiply\n",
      "  slope = (M * x_y_sum - x_sum * y_sum) / (M * x_sq_sum - x_sum**2)\n",
      "c:\\Users\\PC314\\anaconda3\\Lib\\site-packages\\statsforecast\\core.py:494: FutureWarning: In a future version the predictions will have the id as a column. You can set the `NIXTLA_ID_AS_COL` environment variable to adopt the new behavior and to suppress this warning.\n",
      "  warnings.warn(\n",
      "c:\\Users\\PC314\\anaconda3\\Lib\\site-packages\\statsforecast\\mfles.py:301: RuntimeWarning: overflow encountered in scalar multiply\n",
      "  slope = (M * x_y_sum - x_sum * y_sum) / (M * x_sq_sum - x_sum**2)\n",
      "c:\\Users\\PC314\\anaconda3\\Lib\\site-packages\\statsforecast\\core.py:494: FutureWarning: In a future version the predictions will have the id as a column. You can set the `NIXTLA_ID_AS_COL` environment variable to adopt the new behavior and to suppress this warning.\n",
      "  warnings.warn(\n",
      "c:\\Users\\PC314\\anaconda3\\Lib\\site-packages\\statsforecast\\mfles.py:301: RuntimeWarning: overflow encountered in scalar multiply\n",
      "  slope = (M * x_y_sum - x_sum * y_sum) / (M * x_sq_sum - x_sum**2)\n",
      "c:\\Users\\PC314\\anaconda3\\Lib\\site-packages\\statsforecast\\core.py:494: FutureWarning: In a future version the predictions will have the id as a column. You can set the `NIXTLA_ID_AS_COL` environment variable to adopt the new behavior and to suppress this warning.\n",
      "  warnings.warn(\n",
      "C:\\Users\\PC314\\AppData\\Local\\Temp\\ipykernel_17148\\3122320333.py:50: SettingWithCopyWarning: \n",
      "A value is trying to be set on a copy of a slice from a DataFrame.\n",
      "Try using .loc[row_indexer,col_indexer] = value instead\n",
      "\n",
      "See the caveats in the documentation: https://pandas.pydata.org/pandas-docs/stable/user_guide/indexing.html#returning-a-view-versus-a-copy\n",
      "  train_df['y'] = series\n"
     ]
    },
    {
     "name": "stdout",
     "output_type": "stream",
     "text": [
      "Best Model for log_seasonality_boxcox: MSTL_abc_ARIMA (MAPE: nan%)\n",
      "Training on transformed version: log_seasonality_standardize\n"
     ]
    },
    {
     "name": "stderr",
     "output_type": "stream",
     "text": [
      "c:\\Users\\PC314\\anaconda3\\Lib\\site-packages\\statsforecast\\core.py:494: FutureWarning: In a future version the predictions will have the id as a column. You can set the `NIXTLA_ID_AS_COL` environment variable to adopt the new behavior and to suppress this warning.\n",
      "  warnings.warn(\n",
      "c:\\Users\\PC314\\anaconda3\\Lib\\site-packages\\statsforecast\\core.py:494: FutureWarning: In a future version the predictions will have the id as a column. You can set the `NIXTLA_ID_AS_COL` environment variable to adopt the new behavior and to suppress this warning.\n",
      "  warnings.warn(\n",
      "c:\\Users\\PC314\\anaconda3\\Lib\\site-packages\\statsforecast\\core.py:494: FutureWarning: In a future version the predictions will have the id as a column. You can set the `NIXTLA_ID_AS_COL` environment variable to adopt the new behavior and to suppress this warning.\n",
      "  warnings.warn(\n",
      "c:\\Users\\PC314\\anaconda3\\Lib\\site-packages\\statsforecast\\core.py:494: FutureWarning: In a future version the predictions will have the id as a column. You can set the `NIXTLA_ID_AS_COL` environment variable to adopt the new behavior and to suppress this warning.\n",
      "  warnings.warn(\n",
      "c:\\Users\\PC314\\anaconda3\\Lib\\site-packages\\statsforecast\\core.py:494: FutureWarning: In a future version the predictions will have the id as a column. You can set the `NIXTLA_ID_AS_COL` environment variable to adopt the new behavior and to suppress this warning.\n",
      "  warnings.warn(\n",
      "c:\\Users\\PC314\\anaconda3\\Lib\\site-packages\\statsforecast\\core.py:494: FutureWarning: In a future version the predictions will have the id as a column. You can set the `NIXTLA_ID_AS_COL` environment variable to adopt the new behavior and to suppress this warning.\n",
      "  warnings.warn(\n",
      "C:\\Users\\PC314\\AppData\\Local\\Temp\\ipykernel_17148\\3122320333.py:50: SettingWithCopyWarning: \n",
      "A value is trying to be set on a copy of a slice from a DataFrame.\n",
      "Try using .loc[row_indexer,col_indexer] = value instead\n",
      "\n",
      "See the caveats in the documentation: https://pandas.pydata.org/pandas-docs/stable/user_guide/indexing.html#returning-a-view-versus-a-copy\n",
      "  train_df['y'] = series\n"
     ]
    },
    {
     "name": "stdout",
     "output_type": "stream",
     "text": [
      "Best Model for log_seasonality_standardize: MSTL_ac_MFLES1 (MAPE: 96.69%)\n",
      "Training on transformed version: log_boxcox_standardize\n"
     ]
    },
    {
     "name": "stderr",
     "output_type": "stream",
     "text": [
      "c:\\Users\\PC314\\anaconda3\\Lib\\site-packages\\statsforecast\\core.py:494: FutureWarning: In a future version the predictions will have the id as a column. You can set the `NIXTLA_ID_AS_COL` environment variable to adopt the new behavior and to suppress this warning.\n",
      "  warnings.warn(\n",
      "c:\\Users\\PC314\\anaconda3\\Lib\\site-packages\\statsforecast\\core.py:494: FutureWarning: In a future version the predictions will have the id as a column. You can set the `NIXTLA_ID_AS_COL` environment variable to adopt the new behavior and to suppress this warning.\n",
      "  warnings.warn(\n",
      "c:\\Users\\PC314\\anaconda3\\Lib\\site-packages\\statsforecast\\core.py:494: FutureWarning: In a future version the predictions will have the id as a column. You can set the `NIXTLA_ID_AS_COL` environment variable to adopt the new behavior and to suppress this warning.\n",
      "  warnings.warn(\n",
      "c:\\Users\\PC314\\anaconda3\\Lib\\site-packages\\statsforecast\\mfles.py:301: RuntimeWarning: overflow encountered in scalar multiply\n",
      "  slope = (M * x_y_sum - x_sum * y_sum) / (M * x_sq_sum - x_sum**2)\n",
      "c:\\Users\\PC314\\anaconda3\\Lib\\site-packages\\statsforecast\\core.py:494: FutureWarning: In a future version the predictions will have the id as a column. You can set the `NIXTLA_ID_AS_COL` environment variable to adopt the new behavior and to suppress this warning.\n",
      "  warnings.warn(\n",
      "c:\\Users\\PC314\\anaconda3\\Lib\\site-packages\\statsforecast\\mfles.py:301: RuntimeWarning: overflow encountered in scalar multiply\n",
      "  slope = (M * x_y_sum - x_sum * y_sum) / (M * x_sq_sum - x_sum**2)\n",
      "c:\\Users\\PC314\\anaconda3\\Lib\\site-packages\\statsforecast\\core.py:494: FutureWarning: In a future version the predictions will have the id as a column. You can set the `NIXTLA_ID_AS_COL` environment variable to adopt the new behavior and to suppress this warning.\n",
      "  warnings.warn(\n",
      "c:\\Users\\PC314\\anaconda3\\Lib\\site-packages\\statsforecast\\mfles.py:301: RuntimeWarning: overflow encountered in scalar multiply\n",
      "  slope = (M * x_y_sum - x_sum * y_sum) / (M * x_sq_sum - x_sum**2)\n",
      "c:\\Users\\PC314\\anaconda3\\Lib\\site-packages\\statsforecast\\core.py:494: FutureWarning: In a future version the predictions will have the id as a column. You can set the `NIXTLA_ID_AS_COL` environment variable to adopt the new behavior and to suppress this warning.\n",
      "  warnings.warn(\n",
      "C:\\Users\\PC314\\AppData\\Local\\Temp\\ipykernel_17148\\3122320333.py:50: SettingWithCopyWarning: \n",
      "A value is trying to be set on a copy of a slice from a DataFrame.\n",
      "Try using .loc[row_indexer,col_indexer] = value instead\n",
      "\n",
      "See the caveats in the documentation: https://pandas.pydata.org/pandas-docs/stable/user_guide/indexing.html#returning-a-view-versus-a-copy\n",
      "  train_df['y'] = series\n"
     ]
    },
    {
     "name": "stdout",
     "output_type": "stream",
     "text": [
      "Best Model for log_boxcox_standardize: MSTL_abc_ARIMA (MAPE: nan%)\n",
      "Training on transformed version: trend_seasonality_boxcox\n"
     ]
    },
    {
     "name": "stderr",
     "output_type": "stream",
     "text": [
      "c:\\Users\\PC314\\anaconda3\\Lib\\site-packages\\statsforecast\\core.py:494: FutureWarning: In a future version the predictions will have the id as a column. You can set the `NIXTLA_ID_AS_COL` environment variable to adopt the new behavior and to suppress this warning.\n",
      "  warnings.warn(\n",
      "c:\\Users\\PC314\\anaconda3\\Lib\\site-packages\\statsforecast\\core.py:494: FutureWarning: In a future version the predictions will have the id as a column. You can set the `NIXTLA_ID_AS_COL` environment variable to adopt the new behavior and to suppress this warning.\n",
      "  warnings.warn(\n",
      "c:\\Users\\PC314\\anaconda3\\Lib\\site-packages\\statsforecast\\core.py:494: FutureWarning: In a future version the predictions will have the id as a column. You can set the `NIXTLA_ID_AS_COL` environment variable to adopt the new behavior and to suppress this warning.\n",
      "  warnings.warn(\n",
      "c:\\Users\\PC314\\anaconda3\\Lib\\site-packages\\statsforecast\\mfles.py:301: RuntimeWarning: overflow encountered in scalar multiply\n",
      "  slope = (M * x_y_sum - x_sum * y_sum) / (M * x_sq_sum - x_sum**2)\n",
      "c:\\Users\\PC314\\anaconda3\\Lib\\site-packages\\statsforecast\\core.py:494: FutureWarning: In a future version the predictions will have the id as a column. You can set the `NIXTLA_ID_AS_COL` environment variable to adopt the new behavior and to suppress this warning.\n",
      "  warnings.warn(\n",
      "c:\\Users\\PC314\\anaconda3\\Lib\\site-packages\\statsforecast\\mfles.py:301: RuntimeWarning: overflow encountered in scalar multiply\n",
      "  slope = (M * x_y_sum - x_sum * y_sum) / (M * x_sq_sum - x_sum**2)\n",
      "c:\\Users\\PC314\\anaconda3\\Lib\\site-packages\\statsforecast\\core.py:494: FutureWarning: In a future version the predictions will have the id as a column. You can set the `NIXTLA_ID_AS_COL` environment variable to adopt the new behavior and to suppress this warning.\n",
      "  warnings.warn(\n",
      "c:\\Users\\PC314\\anaconda3\\Lib\\site-packages\\statsforecast\\mfles.py:301: RuntimeWarning: overflow encountered in scalar multiply\n",
      "  slope = (M * x_y_sum - x_sum * y_sum) / (M * x_sq_sum - x_sum**2)\n",
      "c:\\Users\\PC314\\anaconda3\\Lib\\site-packages\\statsforecast\\core.py:494: FutureWarning: In a future version the predictions will have the id as a column. You can set the `NIXTLA_ID_AS_COL` environment variable to adopt the new behavior and to suppress this warning.\n",
      "  warnings.warn(\n",
      "C:\\Users\\PC314\\AppData\\Local\\Temp\\ipykernel_17148\\3122320333.py:50: SettingWithCopyWarning: \n",
      "A value is trying to be set on a copy of a slice from a DataFrame.\n",
      "Try using .loc[row_indexer,col_indexer] = value instead\n",
      "\n",
      "See the caveats in the documentation: https://pandas.pydata.org/pandas-docs/stable/user_guide/indexing.html#returning-a-view-versus-a-copy\n",
      "  train_df['y'] = series\n"
     ]
    },
    {
     "name": "stdout",
     "output_type": "stream",
     "text": [
      "Best Model for trend_seasonality_boxcox: MSTL_a_ARIMA (MAPE: 72.63%)\n",
      "Training on transformed version: trend_seasonality_standardize\n"
     ]
    },
    {
     "name": "stderr",
     "output_type": "stream",
     "text": [
      "c:\\Users\\PC314\\anaconda3\\Lib\\site-packages\\statsforecast\\core.py:494: FutureWarning: In a future version the predictions will have the id as a column. You can set the `NIXTLA_ID_AS_COL` environment variable to adopt the new behavior and to suppress this warning.\n",
      "  warnings.warn(\n",
      "c:\\Users\\PC314\\anaconda3\\Lib\\site-packages\\statsforecast\\core.py:494: FutureWarning: In a future version the predictions will have the id as a column. You can set the `NIXTLA_ID_AS_COL` environment variable to adopt the new behavior and to suppress this warning.\n",
      "  warnings.warn(\n",
      "c:\\Users\\PC314\\anaconda3\\Lib\\site-packages\\statsforecast\\core.py:494: FutureWarning: In a future version the predictions will have the id as a column. You can set the `NIXTLA_ID_AS_COL` environment variable to adopt the new behavior and to suppress this warning.\n",
      "  warnings.warn(\n",
      "c:\\Users\\PC314\\anaconda3\\Lib\\site-packages\\statsforecast\\mfles.py:301: RuntimeWarning: overflow encountered in scalar multiply\n",
      "  slope = (M * x_y_sum - x_sum * y_sum) / (M * x_sq_sum - x_sum**2)\n",
      "c:\\Users\\PC314\\anaconda3\\Lib\\site-packages\\statsforecast\\core.py:494: FutureWarning: In a future version the predictions will have the id as a column. You can set the `NIXTLA_ID_AS_COL` environment variable to adopt the new behavior and to suppress this warning.\n",
      "  warnings.warn(\n",
      "c:\\Users\\PC314\\anaconda3\\Lib\\site-packages\\statsforecast\\mfles.py:301: RuntimeWarning: overflow encountered in scalar multiply\n",
      "  slope = (M * x_y_sum - x_sum * y_sum) / (M * x_sq_sum - x_sum**2)\n",
      "c:\\Users\\PC314\\anaconda3\\Lib\\site-packages\\statsforecast\\core.py:494: FutureWarning: In a future version the predictions will have the id as a column. You can set the `NIXTLA_ID_AS_COL` environment variable to adopt the new behavior and to suppress this warning.\n",
      "  warnings.warn(\n",
      "c:\\Users\\PC314\\anaconda3\\Lib\\site-packages\\statsforecast\\mfles.py:301: RuntimeWarning: overflow encountered in scalar multiply\n",
      "  slope = (M * x_y_sum - x_sum * y_sum) / (M * x_sq_sum - x_sum**2)\n",
      "c:\\Users\\PC314\\anaconda3\\Lib\\site-packages\\statsforecast\\core.py:494: FutureWarning: In a future version the predictions will have the id as a column. You can set the `NIXTLA_ID_AS_COL` environment variable to adopt the new behavior and to suppress this warning.\n",
      "  warnings.warn(\n",
      "C:\\Users\\PC314\\AppData\\Local\\Temp\\ipykernel_17148\\3122320333.py:50: SettingWithCopyWarning: \n",
      "A value is trying to be set on a copy of a slice from a DataFrame.\n",
      "Try using .loc[row_indexer,col_indexer] = value instead\n",
      "\n",
      "See the caveats in the documentation: https://pandas.pydata.org/pandas-docs/stable/user_guide/indexing.html#returning-a-view-versus-a-copy\n",
      "  train_df['y'] = series\n"
     ]
    },
    {
     "name": "stdout",
     "output_type": "stream",
     "text": [
      "Best Model for trend_seasonality_standardize: MSTL_ac_ARIMA (MAPE: 89.05%)\n",
      "Training on transformed version: trend_boxcox_standardize\n"
     ]
    },
    {
     "name": "stderr",
     "output_type": "stream",
     "text": [
      "c:\\Users\\PC314\\anaconda3\\Lib\\site-packages\\statsforecast\\core.py:494: FutureWarning: In a future version the predictions will have the id as a column. You can set the `NIXTLA_ID_AS_COL` environment variable to adopt the new behavior and to suppress this warning.\n",
      "  warnings.warn(\n",
      "c:\\Users\\PC314\\anaconda3\\Lib\\site-packages\\statsforecast\\core.py:494: FutureWarning: In a future version the predictions will have the id as a column. You can set the `NIXTLA_ID_AS_COL` environment variable to adopt the new behavior and to suppress this warning.\n",
      "  warnings.warn(\n",
      "c:\\Users\\PC314\\anaconda3\\Lib\\site-packages\\statsforecast\\core.py:494: FutureWarning: In a future version the predictions will have the id as a column. You can set the `NIXTLA_ID_AS_COL` environment variable to adopt the new behavior and to suppress this warning.\n",
      "  warnings.warn(\n",
      "c:\\Users\\PC314\\anaconda3\\Lib\\site-packages\\statsforecast\\mfles.py:301: RuntimeWarning: overflow encountered in scalar multiply\n",
      "  slope = (M * x_y_sum - x_sum * y_sum) / (M * x_sq_sum - x_sum**2)\n",
      "c:\\Users\\PC314\\anaconda3\\Lib\\site-packages\\statsforecast\\core.py:494: FutureWarning: In a future version the predictions will have the id as a column. You can set the `NIXTLA_ID_AS_COL` environment variable to adopt the new behavior and to suppress this warning.\n",
      "  warnings.warn(\n",
      "c:\\Users\\PC314\\anaconda3\\Lib\\site-packages\\statsforecast\\mfles.py:301: RuntimeWarning: overflow encountered in scalar multiply\n",
      "  slope = (M * x_y_sum - x_sum * y_sum) / (M * x_sq_sum - x_sum**2)\n",
      "c:\\Users\\PC314\\anaconda3\\Lib\\site-packages\\statsforecast\\core.py:494: FutureWarning: In a future version the predictions will have the id as a column. You can set the `NIXTLA_ID_AS_COL` environment variable to adopt the new behavior and to suppress this warning.\n",
      "  warnings.warn(\n",
      "c:\\Users\\PC314\\anaconda3\\Lib\\site-packages\\statsforecast\\mfles.py:301: RuntimeWarning: overflow encountered in scalar multiply\n",
      "  slope = (M * x_y_sum - x_sum * y_sum) / (M * x_sq_sum - x_sum**2)\n",
      "c:\\Users\\PC314\\anaconda3\\Lib\\site-packages\\statsforecast\\core.py:494: FutureWarning: In a future version the predictions will have the id as a column. You can set the `NIXTLA_ID_AS_COL` environment variable to adopt the new behavior and to suppress this warning.\n",
      "  warnings.warn(\n",
      "C:\\Users\\PC314\\AppData\\Local\\Temp\\ipykernel_17148\\3122320333.py:50: SettingWithCopyWarning: \n",
      "A value is trying to be set on a copy of a slice from a DataFrame.\n",
      "Try using .loc[row_indexer,col_indexer] = value instead\n",
      "\n",
      "See the caveats in the documentation: https://pandas.pydata.org/pandas-docs/stable/user_guide/indexing.html#returning-a-view-versus-a-copy\n",
      "  train_df['y'] = series\n"
     ]
    },
    {
     "name": "stdout",
     "output_type": "stream",
     "text": [
      "Best Model for trend_boxcox_standardize: MSTL_ac_ARIMA (MAPE: 89.05%)\n",
      "Training on transformed version: seasonality_boxcox_standardize\n"
     ]
    },
    {
     "name": "stderr",
     "output_type": "stream",
     "text": [
      "c:\\Users\\PC314\\anaconda3\\Lib\\site-packages\\statsforecast\\core.py:494: FutureWarning: In a future version the predictions will have the id as a column. You can set the `NIXTLA_ID_AS_COL` environment variable to adopt the new behavior and to suppress this warning.\n",
      "  warnings.warn(\n",
      "c:\\Users\\PC314\\anaconda3\\Lib\\site-packages\\statsforecast\\core.py:494: FutureWarning: In a future version the predictions will have the id as a column. You can set the `NIXTLA_ID_AS_COL` environment variable to adopt the new behavior and to suppress this warning.\n",
      "  warnings.warn(\n",
      "c:\\Users\\PC314\\anaconda3\\Lib\\site-packages\\statsforecast\\core.py:494: FutureWarning: In a future version the predictions will have the id as a column. You can set the `NIXTLA_ID_AS_COL` environment variable to adopt the new behavior and to suppress this warning.\n",
      "  warnings.warn(\n",
      "c:\\Users\\PC314\\anaconda3\\Lib\\site-packages\\statsforecast\\mfles.py:301: RuntimeWarning: overflow encountered in scalar multiply\n",
      "  slope = (M * x_y_sum - x_sum * y_sum) / (M * x_sq_sum - x_sum**2)\n",
      "c:\\Users\\PC314\\anaconda3\\Lib\\site-packages\\statsforecast\\core.py:494: FutureWarning: In a future version the predictions will have the id as a column. You can set the `NIXTLA_ID_AS_COL` environment variable to adopt the new behavior and to suppress this warning.\n",
      "  warnings.warn(\n",
      "c:\\Users\\PC314\\anaconda3\\Lib\\site-packages\\statsforecast\\mfles.py:301: RuntimeWarning: overflow encountered in scalar multiply\n",
      "  slope = (M * x_y_sum - x_sum * y_sum) / (M * x_sq_sum - x_sum**2)\n",
      "c:\\Users\\PC314\\anaconda3\\Lib\\site-packages\\statsforecast\\core.py:494: FutureWarning: In a future version the predictions will have the id as a column. You can set the `NIXTLA_ID_AS_COL` environment variable to adopt the new behavior and to suppress this warning.\n",
      "  warnings.warn(\n",
      "c:\\Users\\PC314\\anaconda3\\Lib\\site-packages\\statsforecast\\mfles.py:301: RuntimeWarning: overflow encountered in scalar multiply\n",
      "  slope = (M * x_y_sum - x_sum * y_sum) / (M * x_sq_sum - x_sum**2)\n",
      "c:\\Users\\PC314\\anaconda3\\Lib\\site-packages\\statsforecast\\core.py:494: FutureWarning: In a future version the predictions will have the id as a column. You can set the `NIXTLA_ID_AS_COL` environment variable to adopt the new behavior and to suppress this warning.\n",
      "  warnings.warn(\n",
      "C:\\Users\\PC314\\AppData\\Local\\Temp\\ipykernel_17148\\3122320333.py:50: SettingWithCopyWarning: \n",
      "A value is trying to be set on a copy of a slice from a DataFrame.\n",
      "Try using .loc[row_indexer,col_indexer] = value instead\n",
      "\n",
      "See the caveats in the documentation: https://pandas.pydata.org/pandas-docs/stable/user_guide/indexing.html#returning-a-view-versus-a-copy\n",
      "  train_df['y'] = series\n"
     ]
    },
    {
     "name": "stdout",
     "output_type": "stream",
     "text": [
      "Best Model for seasonality_boxcox_standardize: MSTL_ac_ARIMA (MAPE: 99.67%)\n",
      "Training on transformed version: log_trend_seasonality_boxcox\n"
     ]
    },
    {
     "name": "stderr",
     "output_type": "stream",
     "text": [
      "c:\\Users\\PC314\\anaconda3\\Lib\\site-packages\\statsforecast\\core.py:494: FutureWarning: In a future version the predictions will have the id as a column. You can set the `NIXTLA_ID_AS_COL` environment variable to adopt the new behavior and to suppress this warning.\n",
      "  warnings.warn(\n",
      "c:\\Users\\PC314\\anaconda3\\Lib\\site-packages\\statsforecast\\core.py:494: FutureWarning: In a future version the predictions will have the id as a column. You can set the `NIXTLA_ID_AS_COL` environment variable to adopt the new behavior and to suppress this warning.\n",
      "  warnings.warn(\n",
      "c:\\Users\\PC314\\anaconda3\\Lib\\site-packages\\statsforecast\\core.py:494: FutureWarning: In a future version the predictions will have the id as a column. You can set the `NIXTLA_ID_AS_COL` environment variable to adopt the new behavior and to suppress this warning.\n",
      "  warnings.warn(\n",
      "c:\\Users\\PC314\\anaconda3\\Lib\\site-packages\\statsforecast\\mfles.py:301: RuntimeWarning: overflow encountered in scalar multiply\n",
      "  slope = (M * x_y_sum - x_sum * y_sum) / (M * x_sq_sum - x_sum**2)\n",
      "c:\\Users\\PC314\\anaconda3\\Lib\\site-packages\\statsforecast\\core.py:494: FutureWarning: In a future version the predictions will have the id as a column. You can set the `NIXTLA_ID_AS_COL` environment variable to adopt the new behavior and to suppress this warning.\n",
      "  warnings.warn(\n",
      "c:\\Users\\PC314\\anaconda3\\Lib\\site-packages\\statsforecast\\mfles.py:301: RuntimeWarning: overflow encountered in scalar multiply\n",
      "  slope = (M * x_y_sum - x_sum * y_sum) / (M * x_sq_sum - x_sum**2)\n",
      "c:\\Users\\PC314\\anaconda3\\Lib\\site-packages\\statsforecast\\core.py:494: FutureWarning: In a future version the predictions will have the id as a column. You can set the `NIXTLA_ID_AS_COL` environment variable to adopt the new behavior and to suppress this warning.\n",
      "  warnings.warn(\n",
      "c:\\Users\\PC314\\anaconda3\\Lib\\site-packages\\statsforecast\\mfles.py:301: RuntimeWarning: overflow encountered in scalar multiply\n",
      "  slope = (M * x_y_sum - x_sum * y_sum) / (M * x_sq_sum - x_sum**2)\n",
      "c:\\Users\\PC314\\anaconda3\\Lib\\site-packages\\statsforecast\\core.py:494: FutureWarning: In a future version the predictions will have the id as a column. You can set the `NIXTLA_ID_AS_COL` environment variable to adopt the new behavior and to suppress this warning.\n",
      "  warnings.warn(\n",
      "C:\\Users\\PC314\\AppData\\Local\\Temp\\ipykernel_17148\\3122320333.py:50: SettingWithCopyWarning: \n",
      "A value is trying to be set on a copy of a slice from a DataFrame.\n",
      "Try using .loc[row_indexer,col_indexer] = value instead\n",
      "\n",
      "See the caveats in the documentation: https://pandas.pydata.org/pandas-docs/stable/user_guide/indexing.html#returning-a-view-versus-a-copy\n",
      "  train_df['y'] = series\n"
     ]
    },
    {
     "name": "stdout",
     "output_type": "stream",
     "text": [
      "Best Model for log_trend_seasonality_boxcox: MSTL_ac_MFLES1 (MAPE: 1216.76%)\n",
      "Training on transformed version: log_trend_seasonality_standardize\n"
     ]
    },
    {
     "name": "stderr",
     "output_type": "stream",
     "text": [
      "c:\\Users\\PC314\\anaconda3\\Lib\\site-packages\\statsforecast\\core.py:494: FutureWarning: In a future version the predictions will have the id as a column. You can set the `NIXTLA_ID_AS_COL` environment variable to adopt the new behavior and to suppress this warning.\n",
      "  warnings.warn(\n",
      "c:\\Users\\PC314\\anaconda3\\Lib\\site-packages\\statsforecast\\core.py:494: FutureWarning: In a future version the predictions will have the id as a column. You can set the `NIXTLA_ID_AS_COL` environment variable to adopt the new behavior and to suppress this warning.\n",
      "  warnings.warn(\n",
      "c:\\Users\\PC314\\anaconda3\\Lib\\site-packages\\statsforecast\\core.py:494: FutureWarning: In a future version the predictions will have the id as a column. You can set the `NIXTLA_ID_AS_COL` environment variable to adopt the new behavior and to suppress this warning.\n",
      "  warnings.warn(\n",
      "c:\\Users\\PC314\\anaconda3\\Lib\\site-packages\\statsforecast\\mfles.py:301: RuntimeWarning: overflow encountered in scalar multiply\n",
      "  slope = (M * x_y_sum - x_sum * y_sum) / (M * x_sq_sum - x_sum**2)\n",
      "c:\\Users\\PC314\\anaconda3\\Lib\\site-packages\\statsforecast\\core.py:494: FutureWarning: In a future version the predictions will have the id as a column. You can set the `NIXTLA_ID_AS_COL` environment variable to adopt the new behavior and to suppress this warning.\n",
      "  warnings.warn(\n",
      "c:\\Users\\PC314\\anaconda3\\Lib\\site-packages\\statsforecast\\mfles.py:301: RuntimeWarning: overflow encountered in scalar multiply\n",
      "  slope = (M * x_y_sum - x_sum * y_sum) / (M * x_sq_sum - x_sum**2)\n",
      "c:\\Users\\PC314\\anaconda3\\Lib\\site-packages\\statsforecast\\core.py:494: FutureWarning: In a future version the predictions will have the id as a column. You can set the `NIXTLA_ID_AS_COL` environment variable to adopt the new behavior and to suppress this warning.\n",
      "  warnings.warn(\n",
      "c:\\Users\\PC314\\anaconda3\\Lib\\site-packages\\statsforecast\\mfles.py:301: RuntimeWarning: overflow encountered in scalar multiply\n",
      "  slope = (M * x_y_sum - x_sum * y_sum) / (M * x_sq_sum - x_sum**2)\n",
      "c:\\Users\\PC314\\anaconda3\\Lib\\site-packages\\statsforecast\\core.py:494: FutureWarning: In a future version the predictions will have the id as a column. You can set the `NIXTLA_ID_AS_COL` environment variable to adopt the new behavior and to suppress this warning.\n",
      "  warnings.warn(\n",
      "C:\\Users\\PC314\\AppData\\Local\\Temp\\ipykernel_17148\\3122320333.py:50: SettingWithCopyWarning: \n",
      "A value is trying to be set on a copy of a slice from a DataFrame.\n",
      "Try using .loc[row_indexer,col_indexer] = value instead\n",
      "\n",
      "See the caveats in the documentation: https://pandas.pydata.org/pandas-docs/stable/user_guide/indexing.html#returning-a-view-versus-a-copy\n",
      "  train_df['y'] = series\n"
     ]
    },
    {
     "name": "stdout",
     "output_type": "stream",
     "text": [
      "Best Model for log_trend_seasonality_standardize: MSTL_ac_MFLES1 (MAPE: 1216.76%)\n",
      "Training on transformed version: log_trend_boxcox_standardize\n"
     ]
    },
    {
     "name": "stderr",
     "output_type": "stream",
     "text": [
      "c:\\Users\\PC314\\anaconda3\\Lib\\site-packages\\statsforecast\\core.py:494: FutureWarning: In a future version the predictions will have the id as a column. You can set the `NIXTLA_ID_AS_COL` environment variable to adopt the new behavior and to suppress this warning.\n",
      "  warnings.warn(\n",
      "c:\\Users\\PC314\\anaconda3\\Lib\\site-packages\\statsforecast\\core.py:494: FutureWarning: In a future version the predictions will have the id as a column. You can set the `NIXTLA_ID_AS_COL` environment variable to adopt the new behavior and to suppress this warning.\n",
      "  warnings.warn(\n",
      "c:\\Users\\PC314\\anaconda3\\Lib\\site-packages\\statsforecast\\core.py:494: FutureWarning: In a future version the predictions will have the id as a column. You can set the `NIXTLA_ID_AS_COL` environment variable to adopt the new behavior and to suppress this warning.\n",
      "  warnings.warn(\n",
      "c:\\Users\\PC314\\anaconda3\\Lib\\site-packages\\statsforecast\\mfles.py:301: RuntimeWarning: overflow encountered in scalar multiply\n",
      "  slope = (M * x_y_sum - x_sum * y_sum) / (M * x_sq_sum - x_sum**2)\n",
      "c:\\Users\\PC314\\anaconda3\\Lib\\site-packages\\statsforecast\\core.py:494: FutureWarning: In a future version the predictions will have the id as a column. You can set the `NIXTLA_ID_AS_COL` environment variable to adopt the new behavior and to suppress this warning.\n",
      "  warnings.warn(\n",
      "c:\\Users\\PC314\\anaconda3\\Lib\\site-packages\\statsforecast\\mfles.py:301: RuntimeWarning: overflow encountered in scalar multiply\n",
      "  slope = (M * x_y_sum - x_sum * y_sum) / (M * x_sq_sum - x_sum**2)\n",
      "c:\\Users\\PC314\\anaconda3\\Lib\\site-packages\\statsforecast\\core.py:494: FutureWarning: In a future version the predictions will have the id as a column. You can set the `NIXTLA_ID_AS_COL` environment variable to adopt the new behavior and to suppress this warning.\n",
      "  warnings.warn(\n",
      "c:\\Users\\PC314\\anaconda3\\Lib\\site-packages\\statsforecast\\mfles.py:301: RuntimeWarning: overflow encountered in scalar multiply\n",
      "  slope = (M * x_y_sum - x_sum * y_sum) / (M * x_sq_sum - x_sum**2)\n",
      "c:\\Users\\PC314\\anaconda3\\Lib\\site-packages\\statsforecast\\core.py:494: FutureWarning: In a future version the predictions will have the id as a column. You can set the `NIXTLA_ID_AS_COL` environment variable to adopt the new behavior and to suppress this warning.\n",
      "  warnings.warn(\n",
      "C:\\Users\\PC314\\AppData\\Local\\Temp\\ipykernel_17148\\3122320333.py:50: SettingWithCopyWarning: \n",
      "A value is trying to be set on a copy of a slice from a DataFrame.\n",
      "Try using .loc[row_indexer,col_indexer] = value instead\n",
      "\n",
      "See the caveats in the documentation: https://pandas.pydata.org/pandas-docs/stable/user_guide/indexing.html#returning-a-view-versus-a-copy\n",
      "  train_df['y'] = series\n"
     ]
    },
    {
     "name": "stdout",
     "output_type": "stream",
     "text": [
      "Best Model for log_trend_boxcox_standardize: MSTL_ac_MFLES1 (MAPE: 1216.76%)\n",
      "Training on transformed version: log_seasonality_boxcox_standardize\n"
     ]
    },
    {
     "name": "stderr",
     "output_type": "stream",
     "text": [
      "c:\\Users\\PC314\\anaconda3\\Lib\\site-packages\\statsforecast\\core.py:494: FutureWarning: In a future version the predictions will have the id as a column. You can set the `NIXTLA_ID_AS_COL` environment variable to adopt the new behavior and to suppress this warning.\n",
      "  warnings.warn(\n",
      "c:\\Users\\PC314\\anaconda3\\Lib\\site-packages\\statsforecast\\core.py:494: FutureWarning: In a future version the predictions will have the id as a column. You can set the `NIXTLA_ID_AS_COL` environment variable to adopt the new behavior and to suppress this warning.\n",
      "  warnings.warn(\n",
      "c:\\Users\\PC314\\anaconda3\\Lib\\site-packages\\statsforecast\\core.py:494: FutureWarning: In a future version the predictions will have the id as a column. You can set the `NIXTLA_ID_AS_COL` environment variable to adopt the new behavior and to suppress this warning.\n",
      "  warnings.warn(\n",
      "c:\\Users\\PC314\\anaconda3\\Lib\\site-packages\\statsforecast\\mfles.py:301: RuntimeWarning: overflow encountered in scalar multiply\n",
      "  slope = (M * x_y_sum - x_sum * y_sum) / (M * x_sq_sum - x_sum**2)\n",
      "c:\\Users\\PC314\\anaconda3\\Lib\\site-packages\\statsforecast\\core.py:494: FutureWarning: In a future version the predictions will have the id as a column. You can set the `NIXTLA_ID_AS_COL` environment variable to adopt the new behavior and to suppress this warning.\n",
      "  warnings.warn(\n",
      "c:\\Users\\PC314\\anaconda3\\Lib\\site-packages\\statsforecast\\mfles.py:301: RuntimeWarning: overflow encountered in scalar multiply\n",
      "  slope = (M * x_y_sum - x_sum * y_sum) / (M * x_sq_sum - x_sum**2)\n",
      "c:\\Users\\PC314\\anaconda3\\Lib\\site-packages\\statsforecast\\core.py:494: FutureWarning: In a future version the predictions will have the id as a column. You can set the `NIXTLA_ID_AS_COL` environment variable to adopt the new behavior and to suppress this warning.\n",
      "  warnings.warn(\n",
      "c:\\Users\\PC314\\anaconda3\\Lib\\site-packages\\statsforecast\\mfles.py:301: RuntimeWarning: overflow encountered in scalar multiply\n",
      "  slope = (M * x_y_sum - x_sum * y_sum) / (M * x_sq_sum - x_sum**2)\n",
      "c:\\Users\\PC314\\anaconda3\\Lib\\site-packages\\statsforecast\\core.py:494: FutureWarning: In a future version the predictions will have the id as a column. You can set the `NIXTLA_ID_AS_COL` environment variable to adopt the new behavior and to suppress this warning.\n",
      "  warnings.warn(\n",
      "C:\\Users\\PC314\\AppData\\Local\\Temp\\ipykernel_17148\\3122320333.py:50: SettingWithCopyWarning: \n",
      "A value is trying to be set on a copy of a slice from a DataFrame.\n",
      "Try using .loc[row_indexer,col_indexer] = value instead\n",
      "\n",
      "See the caveats in the documentation: https://pandas.pydata.org/pandas-docs/stable/user_guide/indexing.html#returning-a-view-versus-a-copy\n",
      "  train_df['y'] = series\n"
     ]
    },
    {
     "name": "stdout",
     "output_type": "stream",
     "text": [
      "Best Model for log_seasonality_boxcox_standardize: MSTL_abc_ARIMA (MAPE: nan%)\n",
      "Training on transformed version: trend_seasonality_boxcox_standardize\n"
     ]
    },
    {
     "name": "stderr",
     "output_type": "stream",
     "text": [
      "c:\\Users\\PC314\\anaconda3\\Lib\\site-packages\\statsforecast\\core.py:494: FutureWarning: In a future version the predictions will have the id as a column. You can set the `NIXTLA_ID_AS_COL` environment variable to adopt the new behavior and to suppress this warning.\n",
      "  warnings.warn(\n",
      "c:\\Users\\PC314\\anaconda3\\Lib\\site-packages\\statsforecast\\core.py:494: FutureWarning: In a future version the predictions will have the id as a column. You can set the `NIXTLA_ID_AS_COL` environment variable to adopt the new behavior and to suppress this warning.\n",
      "  warnings.warn(\n",
      "c:\\Users\\PC314\\anaconda3\\Lib\\site-packages\\statsforecast\\core.py:494: FutureWarning: In a future version the predictions will have the id as a column. You can set the `NIXTLA_ID_AS_COL` environment variable to adopt the new behavior and to suppress this warning.\n",
      "  warnings.warn(\n",
      "c:\\Users\\PC314\\anaconda3\\Lib\\site-packages\\statsforecast\\mfles.py:301: RuntimeWarning: overflow encountered in scalar multiply\n",
      "  slope = (M * x_y_sum - x_sum * y_sum) / (M * x_sq_sum - x_sum**2)\n",
      "c:\\Users\\PC314\\anaconda3\\Lib\\site-packages\\statsforecast\\core.py:494: FutureWarning: In a future version the predictions will have the id as a column. You can set the `NIXTLA_ID_AS_COL` environment variable to adopt the new behavior and to suppress this warning.\n",
      "  warnings.warn(\n",
      "c:\\Users\\PC314\\anaconda3\\Lib\\site-packages\\statsforecast\\mfles.py:301: RuntimeWarning: overflow encountered in scalar multiply\n",
      "  slope = (M * x_y_sum - x_sum * y_sum) / (M * x_sq_sum - x_sum**2)\n",
      "c:\\Users\\PC314\\anaconda3\\Lib\\site-packages\\statsforecast\\core.py:494: FutureWarning: In a future version the predictions will have the id as a column. You can set the `NIXTLA_ID_AS_COL` environment variable to adopt the new behavior and to suppress this warning.\n",
      "  warnings.warn(\n",
      "c:\\Users\\PC314\\anaconda3\\Lib\\site-packages\\statsforecast\\mfles.py:301: RuntimeWarning: overflow encountered in scalar multiply\n",
      "  slope = (M * x_y_sum - x_sum * y_sum) / (M * x_sq_sum - x_sum**2)\n",
      "c:\\Users\\PC314\\anaconda3\\Lib\\site-packages\\statsforecast\\core.py:494: FutureWarning: In a future version the predictions will have the id as a column. You can set the `NIXTLA_ID_AS_COL` environment variable to adopt the new behavior and to suppress this warning.\n",
      "  warnings.warn(\n",
      "C:\\Users\\PC314\\AppData\\Local\\Temp\\ipykernel_17148\\3122320333.py:50: SettingWithCopyWarning: \n",
      "A value is trying to be set on a copy of a slice from a DataFrame.\n",
      "Try using .loc[row_indexer,col_indexer] = value instead\n",
      "\n",
      "See the caveats in the documentation: https://pandas.pydata.org/pandas-docs/stable/user_guide/indexing.html#returning-a-view-versus-a-copy\n",
      "  train_df['y'] = series\n"
     ]
    },
    {
     "name": "stdout",
     "output_type": "stream",
     "text": [
      "Best Model for trend_seasonality_boxcox_standardize: MSTL_ac_ARIMA (MAPE: 89.05%)\n",
      "Training on transformed version: log_trend_seasonality_boxcox_standardize\n"
     ]
    },
    {
     "name": "stderr",
     "output_type": "stream",
     "text": [
      "c:\\Users\\PC314\\anaconda3\\Lib\\site-packages\\statsforecast\\core.py:494: FutureWarning: In a future version the predictions will have the id as a column. You can set the `NIXTLA_ID_AS_COL` environment variable to adopt the new behavior and to suppress this warning.\n",
      "  warnings.warn(\n",
      "c:\\Users\\PC314\\anaconda3\\Lib\\site-packages\\statsforecast\\core.py:494: FutureWarning: In a future version the predictions will have the id as a column. You can set the `NIXTLA_ID_AS_COL` environment variable to adopt the new behavior and to suppress this warning.\n",
      "  warnings.warn(\n",
      "c:\\Users\\PC314\\anaconda3\\Lib\\site-packages\\statsforecast\\core.py:494: FutureWarning: In a future version the predictions will have the id as a column. You can set the `NIXTLA_ID_AS_COL` environment variable to adopt the new behavior and to suppress this warning.\n",
      "  warnings.warn(\n",
      "c:\\Users\\PC314\\anaconda3\\Lib\\site-packages\\statsforecast\\mfles.py:301: RuntimeWarning: overflow encountered in scalar multiply\n",
      "  slope = (M * x_y_sum - x_sum * y_sum) / (M * x_sq_sum - x_sum**2)\n",
      "c:\\Users\\PC314\\anaconda3\\Lib\\site-packages\\statsforecast\\core.py:494: FutureWarning: In a future version the predictions will have the id as a column. You can set the `NIXTLA_ID_AS_COL` environment variable to adopt the new behavior and to suppress this warning.\n",
      "  warnings.warn(\n",
      "c:\\Users\\PC314\\anaconda3\\Lib\\site-packages\\statsforecast\\mfles.py:301: RuntimeWarning: overflow encountered in scalar multiply\n",
      "  slope = (M * x_y_sum - x_sum * y_sum) / (M * x_sq_sum - x_sum**2)\n",
      "c:\\Users\\PC314\\anaconda3\\Lib\\site-packages\\statsforecast\\core.py:494: FutureWarning: In a future version the predictions will have the id as a column. You can set the `NIXTLA_ID_AS_COL` environment variable to adopt the new behavior and to suppress this warning.\n",
      "  warnings.warn(\n",
      "c:\\Users\\PC314\\anaconda3\\Lib\\site-packages\\statsforecast\\mfles.py:301: RuntimeWarning: overflow encountered in scalar multiply\n",
      "  slope = (M * x_y_sum - x_sum * y_sum) / (M * x_sq_sum - x_sum**2)\n",
      "c:\\Users\\PC314\\anaconda3\\Lib\\site-packages\\statsforecast\\core.py:494: FutureWarning: In a future version the predictions will have the id as a column. You can set the `NIXTLA_ID_AS_COL` environment variable to adopt the new behavior and to suppress this warning.\n",
      "  warnings.warn(\n",
      "C:\\Users\\PC314\\AppData\\Local\\Temp\\ipykernel_17148\\2310296225.py:49: UserWarning: Skipping seasonality removal: Data is too short for a full seasonal cycle.\n",
      "  warnings.warn(\"Skipping seasonality removal: Data is too short for a full seasonal cycle.\")\n",
      "C:\\Users\\PC314\\AppData\\Local\\Temp\\ipykernel_17148\\2310296225.py:69: UserWarning: Failed to apply Box-Cox transformation: The `x` argument of `boxcox_normmax` must contain only positive, finite, real numbers.\n",
      "  warnings.warn(f\"Failed to apply Box-Cox transformation: {e}\")\n",
      "C:\\Users\\PC314\\AppData\\Local\\Temp\\ipykernel_17148\\3122320333.py:50: SettingWithCopyWarning: \n",
      "A value is trying to be set on a copy of a slice from a DataFrame.\n",
      "Try using .loc[row_indexer,col_indexer] = value instead\n",
      "\n",
      "See the caveats in the documentation: https://pandas.pydata.org/pandas-docs/stable/user_guide/indexing.html#returning-a-view-versus-a-copy\n",
      "  train_df['y'] = series\n"
     ]
    },
    {
     "name": "stdout",
     "output_type": "stream",
     "text": [
      "Best Model for log_trend_seasonality_boxcox_standardize: MSTL_ac_MFLES1 (MAPE: 1216.76%)\n",
      "Processing Sensor 2, Scenario: 12M_train\n",
      "Training on transformed version: original\n"
     ]
    },
    {
     "name": "stderr",
     "output_type": "stream",
     "text": [
      "c:\\Users\\PC314\\anaconda3\\Lib\\site-packages\\statsforecast\\core.py:494: FutureWarning: In a future version the predictions will have the id as a column. You can set the `NIXTLA_ID_AS_COL` environment variable to adopt the new behavior and to suppress this warning.\n",
      "  warnings.warn(\n",
      "c:\\Users\\PC314\\anaconda3\\Lib\\site-packages\\statsforecast\\core.py:494: FutureWarning: In a future version the predictions will have the id as a column. You can set the `NIXTLA_ID_AS_COL` environment variable to adopt the new behavior and to suppress this warning.\n",
      "  warnings.warn(\n",
      "c:\\Users\\PC314\\anaconda3\\Lib\\site-packages\\statsforecast\\core.py:494: FutureWarning: In a future version the predictions will have the id as a column. You can set the `NIXTLA_ID_AS_COL` environment variable to adopt the new behavior and to suppress this warning.\n",
      "  warnings.warn(\n",
      "c:\\Users\\PC314\\anaconda3\\Lib\\site-packages\\statsforecast\\mfles.py:301: RuntimeWarning: overflow encountered in scalar multiply\n",
      "  slope = (M * x_y_sum - x_sum * y_sum) / (M * x_sq_sum - x_sum**2)\n",
      "c:\\Users\\PC314\\anaconda3\\Lib\\site-packages\\statsforecast\\mfles.py:301: RuntimeWarning: overflow encountered in scalar subtract\n",
      "  slope = (M * x_y_sum - x_sum * y_sum) / (M * x_sq_sum - x_sum**2)\n",
      "c:\\Users\\PC314\\anaconda3\\Lib\\site-packages\\statsforecast\\core.py:494: FutureWarning: In a future version the predictions will have the id as a column. You can set the `NIXTLA_ID_AS_COL` environment variable to adopt the new behavior and to suppress this warning.\n",
      "  warnings.warn(\n",
      "c:\\Users\\PC314\\anaconda3\\Lib\\site-packages\\statsforecast\\mfles.py:301: RuntimeWarning: overflow encountered in scalar multiply\n",
      "  slope = (M * x_y_sum - x_sum * y_sum) / (M * x_sq_sum - x_sum**2)\n",
      "c:\\Users\\PC314\\anaconda3\\Lib\\site-packages\\statsforecast\\mfles.py:301: RuntimeWarning: overflow encountered in scalar subtract\n",
      "  slope = (M * x_y_sum - x_sum * y_sum) / (M * x_sq_sum - x_sum**2)\n",
      "c:\\Users\\PC314\\anaconda3\\Lib\\site-packages\\statsforecast\\core.py:494: FutureWarning: In a future version the predictions will have the id as a column. You can set the `NIXTLA_ID_AS_COL` environment variable to adopt the new behavior and to suppress this warning.\n",
      "  warnings.warn(\n",
      "c:\\Users\\PC314\\anaconda3\\Lib\\site-packages\\statsforecast\\mfles.py:301: RuntimeWarning: overflow encountered in scalar multiply\n",
      "  slope = (M * x_y_sum - x_sum * y_sum) / (M * x_sq_sum - x_sum**2)\n",
      "c:\\Users\\PC314\\anaconda3\\Lib\\site-packages\\statsforecast\\mfles.py:301: RuntimeWarning: overflow encountered in scalar subtract\n",
      "  slope = (M * x_y_sum - x_sum * y_sum) / (M * x_sq_sum - x_sum**2)\n",
      "c:\\Users\\PC314\\anaconda3\\Lib\\site-packages\\statsforecast\\core.py:494: FutureWarning: In a future version the predictions will have the id as a column. You can set the `NIXTLA_ID_AS_COL` environment variable to adopt the new behavior and to suppress this warning.\n",
      "  warnings.warn(\n",
      "C:\\Users\\PC314\\AppData\\Local\\Temp\\ipykernel_17148\\3122320333.py:50: SettingWithCopyWarning: \n",
      "A value is trying to be set on a copy of a slice from a DataFrame.\n",
      "Try using .loc[row_indexer,col_indexer] = value instead\n",
      "\n",
      "See the caveats in the documentation: https://pandas.pydata.org/pandas-docs/stable/user_guide/indexing.html#returning-a-view-versus-a-copy\n",
      "  train_df['y'] = series\n"
     ]
    },
    {
     "name": "stdout",
     "output_type": "stream",
     "text": [
      "Best Model for original: MSTL_ac_ARIMA (MAPE: 39.04%)\n",
      "Saving model 2_12M_train_original_MSTL_ac_ARIMA_028a65e5\n",
      "Training on transformed version: log\n"
     ]
    },
    {
     "name": "stderr",
     "output_type": "stream",
     "text": [
      "c:\\Users\\PC314\\anaconda3\\Lib\\site-packages\\statsforecast\\core.py:494: FutureWarning: In a future version the predictions will have the id as a column. You can set the `NIXTLA_ID_AS_COL` environment variable to adopt the new behavior and to suppress this warning.\n",
      "  warnings.warn(\n",
      "c:\\Users\\PC314\\anaconda3\\Lib\\site-packages\\statsforecast\\core.py:494: FutureWarning: In a future version the predictions will have the id as a column. You can set the `NIXTLA_ID_AS_COL` environment variable to adopt the new behavior and to suppress this warning.\n",
      "  warnings.warn(\n",
      "c:\\Users\\PC314\\anaconda3\\Lib\\site-packages\\statsforecast\\core.py:494: FutureWarning: In a future version the predictions will have the id as a column. You can set the `NIXTLA_ID_AS_COL` environment variable to adopt the new behavior and to suppress this warning.\n",
      "  warnings.warn(\n",
      "c:\\Users\\PC314\\anaconda3\\Lib\\site-packages\\statsforecast\\mfles.py:301: RuntimeWarning: overflow encountered in scalar multiply\n",
      "  slope = (M * x_y_sum - x_sum * y_sum) / (M * x_sq_sum - x_sum**2)\n",
      "c:\\Users\\PC314\\anaconda3\\Lib\\site-packages\\statsforecast\\mfles.py:301: RuntimeWarning: overflow encountered in scalar subtract\n",
      "  slope = (M * x_y_sum - x_sum * y_sum) / (M * x_sq_sum - x_sum**2)\n",
      "c:\\Users\\PC314\\anaconda3\\Lib\\site-packages\\statsforecast\\core.py:494: FutureWarning: In a future version the predictions will have the id as a column. You can set the `NIXTLA_ID_AS_COL` environment variable to adopt the new behavior and to suppress this warning.\n",
      "  warnings.warn(\n",
      "c:\\Users\\PC314\\anaconda3\\Lib\\site-packages\\statsforecast\\mfles.py:301: RuntimeWarning: overflow encountered in scalar multiply\n",
      "  slope = (M * x_y_sum - x_sum * y_sum) / (M * x_sq_sum - x_sum**2)\n",
      "c:\\Users\\PC314\\anaconda3\\Lib\\site-packages\\statsforecast\\mfles.py:301: RuntimeWarning: overflow encountered in scalar subtract\n",
      "  slope = (M * x_y_sum - x_sum * y_sum) / (M * x_sq_sum - x_sum**2)\n",
      "c:\\Users\\PC314\\anaconda3\\Lib\\site-packages\\statsforecast\\core.py:494: FutureWarning: In a future version the predictions will have the id as a column. You can set the `NIXTLA_ID_AS_COL` environment variable to adopt the new behavior and to suppress this warning.\n",
      "  warnings.warn(\n",
      "c:\\Users\\PC314\\anaconda3\\Lib\\site-packages\\statsforecast\\mfles.py:301: RuntimeWarning: overflow encountered in scalar multiply\n",
      "  slope = (M * x_y_sum - x_sum * y_sum) / (M * x_sq_sum - x_sum**2)\n",
      "c:\\Users\\PC314\\anaconda3\\Lib\\site-packages\\statsforecast\\mfles.py:301: RuntimeWarning: overflow encountered in scalar subtract\n",
      "  slope = (M * x_y_sum - x_sum * y_sum) / (M * x_sq_sum - x_sum**2)\n",
      "c:\\Users\\PC314\\anaconda3\\Lib\\site-packages\\statsforecast\\core.py:494: FutureWarning: In a future version the predictions will have the id as a column. You can set the `NIXTLA_ID_AS_COL` environment variable to adopt the new behavior and to suppress this warning.\n",
      "  warnings.warn(\n",
      "C:\\Users\\PC314\\AppData\\Local\\Temp\\ipykernel_17148\\3122320333.py:50: SettingWithCopyWarning: \n",
      "A value is trying to be set on a copy of a slice from a DataFrame.\n",
      "Try using .loc[row_indexer,col_indexer] = value instead\n",
      "\n",
      "See the caveats in the documentation: https://pandas.pydata.org/pandas-docs/stable/user_guide/indexing.html#returning-a-view-versus-a-copy\n",
      "  train_df['y'] = series\n"
     ]
    },
    {
     "name": "stdout",
     "output_type": "stream",
     "text": [
      "Best Model for log: MSTL_abc_ARIMA (MAPE: 36.34%)\n",
      "Saving model 2_12M_train_log_MSTL_abc_ARIMA_5c6b17fd\n",
      "Training on transformed version: trend\n"
     ]
    },
    {
     "name": "stderr",
     "output_type": "stream",
     "text": [
      "c:\\Users\\PC314\\anaconda3\\Lib\\site-packages\\statsforecast\\core.py:494: FutureWarning: In a future version the predictions will have the id as a column. You can set the `NIXTLA_ID_AS_COL` environment variable to adopt the new behavior and to suppress this warning.\n",
      "  warnings.warn(\n",
      "c:\\Users\\PC314\\anaconda3\\Lib\\site-packages\\statsforecast\\core.py:494: FutureWarning: In a future version the predictions will have the id as a column. You can set the `NIXTLA_ID_AS_COL` environment variable to adopt the new behavior and to suppress this warning.\n",
      "  warnings.warn(\n",
      "c:\\Users\\PC314\\anaconda3\\Lib\\site-packages\\statsforecast\\core.py:494: FutureWarning: In a future version the predictions will have the id as a column. You can set the `NIXTLA_ID_AS_COL` environment variable to adopt the new behavior and to suppress this warning.\n",
      "  warnings.warn(\n",
      "c:\\Users\\PC314\\anaconda3\\Lib\\site-packages\\statsforecast\\core.py:494: FutureWarning: In a future version the predictions will have the id as a column. You can set the `NIXTLA_ID_AS_COL` environment variable to adopt the new behavior and to suppress this warning.\n",
      "  warnings.warn(\n",
      "c:\\Users\\PC314\\anaconda3\\Lib\\site-packages\\statsforecast\\core.py:494: FutureWarning: In a future version the predictions will have the id as a column. You can set the `NIXTLA_ID_AS_COL` environment variable to adopt the new behavior and to suppress this warning.\n",
      "  warnings.warn(\n",
      "c:\\Users\\PC314\\anaconda3\\Lib\\site-packages\\statsforecast\\core.py:494: FutureWarning: In a future version the predictions will have the id as a column. You can set the `NIXTLA_ID_AS_COL` environment variable to adopt the new behavior and to suppress this warning.\n",
      "  warnings.warn(\n",
      "C:\\Users\\PC314\\AppData\\Local\\Temp\\ipykernel_17148\\3122320333.py:50: SettingWithCopyWarning: \n",
      "A value is trying to be set on a copy of a slice from a DataFrame.\n",
      "Try using .loc[row_indexer,col_indexer] = value instead\n",
      "\n",
      "See the caveats in the documentation: https://pandas.pydata.org/pandas-docs/stable/user_guide/indexing.html#returning-a-view-versus-a-copy\n",
      "  train_df['y'] = series\n"
     ]
    },
    {
     "name": "stdout",
     "output_type": "stream",
     "text": [
      "Best Model for trend: MSTL_a_ARIMA (MAPE: 89.95%)\n",
      "Training on transformed version: seasonality\n"
     ]
    },
    {
     "name": "stderr",
     "output_type": "stream",
     "text": [
      "c:\\Users\\PC314\\anaconda3\\Lib\\site-packages\\statsforecast\\core.py:494: FutureWarning: In a future version the predictions will have the id as a column. You can set the `NIXTLA_ID_AS_COL` environment variable to adopt the new behavior and to suppress this warning.\n",
      "  warnings.warn(\n",
      "c:\\Users\\PC314\\anaconda3\\Lib\\site-packages\\statsforecast\\core.py:494: FutureWarning: In a future version the predictions will have the id as a column. You can set the `NIXTLA_ID_AS_COL` environment variable to adopt the new behavior and to suppress this warning.\n",
      "  warnings.warn(\n",
      "c:\\Users\\PC314\\anaconda3\\Lib\\site-packages\\statsforecast\\core.py:494: FutureWarning: In a future version the predictions will have the id as a column. You can set the `NIXTLA_ID_AS_COL` environment variable to adopt the new behavior and to suppress this warning.\n",
      "  warnings.warn(\n",
      "c:\\Users\\PC314\\anaconda3\\Lib\\site-packages\\statsforecast\\mfles.py:301: RuntimeWarning: overflow encountered in scalar multiply\n",
      "  slope = (M * x_y_sum - x_sum * y_sum) / (M * x_sq_sum - x_sum**2)\n",
      "c:\\Users\\PC314\\anaconda3\\Lib\\site-packages\\statsforecast\\mfles.py:301: RuntimeWarning: overflow encountered in scalar subtract\n",
      "  slope = (M * x_y_sum - x_sum * y_sum) / (M * x_sq_sum - x_sum**2)\n",
      "c:\\Users\\PC314\\anaconda3\\Lib\\site-packages\\statsforecast\\core.py:494: FutureWarning: In a future version the predictions will have the id as a column. You can set the `NIXTLA_ID_AS_COL` environment variable to adopt the new behavior and to suppress this warning.\n",
      "  warnings.warn(\n",
      "c:\\Users\\PC314\\anaconda3\\Lib\\site-packages\\statsforecast\\mfles.py:301: RuntimeWarning: overflow encountered in scalar multiply\n",
      "  slope = (M * x_y_sum - x_sum * y_sum) / (M * x_sq_sum - x_sum**2)\n",
      "c:\\Users\\PC314\\anaconda3\\Lib\\site-packages\\statsforecast\\mfles.py:301: RuntimeWarning: overflow encountered in scalar subtract\n",
      "  slope = (M * x_y_sum - x_sum * y_sum) / (M * x_sq_sum - x_sum**2)\n",
      "c:\\Users\\PC314\\anaconda3\\Lib\\site-packages\\statsforecast\\core.py:494: FutureWarning: In a future version the predictions will have the id as a column. You can set the `NIXTLA_ID_AS_COL` environment variable to adopt the new behavior and to suppress this warning.\n",
      "  warnings.warn(\n",
      "c:\\Users\\PC314\\anaconda3\\Lib\\site-packages\\statsforecast\\mfles.py:301: RuntimeWarning: overflow encountered in scalar multiply\n",
      "  slope = (M * x_y_sum - x_sum * y_sum) / (M * x_sq_sum - x_sum**2)\n",
      "c:\\Users\\PC314\\anaconda3\\Lib\\site-packages\\statsforecast\\mfles.py:301: RuntimeWarning: overflow encountered in scalar subtract\n",
      "  slope = (M * x_y_sum - x_sum * y_sum) / (M * x_sq_sum - x_sum**2)\n",
      "c:\\Users\\PC314\\anaconda3\\Lib\\site-packages\\statsforecast\\core.py:494: FutureWarning: In a future version the predictions will have the id as a column. You can set the `NIXTLA_ID_AS_COL` environment variable to adopt the new behavior and to suppress this warning.\n",
      "  warnings.warn(\n",
      "C:\\Users\\PC314\\AppData\\Local\\Temp\\ipykernel_17148\\3122320333.py:50: SettingWithCopyWarning: \n",
      "A value is trying to be set on a copy of a slice from a DataFrame.\n",
      "Try using .loc[row_indexer,col_indexer] = value instead\n",
      "\n",
      "See the caveats in the documentation: https://pandas.pydata.org/pandas-docs/stable/user_guide/indexing.html#returning-a-view-versus-a-copy\n",
      "  train_df['y'] = series\n"
     ]
    },
    {
     "name": "stdout",
     "output_type": "stream",
     "text": [
      "Best Model for seasonality: MSTL_ac_ARIMA (MAPE: 39.04%)\n",
      "Saving model 2_12M_train_seasonality_MSTL_ac_ARIMA_8d205526\n",
      "Training on transformed version: boxcox\n"
     ]
    },
    {
     "name": "stderr",
     "output_type": "stream",
     "text": [
      "c:\\Users\\PC314\\anaconda3\\Lib\\site-packages\\statsforecast\\core.py:494: FutureWarning: In a future version the predictions will have the id as a column. You can set the `NIXTLA_ID_AS_COL` environment variable to adopt the new behavior and to suppress this warning.\n",
      "  warnings.warn(\n",
      "c:\\Users\\PC314\\anaconda3\\Lib\\site-packages\\statsforecast\\core.py:494: FutureWarning: In a future version the predictions will have the id as a column. You can set the `NIXTLA_ID_AS_COL` environment variable to adopt the new behavior and to suppress this warning.\n",
      "  warnings.warn(\n",
      "c:\\Users\\PC314\\anaconda3\\Lib\\site-packages\\statsforecast\\core.py:494: FutureWarning: In a future version the predictions will have the id as a column. You can set the `NIXTLA_ID_AS_COL` environment variable to adopt the new behavior and to suppress this warning.\n",
      "  warnings.warn(\n",
      "c:\\Users\\PC314\\anaconda3\\Lib\\site-packages\\statsforecast\\mfles.py:301: RuntimeWarning: overflow encountered in scalar multiply\n",
      "  slope = (M * x_y_sum - x_sum * y_sum) / (M * x_sq_sum - x_sum**2)\n",
      "c:\\Users\\PC314\\anaconda3\\Lib\\site-packages\\statsforecast\\mfles.py:301: RuntimeWarning: overflow encountered in scalar subtract\n",
      "  slope = (M * x_y_sum - x_sum * y_sum) / (M * x_sq_sum - x_sum**2)\n",
      "c:\\Users\\PC314\\anaconda3\\Lib\\site-packages\\statsforecast\\core.py:494: FutureWarning: In a future version the predictions will have the id as a column. You can set the `NIXTLA_ID_AS_COL` environment variable to adopt the new behavior and to suppress this warning.\n",
      "  warnings.warn(\n",
      "c:\\Users\\PC314\\anaconda3\\Lib\\site-packages\\statsforecast\\mfles.py:301: RuntimeWarning: overflow encountered in scalar multiply\n",
      "  slope = (M * x_y_sum - x_sum * y_sum) / (M * x_sq_sum - x_sum**2)\n",
      "c:\\Users\\PC314\\anaconda3\\Lib\\site-packages\\statsforecast\\mfles.py:301: RuntimeWarning: overflow encountered in scalar subtract\n",
      "  slope = (M * x_y_sum - x_sum * y_sum) / (M * x_sq_sum - x_sum**2)\n",
      "c:\\Users\\PC314\\anaconda3\\Lib\\site-packages\\statsforecast\\core.py:494: FutureWarning: In a future version the predictions will have the id as a column. You can set the `NIXTLA_ID_AS_COL` environment variable to adopt the new behavior and to suppress this warning.\n",
      "  warnings.warn(\n",
      "c:\\Users\\PC314\\anaconda3\\Lib\\site-packages\\statsforecast\\mfles.py:301: RuntimeWarning: overflow encountered in scalar multiply\n",
      "  slope = (M * x_y_sum - x_sum * y_sum) / (M * x_sq_sum - x_sum**2)\n",
      "c:\\Users\\PC314\\anaconda3\\Lib\\site-packages\\statsforecast\\mfles.py:301: RuntimeWarning: overflow encountered in scalar subtract\n",
      "  slope = (M * x_y_sum - x_sum * y_sum) / (M * x_sq_sum - x_sum**2)\n",
      "c:\\Users\\PC314\\anaconda3\\Lib\\site-packages\\statsforecast\\core.py:494: FutureWarning: In a future version the predictions will have the id as a column. You can set the `NIXTLA_ID_AS_COL` environment variable to adopt the new behavior and to suppress this warning.\n",
      "  warnings.warn(\n",
      "C:\\Users\\PC314\\AppData\\Local\\Temp\\ipykernel_17148\\3122320333.py:50: SettingWithCopyWarning: \n",
      "A value is trying to be set on a copy of a slice from a DataFrame.\n",
      "Try using .loc[row_indexer,col_indexer] = value instead\n",
      "\n",
      "See the caveats in the documentation: https://pandas.pydata.org/pandas-docs/stable/user_guide/indexing.html#returning-a-view-versus-a-copy\n",
      "  train_df['y'] = series\n"
     ]
    },
    {
     "name": "stdout",
     "output_type": "stream",
     "text": [
      "Best Model for boxcox: MSTL_abc_ARIMA (MAPE: 36.40%)\n",
      "Saving model 2_12M_train_boxcox_MSTL_abc_ARIMA_cbf65fe2\n",
      "Training on transformed version: standardize\n"
     ]
    },
    {
     "name": "stderr",
     "output_type": "stream",
     "text": [
      "c:\\Users\\PC314\\anaconda3\\Lib\\site-packages\\statsforecast\\core.py:494: FutureWarning: In a future version the predictions will have the id as a column. You can set the `NIXTLA_ID_AS_COL` environment variable to adopt the new behavior and to suppress this warning.\n",
      "  warnings.warn(\n",
      "c:\\Users\\PC314\\anaconda3\\Lib\\site-packages\\statsforecast\\core.py:494: FutureWarning: In a future version the predictions will have the id as a column. You can set the `NIXTLA_ID_AS_COL` environment variable to adopt the new behavior and to suppress this warning.\n",
      "  warnings.warn(\n",
      "c:\\Users\\PC314\\anaconda3\\Lib\\site-packages\\statsforecast\\core.py:494: FutureWarning: In a future version the predictions will have the id as a column. You can set the `NIXTLA_ID_AS_COL` environment variable to adopt the new behavior and to suppress this warning.\n",
      "  warnings.warn(\n",
      "c:\\Users\\PC314\\anaconda3\\Lib\\site-packages\\statsforecast\\core.py:494: FutureWarning: In a future version the predictions will have the id as a column. You can set the `NIXTLA_ID_AS_COL` environment variable to adopt the new behavior and to suppress this warning.\n",
      "  warnings.warn(\n",
      "c:\\Users\\PC314\\anaconda3\\Lib\\site-packages\\statsforecast\\core.py:494: FutureWarning: In a future version the predictions will have the id as a column. You can set the `NIXTLA_ID_AS_COL` environment variable to adopt the new behavior and to suppress this warning.\n",
      "  warnings.warn(\n",
      "c:\\Users\\PC314\\anaconda3\\Lib\\site-packages\\statsforecast\\core.py:494: FutureWarning: In a future version the predictions will have the id as a column. You can set the `NIXTLA_ID_AS_COL` environment variable to adopt the new behavior and to suppress this warning.\n",
      "  warnings.warn(\n",
      "C:\\Users\\PC314\\AppData\\Local\\Temp\\ipykernel_17148\\3122320333.py:50: SettingWithCopyWarning: \n",
      "A value is trying to be set on a copy of a slice from a DataFrame.\n",
      "Try using .loc[row_indexer,col_indexer] = value instead\n",
      "\n",
      "See the caveats in the documentation: https://pandas.pydata.org/pandas-docs/stable/user_guide/indexing.html#returning-a-view-versus-a-copy\n",
      "  train_df['y'] = series\n"
     ]
    },
    {
     "name": "stdout",
     "output_type": "stream",
     "text": [
      "Best Model for standardize: MSTL_a_ARIMA (MAPE: 100.29%)\n",
      "Training on transformed version: log_trend\n"
     ]
    },
    {
     "name": "stderr",
     "output_type": "stream",
     "text": [
      "c:\\Users\\PC314\\anaconda3\\Lib\\site-packages\\statsforecast\\core.py:494: FutureWarning: In a future version the predictions will have the id as a column. You can set the `NIXTLA_ID_AS_COL` environment variable to adopt the new behavior and to suppress this warning.\n",
      "  warnings.warn(\n",
      "c:\\Users\\PC314\\anaconda3\\Lib\\site-packages\\statsforecast\\core.py:494: FutureWarning: In a future version the predictions will have the id as a column. You can set the `NIXTLA_ID_AS_COL` environment variable to adopt the new behavior and to suppress this warning.\n",
      "  warnings.warn(\n",
      "c:\\Users\\PC314\\anaconda3\\Lib\\site-packages\\statsforecast\\core.py:494: FutureWarning: In a future version the predictions will have the id as a column. You can set the `NIXTLA_ID_AS_COL` environment variable to adopt the new behavior and to suppress this warning.\n",
      "  warnings.warn(\n",
      "c:\\Users\\PC314\\anaconda3\\Lib\\site-packages\\statsforecast\\core.py:494: FutureWarning: In a future version the predictions will have the id as a column. You can set the `NIXTLA_ID_AS_COL` environment variable to adopt the new behavior and to suppress this warning.\n",
      "  warnings.warn(\n",
      "c:\\Users\\PC314\\anaconda3\\Lib\\site-packages\\statsforecast\\core.py:494: FutureWarning: In a future version the predictions will have the id as a column. You can set the `NIXTLA_ID_AS_COL` environment variable to adopt the new behavior and to suppress this warning.\n",
      "  warnings.warn(\n",
      "c:\\Users\\PC314\\anaconda3\\Lib\\site-packages\\statsforecast\\core.py:494: FutureWarning: In a future version the predictions will have the id as a column. You can set the `NIXTLA_ID_AS_COL` environment variable to adopt the new behavior and to suppress this warning.\n",
      "  warnings.warn(\n",
      "C:\\Users\\PC314\\AppData\\Local\\Temp\\ipykernel_17148\\3122320333.py:50: SettingWithCopyWarning: \n",
      "A value is trying to be set on a copy of a slice from a DataFrame.\n",
      "Try using .loc[row_indexer,col_indexer] = value instead\n",
      "\n",
      "See the caveats in the documentation: https://pandas.pydata.org/pandas-docs/stable/user_guide/indexing.html#returning-a-view-versus-a-copy\n",
      "  train_df['y'] = series\n"
     ]
    },
    {
     "name": "stdout",
     "output_type": "stream",
     "text": [
      "Best Model for log_trend: MSTL_a_ARIMA (MAPE: 1538.42%)\n",
      "Training on transformed version: log_seasonality\n"
     ]
    },
    {
     "name": "stderr",
     "output_type": "stream",
     "text": [
      "c:\\Users\\PC314\\anaconda3\\Lib\\site-packages\\statsforecast\\core.py:494: FutureWarning: In a future version the predictions will have the id as a column. You can set the `NIXTLA_ID_AS_COL` environment variable to adopt the new behavior and to suppress this warning.\n",
      "  warnings.warn(\n",
      "c:\\Users\\PC314\\anaconda3\\Lib\\site-packages\\statsforecast\\core.py:494: FutureWarning: In a future version the predictions will have the id as a column. You can set the `NIXTLA_ID_AS_COL` environment variable to adopt the new behavior and to suppress this warning.\n",
      "  warnings.warn(\n",
      "c:\\Users\\PC314\\anaconda3\\Lib\\site-packages\\statsforecast\\core.py:494: FutureWarning: In a future version the predictions will have the id as a column. You can set the `NIXTLA_ID_AS_COL` environment variable to adopt the new behavior and to suppress this warning.\n",
      "  warnings.warn(\n",
      "c:\\Users\\PC314\\anaconda3\\Lib\\site-packages\\statsforecast\\mfles.py:301: RuntimeWarning: overflow encountered in scalar multiply\n",
      "  slope = (M * x_y_sum - x_sum * y_sum) / (M * x_sq_sum - x_sum**2)\n",
      "c:\\Users\\PC314\\anaconda3\\Lib\\site-packages\\statsforecast\\mfles.py:301: RuntimeWarning: overflow encountered in scalar subtract\n",
      "  slope = (M * x_y_sum - x_sum * y_sum) / (M * x_sq_sum - x_sum**2)\n",
      "c:\\Users\\PC314\\anaconda3\\Lib\\site-packages\\statsforecast\\core.py:494: FutureWarning: In a future version the predictions will have the id as a column. You can set the `NIXTLA_ID_AS_COL` environment variable to adopt the new behavior and to suppress this warning.\n",
      "  warnings.warn(\n",
      "c:\\Users\\PC314\\anaconda3\\Lib\\site-packages\\statsforecast\\mfles.py:301: RuntimeWarning: overflow encountered in scalar multiply\n",
      "  slope = (M * x_y_sum - x_sum * y_sum) / (M * x_sq_sum - x_sum**2)\n",
      "c:\\Users\\PC314\\anaconda3\\Lib\\site-packages\\statsforecast\\mfles.py:301: RuntimeWarning: overflow encountered in scalar subtract\n",
      "  slope = (M * x_y_sum - x_sum * y_sum) / (M * x_sq_sum - x_sum**2)\n",
      "c:\\Users\\PC314\\anaconda3\\Lib\\site-packages\\statsforecast\\core.py:494: FutureWarning: In a future version the predictions will have the id as a column. You can set the `NIXTLA_ID_AS_COL` environment variable to adopt the new behavior and to suppress this warning.\n",
      "  warnings.warn(\n",
      "c:\\Users\\PC314\\anaconda3\\Lib\\site-packages\\statsforecast\\mfles.py:301: RuntimeWarning: overflow encountered in scalar multiply\n",
      "  slope = (M * x_y_sum - x_sum * y_sum) / (M * x_sq_sum - x_sum**2)\n",
      "c:\\Users\\PC314\\anaconda3\\Lib\\site-packages\\statsforecast\\mfles.py:301: RuntimeWarning: overflow encountered in scalar subtract\n",
      "  slope = (M * x_y_sum - x_sum * y_sum) / (M * x_sq_sum - x_sum**2)\n",
      "c:\\Users\\PC314\\anaconda3\\Lib\\site-packages\\statsforecast\\core.py:494: FutureWarning: In a future version the predictions will have the id as a column. You can set the `NIXTLA_ID_AS_COL` environment variable to adopt the new behavior and to suppress this warning.\n",
      "  warnings.warn(\n",
      "C:\\Users\\PC314\\AppData\\Local\\Temp\\ipykernel_17148\\3122320333.py:50: SettingWithCopyWarning: \n",
      "A value is trying to be set on a copy of a slice from a DataFrame.\n",
      "Try using .loc[row_indexer,col_indexer] = value instead\n",
      "\n",
      "See the caveats in the documentation: https://pandas.pydata.org/pandas-docs/stable/user_guide/indexing.html#returning-a-view-versus-a-copy\n",
      "  train_df['y'] = series\n"
     ]
    },
    {
     "name": "stdout",
     "output_type": "stream",
     "text": [
      "Best Model for log_seasonality: MSTL_abc_ARIMA (MAPE: 36.34%)\n",
      "Saving model 2_12M_train_log_seasonality_MSTL_abc_ARIMA_a461f2c0\n",
      "Training on transformed version: log_boxcox\n"
     ]
    },
    {
     "name": "stderr",
     "output_type": "stream",
     "text": [
      "c:\\Users\\PC314\\anaconda3\\Lib\\site-packages\\statsforecast\\core.py:494: FutureWarning: In a future version the predictions will have the id as a column. You can set the `NIXTLA_ID_AS_COL` environment variable to adopt the new behavior and to suppress this warning.\n",
      "  warnings.warn(\n",
      "c:\\Users\\PC314\\anaconda3\\Lib\\site-packages\\statsforecast\\core.py:494: FutureWarning: In a future version the predictions will have the id as a column. You can set the `NIXTLA_ID_AS_COL` environment variable to adopt the new behavior and to suppress this warning.\n",
      "  warnings.warn(\n",
      "c:\\Users\\PC314\\anaconda3\\Lib\\site-packages\\statsforecast\\core.py:494: FutureWarning: In a future version the predictions will have the id as a column. You can set the `NIXTLA_ID_AS_COL` environment variable to adopt the new behavior and to suppress this warning.\n",
      "  warnings.warn(\n",
      "c:\\Users\\PC314\\anaconda3\\Lib\\site-packages\\statsforecast\\mfles.py:301: RuntimeWarning: overflow encountered in scalar multiply\n",
      "  slope = (M * x_y_sum - x_sum * y_sum) / (M * x_sq_sum - x_sum**2)\n",
      "c:\\Users\\PC314\\anaconda3\\Lib\\site-packages\\statsforecast\\mfles.py:301: RuntimeWarning: overflow encountered in scalar subtract\n",
      "  slope = (M * x_y_sum - x_sum * y_sum) / (M * x_sq_sum - x_sum**2)\n",
      "c:\\Users\\PC314\\anaconda3\\Lib\\site-packages\\statsforecast\\core.py:494: FutureWarning: In a future version the predictions will have the id as a column. You can set the `NIXTLA_ID_AS_COL` environment variable to adopt the new behavior and to suppress this warning.\n",
      "  warnings.warn(\n",
      "c:\\Users\\PC314\\anaconda3\\Lib\\site-packages\\statsforecast\\mfles.py:301: RuntimeWarning: overflow encountered in scalar multiply\n",
      "  slope = (M * x_y_sum - x_sum * y_sum) / (M * x_sq_sum - x_sum**2)\n",
      "c:\\Users\\PC314\\anaconda3\\Lib\\site-packages\\statsforecast\\mfles.py:301: RuntimeWarning: overflow encountered in scalar subtract\n",
      "  slope = (M * x_y_sum - x_sum * y_sum) / (M * x_sq_sum - x_sum**2)\n",
      "c:\\Users\\PC314\\anaconda3\\Lib\\site-packages\\statsforecast\\core.py:494: FutureWarning: In a future version the predictions will have the id as a column. You can set the `NIXTLA_ID_AS_COL` environment variable to adopt the new behavior and to suppress this warning.\n",
      "  warnings.warn(\n",
      "c:\\Users\\PC314\\anaconda3\\Lib\\site-packages\\statsforecast\\mfles.py:301: RuntimeWarning: overflow encountered in scalar multiply\n",
      "  slope = (M * x_y_sum - x_sum * y_sum) / (M * x_sq_sum - x_sum**2)\n",
      "c:\\Users\\PC314\\anaconda3\\Lib\\site-packages\\statsforecast\\mfles.py:301: RuntimeWarning: overflow encountered in scalar subtract\n",
      "  slope = (M * x_y_sum - x_sum * y_sum) / (M * x_sq_sum - x_sum**2)\n",
      "c:\\Users\\PC314\\anaconda3\\Lib\\site-packages\\statsforecast\\core.py:494: FutureWarning: In a future version the predictions will have the id as a column. You can set the `NIXTLA_ID_AS_COL` environment variable to adopt the new behavior and to suppress this warning.\n",
      "  warnings.warn(\n",
      "C:\\Users\\PC314\\AppData\\Local\\Temp\\ipykernel_17148\\3122320333.py:50: SettingWithCopyWarning: \n",
      "A value is trying to be set on a copy of a slice from a DataFrame.\n",
      "Try using .loc[row_indexer,col_indexer] = value instead\n",
      "\n",
      "See the caveats in the documentation: https://pandas.pydata.org/pandas-docs/stable/user_guide/indexing.html#returning-a-view-versus-a-copy\n",
      "  train_df['y'] = series\n"
     ]
    },
    {
     "name": "stdout",
     "output_type": "stream",
     "text": [
      "Best Model for log_boxcox: MSTL_abc_ARIMA (MAPE: 196.02%)\n",
      "Training on transformed version: log_standardize\n"
     ]
    },
    {
     "name": "stderr",
     "output_type": "stream",
     "text": [
      "c:\\Users\\PC314\\anaconda3\\Lib\\site-packages\\statsforecast\\core.py:494: FutureWarning: In a future version the predictions will have the id as a column. You can set the `NIXTLA_ID_AS_COL` environment variable to adopt the new behavior and to suppress this warning.\n",
      "  warnings.warn(\n",
      "c:\\Users\\PC314\\anaconda3\\Lib\\site-packages\\statsforecast\\core.py:494: FutureWarning: In a future version the predictions will have the id as a column. You can set the `NIXTLA_ID_AS_COL` environment variable to adopt the new behavior and to suppress this warning.\n",
      "  warnings.warn(\n",
      "c:\\Users\\PC314\\anaconda3\\Lib\\site-packages\\statsforecast\\core.py:494: FutureWarning: In a future version the predictions will have the id as a column. You can set the `NIXTLA_ID_AS_COL` environment variable to adopt the new behavior and to suppress this warning.\n",
      "  warnings.warn(\n",
      "c:\\Users\\PC314\\anaconda3\\Lib\\site-packages\\statsforecast\\core.py:494: FutureWarning: In a future version the predictions will have the id as a column. You can set the `NIXTLA_ID_AS_COL` environment variable to adopt the new behavior and to suppress this warning.\n",
      "  warnings.warn(\n",
      "c:\\Users\\PC314\\anaconda3\\Lib\\site-packages\\statsforecast\\core.py:494: FutureWarning: In a future version the predictions will have the id as a column. You can set the `NIXTLA_ID_AS_COL` environment variable to adopt the new behavior and to suppress this warning.\n",
      "  warnings.warn(\n",
      "c:\\Users\\PC314\\anaconda3\\Lib\\site-packages\\statsforecast\\core.py:494: FutureWarning: In a future version the predictions will have the id as a column. You can set the `NIXTLA_ID_AS_COL` environment variable to adopt the new behavior and to suppress this warning.\n",
      "  warnings.warn(\n",
      "C:\\Users\\PC314\\AppData\\Local\\Temp\\ipykernel_17148\\3122320333.py:50: SettingWithCopyWarning: \n",
      "A value is trying to be set on a copy of a slice from a DataFrame.\n",
      "Try using .loc[row_indexer,col_indexer] = value instead\n",
      "\n",
      "See the caveats in the documentation: https://pandas.pydata.org/pandas-docs/stable/user_guide/indexing.html#returning-a-view-versus-a-copy\n",
      "  train_df['y'] = series\n"
     ]
    },
    {
     "name": "stdout",
     "output_type": "stream",
     "text": [
      "Best Model for log_standardize: MSTL_a_ARIMA (MAPE: 96.67%)\n",
      "Training on transformed version: trend_seasonality\n"
     ]
    },
    {
     "name": "stderr",
     "output_type": "stream",
     "text": [
      "c:\\Users\\PC314\\anaconda3\\Lib\\site-packages\\statsforecast\\core.py:494: FutureWarning: In a future version the predictions will have the id as a column. You can set the `NIXTLA_ID_AS_COL` environment variable to adopt the new behavior and to suppress this warning.\n",
      "  warnings.warn(\n",
      "c:\\Users\\PC314\\anaconda3\\Lib\\site-packages\\statsforecast\\core.py:494: FutureWarning: In a future version the predictions will have the id as a column. You can set the `NIXTLA_ID_AS_COL` environment variable to adopt the new behavior and to suppress this warning.\n",
      "  warnings.warn(\n",
      "c:\\Users\\PC314\\anaconda3\\Lib\\site-packages\\statsforecast\\core.py:494: FutureWarning: In a future version the predictions will have the id as a column. You can set the `NIXTLA_ID_AS_COL` environment variable to adopt the new behavior and to suppress this warning.\n",
      "  warnings.warn(\n",
      "c:\\Users\\PC314\\anaconda3\\Lib\\site-packages\\statsforecast\\core.py:494: FutureWarning: In a future version the predictions will have the id as a column. You can set the `NIXTLA_ID_AS_COL` environment variable to adopt the new behavior and to suppress this warning.\n",
      "  warnings.warn(\n",
      "c:\\Users\\PC314\\anaconda3\\Lib\\site-packages\\statsforecast\\core.py:494: FutureWarning: In a future version the predictions will have the id as a column. You can set the `NIXTLA_ID_AS_COL` environment variable to adopt the new behavior and to suppress this warning.\n",
      "  warnings.warn(\n",
      "c:\\Users\\PC314\\anaconda3\\Lib\\site-packages\\statsforecast\\core.py:494: FutureWarning: In a future version the predictions will have the id as a column. You can set the `NIXTLA_ID_AS_COL` environment variable to adopt the new behavior and to suppress this warning.\n",
      "  warnings.warn(\n",
      "C:\\Users\\PC314\\AppData\\Local\\Temp\\ipykernel_17148\\3122320333.py:50: SettingWithCopyWarning: \n",
      "A value is trying to be set on a copy of a slice from a DataFrame.\n",
      "Try using .loc[row_indexer,col_indexer] = value instead\n",
      "\n",
      "See the caveats in the documentation: https://pandas.pydata.org/pandas-docs/stable/user_guide/indexing.html#returning-a-view-versus-a-copy\n",
      "  train_df['y'] = series\n"
     ]
    },
    {
     "name": "stdout",
     "output_type": "stream",
     "text": [
      "Best Model for trend_seasonality: MSTL_a_ARIMA (MAPE: 89.95%)\n",
      "Training on transformed version: trend_boxcox\n"
     ]
    },
    {
     "name": "stderr",
     "output_type": "stream",
     "text": [
      "c:\\Users\\PC314\\anaconda3\\Lib\\site-packages\\statsforecast\\core.py:494: FutureWarning: In a future version the predictions will have the id as a column. You can set the `NIXTLA_ID_AS_COL` environment variable to adopt the new behavior and to suppress this warning.\n",
      "  warnings.warn(\n",
      "c:\\Users\\PC314\\anaconda3\\Lib\\site-packages\\statsforecast\\core.py:494: FutureWarning: In a future version the predictions will have the id as a column. You can set the `NIXTLA_ID_AS_COL` environment variable to adopt the new behavior and to suppress this warning.\n",
      "  warnings.warn(\n",
      "c:\\Users\\PC314\\anaconda3\\Lib\\site-packages\\statsforecast\\core.py:494: FutureWarning: In a future version the predictions will have the id as a column. You can set the `NIXTLA_ID_AS_COL` environment variable to adopt the new behavior and to suppress this warning.\n",
      "  warnings.warn(\n",
      "c:\\Users\\PC314\\anaconda3\\Lib\\site-packages\\statsforecast\\core.py:494: FutureWarning: In a future version the predictions will have the id as a column. You can set the `NIXTLA_ID_AS_COL` environment variable to adopt the new behavior and to suppress this warning.\n",
      "  warnings.warn(\n",
      "c:\\Users\\PC314\\anaconda3\\Lib\\site-packages\\statsforecast\\core.py:494: FutureWarning: In a future version the predictions will have the id as a column. You can set the `NIXTLA_ID_AS_COL` environment variable to adopt the new behavior and to suppress this warning.\n",
      "  warnings.warn(\n",
      "c:\\Users\\PC314\\anaconda3\\Lib\\site-packages\\statsforecast\\core.py:494: FutureWarning: In a future version the predictions will have the id as a column. You can set the `NIXTLA_ID_AS_COL` environment variable to adopt the new behavior and to suppress this warning.\n",
      "  warnings.warn(\n",
      "C:\\Users\\PC314\\AppData\\Local\\Temp\\ipykernel_17148\\3122320333.py:50: SettingWithCopyWarning: \n",
      "A value is trying to be set on a copy of a slice from a DataFrame.\n",
      "Try using .loc[row_indexer,col_indexer] = value instead\n",
      "\n",
      "See the caveats in the documentation: https://pandas.pydata.org/pandas-docs/stable/user_guide/indexing.html#returning-a-view-versus-a-copy\n",
      "  train_df['y'] = series\n"
     ]
    },
    {
     "name": "stdout",
     "output_type": "stream",
     "text": [
      "Best Model for trend_boxcox: MSTL_a_ARIMA (MAPE: 89.95%)\n",
      "Training on transformed version: trend_standardize\n"
     ]
    },
    {
     "name": "stderr",
     "output_type": "stream",
     "text": [
      "c:\\Users\\PC314\\anaconda3\\Lib\\site-packages\\statsforecast\\core.py:494: FutureWarning: In a future version the predictions will have the id as a column. You can set the `NIXTLA_ID_AS_COL` environment variable to adopt the new behavior and to suppress this warning.\n",
      "  warnings.warn(\n",
      "c:\\Users\\PC314\\anaconda3\\Lib\\site-packages\\statsforecast\\core.py:494: FutureWarning: In a future version the predictions will have the id as a column. You can set the `NIXTLA_ID_AS_COL` environment variable to adopt the new behavior and to suppress this warning.\n",
      "  warnings.warn(\n",
      "c:\\Users\\PC314\\anaconda3\\Lib\\site-packages\\statsforecast\\core.py:494: FutureWarning: In a future version the predictions will have the id as a column. You can set the `NIXTLA_ID_AS_COL` environment variable to adopt the new behavior and to suppress this warning.\n",
      "  warnings.warn(\n",
      "c:\\Users\\PC314\\anaconda3\\Lib\\site-packages\\statsforecast\\core.py:494: FutureWarning: In a future version the predictions will have the id as a column. You can set the `NIXTLA_ID_AS_COL` environment variable to adopt the new behavior and to suppress this warning.\n",
      "  warnings.warn(\n",
      "c:\\Users\\PC314\\anaconda3\\Lib\\site-packages\\statsforecast\\core.py:494: FutureWarning: In a future version the predictions will have the id as a column. You can set the `NIXTLA_ID_AS_COL` environment variable to adopt the new behavior and to suppress this warning.\n",
      "  warnings.warn(\n",
      "c:\\Users\\PC314\\anaconda3\\Lib\\site-packages\\statsforecast\\core.py:494: FutureWarning: In a future version the predictions will have the id as a column. You can set the `NIXTLA_ID_AS_COL` environment variable to adopt the new behavior and to suppress this warning.\n",
      "  warnings.warn(\n",
      "C:\\Users\\PC314\\AppData\\Local\\Temp\\ipykernel_17148\\3122320333.py:50: SettingWithCopyWarning: \n",
      "A value is trying to be set on a copy of a slice from a DataFrame.\n",
      "Try using .loc[row_indexer,col_indexer] = value instead\n",
      "\n",
      "See the caveats in the documentation: https://pandas.pydata.org/pandas-docs/stable/user_guide/indexing.html#returning-a-view-versus-a-copy\n",
      "  train_df['y'] = series\n"
     ]
    },
    {
     "name": "stdout",
     "output_type": "stream",
     "text": [
      "Best Model for trend_standardize: MSTL_a_ARIMA (MAPE: 86.83%)\n",
      "Training on transformed version: seasonality_boxcox\n"
     ]
    },
    {
     "name": "stderr",
     "output_type": "stream",
     "text": [
      "c:\\Users\\PC314\\anaconda3\\Lib\\site-packages\\statsforecast\\core.py:494: FutureWarning: In a future version the predictions will have the id as a column. You can set the `NIXTLA_ID_AS_COL` environment variable to adopt the new behavior and to suppress this warning.\n",
      "  warnings.warn(\n",
      "c:\\Users\\PC314\\anaconda3\\Lib\\site-packages\\statsforecast\\core.py:494: FutureWarning: In a future version the predictions will have the id as a column. You can set the `NIXTLA_ID_AS_COL` environment variable to adopt the new behavior and to suppress this warning.\n",
      "  warnings.warn(\n",
      "c:\\Users\\PC314\\anaconda3\\Lib\\site-packages\\statsforecast\\core.py:494: FutureWarning: In a future version the predictions will have the id as a column. You can set the `NIXTLA_ID_AS_COL` environment variable to adopt the new behavior and to suppress this warning.\n",
      "  warnings.warn(\n",
      "c:\\Users\\PC314\\anaconda3\\Lib\\site-packages\\statsforecast\\mfles.py:301: RuntimeWarning: overflow encountered in scalar multiply\n",
      "  slope = (M * x_y_sum - x_sum * y_sum) / (M * x_sq_sum - x_sum**2)\n",
      "c:\\Users\\PC314\\anaconda3\\Lib\\site-packages\\statsforecast\\mfles.py:301: RuntimeWarning: overflow encountered in scalar subtract\n",
      "  slope = (M * x_y_sum - x_sum * y_sum) / (M * x_sq_sum - x_sum**2)\n",
      "c:\\Users\\PC314\\anaconda3\\Lib\\site-packages\\statsforecast\\core.py:494: FutureWarning: In a future version the predictions will have the id as a column. You can set the `NIXTLA_ID_AS_COL` environment variable to adopt the new behavior and to suppress this warning.\n",
      "  warnings.warn(\n",
      "c:\\Users\\PC314\\anaconda3\\Lib\\site-packages\\statsforecast\\mfles.py:301: RuntimeWarning: overflow encountered in scalar multiply\n",
      "  slope = (M * x_y_sum - x_sum * y_sum) / (M * x_sq_sum - x_sum**2)\n",
      "c:\\Users\\PC314\\anaconda3\\Lib\\site-packages\\statsforecast\\mfles.py:301: RuntimeWarning: overflow encountered in scalar subtract\n",
      "  slope = (M * x_y_sum - x_sum * y_sum) / (M * x_sq_sum - x_sum**2)\n",
      "c:\\Users\\PC314\\anaconda3\\Lib\\site-packages\\statsforecast\\core.py:494: FutureWarning: In a future version the predictions will have the id as a column. You can set the `NIXTLA_ID_AS_COL` environment variable to adopt the new behavior and to suppress this warning.\n",
      "  warnings.warn(\n",
      "c:\\Users\\PC314\\anaconda3\\Lib\\site-packages\\statsforecast\\mfles.py:301: RuntimeWarning: overflow encountered in scalar multiply\n",
      "  slope = (M * x_y_sum - x_sum * y_sum) / (M * x_sq_sum - x_sum**2)\n",
      "c:\\Users\\PC314\\anaconda3\\Lib\\site-packages\\statsforecast\\mfles.py:301: RuntimeWarning: overflow encountered in scalar subtract\n",
      "  slope = (M * x_y_sum - x_sum * y_sum) / (M * x_sq_sum - x_sum**2)\n",
      "c:\\Users\\PC314\\anaconda3\\Lib\\site-packages\\statsforecast\\core.py:494: FutureWarning: In a future version the predictions will have the id as a column. You can set the `NIXTLA_ID_AS_COL` environment variable to adopt the new behavior and to suppress this warning.\n",
      "  warnings.warn(\n",
      "C:\\Users\\PC314\\AppData\\Local\\Temp\\ipykernel_17148\\3122320333.py:50: SettingWithCopyWarning: \n",
      "A value is trying to be set on a copy of a slice from a DataFrame.\n",
      "Try using .loc[row_indexer,col_indexer] = value instead\n",
      "\n",
      "See the caveats in the documentation: https://pandas.pydata.org/pandas-docs/stable/user_guide/indexing.html#returning-a-view-versus-a-copy\n",
      "  train_df['y'] = series\n"
     ]
    },
    {
     "name": "stdout",
     "output_type": "stream",
     "text": [
      "Best Model for seasonality_boxcox: MSTL_abc_ARIMA (MAPE: 36.40%)\n",
      "Saving model 2_12M_train_seasonality_boxcox_MSTL_abc_ARIMA_54dfe7b2\n",
      "Training on transformed version: seasonality_standardize\n"
     ]
    },
    {
     "name": "stderr",
     "output_type": "stream",
     "text": [
      "c:\\Users\\PC314\\anaconda3\\Lib\\site-packages\\statsforecast\\core.py:494: FutureWarning: In a future version the predictions will have the id as a column. You can set the `NIXTLA_ID_AS_COL` environment variable to adopt the new behavior and to suppress this warning.\n",
      "  warnings.warn(\n",
      "c:\\Users\\PC314\\anaconda3\\Lib\\site-packages\\statsforecast\\core.py:494: FutureWarning: In a future version the predictions will have the id as a column. You can set the `NIXTLA_ID_AS_COL` environment variable to adopt the new behavior and to suppress this warning.\n",
      "  warnings.warn(\n",
      "c:\\Users\\PC314\\anaconda3\\Lib\\site-packages\\statsforecast\\core.py:494: FutureWarning: In a future version the predictions will have the id as a column. You can set the `NIXTLA_ID_AS_COL` environment variable to adopt the new behavior and to suppress this warning.\n",
      "  warnings.warn(\n",
      "c:\\Users\\PC314\\anaconda3\\Lib\\site-packages\\statsforecast\\core.py:494: FutureWarning: In a future version the predictions will have the id as a column. You can set the `NIXTLA_ID_AS_COL` environment variable to adopt the new behavior and to suppress this warning.\n",
      "  warnings.warn(\n",
      "c:\\Users\\PC314\\anaconda3\\Lib\\site-packages\\statsforecast\\core.py:494: FutureWarning: In a future version the predictions will have the id as a column. You can set the `NIXTLA_ID_AS_COL` environment variable to adopt the new behavior and to suppress this warning.\n",
      "  warnings.warn(\n",
      "c:\\Users\\PC314\\anaconda3\\Lib\\site-packages\\statsforecast\\core.py:494: FutureWarning: In a future version the predictions will have the id as a column. You can set the `NIXTLA_ID_AS_COL` environment variable to adopt the new behavior and to suppress this warning.\n",
      "  warnings.warn(\n",
      "C:\\Users\\PC314\\AppData\\Local\\Temp\\ipykernel_17148\\3122320333.py:50: SettingWithCopyWarning: \n",
      "A value is trying to be set on a copy of a slice from a DataFrame.\n",
      "Try using .loc[row_indexer,col_indexer] = value instead\n",
      "\n",
      "See the caveats in the documentation: https://pandas.pydata.org/pandas-docs/stable/user_guide/indexing.html#returning-a-view-versus-a-copy\n",
      "  train_df['y'] = series\n"
     ]
    },
    {
     "name": "stdout",
     "output_type": "stream",
     "text": [
      "Best Model for seasonality_standardize: MSTL_a_ARIMA (MAPE: 100.29%)\n",
      "Training on transformed version: boxcox_standardize\n"
     ]
    },
    {
     "name": "stderr",
     "output_type": "stream",
     "text": [
      "c:\\Users\\PC314\\anaconda3\\Lib\\site-packages\\statsforecast\\core.py:494: FutureWarning: In a future version the predictions will have the id as a column. You can set the `NIXTLA_ID_AS_COL` environment variable to adopt the new behavior and to suppress this warning.\n",
      "  warnings.warn(\n",
      "c:\\Users\\PC314\\anaconda3\\Lib\\site-packages\\statsforecast\\core.py:494: FutureWarning: In a future version the predictions will have the id as a column. You can set the `NIXTLA_ID_AS_COL` environment variable to adopt the new behavior and to suppress this warning.\n",
      "  warnings.warn(\n",
      "c:\\Users\\PC314\\anaconda3\\Lib\\site-packages\\statsforecast\\core.py:494: FutureWarning: In a future version the predictions will have the id as a column. You can set the `NIXTLA_ID_AS_COL` environment variable to adopt the new behavior and to suppress this warning.\n",
      "  warnings.warn(\n",
      "c:\\Users\\PC314\\anaconda3\\Lib\\site-packages\\statsforecast\\core.py:494: FutureWarning: In a future version the predictions will have the id as a column. You can set the `NIXTLA_ID_AS_COL` environment variable to adopt the new behavior and to suppress this warning.\n",
      "  warnings.warn(\n",
      "c:\\Users\\PC314\\anaconda3\\Lib\\site-packages\\statsforecast\\core.py:494: FutureWarning: In a future version the predictions will have the id as a column. You can set the `NIXTLA_ID_AS_COL` environment variable to adopt the new behavior and to suppress this warning.\n",
      "  warnings.warn(\n",
      "c:\\Users\\PC314\\anaconda3\\Lib\\site-packages\\statsforecast\\core.py:494: FutureWarning: In a future version the predictions will have the id as a column. You can set the `NIXTLA_ID_AS_COL` environment variable to adopt the new behavior and to suppress this warning.\n",
      "  warnings.warn(\n",
      "C:\\Users\\PC314\\AppData\\Local\\Temp\\ipykernel_17148\\3122320333.py:50: SettingWithCopyWarning: \n",
      "A value is trying to be set on a copy of a slice from a DataFrame.\n",
      "Try using .loc[row_indexer,col_indexer] = value instead\n",
      "\n",
      "See the caveats in the documentation: https://pandas.pydata.org/pandas-docs/stable/user_guide/indexing.html#returning-a-view-versus-a-copy\n",
      "  train_df['y'] = series\n"
     ]
    },
    {
     "name": "stdout",
     "output_type": "stream",
     "text": [
      "Best Model for boxcox_standardize: MSTL_a_ARIMA (MAPE: 99.97%)\n",
      "Training on transformed version: log_trend_seasonality\n"
     ]
    },
    {
     "name": "stderr",
     "output_type": "stream",
     "text": [
      "c:\\Users\\PC314\\anaconda3\\Lib\\site-packages\\statsforecast\\core.py:494: FutureWarning: In a future version the predictions will have the id as a column. You can set the `NIXTLA_ID_AS_COL` environment variable to adopt the new behavior and to suppress this warning.\n",
      "  warnings.warn(\n",
      "c:\\Users\\PC314\\anaconda3\\Lib\\site-packages\\statsforecast\\core.py:494: FutureWarning: In a future version the predictions will have the id as a column. You can set the `NIXTLA_ID_AS_COL` environment variable to adopt the new behavior and to suppress this warning.\n",
      "  warnings.warn(\n",
      "c:\\Users\\PC314\\anaconda3\\Lib\\site-packages\\statsforecast\\core.py:494: FutureWarning: In a future version the predictions will have the id as a column. You can set the `NIXTLA_ID_AS_COL` environment variable to adopt the new behavior and to suppress this warning.\n",
      "  warnings.warn(\n",
      "c:\\Users\\PC314\\anaconda3\\Lib\\site-packages\\statsforecast\\core.py:494: FutureWarning: In a future version the predictions will have the id as a column. You can set the `NIXTLA_ID_AS_COL` environment variable to adopt the new behavior and to suppress this warning.\n",
      "  warnings.warn(\n",
      "c:\\Users\\PC314\\anaconda3\\Lib\\site-packages\\statsforecast\\core.py:494: FutureWarning: In a future version the predictions will have the id as a column. You can set the `NIXTLA_ID_AS_COL` environment variable to adopt the new behavior and to suppress this warning.\n",
      "  warnings.warn(\n",
      "c:\\Users\\PC314\\anaconda3\\Lib\\site-packages\\statsforecast\\core.py:494: FutureWarning: In a future version the predictions will have the id as a column. You can set the `NIXTLA_ID_AS_COL` environment variable to adopt the new behavior and to suppress this warning.\n",
      "  warnings.warn(\n",
      "C:\\Users\\PC314\\AppData\\Local\\Temp\\ipykernel_17148\\3122320333.py:50: SettingWithCopyWarning: \n",
      "A value is trying to be set on a copy of a slice from a DataFrame.\n",
      "Try using .loc[row_indexer,col_indexer] = value instead\n",
      "\n",
      "See the caveats in the documentation: https://pandas.pydata.org/pandas-docs/stable/user_guide/indexing.html#returning-a-view-versus-a-copy\n",
      "  train_df['y'] = series\n"
     ]
    },
    {
     "name": "stdout",
     "output_type": "stream",
     "text": [
      "Best Model for log_trend_seasonality: MSTL_a_ARIMA (MAPE: 1538.42%)\n",
      "Training on transformed version: log_trend_boxcox\n"
     ]
    },
    {
     "name": "stderr",
     "output_type": "stream",
     "text": [
      "c:\\Users\\PC314\\anaconda3\\Lib\\site-packages\\statsforecast\\core.py:494: FutureWarning: In a future version the predictions will have the id as a column. You can set the `NIXTLA_ID_AS_COL` environment variable to adopt the new behavior and to suppress this warning.\n",
      "  warnings.warn(\n",
      "c:\\Users\\PC314\\anaconda3\\Lib\\site-packages\\statsforecast\\core.py:494: FutureWarning: In a future version the predictions will have the id as a column. You can set the `NIXTLA_ID_AS_COL` environment variable to adopt the new behavior and to suppress this warning.\n",
      "  warnings.warn(\n",
      "c:\\Users\\PC314\\anaconda3\\Lib\\site-packages\\statsforecast\\core.py:494: FutureWarning: In a future version the predictions will have the id as a column. You can set the `NIXTLA_ID_AS_COL` environment variable to adopt the new behavior and to suppress this warning.\n",
      "  warnings.warn(\n",
      "c:\\Users\\PC314\\anaconda3\\Lib\\site-packages\\statsforecast\\core.py:494: FutureWarning: In a future version the predictions will have the id as a column. You can set the `NIXTLA_ID_AS_COL` environment variable to adopt the new behavior and to suppress this warning.\n",
      "  warnings.warn(\n",
      "c:\\Users\\PC314\\anaconda3\\Lib\\site-packages\\statsforecast\\core.py:494: FutureWarning: In a future version the predictions will have the id as a column. You can set the `NIXTLA_ID_AS_COL` environment variable to adopt the new behavior and to suppress this warning.\n",
      "  warnings.warn(\n",
      "c:\\Users\\PC314\\anaconda3\\Lib\\site-packages\\statsforecast\\core.py:494: FutureWarning: In a future version the predictions will have the id as a column. You can set the `NIXTLA_ID_AS_COL` environment variable to adopt the new behavior and to suppress this warning.\n",
      "  warnings.warn(\n",
      "C:\\Users\\PC314\\AppData\\Local\\Temp\\ipykernel_17148\\3122320333.py:50: SettingWithCopyWarning: \n",
      "A value is trying to be set on a copy of a slice from a DataFrame.\n",
      "Try using .loc[row_indexer,col_indexer] = value instead\n",
      "\n",
      "See the caveats in the documentation: https://pandas.pydata.org/pandas-docs/stable/user_guide/indexing.html#returning-a-view-versus-a-copy\n",
      "  train_df['y'] = series\n"
     ]
    },
    {
     "name": "stdout",
     "output_type": "stream",
     "text": [
      "Best Model for log_trend_boxcox: MSTL_a_ARIMA (MAPE: 1538.42%)\n",
      "Training on transformed version: log_trend_standardize\n"
     ]
    },
    {
     "name": "stderr",
     "output_type": "stream",
     "text": [
      "c:\\Users\\PC314\\anaconda3\\Lib\\site-packages\\statsforecast\\core.py:494: FutureWarning: In a future version the predictions will have the id as a column. You can set the `NIXTLA_ID_AS_COL` environment variable to adopt the new behavior and to suppress this warning.\n",
      "  warnings.warn(\n",
      "c:\\Users\\PC314\\anaconda3\\Lib\\site-packages\\statsforecast\\core.py:494: FutureWarning: In a future version the predictions will have the id as a column. You can set the `NIXTLA_ID_AS_COL` environment variable to adopt the new behavior and to suppress this warning.\n",
      "  warnings.warn(\n",
      "c:\\Users\\PC314\\anaconda3\\Lib\\site-packages\\statsforecast\\core.py:494: FutureWarning: In a future version the predictions will have the id as a column. You can set the `NIXTLA_ID_AS_COL` environment variable to adopt the new behavior and to suppress this warning.\n",
      "  warnings.warn(\n",
      "c:\\Users\\PC314\\anaconda3\\Lib\\site-packages\\statsforecast\\core.py:494: FutureWarning: In a future version the predictions will have the id as a column. You can set the `NIXTLA_ID_AS_COL` environment variable to adopt the new behavior and to suppress this warning.\n",
      "  warnings.warn(\n",
      "c:\\Users\\PC314\\anaconda3\\Lib\\site-packages\\statsforecast\\core.py:494: FutureWarning: In a future version the predictions will have the id as a column. You can set the `NIXTLA_ID_AS_COL` environment variable to adopt the new behavior and to suppress this warning.\n",
      "  warnings.warn(\n",
      "c:\\Users\\PC314\\anaconda3\\Lib\\site-packages\\statsforecast\\core.py:494: FutureWarning: In a future version the predictions will have the id as a column. You can set the `NIXTLA_ID_AS_COL` environment variable to adopt the new behavior and to suppress this warning.\n",
      "  warnings.warn(\n",
      "C:\\Users\\PC314\\AppData\\Local\\Temp\\ipykernel_17148\\3122320333.py:50: SettingWithCopyWarning: \n",
      "A value is trying to be set on a copy of a slice from a DataFrame.\n",
      "Try using .loc[row_indexer,col_indexer] = value instead\n",
      "\n",
      "See the caveats in the documentation: https://pandas.pydata.org/pandas-docs/stable/user_guide/indexing.html#returning-a-view-versus-a-copy\n",
      "  train_df['y'] = series\n"
     ]
    },
    {
     "name": "stdout",
     "output_type": "stream",
     "text": [
      "Best Model for log_trend_standardize: MSTL_a_ARIMA (MAPE: 1539.14%)\n",
      "Training on transformed version: log_seasonality_boxcox\n"
     ]
    },
    {
     "name": "stderr",
     "output_type": "stream",
     "text": [
      "c:\\Users\\PC314\\anaconda3\\Lib\\site-packages\\statsforecast\\core.py:494: FutureWarning: In a future version the predictions will have the id as a column. You can set the `NIXTLA_ID_AS_COL` environment variable to adopt the new behavior and to suppress this warning.\n",
      "  warnings.warn(\n",
      "c:\\Users\\PC314\\anaconda3\\Lib\\site-packages\\statsforecast\\core.py:494: FutureWarning: In a future version the predictions will have the id as a column. You can set the `NIXTLA_ID_AS_COL` environment variable to adopt the new behavior and to suppress this warning.\n",
      "  warnings.warn(\n",
      "c:\\Users\\PC314\\anaconda3\\Lib\\site-packages\\statsforecast\\core.py:494: FutureWarning: In a future version the predictions will have the id as a column. You can set the `NIXTLA_ID_AS_COL` environment variable to adopt the new behavior and to suppress this warning.\n",
      "  warnings.warn(\n",
      "c:\\Users\\PC314\\anaconda3\\Lib\\site-packages\\statsforecast\\mfles.py:301: RuntimeWarning: overflow encountered in scalar multiply\n",
      "  slope = (M * x_y_sum - x_sum * y_sum) / (M * x_sq_sum - x_sum**2)\n",
      "c:\\Users\\PC314\\anaconda3\\Lib\\site-packages\\statsforecast\\mfles.py:301: RuntimeWarning: overflow encountered in scalar subtract\n",
      "  slope = (M * x_y_sum - x_sum * y_sum) / (M * x_sq_sum - x_sum**2)\n",
      "c:\\Users\\PC314\\anaconda3\\Lib\\site-packages\\statsforecast\\core.py:494: FutureWarning: In a future version the predictions will have the id as a column. You can set the `NIXTLA_ID_AS_COL` environment variable to adopt the new behavior and to suppress this warning.\n",
      "  warnings.warn(\n",
      "c:\\Users\\PC314\\anaconda3\\Lib\\site-packages\\statsforecast\\mfles.py:301: RuntimeWarning: overflow encountered in scalar multiply\n",
      "  slope = (M * x_y_sum - x_sum * y_sum) / (M * x_sq_sum - x_sum**2)\n",
      "c:\\Users\\PC314\\anaconda3\\Lib\\site-packages\\statsforecast\\mfles.py:301: RuntimeWarning: overflow encountered in scalar subtract\n",
      "  slope = (M * x_y_sum - x_sum * y_sum) / (M * x_sq_sum - x_sum**2)\n",
      "c:\\Users\\PC314\\anaconda3\\Lib\\site-packages\\statsforecast\\core.py:494: FutureWarning: In a future version the predictions will have the id as a column. You can set the `NIXTLA_ID_AS_COL` environment variable to adopt the new behavior and to suppress this warning.\n",
      "  warnings.warn(\n",
      "c:\\Users\\PC314\\anaconda3\\Lib\\site-packages\\statsforecast\\mfles.py:301: RuntimeWarning: overflow encountered in scalar multiply\n",
      "  slope = (M * x_y_sum - x_sum * y_sum) / (M * x_sq_sum - x_sum**2)\n",
      "c:\\Users\\PC314\\anaconda3\\Lib\\site-packages\\statsforecast\\mfles.py:301: RuntimeWarning: overflow encountered in scalar subtract\n",
      "  slope = (M * x_y_sum - x_sum * y_sum) / (M * x_sq_sum - x_sum**2)\n",
      "c:\\Users\\PC314\\anaconda3\\Lib\\site-packages\\statsforecast\\core.py:494: FutureWarning: In a future version the predictions will have the id as a column. You can set the `NIXTLA_ID_AS_COL` environment variable to adopt the new behavior and to suppress this warning.\n",
      "  warnings.warn(\n",
      "C:\\Users\\PC314\\AppData\\Local\\Temp\\ipykernel_17148\\3122320333.py:50: SettingWithCopyWarning: \n",
      "A value is trying to be set on a copy of a slice from a DataFrame.\n",
      "Try using .loc[row_indexer,col_indexer] = value instead\n",
      "\n",
      "See the caveats in the documentation: https://pandas.pydata.org/pandas-docs/stable/user_guide/indexing.html#returning-a-view-versus-a-copy\n",
      "  train_df['y'] = series\n"
     ]
    },
    {
     "name": "stdout",
     "output_type": "stream",
     "text": [
      "Best Model for log_seasonality_boxcox: MSTL_abc_ARIMA (MAPE: 196.02%)\n",
      "Training on transformed version: log_seasonality_standardize\n"
     ]
    },
    {
     "name": "stderr",
     "output_type": "stream",
     "text": [
      "c:\\Users\\PC314\\anaconda3\\Lib\\site-packages\\statsforecast\\core.py:494: FutureWarning: In a future version the predictions will have the id as a column. You can set the `NIXTLA_ID_AS_COL` environment variable to adopt the new behavior and to suppress this warning.\n",
      "  warnings.warn(\n",
      "c:\\Users\\PC314\\anaconda3\\Lib\\site-packages\\statsforecast\\core.py:494: FutureWarning: In a future version the predictions will have the id as a column. You can set the `NIXTLA_ID_AS_COL` environment variable to adopt the new behavior and to suppress this warning.\n",
      "  warnings.warn(\n",
      "c:\\Users\\PC314\\anaconda3\\Lib\\site-packages\\statsforecast\\core.py:494: FutureWarning: In a future version the predictions will have the id as a column. You can set the `NIXTLA_ID_AS_COL` environment variable to adopt the new behavior and to suppress this warning.\n",
      "  warnings.warn(\n",
      "c:\\Users\\PC314\\anaconda3\\Lib\\site-packages\\statsforecast\\core.py:494: FutureWarning: In a future version the predictions will have the id as a column. You can set the `NIXTLA_ID_AS_COL` environment variable to adopt the new behavior and to suppress this warning.\n",
      "  warnings.warn(\n",
      "c:\\Users\\PC314\\anaconda3\\Lib\\site-packages\\statsforecast\\core.py:494: FutureWarning: In a future version the predictions will have the id as a column. You can set the `NIXTLA_ID_AS_COL` environment variable to adopt the new behavior and to suppress this warning.\n",
      "  warnings.warn(\n",
      "c:\\Users\\PC314\\anaconda3\\Lib\\site-packages\\statsforecast\\core.py:494: FutureWarning: In a future version the predictions will have the id as a column. You can set the `NIXTLA_ID_AS_COL` environment variable to adopt the new behavior and to suppress this warning.\n",
      "  warnings.warn(\n",
      "C:\\Users\\PC314\\AppData\\Local\\Temp\\ipykernel_17148\\3122320333.py:50: SettingWithCopyWarning: \n",
      "A value is trying to be set on a copy of a slice from a DataFrame.\n",
      "Try using .loc[row_indexer,col_indexer] = value instead\n",
      "\n",
      "See the caveats in the documentation: https://pandas.pydata.org/pandas-docs/stable/user_guide/indexing.html#returning-a-view-versus-a-copy\n",
      "  train_df['y'] = series\n"
     ]
    },
    {
     "name": "stdout",
     "output_type": "stream",
     "text": [
      "Best Model for log_seasonality_standardize: MSTL_a_ARIMA (MAPE: 96.67%)\n",
      "Training on transformed version: log_boxcox_standardize\n"
     ]
    },
    {
     "name": "stderr",
     "output_type": "stream",
     "text": [
      "c:\\Users\\PC314\\anaconda3\\Lib\\site-packages\\statsforecast\\core.py:494: FutureWarning: In a future version the predictions will have the id as a column. You can set the `NIXTLA_ID_AS_COL` environment variable to adopt the new behavior and to suppress this warning.\n",
      "  warnings.warn(\n",
      "c:\\Users\\PC314\\anaconda3\\Lib\\site-packages\\statsforecast\\core.py:494: FutureWarning: In a future version the predictions will have the id as a column. You can set the `NIXTLA_ID_AS_COL` environment variable to adopt the new behavior and to suppress this warning.\n",
      "  warnings.warn(\n",
      "c:\\Users\\PC314\\anaconda3\\Lib\\site-packages\\statsforecast\\core.py:494: FutureWarning: In a future version the predictions will have the id as a column. You can set the `NIXTLA_ID_AS_COL` environment variable to adopt the new behavior and to suppress this warning.\n",
      "  warnings.warn(\n",
      "c:\\Users\\PC314\\anaconda3\\Lib\\site-packages\\statsforecast\\core.py:494: FutureWarning: In a future version the predictions will have the id as a column. You can set the `NIXTLA_ID_AS_COL` environment variable to adopt the new behavior and to suppress this warning.\n",
      "  warnings.warn(\n",
      "c:\\Users\\PC314\\anaconda3\\Lib\\site-packages\\statsforecast\\core.py:494: FutureWarning: In a future version the predictions will have the id as a column. You can set the `NIXTLA_ID_AS_COL` environment variable to adopt the new behavior and to suppress this warning.\n",
      "  warnings.warn(\n",
      "c:\\Users\\PC314\\anaconda3\\Lib\\site-packages\\statsforecast\\core.py:494: FutureWarning: In a future version the predictions will have the id as a column. You can set the `NIXTLA_ID_AS_COL` environment variable to adopt the new behavior and to suppress this warning.\n",
      "  warnings.warn(\n",
      "C:\\Users\\PC314\\AppData\\Local\\Temp\\ipykernel_17148\\3122320333.py:50: SettingWithCopyWarning: \n",
      "A value is trying to be set on a copy of a slice from a DataFrame.\n",
      "Try using .loc[row_indexer,col_indexer] = value instead\n",
      "\n",
      "See the caveats in the documentation: https://pandas.pydata.org/pandas-docs/stable/user_guide/indexing.html#returning-a-view-versus-a-copy\n",
      "  train_df['y'] = series\n"
     ]
    },
    {
     "name": "stdout",
     "output_type": "stream",
     "text": [
      "Best Model for log_boxcox_standardize: MSTL_a_ARIMA (MAPE: 93.78%)\n",
      "Training on transformed version: trend_seasonality_boxcox\n"
     ]
    },
    {
     "name": "stderr",
     "output_type": "stream",
     "text": [
      "c:\\Users\\PC314\\anaconda3\\Lib\\site-packages\\statsforecast\\core.py:494: FutureWarning: In a future version the predictions will have the id as a column. You can set the `NIXTLA_ID_AS_COL` environment variable to adopt the new behavior and to suppress this warning.\n",
      "  warnings.warn(\n",
      "c:\\Users\\PC314\\anaconda3\\Lib\\site-packages\\statsforecast\\core.py:494: FutureWarning: In a future version the predictions will have the id as a column. You can set the `NIXTLA_ID_AS_COL` environment variable to adopt the new behavior and to suppress this warning.\n",
      "  warnings.warn(\n",
      "c:\\Users\\PC314\\anaconda3\\Lib\\site-packages\\statsforecast\\core.py:494: FutureWarning: In a future version the predictions will have the id as a column. You can set the `NIXTLA_ID_AS_COL` environment variable to adopt the new behavior and to suppress this warning.\n",
      "  warnings.warn(\n",
      "c:\\Users\\PC314\\anaconda3\\Lib\\site-packages\\statsforecast\\core.py:494: FutureWarning: In a future version the predictions will have the id as a column. You can set the `NIXTLA_ID_AS_COL` environment variable to adopt the new behavior and to suppress this warning.\n",
      "  warnings.warn(\n",
      "c:\\Users\\PC314\\anaconda3\\Lib\\site-packages\\statsforecast\\core.py:494: FutureWarning: In a future version the predictions will have the id as a column. You can set the `NIXTLA_ID_AS_COL` environment variable to adopt the new behavior and to suppress this warning.\n",
      "  warnings.warn(\n",
      "c:\\Users\\PC314\\anaconda3\\Lib\\site-packages\\statsforecast\\core.py:494: FutureWarning: In a future version the predictions will have the id as a column. You can set the `NIXTLA_ID_AS_COL` environment variable to adopt the new behavior and to suppress this warning.\n",
      "  warnings.warn(\n",
      "C:\\Users\\PC314\\AppData\\Local\\Temp\\ipykernel_17148\\3122320333.py:50: SettingWithCopyWarning: \n",
      "A value is trying to be set on a copy of a slice from a DataFrame.\n",
      "Try using .loc[row_indexer,col_indexer] = value instead\n",
      "\n",
      "See the caveats in the documentation: https://pandas.pydata.org/pandas-docs/stable/user_guide/indexing.html#returning-a-view-versus-a-copy\n",
      "  train_df['y'] = series\n"
     ]
    },
    {
     "name": "stdout",
     "output_type": "stream",
     "text": [
      "Best Model for trend_seasonality_boxcox: MSTL_a_ARIMA (MAPE: 89.95%)\n",
      "Training on transformed version: trend_seasonality_standardize\n"
     ]
    },
    {
     "name": "stderr",
     "output_type": "stream",
     "text": [
      "c:\\Users\\PC314\\anaconda3\\Lib\\site-packages\\statsforecast\\core.py:494: FutureWarning: In a future version the predictions will have the id as a column. You can set the `NIXTLA_ID_AS_COL` environment variable to adopt the new behavior and to suppress this warning.\n",
      "  warnings.warn(\n",
      "c:\\Users\\PC314\\anaconda3\\Lib\\site-packages\\statsforecast\\core.py:494: FutureWarning: In a future version the predictions will have the id as a column. You can set the `NIXTLA_ID_AS_COL` environment variable to adopt the new behavior and to suppress this warning.\n",
      "  warnings.warn(\n",
      "c:\\Users\\PC314\\anaconda3\\Lib\\site-packages\\statsforecast\\core.py:494: FutureWarning: In a future version the predictions will have the id as a column. You can set the `NIXTLA_ID_AS_COL` environment variable to adopt the new behavior and to suppress this warning.\n",
      "  warnings.warn(\n",
      "c:\\Users\\PC314\\anaconda3\\Lib\\site-packages\\statsforecast\\core.py:494: FutureWarning: In a future version the predictions will have the id as a column. You can set the `NIXTLA_ID_AS_COL` environment variable to adopt the new behavior and to suppress this warning.\n",
      "  warnings.warn(\n",
      "c:\\Users\\PC314\\anaconda3\\Lib\\site-packages\\statsforecast\\core.py:494: FutureWarning: In a future version the predictions will have the id as a column. You can set the `NIXTLA_ID_AS_COL` environment variable to adopt the new behavior and to suppress this warning.\n",
      "  warnings.warn(\n",
      "c:\\Users\\PC314\\anaconda3\\Lib\\site-packages\\statsforecast\\core.py:494: FutureWarning: In a future version the predictions will have the id as a column. You can set the `NIXTLA_ID_AS_COL` environment variable to adopt the new behavior and to suppress this warning.\n",
      "  warnings.warn(\n",
      "C:\\Users\\PC314\\AppData\\Local\\Temp\\ipykernel_17148\\3122320333.py:50: SettingWithCopyWarning: \n",
      "A value is trying to be set on a copy of a slice from a DataFrame.\n",
      "Try using .loc[row_indexer,col_indexer] = value instead\n",
      "\n",
      "See the caveats in the documentation: https://pandas.pydata.org/pandas-docs/stable/user_guide/indexing.html#returning-a-view-versus-a-copy\n",
      "  train_df['y'] = series\n"
     ]
    },
    {
     "name": "stdout",
     "output_type": "stream",
     "text": [
      "Best Model for trend_seasonality_standardize: MSTL_a_ARIMA (MAPE: 86.83%)\n",
      "Training on transformed version: trend_boxcox_standardize\n"
     ]
    },
    {
     "name": "stderr",
     "output_type": "stream",
     "text": [
      "c:\\Users\\PC314\\anaconda3\\Lib\\site-packages\\statsforecast\\core.py:494: FutureWarning: In a future version the predictions will have the id as a column. You can set the `NIXTLA_ID_AS_COL` environment variable to adopt the new behavior and to suppress this warning.\n",
      "  warnings.warn(\n",
      "c:\\Users\\PC314\\anaconda3\\Lib\\site-packages\\statsforecast\\core.py:494: FutureWarning: In a future version the predictions will have the id as a column. You can set the `NIXTLA_ID_AS_COL` environment variable to adopt the new behavior and to suppress this warning.\n",
      "  warnings.warn(\n",
      "c:\\Users\\PC314\\anaconda3\\Lib\\site-packages\\statsforecast\\core.py:494: FutureWarning: In a future version the predictions will have the id as a column. You can set the `NIXTLA_ID_AS_COL` environment variable to adopt the new behavior and to suppress this warning.\n",
      "  warnings.warn(\n",
      "c:\\Users\\PC314\\anaconda3\\Lib\\site-packages\\statsforecast\\core.py:494: FutureWarning: In a future version the predictions will have the id as a column. You can set the `NIXTLA_ID_AS_COL` environment variable to adopt the new behavior and to suppress this warning.\n",
      "  warnings.warn(\n",
      "c:\\Users\\PC314\\anaconda3\\Lib\\site-packages\\statsforecast\\core.py:494: FutureWarning: In a future version the predictions will have the id as a column. You can set the `NIXTLA_ID_AS_COL` environment variable to adopt the new behavior and to suppress this warning.\n",
      "  warnings.warn(\n",
      "c:\\Users\\PC314\\anaconda3\\Lib\\site-packages\\statsforecast\\core.py:494: FutureWarning: In a future version the predictions will have the id as a column. You can set the `NIXTLA_ID_AS_COL` environment variable to adopt the new behavior and to suppress this warning.\n",
      "  warnings.warn(\n",
      "C:\\Users\\PC314\\AppData\\Local\\Temp\\ipykernel_17148\\3122320333.py:50: SettingWithCopyWarning: \n",
      "A value is trying to be set on a copy of a slice from a DataFrame.\n",
      "Try using .loc[row_indexer,col_indexer] = value instead\n",
      "\n",
      "See the caveats in the documentation: https://pandas.pydata.org/pandas-docs/stable/user_guide/indexing.html#returning-a-view-versus-a-copy\n",
      "  train_df['y'] = series\n"
     ]
    },
    {
     "name": "stdout",
     "output_type": "stream",
     "text": [
      "Best Model for trend_boxcox_standardize: MSTL_a_ARIMA (MAPE: 86.83%)\n",
      "Training on transformed version: seasonality_boxcox_standardize\n"
     ]
    },
    {
     "name": "stderr",
     "output_type": "stream",
     "text": [
      "c:\\Users\\PC314\\anaconda3\\Lib\\site-packages\\statsforecast\\core.py:494: FutureWarning: In a future version the predictions will have the id as a column. You can set the `NIXTLA_ID_AS_COL` environment variable to adopt the new behavior and to suppress this warning.\n",
      "  warnings.warn(\n",
      "c:\\Users\\PC314\\anaconda3\\Lib\\site-packages\\statsforecast\\core.py:494: FutureWarning: In a future version the predictions will have the id as a column. You can set the `NIXTLA_ID_AS_COL` environment variable to adopt the new behavior and to suppress this warning.\n",
      "  warnings.warn(\n",
      "c:\\Users\\PC314\\anaconda3\\Lib\\site-packages\\statsforecast\\core.py:494: FutureWarning: In a future version the predictions will have the id as a column. You can set the `NIXTLA_ID_AS_COL` environment variable to adopt the new behavior and to suppress this warning.\n",
      "  warnings.warn(\n",
      "c:\\Users\\PC314\\anaconda3\\Lib\\site-packages\\statsforecast\\core.py:494: FutureWarning: In a future version the predictions will have the id as a column. You can set the `NIXTLA_ID_AS_COL` environment variable to adopt the new behavior and to suppress this warning.\n",
      "  warnings.warn(\n",
      "c:\\Users\\PC314\\anaconda3\\Lib\\site-packages\\statsforecast\\core.py:494: FutureWarning: In a future version the predictions will have the id as a column. You can set the `NIXTLA_ID_AS_COL` environment variable to adopt the new behavior and to suppress this warning.\n",
      "  warnings.warn(\n",
      "c:\\Users\\PC314\\anaconda3\\Lib\\site-packages\\statsforecast\\core.py:494: FutureWarning: In a future version the predictions will have the id as a column. You can set the `NIXTLA_ID_AS_COL` environment variable to adopt the new behavior and to suppress this warning.\n",
      "  warnings.warn(\n",
      "C:\\Users\\PC314\\AppData\\Local\\Temp\\ipykernel_17148\\3122320333.py:50: SettingWithCopyWarning: \n",
      "A value is trying to be set on a copy of a slice from a DataFrame.\n",
      "Try using .loc[row_indexer,col_indexer] = value instead\n",
      "\n",
      "See the caveats in the documentation: https://pandas.pydata.org/pandas-docs/stable/user_guide/indexing.html#returning-a-view-versus-a-copy\n",
      "  train_df['y'] = series\n"
     ]
    },
    {
     "name": "stdout",
     "output_type": "stream",
     "text": [
      "Best Model for seasonality_boxcox_standardize: MSTL_a_ARIMA (MAPE: 99.97%)\n",
      "Training on transformed version: log_trend_seasonality_boxcox\n"
     ]
    },
    {
     "name": "stderr",
     "output_type": "stream",
     "text": [
      "c:\\Users\\PC314\\anaconda3\\Lib\\site-packages\\statsforecast\\core.py:494: FutureWarning: In a future version the predictions will have the id as a column. You can set the `NIXTLA_ID_AS_COL` environment variable to adopt the new behavior and to suppress this warning.\n",
      "  warnings.warn(\n",
      "c:\\Users\\PC314\\anaconda3\\Lib\\site-packages\\statsforecast\\core.py:494: FutureWarning: In a future version the predictions will have the id as a column. You can set the `NIXTLA_ID_AS_COL` environment variable to adopt the new behavior and to suppress this warning.\n",
      "  warnings.warn(\n",
      "c:\\Users\\PC314\\anaconda3\\Lib\\site-packages\\statsforecast\\core.py:494: FutureWarning: In a future version the predictions will have the id as a column. You can set the `NIXTLA_ID_AS_COL` environment variable to adopt the new behavior and to suppress this warning.\n",
      "  warnings.warn(\n",
      "c:\\Users\\PC314\\anaconda3\\Lib\\site-packages\\statsforecast\\core.py:494: FutureWarning: In a future version the predictions will have the id as a column. You can set the `NIXTLA_ID_AS_COL` environment variable to adopt the new behavior and to suppress this warning.\n",
      "  warnings.warn(\n",
      "c:\\Users\\PC314\\anaconda3\\Lib\\site-packages\\statsforecast\\core.py:494: FutureWarning: In a future version the predictions will have the id as a column. You can set the `NIXTLA_ID_AS_COL` environment variable to adopt the new behavior and to suppress this warning.\n",
      "  warnings.warn(\n",
      "c:\\Users\\PC314\\anaconda3\\Lib\\site-packages\\statsforecast\\core.py:494: FutureWarning: In a future version the predictions will have the id as a column. You can set the `NIXTLA_ID_AS_COL` environment variable to adopt the new behavior and to suppress this warning.\n",
      "  warnings.warn(\n",
      "C:\\Users\\PC314\\AppData\\Local\\Temp\\ipykernel_17148\\3122320333.py:50: SettingWithCopyWarning: \n",
      "A value is trying to be set on a copy of a slice from a DataFrame.\n",
      "Try using .loc[row_indexer,col_indexer] = value instead\n",
      "\n",
      "See the caveats in the documentation: https://pandas.pydata.org/pandas-docs/stable/user_guide/indexing.html#returning-a-view-versus-a-copy\n",
      "  train_df['y'] = series\n"
     ]
    },
    {
     "name": "stdout",
     "output_type": "stream",
     "text": [
      "Best Model for log_trend_seasonality_boxcox: MSTL_a_ARIMA (MAPE: 1538.42%)\n",
      "Training on transformed version: log_trend_seasonality_standardize\n"
     ]
    },
    {
     "name": "stderr",
     "output_type": "stream",
     "text": [
      "c:\\Users\\PC314\\anaconda3\\Lib\\site-packages\\statsforecast\\core.py:494: FutureWarning: In a future version the predictions will have the id as a column. You can set the `NIXTLA_ID_AS_COL` environment variable to adopt the new behavior and to suppress this warning.\n",
      "  warnings.warn(\n",
      "c:\\Users\\PC314\\anaconda3\\Lib\\site-packages\\statsforecast\\core.py:494: FutureWarning: In a future version the predictions will have the id as a column. You can set the `NIXTLA_ID_AS_COL` environment variable to adopt the new behavior and to suppress this warning.\n",
      "  warnings.warn(\n",
      "c:\\Users\\PC314\\anaconda3\\Lib\\site-packages\\statsforecast\\core.py:494: FutureWarning: In a future version the predictions will have the id as a column. You can set the `NIXTLA_ID_AS_COL` environment variable to adopt the new behavior and to suppress this warning.\n",
      "  warnings.warn(\n",
      "c:\\Users\\PC314\\anaconda3\\Lib\\site-packages\\statsforecast\\core.py:494: FutureWarning: In a future version the predictions will have the id as a column. You can set the `NIXTLA_ID_AS_COL` environment variable to adopt the new behavior and to suppress this warning.\n",
      "  warnings.warn(\n",
      "c:\\Users\\PC314\\anaconda3\\Lib\\site-packages\\statsforecast\\core.py:494: FutureWarning: In a future version the predictions will have the id as a column. You can set the `NIXTLA_ID_AS_COL` environment variable to adopt the new behavior and to suppress this warning.\n",
      "  warnings.warn(\n",
      "c:\\Users\\PC314\\anaconda3\\Lib\\site-packages\\statsforecast\\core.py:494: FutureWarning: In a future version the predictions will have the id as a column. You can set the `NIXTLA_ID_AS_COL` environment variable to adopt the new behavior and to suppress this warning.\n",
      "  warnings.warn(\n",
      "C:\\Users\\PC314\\AppData\\Local\\Temp\\ipykernel_17148\\3122320333.py:50: SettingWithCopyWarning: \n",
      "A value is trying to be set on a copy of a slice from a DataFrame.\n",
      "Try using .loc[row_indexer,col_indexer] = value instead\n",
      "\n",
      "See the caveats in the documentation: https://pandas.pydata.org/pandas-docs/stable/user_guide/indexing.html#returning-a-view-versus-a-copy\n",
      "  train_df['y'] = series\n"
     ]
    },
    {
     "name": "stdout",
     "output_type": "stream",
     "text": [
      "Best Model for log_trend_seasonality_standardize: MSTL_a_ARIMA (MAPE: 1539.14%)\n",
      "Training on transformed version: log_trend_boxcox_standardize\n"
     ]
    },
    {
     "name": "stderr",
     "output_type": "stream",
     "text": [
      "c:\\Users\\PC314\\anaconda3\\Lib\\site-packages\\statsforecast\\core.py:494: FutureWarning: In a future version the predictions will have the id as a column. You can set the `NIXTLA_ID_AS_COL` environment variable to adopt the new behavior and to suppress this warning.\n",
      "  warnings.warn(\n",
      "c:\\Users\\PC314\\anaconda3\\Lib\\site-packages\\statsforecast\\core.py:494: FutureWarning: In a future version the predictions will have the id as a column. You can set the `NIXTLA_ID_AS_COL` environment variable to adopt the new behavior and to suppress this warning.\n",
      "  warnings.warn(\n",
      "c:\\Users\\PC314\\anaconda3\\Lib\\site-packages\\statsforecast\\core.py:494: FutureWarning: In a future version the predictions will have the id as a column. You can set the `NIXTLA_ID_AS_COL` environment variable to adopt the new behavior and to suppress this warning.\n",
      "  warnings.warn(\n",
      "c:\\Users\\PC314\\anaconda3\\Lib\\site-packages\\statsforecast\\core.py:494: FutureWarning: In a future version the predictions will have the id as a column. You can set the `NIXTLA_ID_AS_COL` environment variable to adopt the new behavior and to suppress this warning.\n",
      "  warnings.warn(\n",
      "c:\\Users\\PC314\\anaconda3\\Lib\\site-packages\\statsforecast\\core.py:494: FutureWarning: In a future version the predictions will have the id as a column. You can set the `NIXTLA_ID_AS_COL` environment variable to adopt the new behavior and to suppress this warning.\n",
      "  warnings.warn(\n",
      "c:\\Users\\PC314\\anaconda3\\Lib\\site-packages\\statsforecast\\core.py:494: FutureWarning: In a future version the predictions will have the id as a column. You can set the `NIXTLA_ID_AS_COL` environment variable to adopt the new behavior and to suppress this warning.\n",
      "  warnings.warn(\n",
      "C:\\Users\\PC314\\AppData\\Local\\Temp\\ipykernel_17148\\3122320333.py:50: SettingWithCopyWarning: \n",
      "A value is trying to be set on a copy of a slice from a DataFrame.\n",
      "Try using .loc[row_indexer,col_indexer] = value instead\n",
      "\n",
      "See the caveats in the documentation: https://pandas.pydata.org/pandas-docs/stable/user_guide/indexing.html#returning-a-view-versus-a-copy\n",
      "  train_df['y'] = series\n"
     ]
    },
    {
     "name": "stdout",
     "output_type": "stream",
     "text": [
      "Best Model for log_trend_boxcox_standardize: MSTL_a_ARIMA (MAPE: 1539.14%)\n",
      "Training on transformed version: log_seasonality_boxcox_standardize\n"
     ]
    },
    {
     "name": "stderr",
     "output_type": "stream",
     "text": [
      "c:\\Users\\PC314\\anaconda3\\Lib\\site-packages\\statsforecast\\core.py:494: FutureWarning: In a future version the predictions will have the id as a column. You can set the `NIXTLA_ID_AS_COL` environment variable to adopt the new behavior and to suppress this warning.\n",
      "  warnings.warn(\n",
      "c:\\Users\\PC314\\anaconda3\\Lib\\site-packages\\statsforecast\\core.py:494: FutureWarning: In a future version the predictions will have the id as a column. You can set the `NIXTLA_ID_AS_COL` environment variable to adopt the new behavior and to suppress this warning.\n",
      "  warnings.warn(\n",
      "c:\\Users\\PC314\\anaconda3\\Lib\\site-packages\\statsforecast\\core.py:494: FutureWarning: In a future version the predictions will have the id as a column. You can set the `NIXTLA_ID_AS_COL` environment variable to adopt the new behavior and to suppress this warning.\n",
      "  warnings.warn(\n",
      "c:\\Users\\PC314\\anaconda3\\Lib\\site-packages\\statsforecast\\core.py:494: FutureWarning: In a future version the predictions will have the id as a column. You can set the `NIXTLA_ID_AS_COL` environment variable to adopt the new behavior and to suppress this warning.\n",
      "  warnings.warn(\n",
      "c:\\Users\\PC314\\anaconda3\\Lib\\site-packages\\statsforecast\\core.py:494: FutureWarning: In a future version the predictions will have the id as a column. You can set the `NIXTLA_ID_AS_COL` environment variable to adopt the new behavior and to suppress this warning.\n",
      "  warnings.warn(\n",
      "c:\\Users\\PC314\\anaconda3\\Lib\\site-packages\\statsforecast\\core.py:494: FutureWarning: In a future version the predictions will have the id as a column. You can set the `NIXTLA_ID_AS_COL` environment variable to adopt the new behavior and to suppress this warning.\n",
      "  warnings.warn(\n",
      "C:\\Users\\PC314\\AppData\\Local\\Temp\\ipykernel_17148\\3122320333.py:50: SettingWithCopyWarning: \n",
      "A value is trying to be set on a copy of a slice from a DataFrame.\n",
      "Try using .loc[row_indexer,col_indexer] = value instead\n",
      "\n",
      "See the caveats in the documentation: https://pandas.pydata.org/pandas-docs/stable/user_guide/indexing.html#returning-a-view-versus-a-copy\n",
      "  train_df['y'] = series\n"
     ]
    },
    {
     "name": "stdout",
     "output_type": "stream",
     "text": [
      "Best Model for log_seasonality_boxcox_standardize: MSTL_a_ARIMA (MAPE: 93.78%)\n",
      "Training on transformed version: trend_seasonality_boxcox_standardize\n"
     ]
    },
    {
     "name": "stderr",
     "output_type": "stream",
     "text": [
      "c:\\Users\\PC314\\anaconda3\\Lib\\site-packages\\statsforecast\\core.py:494: FutureWarning: In a future version the predictions will have the id as a column. You can set the `NIXTLA_ID_AS_COL` environment variable to adopt the new behavior and to suppress this warning.\n",
      "  warnings.warn(\n",
      "c:\\Users\\PC314\\anaconda3\\Lib\\site-packages\\statsforecast\\core.py:494: FutureWarning: In a future version the predictions will have the id as a column. You can set the `NIXTLA_ID_AS_COL` environment variable to adopt the new behavior and to suppress this warning.\n",
      "  warnings.warn(\n",
      "c:\\Users\\PC314\\anaconda3\\Lib\\site-packages\\statsforecast\\core.py:494: FutureWarning: In a future version the predictions will have the id as a column. You can set the `NIXTLA_ID_AS_COL` environment variable to adopt the new behavior and to suppress this warning.\n",
      "  warnings.warn(\n",
      "c:\\Users\\PC314\\anaconda3\\Lib\\site-packages\\statsforecast\\core.py:494: FutureWarning: In a future version the predictions will have the id as a column. You can set the `NIXTLA_ID_AS_COL` environment variable to adopt the new behavior and to suppress this warning.\n",
      "  warnings.warn(\n",
      "c:\\Users\\PC314\\anaconda3\\Lib\\site-packages\\statsforecast\\core.py:494: FutureWarning: In a future version the predictions will have the id as a column. You can set the `NIXTLA_ID_AS_COL` environment variable to adopt the new behavior and to suppress this warning.\n",
      "  warnings.warn(\n",
      "c:\\Users\\PC314\\anaconda3\\Lib\\site-packages\\statsforecast\\core.py:494: FutureWarning: In a future version the predictions will have the id as a column. You can set the `NIXTLA_ID_AS_COL` environment variable to adopt the new behavior and to suppress this warning.\n",
      "  warnings.warn(\n",
      "C:\\Users\\PC314\\AppData\\Local\\Temp\\ipykernel_17148\\3122320333.py:50: SettingWithCopyWarning: \n",
      "A value is trying to be set on a copy of a slice from a DataFrame.\n",
      "Try using .loc[row_indexer,col_indexer] = value instead\n",
      "\n",
      "See the caveats in the documentation: https://pandas.pydata.org/pandas-docs/stable/user_guide/indexing.html#returning-a-view-versus-a-copy\n",
      "  train_df['y'] = series\n"
     ]
    },
    {
     "name": "stdout",
     "output_type": "stream",
     "text": [
      "Best Model for trend_seasonality_boxcox_standardize: MSTL_a_ARIMA (MAPE: 86.83%)\n",
      "Training on transformed version: log_trend_seasonality_boxcox_standardize\n"
     ]
    },
    {
     "name": "stderr",
     "output_type": "stream",
     "text": [
      "c:\\Users\\PC314\\anaconda3\\Lib\\site-packages\\statsforecast\\core.py:494: FutureWarning: In a future version the predictions will have the id as a column. You can set the `NIXTLA_ID_AS_COL` environment variable to adopt the new behavior and to suppress this warning.\n",
      "  warnings.warn(\n",
      "c:\\Users\\PC314\\anaconda3\\Lib\\site-packages\\statsforecast\\core.py:494: FutureWarning: In a future version the predictions will have the id as a column. You can set the `NIXTLA_ID_AS_COL` environment variable to adopt the new behavior and to suppress this warning.\n",
      "  warnings.warn(\n",
      "c:\\Users\\PC314\\anaconda3\\Lib\\site-packages\\statsforecast\\core.py:494: FutureWarning: In a future version the predictions will have the id as a column. You can set the `NIXTLA_ID_AS_COL` environment variable to adopt the new behavior and to suppress this warning.\n",
      "  warnings.warn(\n",
      "c:\\Users\\PC314\\anaconda3\\Lib\\site-packages\\statsforecast\\core.py:494: FutureWarning: In a future version the predictions will have the id as a column. You can set the `NIXTLA_ID_AS_COL` environment variable to adopt the new behavior and to suppress this warning.\n",
      "  warnings.warn(\n",
      "c:\\Users\\PC314\\anaconda3\\Lib\\site-packages\\statsforecast\\core.py:494: FutureWarning: In a future version the predictions will have the id as a column. You can set the `NIXTLA_ID_AS_COL` environment variable to adopt the new behavior and to suppress this warning.\n",
      "  warnings.warn(\n",
      "c:\\Users\\PC314\\anaconda3\\Lib\\site-packages\\statsforecast\\core.py:494: FutureWarning: In a future version the predictions will have the id as a column. You can set the `NIXTLA_ID_AS_COL` environment variable to adopt the new behavior and to suppress this warning.\n",
      "  warnings.warn(\n",
      "C:\\Users\\PC314\\AppData\\Local\\Temp\\ipykernel_17148\\2310296225.py:49: UserWarning: Skipping seasonality removal: Data is too short for a full seasonal cycle.\n",
      "  warnings.warn(\"Skipping seasonality removal: Data is too short for a full seasonal cycle.\")\n",
      "C:\\Users\\PC314\\AppData\\Local\\Temp\\ipykernel_17148\\2310296225.py:69: UserWarning: Failed to apply Box-Cox transformation: The `x` argument of `boxcox_normmax` must contain only positive, finite, real numbers.\n",
      "  warnings.warn(f\"Failed to apply Box-Cox transformation: {e}\")\n",
      "C:\\Users\\PC314\\AppData\\Local\\Temp\\ipykernel_17148\\3122320333.py:50: SettingWithCopyWarning: \n",
      "A value is trying to be set on a copy of a slice from a DataFrame.\n",
      "Try using .loc[row_indexer,col_indexer] = value instead\n",
      "\n",
      "See the caveats in the documentation: https://pandas.pydata.org/pandas-docs/stable/user_guide/indexing.html#returning-a-view-versus-a-copy\n",
      "  train_df['y'] = series\n"
     ]
    },
    {
     "name": "stdout",
     "output_type": "stream",
     "text": [
      "Best Model for log_trend_seasonality_boxcox_standardize: MSTL_a_ARIMA (MAPE: 1539.14%)\n",
      "Processing Sensor 2, Scenario: 10M_train\n",
      "Training on transformed version: original\n",
      "Skipping MSTL_abc_ARIMA on original due to error: could not broadcast input array from shape (930,) into shape (986,)\n",
      "Skipping MSTL_ac_ARIMA on original due to error: could not broadcast input array from shape (930,) into shape (986,)\n"
     ]
    },
    {
     "name": "stderr",
     "output_type": "stream",
     "text": [
      "c:\\Users\\PC314\\anaconda3\\Lib\\site-packages\\statsforecast\\core.py:494: FutureWarning: In a future version the predictions will have the id as a column. You can set the `NIXTLA_ID_AS_COL` environment variable to adopt the new behavior and to suppress this warning.\n",
      "  warnings.warn(\n",
      "c:\\Users\\PC314\\anaconda3\\Lib\\site-packages\\statsforecast\\mfles.py:301: RuntimeWarning: overflow encountered in scalar multiply\n",
      "  slope = (M * x_y_sum - x_sum * y_sum) / (M * x_sq_sum - x_sum**2)\n",
      "c:\\Users\\PC314\\anaconda3\\Lib\\site-packages\\statsforecast\\mfles.py:301: RuntimeWarning: overflow encountered in scalar multiply\n",
      "  slope = (M * x_y_sum - x_sum * y_sum) / (M * x_sq_sum - x_sum**2)\n"
     ]
    },
    {
     "name": "stdout",
     "output_type": "stream",
     "text": [
      "Skipping MSTL_ac_MFLES1 on original due to error: could not broadcast input array from shape (930,) into shape (986,)\n",
      "Skipping MSTL_ac_MFLES2 on original due to error: could not broadcast input array from shape (930,) into shape (986,)\n"
     ]
    },
    {
     "name": "stderr",
     "output_type": "stream",
     "text": [
      "c:\\Users\\PC314\\anaconda3\\Lib\\site-packages\\statsforecast\\mfles.py:301: RuntimeWarning: overflow encountered in scalar multiply\n",
      "  slope = (M * x_y_sum - x_sum * y_sum) / (M * x_sq_sum - x_sum**2)\n",
      "C:\\Users\\PC314\\AppData\\Local\\Temp\\ipykernel_17148\\3122320333.py:50: SettingWithCopyWarning: \n",
      "A value is trying to be set on a copy of a slice from a DataFrame.\n",
      "Try using .loc[row_indexer,col_indexer] = value instead\n",
      "\n",
      "See the caveats in the documentation: https://pandas.pydata.org/pandas-docs/stable/user_guide/indexing.html#returning-a-view-versus-a-copy\n",
      "  train_df['y'] = series\n"
     ]
    },
    {
     "name": "stdout",
     "output_type": "stream",
     "text": [
      "Skipping MSTL_ac_MFLES3 on original due to error: could not broadcast input array from shape (930,) into shape (986,)\n",
      "Best Model for original: MSTL_a_ARIMA (MAPE: 288.55%)\n",
      "Training on transformed version: log\n",
      "Skipping MSTL_abc_ARIMA on log due to error: could not broadcast input array from shape (930,) into shape (986,)\n",
      "Skipping MSTL_ac_ARIMA on log due to error: could not broadcast input array from shape (930,) into shape (986,)\n"
     ]
    },
    {
     "name": "stderr",
     "output_type": "stream",
     "text": [
      "c:\\Users\\PC314\\anaconda3\\Lib\\site-packages\\statsforecast\\core.py:494: FutureWarning: In a future version the predictions will have the id as a column. You can set the `NIXTLA_ID_AS_COL` environment variable to adopt the new behavior and to suppress this warning.\n",
      "  warnings.warn(\n",
      "c:\\Users\\PC314\\anaconda3\\Lib\\site-packages\\statsforecast\\mfles.py:301: RuntimeWarning: overflow encountered in scalar multiply\n",
      "  slope = (M * x_y_sum - x_sum * y_sum) / (M * x_sq_sum - x_sum**2)\n"
     ]
    },
    {
     "name": "stdout",
     "output_type": "stream",
     "text": [
      "Skipping MSTL_ac_MFLES1 on log due to error: could not broadcast input array from shape (930,) into shape (986,)\n"
     ]
    },
    {
     "name": "stderr",
     "output_type": "stream",
     "text": [
      "c:\\Users\\PC314\\anaconda3\\Lib\\site-packages\\statsforecast\\mfles.py:301: RuntimeWarning: overflow encountered in scalar multiply\n",
      "  slope = (M * x_y_sum - x_sum * y_sum) / (M * x_sq_sum - x_sum**2)\n",
      "c:\\Users\\PC314\\anaconda3\\Lib\\site-packages\\statsforecast\\mfles.py:301: RuntimeWarning: overflow encountered in scalar multiply\n",
      "  slope = (M * x_y_sum - x_sum * y_sum) / (M * x_sq_sum - x_sum**2)\n"
     ]
    },
    {
     "name": "stdout",
     "output_type": "stream",
     "text": [
      "Skipping MSTL_ac_MFLES2 on log due to error: could not broadcast input array from shape (930,) into shape (986,)\n",
      "Skipping MSTL_ac_MFLES3 on log due to error: could not broadcast input array from shape (930,) into shape (986,)\n",
      "Best Model for log: MSTL_a_ARIMA (MAPE: 282.80%)\n",
      "Training on transformed version: trend\n"
     ]
    },
    {
     "name": "stderr",
     "output_type": "stream",
     "text": [
      "C:\\Users\\PC314\\AppData\\Local\\Temp\\ipykernel_17148\\3122320333.py:50: SettingWithCopyWarning: \n",
      "A value is trying to be set on a copy of a slice from a DataFrame.\n",
      "Try using .loc[row_indexer,col_indexer] = value instead\n",
      "\n",
      "See the caveats in the documentation: https://pandas.pydata.org/pandas-docs/stable/user_guide/indexing.html#returning-a-view-versus-a-copy\n",
      "  train_df['y'] = series\n"
     ]
    },
    {
     "name": "stdout",
     "output_type": "stream",
     "text": [
      "Skipping MSTL_abc_ARIMA on trend due to error: could not broadcast input array from shape (930,) into shape (986,)\n",
      "Skipping MSTL_ac_ARIMA on trend due to error: could not broadcast input array from shape (930,) into shape (986,)\n"
     ]
    },
    {
     "name": "stderr",
     "output_type": "stream",
     "text": [
      "c:\\Users\\PC314\\anaconda3\\Lib\\site-packages\\statsforecast\\core.py:494: FutureWarning: In a future version the predictions will have the id as a column. You can set the `NIXTLA_ID_AS_COL` environment variable to adopt the new behavior and to suppress this warning.\n",
      "  warnings.warn(\n",
      "c:\\Users\\PC314\\anaconda3\\Lib\\site-packages\\statsforecast\\mfles.py:301: RuntimeWarning: overflow encountered in scalar multiply\n",
      "  slope = (M * x_y_sum - x_sum * y_sum) / (M * x_sq_sum - x_sum**2)\n"
     ]
    },
    {
     "name": "stdout",
     "output_type": "stream",
     "text": [
      "Skipping MSTL_ac_MFLES1 on trend due to error: could not broadcast input array from shape (930,) into shape (986,)\n"
     ]
    },
    {
     "name": "stderr",
     "output_type": "stream",
     "text": [
      "c:\\Users\\PC314\\anaconda3\\Lib\\site-packages\\statsforecast\\mfles.py:301: RuntimeWarning: overflow encountered in scalar multiply\n",
      "  slope = (M * x_y_sum - x_sum * y_sum) / (M * x_sq_sum - x_sum**2)\n",
      "c:\\Users\\PC314\\anaconda3\\Lib\\site-packages\\statsforecast\\mfles.py:301: RuntimeWarning: overflow encountered in scalar multiply\n",
      "  slope = (M * x_y_sum - x_sum * y_sum) / (M * x_sq_sum - x_sum**2)\n"
     ]
    },
    {
     "name": "stdout",
     "output_type": "stream",
     "text": [
      "Skipping MSTL_ac_MFLES2 on trend due to error: could not broadcast input array from shape (930,) into shape (986,)\n",
      "Skipping MSTL_ac_MFLES3 on trend due to error: could not broadcast input array from shape (930,) into shape (986,)\n",
      "Best Model for trend: MSTL_a_ARIMA (MAPE: 167.05%)\n",
      "Training on transformed version: seasonality\n"
     ]
    },
    {
     "name": "stderr",
     "output_type": "stream",
     "text": [
      "C:\\Users\\PC314\\AppData\\Local\\Temp\\ipykernel_17148\\3122320333.py:50: SettingWithCopyWarning: \n",
      "A value is trying to be set on a copy of a slice from a DataFrame.\n",
      "Try using .loc[row_indexer,col_indexer] = value instead\n",
      "\n",
      "See the caveats in the documentation: https://pandas.pydata.org/pandas-docs/stable/user_guide/indexing.html#returning-a-view-versus-a-copy\n",
      "  train_df['y'] = series\n"
     ]
    },
    {
     "name": "stdout",
     "output_type": "stream",
     "text": [
      "Skipping MSTL_abc_ARIMA on seasonality due to error: could not broadcast input array from shape (930,) into shape (986,)\n",
      "Skipping MSTL_ac_ARIMA on seasonality due to error: could not broadcast input array from shape (930,) into shape (986,)\n"
     ]
    },
    {
     "name": "stderr",
     "output_type": "stream",
     "text": [
      "c:\\Users\\PC314\\anaconda3\\Lib\\site-packages\\statsforecast\\core.py:494: FutureWarning: In a future version the predictions will have the id as a column. You can set the `NIXTLA_ID_AS_COL` environment variable to adopt the new behavior and to suppress this warning.\n",
      "  warnings.warn(\n",
      "c:\\Users\\PC314\\anaconda3\\Lib\\site-packages\\statsforecast\\mfles.py:301: RuntimeWarning: overflow encountered in scalar multiply\n",
      "  slope = (M * x_y_sum - x_sum * y_sum) / (M * x_sq_sum - x_sum**2)\n"
     ]
    },
    {
     "name": "stdout",
     "output_type": "stream",
     "text": [
      "Skipping MSTL_ac_MFLES1 on seasonality due to error: could not broadcast input array from shape (930,) into shape (986,)\n"
     ]
    },
    {
     "name": "stderr",
     "output_type": "stream",
     "text": [
      "c:\\Users\\PC314\\anaconda3\\Lib\\site-packages\\statsforecast\\mfles.py:301: RuntimeWarning: overflow encountered in scalar multiply\n",
      "  slope = (M * x_y_sum - x_sum * y_sum) / (M * x_sq_sum - x_sum**2)\n",
      "c:\\Users\\PC314\\anaconda3\\Lib\\site-packages\\statsforecast\\mfles.py:301: RuntimeWarning: overflow encountered in scalar multiply\n",
      "  slope = (M * x_y_sum - x_sum * y_sum) / (M * x_sq_sum - x_sum**2)\n",
      "C:\\Users\\PC314\\AppData\\Local\\Temp\\ipykernel_17148\\3122320333.py:50: SettingWithCopyWarning: \n",
      "A value is trying to be set on a copy of a slice from a DataFrame.\n",
      "Try using .loc[row_indexer,col_indexer] = value instead\n",
      "\n",
      "See the caveats in the documentation: https://pandas.pydata.org/pandas-docs/stable/user_guide/indexing.html#returning-a-view-versus-a-copy\n",
      "  train_df['y'] = series\n"
     ]
    },
    {
     "name": "stdout",
     "output_type": "stream",
     "text": [
      "Skipping MSTL_ac_MFLES2 on seasonality due to error: could not broadcast input array from shape (930,) into shape (986,)\n",
      "Skipping MSTL_ac_MFLES3 on seasonality due to error: could not broadcast input array from shape (930,) into shape (986,)\n",
      "Best Model for seasonality: MSTL_a_ARIMA (MAPE: 288.55%)\n",
      "Training on transformed version: boxcox\n",
      "Skipping MSTL_abc_ARIMA on boxcox due to error: could not broadcast input array from shape (930,) into shape (986,)\n",
      "Skipping MSTL_ac_ARIMA on boxcox due to error: could not broadcast input array from shape (930,) into shape (986,)\n"
     ]
    },
    {
     "name": "stderr",
     "output_type": "stream",
     "text": [
      "c:\\Users\\PC314\\anaconda3\\Lib\\site-packages\\statsforecast\\core.py:494: FutureWarning: In a future version the predictions will have the id as a column. You can set the `NIXTLA_ID_AS_COL` environment variable to adopt the new behavior and to suppress this warning.\n",
      "  warnings.warn(\n",
      "c:\\Users\\PC314\\anaconda3\\Lib\\site-packages\\statsforecast\\mfles.py:301: RuntimeWarning: overflow encountered in scalar multiply\n",
      "  slope = (M * x_y_sum - x_sum * y_sum) / (M * x_sq_sum - x_sum**2)\n"
     ]
    },
    {
     "name": "stdout",
     "output_type": "stream",
     "text": [
      "Skipping MSTL_ac_MFLES1 on boxcox due to error: could not broadcast input array from shape (930,) into shape (986,)\n"
     ]
    },
    {
     "name": "stderr",
     "output_type": "stream",
     "text": [
      "c:\\Users\\PC314\\anaconda3\\Lib\\site-packages\\statsforecast\\mfles.py:301: RuntimeWarning: overflow encountered in scalar multiply\n",
      "  slope = (M * x_y_sum - x_sum * y_sum) / (M * x_sq_sum - x_sum**2)\n",
      "c:\\Users\\PC314\\anaconda3\\Lib\\site-packages\\statsforecast\\mfles.py:301: RuntimeWarning: overflow encountered in scalar multiply\n",
      "  slope = (M * x_y_sum - x_sum * y_sum) / (M * x_sq_sum - x_sum**2)\n",
      "C:\\Users\\PC314\\AppData\\Local\\Temp\\ipykernel_17148\\3122320333.py:50: SettingWithCopyWarning: \n",
      "A value is trying to be set on a copy of a slice from a DataFrame.\n",
      "Try using .loc[row_indexer,col_indexer] = value instead\n",
      "\n",
      "See the caveats in the documentation: https://pandas.pydata.org/pandas-docs/stable/user_guide/indexing.html#returning-a-view-versus-a-copy\n",
      "  train_df['y'] = series\n"
     ]
    },
    {
     "name": "stdout",
     "output_type": "stream",
     "text": [
      "Skipping MSTL_ac_MFLES2 on boxcox due to error: could not broadcast input array from shape (930,) into shape (986,)\n",
      "Skipping MSTL_ac_MFLES3 on boxcox due to error: could not broadcast input array from shape (930,) into shape (986,)\n",
      "Best Model for boxcox: MSTL_a_ARIMA (MAPE: 275.86%)\n",
      "Training on transformed version: standardize\n",
      "Skipping MSTL_abc_ARIMA on standardize due to error: could not broadcast input array from shape (930,) into shape (986,)\n",
      "Skipping MSTL_ac_ARIMA on standardize due to error: could not broadcast input array from shape (930,) into shape (986,)\n"
     ]
    },
    {
     "name": "stderr",
     "output_type": "stream",
     "text": [
      "c:\\Users\\PC314\\anaconda3\\Lib\\site-packages\\statsforecast\\core.py:494: FutureWarning: In a future version the predictions will have the id as a column. You can set the `NIXTLA_ID_AS_COL` environment variable to adopt the new behavior and to suppress this warning.\n",
      "  warnings.warn(\n",
      "c:\\Users\\PC314\\anaconda3\\Lib\\site-packages\\statsforecast\\mfles.py:301: RuntimeWarning: overflow encountered in scalar multiply\n",
      "  slope = (M * x_y_sum - x_sum * y_sum) / (M * x_sq_sum - x_sum**2)\n"
     ]
    },
    {
     "name": "stdout",
     "output_type": "stream",
     "text": [
      "Skipping MSTL_ac_MFLES1 on standardize due to error: could not broadcast input array from shape (930,) into shape (986,)\n"
     ]
    },
    {
     "name": "stderr",
     "output_type": "stream",
     "text": [
      "c:\\Users\\PC314\\anaconda3\\Lib\\site-packages\\statsforecast\\mfles.py:301: RuntimeWarning: overflow encountered in scalar multiply\n",
      "  slope = (M * x_y_sum - x_sum * y_sum) / (M * x_sq_sum - x_sum**2)\n",
      "c:\\Users\\PC314\\anaconda3\\Lib\\site-packages\\statsforecast\\mfles.py:301: RuntimeWarning: overflow encountered in scalar multiply\n",
      "  slope = (M * x_y_sum - x_sum * y_sum) / (M * x_sq_sum - x_sum**2)\n",
      "C:\\Users\\PC314\\AppData\\Local\\Temp\\ipykernel_17148\\3122320333.py:50: SettingWithCopyWarning: \n",
      "A value is trying to be set on a copy of a slice from a DataFrame.\n",
      "Try using .loc[row_indexer,col_indexer] = value instead\n",
      "\n",
      "See the caveats in the documentation: https://pandas.pydata.org/pandas-docs/stable/user_guide/indexing.html#returning-a-view-versus-a-copy\n",
      "  train_df['y'] = series\n"
     ]
    },
    {
     "name": "stdout",
     "output_type": "stream",
     "text": [
      "Skipping MSTL_ac_MFLES2 on standardize due to error: could not broadcast input array from shape (930,) into shape (986,)\n",
      "Skipping MSTL_ac_MFLES3 on standardize due to error: could not broadcast input array from shape (930,) into shape (986,)\n",
      "Best Model for standardize: MSTL_a_ARIMA (MAPE: 97.78%)\n",
      "Training on transformed version: log_trend\n",
      "Skipping MSTL_abc_ARIMA on log_trend due to error: could not broadcast input array from shape (930,) into shape (986,)\n",
      "Skipping MSTL_ac_ARIMA on log_trend due to error: could not broadcast input array from shape (930,) into shape (986,)\n"
     ]
    },
    {
     "name": "stderr",
     "output_type": "stream",
     "text": [
      "c:\\Users\\PC314\\anaconda3\\Lib\\site-packages\\statsforecast\\core.py:494: FutureWarning: In a future version the predictions will have the id as a column. You can set the `NIXTLA_ID_AS_COL` environment variable to adopt the new behavior and to suppress this warning.\n",
      "  warnings.warn(\n",
      "c:\\Users\\PC314\\anaconda3\\Lib\\site-packages\\statsforecast\\mfles.py:301: RuntimeWarning: overflow encountered in scalar multiply\n",
      "  slope = (M * x_y_sum - x_sum * y_sum) / (M * x_sq_sum - x_sum**2)\n"
     ]
    },
    {
     "name": "stdout",
     "output_type": "stream",
     "text": [
      "Skipping MSTL_ac_MFLES1 on log_trend due to error: could not broadcast input array from shape (930,) into shape (986,)\n"
     ]
    },
    {
     "name": "stderr",
     "output_type": "stream",
     "text": [
      "c:\\Users\\PC314\\anaconda3\\Lib\\site-packages\\statsforecast\\mfles.py:301: RuntimeWarning: overflow encountered in scalar multiply\n",
      "  slope = (M * x_y_sum - x_sum * y_sum) / (M * x_sq_sum - x_sum**2)\n"
     ]
    },
    {
     "name": "stdout",
     "output_type": "stream",
     "text": [
      "Skipping MSTL_ac_MFLES2 on log_trend due to error: could not broadcast input array from shape (930,) into shape (986,)\n"
     ]
    },
    {
     "name": "stderr",
     "output_type": "stream",
     "text": [
      "c:\\Users\\PC314\\anaconda3\\Lib\\site-packages\\statsforecast\\mfles.py:301: RuntimeWarning: overflow encountered in scalar multiply\n",
      "  slope = (M * x_y_sum - x_sum * y_sum) / (M * x_sq_sum - x_sum**2)\n",
      "C:\\Users\\PC314\\AppData\\Local\\Temp\\ipykernel_17148\\3122320333.py:50: SettingWithCopyWarning: \n",
      "A value is trying to be set on a copy of a slice from a DataFrame.\n",
      "Try using .loc[row_indexer,col_indexer] = value instead\n",
      "\n",
      "See the caveats in the documentation: https://pandas.pydata.org/pandas-docs/stable/user_guide/indexing.html#returning-a-view-versus-a-copy\n",
      "  train_df['y'] = series\n"
     ]
    },
    {
     "name": "stdout",
     "output_type": "stream",
     "text": [
      "Skipping MSTL_ac_MFLES3 on log_trend due to error: could not broadcast input array from shape (930,) into shape (986,)\n",
      "Best Model for log_trend: MSTL_a_ARIMA (MAPE: 1656.90%)\n",
      "Training on transformed version: log_seasonality\n",
      "Skipping MSTL_abc_ARIMA on log_seasonality due to error: could not broadcast input array from shape (930,) into shape (986,)\n",
      "Skipping MSTL_ac_ARIMA on log_seasonality due to error: could not broadcast input array from shape (930,) into shape (986,)\n"
     ]
    },
    {
     "name": "stderr",
     "output_type": "stream",
     "text": [
      "c:\\Users\\PC314\\anaconda3\\Lib\\site-packages\\statsforecast\\core.py:494: FutureWarning: In a future version the predictions will have the id as a column. You can set the `NIXTLA_ID_AS_COL` environment variable to adopt the new behavior and to suppress this warning.\n",
      "  warnings.warn(\n",
      "c:\\Users\\PC314\\anaconda3\\Lib\\site-packages\\statsforecast\\mfles.py:301: RuntimeWarning: overflow encountered in scalar multiply\n",
      "  slope = (M * x_y_sum - x_sum * y_sum) / (M * x_sq_sum - x_sum**2)\n"
     ]
    },
    {
     "name": "stdout",
     "output_type": "stream",
     "text": [
      "Skipping MSTL_ac_MFLES1 on log_seasonality due to error: could not broadcast input array from shape (930,) into shape (986,)\n"
     ]
    },
    {
     "name": "stderr",
     "output_type": "stream",
     "text": [
      "c:\\Users\\PC314\\anaconda3\\Lib\\site-packages\\statsforecast\\mfles.py:301: RuntimeWarning: overflow encountered in scalar multiply\n",
      "  slope = (M * x_y_sum - x_sum * y_sum) / (M * x_sq_sum - x_sum**2)\n"
     ]
    },
    {
     "name": "stdout",
     "output_type": "stream",
     "text": [
      "Skipping MSTL_ac_MFLES2 on log_seasonality due to error: could not broadcast input array from shape (930,) into shape (986,)\n"
     ]
    },
    {
     "name": "stderr",
     "output_type": "stream",
     "text": [
      "c:\\Users\\PC314\\anaconda3\\Lib\\site-packages\\statsforecast\\mfles.py:301: RuntimeWarning: overflow encountered in scalar multiply\n",
      "  slope = (M * x_y_sum - x_sum * y_sum) / (M * x_sq_sum - x_sum**2)\n",
      "C:\\Users\\PC314\\AppData\\Local\\Temp\\ipykernel_17148\\3122320333.py:50: SettingWithCopyWarning: \n",
      "A value is trying to be set on a copy of a slice from a DataFrame.\n",
      "Try using .loc[row_indexer,col_indexer] = value instead\n",
      "\n",
      "See the caveats in the documentation: https://pandas.pydata.org/pandas-docs/stable/user_guide/indexing.html#returning-a-view-versus-a-copy\n",
      "  train_df['y'] = series\n"
     ]
    },
    {
     "name": "stdout",
     "output_type": "stream",
     "text": [
      "Skipping MSTL_ac_MFLES3 on log_seasonality due to error: could not broadcast input array from shape (930,) into shape (986,)\n",
      "Best Model for log_seasonality: MSTL_a_ARIMA (MAPE: 282.80%)\n",
      "Training on transformed version: log_boxcox\n",
      "Skipping MSTL_abc_ARIMA on log_boxcox due to error: could not broadcast input array from shape (930,) into shape (986,)\n",
      "Skipping MSTL_ac_ARIMA on log_boxcox due to error: could not broadcast input array from shape (930,) into shape (986,)\n"
     ]
    },
    {
     "name": "stderr",
     "output_type": "stream",
     "text": [
      "c:\\Users\\PC314\\anaconda3\\Lib\\site-packages\\statsforecast\\core.py:494: FutureWarning: In a future version the predictions will have the id as a column. You can set the `NIXTLA_ID_AS_COL` environment variable to adopt the new behavior and to suppress this warning.\n",
      "  warnings.warn(\n",
      "c:\\Users\\PC314\\anaconda3\\Lib\\site-packages\\statsforecast\\mfles.py:301: RuntimeWarning: overflow encountered in scalar multiply\n",
      "  slope = (M * x_y_sum - x_sum * y_sum) / (M * x_sq_sum - x_sum**2)\n"
     ]
    },
    {
     "name": "stdout",
     "output_type": "stream",
     "text": [
      "Skipping MSTL_ac_MFLES1 on log_boxcox due to error: could not broadcast input array from shape (930,) into shape (986,)\n"
     ]
    },
    {
     "name": "stderr",
     "output_type": "stream",
     "text": [
      "c:\\Users\\PC314\\anaconda3\\Lib\\site-packages\\statsforecast\\mfles.py:301: RuntimeWarning: overflow encountered in scalar multiply\n",
      "  slope = (M * x_y_sum - x_sum * y_sum) / (M * x_sq_sum - x_sum**2)\n"
     ]
    },
    {
     "name": "stdout",
     "output_type": "stream",
     "text": [
      "Skipping MSTL_ac_MFLES2 on log_boxcox due to error: could not broadcast input array from shape (930,) into shape (986,)\n"
     ]
    },
    {
     "name": "stderr",
     "output_type": "stream",
     "text": [
      "c:\\Users\\PC314\\anaconda3\\Lib\\site-packages\\statsforecast\\mfles.py:301: RuntimeWarning: overflow encountered in scalar multiply\n",
      "  slope = (M * x_y_sum - x_sum * y_sum) / (M * x_sq_sum - x_sum**2)\n",
      "C:\\Users\\PC314\\AppData\\Local\\Temp\\ipykernel_17148\\3122320333.py:50: SettingWithCopyWarning: \n",
      "A value is trying to be set on a copy of a slice from a DataFrame.\n",
      "Try using .loc[row_indexer,col_indexer] = value instead\n",
      "\n",
      "See the caveats in the documentation: https://pandas.pydata.org/pandas-docs/stable/user_guide/indexing.html#returning-a-view-versus-a-copy\n",
      "  train_df['y'] = series\n"
     ]
    },
    {
     "name": "stdout",
     "output_type": "stream",
     "text": [
      "Skipping MSTL_ac_MFLES3 on log_boxcox due to error: could not broadcast input array from shape (930,) into shape (986,)\n",
      "Best Model for log_boxcox: MSTL_a_ARIMA (MAPE: nan%)\n",
      "Training on transformed version: log_standardize\n",
      "Skipping MSTL_abc_ARIMA on log_standardize due to error: could not broadcast input array from shape (930,) into shape (986,)\n",
      "Skipping MSTL_ac_ARIMA on log_standardize due to error: could not broadcast input array from shape (930,) into shape (986,)\n"
     ]
    },
    {
     "name": "stderr",
     "output_type": "stream",
     "text": [
      "c:\\Users\\PC314\\anaconda3\\Lib\\site-packages\\statsforecast\\core.py:494: FutureWarning: In a future version the predictions will have the id as a column. You can set the `NIXTLA_ID_AS_COL` environment variable to adopt the new behavior and to suppress this warning.\n",
      "  warnings.warn(\n",
      "c:\\Users\\PC314\\anaconda3\\Lib\\site-packages\\statsforecast\\mfles.py:301: RuntimeWarning: overflow encountered in scalar multiply\n",
      "  slope = (M * x_y_sum - x_sum * y_sum) / (M * x_sq_sum - x_sum**2)\n"
     ]
    },
    {
     "name": "stdout",
     "output_type": "stream",
     "text": [
      "Skipping MSTL_ac_MFLES1 on log_standardize due to error: could not broadcast input array from shape (930,) into shape (986,)\n"
     ]
    },
    {
     "name": "stderr",
     "output_type": "stream",
     "text": [
      "c:\\Users\\PC314\\anaconda3\\Lib\\site-packages\\statsforecast\\mfles.py:301: RuntimeWarning: overflow encountered in scalar multiply\n",
      "  slope = (M * x_y_sum - x_sum * y_sum) / (M * x_sq_sum - x_sum**2)\n",
      "c:\\Users\\PC314\\anaconda3\\Lib\\site-packages\\statsforecast\\mfles.py:301: RuntimeWarning: overflow encountered in scalar multiply\n",
      "  slope = (M * x_y_sum - x_sum * y_sum) / (M * x_sq_sum - x_sum**2)\n"
     ]
    },
    {
     "name": "stdout",
     "output_type": "stream",
     "text": [
      "Skipping MSTL_ac_MFLES2 on log_standardize due to error: could not broadcast input array from shape (930,) into shape (986,)\n",
      "Skipping MSTL_ac_MFLES3 on log_standardize due to error: could not broadcast input array from shape (930,) into shape (986,)\n",
      "Best Model for log_standardize: MSTL_a_ARIMA (MAPE: 94.19%)\n",
      "Training on transformed version: trend_seasonality\n"
     ]
    },
    {
     "name": "stderr",
     "output_type": "stream",
     "text": [
      "C:\\Users\\PC314\\AppData\\Local\\Temp\\ipykernel_17148\\3122320333.py:50: SettingWithCopyWarning: \n",
      "A value is trying to be set on a copy of a slice from a DataFrame.\n",
      "Try using .loc[row_indexer,col_indexer] = value instead\n",
      "\n",
      "See the caveats in the documentation: https://pandas.pydata.org/pandas-docs/stable/user_guide/indexing.html#returning-a-view-versus-a-copy\n",
      "  train_df['y'] = series\n"
     ]
    },
    {
     "name": "stdout",
     "output_type": "stream",
     "text": [
      "Skipping MSTL_abc_ARIMA on trend_seasonality due to error: could not broadcast input array from shape (930,) into shape (986,)\n",
      "Skipping MSTL_ac_ARIMA on trend_seasonality due to error: could not broadcast input array from shape (930,) into shape (986,)\n"
     ]
    },
    {
     "name": "stderr",
     "output_type": "stream",
     "text": [
      "c:\\Users\\PC314\\anaconda3\\Lib\\site-packages\\statsforecast\\core.py:494: FutureWarning: In a future version the predictions will have the id as a column. You can set the `NIXTLA_ID_AS_COL` environment variable to adopt the new behavior and to suppress this warning.\n",
      "  warnings.warn(\n",
      "c:\\Users\\PC314\\anaconda3\\Lib\\site-packages\\statsforecast\\mfles.py:301: RuntimeWarning: overflow encountered in scalar multiply\n",
      "  slope = (M * x_y_sum - x_sum * y_sum) / (M * x_sq_sum - x_sum**2)\n"
     ]
    },
    {
     "name": "stdout",
     "output_type": "stream",
     "text": [
      "Skipping MSTL_ac_MFLES1 on trend_seasonality due to error: could not broadcast input array from shape (930,) into shape (986,)\n"
     ]
    },
    {
     "name": "stderr",
     "output_type": "stream",
     "text": [
      "c:\\Users\\PC314\\anaconda3\\Lib\\site-packages\\statsforecast\\mfles.py:301: RuntimeWarning: overflow encountered in scalar multiply\n",
      "  slope = (M * x_y_sum - x_sum * y_sum) / (M * x_sq_sum - x_sum**2)\n"
     ]
    },
    {
     "name": "stdout",
     "output_type": "stream",
     "text": [
      "Skipping MSTL_ac_MFLES2 on trend_seasonality due to error: could not broadcast input array from shape (930,) into shape (986,)\n"
     ]
    },
    {
     "name": "stderr",
     "output_type": "stream",
     "text": [
      "c:\\Users\\PC314\\anaconda3\\Lib\\site-packages\\statsforecast\\mfles.py:301: RuntimeWarning: overflow encountered in scalar multiply\n",
      "  slope = (M * x_y_sum - x_sum * y_sum) / (M * x_sq_sum - x_sum**2)\n",
      "C:\\Users\\PC314\\AppData\\Local\\Temp\\ipykernel_17148\\3122320333.py:50: SettingWithCopyWarning: \n",
      "A value is trying to be set on a copy of a slice from a DataFrame.\n",
      "Try using .loc[row_indexer,col_indexer] = value instead\n",
      "\n",
      "See the caveats in the documentation: https://pandas.pydata.org/pandas-docs/stable/user_guide/indexing.html#returning-a-view-versus-a-copy\n",
      "  train_df['y'] = series\n"
     ]
    },
    {
     "name": "stdout",
     "output_type": "stream",
     "text": [
      "Skipping MSTL_ac_MFLES3 on trend_seasonality due to error: could not broadcast input array from shape (930,) into shape (986,)\n",
      "Best Model for trend_seasonality: MSTL_a_ARIMA (MAPE: 167.05%)\n",
      "Training on transformed version: trend_boxcox\n",
      "Skipping MSTL_abc_ARIMA on trend_boxcox due to error: could not broadcast input array from shape (930,) into shape (986,)\n",
      "Skipping MSTL_ac_ARIMA on trend_boxcox due to error: could not broadcast input array from shape (930,) into shape (986,)\n"
     ]
    },
    {
     "name": "stderr",
     "output_type": "stream",
     "text": [
      "c:\\Users\\PC314\\anaconda3\\Lib\\site-packages\\statsforecast\\core.py:494: FutureWarning: In a future version the predictions will have the id as a column. You can set the `NIXTLA_ID_AS_COL` environment variable to adopt the new behavior and to suppress this warning.\n",
      "  warnings.warn(\n",
      "c:\\Users\\PC314\\anaconda3\\Lib\\site-packages\\statsforecast\\mfles.py:301: RuntimeWarning: overflow encountered in scalar multiply\n",
      "  slope = (M * x_y_sum - x_sum * y_sum) / (M * x_sq_sum - x_sum**2)\n"
     ]
    },
    {
     "name": "stdout",
     "output_type": "stream",
     "text": [
      "Skipping MSTL_ac_MFLES1 on trend_boxcox due to error: could not broadcast input array from shape (930,) into shape (986,)\n",
      "Skipping MSTL_ac_MFLES2 on trend_boxcox due to error: could not broadcast input array from shape (930,) into shape (986,)\n"
     ]
    },
    {
     "name": "stderr",
     "output_type": "stream",
     "text": [
      "c:\\Users\\PC314\\anaconda3\\Lib\\site-packages\\statsforecast\\mfles.py:301: RuntimeWarning: overflow encountered in scalar multiply\n",
      "  slope = (M * x_y_sum - x_sum * y_sum) / (M * x_sq_sum - x_sum**2)\n",
      "c:\\Users\\PC314\\anaconda3\\Lib\\site-packages\\statsforecast\\mfles.py:301: RuntimeWarning: overflow encountered in scalar multiply\n",
      "  slope = (M * x_y_sum - x_sum * y_sum) / (M * x_sq_sum - x_sum**2)\n",
      "C:\\Users\\PC314\\AppData\\Local\\Temp\\ipykernel_17148\\3122320333.py:50: SettingWithCopyWarning: \n",
      "A value is trying to be set on a copy of a slice from a DataFrame.\n",
      "Try using .loc[row_indexer,col_indexer] = value instead\n",
      "\n",
      "See the caveats in the documentation: https://pandas.pydata.org/pandas-docs/stable/user_guide/indexing.html#returning-a-view-versus-a-copy\n",
      "  train_df['y'] = series\n"
     ]
    },
    {
     "name": "stdout",
     "output_type": "stream",
     "text": [
      "Skipping MSTL_ac_MFLES3 on trend_boxcox due to error: could not broadcast input array from shape (930,) into shape (986,)\n",
      "Best Model for trend_boxcox: MSTL_a_ARIMA (MAPE: 167.05%)\n",
      "Training on transformed version: trend_standardize\n",
      "Skipping MSTL_abc_ARIMA on trend_standardize due to error: could not broadcast input array from shape (930,) into shape (986,)\n",
      "Skipping MSTL_ac_ARIMA on trend_standardize due to error: could not broadcast input array from shape (930,) into shape (986,)\n"
     ]
    },
    {
     "name": "stderr",
     "output_type": "stream",
     "text": [
      "c:\\Users\\PC314\\anaconda3\\Lib\\site-packages\\statsforecast\\core.py:494: FutureWarning: In a future version the predictions will have the id as a column. You can set the `NIXTLA_ID_AS_COL` environment variable to adopt the new behavior and to suppress this warning.\n",
      "  warnings.warn(\n",
      "c:\\Users\\PC314\\anaconda3\\Lib\\site-packages\\statsforecast\\mfles.py:301: RuntimeWarning: overflow encountered in scalar multiply\n",
      "  slope = (M * x_y_sum - x_sum * y_sum) / (M * x_sq_sum - x_sum**2)\n"
     ]
    },
    {
     "name": "stdout",
     "output_type": "stream",
     "text": [
      "Skipping MSTL_ac_MFLES1 on trend_standardize due to error: could not broadcast input array from shape (930,) into shape (986,)\n",
      "Skipping MSTL_ac_MFLES2 on trend_standardize due to error: could not broadcast input array from shape (930,) into shape (986,)\n"
     ]
    },
    {
     "name": "stderr",
     "output_type": "stream",
     "text": [
      "c:\\Users\\PC314\\anaconda3\\Lib\\site-packages\\statsforecast\\mfles.py:301: RuntimeWarning: overflow encountered in scalar multiply\n",
      "  slope = (M * x_y_sum - x_sum * y_sum) / (M * x_sq_sum - x_sum**2)\n",
      "c:\\Users\\PC314\\anaconda3\\Lib\\site-packages\\statsforecast\\mfles.py:301: RuntimeWarning: overflow encountered in scalar multiply\n",
      "  slope = (M * x_y_sum - x_sum * y_sum) / (M * x_sq_sum - x_sum**2)\n",
      "C:\\Users\\PC314\\AppData\\Local\\Temp\\ipykernel_17148\\3122320333.py:50: SettingWithCopyWarning: \n",
      "A value is trying to be set on a copy of a slice from a DataFrame.\n",
      "Try using .loc[row_indexer,col_indexer] = value instead\n",
      "\n",
      "See the caveats in the documentation: https://pandas.pydata.org/pandas-docs/stable/user_guide/indexing.html#returning-a-view-versus-a-copy\n",
      "  train_df['y'] = series\n"
     ]
    },
    {
     "name": "stdout",
     "output_type": "stream",
     "text": [
      "Skipping MSTL_ac_MFLES3 on trend_standardize due to error: could not broadcast input array from shape (930,) into shape (986,)\n",
      "Best Model for trend_standardize: MSTL_a_ARIMA (MAPE: 84.32%)\n",
      "Training on transformed version: seasonality_boxcox\n",
      "Skipping MSTL_abc_ARIMA on seasonality_boxcox due to error: could not broadcast input array from shape (930,) into shape (986,)\n",
      "Skipping MSTL_ac_ARIMA on seasonality_boxcox due to error: could not broadcast input array from shape (930,) into shape (986,)\n"
     ]
    },
    {
     "name": "stderr",
     "output_type": "stream",
     "text": [
      "c:\\Users\\PC314\\anaconda3\\Lib\\site-packages\\statsforecast\\core.py:494: FutureWarning: In a future version the predictions will have the id as a column. You can set the `NIXTLA_ID_AS_COL` environment variable to adopt the new behavior and to suppress this warning.\n",
      "  warnings.warn(\n",
      "c:\\Users\\PC314\\anaconda3\\Lib\\site-packages\\statsforecast\\mfles.py:301: RuntimeWarning: overflow encountered in scalar multiply\n",
      "  slope = (M * x_y_sum - x_sum * y_sum) / (M * x_sq_sum - x_sum**2)\n"
     ]
    },
    {
     "name": "stdout",
     "output_type": "stream",
     "text": [
      "Skipping MSTL_ac_MFLES1 on seasonality_boxcox due to error: could not broadcast input array from shape (930,) into shape (986,)\n"
     ]
    },
    {
     "name": "stderr",
     "output_type": "stream",
     "text": [
      "c:\\Users\\PC314\\anaconda3\\Lib\\site-packages\\statsforecast\\mfles.py:301: RuntimeWarning: overflow encountered in scalar multiply\n",
      "  slope = (M * x_y_sum - x_sum * y_sum) / (M * x_sq_sum - x_sum**2)\n",
      "c:\\Users\\PC314\\anaconda3\\Lib\\site-packages\\statsforecast\\mfles.py:301: RuntimeWarning: overflow encountered in scalar multiply\n",
      "  slope = (M * x_y_sum - x_sum * y_sum) / (M * x_sq_sum - x_sum**2)\n",
      "C:\\Users\\PC314\\AppData\\Local\\Temp\\ipykernel_17148\\3122320333.py:50: SettingWithCopyWarning: \n",
      "A value is trying to be set on a copy of a slice from a DataFrame.\n",
      "Try using .loc[row_indexer,col_indexer] = value instead\n",
      "\n",
      "See the caveats in the documentation: https://pandas.pydata.org/pandas-docs/stable/user_guide/indexing.html#returning-a-view-versus-a-copy\n",
      "  train_df['y'] = series\n"
     ]
    },
    {
     "name": "stdout",
     "output_type": "stream",
     "text": [
      "Skipping MSTL_ac_MFLES2 on seasonality_boxcox due to error: could not broadcast input array from shape (930,) into shape (986,)\n",
      "Skipping MSTL_ac_MFLES3 on seasonality_boxcox due to error: could not broadcast input array from shape (930,) into shape (986,)\n",
      "Best Model for seasonality_boxcox: MSTL_a_ARIMA (MAPE: 275.86%)\n",
      "Training on transformed version: seasonality_standardize\n",
      "Skipping MSTL_abc_ARIMA on seasonality_standardize due to error: could not broadcast input array from shape (930,) into shape (986,)\n",
      "Skipping MSTL_ac_ARIMA on seasonality_standardize due to error: could not broadcast input array from shape (930,) into shape (986,)\n"
     ]
    },
    {
     "name": "stderr",
     "output_type": "stream",
     "text": [
      "c:\\Users\\PC314\\anaconda3\\Lib\\site-packages\\statsforecast\\core.py:494: FutureWarning: In a future version the predictions will have the id as a column. You can set the `NIXTLA_ID_AS_COL` environment variable to adopt the new behavior and to suppress this warning.\n",
      "  warnings.warn(\n",
      "c:\\Users\\PC314\\anaconda3\\Lib\\site-packages\\statsforecast\\mfles.py:301: RuntimeWarning: overflow encountered in scalar multiply\n",
      "  slope = (M * x_y_sum - x_sum * y_sum) / (M * x_sq_sum - x_sum**2)\n"
     ]
    },
    {
     "name": "stdout",
     "output_type": "stream",
     "text": [
      "Skipping MSTL_ac_MFLES1 on seasonality_standardize due to error: could not broadcast input array from shape (930,) into shape (986,)\n"
     ]
    },
    {
     "name": "stderr",
     "output_type": "stream",
     "text": [
      "c:\\Users\\PC314\\anaconda3\\Lib\\site-packages\\statsforecast\\mfles.py:301: RuntimeWarning: overflow encountered in scalar multiply\n",
      "  slope = (M * x_y_sum - x_sum * y_sum) / (M * x_sq_sum - x_sum**2)\n",
      "c:\\Users\\PC314\\anaconda3\\Lib\\site-packages\\statsforecast\\mfles.py:301: RuntimeWarning: overflow encountered in scalar multiply\n",
      "  slope = (M * x_y_sum - x_sum * y_sum) / (M * x_sq_sum - x_sum**2)\n",
      "C:\\Users\\PC314\\AppData\\Local\\Temp\\ipykernel_17148\\3122320333.py:50: SettingWithCopyWarning: \n",
      "A value is trying to be set on a copy of a slice from a DataFrame.\n",
      "Try using .loc[row_indexer,col_indexer] = value instead\n",
      "\n",
      "See the caveats in the documentation: https://pandas.pydata.org/pandas-docs/stable/user_guide/indexing.html#returning-a-view-versus-a-copy\n",
      "  train_df['y'] = series\n"
     ]
    },
    {
     "name": "stdout",
     "output_type": "stream",
     "text": [
      "Skipping MSTL_ac_MFLES2 on seasonality_standardize due to error: could not broadcast input array from shape (930,) into shape (986,)\n",
      "Skipping MSTL_ac_MFLES3 on seasonality_standardize due to error: could not broadcast input array from shape (930,) into shape (986,)\n",
      "Best Model for seasonality_standardize: MSTL_a_ARIMA (MAPE: 97.78%)\n",
      "Training on transformed version: boxcox_standardize\n",
      "Skipping MSTL_abc_ARIMA on boxcox_standardize due to error: could not broadcast input array from shape (930,) into shape (986,)\n",
      "Skipping MSTL_ac_ARIMA on boxcox_standardize due to error: could not broadcast input array from shape (930,) into shape (986,)\n"
     ]
    },
    {
     "name": "stderr",
     "output_type": "stream",
     "text": [
      "c:\\Users\\PC314\\anaconda3\\Lib\\site-packages\\statsforecast\\core.py:494: FutureWarning: In a future version the predictions will have the id as a column. You can set the `NIXTLA_ID_AS_COL` environment variable to adopt the new behavior and to suppress this warning.\n",
      "  warnings.warn(\n",
      "c:\\Users\\PC314\\anaconda3\\Lib\\site-packages\\statsforecast\\mfles.py:301: RuntimeWarning: overflow encountered in scalar multiply\n",
      "  slope = (M * x_y_sum - x_sum * y_sum) / (M * x_sq_sum - x_sum**2)\n"
     ]
    },
    {
     "name": "stdout",
     "output_type": "stream",
     "text": [
      "Skipping MSTL_ac_MFLES1 on boxcox_standardize due to error: could not broadcast input array from shape (930,) into shape (986,)\n"
     ]
    },
    {
     "name": "stderr",
     "output_type": "stream",
     "text": [
      "c:\\Users\\PC314\\anaconda3\\Lib\\site-packages\\statsforecast\\mfles.py:301: RuntimeWarning: overflow encountered in scalar multiply\n",
      "  slope = (M * x_y_sum - x_sum * y_sum) / (M * x_sq_sum - x_sum**2)\n",
      "c:\\Users\\PC314\\anaconda3\\Lib\\site-packages\\statsforecast\\mfles.py:301: RuntimeWarning: overflow encountered in scalar multiply\n",
      "  slope = (M * x_y_sum - x_sum * y_sum) / (M * x_sq_sum - x_sum**2)\n",
      "C:\\Users\\PC314\\AppData\\Local\\Temp\\ipykernel_17148\\3122320333.py:50: SettingWithCopyWarning: \n",
      "A value is trying to be set on a copy of a slice from a DataFrame.\n",
      "Try using .loc[row_indexer,col_indexer] = value instead\n",
      "\n",
      "See the caveats in the documentation: https://pandas.pydata.org/pandas-docs/stable/user_guide/indexing.html#returning-a-view-versus-a-copy\n",
      "  train_df['y'] = series\n"
     ]
    },
    {
     "name": "stdout",
     "output_type": "stream",
     "text": [
      "Skipping MSTL_ac_MFLES2 on boxcox_standardize due to error: could not broadcast input array from shape (930,) into shape (986,)\n",
      "Skipping MSTL_ac_MFLES3 on boxcox_standardize due to error: could not broadcast input array from shape (930,) into shape (986,)\n",
      "Best Model for boxcox_standardize: MSTL_a_ARIMA (MAPE: 97.51%)\n",
      "Training on transformed version: log_trend_seasonality\n",
      "Skipping MSTL_abc_ARIMA on log_trend_seasonality due to error: could not broadcast input array from shape (930,) into shape (986,)\n",
      "Skipping MSTL_ac_ARIMA on log_trend_seasonality due to error: could not broadcast input array from shape (930,) into shape (986,)\n"
     ]
    },
    {
     "name": "stderr",
     "output_type": "stream",
     "text": [
      "c:\\Users\\PC314\\anaconda3\\Lib\\site-packages\\statsforecast\\core.py:494: FutureWarning: In a future version the predictions will have the id as a column. You can set the `NIXTLA_ID_AS_COL` environment variable to adopt the new behavior and to suppress this warning.\n",
      "  warnings.warn(\n",
      "c:\\Users\\PC314\\anaconda3\\Lib\\site-packages\\statsforecast\\mfles.py:301: RuntimeWarning: overflow encountered in scalar multiply\n",
      "  slope = (M * x_y_sum - x_sum * y_sum) / (M * x_sq_sum - x_sum**2)\n"
     ]
    },
    {
     "name": "stdout",
     "output_type": "stream",
     "text": [
      "Skipping MSTL_ac_MFLES1 on log_trend_seasonality due to error: could not broadcast input array from shape (930,) into shape (986,)\n"
     ]
    },
    {
     "name": "stderr",
     "output_type": "stream",
     "text": [
      "c:\\Users\\PC314\\anaconda3\\Lib\\site-packages\\statsforecast\\mfles.py:301: RuntimeWarning: overflow encountered in scalar multiply\n",
      "  slope = (M * x_y_sum - x_sum * y_sum) / (M * x_sq_sum - x_sum**2)\n",
      "c:\\Users\\PC314\\anaconda3\\Lib\\site-packages\\statsforecast\\mfles.py:301: RuntimeWarning: overflow encountered in scalar multiply\n",
      "  slope = (M * x_y_sum - x_sum * y_sum) / (M * x_sq_sum - x_sum**2)\n",
      "C:\\Users\\PC314\\AppData\\Local\\Temp\\ipykernel_17148\\3122320333.py:50: SettingWithCopyWarning: \n",
      "A value is trying to be set on a copy of a slice from a DataFrame.\n",
      "Try using .loc[row_indexer,col_indexer] = value instead\n",
      "\n",
      "See the caveats in the documentation: https://pandas.pydata.org/pandas-docs/stable/user_guide/indexing.html#returning-a-view-versus-a-copy\n",
      "  train_df['y'] = series\n"
     ]
    },
    {
     "name": "stdout",
     "output_type": "stream",
     "text": [
      "Skipping MSTL_ac_MFLES2 on log_trend_seasonality due to error: could not broadcast input array from shape (930,) into shape (986,)\n",
      "Skipping MSTL_ac_MFLES3 on log_trend_seasonality due to error: could not broadcast input array from shape (930,) into shape (986,)\n",
      "Best Model for log_trend_seasonality: MSTL_a_ARIMA (MAPE: 1656.90%)\n",
      "Training on transformed version: log_trend_boxcox\n",
      "Skipping MSTL_abc_ARIMA on log_trend_boxcox due to error: could not broadcast input array from shape (930,) into shape (986,)\n",
      "Skipping MSTL_ac_ARIMA on log_trend_boxcox due to error: could not broadcast input array from shape (930,) into shape (986,)\n"
     ]
    },
    {
     "name": "stderr",
     "output_type": "stream",
     "text": [
      "c:\\Users\\PC314\\anaconda3\\Lib\\site-packages\\statsforecast\\core.py:494: FutureWarning: In a future version the predictions will have the id as a column. You can set the `NIXTLA_ID_AS_COL` environment variable to adopt the new behavior and to suppress this warning.\n",
      "  warnings.warn(\n",
      "c:\\Users\\PC314\\anaconda3\\Lib\\site-packages\\statsforecast\\mfles.py:301: RuntimeWarning: overflow encountered in scalar multiply\n",
      "  slope = (M * x_y_sum - x_sum * y_sum) / (M * x_sq_sum - x_sum**2)\n"
     ]
    },
    {
     "name": "stdout",
     "output_type": "stream",
     "text": [
      "Skipping MSTL_ac_MFLES1 on log_trend_boxcox due to error: could not broadcast input array from shape (930,) into shape (986,)\n"
     ]
    },
    {
     "name": "stderr",
     "output_type": "stream",
     "text": [
      "c:\\Users\\PC314\\anaconda3\\Lib\\site-packages\\statsforecast\\mfles.py:301: RuntimeWarning: overflow encountered in scalar multiply\n",
      "  slope = (M * x_y_sum - x_sum * y_sum) / (M * x_sq_sum - x_sum**2)\n"
     ]
    },
    {
     "name": "stdout",
     "output_type": "stream",
     "text": [
      "Skipping MSTL_ac_MFLES2 on log_trend_boxcox due to error: could not broadcast input array from shape (930,) into shape (986,)\n"
     ]
    },
    {
     "name": "stderr",
     "output_type": "stream",
     "text": [
      "c:\\Users\\PC314\\anaconda3\\Lib\\site-packages\\statsforecast\\mfles.py:301: RuntimeWarning: overflow encountered in scalar multiply\n",
      "  slope = (M * x_y_sum - x_sum * y_sum) / (M * x_sq_sum - x_sum**2)\n",
      "C:\\Users\\PC314\\AppData\\Local\\Temp\\ipykernel_17148\\3122320333.py:50: SettingWithCopyWarning: \n",
      "A value is trying to be set on a copy of a slice from a DataFrame.\n",
      "Try using .loc[row_indexer,col_indexer] = value instead\n",
      "\n",
      "See the caveats in the documentation: https://pandas.pydata.org/pandas-docs/stable/user_guide/indexing.html#returning-a-view-versus-a-copy\n",
      "  train_df['y'] = series\n"
     ]
    },
    {
     "name": "stdout",
     "output_type": "stream",
     "text": [
      "Skipping MSTL_ac_MFLES3 on log_trend_boxcox due to error: could not broadcast input array from shape (930,) into shape (986,)\n",
      "Best Model for log_trend_boxcox: MSTL_a_ARIMA (MAPE: 1656.90%)\n",
      "Training on transformed version: log_trend_standardize\n",
      "Skipping MSTL_abc_ARIMA on log_trend_standardize due to error: could not broadcast input array from shape (930,) into shape (986,)\n",
      "Skipping MSTL_ac_ARIMA on log_trend_standardize due to error: could not broadcast input array from shape (930,) into shape (986,)\n"
     ]
    },
    {
     "name": "stderr",
     "output_type": "stream",
     "text": [
      "c:\\Users\\PC314\\anaconda3\\Lib\\site-packages\\statsforecast\\core.py:494: FutureWarning: In a future version the predictions will have the id as a column. You can set the `NIXTLA_ID_AS_COL` environment variable to adopt the new behavior and to suppress this warning.\n",
      "  warnings.warn(\n",
      "c:\\Users\\PC314\\anaconda3\\Lib\\site-packages\\statsforecast\\mfles.py:301: RuntimeWarning: overflow encountered in scalar multiply\n",
      "  slope = (M * x_y_sum - x_sum * y_sum) / (M * x_sq_sum - x_sum**2)\n"
     ]
    },
    {
     "name": "stdout",
     "output_type": "stream",
     "text": [
      "Skipping MSTL_ac_MFLES1 on log_trend_standardize due to error: could not broadcast input array from shape (930,) into shape (986,)\n"
     ]
    },
    {
     "name": "stderr",
     "output_type": "stream",
     "text": [
      "c:\\Users\\PC314\\anaconda3\\Lib\\site-packages\\statsforecast\\mfles.py:301: RuntimeWarning: overflow encountered in scalar multiply\n",
      "  slope = (M * x_y_sum - x_sum * y_sum) / (M * x_sq_sum - x_sum**2)\n",
      "c:\\Users\\PC314\\anaconda3\\Lib\\site-packages\\statsforecast\\mfles.py:301: RuntimeWarning: overflow encountered in scalar multiply\n",
      "  slope = (M * x_y_sum - x_sum * y_sum) / (M * x_sq_sum - x_sum**2)\n",
      "C:\\Users\\PC314\\AppData\\Local\\Temp\\ipykernel_17148\\3122320333.py:50: SettingWithCopyWarning: \n",
      "A value is trying to be set on a copy of a slice from a DataFrame.\n",
      "Try using .loc[row_indexer,col_indexer] = value instead\n",
      "\n",
      "See the caveats in the documentation: https://pandas.pydata.org/pandas-docs/stable/user_guide/indexing.html#returning-a-view-versus-a-copy\n",
      "  train_df['y'] = series\n"
     ]
    },
    {
     "name": "stdout",
     "output_type": "stream",
     "text": [
      "Skipping MSTL_ac_MFLES2 on log_trend_standardize due to error: could not broadcast input array from shape (930,) into shape (986,)\n",
      "Skipping MSTL_ac_MFLES3 on log_trend_standardize due to error: could not broadcast input array from shape (930,) into shape (986,)\n",
      "Best Model for log_trend_standardize: MSTL_a_ARIMA (MAPE: 1661.88%)\n",
      "Training on transformed version: log_seasonality_boxcox\n",
      "Skipping MSTL_abc_ARIMA on log_seasonality_boxcox due to error: could not broadcast input array from shape (930,) into shape (986,)\n",
      "Skipping MSTL_ac_ARIMA on log_seasonality_boxcox due to error: could not broadcast input array from shape (930,) into shape (986,)\n"
     ]
    },
    {
     "name": "stderr",
     "output_type": "stream",
     "text": [
      "c:\\Users\\PC314\\anaconda3\\Lib\\site-packages\\statsforecast\\core.py:494: FutureWarning: In a future version the predictions will have the id as a column. You can set the `NIXTLA_ID_AS_COL` environment variable to adopt the new behavior and to suppress this warning.\n",
      "  warnings.warn(\n",
      "c:\\Users\\PC314\\anaconda3\\Lib\\site-packages\\statsforecast\\mfles.py:301: RuntimeWarning: overflow encountered in scalar multiply\n",
      "  slope = (M * x_y_sum - x_sum * y_sum) / (M * x_sq_sum - x_sum**2)\n"
     ]
    },
    {
     "name": "stdout",
     "output_type": "stream",
     "text": [
      "Skipping MSTL_ac_MFLES1 on log_seasonality_boxcox due to error: could not broadcast input array from shape (930,) into shape (986,)\n"
     ]
    },
    {
     "name": "stderr",
     "output_type": "stream",
     "text": [
      "c:\\Users\\PC314\\anaconda3\\Lib\\site-packages\\statsforecast\\mfles.py:301: RuntimeWarning: overflow encountered in scalar multiply\n",
      "  slope = (M * x_y_sum - x_sum * y_sum) / (M * x_sq_sum - x_sum**2)\n",
      "c:\\Users\\PC314\\anaconda3\\Lib\\site-packages\\statsforecast\\mfles.py:301: RuntimeWarning: overflow encountered in scalar multiply\n",
      "  slope = (M * x_y_sum - x_sum * y_sum) / (M * x_sq_sum - x_sum**2)\n"
     ]
    },
    {
     "name": "stdout",
     "output_type": "stream",
     "text": [
      "Skipping MSTL_ac_MFLES2 on log_seasonality_boxcox due to error: could not broadcast input array from shape (930,) into shape (986,)\n",
      "Skipping MSTL_ac_MFLES3 on log_seasonality_boxcox due to error: could not broadcast input array from shape (930,) into shape (986,)\n",
      "Best Model for log_seasonality_boxcox: MSTL_a_ARIMA (MAPE: nan%)\n",
      "Training on transformed version: log_seasonality_standardize\n"
     ]
    },
    {
     "name": "stderr",
     "output_type": "stream",
     "text": [
      "C:\\Users\\PC314\\AppData\\Local\\Temp\\ipykernel_17148\\3122320333.py:50: SettingWithCopyWarning: \n",
      "A value is trying to be set on a copy of a slice from a DataFrame.\n",
      "Try using .loc[row_indexer,col_indexer] = value instead\n",
      "\n",
      "See the caveats in the documentation: https://pandas.pydata.org/pandas-docs/stable/user_guide/indexing.html#returning-a-view-versus-a-copy\n",
      "  train_df['y'] = series\n"
     ]
    },
    {
     "name": "stdout",
     "output_type": "stream",
     "text": [
      "Skipping MSTL_abc_ARIMA on log_seasonality_standardize due to error: could not broadcast input array from shape (930,) into shape (986,)\n",
      "Skipping MSTL_ac_ARIMA on log_seasonality_standardize due to error: could not broadcast input array from shape (930,) into shape (986,)\n"
     ]
    },
    {
     "name": "stderr",
     "output_type": "stream",
     "text": [
      "c:\\Users\\PC314\\anaconda3\\Lib\\site-packages\\statsforecast\\core.py:494: FutureWarning: In a future version the predictions will have the id as a column. You can set the `NIXTLA_ID_AS_COL` environment variable to adopt the new behavior and to suppress this warning.\n",
      "  warnings.warn(\n",
      "c:\\Users\\PC314\\anaconda3\\Lib\\site-packages\\statsforecast\\mfles.py:301: RuntimeWarning: overflow encountered in scalar multiply\n",
      "  slope = (M * x_y_sum - x_sum * y_sum) / (M * x_sq_sum - x_sum**2)\n"
     ]
    },
    {
     "name": "stdout",
     "output_type": "stream",
     "text": [
      "Skipping MSTL_ac_MFLES1 on log_seasonality_standardize due to error: could not broadcast input array from shape (930,) into shape (986,)\n"
     ]
    },
    {
     "name": "stderr",
     "output_type": "stream",
     "text": [
      "c:\\Users\\PC314\\anaconda3\\Lib\\site-packages\\statsforecast\\mfles.py:301: RuntimeWarning: overflow encountered in scalar multiply\n",
      "  slope = (M * x_y_sum - x_sum * y_sum) / (M * x_sq_sum - x_sum**2)\n",
      "c:\\Users\\PC314\\anaconda3\\Lib\\site-packages\\statsforecast\\mfles.py:301: RuntimeWarning: overflow encountered in scalar multiply\n",
      "  slope = (M * x_y_sum - x_sum * y_sum) / (M * x_sq_sum - x_sum**2)\n",
      "C:\\Users\\PC314\\AppData\\Local\\Temp\\ipykernel_17148\\3122320333.py:50: SettingWithCopyWarning: \n",
      "A value is trying to be set on a copy of a slice from a DataFrame.\n",
      "Try using .loc[row_indexer,col_indexer] = value instead\n",
      "\n",
      "See the caveats in the documentation: https://pandas.pydata.org/pandas-docs/stable/user_guide/indexing.html#returning-a-view-versus-a-copy\n",
      "  train_df['y'] = series\n"
     ]
    },
    {
     "name": "stdout",
     "output_type": "stream",
     "text": [
      "Skipping MSTL_ac_MFLES2 on log_seasonality_standardize due to error: could not broadcast input array from shape (930,) into shape (986,)\n",
      "Skipping MSTL_ac_MFLES3 on log_seasonality_standardize due to error: could not broadcast input array from shape (930,) into shape (986,)\n",
      "Best Model for log_seasonality_standardize: MSTL_a_ARIMA (MAPE: 94.19%)\n",
      "Training on transformed version: log_boxcox_standardize\n",
      "Skipping MSTL_abc_ARIMA on log_boxcox_standardize due to error: could not broadcast input array from shape (930,) into shape (986,)\n",
      "Skipping MSTL_ac_ARIMA on log_boxcox_standardize due to error: could not broadcast input array from shape (930,) into shape (986,)\n"
     ]
    },
    {
     "name": "stderr",
     "output_type": "stream",
     "text": [
      "c:\\Users\\PC314\\anaconda3\\Lib\\site-packages\\statsforecast\\core.py:494: FutureWarning: In a future version the predictions will have the id as a column. You can set the `NIXTLA_ID_AS_COL` environment variable to adopt the new behavior and to suppress this warning.\n",
      "  warnings.warn(\n",
      "c:\\Users\\PC314\\anaconda3\\Lib\\site-packages\\statsforecast\\mfles.py:301: RuntimeWarning: overflow encountered in scalar multiply\n",
      "  slope = (M * x_y_sum - x_sum * y_sum) / (M * x_sq_sum - x_sum**2)\n",
      "c:\\Users\\PC314\\anaconda3\\Lib\\site-packages\\statsforecast\\mfles.py:301: RuntimeWarning: overflow encountered in scalar multiply\n",
      "  slope = (M * x_y_sum - x_sum * y_sum) / (M * x_sq_sum - x_sum**2)\n"
     ]
    },
    {
     "name": "stdout",
     "output_type": "stream",
     "text": [
      "Skipping MSTL_ac_MFLES1 on log_boxcox_standardize due to error: could not broadcast input array from shape (930,) into shape (986,)\n",
      "Skipping MSTL_ac_MFLES2 on log_boxcox_standardize due to error: could not broadcast input array from shape (930,) into shape (986,)\n"
     ]
    },
    {
     "name": "stderr",
     "output_type": "stream",
     "text": [
      "c:\\Users\\PC314\\anaconda3\\Lib\\site-packages\\statsforecast\\mfles.py:301: RuntimeWarning: overflow encountered in scalar multiply\n",
      "  slope = (M * x_y_sum - x_sum * y_sum) / (M * x_sq_sum - x_sum**2)\n",
      "C:\\Users\\PC314\\AppData\\Local\\Temp\\ipykernel_17148\\3122320333.py:50: SettingWithCopyWarning: \n",
      "A value is trying to be set on a copy of a slice from a DataFrame.\n",
      "Try using .loc[row_indexer,col_indexer] = value instead\n",
      "\n",
      "See the caveats in the documentation: https://pandas.pydata.org/pandas-docs/stable/user_guide/indexing.html#returning-a-view-versus-a-copy\n",
      "  train_df['y'] = series\n"
     ]
    },
    {
     "name": "stdout",
     "output_type": "stream",
     "text": [
      "Skipping MSTL_ac_MFLES3 on log_boxcox_standardize due to error: could not broadcast input array from shape (930,) into shape (986,)\n",
      "Best Model for log_boxcox_standardize: MSTL_a_ARIMA (MAPE: nan%)\n",
      "Training on transformed version: trend_seasonality_boxcox\n",
      "Skipping MSTL_abc_ARIMA on trend_seasonality_boxcox due to error: could not broadcast input array from shape (930,) into shape (986,)\n",
      "Skipping MSTL_ac_ARIMA on trend_seasonality_boxcox due to error: could not broadcast input array from shape (930,) into shape (986,)\n"
     ]
    },
    {
     "name": "stderr",
     "output_type": "stream",
     "text": [
      "c:\\Users\\PC314\\anaconda3\\Lib\\site-packages\\statsforecast\\core.py:494: FutureWarning: In a future version the predictions will have the id as a column. You can set the `NIXTLA_ID_AS_COL` environment variable to adopt the new behavior and to suppress this warning.\n",
      "  warnings.warn(\n",
      "c:\\Users\\PC314\\anaconda3\\Lib\\site-packages\\statsforecast\\mfles.py:301: RuntimeWarning: overflow encountered in scalar multiply\n",
      "  slope = (M * x_y_sum - x_sum * y_sum) / (M * x_sq_sum - x_sum**2)\n"
     ]
    },
    {
     "name": "stdout",
     "output_type": "stream",
     "text": [
      "Skipping MSTL_ac_MFLES1 on trend_seasonality_boxcox due to error: could not broadcast input array from shape (930,) into shape (986,)\n"
     ]
    },
    {
     "name": "stderr",
     "output_type": "stream",
     "text": [
      "c:\\Users\\PC314\\anaconda3\\Lib\\site-packages\\statsforecast\\mfles.py:301: RuntimeWarning: overflow encountered in scalar multiply\n",
      "  slope = (M * x_y_sum - x_sum * y_sum) / (M * x_sq_sum - x_sum**2)\n"
     ]
    },
    {
     "name": "stdout",
     "output_type": "stream",
     "text": [
      "Skipping MSTL_ac_MFLES2 on trend_seasonality_boxcox due to error: could not broadcast input array from shape (930,) into shape (986,)\n"
     ]
    },
    {
     "name": "stderr",
     "output_type": "stream",
     "text": [
      "c:\\Users\\PC314\\anaconda3\\Lib\\site-packages\\statsforecast\\mfles.py:301: RuntimeWarning: overflow encountered in scalar multiply\n",
      "  slope = (M * x_y_sum - x_sum * y_sum) / (M * x_sq_sum - x_sum**2)\n",
      "C:\\Users\\PC314\\AppData\\Local\\Temp\\ipykernel_17148\\3122320333.py:50: SettingWithCopyWarning: \n",
      "A value is trying to be set on a copy of a slice from a DataFrame.\n",
      "Try using .loc[row_indexer,col_indexer] = value instead\n",
      "\n",
      "See the caveats in the documentation: https://pandas.pydata.org/pandas-docs/stable/user_guide/indexing.html#returning-a-view-versus-a-copy\n",
      "  train_df['y'] = series\n"
     ]
    },
    {
     "name": "stdout",
     "output_type": "stream",
     "text": [
      "Skipping MSTL_ac_MFLES3 on trend_seasonality_boxcox due to error: could not broadcast input array from shape (930,) into shape (986,)\n",
      "Best Model for trend_seasonality_boxcox: MSTL_a_ARIMA (MAPE: 167.05%)\n",
      "Training on transformed version: trend_seasonality_standardize\n",
      "Skipping MSTL_abc_ARIMA on trend_seasonality_standardize due to error: could not broadcast input array from shape (930,) into shape (986,)\n",
      "Skipping MSTL_ac_ARIMA on trend_seasonality_standardize due to error: could not broadcast input array from shape (930,) into shape (986,)\n"
     ]
    },
    {
     "name": "stderr",
     "output_type": "stream",
     "text": [
      "c:\\Users\\PC314\\anaconda3\\Lib\\site-packages\\statsforecast\\core.py:494: FutureWarning: In a future version the predictions will have the id as a column. You can set the `NIXTLA_ID_AS_COL` environment variable to adopt the new behavior and to suppress this warning.\n",
      "  warnings.warn(\n",
      "c:\\Users\\PC314\\anaconda3\\Lib\\site-packages\\statsforecast\\mfles.py:301: RuntimeWarning: overflow encountered in scalar multiply\n",
      "  slope = (M * x_y_sum - x_sum * y_sum) / (M * x_sq_sum - x_sum**2)\n"
     ]
    },
    {
     "name": "stdout",
     "output_type": "stream",
     "text": [
      "Skipping MSTL_ac_MFLES1 on trend_seasonality_standardize due to error: could not broadcast input array from shape (930,) into shape (986,)\n"
     ]
    },
    {
     "name": "stderr",
     "output_type": "stream",
     "text": [
      "c:\\Users\\PC314\\anaconda3\\Lib\\site-packages\\statsforecast\\mfles.py:301: RuntimeWarning: overflow encountered in scalar multiply\n",
      "  slope = (M * x_y_sum - x_sum * y_sum) / (M * x_sq_sum - x_sum**2)\n",
      "c:\\Users\\PC314\\anaconda3\\Lib\\site-packages\\statsforecast\\mfles.py:301: RuntimeWarning: overflow encountered in scalar multiply\n",
      "  slope = (M * x_y_sum - x_sum * y_sum) / (M * x_sq_sum - x_sum**2)\n"
     ]
    },
    {
     "name": "stdout",
     "output_type": "stream",
     "text": [
      "Skipping MSTL_ac_MFLES2 on trend_seasonality_standardize due to error: could not broadcast input array from shape (930,) into shape (986,)\n",
      "Skipping MSTL_ac_MFLES3 on trend_seasonality_standardize due to error: could not broadcast input array from shape (930,) into shape (986,)\n",
      "Best Model for trend_seasonality_standardize: MSTL_a_ARIMA (MAPE: 84.32%)\n",
      "Training on transformed version: trend_boxcox_standardize\n"
     ]
    },
    {
     "name": "stderr",
     "output_type": "stream",
     "text": [
      "C:\\Users\\PC314\\AppData\\Local\\Temp\\ipykernel_17148\\3122320333.py:50: SettingWithCopyWarning: \n",
      "A value is trying to be set on a copy of a slice from a DataFrame.\n",
      "Try using .loc[row_indexer,col_indexer] = value instead\n",
      "\n",
      "See the caveats in the documentation: https://pandas.pydata.org/pandas-docs/stable/user_guide/indexing.html#returning-a-view-versus-a-copy\n",
      "  train_df['y'] = series\n"
     ]
    },
    {
     "name": "stdout",
     "output_type": "stream",
     "text": [
      "Skipping MSTL_abc_ARIMA on trend_boxcox_standardize due to error: could not broadcast input array from shape (930,) into shape (986,)\n",
      "Skipping MSTL_ac_ARIMA on trend_boxcox_standardize due to error: could not broadcast input array from shape (930,) into shape (986,)\n"
     ]
    },
    {
     "name": "stderr",
     "output_type": "stream",
     "text": [
      "c:\\Users\\PC314\\anaconda3\\Lib\\site-packages\\statsforecast\\core.py:494: FutureWarning: In a future version the predictions will have the id as a column. You can set the `NIXTLA_ID_AS_COL` environment variable to adopt the new behavior and to suppress this warning.\n",
      "  warnings.warn(\n",
      "c:\\Users\\PC314\\anaconda3\\Lib\\site-packages\\statsforecast\\mfles.py:301: RuntimeWarning: overflow encountered in scalar multiply\n",
      "  slope = (M * x_y_sum - x_sum * y_sum) / (M * x_sq_sum - x_sum**2)\n"
     ]
    },
    {
     "name": "stdout",
     "output_type": "stream",
     "text": [
      "Skipping MSTL_ac_MFLES1 on trend_boxcox_standardize due to error: could not broadcast input array from shape (930,) into shape (986,)\n"
     ]
    },
    {
     "name": "stderr",
     "output_type": "stream",
     "text": [
      "c:\\Users\\PC314\\anaconda3\\Lib\\site-packages\\statsforecast\\mfles.py:301: RuntimeWarning: overflow encountered in scalar multiply\n",
      "  slope = (M * x_y_sum - x_sum * y_sum) / (M * x_sq_sum - x_sum**2)\n"
     ]
    },
    {
     "name": "stdout",
     "output_type": "stream",
     "text": [
      "Skipping MSTL_ac_MFLES2 on trend_boxcox_standardize due to error: could not broadcast input array from shape (930,) into shape (986,)\n"
     ]
    },
    {
     "name": "stderr",
     "output_type": "stream",
     "text": [
      "c:\\Users\\PC314\\anaconda3\\Lib\\site-packages\\statsforecast\\mfles.py:301: RuntimeWarning: overflow encountered in scalar multiply\n",
      "  slope = (M * x_y_sum - x_sum * y_sum) / (M * x_sq_sum - x_sum**2)\n",
      "C:\\Users\\PC314\\AppData\\Local\\Temp\\ipykernel_17148\\3122320333.py:50: SettingWithCopyWarning: \n",
      "A value is trying to be set on a copy of a slice from a DataFrame.\n",
      "Try using .loc[row_indexer,col_indexer] = value instead\n",
      "\n",
      "See the caveats in the documentation: https://pandas.pydata.org/pandas-docs/stable/user_guide/indexing.html#returning-a-view-versus-a-copy\n",
      "  train_df['y'] = series\n"
     ]
    },
    {
     "name": "stdout",
     "output_type": "stream",
     "text": [
      "Skipping MSTL_ac_MFLES3 on trend_boxcox_standardize due to error: could not broadcast input array from shape (930,) into shape (986,)\n",
      "Best Model for trend_boxcox_standardize: MSTL_a_ARIMA (MAPE: 84.32%)\n",
      "Training on transformed version: seasonality_boxcox_standardize\n",
      "Skipping MSTL_abc_ARIMA on seasonality_boxcox_standardize due to error: could not broadcast input array from shape (930,) into shape (986,)\n",
      "Skipping MSTL_ac_ARIMA on seasonality_boxcox_standardize due to error: could not broadcast input array from shape (930,) into shape (986,)\n"
     ]
    },
    {
     "name": "stderr",
     "output_type": "stream",
     "text": [
      "c:\\Users\\PC314\\anaconda3\\Lib\\site-packages\\statsforecast\\core.py:494: FutureWarning: In a future version the predictions will have the id as a column. You can set the `NIXTLA_ID_AS_COL` environment variable to adopt the new behavior and to suppress this warning.\n",
      "  warnings.warn(\n",
      "c:\\Users\\PC314\\anaconda3\\Lib\\site-packages\\statsforecast\\mfles.py:301: RuntimeWarning: overflow encountered in scalar multiply\n",
      "  slope = (M * x_y_sum - x_sum * y_sum) / (M * x_sq_sum - x_sum**2)\n"
     ]
    },
    {
     "name": "stdout",
     "output_type": "stream",
     "text": [
      "Skipping MSTL_ac_MFLES1 on seasonality_boxcox_standardize due to error: could not broadcast input array from shape (930,) into shape (986,)\n"
     ]
    },
    {
     "name": "stderr",
     "output_type": "stream",
     "text": [
      "c:\\Users\\PC314\\anaconda3\\Lib\\site-packages\\statsforecast\\mfles.py:301: RuntimeWarning: overflow encountered in scalar multiply\n",
      "  slope = (M * x_y_sum - x_sum * y_sum) / (M * x_sq_sum - x_sum**2)\n",
      "c:\\Users\\PC314\\anaconda3\\Lib\\site-packages\\statsforecast\\mfles.py:301: RuntimeWarning: overflow encountered in scalar multiply\n",
      "  slope = (M * x_y_sum - x_sum * y_sum) / (M * x_sq_sum - x_sum**2)\n",
      "C:\\Users\\PC314\\AppData\\Local\\Temp\\ipykernel_17148\\3122320333.py:50: SettingWithCopyWarning: \n",
      "A value is trying to be set on a copy of a slice from a DataFrame.\n",
      "Try using .loc[row_indexer,col_indexer] = value instead\n",
      "\n",
      "See the caveats in the documentation: https://pandas.pydata.org/pandas-docs/stable/user_guide/indexing.html#returning-a-view-versus-a-copy\n",
      "  train_df['y'] = series\n"
     ]
    },
    {
     "name": "stdout",
     "output_type": "stream",
     "text": [
      "Skipping MSTL_ac_MFLES2 on seasonality_boxcox_standardize due to error: could not broadcast input array from shape (930,) into shape (986,)\n",
      "Skipping MSTL_ac_MFLES3 on seasonality_boxcox_standardize due to error: could not broadcast input array from shape (930,) into shape (986,)\n",
      "Best Model for seasonality_boxcox_standardize: MSTL_a_ARIMA (MAPE: 97.51%)\n",
      "Training on transformed version: log_trend_seasonality_boxcox\n",
      "Skipping MSTL_abc_ARIMA on log_trend_seasonality_boxcox due to error: could not broadcast input array from shape (930,) into shape (986,)\n",
      "Skipping MSTL_ac_ARIMA on log_trend_seasonality_boxcox due to error: could not broadcast input array from shape (930,) into shape (986,)\n"
     ]
    },
    {
     "name": "stderr",
     "output_type": "stream",
     "text": [
      "c:\\Users\\PC314\\anaconda3\\Lib\\site-packages\\statsforecast\\core.py:494: FutureWarning: In a future version the predictions will have the id as a column. You can set the `NIXTLA_ID_AS_COL` environment variable to adopt the new behavior and to suppress this warning.\n",
      "  warnings.warn(\n",
      "c:\\Users\\PC314\\anaconda3\\Lib\\site-packages\\statsforecast\\mfles.py:301: RuntimeWarning: overflow encountered in scalar multiply\n",
      "  slope = (M * x_y_sum - x_sum * y_sum) / (M * x_sq_sum - x_sum**2)\n"
     ]
    },
    {
     "name": "stdout",
     "output_type": "stream",
     "text": [
      "Skipping MSTL_ac_MFLES1 on log_trend_seasonality_boxcox due to error: could not broadcast input array from shape (930,) into shape (986,)\n"
     ]
    },
    {
     "name": "stderr",
     "output_type": "stream",
     "text": [
      "c:\\Users\\PC314\\anaconda3\\Lib\\site-packages\\statsforecast\\mfles.py:301: RuntimeWarning: overflow encountered in scalar multiply\n",
      "  slope = (M * x_y_sum - x_sum * y_sum) / (M * x_sq_sum - x_sum**2)\n",
      "c:\\Users\\PC314\\anaconda3\\Lib\\site-packages\\statsforecast\\mfles.py:301: RuntimeWarning: overflow encountered in scalar multiply\n",
      "  slope = (M * x_y_sum - x_sum * y_sum) / (M * x_sq_sum - x_sum**2)\n"
     ]
    },
    {
     "name": "stdout",
     "output_type": "stream",
     "text": [
      "Skipping MSTL_ac_MFLES2 on log_trend_seasonality_boxcox due to error: could not broadcast input array from shape (930,) into shape (986,)\n",
      "Skipping MSTL_ac_MFLES3 on log_trend_seasonality_boxcox due to error: could not broadcast input array from shape (930,) into shape (986,)\n",
      "Best Model for log_trend_seasonality_boxcox: MSTL_a_ARIMA (MAPE: 1656.90%)\n",
      "Training on transformed version: log_trend_seasonality_standardize\n"
     ]
    },
    {
     "name": "stderr",
     "output_type": "stream",
     "text": [
      "C:\\Users\\PC314\\AppData\\Local\\Temp\\ipykernel_17148\\3122320333.py:50: SettingWithCopyWarning: \n",
      "A value is trying to be set on a copy of a slice from a DataFrame.\n",
      "Try using .loc[row_indexer,col_indexer] = value instead\n",
      "\n",
      "See the caveats in the documentation: https://pandas.pydata.org/pandas-docs/stable/user_guide/indexing.html#returning-a-view-versus-a-copy\n",
      "  train_df['y'] = series\n"
     ]
    },
    {
     "name": "stdout",
     "output_type": "stream",
     "text": [
      "Skipping MSTL_abc_ARIMA on log_trend_seasonality_standardize due to error: could not broadcast input array from shape (930,) into shape (986,)\n",
      "Skipping MSTL_ac_ARIMA on log_trend_seasonality_standardize due to error: could not broadcast input array from shape (930,) into shape (986,)\n"
     ]
    },
    {
     "name": "stderr",
     "output_type": "stream",
     "text": [
      "c:\\Users\\PC314\\anaconda3\\Lib\\site-packages\\statsforecast\\core.py:494: FutureWarning: In a future version the predictions will have the id as a column. You can set the `NIXTLA_ID_AS_COL` environment variable to adopt the new behavior and to suppress this warning.\n",
      "  warnings.warn(\n",
      "c:\\Users\\PC314\\anaconda3\\Lib\\site-packages\\statsforecast\\mfles.py:301: RuntimeWarning: overflow encountered in scalar multiply\n",
      "  slope = (M * x_y_sum - x_sum * y_sum) / (M * x_sq_sum - x_sum**2)\n"
     ]
    },
    {
     "name": "stdout",
     "output_type": "stream",
     "text": [
      "Skipping MSTL_ac_MFLES1 on log_trend_seasonality_standardize due to error: could not broadcast input array from shape (930,) into shape (986,)\n"
     ]
    },
    {
     "name": "stderr",
     "output_type": "stream",
     "text": [
      "c:\\Users\\PC314\\anaconda3\\Lib\\site-packages\\statsforecast\\mfles.py:301: RuntimeWarning: overflow encountered in scalar multiply\n",
      "  slope = (M * x_y_sum - x_sum * y_sum) / (M * x_sq_sum - x_sum**2)\n",
      "c:\\Users\\PC314\\anaconda3\\Lib\\site-packages\\statsforecast\\mfles.py:301: RuntimeWarning: overflow encountered in scalar multiply\n",
      "  slope = (M * x_y_sum - x_sum * y_sum) / (M * x_sq_sum - x_sum**2)\n",
      "C:\\Users\\PC314\\AppData\\Local\\Temp\\ipykernel_17148\\3122320333.py:50: SettingWithCopyWarning: \n",
      "A value is trying to be set on a copy of a slice from a DataFrame.\n",
      "Try using .loc[row_indexer,col_indexer] = value instead\n",
      "\n",
      "See the caveats in the documentation: https://pandas.pydata.org/pandas-docs/stable/user_guide/indexing.html#returning-a-view-versus-a-copy\n",
      "  train_df['y'] = series\n"
     ]
    },
    {
     "name": "stdout",
     "output_type": "stream",
     "text": [
      "Skipping MSTL_ac_MFLES2 on log_trend_seasonality_standardize due to error: could not broadcast input array from shape (930,) into shape (986,)\n",
      "Skipping MSTL_ac_MFLES3 on log_trend_seasonality_standardize due to error: could not broadcast input array from shape (930,) into shape (986,)\n",
      "Best Model for log_trend_seasonality_standardize: MSTL_a_ARIMA (MAPE: 1661.88%)\n",
      "Training on transformed version: log_trend_boxcox_standardize\n",
      "Skipping MSTL_abc_ARIMA on log_trend_boxcox_standardize due to error: could not broadcast input array from shape (930,) into shape (986,)\n",
      "Skipping MSTL_ac_ARIMA on log_trend_boxcox_standardize due to error: could not broadcast input array from shape (930,) into shape (986,)\n"
     ]
    },
    {
     "name": "stderr",
     "output_type": "stream",
     "text": [
      "c:\\Users\\PC314\\anaconda3\\Lib\\site-packages\\statsforecast\\core.py:494: FutureWarning: In a future version the predictions will have the id as a column. You can set the `NIXTLA_ID_AS_COL` environment variable to adopt the new behavior and to suppress this warning.\n",
      "  warnings.warn(\n",
      "c:\\Users\\PC314\\anaconda3\\Lib\\site-packages\\statsforecast\\mfles.py:301: RuntimeWarning: overflow encountered in scalar multiply\n",
      "  slope = (M * x_y_sum - x_sum * y_sum) / (M * x_sq_sum - x_sum**2)\n"
     ]
    },
    {
     "name": "stdout",
     "output_type": "stream",
     "text": [
      "Skipping MSTL_ac_MFLES1 on log_trend_boxcox_standardize due to error: could not broadcast input array from shape (930,) into shape (986,)\n"
     ]
    },
    {
     "name": "stderr",
     "output_type": "stream",
     "text": [
      "c:\\Users\\PC314\\anaconda3\\Lib\\site-packages\\statsforecast\\mfles.py:301: RuntimeWarning: overflow encountered in scalar multiply\n",
      "  slope = (M * x_y_sum - x_sum * y_sum) / (M * x_sq_sum - x_sum**2)\n"
     ]
    },
    {
     "name": "stdout",
     "output_type": "stream",
     "text": [
      "Skipping MSTL_ac_MFLES2 on log_trend_boxcox_standardize due to error: could not broadcast input array from shape (930,) into shape (986,)\n"
     ]
    },
    {
     "name": "stderr",
     "output_type": "stream",
     "text": [
      "c:\\Users\\PC314\\anaconda3\\Lib\\site-packages\\statsforecast\\mfles.py:301: RuntimeWarning: overflow encountered in scalar multiply\n",
      "  slope = (M * x_y_sum - x_sum * y_sum) / (M * x_sq_sum - x_sum**2)\n",
      "C:\\Users\\PC314\\AppData\\Local\\Temp\\ipykernel_17148\\3122320333.py:50: SettingWithCopyWarning: \n",
      "A value is trying to be set on a copy of a slice from a DataFrame.\n",
      "Try using .loc[row_indexer,col_indexer] = value instead\n",
      "\n",
      "See the caveats in the documentation: https://pandas.pydata.org/pandas-docs/stable/user_guide/indexing.html#returning-a-view-versus-a-copy\n",
      "  train_df['y'] = series\n"
     ]
    },
    {
     "name": "stdout",
     "output_type": "stream",
     "text": [
      "Skipping MSTL_ac_MFLES3 on log_trend_boxcox_standardize due to error: could not broadcast input array from shape (930,) into shape (986,)\n",
      "Best Model for log_trend_boxcox_standardize: MSTL_a_ARIMA (MAPE: 1661.88%)\n",
      "Training on transformed version: log_seasonality_boxcox_standardize\n",
      "Skipping MSTL_abc_ARIMA on log_seasonality_boxcox_standardize due to error: could not broadcast input array from shape (930,) into shape (986,)\n",
      "Skipping MSTL_ac_ARIMA on log_seasonality_boxcox_standardize due to error: could not broadcast input array from shape (930,) into shape (986,)\n"
     ]
    },
    {
     "name": "stderr",
     "output_type": "stream",
     "text": [
      "c:\\Users\\PC314\\anaconda3\\Lib\\site-packages\\statsforecast\\core.py:494: FutureWarning: In a future version the predictions will have the id as a column. You can set the `NIXTLA_ID_AS_COL` environment variable to adopt the new behavior and to suppress this warning.\n",
      "  warnings.warn(\n",
      "c:\\Users\\PC314\\anaconda3\\Lib\\site-packages\\statsforecast\\mfles.py:301: RuntimeWarning: overflow encountered in scalar multiply\n",
      "  slope = (M * x_y_sum - x_sum * y_sum) / (M * x_sq_sum - x_sum**2)\n"
     ]
    },
    {
     "name": "stdout",
     "output_type": "stream",
     "text": [
      "Skipping MSTL_ac_MFLES1 on log_seasonality_boxcox_standardize due to error: could not broadcast input array from shape (930,) into shape (986,)\n"
     ]
    },
    {
     "name": "stderr",
     "output_type": "stream",
     "text": [
      "c:\\Users\\PC314\\anaconda3\\Lib\\site-packages\\statsforecast\\mfles.py:301: RuntimeWarning: overflow encountered in scalar multiply\n",
      "  slope = (M * x_y_sum - x_sum * y_sum) / (M * x_sq_sum - x_sum**2)\n",
      "c:\\Users\\PC314\\anaconda3\\Lib\\site-packages\\statsforecast\\mfles.py:301: RuntimeWarning: overflow encountered in scalar multiply\n",
      "  slope = (M * x_y_sum - x_sum * y_sum) / (M * x_sq_sum - x_sum**2)\n"
     ]
    },
    {
     "name": "stdout",
     "output_type": "stream",
     "text": [
      "Skipping MSTL_ac_MFLES2 on log_seasonality_boxcox_standardize due to error: could not broadcast input array from shape (930,) into shape (986,)\n",
      "Skipping MSTL_ac_MFLES3 on log_seasonality_boxcox_standardize due to error: could not broadcast input array from shape (930,) into shape (986,)\n",
      "Best Model for log_seasonality_boxcox_standardize: MSTL_a_ARIMA (MAPE: nan%)\n",
      "Training on transformed version: trend_seasonality_boxcox_standardize\n"
     ]
    },
    {
     "name": "stderr",
     "output_type": "stream",
     "text": [
      "C:\\Users\\PC314\\AppData\\Local\\Temp\\ipykernel_17148\\3122320333.py:50: SettingWithCopyWarning: \n",
      "A value is trying to be set on a copy of a slice from a DataFrame.\n",
      "Try using .loc[row_indexer,col_indexer] = value instead\n",
      "\n",
      "See the caveats in the documentation: https://pandas.pydata.org/pandas-docs/stable/user_guide/indexing.html#returning-a-view-versus-a-copy\n",
      "  train_df['y'] = series\n"
     ]
    },
    {
     "name": "stdout",
     "output_type": "stream",
     "text": [
      "Skipping MSTL_abc_ARIMA on trend_seasonality_boxcox_standardize due to error: could not broadcast input array from shape (930,) into shape (986,)\n",
      "Skipping MSTL_ac_ARIMA on trend_seasonality_boxcox_standardize due to error: could not broadcast input array from shape (930,) into shape (986,)\n"
     ]
    },
    {
     "name": "stderr",
     "output_type": "stream",
     "text": [
      "c:\\Users\\PC314\\anaconda3\\Lib\\site-packages\\statsforecast\\core.py:494: FutureWarning: In a future version the predictions will have the id as a column. You can set the `NIXTLA_ID_AS_COL` environment variable to adopt the new behavior and to suppress this warning.\n",
      "  warnings.warn(\n",
      "c:\\Users\\PC314\\anaconda3\\Lib\\site-packages\\statsforecast\\mfles.py:301: RuntimeWarning: overflow encountered in scalar multiply\n",
      "  slope = (M * x_y_sum - x_sum * y_sum) / (M * x_sq_sum - x_sum**2)\n"
     ]
    },
    {
     "name": "stdout",
     "output_type": "stream",
     "text": [
      "Skipping MSTL_ac_MFLES1 on trend_seasonality_boxcox_standardize due to error: could not broadcast input array from shape (930,) into shape (986,)\n"
     ]
    },
    {
     "name": "stderr",
     "output_type": "stream",
     "text": [
      "c:\\Users\\PC314\\anaconda3\\Lib\\site-packages\\statsforecast\\mfles.py:301: RuntimeWarning: overflow encountered in scalar multiply\n",
      "  slope = (M * x_y_sum - x_sum * y_sum) / (M * x_sq_sum - x_sum**2)\n",
      "c:\\Users\\PC314\\anaconda3\\Lib\\site-packages\\statsforecast\\mfles.py:301: RuntimeWarning: overflow encountered in scalar multiply\n",
      "  slope = (M * x_y_sum - x_sum * y_sum) / (M * x_sq_sum - x_sum**2)\n"
     ]
    },
    {
     "name": "stdout",
     "output_type": "stream",
     "text": [
      "Skipping MSTL_ac_MFLES2 on trend_seasonality_boxcox_standardize due to error: could not broadcast input array from shape (930,) into shape (986,)\n",
      "Skipping MSTL_ac_MFLES3 on trend_seasonality_boxcox_standardize due to error: could not broadcast input array from shape (930,) into shape (986,)\n",
      "Best Model for trend_seasonality_boxcox_standardize: MSTL_a_ARIMA (MAPE: 84.32%)\n",
      "Training on transformed version: log_trend_seasonality_boxcox_standardize\n"
     ]
    },
    {
     "name": "stderr",
     "output_type": "stream",
     "text": [
      "C:\\Users\\PC314\\AppData\\Local\\Temp\\ipykernel_17148\\3122320333.py:50: SettingWithCopyWarning: \n",
      "A value is trying to be set on a copy of a slice from a DataFrame.\n",
      "Try using .loc[row_indexer,col_indexer] = value instead\n",
      "\n",
      "See the caveats in the documentation: https://pandas.pydata.org/pandas-docs/stable/user_guide/indexing.html#returning-a-view-versus-a-copy\n",
      "  train_df['y'] = series\n"
     ]
    },
    {
     "name": "stdout",
     "output_type": "stream",
     "text": [
      "Skipping MSTL_abc_ARIMA on log_trend_seasonality_boxcox_standardize due to error: could not broadcast input array from shape (930,) into shape (986,)\n",
      "Skipping MSTL_ac_ARIMA on log_trend_seasonality_boxcox_standardize due to error: could not broadcast input array from shape (930,) into shape (986,)\n"
     ]
    },
    {
     "name": "stderr",
     "output_type": "stream",
     "text": [
      "c:\\Users\\PC314\\anaconda3\\Lib\\site-packages\\statsforecast\\core.py:494: FutureWarning: In a future version the predictions will have the id as a column. You can set the `NIXTLA_ID_AS_COL` environment variable to adopt the new behavior and to suppress this warning.\n",
      "  warnings.warn(\n",
      "c:\\Users\\PC314\\anaconda3\\Lib\\site-packages\\statsforecast\\mfles.py:301: RuntimeWarning: overflow encountered in scalar multiply\n",
      "  slope = (M * x_y_sum - x_sum * y_sum) / (M * x_sq_sum - x_sum**2)\n"
     ]
    },
    {
     "name": "stdout",
     "output_type": "stream",
     "text": [
      "Skipping MSTL_ac_MFLES1 on log_trend_seasonality_boxcox_standardize due to error: could not broadcast input array from shape (930,) into shape (986,)\n"
     ]
    },
    {
     "name": "stderr",
     "output_type": "stream",
     "text": [
      "c:\\Users\\PC314\\anaconda3\\Lib\\site-packages\\statsforecast\\mfles.py:301: RuntimeWarning: overflow encountered in scalar multiply\n",
      "  slope = (M * x_y_sum - x_sum * y_sum) / (M * x_sq_sum - x_sum**2)\n"
     ]
    },
    {
     "name": "stdout",
     "output_type": "stream",
     "text": [
      "Skipping MSTL_ac_MFLES2 on log_trend_seasonality_boxcox_standardize due to error: could not broadcast input array from shape (930,) into shape (986,)\n",
      "Skipping MSTL_ac_MFLES3 on log_trend_seasonality_boxcox_standardize due to error: could not broadcast input array from shape (930,) into shape (986,)\n",
      "Best Model for log_trend_seasonality_boxcox_standardize: MSTL_a_ARIMA (MAPE: 1661.88%)\n",
      "All models and metadata saved successfully.\n"
     ]
    },
    {
     "name": "stderr",
     "output_type": "stream",
     "text": [
      "c:\\Users\\PC314\\anaconda3\\Lib\\site-packages\\statsforecast\\mfles.py:301: RuntimeWarning: overflow encountered in scalar multiply\n",
      "  slope = (M * x_y_sum - x_sum * y_sum) / (M * x_sq_sum - x_sum**2)\n"
     ]
    }
   ],
   "source": [
    "import numpy as np\n",
    "import pandas as pd\n",
    "import hashlib\n",
    "import joblib\n",
    "import json\n",
    "import os\n",
    "from copy import deepcopy\n",
    "from statsforecast import StatsForecast\n",
    "\n",
    "RUN_NUM = \"run_9\"\n",
    "\n",
    "# Ensure save directory exists\n",
    "save_dir = f\"results/{RUN_NUM}\"\n",
    "os.makedirs(save_dir, exist_ok=True)\n",
    "\n",
    "passed_models_info = {}\n",
    "\n",
    "def mstl_name_mapper(model_name):\n",
    "    if 'MSTL' in model_name:\n",
    "        return \"MSTL\"\n",
    "    return model_name\n",
    "\n",
    "# Step 1: Preprocess and Generate Transformed Versions\n",
    "for sensor_id, train_scenarios in scenarios_sensors.items():\n",
    "    sensor_id = str(sensor_id)\n",
    "    \n",
    "    for train_label, scenario in train_scenarios.items():\n",
    "        print(f\"Processing Sensor {sensor_id}, Scenario: {train_label}\")\n",
    "\n",
    "        # Load the dataset for the sensor\n",
    "        formatted_df = format_df_to_mlforecast(\n",
    "            selected_sensors_df[['full_date', sensor_id]], 'full_date', sensor_id, unique_id=sensor_id\n",
    "        )\n",
    "        formatted_df = formatted_df[['ds', 'y', 'unique_id']]\n",
    "\n",
    "        # Split the dataset using predefined scenario\n",
    "        train_df, test_df = split_data(formatted_df, scenario)\n",
    "\n",
    "        # Preprocess data with all transformations\n",
    "        data = train_df['y'].values.copy()\n",
    "        preprocessor = TimeSeriesPreprocessor(seasonal_period=365)\n",
    "        steps = ['log', 'trend', 'seasonality', 'boxcox', 'standardize']\n",
    "        transformed_series = preprocessor.create_pipeline(data, steps)\n",
    "\n",
    "        # Step 2: Train All Models\n",
    "        for name, series in transformed_series.items():\n",
    "            print(f\"Training on transformed version: {name}\")\n",
    "\n",
    "            # Prepare scenario-based training and test sets\n",
    "            train_df['y'] = series\n",
    "            test_series = test_df['y'].values.copy()\n",
    "\n",
    "            if len(series) < 30:\n",
    "                continue\n",
    "\n",
    "            results = {}\n",
    "            for model_name, model in models_dict.items():\n",
    "                try:\n",
    "                    sf = StatsForecast(models=[model], freq='D', n_jobs=-1)\n",
    "                    sf.fit(train_df)\n",
    "                    forecasts = sf.predict(h=len(test_series)).reset_index()\n",
    "                    # Get predictions & apply inverse transformations before computing metrics\n",
    "                    target_col = list(set(forecasts.columns) - set(['ds', 'unique_id']))[0]\n",
    "                    transformed_forecast = forecasts[target_col].values\n",
    "\n",
    "                    # Apply inverse transformations\n",
    "                    distr_preprocessor = deepcopy(preprocessor)\n",
    "                    distr_preprocessor.transforms = name.split('_')\n",
    "                    if \"boxcox\" in name:\n",
    "                        distr_preprocessor.lambda_param = preprocessor.lambdas[name]\n",
    "                    \n",
    "                    orig_preds = distr_preprocessor.inverse_transform_predictions(transformed_forecast)\n",
    "\n",
    "                    # Compute metrics **AFTER inverse transformation**\n",
    "                    test_df_copy = test_df.copy()\n",
    "                    test_df_copy['forecast'] = orig_preds\n",
    "\n",
    "                    # test_df_copy.plot(x='ds', y=['y', 'forecast'], title=f\"Forecast vs Actuals for {model_name} with {name}\")\n",
    "                    # plt.xlabel('Date')\n",
    "                    # plt.ylabel('Value')\n",
    "                    # plt.show()\n",
    "\n",
    "                    error_dict = {}\n",
    "                    for test_length in [30, 60, 90, 120, 150, 180, 240, 300, 360, 480, 600, 720, len(test_series)]:\n",
    "                        eval_subset = test_df_copy.iloc[:test_length]\n",
    "                        error_dict[f\"test_{test_length}_days\"] = mape_met(eval_subset['y'].values, eval_subset['forecast'].values)\n",
    "\n",
    "                    results[model_name] = {\n",
    "                        \"MAPE\": error_dict[f\"test_{len(test_series)}_days\"],\n",
    "                        # \"RMSE\": rmse_met(test_df_copy['y'].values, test_df_copy['forecast'].values),\n",
    "                        \"Predictions\": orig_preds,\n",
    "                        \"Errors\": error_dict,\n",
    "                    }\n",
    "\n",
    "                except Exception as e:\n",
    "                    print(f\"Skipping {model_name} on {name} due to error: {e}\")\n",
    "                    continue\n",
    "\n",
    "            # Select best model based on lowest final horizon MAPE\n",
    "            try:\n",
    "                best_model = min(results, key=lambda x: results[x]['MAPE'])\n",
    "                print(f\"Best Model for {name}: {best_model} (MAPE: {results[best_model]['MAPE']:.2f}%)\")\n",
    "            except Exception as e:\n",
    "                print(\"some error:\", e)\n",
    "\n",
    "            # Step 3: Store and Save Models\n",
    "            if results[best_model]['MAPE'] < 50:\n",
    "                model_hash = hashlib.md5(f\"{sensor_id}_{train_label}_{name}_{best_model}\".encode()).hexdigest()[:8]\n",
    "                unique_model_id = f\"{sensor_id}_{train_label}_{name}_{best_model}_{model_hash}\"\n",
    "\n",
    "                print(f\"Saving model {unique_model_id}\")\n",
    "\n",
    "                model_filename = f\"{save_dir}/{unique_model_id}.joblib\"\n",
    "                joblib.dump(models_dict[best_model], model_filename)\n",
    "\n",
    "                passed_models_info[unique_model_id] = {\n",
    "                    \"sensor\": sensor_id,\n",
    "                    \"train_label\": train_label,\n",
    "                    \"transformation\": name,\n",
    "                    \"model_name\": best_model,\n",
    "                    \"MAPE\": results[best_model]['MAPE'],\n",
    "                    \"Errors\": results[best_model]['Errors'],\n",
    "                    \"file_path\": model_filename,\n",
    "                }\n",
    "\n",
    "# Step 4: Save Metadata\n",
    "with open(f\"{save_dir}/passed_models_metadata.json\", \"w\") as f:\n",
    "    json.dump(passed_models_info, f, indent=4)\n",
    "\n",
    "pd.DataFrame.from_dict(passed_models_info, orient=\"index\").to_csv(f\"{save_dir}/passed_models_metadata.csv\")\n",
    "\n",
    "print(\"All models and metadata saved successfully.\")\n"
   ]
  }
 ],
 "metadata": {
  "kernelspec": {
   "display_name": "base",
   "language": "python",
   "name": "python3"
  },
  "language_info": {
   "codemirror_mode": {
    "name": "ipython",
    "version": 3
   },
   "file_extension": ".py",
   "mimetype": "text/x-python",
   "name": "python",
   "nbconvert_exporter": "python",
   "pygments_lexer": "ipython3",
   "version": "3.12.3"
  }
 },
 "nbformat": 4,
 "nbformat_minor": 2
}
