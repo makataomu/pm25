{
 "cells": [
  {
   "cell_type": "code",
   "execution_count": 1,
   "metadata": {},
   "outputs": [],
   "source": [
    "import pandas as pd\n",
    "import time\n",
    "import matplotlib.pyplot as plt\n",
    "import plotly.express as px\n",
    "import plotly.graph_objects as go"
   ]
  },
  {
   "cell_type": "code",
   "execution_count": 2,
   "metadata": {},
   "outputs": [],
   "source": [
    "from numba import njit\n",
    "from window_ops.expanding import expanding_mean\n",
    "from window_ops.rolling import rolling_mean\n",
    "\n",
    "@njit\n",
    "def rolling_mean_14(x):\n",
    "    return rolling_mean(x, window_size=14)\n",
    "@njit\n",
    "def rolling_mean_30(x):\n",
    "    return rolling_mean(x, window_size=30)"
   ]
  },
  {
   "cell_type": "code",
   "execution_count": 3,
   "metadata": {},
   "outputs": [],
   "source": [
    "def format_df_to_mlforecast(df, date_col, target_col, unique_id='mean'):\n",
    "    df_ = df.rename({\n",
    "        date_col: \"ds\",\n",
    "        # target_col: 'y',\n",
    "    }, axis=1)\n",
    "\n",
    "    df_['ds'] = pd.to_datetime(df_['ds'])\n",
    "\n",
    "    df_['y'] = df_[target_col].copy()\n",
    "    # df_.drop(columns=target_col)\n",
    "\n",
    "    df_['unique_id'] = unique_id\n",
    "    return df_"
   ]
  },
  {
   "cell_type": "code",
   "execution_count": 4,
   "metadata": {},
   "outputs": [],
   "source": [
    "selected_sensors_df = pd.read_csv(\"../data/selected_sensors2_cleaned.csv\", index_col=0)"
   ]
  },
  {
   "cell_type": "code",
   "execution_count": 5,
   "metadata": {},
   "outputs": [],
   "source": [
    "scenarios_sensors = {\n",
    "    # 0: 1, 4372603\n",
    "    # \"0_12M_train_7M_test\": {\"train_start\": \"2017-03-25\", \"train_end\": \"2018-03-25\", \"test_start\": \"2018-03-26\", \"test_end\": \"2018-10-10\"},\n",
    "    '2': {\n",
    "        \"26M_train\":  {\"train_start\": \"2017-04-01\", \"train_end\": \"2019-06-01\"},\n",
    "        \"24M_train\":  {\"train_start\": \"2017-04-01\", \"train_end\": \"2019-04-01\"},\n",
    "        \"22M_train\":  {\"train_start\": \"2017-04-01\", \"train_end\": \"2019-02-01\"},\n",
    "        \"20M_train\":  {\"train_start\": \"2017-04-01\", \"train_end\": \"2018-12-01\"},\n",
    "        \"18M_train\":  {\"train_start\": \"2017-04-01\", \"train_end\": \"2018-10-01\"},\n",
    "        \"12M_train\":  {\"train_start\": \"2017-04-01\", \"train_end\": \"2018-04-01\"},\n",
    "        # \"10M_train\":  {\"train_start\": \"2017-04-01\", \"train_end\": \"2018-01-25\"},\n",
    "        # \"8M_train\":   {\"train_start\": \"2017-04-01\", \"train_end\": \"2017-10-25\"},\n",
    "        },\n",
    "}\n",
    "scenarios_sensors['5'] = scenarios_sensors['2'].copy()\n",
    "# scenarios_sensors['6'] = scenarios_sensors['2'].copy()"
   ]
  },
  {
   "cell_type": "code",
   "execution_count": 6,
   "metadata": {},
   "outputs": [],
   "source": [
    "from MLForecastPipeline import *\n",
    "from lightgbm import LGBMRegressor"
   ]
  },
  {
   "cell_type": "code",
   "execution_count": 7,
   "metadata": {},
   "outputs": [],
   "source": [
    "from sklearn.linear_model import Ridge, Lasso, SGDRegressor\n",
    "def split_data(df, scenario, date_col=\"ds\"):\n",
    "    \"\"\"Extracts train and test data based on train end date.\"\"\"\n",
    "    train_data = df[df[date_col] <= scenario['train_end']]\n",
    "    test_start = pd.to_datetime(scenario['train_end']) + pd.Timedelta(days=1)\n",
    "    test_data = df[df[date_col] >= test_start]\n",
    "    return train_data, test_data"
   ]
  },
  {
   "cell_type": "code",
   "execution_count": null,
   "metadata": {},
   "outputs": [
    {
     "name": "stderr",
     "output_type": "stream",
     "text": [
      "2025-04-16 16:33:02,916\tINFO util.py:154 -- Outdated packages:\n",
      "  ipywidgets==7.8.1 found, needs ipywidgets>=8\n",
      "Run `pip install -U ipywidgets`, then restart the notebook server for rich notebook output.\n",
      "2025-04-16 16:33:03,200\tINFO util.py:154 -- Outdated packages:\n",
      "  ipywidgets==7.8.1 found, needs ipywidgets>=8\n",
      "Run `pip install -U ipywidgets`, then restart the notebook server for rich notebook output.\n"
     ]
    }
   ],
   "source": [
    "from joblib import Parallel, delayed\n",
    "import time\n",
    "from neuralforecast.auto import AutoLSTM\n",
    "from neuralforecast.auto import AutoMLP\n",
    "from neuralforecast.tsdataset import TimeSeriesDataset\n",
    "\n",
    "def make_optuna_config_lstm(max_input_size):\n",
    "    def optuna_config_lstm(trial):\n",
    "        return {\n",
    "            \"input_size\": trial.suggest_int(\"input_size\", 7, max_input_size),\n",
    "            \"encoder_hidden_size\": trial.suggest_categorical(\"encoder_hidden_size\", [16, 32, 64, 128]),\n",
    "            \"encoder_n_layers\": trial.suggest_int(\"encoder_n_layers\", 1, 3),\n",
    "            \"decoder_hidden_size\": trial.suggest_categorical(\"decoder_hidden_size\", [16, 32, 64, 128]),\n",
    "            \"learning_rate\": trial.suggest_float(\"learning_rate\", 1e-4, 1e-1, log=True),\n",
    "            \"max_steps\": trial.suggest_categorical(\"max_steps\", [500, 1000]),\n",
    "            \"batch_size\": trial.suggest_categorical(\"batch_size\", [16, 32, 64]),\n",
    "            \"loss\": None,  # set externally\n",
    "            \"h\": None,     # will be set externally too\n",
    "            \"random_seed\": trial.suggest_int(\"random_seed\", 1, 19),\n",
    "            \"start_padding_enabled\": True\n",
    "        }\n",
    "    return optuna_config_lstm\n",
    "\n",
    "def make_optuna_config_mlp(max_input_size):\n",
    "    def optuna_config_mlp(trial):\n",
    "        return {\n",
    "            \"input_size\": trial.suggest_int(\"input_size\", 7, max_input_size),\n",
    "            \"step_size\": trial.suggest_int(\"step_size\", 1, max_input_size),\n",
    "            \"hidden_size\": trial.suggest_categorical(\"hidden_size\", [256, 512, 1024]),\n",
    "            \"num_layers\": trial.suggest_int(\"num_layers\", 2, 5),\n",
    "            \"learning_rate\": trial.suggest_float(\"learning_rate\", 1e-4, 1e-1, log=True),\n",
    "            \"scaler_type\": trial.suggest_categorical(\"scaler_type\", [None, \"robust\", \"standard\"]),\n",
    "            \"max_steps\": trial.suggest_categorical(\"max_steps\", [500, 1000]),\n",
    "            \"batch_size\": trial.suggest_categorical(\"batch_size\", [32, 64, 128, 256]),\n",
    "            \"windows_batch_size\": trial.suggest_categorical(\"windows_batch_size\", [128, 256, 512, 1024]),\n",
    "            \"loss\": None,\n",
    "            \"random_seed\": trial.suggest_int(\"random_seed\", 1, 19),\n",
    "            \"start_padding_enabled\": True\n",
    "        }\n",
    "    return optuna_config_mlp\n",
    "\n",
    "\n",
    "def count_metrics(model_name, params, test_df, y_hat, test_lengths):\n",
    "    test_df_copy = test_df.copy()\n",
    "    test_df_copy['forecast'] = y_hat\n",
    "\n",
    "    error_dict = {}\n",
    "    for test_length in test_lengths:\n",
    "        eval_subset = test_df_copy.iloc[:test_length]  # Take subset for evaluation\n",
    "        error_dict[f\"test_{test_length}_days\"] = mape_met(eval_subset['y'].values,  eval_subset['forecast'].values)\n",
    "\n",
    "    monthly_error_dict = defaultdict(dict)\n",
    "    test_df_copy['year'] = test_df_copy['ds'].dt.year\n",
    "    test_df_copy['month'] = test_df_copy['ds'].dt.month\n",
    "\n",
    "    # Group by year and month and calculate MAPE for each group\n",
    "    grouped = test_df_copy.groupby(['year', 'month'])\n",
    "    for (year, month), group in grouped:\n",
    "        if not group.empty:\n",
    "            monthly_error_dict[year][month] = mape_met(group['y'].values, group['forecast'].values)\n",
    "\n",
    "    return {\n",
    "        \"Model\": model_name,\n",
    "        **error_dict,  # Expand error dictionary into separate columns\n",
    "        **monthly_error_dict,\n",
    "        \"preds\": test_df_copy['forecast'].values,\n",
    "        \"params\": params,\n",
    "    }\n",
    "\n",
    "def process_scenario(sensor_name, scenario_name, scenario, selected_sensors_df, models, lag_transforms_options, ratios=[0.33, 0.66, 1]):\n",
    "    \"\"\" Process each scenario independently and save results. \"\"\"\n",
    "    print(f'{sensor_name}_{scenario_name}')\n",
    "\n",
    "    results = []\n",
    "    \n",
    "    formatted_df = format_df_to_mlforecast(selected_sensors_df[['full_date', sensor_name]], 'full_date', sensor_name, unique_id=sensor_name)\n",
    "    formatted_df = formatted_df[['ds', 'y', 'unique_id']]\n",
    "    \n",
    "    train_df, test_df = split_data(formatted_df, scenario)\n",
    "    train_df['ds'] = pd.to_datetime(train_df['ds']) \n",
    "    test_df['ds'] = pd.to_datetime(test_df['ds']) \n",
    "\n",
    "    train_dataset, indices, dates, ds_arr = TimeSeriesDataset.from_df(\n",
    "        df=train_df,\n",
    "        id_col=\"unique_id\",\n",
    "        time_col=\"ds\",\n",
    "        target_col=\"y\"\n",
    "    )\n",
    "\n",
    "    horizon = len(test_df)\n",
    "    test_lengths = list(range(30, 181, 30)) + [240, 300, 360, 480, 600, 720, horizon]  # Days-based segmentation\n",
    "\n",
    "    # max_input_size = train_df.groupby(\"unique_id\").size().min() - 1\n",
    "    # max_input_size = max(max_input_size, 7)  # Ensure it's not below lower bound\n",
    "\n",
    "    # Max possible input size = min_train_len - h - min_required_buffer\n",
    "    min_train_len = train_df.groupby(\"unique_id\").size().min()\n",
    "    min_required_buffer = 20  # for sanity\n",
    "\n",
    "    safe_max_input_size = max(min_train_len - horizon - min_required_buffer, 7)\n",
    "\n",
    "    if safe_max_input_size < 7:\n",
    "        print(f\"Skipping scenario {sensor_name}_{scenario_name} due to insufficient training length.\")\n",
    "        return []\n",
    "\n",
    "    optuna_config = make_optuna_config_lstm(safe_max_input_size)\n",
    "    model_lstm = AutoLSTM(h=horizon, num_samples=20, backend='optuna', config=optuna_config)\n",
    "    model_lstm.fit(dataset=train_dataset, distributed_config=None)\n",
    "    y_hat = model_lstm.predict(dataset=train_dataset)\n",
    "    results.append(count_metrics('lstm', model_lstm.model.hparams, test_df, y_hat, test_lengths))\n",
    "\n",
    "    optuna_config = make_optuna_config_mlp(safe_max_input_size)\n",
    "    model_mlp = AutoMLP(h=horizon, num_samples=20, backend='optuna', config=optuna_config)\n",
    "    model_mlp.fit(dataset=train_dataset, distributed_config=None)\n",
    "    y_hat = model_mlp.predict(dataset=train_dataset)\n",
    "    results.append(count_metrics('mlp', model_mlp.model.hparams, test_df, y_hat, test_lengths))\n",
    "\n",
    "    save_results(results, f\"results/run_20/{sensor_name}_{scenario_name}.csv\")\n",
    "\n",
    "    return results\n",
    "\n",
    "def run_all_scenarios_parallel(scenarios_sensors, selected_sensors_df, models, lag_transforms_options, ratios=[0.33, 0.66, 1]):\n",
    "    # don't use all cpus (instead all but one)\n",
    "    results = Parallel(n_jobs=-1, verbose=30)( \n",
    "        delayed(process_scenario)(sensor_name, scenario_name, scenario, selected_sensors_df, models, lag_transforms_options, ratios=ratios)\n",
    "        for sensor_name, scenarios in scenarios_sensors.items()\n",
    "        for scenario_name, scenario in scenarios.items()\n",
    "    )\n",
    "\n",
    "    return results"
   ]
  },
  {
   "cell_type": "code",
   "execution_count": 9,
   "metadata": {},
   "outputs": [
    {
     "name": "stderr",
     "output_type": "stream",
     "text": [
      "[Parallel(n_jobs=-1)]: Using backend LokyBackend with 16 concurrent workers.\n"
     ]
    },
    {
     "ename": "RuntimeError",
     "evalue": "The size of tensor a (676) must match the size of tensor b (60) at non-singleton dimension 1",
     "output_type": "error",
     "traceback": [
      "\u001b[1;31m---------------------------------------------------------------------------\u001b[0m",
      "\u001b[1;31m_RemoteTraceback\u001b[0m                          Traceback (most recent call last)",
      "\u001b[1;31m_RemoteTraceback\u001b[0m: \n\"\"\"\nTraceback (most recent call last):\n  File \"c:\\Users\\PC314\\anaconda3\\Lib\\site-packages\\joblib\\externals\\loky\\process_executor.py\", line 463, in _process_worker\n    r = call_item()\n        ^^^^^^^^^^^\n  File \"c:\\Users\\PC314\\anaconda3\\Lib\\site-packages\\joblib\\externals\\loky\\process_executor.py\", line 291, in __call__\n    return self.fn(*self.args, **self.kwargs)\n           ^^^^^^^^^^^^^^^^^^^^^^^^^^^^^^^^^^\n  File \"c:\\Users\\PC314\\anaconda3\\Lib\\site-packages\\joblib\\parallel.py\", line 598, in __call__\n    return [func(*args, **kwargs)\n            ^^^^^^^^^^^^^^^^^^^^^\n  File \"C:\\Users\\PC314\\AppData\\Local\\Temp\\ipykernel_1108\\2849664720.py\", line 98, in process_scenario\n  File \"c:\\Users\\PC314\\anaconda3\\Lib\\site-packages\\neuralforecast\\common\\_base_auto.py\", line 421, in fit\n    results = self._optuna_tune_model(\n              ^^^^^^^^^^^^^^^^^^^^^^^^\n  File \"c:\\Users\\PC314\\anaconda3\\Lib\\site-packages\\neuralforecast\\common\\_base_auto.py\", line 354, in _optuna_tune_model\n    study.optimize(\n  File \"c:\\Users\\PC314\\anaconda3\\Lib\\site-packages\\optuna\\study\\study.py\", line 475, in optimize\n    _optimize(\n  File \"c:\\Users\\PC314\\anaconda3\\Lib\\site-packages\\optuna\\study\\_optimize.py\", line 63, in _optimize\n    _optimize_sequential(\n  File \"c:\\Users\\PC314\\anaconda3\\Lib\\site-packages\\optuna\\study\\_optimize.py\", line 160, in _optimize_sequential\n    frozen_trial = _run_trial(study, func, catch)\n                   ^^^^^^^^^^^^^^^^^^^^^^^^^^^^^^\n  File \"c:\\Users\\PC314\\anaconda3\\Lib\\site-packages\\optuna\\study\\_optimize.py\", line 248, in _run_trial\n    raise func_err\n  File \"c:\\Users\\PC314\\anaconda3\\Lib\\site-packages\\optuna\\study\\_optimize.py\", line 197, in _run_trial\n    value_or_values = func(trial)\n                      ^^^^^^^^^^^\n  File \"c:\\Users\\PC314\\anaconda3\\Lib\\site-packages\\neuralforecast\\common\\_base_auto.py\", line 329, in objective\n    model = self._fit_model(\n            ^^^^^^^^^^^^^^^^\n  File \"c:\\Users\\PC314\\anaconda3\\Lib\\site-packages\\neuralforecast\\common\\_base_auto.py\", line 366, in _fit_model\n    model = model.fit(\n            ^^^^^^^^^^\n  File \"c:\\Users\\PC314\\anaconda3\\Lib\\site-packages\\neuralforecast\\common\\_base_model.py\", line 1468, in fit\n    return self._fit(\n           ^^^^^^^^^^\n  File \"c:\\Users\\PC314\\anaconda3\\Lib\\site-packages\\neuralforecast\\common\\_base_model.py\", line 546, in _fit\n    trainer.fit(model, datamodule=datamodule)\n  File \"c:\\Users\\PC314\\anaconda3\\Lib\\site-packages\\pytorch_lightning\\trainer\\trainer.py\", line 539, in fit\n    call._call_and_handle_interrupt(\n  File \"c:\\Users\\PC314\\anaconda3\\Lib\\site-packages\\pytorch_lightning\\trainer\\call.py\", line 47, in _call_and_handle_interrupt\n    return trainer_fn(*args, **kwargs)\n           ^^^^^^^^^^^^^^^^^^^^^^^^^^^\n  File \"c:\\Users\\PC314\\anaconda3\\Lib\\site-packages\\pytorch_lightning\\trainer\\trainer.py\", line 575, in _fit_impl\n    self._run(model, ckpt_path=ckpt_path)\n  File \"c:\\Users\\PC314\\anaconda3\\Lib\\site-packages\\pytorch_lightning\\trainer\\trainer.py\", line 982, in _run\n    results = self._run_stage()\n              ^^^^^^^^^^^^^^^^^\n  File \"c:\\Users\\PC314\\anaconda3\\Lib\\site-packages\\pytorch_lightning\\trainer\\trainer.py\", line 1024, in _run_stage\n    self._run_sanity_check()\n  File \"c:\\Users\\PC314\\anaconda3\\Lib\\site-packages\\pytorch_lightning\\trainer\\trainer.py\", line 1053, in _run_sanity_check\n    val_loop.run()\n  File \"c:\\Users\\PC314\\anaconda3\\Lib\\site-packages\\pytorch_lightning\\loops\\utilities.py\", line 179, in _decorator\n    return loop_run(self, *args, **kwargs)\n           ^^^^^^^^^^^^^^^^^^^^^^^^^^^^^^^\n  File \"c:\\Users\\PC314\\anaconda3\\Lib\\site-packages\\pytorch_lightning\\loops\\evaluation_loop.py\", line 144, in run\n    self._evaluation_step(batch, batch_idx, dataloader_idx, dataloader_iter)\n  File \"c:\\Users\\PC314\\anaconda3\\Lib\\site-packages\\pytorch_lightning\\loops\\evaluation_loop.py\", line 433, in _evaluation_step\n    output = call._call_strategy_hook(trainer, hook_name, *step_args)\n             ^^^^^^^^^^^^^^^^^^^^^^^^^^^^^^^^^^^^^^^^^^^^^^^^^^^^^^^^\n  File \"c:\\Users\\PC314\\anaconda3\\Lib\\site-packages\\pytorch_lightning\\trainer\\call.py\", line 323, in _call_strategy_hook\n    output = fn(*args, **kwargs)\n             ^^^^^^^^^^^^^^^^^^^\n  File \"c:\\Users\\PC314\\anaconda3\\Lib\\site-packages\\pytorch_lightning\\strategies\\strategy.py\", line 412, in validation_step\n    return self.lightning_module.validation_step(*args, **kwargs)\n           ^^^^^^^^^^^^^^^^^^^^^^^^^^^^^^^^^^^^^^^^^^^^^^^^^^^^^^\n  File \"c:\\Users\\PC314\\anaconda3\\Lib\\site-packages\\neuralforecast\\common\\_base_model.py\", line 1357, in validation_step\n    valid_loss_batch = self._compute_valid_loss(\n                       ^^^^^^^^^^^^^^^^^^^^^^^^^\n  File \"c:\\Users\\PC314\\anaconda3\\Lib\\site-packages\\neuralforecast\\common\\_base_model.py\", line 957, in _compute_valid_loss\n    valid_loss = self.valid_loss(\n                 ^^^^^^^^^^^^^^^^\n  File \"c:\\Users\\PC314\\anaconda3\\Lib\\site-packages\\neuralforecast\\losses\\pytorch.py\", line 140, in __call__\n    losses = torch.abs(y - y_hat)\n                       ~~^~~~~~~\nRuntimeError: The size of tensor a (676) must match the size of tensor b (60) at non-singleton dimension 1\n\"\"\"",
      "\nThe above exception was the direct cause of the following exception:\n",
      "\u001b[1;31mRuntimeError\u001b[0m                              Traceback (most recent call last)",
      "Cell \u001b[1;32mIn[9], line 1\u001b[0m\n\u001b[1;32m----> 1\u001b[0m results \u001b[38;5;241m=\u001b[39m run_all_scenarios_parallel(scenarios_sensors, selected_sensors_df, models\u001b[38;5;241m=\u001b[39m\u001b[38;5;28;01mNone\u001b[39;00m, lag_transforms_options\u001b[38;5;241m=\u001b[39m\u001b[38;5;28;01mNone\u001b[39;00m)\n",
      "Cell \u001b[1;32mIn[8], line 114\u001b[0m, in \u001b[0;36mrun_all_scenarios_parallel\u001b[1;34m(scenarios_sensors, selected_sensors_df, models, lag_transforms_options, ratios)\u001b[0m\n\u001b[0;32m    112\u001b[0m \u001b[38;5;28;01mdef\u001b[39;00m \u001b[38;5;21mrun_all_scenarios_parallel\u001b[39m(scenarios_sensors, selected_sensors_df, models, lag_transforms_options, ratios\u001b[38;5;241m=\u001b[39m[\u001b[38;5;241m0.33\u001b[39m, \u001b[38;5;241m0.66\u001b[39m, \u001b[38;5;241m1\u001b[39m]):\n\u001b[0;32m    113\u001b[0m     \u001b[38;5;66;03m# don't use all cpus (instead all but one)\u001b[39;00m\n\u001b[1;32m--> 114\u001b[0m     results \u001b[38;5;241m=\u001b[39m Parallel(n_jobs\u001b[38;5;241m=\u001b[39m\u001b[38;5;241m-\u001b[39m\u001b[38;5;241m1\u001b[39m, verbose\u001b[38;5;241m=\u001b[39m\u001b[38;5;241m30\u001b[39m)( \n\u001b[0;32m    115\u001b[0m         delayed(process_scenario)(sensor_name, scenario_name, scenario, selected_sensors_df, models, lag_transforms_options, ratios\u001b[38;5;241m=\u001b[39mratios)\n\u001b[0;32m    116\u001b[0m         \u001b[38;5;28;01mfor\u001b[39;00m sensor_name, scenarios \u001b[38;5;129;01min\u001b[39;00m scenarios_sensors\u001b[38;5;241m.\u001b[39mitems()\n\u001b[0;32m    117\u001b[0m         \u001b[38;5;28;01mfor\u001b[39;00m scenario_name, scenario \u001b[38;5;129;01min\u001b[39;00m scenarios\u001b[38;5;241m.\u001b[39mitems()\n\u001b[0;32m    118\u001b[0m     )\n\u001b[0;32m    120\u001b[0m     \u001b[38;5;28;01mreturn\u001b[39;00m results\n",
      "File \u001b[1;32mc:\\Users\\PC314\\anaconda3\\Lib\\site-packages\\joblib\\parallel.py:2007\u001b[0m, in \u001b[0;36mParallel.__call__\u001b[1;34m(self, iterable)\u001b[0m\n\u001b[0;32m   2001\u001b[0m \u001b[38;5;66;03m# The first item from the output is blank, but it makes the interpreter\u001b[39;00m\n\u001b[0;32m   2002\u001b[0m \u001b[38;5;66;03m# progress until it enters the Try/Except block of the generator and\u001b[39;00m\n\u001b[0;32m   2003\u001b[0m \u001b[38;5;66;03m# reaches the first `yield` statement. This starts the asynchronous\u001b[39;00m\n\u001b[0;32m   2004\u001b[0m \u001b[38;5;66;03m# dispatch of the tasks to the workers.\u001b[39;00m\n\u001b[0;32m   2005\u001b[0m \u001b[38;5;28mnext\u001b[39m(output)\n\u001b[1;32m-> 2007\u001b[0m \u001b[38;5;28;01mreturn\u001b[39;00m output \u001b[38;5;28;01mif\u001b[39;00m \u001b[38;5;28mself\u001b[39m\u001b[38;5;241m.\u001b[39mreturn_generator \u001b[38;5;28;01melse\u001b[39;00m \u001b[38;5;28mlist\u001b[39m(output)\n",
      "File \u001b[1;32mc:\\Users\\PC314\\anaconda3\\Lib\\site-packages\\joblib\\parallel.py:1650\u001b[0m, in \u001b[0;36mParallel._get_outputs\u001b[1;34m(self, iterator, pre_dispatch)\u001b[0m\n\u001b[0;32m   1647\u001b[0m     \u001b[38;5;28;01myield\u001b[39;00m\n\u001b[0;32m   1649\u001b[0m     \u001b[38;5;28;01mwith\u001b[39;00m \u001b[38;5;28mself\u001b[39m\u001b[38;5;241m.\u001b[39m_backend\u001b[38;5;241m.\u001b[39mretrieval_context():\n\u001b[1;32m-> 1650\u001b[0m         \u001b[38;5;28;01myield from\u001b[39;00m \u001b[38;5;28mself\u001b[39m\u001b[38;5;241m.\u001b[39m_retrieve()\n\u001b[0;32m   1652\u001b[0m \u001b[38;5;28;01mexcept\u001b[39;00m \u001b[38;5;167;01mGeneratorExit\u001b[39;00m:\n\u001b[0;32m   1653\u001b[0m     \u001b[38;5;66;03m# The generator has been garbage collected before being fully\u001b[39;00m\n\u001b[0;32m   1654\u001b[0m     \u001b[38;5;66;03m# consumed. This aborts the remaining tasks if possible and warn\u001b[39;00m\n\u001b[0;32m   1655\u001b[0m     \u001b[38;5;66;03m# the user if necessary.\u001b[39;00m\n\u001b[0;32m   1656\u001b[0m     \u001b[38;5;28mself\u001b[39m\u001b[38;5;241m.\u001b[39m_exception \u001b[38;5;241m=\u001b[39m \u001b[38;5;28;01mTrue\u001b[39;00m\n",
      "File \u001b[1;32mc:\\Users\\PC314\\anaconda3\\Lib\\site-packages\\joblib\\parallel.py:1754\u001b[0m, in \u001b[0;36mParallel._retrieve\u001b[1;34m(self)\u001b[0m\n\u001b[0;32m   1747\u001b[0m \u001b[38;5;28;01mwhile\u001b[39;00m \u001b[38;5;28mself\u001b[39m\u001b[38;5;241m.\u001b[39m_wait_retrieval():\n\u001b[0;32m   1748\u001b[0m \n\u001b[0;32m   1749\u001b[0m     \u001b[38;5;66;03m# If the callback thread of a worker has signaled that its task\u001b[39;00m\n\u001b[0;32m   1750\u001b[0m     \u001b[38;5;66;03m# triggered an exception, or if the retrieval loop has raised an\u001b[39;00m\n\u001b[0;32m   1751\u001b[0m     \u001b[38;5;66;03m# exception (e.g. `GeneratorExit`), exit the loop and surface the\u001b[39;00m\n\u001b[0;32m   1752\u001b[0m     \u001b[38;5;66;03m# worker traceback.\u001b[39;00m\n\u001b[0;32m   1753\u001b[0m     \u001b[38;5;28;01mif\u001b[39;00m \u001b[38;5;28mself\u001b[39m\u001b[38;5;241m.\u001b[39m_aborting:\n\u001b[1;32m-> 1754\u001b[0m         \u001b[38;5;28mself\u001b[39m\u001b[38;5;241m.\u001b[39m_raise_error_fast()\n\u001b[0;32m   1755\u001b[0m         \u001b[38;5;28;01mbreak\u001b[39;00m\n\u001b[0;32m   1757\u001b[0m     \u001b[38;5;66;03m# If the next job is not ready for retrieval yet, we just wait for\u001b[39;00m\n\u001b[0;32m   1758\u001b[0m     \u001b[38;5;66;03m# async callbacks to progress.\u001b[39;00m\n",
      "File \u001b[1;32mc:\\Users\\PC314\\anaconda3\\Lib\\site-packages\\joblib\\parallel.py:1789\u001b[0m, in \u001b[0;36mParallel._raise_error_fast\u001b[1;34m(self)\u001b[0m\n\u001b[0;32m   1785\u001b[0m \u001b[38;5;66;03m# If this error job exists, immediately raise the error by\u001b[39;00m\n\u001b[0;32m   1786\u001b[0m \u001b[38;5;66;03m# calling get_result. This job might not exists if abort has been\u001b[39;00m\n\u001b[0;32m   1787\u001b[0m \u001b[38;5;66;03m# called directly or if the generator is gc'ed.\u001b[39;00m\n\u001b[0;32m   1788\u001b[0m \u001b[38;5;28;01mif\u001b[39;00m error_job \u001b[38;5;129;01mis\u001b[39;00m \u001b[38;5;129;01mnot\u001b[39;00m \u001b[38;5;28;01mNone\u001b[39;00m:\n\u001b[1;32m-> 1789\u001b[0m     error_job\u001b[38;5;241m.\u001b[39mget_result(\u001b[38;5;28mself\u001b[39m\u001b[38;5;241m.\u001b[39mtimeout)\n",
      "File \u001b[1;32mc:\\Users\\PC314\\anaconda3\\Lib\\site-packages\\joblib\\parallel.py:745\u001b[0m, in \u001b[0;36mBatchCompletionCallBack.get_result\u001b[1;34m(self, timeout)\u001b[0m\n\u001b[0;32m    739\u001b[0m backend \u001b[38;5;241m=\u001b[39m \u001b[38;5;28mself\u001b[39m\u001b[38;5;241m.\u001b[39mparallel\u001b[38;5;241m.\u001b[39m_backend\n\u001b[0;32m    741\u001b[0m \u001b[38;5;28;01mif\u001b[39;00m backend\u001b[38;5;241m.\u001b[39msupports_retrieve_callback:\n\u001b[0;32m    742\u001b[0m     \u001b[38;5;66;03m# We assume that the result has already been retrieved by the\u001b[39;00m\n\u001b[0;32m    743\u001b[0m     \u001b[38;5;66;03m# callback thread, and is stored internally. It's just waiting to\u001b[39;00m\n\u001b[0;32m    744\u001b[0m     \u001b[38;5;66;03m# be returned.\u001b[39;00m\n\u001b[1;32m--> 745\u001b[0m     \u001b[38;5;28;01mreturn\u001b[39;00m \u001b[38;5;28mself\u001b[39m\u001b[38;5;241m.\u001b[39m_return_or_raise()\n\u001b[0;32m    747\u001b[0m \u001b[38;5;66;03m# For other backends, the main thread needs to run the retrieval step.\u001b[39;00m\n\u001b[0;32m    748\u001b[0m \u001b[38;5;28;01mtry\u001b[39;00m:\n",
      "File \u001b[1;32mc:\\Users\\PC314\\anaconda3\\Lib\\site-packages\\joblib\\parallel.py:763\u001b[0m, in \u001b[0;36mBatchCompletionCallBack._return_or_raise\u001b[1;34m(self)\u001b[0m\n\u001b[0;32m    761\u001b[0m \u001b[38;5;28;01mtry\u001b[39;00m:\n\u001b[0;32m    762\u001b[0m     \u001b[38;5;28;01mif\u001b[39;00m \u001b[38;5;28mself\u001b[39m\u001b[38;5;241m.\u001b[39mstatus \u001b[38;5;241m==\u001b[39m TASK_ERROR:\n\u001b[1;32m--> 763\u001b[0m         \u001b[38;5;28;01mraise\u001b[39;00m \u001b[38;5;28mself\u001b[39m\u001b[38;5;241m.\u001b[39m_result\n\u001b[0;32m    764\u001b[0m     \u001b[38;5;28;01mreturn\u001b[39;00m \u001b[38;5;28mself\u001b[39m\u001b[38;5;241m.\u001b[39m_result\n\u001b[0;32m    765\u001b[0m \u001b[38;5;28;01mfinally\u001b[39;00m:\n",
      "\u001b[1;31mRuntimeError\u001b[0m: The size of tensor a (676) must match the size of tensor b (60) at non-singleton dimension 1"
     ]
    }
   ],
   "source": [
    "results = run_all_scenarios_parallel(scenarios_sensors, selected_sensors_df, models=None, lag_transforms_options=None)"
   ]
  },
  {
   "cell_type": "code",
   "execution_count": null,
   "metadata": {},
   "outputs": [],
   "source": [
    "import multiprocessing\n",
    "cpu_count = multiprocessing.cpu_count()\n",
    "cpu_count"
   ]
  },
  {
   "cell_type": "code",
   "execution_count": null,
   "metadata": {},
   "outputs": [],
   "source": [
    "# Loop through scenarios and evaluate models\n",
    "results = []\n",
    "\n",
    "for sensor_name, scenarios in scenarios_sensors.items():\n",
    "    formatted_df = format_df_to_mlforecast(selected_sensors_df[['full_date', sensor_name]], 'full_date', sensor_name, unique_id=sensor_name)\n",
    "    formatted_df = formatted_df[['ds', 'y', 'unique_id']]\n",
    "\n",
    "    for scenario_name, scenario in scenarios.items():\n",
    "\n",
    "        train_df, test_df = split_data(formatted_df, scenario)\n",
    "\n",
    "        optimal_lags_list = get_optimal_lags(train_df, 'y', \n",
    "                                            # ratios=[1]\n",
    "                                            ratios=[0.33, 0.66, 1]\n",
    "                                            #  ratios=[0.25, 0.5, 0.75, 1]\n",
    "        )\n",
    "        target_transforms = get_dynamic_transforms(train_df)\n",
    "        results = evaluate_models(train_df, test_df, models, target_transforms, lag_transforms_options, optimal_lags_list, winter_weights=True)\n",
    "\n",
    "        save_results(results, f\"results/run_13/{sensor_name}_{scenario_name}.csv\") "
   ]
  }
 ],
 "metadata": {
  "kernelspec": {
   "display_name": "base",
   "language": "python",
   "name": "python3"
  },
  "language_info": {
   "codemirror_mode": {
    "name": "ipython",
    "version": 3
   },
   "file_extension": ".py",
   "mimetype": "text/x-python",
   "name": "python",
   "nbconvert_exporter": "python",
   "pygments_lexer": "ipython3",
   "version": "3.12.3"
  }
 },
 "nbformat": 4,
 "nbformat_minor": 2
}
