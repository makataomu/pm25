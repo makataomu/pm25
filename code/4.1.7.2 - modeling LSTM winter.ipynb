{
 "cells": [
  {
   "cell_type": "code",
   "execution_count": null,
   "metadata": {},
   "outputs": [],
   "source": [
    "import numpy as np\n",
    "import pandas as pd\n",
    "\n",
    "selected_sensors_df = pd.read_csv(\"../data/selected_sensors2_cleaned.csv\", index_col=0)"
   ]
  },
  {
   "cell_type": "code",
   "execution_count": null,
   "metadata": {},
   "outputs": [],
   "source": [
    "selected_sensors_df"
   ]
  },
  {
   "cell_type": "code",
   "execution_count": null,
   "metadata": {},
   "outputs": [],
   "source": [
    "from sklearn.model_selection import TimeSeriesSplit, cross_val_score\n",
    "from sklearn.pipeline import Pipeline\n",
    "from sklearn.linear_model import LinearRegression\n",
    "from sklearn.preprocessing import StandardScaler, FunctionTransformer\n",
    "from sklearn.metrics import mean_squared_error, mean_absolute_error"
   ]
  },
  {
   "cell_type": "markdown",
   "metadata": {},
   "source": [
    "## Prophet winter overfit "
   ]
  },
  {
   "cell_type": "code",
   "execution_count": null,
   "metadata": {},
   "outputs": [],
   "source": [
    "def train_test_split(series, test_size=0.2):\n",
    "    \"\"\"\n",
    "    Splits the series into train and test sets.\n",
    "\n",
    "    Parameters:\n",
    "        series (array-like): The transformed series to split.\n",
    "        test_size (float): Proportion of the series to include in the test set (default: 0.2).\n",
    "    \n",
    "    Returns:\n",
    "        tuple: (train_series, test_series)\n",
    "    \"\"\"\n",
    "    try:\n",
    "        n = len(series)\n",
    "        test_count = int(n * test_size)\n",
    "        train_series = series[:-test_count]\n",
    "        test_series = series[-test_count:]\n",
    "        return train_series, test_series\n",
    "    except Exception as e:\n",
    "        warnings.warn(f\"Failed to split series into train and test sets: {e}\")\n",
    "        return series, None\n"
   ]
  },
  {
   "cell_type": "code",
   "execution_count": null,
   "metadata": {},
   "outputs": [],
   "source": [
    "# Install Prophet if not already installed\n",
    "# !pip install prophet\n",
    "\n",
    "from prophet import Prophet\n",
    "import pandas as pd\n",
    "import matplotlib.pyplot as plt\n",
    "\n",
    "# Load and prepare data for Prophet\n",
    "df_prophet = df_train.reset_index()\n",
    "df_prophet.rename(columns={'date_time': 'ds', 'value': 'y'}, inplace=True)\n",
    "\n",
    "# Define the Prophet model\n",
    "model = Prophet(seasonality_mode='multiplicative', yearly_seasonality=True, weekly_seasonality=True, \n",
    "                holidays=kazakhstan_holidays\n",
    "                )\n",
    "model.add_seasonality(name='monthly', period=30.5, fourier_order=8)"
   ]
  },
  {
   "cell_type": "code",
   "execution_count": null,
   "metadata": {},
   "outputs": [],
   "source": [
    "from itertools import product\n",
    "\n",
    "# Define parameter grid\n",
    "param_grid = {\n",
    "    'changepoint_prior_scale': np.arange(0.01, 0.25, 0.05),\n",
    "    'seasonality_prior_scale': np.arange(0.5, 5, 0.5)\n",
    "}\n",
    "\n",
    "# Run a grid search\n",
    "best_mape = float('inf')\n",
    "best_params = None\n",
    "\n",
    "for params in product(param_grid['changepoint_prior_scale'], param_grid['seasonality_prior_scale']):\n",
    "    model = Prophet(changepoint_prior_scale=params[0], seasonality_prior_scale=params[1], yearly_seasonality=True, weekly_seasonality=True, seasonality_mode='multiplicative')\n",
    "    model.fit(df_prophet)\n",
    "    forecast = model.predict(future)\n",
    "    \n",
    "    # Evaluate\n",
    "    forecast_values = forecast[['ds', 'yhat']].set_index('ds').loc[test_data_prophet['ds']]\n",
    "    mape = mean_absolute_percentage_error(test_data_prophet['y'], forecast_values['yhat']) * 100\n",
    "    \n",
    "    if mape < best_mape:\n",
    "        best_mape = mape\n",
    "        best_params = params\n",
    "\n",
    "print(f\"Best Params: {best_params}, Best MAPE: {best_mape}%\")\n"
   ]
  },
  {
   "cell_type": "markdown",
   "metadata": {},
   "source": [
    "## lstm"
   ]
  },
  {
   "cell_type": "code",
   "execution_count": null,
   "metadata": {},
   "outputs": [],
   "source": []
  },
  {
   "cell_type": "code",
   "execution_count": null,
   "metadata": {},
   "outputs": [],
   "source": []
  }
 ],
 "metadata": {
  "kernelspec": {
   "display_name": "base",
   "language": "python",
   "name": "python3"
  },
  "language_info": {
   "codemirror_mode": {
    "name": "ipython",
    "version": 3
   },
   "file_extension": ".py",
   "mimetype": "text/x-python",
   "name": "python",
   "nbconvert_exporter": "python",
   "pygments_lexer": "ipython3",
   "version": "3.12.3"
  }
 },
 "nbformat": 4,
 "nbformat_minor": 2
}
