{
 "cells": [
  {
   "cell_type": "code",
   "execution_count": 22,
   "metadata": {},
   "outputs": [],
   "source": [
    "import pandas as pd\n",
    "import time\n",
    "import matplotlib.pyplot as plt\n",
    "import plotly.express as px\n",
    "import plotly.graph_objects as go"
   ]
  },
  {
   "cell_type": "code",
   "execution_count": 23,
   "metadata": {},
   "outputs": [],
   "source": [
    "from numba import njit\n",
    "from window_ops.expanding import expanding_mean\n",
    "from window_ops.rolling import rolling_mean\n",
    "\n",
    "@njit\n",
    "def rolling_mean_14(x):\n",
    "    return rolling_mean(x, window_size=14)\n",
    "@njit\n",
    "def rolling_mean_30(x):\n",
    "    return rolling_mean(x, window_size=30)"
   ]
  },
  {
   "cell_type": "code",
   "execution_count": 24,
   "metadata": {},
   "outputs": [],
   "source": [
    "def format_df_to_mlforecast(df, date_col, target_col, unique_id='mean'):\n",
    "    df_ = df.rename({\n",
    "        date_col: \"ds\",\n",
    "        # target_col: 'y',\n",
    "    }, axis=1)\n",
    "\n",
    "    df_['ds'] = pd.to_datetime(df_['ds'])\n",
    "\n",
    "    df_['y'] = df_[target_col].copy()\n",
    "    # df_.drop(columns=target_col)\n",
    "\n",
    "    df_['unique_id'] = unique_id\n",
    "    return df_"
   ]
  },
  {
   "cell_type": "code",
   "execution_count": 25,
   "metadata": {},
   "outputs": [],
   "source": [
    "selected_sensors_df = pd.read_csv(\"../data/selected_sensors2_cleaned.csv\", index_col=0)\n",
    "\n",
    "import dill\n",
    "\n",
    "with open(r\"results_of_results\\run_7\\mlforecast_model.dill\", 'rb') as f:\n",
    "    selected_model_config = dill.load(f)\n",
    "\n",
    "prophet_roll_df = pd.read_csv('results_of_results/prophet_roll7_2.csv')"
   ]
  },
  {
   "cell_type": "code",
   "execution_count": 26,
   "metadata": {},
   "outputs": [],
   "source": [
    "scenarios_sensors = {\n",
    "    '2': {\n",
    "        \"12M_train\":  {\"train_start\": \"2018-04-02\", \"train_end\": \"2019-04-01\"},\n",
    "        },\n",
    "}\n",
    "# scenarios_sensors['5'] = scenarios_sensors['2'].copy()\n",
    "# scenarios_sensors['6'] = scenarios_sensors['2'].copy()"
   ]
  },
  {
   "cell_type": "code",
   "execution_count": 27,
   "metadata": {},
   "outputs": [
    {
     "name": "stderr",
     "output_type": "stream",
     "text": [
      "2025-04-05 17:12:28,203\tINFO util.py:154 -- Outdated packages:\n",
      "  ipywidgets==7.8.1 found, needs ipywidgets>=8\n",
      "Run `pip install -U ipywidgets`, then restart the notebook server for rich notebook output.\n",
      "2025-04-05 17:12:28,433\tINFO util.py:154 -- Outdated packages:\n",
      "  ipywidgets==7.8.1 found, needs ipywidgets>=8\n",
      "Run `pip install -U ipywidgets`, then restart the notebook server for rich notebook output.\n"
     ]
    }
   ],
   "source": [
    "from MLForecastPipeline import *"
   ]
  },
  {
   "cell_type": "code",
   "execution_count": 28,
   "metadata": {},
   "outputs": [],
   "source": [
    "def split_data(df, scenario, date_col=\"ds\"):\n",
    "    \"\"\"Extracts train and test data based on train end date.\"\"\"\n",
    "    train_data = df[df[date_col] <= scenario['train_end']]\n",
    "    test_start = pd.to_datetime(scenario['train_end']) + pd.Timedelta(days=1)\n",
    "    test_data = df[df[date_col] >= test_start]\n",
    "    return train_data, test_data"
   ]
  },
  {
   "cell_type": "code",
   "execution_count": 49,
   "metadata": {},
   "outputs": [
    {
     "name": "stderr",
     "output_type": "stream",
     "text": [
      "C:\\Users\\PC314\\AppData\\Local\\Temp\\ipykernel_16236\\1018710354.py:79: SettingWithCopyWarning: \n",
      "A value is trying to be set on a copy of a slice from a DataFrame.\n",
      "Try using .loc[row_indexer,col_indexer] = value instead\n",
      "\n",
      "See the caveats in the documentation: https://pandas.pydata.org/pandas-docs/stable/user_guide/indexing.html#returning-a-view-versus-a-copy\n",
      "  preds2['ds'] = pd.to_datetime(preds2['ds'])\n"
     ]
    },
    {
     "data": {
      "application/vnd.microsoft.datawrangler.viewer.v0+json": {
       "columns": [
        {
         "name": "index",
         "rawType": "int64",
         "type": "integer"
        },
        {
         "name": "model",
         "rawType": "object",
         "type": "string"
        },
        {
         "name": "rmse",
         "rawType": "float64",
         "type": "float"
        },
        {
         "name": "mae",
         "rawType": "float64",
         "type": "float"
        },
        {
         "name": "mape",
         "rawType": "float64",
         "type": "float"
        }
       ],
       "conversionMethod": "pd.DataFrame",
       "ref": "74872fc2-8f28-454a-9a74-fb6d45db20f4",
       "rows": [
        [
         "0",
         "LinearRegression",
         "17.546106181260026",
         "11.895525533723962",
         "0.3419984536839041"
        ],
        [
         "1",
         "Ridge",
         "17.546091964853595",
         "11.895502250481096",
         "0.3419985081101116"
        ],
        [
         "2",
         "RandomForest",
         "21.444745454888753",
         "13.629224154024984",
         "0.4063279984039439"
        ],
        [
         "3",
         "GradientBoosting",
         "21.6322149621165",
         "13.346829525282308",
         "0.3735733702172256"
        ],
        [
         "4",
         "Stacking",
         "17.319418140163005",
         "11.621256561615567",
         "0.3337671989833059"
        ]
       ],
       "shape": {
        "columns": 4,
        "rows": 5
       }
      },
      "text/html": [
       "<div>\n",
       "<style scoped>\n",
       "    .dataframe tbody tr th:only-of-type {\n",
       "        vertical-align: middle;\n",
       "    }\n",
       "\n",
       "    .dataframe tbody tr th {\n",
       "        vertical-align: top;\n",
       "    }\n",
       "\n",
       "    .dataframe thead th {\n",
       "        text-align: right;\n",
       "    }\n",
       "</style>\n",
       "<table border=\"1\" class=\"dataframe\">\n",
       "  <thead>\n",
       "    <tr style=\"text-align: right;\">\n",
       "      <th></th>\n",
       "      <th>model</th>\n",
       "      <th>rmse</th>\n",
       "      <th>mae</th>\n",
       "      <th>mape</th>\n",
       "    </tr>\n",
       "  </thead>\n",
       "  <tbody>\n",
       "    <tr>\n",
       "      <th>0</th>\n",
       "      <td>LinearRegression</td>\n",
       "      <td>17.546106</td>\n",
       "      <td>11.895526</td>\n",
       "      <td>0.341998</td>\n",
       "    </tr>\n",
       "    <tr>\n",
       "      <th>1</th>\n",
       "      <td>Ridge</td>\n",
       "      <td>17.546092</td>\n",
       "      <td>11.895502</td>\n",
       "      <td>0.341999</td>\n",
       "    </tr>\n",
       "    <tr>\n",
       "      <th>2</th>\n",
       "      <td>RandomForest</td>\n",
       "      <td>21.444745</td>\n",
       "      <td>13.629224</td>\n",
       "      <td>0.406328</td>\n",
       "    </tr>\n",
       "    <tr>\n",
       "      <th>3</th>\n",
       "      <td>GradientBoosting</td>\n",
       "      <td>21.632215</td>\n",
       "      <td>13.346830</td>\n",
       "      <td>0.373573</td>\n",
       "    </tr>\n",
       "    <tr>\n",
       "      <th>4</th>\n",
       "      <td>Stacking</td>\n",
       "      <td>17.319418</td>\n",
       "      <td>11.621257</td>\n",
       "      <td>0.333767</td>\n",
       "    </tr>\n",
       "  </tbody>\n",
       "</table>\n",
       "</div>"
      ],
      "text/plain": [
       "              model       rmse        mae      mape\n",
       "0  LinearRegression  17.546106  11.895526  0.341998\n",
       "1             Ridge  17.546092  11.895502  0.341999\n",
       "2      RandomForest  21.444745  13.629224  0.406328\n",
       "3  GradientBoosting  21.632215  13.346830  0.373573\n",
       "4          Stacking  17.319418  11.621257  0.333767"
      ]
     },
     "execution_count": 49,
     "metadata": {},
     "output_type": "execute_result"
    }
   ],
   "source": [
    "import pandas as pd\n",
    "from sklearn.linear_model import Ridge\n",
    "from sklearn.ensemble import RandomForestRegressor, GradientBoostingRegressor\n",
    "from sklearn.metrics import root_mean_squared_error, mean_absolute_error, mean_absolute_percentage_error\n",
    "from sklearn.model_selection import TimeSeriesSplit\n",
    "import numpy as np\n",
    "from sklearn.linear_model import Ridge, LinearRegression\n",
    "from sklearn.ensemble import RandomForestRegressor, GradientBoostingRegressor, StackingRegressor\n",
    "\n",
    "\n",
    "def prepare_ensemble_data(y_true, preds1, preds2, pred_col1='y_pred', pred_col2='y_pred'):\n",
    "    if pred_col1 not in preds1.columns:\n",
    "        raise KeyError(pred_col1)\n",
    "    df = pd.merge(preds1.rename(columns={pred_col1: 'model1'}),\n",
    "                  preds2.rename(columns={pred_col2: 'model2'}),\n",
    "                  on='ds')\n",
    "    df = pd.merge(df, y_true, on='ds')\n",
    "    return df\n",
    "\n",
    "def split_by_year(df):\n",
    "    df['ds'] = pd.to_datetime(df['ds'])\n",
    "    df['year'] = df['ds'].dt.year\n",
    "    train_year = df['year'].min()\n",
    "    test_year = df['year'].max()\n",
    "    df_train = df[df['year'] == train_year]\n",
    "    df_test = df[df['year'] == test_year]\n",
    "    return df_train.drop(columns='year'), df_test.drop(columns='year')\n",
    "\n",
    "def train_and_evaluate_ensemblers(df_train, df_test):\n",
    "    X_train = df_train[['model1', 'model2']]\n",
    "    y_train = df_train['y']\n",
    "    X_test = df_test[['model1', 'model2']]\n",
    "    y_test = df_test['y']\n",
    "\n",
    "    models = {\n",
    "        'LinearRegression': LinearRegression(),\n",
    "        'Ridge': Ridge(),\n",
    "        'RandomForest': RandomForestRegressor(n_estimators=100, random_state=42),\n",
    "        'GradientBoosting': GradientBoostingRegressor(n_estimators=100, random_state=42),\n",
    "        'Stacking': StackingRegressor(\n",
    "            estimators=[\n",
    "                ('lr', Ridge()),\n",
    "                ('rf', RandomForestRegressor(n_estimators=50, random_state=42)),\n",
    "                ('gb', GradientBoostingRegressor(n_estimators=50, random_state=42))\n",
    "            ],\n",
    "            final_estimator=Ridge()\n",
    "        )\n",
    "    }\n",
    "\n",
    "    results = []\n",
    "\n",
    "    for name, model in models.items():\n",
    "        model.fit(X_train, y_train)\n",
    "        preds = model.predict(X_test)\n",
    "        rmse = root_mean_squared_error(y_test, preds)\n",
    "        mae = mean_absolute_error(y_test, preds)\n",
    "        mape = mean_absolute_percentage_error(y_test, preds)\n",
    "        results.append({\n",
    "            'model': name,\n",
    "            'rmse': rmse,\n",
    "            'mae': mae,\n",
    "            'mape': mape\n",
    "        })\n",
    "\n",
    "    return pd.DataFrame(results)\n",
    "\n",
    "# Usage\n",
    "# preds1 = pd.DataFrame({'ds': ..., 'y_pred': ...})\n",
    "# preds2 = pd.DataFrame({'ds': ..., 'y_pred': ...})\n",
    "# y_true = pd.DataFrame({'ds': ..., 'y': ...})\n",
    "preds1 = selected_model_config['test_df']\n",
    "preds1 = preds1[preds1['unique_id'] == '2'][['ds', 'forecast']]\n",
    "\n",
    "preds2 = prophet_roll_df[['ds', 'yhat']]\n",
    "y_true_df = selected_sensors_df.rename(columns={'full_date': 'ds', '2': 'y'})\n",
    "scenario = scenarios_sensors['2']['12M_train']\n",
    "\n",
    "preds1['ds'] = pd.to_datetime(preds1['ds'])\n",
    "preds2['ds'] = pd.to_datetime(preds2['ds'])\n",
    "y_true_df['ds'] = pd.to_datetime(y_true_df['ds'])\n",
    "\n",
    "df = prepare_ensemble_data(preds1=preds1, preds2=preds2, y_true=y_true_df, pred_col1='forecast', pred_col2='yhat')\n",
    "df_train, df_test = split_data(df, scenario)\n",
    "metrics_df = train_and_evaluate_ensemblers(df_train, df_test)\n",
    "metrics_df"
   ]
  },
  {
   "cell_type": "code",
   "execution_count": 48,
   "metadata": {},
   "outputs": [
    {
     "data": {
      "text/plain": [
       "0.3074422799534196"
      ]
     },
     "execution_count": 48,
     "metadata": {},
     "output_type": "execute_result"
    }
   ],
   "source": [
    "mean_absolute_percentage_error(y_true_df[y_true_df['ds'] > '2019-04-01']['y'], preds1[preds1['ds'] > '2019-04-01']['forecast'])"
   ]
  }
 ],
 "metadata": {
  "kernelspec": {
   "display_name": "base",
   "language": "python",
   "name": "python3"
  },
  "language_info": {
   "codemirror_mode": {
    "name": "ipython",
    "version": 3
   },
   "file_extension": ".py",
   "mimetype": "text/x-python",
   "name": "python",
   "nbconvert_exporter": "python",
   "pygments_lexer": "ipython3",
   "version": "3.12.3"
  }
 },
 "nbformat": 4,
 "nbformat_minor": 2
}
