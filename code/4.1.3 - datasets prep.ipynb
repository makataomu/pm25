{
 "cells": [
  {
   "cell_type": "code",
   "execution_count": 7,
   "metadata": {},
   "outputs": [],
   "source": [
    "import pandas as pd\n",
    "import time\n",
    "import matplotlib.pyplot as plt\n",
    "import plotly.express as px\n",
    "import plotly.graph_objects as go"
   ]
  },
  {
   "cell_type": "code",
   "execution_count": 8,
   "metadata": {},
   "outputs": [],
   "source": [
    "from numba import njit\n",
    "from window_ops.expanding import expanding_mean\n",
    "from window_ops.rolling import rolling_mean\n",
    "\n",
    "@njit\n",
    "def rolling_mean_14(x):\n",
    "    return rolling_mean(x, window_size=14)\n",
    "@njit\n",
    "def rolling_mean_30(x):\n",
    "    return rolling_mean(x, window_size=30)"
   ]
  },
  {
   "cell_type": "code",
   "execution_count": 9,
   "metadata": {},
   "outputs": [],
   "source": [
    "def format_df_to_mlforecast(df, date_col, target_col, unique_id='mean'):\n",
    "    df_ = df.rename({\n",
    "        date_col: \"ds\",\n",
    "        # target_col: 'y',\n",
    "    }, axis=1)\n",
    "\n",
    "    df_['ds'] = pd.to_datetime(df_['ds'])\n",
    "\n",
    "    df_['y'] = df_[target_col].copy()\n",
    "    # df_.drop(columns=target_col)\n",
    "\n",
    "    df_['unique_id'] = unique_id\n",
    "    return df_"
   ]
  },
  {
   "cell_type": "code",
   "execution_count": 10,
   "metadata": {},
   "outputs": [],
   "source": [
    "selected_sensors_df = pd.read_csv(\"../data/selected_sensors2_cleaned.csv\", index_col=0)"
   ]
  },
  {
   "cell_type": "code",
   "execution_count": null,
   "metadata": {},
   "outputs": [],
   "source": [
    "scenarios_sensors = {\n",
    "    # 0: 1, 4372603\n",
    "    # \"0_12M_train_7M_test\": {\"train_start\": \"2017-03-25\", \"train_end\": \"2018-03-25\", \"test_start\": \"2018-03-26\", \"test_end\": \"2018-10-10\"},\n",
    "    '2': {\n",
    "        \"10M_train_9M_test\":  {\"train_start\": \"2017-04-01\", \"train_end\": \"2018-01-25\", \"test_start\": \"2018-01-26\", \"test_end\": \"2018-10-10\"},\n",
    "        \"8M_train_11M_test\":  {\"train_start\": \"2017-04-01\", \"train_end\": \"2017-10-25\", \"test_start\": \"2017-10-26\", \"test_end\": \"2018-10-10\"},\n",
    "        \n",
    "        # Non-Heating Periods\n",
    "        \"NH_3M_train_3M_test\":  {\"train_start\": \"2017-04-15\", \"train_end\": \"2017-07-15\", \"test_start\": \"2017-07-16\", \"test_end\": \"2017-10-01\"},\n",
    "        \"NH_4M_train_2M_test\":  {\"train_start\": \"2017-04-15\", \"train_end\": \"2017-08-15\", \"test_start\": \"2017-08-16\", \"test_end\": \"2017-10-01\"},\n",
    "        \"NH_2M_train_4M_test\":  {\"train_start\": \"2017-04-15\", \"train_end\": \"2017-06-15\", \"test_start\": \"2017-06-16\", \"test_end\": \"2017-10-01\"},\n",
    "        \"NH_1M_train_5M_test\":  {\"train_start\": \"2017-04-15\", \"train_end\": \"2017-05-15\", \"test_start\": \"2017-05-16\", \"test_end\": \"2017-10-01\"},\n",
    "        \"NH_15D_train_5M_test\": {\"train_start\": \"2017-04-15\", \"train_end\": \"2017-04-30\", \"test_start\": \"2017-05-01\", \"test_end\": \"2017-10-01\"},\n",
    "        \"NH_feb_2M_train_4M_test\": {\"train_start\": \"2017-02-15\", \"train_end\": \"2017-04-15\", \"test_start\": \"2017-04-16\", \"test_end\": \"2017-08-16\"},\n",
    "        \"NH_feb_1M_train_4M_test\": {\"train_start\": \"2017-02-15\", \"train_end\": \"2017-04-15\", \"test_start\": \"2017-04-16\", \"test_end\": \"2017-08-16\"},\n",
    "        \"NH_mar_2M_train_4M_test\": {\"train_start\": \"2017-03-15\", \"train_end\": \"2017-05-15\", \"test_start\": \"2017-05-16\", \"test_end\": \"2017-09-16\"},\n",
    "        \"NH_mar_1M_train_4M_test\": {\"train_start\": \"2017-03-15\", \"train_end\": \"2017-04-15\", \"test_start\": \"2017-05-16\", \"test_end\": \"2017-09-16\"},\n",
    "\n",
    "        # Heating Periods\n",
    "        \"H_5M_train_1Y_test\":     {\"train_start\": \"2017-06-01\", \"train_end\": \"2017-11-01\", \"test_start\": \"2017-11-02\", \"test_end\": \"2018-10-10\"},\n",
    "        \"H_3M_jul_train_1Y_test\": {\"train_start\": \"2017-07-01\", \"train_end\": \"2017-10-10\", \"test_start\": \"2017-10-11\", \"test_end\": \"2018-10-10\"},\n",
    "        \"H_3M_sep_train_1Y_test\": {\"train_start\": \"2017-09-01\", \"train_end\": \"2017-12-10\", \"test_start\": \"2017-12-11\", \"test_end\": \"2018-12-10\"},\n",
    "        \"H_3M_nov_train_1Y_test\": {\"train_start\": \"2017-11-01\", \"train_end\": \"2018-02-10\", \"test_start\": \"2018-02-11\", \"test_end\": \"2018-12-10\"},\n",
    "        },\n",
    "}\n",
    "scenarios_sensors['5'] = scenarios_sensors['2'].copy()\n",
    "scenarios_sensors['6'] = scenarios_sensors['2'].copy()"
   ]
  },
  {
   "cell_type": "code",
   "execution_count": 12,
   "metadata": {},
   "outputs": [],
   "source": [
    "from MLForecastPipeline import *"
   ]
  },
  {
   "cell_type": "code",
   "execution_count": 13,
   "metadata": {},
   "outputs": [],
   "source": [
    "def get_seasonal_data(df, start_date, end_date, date_col=\"ds\"):\n",
    "    \"\"\"Filters data for a specific seasonal period.\"\"\"\n",
    "    return df[(df[date_col] >= start_date) & (df[date_col] <= end_date)]\n",
    "\n",
    "def split_data(df, scenario, date_col=\"ds\"):\n",
    "    \"\"\"Extracts train and test data based on a given time window scenario.\"\"\"\n",
    "    train_data = get_seasonal_data(df, scenario[\"train_start\"], scenario[\"train_end\"], date_col)\n",
    "    test_data = get_seasonal_data(df, scenario[\"test_start\"], scenario[\"test_end\"], date_col)\n",
    "    return train_data, test_data\n",
    "\n",
    "models = {\n",
    "    \"XGBRegressor\": XGBRegressor(),\n",
    "    \"SGDRegressor_42\": SGDRegressor(random_state=42),\n",
    "    \"SGDRegressor_1\": SGDRegressor(random_state=1),\n",
    "    \"Ridge\": Ridge(),\n",
    "    \"Lasso\": Lasso()\n",
    "}\n",
    "\n",
    "# Define lag transformations\n",
    "\n",
    "lag_transforms_options = [\n",
    "    {1: [expanding_mean], 7: [rolling_mean_14], 30: [expanding_mean]},\n",
    "    {1: [rolling_mean_14], 7: [rolling_mean_30], 30: [expanding_mean]},\n",
    "    {1: [rolling_mean_14], 30: [expanding_mean]},\n",
    "    # {1: [rolling_mean_14]},\n",
    "    # {},\n",
    "]"
   ]
  },
  {
   "cell_type": "code",
   "execution_count": null,
   "metadata": {},
   "outputs": [],
   "source": [
    "# from tqdm.notebook import trange, tqdm\n",
    "# from time import sleep\n",
    "\n",
    "# for i in trange(3, desc='1st loop'):\n",
    "#     for j in tqdm(range(100), desc='2nd loop'):\n",
    "#         sleep(0.01)"
   ]
  },
  {
   "cell_type": "code",
   "execution_count": null,
   "metadata": {},
   "outputs": [],
   "source": [
    "from joblib import Parallel, delayed\n",
    "import time\n",
    "\n",
    "def process_scenario(sensor_name, scenario_name, scenario, selected_sensors_df, models, lag_transforms_options, ratios=[0.33, 0.66, 1]):\n",
    "    \"\"\" Process each scenario independently and save results. \"\"\"\n",
    "    formatted_df = format_df_to_mlforecast(selected_sensors_df[['full_date', sensor_name]], 'full_date', sensor_name, unique_id=sensor_name)\n",
    "    formatted_df = formatted_df[['ds', 'y', 'unique_id']]\n",
    "    \n",
    "    train_df, test_df = split_data(formatted_df, scenario)\n",
    "    optimal_lags_list = get_optimal_lags(train_df, 'y', ratios=ratios)\n",
    "    target_transforms = get_dynamic_transforms(train_df)\n",
    "\n",
    "    results = evaluate_models(train_df, test_df, models, target_transforms, lag_transforms_options, optimal_lags_list)\n",
    "\n",
    "    # Save results\n",
    "    save_results(results, f\"results/{scenario_name}.csv\")\n",
    "\n",
    "    return results\n",
    "\n",
    "def run_all_scenarios_parallel(scenarios_sensors, selected_sensors_df, models, lag_transforms_options, ratios=[0.33, 0.66, 1]):\n",
    "    results = Parallel(n_jobs=-1)(\n",
    "        delayed(process_scenario)(sensor_name, scenario_name, scenario, selected_sensors_df, models, lag_transforms_options, ratios=ratios)\n",
    "        for sensor_name, scenarios in scenarios_sensors.items()\n",
    "        for scenario_name, scenario in scenarios.items()\n",
    "    )\n",
    "\n",
    "    return results\n"
   ]
  },
  {
   "cell_type": "code",
   "execution_count": null,
   "metadata": {},
   "outputs": [],
   "source": [
    "results = run_all_scenarios_parallel(scenarios_sensors, selected_sensors_df, models, lag_transforms_options)"
   ]
  },
  {
   "cell_type": "code",
   "execution_count": null,
   "metadata": {},
   "outputs": [],
   "source": [
    "# Loop through scenarios and evaluate models\n",
    "results = []\n",
    "\n",
    "for sensor_name, scenarios in scenarios_sensors.items():\n",
    "    formatted_df = format_df_to_mlforecast(selected_sensors_df[['full_date', sensor_name]], 'full_date', sensor_name, unique_id=sensor_name)\n",
    "    formatted_df = formatted_df[['ds', 'y', 'unique_id']]\n",
    "\n",
    "    for scenario_name, scenario in scenarios.items():\n",
    "\n",
    "        train_df, test_df = split_data(formatted_df, scenario)\n",
    "\n",
    "        optimal_lags_list = get_optimal_lags(train_df, 'y', \n",
    "                                            ratios=[1]\n",
    "                                            # ratios=[0.33, 0.66, 1]\n",
    "                                            #  ratios=[0.25, 0.5, 0.75, 1]\n",
    "        )\n",
    "        target_transforms = get_dynamic_transforms(train_df)\n",
    "        results = evaluate_models(train_df, test_df, models, target_transforms, lag_transforms_options, optimal_lags_list)\n",
    "\n",
    "        save_results(results, f\"results/{scenario_name}.csv\") "
   ]
  },
  {
   "cell_type": "code",
   "execution_count": null,
   "metadata": {},
   "outputs": [],
   "source": [
    "start = time.perf_counter()\n",
    "\n",
    "results = []\n",
    "for sensor_name, scenarios in scenarios_sensors.items():\n",
    "    formatted_df = format_df_to_mlforecast(selected_sensors_df[['full_date', sensor_name]], 'full_date', sensor_name, unique_id=sensor_name)\n",
    "    formatted_df = formatted_df[['ds', 'y', 'unique_id']]\n",
    "\n",
    "    for scenario_name, scenario in scenarios.items():\n",
    "\n",
    "        train_df, test_df = split_data(formatted_df, scenario)\n",
    "\n",
    "        optimal_lags_list = get_optimal_lags(train_df, 'y', \n",
    "                                            ratios=[1]\n",
    "                                            # ratios=[0.33, 0.66, 1]\n",
    "                                            #  ratios=[0.25, 0.5, 0.75, 1]\n",
    "        )\n",
    "        target_transforms = get_dynamic_transforms(train_df)\n",
    "        results = parallel_evaluate_models(train_df, test_df, models, target_transforms, lag_transforms_options, optimal_lags_list)\n",
    "\n",
    "        save_results(results, f\"results/{scenario_name}.csv\") \n",
    "\n",
    "end = time.perf_counter()"
   ]
  },
  {
   "cell_type": "code",
   "execution_count": null,
   "metadata": {},
   "outputs": [],
   "source": [
    "results"
   ]
  }
 ],
 "metadata": {
  "kernelspec": {
   "display_name": "venv",
   "language": "python",
   "name": "python3"
  },
  "language_info": {
   "codemirror_mode": {
    "name": "ipython",
    "version": 3
   },
   "file_extension": ".py",
   "mimetype": "text/x-python",
   "name": "python",
   "nbconvert_exporter": "python",
   "pygments_lexer": "ipython3",
   "version": "3.12.7"
  }
 },
 "nbformat": 4,
 "nbformat_minor": 2
}
