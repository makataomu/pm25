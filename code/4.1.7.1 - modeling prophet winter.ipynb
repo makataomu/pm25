{
 "cells": [
  {
   "cell_type": "code",
   "execution_count": 15,
   "metadata": {},
   "outputs": [],
   "source": [
    "import numpy as np\n",
    "import pandas as pd\n",
    "from sklearn.model_selection import TimeSeriesSplit, cross_val_score\n",
    "from sklearn.pipeline import Pipeline\n",
    "from sklearn.linear_model import LinearRegression\n",
    "from sklearn.preprocessing import StandardScaler, FunctionTransformer\n",
    "from sklearn.metrics import mean_squared_error, mean_absolute_error\n"
   ]
  },
  {
   "cell_type": "code",
   "execution_count": 26,
   "metadata": {},
   "outputs": [
    {
     "data": {
      "application/vnd.microsoft.datawrangler.viewer.v0+json": {
       "columns": [
        {
         "name": "index",
         "rawType": "int64",
         "type": "integer"
        },
        {
         "name": "full_date",
         "rawType": "object",
         "type": "string"
        },
        {
         "name": "2",
         "rawType": "float64",
         "type": "float"
        },
        {
         "name": "5",
         "rawType": "float64",
         "type": "float"
        },
        {
         "name": "6",
         "rawType": "float64",
         "type": "float"
        }
       ],
       "conversionMethod": "pd.DataFrame",
       "ref": "2a76db1a-1f6f-45d7-ae84-ae8ff0fd3df7",
       "rows": [
        [
         "0",
         "2017-03-22",
         "40.683844011142064",
         "39.02291666666667",
         "33.55038220986796"
        ],
        [
         "1",
         "2017-03-23",
         "29.237465181058496",
         "24.60632183908046",
         "23.76527777777778"
        ],
        [
         "2",
         "2017-03-24",
         "43.675636363636364",
         "32.66202090592334",
         "24.12752613240418"
        ],
        [
         "3",
         "2017-03-25",
         "58.79221681723419",
         "73.68850174216028",
         "57.90271021542738"
        ],
        [
         "4",
         "2017-03-26",
         "48.34840055632824",
         "41.90181058495822",
         "28.81111111111111"
        ],
        [
         "5",
         "2017-03-27",
         "25.86610878661088",
         "24.221140472879",
         "21.971507991660875"
        ],
        [
         "6",
         "2017-03-28",
         "23.530967292971468",
         "27.72144846796657",
         "23.299120234604107"
        ],
        [
         "7",
         "2017-03-29",
         "31.14435879467414",
         "22.707028531663187",
         "18.757828810020875"
        ],
        [
         "8",
         "2017-03-30",
         "29.700139470013948",
         "23.842032011134307",
         "23.87143849895761"
        ],
        [
         "9",
         "2017-03-31",
         "30.5427974947808",
         "47.537178596247394",
         "30.421418636995828"
        ],
        [
         "10",
         "2017-04-01",
         "23.582302568981923",
         "31.903337969401942",
         "30.690542420027818"
        ],
        [
         "11",
         "2017-04-02",
         "37.50071022727273",
         "42.349338900487126",
         "41.16225626740947"
        ],
        [
         "12",
         "2017-04-03",
         "32.33508956796628",
         "41.77105080027836",
         "40.91597222222222"
        ],
        [
         "13",
         "2017-04-04",
         "44.31082118188795",
         "38.121593291404615",
         "37.17085076708508"
        ],
        [
         "14",
         "2017-04-05",
         "55.17132867132867",
         "53.64722222222223",
         "52.87526132404181"
        ],
        [
         "15",
         "2017-04-06",
         "51.85161744022504",
         "49.09861111111111",
         "47.21820708825573"
        ],
        [
         "16",
         "2017-04-07",
         "36.998046875",
         "33.08286908077994",
         "28.031944444444445"
        ],
        [
         "17",
         "2017-04-08",
         "44.327856025039125",
         "24.5076495132128",
         "17.85"
        ],
        [
         "18",
         "2017-04-09",
         "49.2080723729993",
         "28.88399708949794",
         "22.64994947532064"
        ],
        [
         "19",
         "2017-04-10",
         "49.50386507378777",
         "20.073018080667595",
         "16.17361111111111"
        ],
        [
         "20",
         "2017-04-11",
         "22.058950395398995",
         "15.220138888888888",
         "14.069444444444445"
        ],
        [
         "21",
         "2017-04-12",
         "8.032235459004905",
         "33.06041666666667",
         "30.033356497567755"
        ],
        [
         "22",
         "2017-04-13",
         "12.694226657163222",
         "26.38055555555556",
         "27.12986111111111"
        ],
        [
         "23",
         "2017-04-14",
         "18.97103548153512",
         "26.05625",
         "25.1782729805014"
        ],
        [
         "24",
         "2017-04-15",
         "34.03138075313807",
         "27.386648122392213",
         "24.3769123783032"
        ],
        [
         "25",
         "2017-04-16",
         "44.59357541899441",
         "25.28489620615605",
         "20.06328233657858"
        ],
        [
         "26",
         "2017-04-17",
         "19.8845050215208",
         "22.58125",
         "22.847009735744088"
        ],
        [
         "27",
         "2017-04-18",
         "31.38434414668547",
         "14.177453027139874",
         "11.852777777777778"
        ],
        [
         "28",
         "2017-04-19",
         "37.45705521472393",
         "26.918021201413428",
         "17.873640167364016"
        ],
        [
         "29",
         "2017-04-20",
         "22.19706498951782",
         "37.60356347438753",
         "29.435146443514643"
        ],
        [
         "30",
         "2017-04-21",
         "19.06633733239238",
         "32.45804051240469",
         "32.74236111111111"
        ],
        [
         "31",
         "2017-04-22",
         "17.776462395543174",
         "27.930313588850176",
         "20.8498957609451"
        ],
        [
         "32",
         "2017-04-23",
         "19.914804469273744",
         "21.14305555555556",
         "15.997916666666669"
        ],
        [
         "33",
         "2017-04-24",
         "19.3562412342216",
         "27.43929824561404",
         "23.61306179775281"
        ],
        [
         "34",
         "2017-04-25",
         "19.16890459363957",
         "20.294979079497907",
         "17.17794836008374"
        ],
        [
         "35",
         "2017-04-26",
         "19.68975265017668",
         "25.16759388038943",
         "22.42708333333333"
        ],
        [
         "36",
         "2017-04-27",
         "9.913616398243043",
         "31.50730688935282",
         "27.2821403752606"
        ],
        [
         "37",
         "2017-04-28",
         "8.162952646239555",
         "23.779944289693592",
         "16.558803061934587"
        ],
        [
         "38",
         "2017-04-29",
         "18.62831241283124",
         "13.680555555555555",
         "12.668289290681502"
        ],
        [
         "39",
         "2017-04-30",
         "19.75091041514931",
         "20.156576200417536",
         "13.688718662952644"
        ],
        [
         "40",
         "2017-05-01",
         "13.228890439637125",
         "12.113668061366806",
         "10.98745644599303"
        ],
        [
         "41",
         "2017-05-02",
         "29.64772727272728",
         "7.458594293667362",
         "7.040305767894371"
        ],
        [
         "42",
         "2017-05-03",
         "19.522585128561506",
         "16.493741307371348",
         "15.50557880055788"
        ],
        [
         "43",
         "2017-05-04",
         "27.33727399165508",
         "19.3567454798331",
         "20.707028531663187"
        ],
        [
         "44",
         "2017-05-05",
         "15.11482254697286",
         "19.07997218358832",
         "15.020905923344948"
        ],
        [
         "45",
         "2017-05-06",
         "17.878745644599302",
         "12.839248434237996",
         "34.0"
        ],
        [
         "46",
         "2017-05-07",
         "16.82033426183844",
         "15.771050800278358",
         "16.175816539263376"
        ],
        [
         "47",
         "2017-05-08",
         "23.80362116991644",
         "22.700486448922863",
         "25.14037526059764"
        ],
        [
         "48",
         "2017-05-09",
         "15.596100278551532",
         "13.041029207232269",
         "11.590814196242173"
        ],
        [
         "49",
         "2017-05-10",
         "12.974198047419804",
         "16.646796338672768",
         "14.805740675418042"
        ]
       ],
       "shape": {
        "columns": 4,
        "rows": 1296
       }
      },
      "text/html": [
       "<div>\n",
       "<style scoped>\n",
       "    .dataframe tbody tr th:only-of-type {\n",
       "        vertical-align: middle;\n",
       "    }\n",
       "\n",
       "    .dataframe tbody tr th {\n",
       "        vertical-align: top;\n",
       "    }\n",
       "\n",
       "    .dataframe thead th {\n",
       "        text-align: right;\n",
       "    }\n",
       "</style>\n",
       "<table border=\"1\" class=\"dataframe\">\n",
       "  <thead>\n",
       "    <tr style=\"text-align: right;\">\n",
       "      <th></th>\n",
       "      <th>full_date</th>\n",
       "      <th>2</th>\n",
       "      <th>5</th>\n",
       "      <th>6</th>\n",
       "    </tr>\n",
       "  </thead>\n",
       "  <tbody>\n",
       "    <tr>\n",
       "      <th>0</th>\n",
       "      <td>2017-03-22</td>\n",
       "      <td>40.683844</td>\n",
       "      <td>39.022917</td>\n",
       "      <td>33.550382</td>\n",
       "    </tr>\n",
       "    <tr>\n",
       "      <th>1</th>\n",
       "      <td>2017-03-23</td>\n",
       "      <td>29.237465</td>\n",
       "      <td>24.606322</td>\n",
       "      <td>23.765278</td>\n",
       "    </tr>\n",
       "    <tr>\n",
       "      <th>2</th>\n",
       "      <td>2017-03-24</td>\n",
       "      <td>43.675636</td>\n",
       "      <td>32.662021</td>\n",
       "      <td>24.127526</td>\n",
       "    </tr>\n",
       "    <tr>\n",
       "      <th>3</th>\n",
       "      <td>2017-03-25</td>\n",
       "      <td>58.792217</td>\n",
       "      <td>73.688502</td>\n",
       "      <td>57.902710</td>\n",
       "    </tr>\n",
       "    <tr>\n",
       "      <th>4</th>\n",
       "      <td>2017-03-26</td>\n",
       "      <td>48.348401</td>\n",
       "      <td>41.901811</td>\n",
       "      <td>28.811111</td>\n",
       "    </tr>\n",
       "    <tr>\n",
       "      <th>...</th>\n",
       "      <td>...</td>\n",
       "      <td>...</td>\n",
       "      <td>...</td>\n",
       "      <td>...</td>\n",
       "    </tr>\n",
       "    <tr>\n",
       "      <th>1291</th>\n",
       "      <td>2020-10-03</td>\n",
       "      <td>50.642450</td>\n",
       "      <td>43.423905</td>\n",
       "      <td>28.360000</td>\n",
       "    </tr>\n",
       "    <tr>\n",
       "      <th>1292</th>\n",
       "      <td>2020-10-04</td>\n",
       "      <td>30.410000</td>\n",
       "      <td>17.520000</td>\n",
       "      <td>21.340000</td>\n",
       "    </tr>\n",
       "    <tr>\n",
       "      <th>1293</th>\n",
       "      <td>2020-10-05</td>\n",
       "      <td>29.590000</td>\n",
       "      <td>16.530000</td>\n",
       "      <td>20.040000</td>\n",
       "    </tr>\n",
       "    <tr>\n",
       "      <th>1294</th>\n",
       "      <td>2020-10-06</td>\n",
       "      <td>26.380000</td>\n",
       "      <td>13.220000</td>\n",
       "      <td>17.600000</td>\n",
       "    </tr>\n",
       "    <tr>\n",
       "      <th>1295</th>\n",
       "      <td>2020-10-07</td>\n",
       "      <td>30.880000</td>\n",
       "      <td>24.571329</td>\n",
       "      <td>27.620000</td>\n",
       "    </tr>\n",
       "  </tbody>\n",
       "</table>\n",
       "<p>1296 rows × 4 columns</p>\n",
       "</div>"
      ],
      "text/plain": [
       "       full_date          2          5          6\n",
       "0     2017-03-22  40.683844  39.022917  33.550382\n",
       "1     2017-03-23  29.237465  24.606322  23.765278\n",
       "2     2017-03-24  43.675636  32.662021  24.127526\n",
       "3     2017-03-25  58.792217  73.688502  57.902710\n",
       "4     2017-03-26  48.348401  41.901811  28.811111\n",
       "...          ...        ...        ...        ...\n",
       "1291  2020-10-03  50.642450  43.423905  28.360000\n",
       "1292  2020-10-04  30.410000  17.520000  21.340000\n",
       "1293  2020-10-05  29.590000  16.530000  20.040000\n",
       "1294  2020-10-06  26.380000  13.220000  17.600000\n",
       "1295  2020-10-07  30.880000  24.571329  27.620000\n",
       "\n",
       "[1296 rows x 4 columns]"
      ]
     },
     "execution_count": 26,
     "metadata": {},
     "output_type": "execute_result"
    }
   ],
   "source": [
    "selected_sensors_df = pd.read_csv(\"../data/selected_sensors2_cleaned.csv\", index_col=0)\n",
    "kazakhstan_holidays = pd.read_csv(\"../data/kazakhstan_holidays.csv\", index_col=0)\n",
    "selected_sensors_df"
   ]
  },
  {
   "cell_type": "code",
   "execution_count": 17,
   "metadata": {},
   "outputs": [],
   "source": [
    "df = selected_sensors_df[['full_date', '2']]\n",
    "df = df.rename(columns={\"full_date\": \"ds\", \"2\": \"y\"})\n",
    "df['unique_id'] = 2"
   ]
  },
  {
   "cell_type": "markdown",
   "metadata": {},
   "source": [
    "## Prophet winter overfit "
   ]
  },
  {
   "cell_type": "code",
   "execution_count": 18,
   "metadata": {},
   "outputs": [],
   "source": [
    "def train_test_split(series, test_size=0.2):\n",
    "    \"\"\"\n",
    "    Splits the series into train and test sets.\n",
    "\n",
    "    Parameters:\n",
    "        series (array-like): The transformed series to split.\n",
    "        test_size (float): Proportion of the series to include in the test set (default: 0.2).\n",
    "    \n",
    "    Returns:\n",
    "        tuple: (train_series, test_series)\n",
    "    \"\"\"\n",
    "    try:\n",
    "        n = len(series)\n",
    "        test_count = int(n * test_size)\n",
    "        train_series = series[:-test_count]\n",
    "        test_series = series[-test_count:]\n",
    "        return train_series, test_series\n",
    "    except Exception as e:\n",
    "        warnings.warn(f\"Failed to split series into train and test sets: {e}\")\n",
    "        return series, None\n"
   ]
  },
  {
   "cell_type": "code",
   "execution_count": 25,
   "metadata": {},
   "outputs": [
    {
     "data": {
      "text/plain": [
       "((528, 3), (212, 3))"
      ]
     },
     "execution_count": 25,
     "metadata": {},
     "output_type": "execute_result"
    }
   ],
   "source": [
    "test_date = \"2020-03-01\"\n",
    "test_date = \"2018-09-01\"\n",
    "test_end_date = \"2019-04-01\"\n",
    "\n",
    "df_train = df[df.ds < test_date].copy()\n",
    "df_test = df[(df.ds >= test_date) & (df.ds < test_end_date)].copy()\n",
    "\n",
    "df_train.shape, df_test.shape"
   ]
  },
  {
   "cell_type": "code",
   "execution_count": 27,
   "metadata": {},
   "outputs": [],
   "source": [
    "df_train['ds'] = pd.to_datetime(df_train['ds'])\n",
    "df_test['ds'] = pd.to_datetime(df_test['ds'])"
   ]
  },
  {
   "cell_type": "code",
   "execution_count": null,
   "metadata": {},
   "outputs": [],
   "source": [
    "from prophet import Prophet\n",
    "import pandas as pd\n",
    "import matplotlib.pyplot as plt\n",
    "from sklearn.metrics import mean_squared_error, mean_absolute_percentage_error\n",
    "\n",
    "# Load and prepare data for Prophet\n",
    "df_prophet = df_train.reset_index()\n",
    "df_prophet.rename(columns={'date_time': 'ds', 'value': 'y'}, inplace=True)\n",
    "\n",
    "# Define the Prophet model\n",
    "model = Prophet(seasonality_mode='multiplicative', yearly_seasonality=True, weekly_seasonality=True, \n",
    "                holidays=kazakhstan_holidays\n",
    "                )\n",
    "model.add_seasonality(name='monthly', period=30.5, fourier_order=8)\n",
    "\n",
    "future = model.make_future_dataframe(df=df_prophet, periods=len(df_test['value']))"
   ]
  },
  {
   "cell_type": "code",
   "execution_count": null,
   "metadata": {},
   "outputs": [],
   "source": [
    "from prophet import Prophet\n",
    "from sklearn.metrics import mean_absolute_error\n",
    "import pandas as pd\n",
    "import itertools\n",
    "\n",
    "# Define your parameter grid\n",
    "param_grid = {\n",
    "    'changepoint_prior_scale': [0.01, 0.1, 0.5],\n",
    "    'seasonality_prior_scale': [1.0, 10.0],\n",
    "    'fourier_order': [5, 10, 15, 20, 25, 30],\n",
    "    'use_holidays': [True, False]\n",
    "}\n",
    "\n",
    "# Generate all parameter combinations\n",
    "all_params = [dict(zip(param_grid, v)) for v in itertools.product(*param_grid.values())]\n",
    "\n",
    "# Split data into training and validation (last 6 months = winter)\n",
    "df['ds'] = pd.to_datetime(df['ds'])\n",
    "df = df.sort_values('ds')\n",
    "train_cutoff = df['ds'].max() - pd.DateOffset(months=6)\n",
    "df_train = df[df['ds'] < train_cutoff]\n",
    "df_valid = df[df['ds'] >= train_cutoff]\n",
    "\n",
    "# Store results\n",
    "results = []\n",
    "\n",
    "for params in all_params:\n",
    "    print(f\"Trying params: {params}\")\n",
    "    \n",
    "    m = Prophet(\n",
    "        changepoint_prior_scale=params['changepoint_prior_scale'],\n",
    "        seasonality_prior_scale=params['seasonality_prior_scale'],\n",
    "        yearly_seasonality=False,  # We'll define it manually\n",
    "        holidays=kazakhstan_holidays if params['use_holidays'] else None\n",
    "    )\n",
    "    \n",
    "    m.add_seasonality(name='yearly', period=365.25, fourier_order=params['fourier_order'])\n",
    "\n",
    "    m.fit(df_train)\n",
    "    future = m.make_future_dataframe(periods=len(df_valid), freq='D')\n",
    "    forecast = m.predict(future)\n",
    "\n",
    "    # Merge forecast with actuals\n",
    "    forecast_valid = forecast[['ds', 'yhat']].set_index('ds').join(df_valid.set_index('ds'))\n",
    "    \n",
    "    # Calculate MAE on full validation set (assumed to be winter)\n",
    "    mape = mean_absolute_percentage_error(forecast_valid['y'], forecast_valid['yhat'])\n",
    "    \n",
    "    results.append({\n",
    "        'params': params,\n",
    "        'mape': mape\n",
    "    })\n",
    "\n",
    "# Results sorted by best performance\n",
    "results_df = pd.DataFrame(results).sort_values('mape')"
   ]
  },
  {
   "cell_type": "code",
   "execution_count": null,
   "metadata": {},
   "outputs": [],
   "source": [
    "from itertools import product\n",
    "\n",
    "# Define parameter grid\n",
    "param_grid = {\n",
    "    'changepoint_prior_scale': np.arange(0.01, 0.25, 0.05),\n",
    "    'seasonality_prior_scale': np.arange(0.5, 5, 0.5)\n",
    "}\n",
    "\n",
    "# Run a grid search\n",
    "best_mape = float('inf')\n",
    "best_params = None\n",
    "\n",
    "for params in product(param_grid['changepoint_prior_scale'], param_grid['seasonality_prior_scale']):\n",
    "    model = Prophet(changepoint_prior_scale=params[0], seasonality_prior_scale=params[1], yearly_seasonality=True, weekly_seasonality=True, seasonality_mode='multiplicative')\n",
    "    model.fit(df_prophet)\n",
    "    forecast = model.predict(future)\n",
    "    \n",
    "    # Evaluate\n",
    "    forecast_values = forecast[['ds', 'yhat']].set_index('ds').loc[test_data_prophet['ds']]\n",
    "    mape = mean_absolute_percentage_error(test_data_prophet['y'], forecast_values['yhat']) * 100\n",
    "    \n",
    "    if mape < best_mape:\n",
    "        best_mape = mape\n",
    "        best_params = params\n",
    "\n",
    "print(f\"Best Params: {best_params}, Best MAPE: {best_mape}%\")\n"
   ]
  }
 ],
 "metadata": {
  "kernelspec": {
   "display_name": "base",
   "language": "python",
   "name": "python3"
  },
  "language_info": {
   "codemirror_mode": {
    "name": "ipython",
    "version": 3
   },
   "file_extension": ".py",
   "mimetype": "text/x-python",
   "name": "python",
   "nbconvert_exporter": "python",
   "pygments_lexer": "ipython3",
   "version": "3.12.3"
  }
 },
 "nbformat": 4,
 "nbformat_minor": 2
}
