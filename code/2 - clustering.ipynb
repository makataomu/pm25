{
 "cells": [
  {
   "cell_type": "code",
   "execution_count": 1,
   "metadata": {},
   "outputs": [],
   "source": [
    "import pandas as pd\n",
    "path_to_data = \"..//data//\"\n",
    "\n",
    "df = pd.read_csv(path_to_data+\"pm_data.csv\")\n",
    "sensors_df = pd.read_csv(path_to_data+\"sensors.csv\")"
   ]
  },
  {
   "cell_type": "code",
   "execution_count": 2,
   "metadata": {},
   "outputs": [],
   "source": [
    "nan_percentage = df.isnull().mean() * 100\n",
    "\n",
    "threshold = 95  \n",
    "filtered_df = df.loc[:, nan_percentage <= threshold]"
   ]
  },
  {
   "cell_type": "code",
   "execution_count": 3,
   "metadata": {},
   "outputs": [],
   "source": [
    "filtered_sensors = filtered_df.columns[2:-1]\n",
    "filtered_sensors_df = sensors_df.loc[sensors_df['id'].astype('str').isin(filtered_sensors)]"
   ]
  },
  {
   "cell_type": "code",
   "execution_count": 4,
   "metadata": {},
   "outputs": [],
   "source": [
    "train_df = pd.read_csv(path_to_data+\"raw_train.csv\")"
   ]
  },
  {
   "cell_type": "code",
   "execution_count": 5,
   "metadata": {},
   "outputs": [],
   "source": [
    "import folium\n",
    "\n",
    "# Create a map centered around an average latitude and longitude\n",
    "m = folium.Map(location=[filtered_sensors_df[\"lat\"].mean(), filtered_sensors_df[\"lng\"].mean()], zoom_start=2)\n",
    "\n",
    "# Add sensor points to the map with labels above markers\n",
    "for _, row in filtered_sensors_df.iterrows():\n",
    "    # Add the marker\n",
    "    folium.Marker(\n",
    "        location=[row[\"lat\"], row[\"lng\"]],\n",
    "        popup=f\"Sensor ID: {row['id']}\",\n",
    "    ).add_to(m)\n",
    "    \n",
    "    # Add the label (CircleMarker with a tooltip for the text)\n",
    "    folium.map.Marker(\n",
    "        location=[row[\"lat\"] + 0.005, row[\"lng\"]],  # Slightly above the marker\n",
    "        icon=folium.DivIcon(html=f\"\"\"\n",
    "            <div style=\"font-size: 10px; color: black; text-align: center;\">\n",
    "                {row['id']}\n",
    "            </div>\n",
    "        \"\"\")\n",
    "    ).add_to(m)\n",
    "\n",
    "# Save or display the map\n",
    "m.save(\"sensors_map_with_labels_filtered.html\")  # Save as HTML"
   ]
  },
  {
   "cell_type": "markdown",
   "metadata": {},
   "source": [
    "# checking close sensors"
   ]
  },
  {
   "cell_type": "code",
   "execution_count": 6,
   "metadata": {},
   "outputs": [],
   "source": [
    "import plotly.graph_objects as go\n",
    "\n",
    "def plot_pm(df, column):\n",
    "    fig = go.Figure()\n",
    "    fig.add_trace(\n",
    "        go.Scatter(\n",
    "            x=df['full_date'],\n",
    "            y=df[column],\n",
    "            mode='lines+markers',\n",
    "            name=column,\n",
    "            connectgaps=False  # Ensures gaps for NaN values\n",
    "        )\n",
    "    )\n",
    "    fig.update_layout(\n",
    "        title=f\"Values of {column} Over Time\",\n",
    "        xaxis_title=\"Date\",\n",
    "        yaxis_title=\"Value\",\n",
    "        legend_title=\"Feature\"\n",
    "    )\n",
    "    fig.show()"
   ]
  },
  {
   "cell_type": "markdown",
   "metadata": {},
   "source": [
    "## initial geographical clustering"
   ]
  },
  {
   "cell_type": "code",
   "execution_count": 7,
   "metadata": {},
   "outputs": [],
   "source": [
    "import requests\n",
    "import pandas as pd\n",
    "\n",
    "# Function to get altitude from Open-Elevation API\n",
    "def get_altitude(lat, lon):\n",
    "    url = \"https://api.open-elevation.com/api/v1/lookup\"\n",
    "    params = {\"locations\": f\"{lat},{lon}\"}\n",
    "    response = requests.get(url, params=params)\n",
    "    if response.status_code == 200:\n",
    "        results = response.json().get(\"results\", [])\n",
    "        if results:\n",
    "            return results[0].get(\"elevation\", None)\n",
    "    return None"
   ]
  },
  {
   "cell_type": "code",
   "execution_count": null,
   "metadata": {},
   "outputs": [],
   "source": [
    "sensors_df[\"altitude\"] = sensors_df.apply(lambda row: get_altitude(row[\"lat\"], row[\"lng\"]), axis=1)\n",
    "sensors_df"
   ]
  },
  {
   "cell_type": "code",
   "execution_count": null,
   "metadata": {},
   "outputs": [],
   "source": [
    "missing_altitudes = {\n",
    "    9: 1095,\n",
    "    10: 838,\n",
    "    11: 988,\n",
    "    12: 1357,\n",
    "    15: 776,\n",
    "    16: 631,\n",
    "    4438736: 875,\n",
    "    4439094: 1014,\n",
    "    4439475: 764,\n",
    "    37380840: 1192,\n",
    "    38737023: 508,\n",
    "}"
   ]
  },
  {
   "cell_type": "code",
   "execution_count": null,
   "metadata": {},
   "outputs": [],
   "source": [
    "for id, alt in missing_altitudes.items():\n",
    "    sensors_df.loc[sensors_df['id']==id, \"altitude\"] = alt"
   ]
  },
  {
   "cell_type": "code",
   "execution_count": null,
   "metadata": {},
   "outputs": [],
   "source": [
    "import geopy.distance\n",
    "\n",
    "tec_coords = [(43.28106778655262, 76.92824292448644), (43.29301578613313, 76.79849657217129), (43.4226463963046, 77.00610304272645)]\n",
    "\n",
    "for i, tec_coord in enumerate(tec_coords, start=1):\n",
    "    sensors_df[f\"distance_to_point_{i}\"] = sensors_df.apply(\n",
    "        lambda row: geopy.distance.geodesic((row[\"lat\"], row[\"lng\"]), tec_coord).km,\n",
    "        axis=1\n",
    "    )"
   ]
  },
  {
   "cell_type": "code",
   "execution_count": null,
   "metadata": {},
   "outputs": [],
   "source": [
    "import folium\n",
    "\n",
    "# Create a map centered around an average latitude and longitude of the filtered sensors\n",
    "m = folium.Map(location=[sensors_df[\"lat\"].mean(), sensors_df[\"lng\"].mean()], zoom_start=2)\n",
    "\n",
    "# Add sensor points to the map with labels above markers\n",
    "for _, row in sensors_df.iterrows():\n",
    "    # Add the marker for the sensor\n",
    "    folium.Marker(\n",
    "        location=[row[\"lat\"], row[\"lng\"]],\n",
    "        popup=f\"Sensor ID: {row['id']}\",\n",
    "    ).add_to(m)\n",
    "    \n",
    "    # Add the label (using DivIcon for text)\n",
    "    folium.map.Marker(\n",
    "        location=[row[\"lat\"] + 0.005, row[\"lng\"]],  # Slightly above the marker\n",
    "        icon=folium.DivIcon(html=f\"\"\"\n",
    "            <div style=\"font-size: 10px; color: black; text-align: center;\">\n",
    "                {row['id']}\n",
    "            </div>\n",
    "        \"\"\")\n",
    "    ).add_to(m)\n",
    "\n",
    "# Add tec_coords to the map with red markers\n",
    "for idx, coord in enumerate(tec_coords, start=1):\n",
    "    folium.Marker(\n",
    "        location=coord,\n",
    "        popup=f\"Tec Point {idx}\",\n",
    "        icon=folium.Icon(color=\"red\", icon=\"info-sign\")  # Red marker with \"info-sign\" icon\n",
    "    ).add_to(m)\n",
    "\n",
    "# Save or display the map\n",
    "m.save(\"sensors_map_with_labels_and_tec_coords.html\")  # Save as HTML"
   ]
  },
  {
   "cell_type": "code",
   "execution_count": null,
   "metadata": {},
   "outputs": [],
   "source": [
    "import pandas as pd\n",
    "import numpy as np\n",
    "from sklearn.base import BaseEstimator, TransformerMixin\n",
    "\n",
    "class SeasonalStatisticsExtractor(BaseEstimator, TransformerMixin):\n",
    "    def __init__(self):\n",
    "        pass\n",
    "\n",
    "    def _determine_season(self, date):\n",
    "        \"\"\"Assign a season based on the month.\"\"\"\n",
    "        month = date.month\n",
    "        if month in [11, 12, 1, 2]:  # seson otoplenia\n",
    "            return \"winter\"\n",
    "        elif month in [6, 7, 8]:  # ideal conditions = summer\n",
    "            return \"summer\"\n",
    "        else:\n",
    "            return \"other\"\n",
    "\n",
    "    def fit(self, X, y=None):\n",
    "        \"\"\"No fitting required for this transformer.\"\"\"\n",
    "        return self\n",
    "\n",
    "    def transform(self, X, sensors_list):\n",
    "        \"\"\"Compute statistics for seasonal and overall time series data.\"\"\"\n",
    "        if 'full_date' not in X.columns:\n",
    "            raise ValueError(\"Input DataFrame must contain a 'full_date' column with datetime values.\")\n",
    "\n",
    "        X = X.copy()\n",
    "        \n",
    "        # Ensure full_date is a datetime object\n",
    "        X['full_date'] = pd.to_datetime(X['full_date'])\n",
    "        \n",
    "        # Add a season column\n",
    "        X['season'] = X['full_date'].apply(self._determine_season)\n",
    "\n",
    "        # Initialize a dictionary to store statistics\n",
    "        stats = []\n",
    "\n",
    "        # Process each feature\n",
    "        for feature in sensors_list:\n",
    "            if feature in ['full_date', 'season']:\n",
    "                continue\n",
    "\n",
    "            feature_data = X[feature].dropna()\n",
    "\n",
    "            # Overall statistics\n",
    "            overall_mean = feature_data.mean()\n",
    "            overall_std = feature_data.std()\n",
    "\n",
    "            # Winter and summer statistics\n",
    "            winter_data = X.loc[X['season'] == 'winter', feature].dropna()\n",
    "            summer_data = X.loc[X['season'] == 'summer', feature].dropna()\n",
    "\n",
    "            mean_winter = winter_data.mean()\n",
    "            std_winter = winter_data.std()\n",
    "            mean_summer = summer_data.mean()\n",
    "            std_summer = summer_data.std()\n",
    "\n",
    "            # Additional statistics\n",
    "            min_value = feature_data.min()\n",
    "            max_value = feature_data.max()\n",
    "            median_value = feature_data.median()\n",
    "\n",
    "            # Append to stats list\n",
    "            stats.append({\n",
    "                \"feature\": feature,\n",
    "                \"mean\": overall_mean,\n",
    "                \"std\": overall_std,\n",
    "                \"mean_winter\": mean_winter,\n",
    "                \"std_winter\": std_winter,\n",
    "                \"mean_summer\": mean_summer,\n",
    "                \"std_summer\": std_summer,\n",
    "                \"min\": min_value,\n",
    "                \"max\": max_value,\n",
    "                \"median\": median_value\n",
    "            })\n",
    "\n",
    "        # Convert statistics to a DataFrame\n",
    "        stats_df = pd.DataFrame(stats).set_index('feature')\n",
    "\n",
    "        return stats_df\n"
   ]
  },
  {
   "cell_type": "code",
   "execution_count": null,
   "metadata": {},
   "outputs": [],
   "source": [
    "from sklearn.base import BaseEstimator, TransformerMixin\n",
    "\n",
    "class GeoFeatureSelector(BaseEstimator, TransformerMixin):\n",
    "    \"\"\"\n",
    "    Selects geographical features (e.g., altitude, distance_from_power_station)\n",
    "    for each sensor in the same order as the columns of time_series_df.\n",
    "    \"\"\"\n",
    "    def __init__(self, geo_df, feature_cols=None):\n",
    "        \"\"\"\n",
    "        geo_df: DataFrame with columns ['sensor_id', ... feature columns ...]\n",
    "        feature_cols: list of str, which columns in geo_df to use\n",
    "        \"\"\"\n",
    "        self.geo_df = geo_df.set_index('sensor_id')\n",
    "        self.feature_cols = feature_cols if feature_cols else self.geo_df.columns.tolist()\n",
    "        \n",
    "    def fit(self, X, y=None):\n",
    "        # Nothing to learn here\n",
    "        return self\n",
    "    \n",
    "    def transform(self, X):\n",
    "        \"\"\"\n",
    "        X: array-like of sensor IDs (or just a placeholder if we rely on the existing order)\n",
    "        We assume X is a list or array of sensor column names from time_series_df\n",
    "        \"\"\"\n",
    "        # For each sensor in X, get the geo features\n",
    "        geo_features = self.geo_df.loc[X, self.feature_cols].values\n",
    "        return geo_features\n",
    "\n",
    "class ConcatenateFeatures(BaseEstimator, TransformerMixin):\n",
    "    \"\"\"\n",
    "    Concatenates two feature matrices: e.g. from GeoFeatureSelector and TimeSeriesFeatureExtractor.\n",
    "    Assumes the order of rows (sensors) in each input is consistent.\n",
    "    \"\"\"\n",
    "    def __init__(self):\n",
    "        pass\n",
    "    \n",
    "    def fit(self, X, y=None):\n",
    "        return self\n",
    "    \n",
    "    def transform(self, X_list):\n",
    "        \"\"\"\n",
    "        X_list: A list of two (or more) arrays to concatenate horizontally.\n",
    "        \"\"\"\n",
    "        # Expecting something like: [geo_features, ts_features]\n",
    "        return np.hstack(X_list)\n"
   ]
  },
  {
   "cell_type": "markdown",
   "metadata": {},
   "source": [
    "## clustering by hand"
   ]
  },
  {
   "cell_type": "code",
   "execution_count": null,
   "metadata": {},
   "outputs": [],
   "source": [
    "sensors_df['data_completeness'] = None\n",
    "\n",
    "for sens in sensors_df['id'].values:\n",
    "    if str(sens) in train_df.columns:\n",
    "        sensors_df.loc[sensors_df['id']==sens, \"data_completeness\"] = train_df[str(sens)].count() / train_df.shape[0]"
   ]
  },
  {
   "cell_type": "code",
   "execution_count": null,
   "metadata": {},
   "outputs": [],
   "source": [
    "import folium\n",
    "\n",
    "# Filter the sensors DataFrame based on data_completeness\n",
    "filtered_sensors = sensors_df[sensors_df[\"data_completeness\"] >= 0.00000001].copy()\n",
    "\n",
    "# Create a map centered around an average latitude and longitude\n",
    "m = folium.Map(location=[filtered_sensors[\"lat\"].mean(), filtered_sensors[\"lng\"].mean()], zoom_start=2)\n",
    "\n",
    "# Add sensor points to the map with different styles based on data_completeness\n",
    "for _, row in filtered_sensors.iterrows():\n",
    "    if row[\"data_completeness\"] >= 0.70:\n",
    "        marker_color = \"green\"  # High completeness\n",
    "    else:\n",
    "        marker_color = \"blue\"  # Other sensors\n",
    "\n",
    "    # Add the marker for the sensor\n",
    "    folium.Marker(\n",
    "        location=[row[\"lat\"], row[\"lng\"]],\n",
    "        popup=(\n",
    "            f\"Sensor ID: {row['id']}<br>\"\n",
    "            f\"Data Completeness: {row['data_completeness']}%<br>\"\n",
    "            f\"Altitude: {row['altitude']} meters\"\n",
    "        ),\n",
    "        icon=folium.Icon(color=marker_color, icon=\"circle\")\n",
    "    ).add_to(m)\n",
    "\n",
    "    # Add the label (DivIcon for text above markers)\n",
    "    folium.map.Marker(\n",
    "        location=[row[\"lat\"] + 0.005, row[\"lng\"]],  # Slightly above the marker\n",
    "        icon=folium.DivIcon(html=f\"\"\"\n",
    "            <div style=\"font-size: 10px; color: black; text-align: center;\">\n",
    "                {row['id']}\n",
    "            </div>\n",
    "        \"\"\")\n",
    "    ).add_to(m)\n",
    "\n",
    "# Add tec_coords to the map with red markers\n",
    "for idx, coord in enumerate(tec_coords, start=1):\n",
    "    folium.Marker(\n",
    "        location=coord,\n",
    "        popup=f\"Tec Point {idx}\",\n",
    "        icon=folium.Icon(color=\"red\", icon=\"info-sign\")  # Red marker with \"info-sign\" icon\n",
    "    ).add_to(m)\n",
    "\n",
    "# Save or display the map\n",
    "m.save(\"sensors_map_with_labels_altitude_and_clustering.html\")  # Save as HTML\n"
   ]
  },
  {
   "cell_type": "code",
   "execution_count": null,
   "metadata": {},
   "outputs": [],
   "source": [
    "clusters_0 = {\n",
    "    0: [16, 19],\n",
    "    1: [1, 20, 108],\n",
    "    2: [7, 8, 106, 15],\n",
    "    3: [5,10, 4, 13], \n",
    "    4: [2, 104, 5917712],\n",
    "    5: [14, 105, 11, 18],\n",
    "    6: [6, 3269728, 3],\n",
    "    7: [9, 17, 12],\n",
    "}"
   ]
  },
  {
   "cell_type": "code",
   "execution_count": null,
   "metadata": {},
   "outputs": [],
   "source": [
    "clusters_1 = {\n",
    "    0: [16, 19, 1, 20, 108],\n",
    "    1: [7, 8, 106, 3],\n",
    "    2: [5,10, 4, 13], \n",
    "    3: [2, 104, 5917712, 38834077],\n",
    "    4: [14, 105, 11, 18, 15],\n",
    "    5: [6, 3269728, 3],\n",
    "    6: [9, 17, 12],\n",
    "}"
   ]
  },
  {
   "cell_type": "code",
   "execution_count": null,
   "metadata": {},
   "outputs": [],
   "source": [
    "class SensorClusterTransformer(BaseEstimator, TransformerMixin):\n",
    "    def __init__(self, clusters, date_column=\"full_date\"):\n",
    "        \"\"\"\n",
    "        Parameters:\n",
    "        - clusters: dict, mapping cluster IDs to lists of sensor IDs.\n",
    "        - date_column: str, name of the column containing date information.\n",
    "        \"\"\"\n",
    "        self.clusters = clusters\n",
    "        self.date_column = date_column\n",
    "\n",
    "    def fit(self, X, y=None):\n",
    "        \"\"\"\n",
    "        No fitting required for this transformer.\n",
    "        \"\"\"\n",
    "        return self\n",
    "\n",
    "    def transform(self, X):\n",
    "        \"\"\"\n",
    "        Transforms the input DataFrame to compute mean time series for each cluster.\n",
    "\n",
    "        Parameters:\n",
    "        - X: pd.DataFrame, the input time series data with a date column and sensor time series.\n",
    "\n",
    "        Returns:\n",
    "        - pd.DataFrame, mean time series for each cluster.\n",
    "        \"\"\"\n",
    "        # Check if the date column exists\n",
    "        if self.date_column not in X.columns:\n",
    "            raise ValueError(f\"The specified date column '{self.date_column}' does not exist in the DataFrame.\")\n",
    "\n",
    "        # Ensure the date column is set as index temporarily for easier time series operations\n",
    "        X = X.set_index(self.date_column)\n",
    "\n",
    "        # Dictionary to hold mean time series for each cluster\n",
    "        cluster_means = {}\n",
    "\n",
    "        # Compute mean time series for each cluster\n",
    "        for cluster_id, sensor_ids in self.clusters.items():\n",
    "            # Check if all sensor IDs exist in the DataFrame\n",
    "            sensor_ids = [str(s) for s in sensor_ids]\n",
    "            missing_sensors = [sensor for sensor in sensor_ids if sensor not in X.columns]\n",
    "            if missing_sensors:\n",
    "                raise ValueError(f\"The following sensor IDs are missing from the DataFrame: {missing_sensors}\")\n",
    "\n",
    "            # Calculate mean time series for the cluster\n",
    "            cluster_means[cluster_id] = X[sensor_ids].mean(axis=1)\n",
    "\n",
    "        # Create a DataFrame for the cluster means\n",
    "        cluster_means_df = pd.DataFrame(cluster_means)\n",
    "\n",
    "        # Reset the index to include the date column in the result\n",
    "        cluster_means_df.reset_index(inplace=True)\n",
    "\n",
    "        return cluster_means_df"
   ]
  },
  {
   "cell_type": "code",
   "execution_count": null,
   "metadata": {},
   "outputs": [],
   "source": [
    "transformer = SensorClusterTransformer(clusters=clusters_0)\n",
    "cluster_means_df = transformer.transform(train_df)"
   ]
  },
  {
   "cell_type": "markdown",
   "metadata": {},
   "source": [
    "### outlier detection"
   ]
  },
  {
   "cell_type": "code",
   "execution_count": null,
   "metadata": {},
   "outputs": [],
   "source": [
    "def rolling_zscore_outlier_removal(series, window=7, z_threshold=3.0):\n",
    "    \"\"\"\n",
    "    Removes (or flags) outliers based on a rolling mean/std approach.\n",
    "    - series: pd.Series (time indexed)\n",
    "    - window: rolling window size\n",
    "    - z_threshold: threshold for z-score\n",
    "    Returns: A new Series with outliers replaced by NaN (or some other logic).\n",
    "    \"\"\"\n",
    "    rolling_mean = series.rolling(window=window, center=True, min_periods=1).mean()\n",
    "    rolling_std = series.rolling(window=window, center=True, min_periods=1).std()\n",
    "    \n",
    "    z_scores = (series - rolling_mean) / rolling_std\n",
    "    outliers = z_scores.abs() > z_threshold\n",
    "    \n",
    "    # Option 1: Replace outliers with NaN\n",
    "    cleaned_series = series.mask(outliers, np.nan)\n",
    "    \n",
    "    return cleaned_series"
   ]
  },
  {
   "cell_type": "code",
   "execution_count": null,
   "metadata": {},
   "outputs": [
    {
     "ename": "NameError",
     "evalue": "name 'np' is not defined",
     "output_type": "error",
     "traceback": [
      "\u001b[1;31m---------------------------------------------------------------------------\u001b[0m",
      "\u001b[1;31mNameError\u001b[0m                                 Traceback (most recent call last)",
      "Cell \u001b[1;32mIn[6], line 1\u001b[0m\n\u001b[1;32m----> 1\u001b[0m cleaned_ts \u001b[38;5;241m=\u001b[39m \u001b[43mrolling_zscore_outlier_removal\u001b[49m\u001b[43m(\u001b[49m\u001b[43mtrain_df\u001b[49m\u001b[43m[\u001b[49m\u001b[38;5;124;43m'\u001b[39;49m\u001b[38;5;124;43m18\u001b[39;49m\u001b[38;5;124;43m'\u001b[39;49m\u001b[43m]\u001b[49m\u001b[43m,\u001b[49m\u001b[43m \u001b[49m\u001b[43mwindow\u001b[49m\u001b[38;5;241;43m=\u001b[39;49m\u001b[38;5;241;43m15\u001b[39;49m\u001b[43m,\u001b[49m\u001b[43m \u001b[49m\u001b[43mz_threshold\u001b[49m\u001b[38;5;241;43m=\u001b[39;49m\u001b[38;5;241;43m3\u001b[39;49m\u001b[43m)\u001b[49m\n\u001b[0;32m      2\u001b[0m cleaned_ts\u001b[38;5;241m.\u001b[39mplot()\n",
      "Cell \u001b[1;32mIn[5], line 16\u001b[0m, in \u001b[0;36mrolling_zscore_outlier_removal\u001b[1;34m(series, window, z_threshold)\u001b[0m\n\u001b[0;32m     13\u001b[0m outliers \u001b[38;5;241m=\u001b[39m z_scores\u001b[38;5;241m.\u001b[39mabs() \u001b[38;5;241m>\u001b[39m z_threshold\n\u001b[0;32m     15\u001b[0m \u001b[38;5;66;03m# Option 1: Replace outliers with NaN\u001b[39;00m\n\u001b[1;32m---> 16\u001b[0m cleaned_series \u001b[38;5;241m=\u001b[39m series\u001b[38;5;241m.\u001b[39mmask(outliers, \u001b[43mnp\u001b[49m\u001b[38;5;241m.\u001b[39mnan)\n\u001b[0;32m     18\u001b[0m \u001b[38;5;28;01mreturn\u001b[39;00m cleaned_series\n",
      "\u001b[1;31mNameError\u001b[0m: name 'np' is not defined"
     ]
    }
   ],
   "source": [
    "cleaned_ts = rolling_zscore_outlier_removal(train_df['18'], window=15, z_threshold=3)\n",
    "cleaned_ts.plot()"
   ]
  },
  {
   "cell_type": "markdown",
   "metadata": {},
   "source": [
    "### filling nan values"
   ]
  },
  {
   "cell_type": "markdown",
   "metadata": {},
   "source": [
    "Мы будем заполнять только промежутки в каждом сенсоре"
   ]
  },
  {
   "cell_type": "code",
   "execution_count": null,
   "metadata": {},
   "outputs": [
    {
     "data": {
      "text/plain": [
       "array([       1,        2,        3,        4,        5,        6,\n",
       "              7,        8,        9,       10,       11,       12,\n",
       "             13,       14,       15,       16,       17,       18,\n",
       "             19,       20,      101,      102,      103,      104,\n",
       "            105,      106,      107,      108,  3269728,  4372603,\n",
       "        4438736,  4439094,  4439475,  5901326,  5917712,  7723955,\n",
       "       30369354, 31839727, 32474482, 34703847, 36200067, 36671067,\n",
       "       37052366, 37380840, 38737023, 38834077, 39168240, 39379024],\n",
       "      dtype=int64)"
      ]
     },
     "execution_count": 21,
     "metadata": {},
     "output_type": "execute_result"
    }
   ],
   "source": [
    "sensors_df['id'].values"
   ]
  },
  {
   "cell_type": "code",
   "execution_count": null,
   "metadata": {},
   "outputs": [],
   "source": [
    "sensors_list = list(sensors_df['id'].values)\n",
    "sensors_list = [str(s) for s in sensors_list if str(s) in df.columns]"
   ]
  },
  {
   "cell_type": "code",
   "execution_count": null,
   "metadata": {},
   "outputs": [],
   "source": [
    "import numpy as np"
   ]
  },
  {
   "cell_type": "code",
   "execution_count": null,
   "metadata": {},
   "outputs": [
    {
     "data": {
      "text/plain": [
       "<Axes: >"
      ]
     },
     "execution_count": 10,
     "metadata": {},
     "output_type": "execute_result"
    },
    {
     "data": {
      "image/png": "[encoded data removed]",
      "text/plain": [
       "<Figure size 640x480 with 1 Axes>"
      ]
     },
     "metadata": {},
     "output_type": "display_data"
    }
   ],
   "source": [
    "exp1 = rolling_zscore_outlier_removal(train_df['2'], window=15, z_threshold=2)\n",
    "exp1_rolled = exp1.fillna(exp1.rolling(15, min_periods=5, center=True).mean())\n",
    "exp1_rolled.plot()"
   ]
  },
  {
   "cell_type": "code",
   "execution_count": null,
   "metadata": {},
   "outputs": [],
   "source": []
  },
  {
   "cell_type": "code",
   "execution_count": null,
   "metadata": {},
   "outputs": [],
   "source": [
    "def divide_series_into_chunks(series):\n",
    "    is_nan = series.isna()\n",
    "    chunks = []\n",
    "    start_idx = None\n",
    "\n",
    "    for i, val in enumerate(is_nan):\n",
    "        if not val and start_idx is None:\n",
    "            start_idx = i  # Start a new chunk\n",
    "        elif val and start_idx is not None:\n",
    "            chunks.append(series[start_idx:i])  # Append the chunk\n",
    "            start_idx = None\n",
    "\n",
    "    # Add the last chunk if the series ends without NaNs\n",
    "    if start_idx is not None:\n",
    "        chunks.append(series[start_idx:])\n",
    "\n",
    "    return chunks\n",
    "\n",
    "from sktime.forecasting.arima import AutoARIMA\n",
    "from sktime.forecasting.base import ForecastingHorizon\n",
    "from sktime.forecasting.exp_smoothing import ExponentialSmoothing\n",
    "from sktime.forecasting.ets import AutoETS  \n",
    "\n",
    "def fill_nans_with_arima(series, sp=12):\n",
    "    # Get the chunks of non-NaN data\n",
    "    chunks = divide_series_into_chunks(series)\n",
    "    filled_series = series.copy()\n",
    "\n",
    "    for i in range(len(chunks) - 1):\n",
    "        current_chunk = chunks[i]\n",
    "        next_chunk_start = chunks[i + 1].index[0]\n",
    "\n",
    "        # Ensure datetime types\n",
    "        last_index = current_chunk.index[-1]\n",
    "        next_start = next_chunk_start\n",
    "\n",
    "        # Define training and forecasting horizons\n",
    "        y_train = current_chunk\n",
    "        print(y_train)\n",
    "        \n",
    "        fh = np.arange(last_index+1, next_start)\n",
    "\n",
    "        # Fit ARIMA and predict the gap\n",
    "        forecaster = ExponentialSmoothing(trend=\"add\", seasonal=\"additive\", sp=6)\n",
    "        forecaster.fit(y_train)\n",
    "        y_pred = forecaster.predict(fh)\n",
    "\n",
    "        # Fill the gap in the series\n",
    "        filled_series.values[last_index+1:next_start] = y_pred\n",
    "\n",
    "    return filled_series\n"
   ]
  },
  {
   "cell_type": "code",
   "execution_count": null,
   "metadata": {},
   "outputs": [
    {
     "data": {
      "text/plain": [
       "<Axes: >"
      ]
     },
     "execution_count": 23,
     "metadata": {},
     "output_type": "execute_result"
    },
    {
     "data": {
      "image/png": "[encoded data removed]",
      "text/plain": [
       "<Figure size 640x480 with 1 Axes>"
      ]
     },
     "metadata": {},
     "output_type": "display_data"
    }
   ],
   "source": [
    "exp1_rolled.plot()"
   ]
  },
  {
   "cell_type": "code",
   "execution_count": null,
   "metadata": {},
   "outputs": [
    {
     "name": "stdout",
     "output_type": "stream",
     "text": [
      "0      91.982979\n",
      "1      84.649269\n",
      "2      43.675636\n",
      "3      58.792217\n",
      "4      48.348401\n",
      "         ...    \n",
      "129    21.722765\n",
      "130    23.398181\n",
      "131    20.439871\n",
      "132    21.170871\n",
      "133    21.487891\n",
      "Name: 2, Length: 134, dtype: float64\n",
      "145    14.244884\n",
      "146    14.599381\n",
      "147    14.817263\n",
      "148    18.858382\n",
      "149    12.947662\n",
      "         ...    \n",
      "580    39.183792\n",
      "581    32.666667\n",
      "582    34.511018\n",
      "583    42.237202\n",
      "584    42.237202\n",
      "Name: 2, Length: 440, dtype: float64\n",
      "610     81.558208\n",
      "611     95.285606\n",
      "612    110.653627\n",
      "613     31.269231\n",
      "614     70.248632\n",
      "          ...    \n",
      "948     48.251758\n",
      "949     43.769608\n",
      "950     53.836291\n",
      "951     53.247737\n",
      "952     50.945517\n",
      "Name: 2, Length: 343, dtype: float64\n"
     ]
    },
    {
     "data": {
      "text/plain": [
       "<Axes: >"
      ]
     },
     "execution_count": 24,
     "metadata": {},
     "output_type": "execute_result"
    },
    {
     "data": {
      "image/png": "[encoded data removed]",
      "text/plain": [
       "<Figure size 640x480 with 1 Axes>"
      ]
     },
     "metadata": {},
     "output_type": "display_data"
    }
   ],
   "source": [
    "exp1_filled = fill_nans_with_arima(exp1_rolled)\n",
    "exp1_filled.plot()"
   ]
  },
  {
   "cell_type": "code",
   "execution_count": null,
   "metadata": {},
   "outputs": [],
   "source": [
    "def fill_missing_with_same_day_values(df, date_col, value_col, direction=\"both\"):\n",
    "    \"\"\"\n",
    "    Fills missing values in a time series by using values from the same day in the next or previous year.\n",
    "    \n",
    "    Parameters:\n",
    "        df (pd.DataFrame): The dataframe containing the time series.\n",
    "        date_col (str): Column name representing the date.\n",
    "        value_col (str): Column name representing the values with potential missing data.\n",
    "        direction (str): Direction to search for values (\"next\", \"previous\", or \"both\"). Default is \"both\".\n",
    "    \n",
    "    Returns:\n",
    "        pd.DataFrame: The dataframe with missing values filled.\n",
    "    \"\"\"\n",
    "    # Ensure the date column is in datetime format\n",
    "    df[date_col] = pd.to_datetime(df[date_col])\n",
    "\n",
    "    # Create an index for fast lookup\n",
    "    df.set_index(date_col, inplace=True)\n",
    "\n",
    "    # Fill missing values\n",
    "    for idx in df[df[value_col].isna()].index:\n",
    "        year = idx.year\n",
    "        day_of_year = idx.timetuple().tm_yday\n",
    "\n",
    "        # Look for the value in the next year\n",
    "        next_year_date = pd.Timestamp(year + 1, 1, 1) + pd.Timedelta(days=day_of_year - 1)\n",
    "        previous_year_date = pd.Timestamp(year - 1, 1, 1) + pd.Timedelta(days=day_of_year - 1)\n",
    "\n",
    "        value_to_fill = None\n",
    "        if direction in [\"next\", \"both\"] and next_year_date in df.index:\n",
    "            value_to_fill = df.at[next_year_date, value_col]\n",
    "        \n",
    "        if direction in [\"previous\", \"both\"] and previous_year_date in df.index and pd.isna(value_to_fill):\n",
    "            value_to_fill = df.at[previous_year_date, value_col]\n",
    "\n",
    "        # Assign the value if found\n",
    "        if not pd.isna(value_to_fill):\n",
    "            df.at[idx, value_col] = value_to_fill\n",
    "\n",
    "    # Reset the index\n",
    "    df.reset_index(inplace=True)\n",
    "\n",
    "    return df"
   ]
  },
  {
   "cell_type": "code",
   "execution_count": null,
   "metadata": {},
   "outputs": [
    {
     "data": {
      "text/plain": [
       "<Axes: >"
      ]
     },
     "execution_count": 12,
     "metadata": {},
     "output_type": "execute_result"
    },
    {
     "data": {
      "image/png": "[encoded data removed]",
      "text/plain": [
       "<Figure size 640x480 with 1 Axes>"
      ]
     },
     "metadata": {},
     "output_type": "display_data"
    }
   ],
   "source": [
    "train_df_filled = fill_missing_with_same_day_values(train_df, \"full_date\", \"1\")\n",
    "train_df_filled['1'].plot()"
   ]
  },
  {
   "cell_type": "markdown",
   "metadata": {},
   "source": [
    "# full pipeline"
   ]
  },
  {
   "cell_type": "code",
   "execution_count": null,
   "metadata": {},
   "outputs": [],
   "source": [
    "# Step 1: Clean all sensors\n",
    "def clean_sensors(dataframe, sensors_list, window=15, z_threshold=3):\n",
    "    cleaned_data = dataframe.copy()\n",
    "    for sensor in sensors_list:\n",
    "        cleaned_data[sensor] = rolling_zscore_outlier_removal(dataframe[sensor], window=window, z_threshold=z_threshold)\n",
    "    return cleaned_data\n",
    "\n",
    "# Step 2: Apply sensor cluster transformer\n",
    "def transform_clusters(cleaned_df, clusters):\n",
    "    transformer = SensorClusterTransformer(clusters=clusters)\n",
    "    return transformer.transform(cleaned_df)\n",
    "\n",
    "# Step 3: Fill missing values for all columns in cluster means\n",
    "def fill_missing_for_all_columns(cluster_means_df, date_col, direction=\"both\"):\n",
    "    filled_df = cluster_means_df.copy()\n",
    "    for column in cluster_means_df.columns:\n",
    "        if column != date_col:\n",
    "            filled_df = fill_missing_with_same_day_values(\n",
    "                filled_df, date_col=date_col, value_col=column, direction=direction\n",
    "            )\n",
    "    return filled_df\n",
    "\n",
    "def process_time_series(dataframe, sensors_list, clusters, date_col, window=15, z_threshold=3, direction=\"both\"):\n",
    "    # Step 1: Clean all sensors\n",
    "    cleaned_df = clean_sensors(dataframe, sensors_list, window=window, z_threshold=z_threshold)\n",
    "    \n",
    "    # Step 2: Calculate cluster means\n",
    "    cluster_means_df = transform_clusters(cleaned_df, clusters)\n",
    "    \n",
    "    # Step 3: Fill missing values\n",
    "    cluster_means_df_filled = fill_missing_for_all_columns(cluster_means_df, date_col=date_col, direction=direction)\n",
    "    \n",
    "    return cluster_means_df_filled\n",
    "\n",
    "processed_df = process_time_series(\n",
    "    dataframe=train_df,\n",
    "    sensors_list=sensors_list,\n",
    "    clusters=clusters_0,\n",
    "    date_col=\"full_date\",\n",
    "    window=60,\n",
    "    z_threshold=3,\n",
    "    direction=\"both\"\n",
    ")"
   ]
  },
  {
   "cell_type": "code",
   "execution_count": null,
   "metadata": {},
   "outputs": [
    {
     "name": "stdout",
     "output_type": "stream",
     "text": [
      "<class 'pandas.core.frame.DataFrame'>\n",
      "RangeIndex: 1070 entries, 0 to 1069\n",
      "Data columns (total 9 columns):\n",
      " #   Column     Non-Null Count  Dtype         \n",
      "---  ------     --------------  -----         \n",
      " 0   full_date  1070 non-null   datetime64[ns]\n",
      " 1   0          1068 non-null   float64       \n",
      " 2   1          1070 non-null   float64       \n",
      " 3   2          1069 non-null   float64       \n",
      " 4   3          1070 non-null   float64       \n",
      " 5   4          1070 non-null   float64       \n",
      " 6   5          1070 non-null   float64       \n",
      " 7   6          1070 non-null   float64       \n",
      " 8   7          1070 non-null   float64       \n",
      "dtypes: datetime64[ns](1), float64(8)\n",
      "memory usage: 75.4 KB\n"
     ]
    }
   ],
   "source": [
    "processed_df.info()"
   ]
  },
  {
   "cell_type": "code",
   "execution_count": null,
   "metadata": {},
   "outputs": [],
   "source": [
    "processed_df[0] = processed_df[0].fillna(processed_df[0].rolling(10, min_periods=5, center=True).mean())\n",
    "processed_df[2] = processed_df[2].fillna(processed_df[2].rolling(10, min_periods=5, center=True).mean())"
   ]
  },
  {
   "cell_type": "code",
   "execution_count": null,
   "metadata": {},
   "outputs": [],
   "source": []
  },
  {
   "cell_type": "code",
   "execution_count": 138,
   "metadata": {},
   "outputs": [],
   "source": [
    "def ts_cols_to_long(processed_df, date_col=\"full_date\"):\n",
    "    long_df = pd.melt(processed_df, id_vars=[date_col], var_name=\"ID\", value_name=\"value\")\n",
    "    long_df.rename(columns={date_col: \"date\"}, inplace=True)\n",
    "    return long_df"
   ]
  },
  {
   "cell_type": "code",
   "execution_count": null,
   "metadata": {},
   "outputs": [],
   "source": [
    "long_df = ts_cols_to_long(processed_df)"
   ]
  },
  {
   "cell_type": "code",
   "execution_count": 132,
   "metadata": {},
   "outputs": [],
   "source": [
    "# long_df.to_csv(path_to_data+\"clusters_data/exp0_train.csv\")\n",
    "# long_df.to_csv(path_to_data+\"clusters_data/exp1_train.csv\")"
   ]
  },
  {
   "cell_type": "markdown",
   "metadata": {},
   "source": [
    "add clustered test data "
   ]
  },
  {
   "cell_type": "code",
   "execution_count": 182,
   "metadata": {},
   "outputs": [],
   "source": [
    "oot_df = pd.read_csv(path_to_data+\"raw_oot.csv\")\n",
    "oot_clust_df = transform_clusters(oot_df, clusters_0)\n",
    "\n",
    "oot_lonf_df = ts_cols_to_long(oot_clust_df)\n",
    "# oot_lonf_df.to_csv(path_to_data+\"clusters_data/exp0_oot.csv\")"
   ]
  },
  {
   "cell_type": "code",
   "execution_count": 183,
   "metadata": {},
   "outputs": [],
   "source": [
    "pd.concat([processed_df, oot_clust_df]).to_csv(path_to_data+\"clusters0_df.csv\")"
   ]
  },
  {
   "cell_type": "code",
   "execution_count": 163,
   "metadata": {},
   "outputs": [
    {
     "data": {
      "text/html": [
       "<div>\n",
       "<style scoped>\n",
       "    .dataframe tbody tr th:only-of-type {\n",
       "        vertical-align: middle;\n",
       "    }\n",
       "\n",
       "    .dataframe tbody tr th {\n",
       "        vertical-align: top;\n",
       "    }\n",
       "\n",
       "    .dataframe thead th {\n",
       "        text-align: right;\n",
       "    }\n",
       "</style>\n",
       "<table border=\"1\" class=\"dataframe\">\n",
       "  <thead>\n",
       "    <tr style=\"text-align: right;\">\n",
       "      <th></th>\n",
       "      <th>full_date</th>\n",
       "      <th>0</th>\n",
       "      <th>1</th>\n",
       "      <th>2</th>\n",
       "      <th>3</th>\n",
       "      <th>4</th>\n",
       "      <th>5</th>\n",
       "      <th>6</th>\n",
       "      <th>7</th>\n",
       "    </tr>\n",
       "  </thead>\n",
       "  <tbody>\n",
       "    <tr>\n",
       "      <th>0</th>\n",
       "      <td>2020-03-01</td>\n",
       "      <td>111.747030</td>\n",
       "      <td>152.588178</td>\n",
       "      <td>196.137187</td>\n",
       "      <td>61.265649</td>\n",
       "      <td>76.975460</td>\n",
       "      <td>71.410303</td>\n",
       "      <td>67.097544</td>\n",
       "      <td>46.113576</td>\n",
       "    </tr>\n",
       "    <tr>\n",
       "      <th>1</th>\n",
       "      <td>2020-03-02</td>\n",
       "      <td>82.020964</td>\n",
       "      <td>110.486055</td>\n",
       "      <td>152.995871</td>\n",
       "      <td>24.920594</td>\n",
       "      <td>31.919838</td>\n",
       "      <td>40.330648</td>\n",
       "      <td>39.212153</td>\n",
       "      <td>22.820844</td>\n",
       "    </tr>\n",
       "    <tr>\n",
       "      <th>2</th>\n",
       "      <td>2020-03-03</td>\n",
       "      <td>33.649860</td>\n",
       "      <td>35.094170</td>\n",
       "      <td>44.397356</td>\n",
       "      <td>27.532835</td>\n",
       "      <td>32.533745</td>\n",
       "      <td>32.562538</td>\n",
       "      <td>38.631066</td>\n",
       "      <td>37.504533</td>\n",
       "    </tr>\n",
       "    <tr>\n",
       "      <th>3</th>\n",
       "      <td>2020-03-04</td>\n",
       "      <td>47.822443</td>\n",
       "      <td>46.916921</td>\n",
       "      <td>64.765320</td>\n",
       "      <td>42.791704</td>\n",
       "      <td>55.044224</td>\n",
       "      <td>54.611249</td>\n",
       "      <td>48.924843</td>\n",
       "      <td>59.851417</td>\n",
       "    </tr>\n",
       "    <tr>\n",
       "      <th>4</th>\n",
       "      <td>2020-03-05</td>\n",
       "      <td>63.182833</td>\n",
       "      <td>79.554507</td>\n",
       "      <td>119.589136</td>\n",
       "      <td>48.827401</td>\n",
       "      <td>52.895477</td>\n",
       "      <td>60.012787</td>\n",
       "      <td>49.054143</td>\n",
       "      <td>47.876804</td>\n",
       "    </tr>\n",
       "    <tr>\n",
       "      <th>...</th>\n",
       "      <td>...</td>\n",
       "      <td>...</td>\n",
       "      <td>...</td>\n",
       "      <td>...</td>\n",
       "      <td>...</td>\n",
       "      <td>...</td>\n",
       "      <td>...</td>\n",
       "      <td>...</td>\n",
       "      <td>...</td>\n",
       "    </tr>\n",
       "    <tr>\n",
       "      <th>216</th>\n",
       "      <td>2020-10-03</td>\n",
       "      <td>37.480000</td>\n",
       "      <td>37.090000</td>\n",
       "      <td>74.400000</td>\n",
       "      <td>25.850000</td>\n",
       "      <td>40.190000</td>\n",
       "      <td>32.140000</td>\n",
       "      <td>30.945000</td>\n",
       "      <td>27.440000</td>\n",
       "    </tr>\n",
       "    <tr>\n",
       "      <th>217</th>\n",
       "      <td>2020-10-04</td>\n",
       "      <td>32.100000</td>\n",
       "      <td>NaN</td>\n",
       "      <td>103.820000</td>\n",
       "      <td>17.520000</td>\n",
       "      <td>26.680000</td>\n",
       "      <td>30.660000</td>\n",
       "      <td>24.565000</td>\n",
       "      <td>25.675000</td>\n",
       "    </tr>\n",
       "    <tr>\n",
       "      <th>218</th>\n",
       "      <td>2020-10-05</td>\n",
       "      <td>32.510000</td>\n",
       "      <td>29.550000</td>\n",
       "      <td>75.030000</td>\n",
       "      <td>16.530000</td>\n",
       "      <td>25.935000</td>\n",
       "      <td>27.890000</td>\n",
       "      <td>17.750000</td>\n",
       "      <td>22.300000</td>\n",
       "    </tr>\n",
       "    <tr>\n",
       "      <th>219</th>\n",
       "      <td>2020-10-06</td>\n",
       "      <td>21.440000</td>\n",
       "      <td>28.950000</td>\n",
       "      <td>35.300000</td>\n",
       "      <td>13.220000</td>\n",
       "      <td>23.473333</td>\n",
       "      <td>22.920000</td>\n",
       "      <td>17.600000</td>\n",
       "      <td>24.360000</td>\n",
       "    </tr>\n",
       "    <tr>\n",
       "      <th>220</th>\n",
       "      <td>2020-10-07</td>\n",
       "      <td>56.210000</td>\n",
       "      <td>50.010000</td>\n",
       "      <td>116.860000</td>\n",
       "      <td>24.670000</td>\n",
       "      <td>29.356667</td>\n",
       "      <td>31.610000</td>\n",
       "      <td>28.460000</td>\n",
       "      <td>22.225000</td>\n",
       "    </tr>\n",
       "  </tbody>\n",
       "</table>\n",
       "<p>221 rows × 9 columns</p>\n",
       "</div>"
      ],
      "text/plain": [
       "      full_date           0           1           2          3          4  \\\n",
       "0    2020-03-01  111.747030  152.588178  196.137187  61.265649  76.975460   \n",
       "1    2020-03-02   82.020964  110.486055  152.995871  24.920594  31.919838   \n",
       "2    2020-03-03   33.649860   35.094170   44.397356  27.532835  32.533745   \n",
       "3    2020-03-04   47.822443   46.916921   64.765320  42.791704  55.044224   \n",
       "4    2020-03-05   63.182833   79.554507  119.589136  48.827401  52.895477   \n",
       "..          ...         ...         ...         ...        ...        ...   \n",
       "216  2020-10-03   37.480000   37.090000   74.400000  25.850000  40.190000   \n",
       "217  2020-10-04   32.100000         NaN  103.820000  17.520000  26.680000   \n",
       "218  2020-10-05   32.510000   29.550000   75.030000  16.530000  25.935000   \n",
       "219  2020-10-06   21.440000   28.950000   35.300000  13.220000  23.473333   \n",
       "220  2020-10-07   56.210000   50.010000  116.860000  24.670000  29.356667   \n",
       "\n",
       "             5          6          7  \n",
       "0    71.410303  67.097544  46.113576  \n",
       "1    40.330648  39.212153  22.820844  \n",
       "2    32.562538  38.631066  37.504533  \n",
       "3    54.611249  48.924843  59.851417  \n",
       "4    60.012787  49.054143  47.876804  \n",
       "..         ...        ...        ...  \n",
       "216  32.140000  30.945000  27.440000  \n",
       "217  30.660000  24.565000  25.675000  \n",
       "218  27.890000  17.750000  22.300000  \n",
       "219  22.920000  17.600000  24.360000  \n",
       "220  31.610000  28.460000  22.225000  \n",
       "\n",
       "[221 rows x 9 columns]"
      ]
     },
     "execution_count": 163,
     "metadata": {},
     "output_type": "execute_result"
    }
   ],
   "source": [
    "oot_clust_df.to_csv()"
   ]
  },
  {
   "cell_type": "code",
   "execution_count": 150,
   "metadata": {},
   "outputs": [],
   "source": [
    "new_df = df[['full_date', 'Grand Total']].rename(columns={\"Grand Total\": \"pm\"})\n",
    "new_df.to_csv(path_to_data+\"total_data.csv\")"
   ]
  },
  {
   "cell_type": "code",
   "execution_count": null,
   "metadata": {},
   "outputs": [],
   "source": []
  },
  {
   "cell_type": "code",
   "execution_count": 151,
   "metadata": {},
   "outputs": [
    {
     "data": {
      "text/html": [
       "<div>\n",
       "<style scoped>\n",
       "    .dataframe tbody tr th:only-of-type {\n",
       "        vertical-align: middle;\n",
       "    }\n",
       "\n",
       "    .dataframe tbody tr th {\n",
       "        vertical-align: top;\n",
       "    }\n",
       "\n",
       "    .dataframe thead th {\n",
       "        text-align: right;\n",
       "    }\n",
       "</style>\n",
       "<table border=\"1\" class=\"dataframe\">\n",
       "  <thead>\n",
       "    <tr style=\"text-align: right;\">\n",
       "      <th></th>\n",
       "      <th>full_date</th>\n",
       "      <th>pm</th>\n",
       "    </tr>\n",
       "  </thead>\n",
       "  <tbody>\n",
       "    <tr>\n",
       "      <th>0</th>\n",
       "      <td>2017-03-22</td>\n",
       "      <td>91.982979</td>\n",
       "    </tr>\n",
       "    <tr>\n",
       "      <th>1</th>\n",
       "      <td>2017-03-23</td>\n",
       "      <td>84.649269</td>\n",
       "    </tr>\n",
       "    <tr>\n",
       "      <th>2</th>\n",
       "      <td>2017-03-24</td>\n",
       "      <td>126.039535</td>\n",
       "    </tr>\n",
       "    <tr>\n",
       "      <th>3</th>\n",
       "      <td>2017-03-25</td>\n",
       "      <td>63.183913</td>\n",
       "    </tr>\n",
       "    <tr>\n",
       "      <th>4</th>\n",
       "      <td>2017-03-26</td>\n",
       "      <td>38.572597</td>\n",
       "    </tr>\n",
       "    <tr>\n",
       "      <th>...</th>\n",
       "      <td>...</td>\n",
       "      <td>...</td>\n",
       "    </tr>\n",
       "    <tr>\n",
       "      <th>1286</th>\n",
       "      <td>2020-10-03</td>\n",
       "      <td>41.795789</td>\n",
       "    </tr>\n",
       "    <tr>\n",
       "      <th>1287</th>\n",
       "      <td>2020-10-04</td>\n",
       "      <td>32.194444</td>\n",
       "    </tr>\n",
       "    <tr>\n",
       "      <th>1288</th>\n",
       "      <td>2020-10-05</td>\n",
       "      <td>30.645000</td>\n",
       "    </tr>\n",
       "    <tr>\n",
       "      <th>1289</th>\n",
       "      <td>2020-10-06</td>\n",
       "      <td>24.271667</td>\n",
       "    </tr>\n",
       "    <tr>\n",
       "      <th>1290</th>\n",
       "      <td>2020-10-07</td>\n",
       "      <td>45.039524</td>\n",
       "    </tr>\n",
       "  </tbody>\n",
       "</table>\n",
       "<p>1291 rows × 2 columns</p>\n",
       "</div>"
      ],
      "text/plain": [
       "       full_date          pm\n",
       "0     2017-03-22   91.982979\n",
       "1     2017-03-23   84.649269\n",
       "2     2017-03-24  126.039535\n",
       "3     2017-03-25   63.183913\n",
       "4     2017-03-26   38.572597\n",
       "...          ...         ...\n",
       "1286  2020-10-03   41.795789\n",
       "1287  2020-10-04   32.194444\n",
       "1288  2020-10-05   30.645000\n",
       "1289  2020-10-06   24.271667\n",
       "1290  2020-10-07   45.039524\n",
       "\n",
       "[1291 rows x 2 columns]"
      ]
     },
     "execution_count": 151,
     "metadata": {},
     "output_type": "execute_result"
    }
   ],
   "source": [
    "new_df"
   ]
  }
 ],
 "metadata": {
  "kernelspec": {
   "display_name": "Python 3",
   "language": "python",
   "name": "python3"
  },
  "language_info": {
   "codemirror_mode": {
    "name": "ipython",
    "version": 3
   },
   "file_extension": ".py",
   "mimetype": "text/x-python",
   "name": "python",
   "nbconvert_exporter": "python",
   "pygments_lexer": "ipython3",
   "version": "3.12.1"
  }
 },
 "nbformat": 4,
 "nbformat_minor": 2
}
