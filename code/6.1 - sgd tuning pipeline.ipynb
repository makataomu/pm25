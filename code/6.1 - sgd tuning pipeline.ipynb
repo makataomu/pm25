{
 "cells": [
  {
   "cell_type": "code",
   "execution_count": 40,
   "metadata": {},
   "outputs": [],
   "source": [
    "import pandas as pd\n",
    "import time\n",
    "import matplotlib.pyplot as plt\n",
    "import plotly.express as px\n",
    "import plotly.graph_objects as go"
   ]
  },
  {
   "cell_type": "code",
   "execution_count": 41,
   "metadata": {},
   "outputs": [],
   "source": [
    "from numba import njit\n",
    "from window_ops.expanding import expanding_mean\n",
    "from window_ops.rolling import rolling_mean\n",
    "\n",
    "@njit\n",
    "def rolling_mean_14(x):\n",
    "    return rolling_mean(x, window_size=14)\n",
    "@njit\n",
    "def rolling_mean_30(x):\n",
    "    return rolling_mean(x, window_size=30)"
   ]
  },
  {
   "cell_type": "code",
   "execution_count": 42,
   "metadata": {},
   "outputs": [],
   "source": [
    "def format_df_to_mlforecast(df, date_col, target_col, unique_id='mean'):\n",
    "    df_ = df.rename({\n",
    "        date_col: \"ds\",\n",
    "        # target_col: 'y',\n",
    "    }, axis=1)\n",
    "\n",
    "    df_['ds'] = pd.to_datetime(df_['ds'])\n",
    "\n",
    "    df_['y'] = df_[target_col].copy()\n",
    "    # df_.drop(columns=target_col)\n",
    "\n",
    "    df_['unique_id'] = unique_id\n",
    "    return df_"
   ]
  },
  {
   "cell_type": "code",
   "execution_count": 43,
   "metadata": {},
   "outputs": [],
   "source": [
    "selected_sensors_df = pd.read_csv(\"../data/selected_sensors2_cleaned.csv\", index_col=0)"
   ]
  },
  {
   "cell_type": "code",
   "execution_count": 44,
   "metadata": {},
   "outputs": [],
   "source": [
    "TEST_START_DATE = \"2019-04-02\"\n",
    "scenarios_sensors = {\n",
    "    # 0: 1, 4372603\n",
    "    # \"0_12M_train_7M_test\": {\"train_start\": \"2017-03-25\", \"train_end\": \"2018-03-25\", \"test_start\": \"2018-03-26\", \"test_end\": \"2018-10-10\"},\n",
    "    '2': {\n",
    "        # \"18M_train\":  {\"train_start\": \"2017-04-01\", \"train_end\": \"2018-10-01\"},\n",
    "        \"12M_train\":  {\"train_start\": \"2017-04-01\", \"train_end\": \"2018-04-01\", \"val_start\": \"2017-04-01\", \"val_end\": \"2018-04-01\"},\n",
    "        # \"12M_train_3M_val\":  {\"train_start\": \"2017-04-01\", \"train_end\": \"2018-04-01\", \"val_start\": \"2018-04-01\", \"val_end\": \"2018-07-01\"},\n",
    "        \"12M_train_6M_val\":  {\"train_start\": \"2017-04-01\", \"train_end\": \"2018-04-01\", \"val_start\": \"2018-04-01\", \"val_end\": \"2018-10-01\"},\n",
    "        \"12M_train_9M_val\":  {\"train_start\": \"2017-04-01\", \"train_end\": \"2018-04-01\", \"val_start\": \"2018-04-01\", \"val_end\": \"2019-01-01\"},\n",
    "        \"12M_train_12M_val\":  {\"train_start\": \"2017-04-01\", \"train_end\": \"2018-04-01\", \"val_start\": \"2018-04-01\", \"val_end\": \"2019-04-01\"},\n",
    "        },\n",
    "}\n",
    "scenarios_sensors['5'] = scenarios_sensors['2'].copy()\n",
    "scenarios_sensors['6'] = scenarios_sensors['2'].copy()"
   ]
  },
  {
   "cell_type": "code",
   "execution_count": 45,
   "metadata": {},
   "outputs": [],
   "source": [
    "from MLForecastPipeline import *"
   ]
  },
  {
   "cell_type": "code",
   "execution_count": 46,
   "metadata": {},
   "outputs": [],
   "source": [
    "def full_split_data(df, scenario, test_start_date=TEST_START_DATE, date_col=\"ds\"):\n",
    "    \"\"\"Extracts train and test data based on train end date.\"\"\"\n",
    "    train_data = df[df[date_col] <= scenario['train_end']]\n",
    "    val_data = df[(df[date_col] > scenario['val_start']) & (df[date_col] <= scenario['val_end'])]\n",
    "    test_data = df[df[date_col] >= test_start_date]\n",
    "    return train_data, val_data, test_data\n",
    "\n",
    "models = {\n",
    "    \"SGD_Ridge\": SGDRegressor( penalty='l2', alpha=1, random_state=42 ),\n",
    "    \"SGDRegressor\": SGDRegressor(random_state=42),\n",
    "    \"SGD_ElasticNet\": SGDRegressor( penalty='elasticnet', l1_ratio=0.5, alpha=0.001, random_state=42 ),\n",
    "}\n",
    "\n",
    "# Define lag transformations\n",
    "from mlforecast.lag_transforms import *\n",
    "lag_transforms_options = [\n",
    "    # {},\n",
    "    {1: [rolling_mean_14], 7: [rolling_mean_30], 30: [expanding_mean]},\n",
    "    {1: [expanding_mean], 7: [rolling_mean_14], 30: [expanding_mean]},\n",
    "    # {7: [RollingMean(window_size=7)], 30: [RollingMean(window_size=30)], 60: [RollingMean(window_size=60)], },\n",
    "    {7: [RollingMean(7), RollingStd(7)], 30: [RollingMean(30)], 60: [ExpandingMean()], 14: [ExponentiallyWeightedMean(alpha=0.3)],},\n",
    "    {7: [RollingMean(7), RollingStd(7), ExpandingStd()], 14: [RollingMean(14), ExpandingStd(), ExponentiallyWeightedMean(alpha=0.3)], 30: [RollingMean(30)], 60: [ExpandingMean()],},\n",
    "]"
   ]
  },
  {
   "cell_type": "code",
   "execution_count": 47,
   "metadata": {},
   "outputs": [],
   "source": [
    "# Reshaping to MLForecast format\n",
    "def format_multi_df_to_mlforecast(df):\n",
    "    df_melted = df.melt(id_vars=['full_date'], var_name='unique_id', value_name='y')\n",
    "    return df_melted.rename(columns={'full_date': 'ds'})"
   ]
  },
  {
   "cell_type": "code",
   "execution_count": 48,
   "metadata": {},
   "outputs": [],
   "source": [
    "def optuna_objective(trial, train_df, test_df, transforms, lags, lag_transforms):\n",
    "    alpha = trial.suggest_float('alpha', 1e-6, 1, log=True)\n",
    "    l1_ratio = trial.suggest_float('l1_ratio', 0.0, 1.0)\n",
    "    max_iter = trial.suggest_int('max_iter', 300, 1000, step=100)  # Optimizing max_iter (number of iterations)\n",
    "    eta0 = trial.suggest_float('eta0', 1e-6, 1, log=True)\n",
    "    tol = trial.suggest_loguniform('tol', 1e-6, 1e-3)\n",
    "\n",
    "    model = SGDRegressor(alpha=alpha, l1_ratio=l1_ratio, max_iter=max_iter, eta0=eta0, tol=tol, penalty='elasticnet', random_state=42)\n",
    "\n",
    "    try:\n",
    "        fcst = MLForecast(\n",
    "            models=[model],\n",
    "            freq='D',\n",
    "            lags=lags,\n",
    "            target_transforms=transforms,\n",
    "            lag_transforms=lag_transforms,\n",
    "            num_threads=1,\n",
    "        )\n",
    "        fcst.fit(train_df)\n",
    "        predictions = fcst.predict(h=len(test_df))\n",
    "        mape = mape_met(test_df['y'].values, predictions['SGDRegressor'].values)\n",
    "        return mape\n",
    "    except Exception as e:\n",
    "        print(e)\n",
    "        return float('inf')\n",
    "    \n",
    "import optuna\n",
    "\n",
    "def run_optuna_search(train_df, test_df, transforms, lags, lag_transforms, n_trials=30):\n",
    "    study = optuna.create_study(direction='minimize')\n",
    "    study.optimize(lambda trial: optuna_objective(trial, train_df, test_df, transforms, lags, lag_transforms), n_trials=n_trials)\n",
    "    return study.best_params\n"
   ]
  },
  {
   "cell_type": "code",
   "execution_count": null,
   "metadata": {},
   "outputs": [],
   "source": [
    "sensor_name = '2'\n",
    "scenario = scenarios_sensors['2']['12M_train']\n",
    "ratios = [1]\n",
    "\n",
    "formatted_df = format_df_to_mlforecast(selected_sensors_df[['full_date', sensor_name]], 'full_date', sensor_name, unique_id=sensor_name)\n",
    "formatted_df = formatted_df[['ds', 'y', 'unique_id']]\n",
    "\n",
    "train_df, val_df, test_df = full_split_data(formatted_df, scenario)\n",
    "optimal_lags_list = get_optimal_lags(train_df, 'y', ratios=ratios)\n",
    "target_transforms = get_dynamic_transforms(train_df)"
   ]
  },
  {
   "cell_type": "code",
   "execution_count": 59,
   "metadata": {},
   "outputs": [
    {
     "data": {
      "text/plain": [
       "8064"
      ]
     },
     "execution_count": 59,
     "metadata": {},
     "output_type": "execute_result"
    }
   ],
   "source": [
    "len(optimal_lags_list) * len(valid_transform_combinations) * 42 * len(lag_transforms_options)"
   ]
  },
  {
   "cell_type": "code",
   "execution_count": 50,
   "metadata": {},
   "outputs": [],
   "source": [
    "valid_transform_combinations = [()] + list(chain(combinations(target_transforms, 1), combinations(target_transforms, 2)))\n",
    "valid_transform_combinations = [tc for tc in valid_transform_combinations if filter_conflicting_transforms(tc)]\n",
    "\n",
    "transforms = list(valid_transform_combinations[1])\n",
    "lags = optimal_lags_list[list(optimal_lags_list.keys())[0]]\n",
    "lag_transforms = lag_transforms_options[0]"
   ]
  },
  {
   "cell_type": "code",
   "execution_count": null,
   "metadata": {},
   "outputs": [
    {
     "name": "stderr",
     "output_type": "stream",
     "text": [
      "[I 2025-04-08 22:47:02,124] A new study created in memory with name: no-name-542460a6-16a5-49a2-beb2-eee722bcb573\n"
     ]
    },
    {
     "name": "stderr",
     "output_type": "stream",
     "text": [
      "C:\\Users\\77019\\AppData\\Local\\Temp\\ipykernel_21844\\2493118097.py:6: FutureWarning: suggest_loguniform has been deprecated in v3.0.0. This feature will be removed in v6.0.0. See https://github.com/optuna/optuna/releases/tag/v3.0.0. Use suggest_float(..., log=True) instead.\n",
      "  tol = trial.suggest_loguniform('tol', 1e-6, 1e-3)\n",
      "[I 2025-04-08 22:47:12,842] Trial 0 finished with value: 62.88467248209314 and parameters: {'alpha': 9.01339696590819e-05, 'l1_ratio': 0.17783879305086248, 'max_iter': 1000, 'eta0': 4.371466975720943e-05, 'tol': 0.0006440191774605649}. Best is trial 0 with value: 62.88467248209314.\n",
      "C:\\Users\\77019\\AppData\\Local\\Temp\\ipykernel_21844\\2493118097.py:6: FutureWarning: suggest_loguniform has been deprecated in v3.0.0. This feature will be removed in v6.0.0. See https://github.com/optuna/optuna/releases/tag/v3.0.0. Use suggest_float(..., log=True) instead.\n",
      "  tol = trial.suggest_loguniform('tol', 1e-6, 1e-3)\n",
      "[I 2025-04-08 22:47:16,142] Trial 1 finished with value: 60.77461145928027 and parameters: {'alpha': 0.0001133015081611941, 'l1_ratio': 0.4302700689707484, 'max_iter': 400, 'eta0': 1.2890066154557191e-05, 'tol': 0.00024154947349282093}. Best is trial 1 with value: 60.77461145928027.\n",
      "C:\\Users\\77019\\AppData\\Local\\Temp\\ipykernel_21844\\2493118097.py:6: FutureWarning: suggest_loguniform has been deprecated in v3.0.0. This feature will be removed in v6.0.0. See https://github.com/optuna/optuna/releases/tag/v3.0.0. Use suggest_float(..., log=True) instead.\n",
      "  tol = trial.suggest_loguniform('tol', 1e-6, 1e-3)\n",
      "[I 2025-04-08 22:47:19,823] Trial 2 finished with value: 62.68443555888533 and parameters: {'alpha': 0.1124794869910732, 'l1_ratio': 0.7875385957339892, 'max_iter': 1000, 'eta0': 1.7623499184384716e-05, 'tol': 4.611170588320092e-06}. Best is trial 1 with value: 60.77461145928027.\n",
      "C:\\Users\\77019\\AppData\\Local\\Temp\\ipykernel_21844\\2493118097.py:6: FutureWarning: suggest_loguniform has been deprecated in v3.0.0. This feature will be removed in v6.0.0. See https://github.com/optuna/optuna/releases/tag/v3.0.0. Use suggest_float(..., log=True) instead.\n",
      "  tol = trial.suggest_loguniform('tol', 1e-6, 1e-3)\n",
      "[I 2025-04-08 22:47:24,163] Trial 3 finished with value: 64.14540498365677 and parameters: {'alpha': 0.029893824127243784, 'l1_ratio': 0.16242684741898694, 'max_iter': 400, 'eta0': 3.956870903403513e-05, 'tol': 0.00014790887460711043}. Best is trial 1 with value: 60.77461145928027.\n",
      "C:\\Users\\77019\\AppData\\Local\\Temp\\ipykernel_21844\\2493118097.py:6: FutureWarning: suggest_loguniform has been deprecated in v3.0.0. This feature will be removed in v6.0.0. See https://github.com/optuna/optuna/releases/tag/v3.0.0. Use suggest_float(..., log=True) instead.\n",
      "  tol = trial.suggest_loguniform('tol', 1e-6, 1e-3)\n",
      "c:\\Users\\77019\\pyver\\py312\\Lib\\site-packages\\sklearn\\linear_model\\_stochastic_gradient.py:1616: ConvergenceWarning: Maximum number of iteration reached before convergence. Consider increasing max_iter to improve the fit.\n",
      "  warnings.warn(\n",
      "[I 2025-04-08 22:47:27,474] Trial 4 finished with value: 67.15627984128906 and parameters: {'alpha': 0.8570777632092845, 'l1_ratio': 0.9117809395261119, 'max_iter': 300, 'eta0': 7.904022019061293e-06, 'tol': 2.848274032895391e-06}. Best is trial 1 with value: 60.77461145928027.\n",
      "C:\\Users\\77019\\AppData\\Local\\Temp\\ipykernel_21844\\2493118097.py:6: FutureWarning: suggest_loguniform has been deprecated in v3.0.0. This feature will be removed in v6.0.0. See https://github.com/optuna/optuna/releases/tag/v3.0.0. Use suggest_float(..., log=True) instead.\n",
      "  tol = trial.suggest_loguniform('tol', 1e-6, 1e-3)\n",
      "c:\\Users\\77019\\pyver\\py312\\Lib\\site-packages\\sklearn\\utils\\extmath.py:208: RuntimeWarning: overflow encountered in matmul\n",
      "  ret = a @ b\n",
      "c:\\Users\\77019\\pyver\\py312\\Lib\\site-packages\\sklearn\\utils\\extmath.py:208: RuntimeWarning: invalid value encountered in matmul\n",
      "  ret = a @ b\n",
      "c:\\Users\\77019\\pyver\\py312\\Lib\\site-packages\\mlforecast\\core.py:626: UserWarning: Found null values in lag1, rolling_mean_14_lag1.\n",
      "  warnings.warn(f'Found null values in {\", \".join(cols_with_nulls)}.')\n",
      "[I 2025-04-08 22:47:27,934] Trial 5 finished with value: inf and parameters: {'alpha': 0.0020194778409230846, 'l1_ratio': 0.633953630871629, 'max_iter': 400, 'eta0': 0.666311551001678, 'tol': 0.0007772783400740249}. Best is trial 1 with value: 60.77461145928027.\n",
      "C:\\Users\\77019\\AppData\\Local\\Temp\\ipykernel_21844\\2493118097.py:6: FutureWarning: suggest_loguniform has been deprecated in v3.0.0. This feature will be removed in v6.0.0. See https://github.com/optuna/optuna/releases/tag/v3.0.0. Use suggest_float(..., log=True) instead.\n",
      "  tol = trial.suggest_loguniform('tol', 1e-6, 1e-3)\n"
     ]
    },
    {
     "name": "stdout",
     "output_type": "stream",
     "text": [
      "Input X contains NaN.\n",
      "SGDRegressor does not accept missing values encoded as NaN natively. For supervised learning, you might want to consider sklearn.ensemble.HistGradientBoostingClassifier and Regressor which accept missing values encoded as NaNs natively. Alternatively, it is possible to preprocess the data, for instance by using an imputer transformer in a pipeline or drop samples with missing values. See https://scikit-learn.org/stable/modules/impute.html You can find a list of all estimators that handle NaN values at the following page: https://scikit-learn.org/stable/modules/impute.html#estimators-that-handle-nan-values\n"
     ]
    },
    {
     "name": "stderr",
     "output_type": "stream",
     "text": [
      "c:\\Users\\77019\\pyver\\py312\\Lib\\site-packages\\sklearn\\utils\\extmath.py:208: RuntimeWarning: overflow encountered in matmul\n",
      "  ret = a @ b\n",
      "[I 2025-04-08 22:47:28,322] Trial 6 finished with value: inf and parameters: {'alpha': 0.0012892100651971882, 'l1_ratio': 0.6270811485009592, 'max_iter': 700, 'eta0': 0.4243675499043197, 'tol': 2.5782293544137194e-06}. Best is trial 1 with value: 60.77461145928027.\n",
      "C:\\Users\\77019\\AppData\\Local\\Temp\\ipykernel_21844\\2493118097.py:6: FutureWarning: suggest_loguniform has been deprecated in v3.0.0. This feature will be removed in v6.0.0. See https://github.com/optuna/optuna/releases/tag/v3.0.0. Use suggest_float(..., log=True) instead.\n",
      "  tol = trial.suggest_loguniform('tol', 1e-6, 1e-3)\n",
      "c:\\Users\\77019\\pyver\\py312\\Lib\\site-packages\\sklearn\\linear_model\\_stochastic_gradient.py:1616: ConvergenceWarning: Maximum number of iteration reached before convergence. Consider increasing max_iter to improve the fit.\n",
      "  warnings.warn(\n"
     ]
    },
    {
     "name": "stdout",
     "output_type": "stream",
     "text": [
      "Input X contains infinity or a value too large for dtype('float64').\n"
     ]
    },
    {
     "name": "stderr",
     "output_type": "stream",
     "text": [
      "[I 2025-04-08 22:47:31,693] Trial 7 finished with value: 77.3566707400339 and parameters: {'alpha': 0.00036059410411719755, 'l1_ratio': 0.7062333312510054, 'max_iter': 400, 'eta0': 1.6089212175658186e-06, 'tol': 0.0006364836159368084}. Best is trial 1 with value: 60.77461145928027.\n",
      "C:\\Users\\77019\\AppData\\Local\\Temp\\ipykernel_21844\\2493118097.py:6: FutureWarning: suggest_loguniform has been deprecated in v3.0.0. This feature will be removed in v6.0.0. See https://github.com/optuna/optuna/releases/tag/v3.0.0. Use suggest_float(..., log=True) instead.\n",
      "  tol = trial.suggest_loguniform('tol', 1e-6, 1e-3)\n",
      "c:\\Users\\77019\\pyver\\py312\\Lib\\site-packages\\sklearn\\utils\\extmath.py:208: RuntimeWarning: overflow encountered in matmul\n",
      "  ret = a @ b\n",
      "[I 2025-04-08 22:47:32,119] Trial 8 finished with value: inf and parameters: {'alpha': 0.08412409677395112, 'l1_ratio': 0.5531967794388765, 'max_iter': 600, 'eta0': 0.18613240280280632, 'tol': 1.897785854429546e-06}. Best is trial 1 with value: 60.77461145928027.\n",
      "C:\\Users\\77019\\AppData\\Local\\Temp\\ipykernel_21844\\2493118097.py:6: FutureWarning: suggest_loguniform has been deprecated in v3.0.0. This feature will be removed in v6.0.0. See https://github.com/optuna/optuna/releases/tag/v3.0.0. Use suggest_float(..., log=True) instead.\n",
      "  tol = trial.suggest_loguniform('tol', 1e-6, 1e-3)\n"
     ]
    },
    {
     "name": "stdout",
     "output_type": "stream",
     "text": [
      "Input X contains infinity or a value too large for dtype('float64').\n"
     ]
    },
    {
     "name": "stderr",
     "output_type": "stream",
     "text": [
      "c:\\Users\\77019\\pyver\\py312\\Lib\\site-packages\\sklearn\\utils\\extmath.py:208: RuntimeWarning: overflow encountered in matmul\n",
      "  ret = a @ b\n",
      "c:\\Users\\77019\\pyver\\py312\\Lib\\site-packages\\sklearn\\utils\\extmath.py:208: RuntimeWarning: invalid value encountered in matmul\n",
      "  ret = a @ b\n",
      "c:\\Users\\77019\\pyver\\py312\\Lib\\site-packages\\mlforecast\\core.py:626: UserWarning: Found null values in lag1, rolling_mean_14_lag1.\n",
      "  warnings.warn(f'Found null values in {\", \".join(cols_with_nulls)}.')\n",
      "[I 2025-04-08 22:47:32,767] Trial 9 finished with value: inf and parameters: {'alpha': 0.008004628084918572, 'l1_ratio': 0.42511616069421554, 'max_iter': 600, 'eta0': 0.47292510170316826, 'tol': 0.00010233666884045946}. Best is trial 1 with value: 60.77461145928027.\n",
      "C:\\Users\\77019\\AppData\\Local\\Temp\\ipykernel_21844\\2493118097.py:6: FutureWarning: suggest_loguniform has been deprecated in v3.0.0. This feature will be removed in v6.0.0. See https://github.com/optuna/optuna/releases/tag/v3.0.0. Use suggest_float(..., log=True) instead.\n",
      "  tol = trial.suggest_loguniform('tol', 1e-6, 1e-3)\n"
     ]
    },
    {
     "name": "stdout",
     "output_type": "stream",
     "text": [
      "Input X contains NaN.\n",
      "SGDRegressor does not accept missing values encoded as NaN natively. For supervised learning, you might want to consider sklearn.ensemble.HistGradientBoostingClassifier and Regressor which accept missing values encoded as NaNs natively. Alternatively, it is possible to preprocess the data, for instance by using an imputer transformer in a pipeline or drop samples with missing values. See https://scikit-learn.org/stable/modules/impute.html You can find a list of all estimators that handle NaN values at the following page: https://scikit-learn.org/stable/modules/impute.html#estimators-that-handle-nan-values\n"
     ]
    },
    {
     "name": "stderr",
     "output_type": "stream",
     "text": [
      "c:\\Users\\77019\\pyver\\py312\\Lib\\site-packages\\sklearn\\utils\\extmath.py:208: RuntimeWarning: overflow encountered in matmul\n",
      "  ret = a @ b\n",
      "[I 2025-04-08 22:47:33,401] Trial 10 finished with value: inf and parameters: {'alpha': 1.1136903475183501e-06, 'l1_ratio': 0.32111120018694095, 'max_iter': 700, 'eta0': 0.002251164039383594, 'tol': 2.2294507611176495e-05}. Best is trial 1 with value: 60.77461145928027.\n",
      "C:\\Users\\77019\\AppData\\Local\\Temp\\ipykernel_21844\\2493118097.py:6: FutureWarning: suggest_loguniform has been deprecated in v3.0.0. This feature will be removed in v6.0.0. See https://github.com/optuna/optuna/releases/tag/v3.0.0. Use suggest_float(..., log=True) instead.\n",
      "  tol = trial.suggest_loguniform('tol', 1e-6, 1e-3)\n"
     ]
    },
    {
     "name": "stdout",
     "output_type": "stream",
     "text": [
      "Input X contains infinity or a value too large for dtype('float64').\n"
     ]
    },
    {
     "name": "stderr",
     "output_type": "stream",
     "text": [
      "c:\\Users\\77019\\pyver\\py312\\Lib\\site-packages\\sklearn\\utils\\extmath.py:208: RuntimeWarning: overflow encountered in matmul\n",
      "  ret = a @ b\n",
      "[I 2025-04-08 22:47:33,991] Trial 11 finished with value: inf and parameters: {'alpha': 2.3325397155596626e-05, 'l1_ratio': 0.9300339090712152, 'max_iter': 1000, 'eta0': 0.0005806120986927875, 'tol': 9.90711892570541e-06}. Best is trial 1 with value: 60.77461145928027.\n",
      "C:\\Users\\77019\\AppData\\Local\\Temp\\ipykernel_21844\\2493118097.py:6: FutureWarning: suggest_loguniform has been deprecated in v3.0.0. This feature will be removed in v6.0.0. See https://github.com/optuna/optuna/releases/tag/v3.0.0. Use suggest_float(..., log=True) instead.\n",
      "  tol = trial.suggest_loguniform('tol', 1e-6, 1e-3)\n"
     ]
    },
    {
     "name": "stdout",
     "output_type": "stream",
     "text": [
      "Input X contains infinity or a value too large for dtype('float64').\n"
     ]
    },
    {
     "name": "stderr",
     "output_type": "stream",
     "text": [
      "c:\\Users\\77019\\pyver\\py312\\Lib\\site-packages\\sklearn\\utils\\extmath.py:208: RuntimeWarning: overflow encountered in matmul\n",
      "  ret = a @ b\n",
      "[I 2025-04-08 22:47:34,437] Trial 12 finished with value: inf and parameters: {'alpha': 2.017416625676635e-05, 'l1_ratio': 0.8203706640477869, 'max_iter': 800, 'eta0': 0.000563873434848332, 'tol': 0.00010146440973348587}. Best is trial 1 with value: 60.77461145928027.\n",
      "C:\\Users\\77019\\AppData\\Local\\Temp\\ipykernel_21844\\2493118097.py:6: FutureWarning: suggest_loguniform has been deprecated in v3.0.0. This feature will be removed in v6.0.0. See https://github.com/optuna/optuna/releases/tag/v3.0.0. Use suggest_float(..., log=True) instead.\n",
      "  tol = trial.suggest_loguniform('tol', 1e-6, 1e-3)\n"
     ]
    },
    {
     "name": "stdout",
     "output_type": "stream",
     "text": [
      "Input X contains infinity or a value too large for dtype('float64').\n"
     ]
    },
    {
     "name": "stderr",
     "output_type": "stream",
     "text": [
      "c:\\Users\\77019\\pyver\\py312\\Lib\\site-packages\\sklearn\\linear_model\\_stochastic_gradient.py:1616: ConvergenceWarning: Maximum number of iteration reached before convergence. Consider increasing max_iter to improve the fit.\n",
      "  warnings.warn(\n",
      "[I 2025-04-08 22:47:38,957] Trial 13 finished with value: 76.52174383597968 and parameters: {'alpha': 0.9493193093657952, 'l1_ratio': 0.37534257720034003, 'max_iter': 900, 'eta0': 1.0391933779036365e-06, 'tol': 8.740857760724625e-06}. Best is trial 1 with value: 60.77461145928027.\n",
      "C:\\Users\\77019\\AppData\\Local\\Temp\\ipykernel_21844\\2493118097.py:6: FutureWarning: suggest_loguniform has been deprecated in v3.0.0. This feature will be removed in v6.0.0. See https://github.com/optuna/optuna/releases/tag/v3.0.0. Use suggest_float(..., log=True) instead.\n",
      "  tol = trial.suggest_loguniform('tol', 1e-6, 1e-3)\n",
      "[I 2025-04-08 22:47:41,829] Trial 14 finished with value: 62.74597586651222 and parameters: {'alpha': 2.0095393721254054e-06, 'l1_ratio': 0.7288989289623665, 'max_iter': 500, 'eta0': 4.419773305949214e-05, 'tol': 3.9773882355841726e-05}. Best is trial 1 with value: 60.77461145928027.\n",
      "C:\\Users\\77019\\AppData\\Local\\Temp\\ipykernel_21844\\2493118097.py:6: FutureWarning: suggest_loguniform has been deprecated in v3.0.0. This feature will be removed in v6.0.0. See https://github.com/optuna/optuna/releases/tag/v3.0.0. Use suggest_float(..., log=True) instead.\n",
      "  tol = trial.suggest_loguniform('tol', 1e-6, 1e-3)\n",
      "c:\\Users\\77019\\pyver\\py312\\Lib\\site-packages\\sklearn\\utils\\extmath.py:208: RuntimeWarning: overflow encountered in matmul\n",
      "  ret = a @ b\n",
      "c:\\Users\\77019\\pyver\\py312\\Lib\\site-packages\\sklearn\\utils\\extmath.py:208: RuntimeWarning: invalid value encountered in matmul\n",
      "  ret = a @ b\n",
      "c:\\Users\\77019\\pyver\\py312\\Lib\\site-packages\\mlforecast\\core.py:626: UserWarning: Found null values in lag1, rolling_mean_14_lag1.\n",
      "  warnings.warn(f'Found null values in {\", \".join(cols_with_nulls)}.')\n",
      "[I 2025-04-08 22:47:42,162] Trial 15 finished with value: inf and parameters: {'alpha': 0.0002366583607931559, 'l1_ratio': 0.5065423254876464, 'max_iter': 800, 'eta0': 0.016552530660067132, 'tol': 0.00024184258117580126}. Best is trial 1 with value: 60.77461145928027.\n",
      "C:\\Users\\77019\\AppData\\Local\\Temp\\ipykernel_21844\\2493118097.py:6: FutureWarning: suggest_loguniform has been deprecated in v3.0.0. This feature will be removed in v6.0.0. See https://github.com/optuna/optuna/releases/tag/v3.0.0. Use suggest_float(..., log=True) instead.\n",
      "  tol = trial.suggest_loguniform('tol', 1e-6, 1e-3)\n",
      "c:\\Users\\77019\\pyver\\py312\\Lib\\site-packages\\sklearn\\linear_model\\_stochastic_gradient.py:1616: ConvergenceWarning: Maximum number of iteration reached before convergence. Consider increasing max_iter to improve the fit.\n",
      "  warnings.warn(\n"
     ]
    },
    {
     "name": "stdout",
     "output_type": "stream",
     "text": [
      "Input X contains NaN.\n",
      "SGDRegressor does not accept missing values encoded as NaN natively. For supervised learning, you might want to consider sklearn.ensemble.HistGradientBoostingClassifier and Regressor which accept missing values encoded as NaNs natively. Alternatively, it is possible to preprocess the data, for instance by using an imputer transformer in a pipeline or drop samples with missing values. See https://scikit-learn.org/stable/modules/impute.html You can find a list of all estimators that handle NaN values at the following page: https://scikit-learn.org/stable/modules/impute.html#estimators-that-handle-nan-values\n"
     ]
    },
    {
     "name": "stderr",
     "output_type": "stream",
     "text": [
      "[I 2025-04-08 22:47:45,528] Trial 16 finished with value: 65.0436045576403 and parameters: {'alpha': 0.06618299730809238, 'l1_ratio': 0.29161095170250867, 'max_iter': 300, 'eta0': 7.336533071171971e-06, 'tol': 1.0028665206911197e-06}. Best is trial 1 with value: 60.77461145928027.\n",
      "C:\\Users\\77019\\AppData\\Local\\Temp\\ipykernel_21844\\2493118097.py:6: FutureWarning: suggest_loguniform has been deprecated in v3.0.0. This feature will be removed in v6.0.0. See https://github.com/optuna/optuna/releases/tag/v3.0.0. Use suggest_float(..., log=True) instead.\n",
      "  tol = trial.suggest_loguniform('tol', 1e-6, 1e-3)\n",
      "[I 2025-04-08 22:47:48,884] Trial 17 finished with value: 61.98514432782748 and parameters: {'alpha': 0.006679413137829345, 'l1_ratio': 0.008599183366746366, 'max_iter': 500, 'eta0': 8.05109611186047e-06, 'tol': 3.870199755482634e-05}. Best is trial 1 with value: 60.77461145928027.\n",
      "C:\\Users\\77019\\AppData\\Local\\Temp\\ipykernel_21844\\2493118097.py:6: FutureWarning: suggest_loguniform has been deprecated in v3.0.0. This feature will be removed in v6.0.0. See https://github.com/optuna/optuna/releases/tag/v3.0.0. Use suggest_float(..., log=True) instead.\n",
      "  tol = trial.suggest_loguniform('tol', 1e-6, 1e-3)\n",
      "[I 2025-04-08 22:47:52,859] Trial 18 finished with value: 412998.88039563195 and parameters: {'alpha': 0.004020626416544454, 'l1_ratio': 0.02504627940616333, 'max_iter': 500, 'eta0': 0.0001264823575278905, 'tol': 3.988170104306728e-05}. Best is trial 1 with value: 60.77461145928027.\n",
      "C:\\Users\\77019\\AppData\\Local\\Temp\\ipykernel_21844\\2493118097.py:6: FutureWarning: suggest_loguniform has been deprecated in v3.0.0. This feature will be removed in v6.0.0. See https://github.com/optuna/optuna/releases/tag/v3.0.0. Use suggest_float(..., log=True) instead.\n",
      "  tol = trial.suggest_loguniform('tol', 1e-6, 1e-3)\n",
      "c:\\Users\\77019\\pyver\\py312\\Lib\\site-packages\\sklearn\\utils\\extmath.py:208: RuntimeWarning: overflow encountered in matmul\n",
      "  ret = a @ b\n",
      "[I 2025-04-08 22:47:53,237] Trial 19 finished with value: inf and parameters: {'alpha': 1.88518595849465e-05, 'l1_ratio': 0.029172133386417443, 'max_iter': 500, 'eta0': 0.0036352563079065296, 'tol': 0.0002861404979350751}. Best is trial 1 with value: 60.77461145928027.\n",
      "C:\\Users\\77019\\AppData\\Local\\Temp\\ipykernel_21844\\2493118097.py:6: FutureWarning: suggest_loguniform has been deprecated in v3.0.0. This feature will be removed in v6.0.0. See https://github.com/optuna/optuna/releases/tag/v3.0.0. Use suggest_float(..., log=True) instead.\n",
      "  tol = trial.suggest_loguniform('tol', 1e-6, 1e-3)\n"
     ]
    },
    {
     "name": "stdout",
     "output_type": "stream",
     "text": [
      "Input X contains infinity or a value too large for dtype('float64').\n"
     ]
    },
    {
     "name": "stderr",
     "output_type": "stream",
     "text": [
      "c:\\Users\\77019\\pyver\\py312\\Lib\\site-packages\\sklearn\\utils\\extmath.py:208: RuntimeWarning: overflow encountered in matmul\n",
      "  ret = a @ b\n",
      "[I 2025-04-08 22:47:55,098] Trial 20 finished with value: inf and parameters: {'alpha': 0.013954184030347642, 'l1_ratio': 0.22499643494702345, 'max_iter': 300, 'eta0': 0.00019986787411368291, 'tol': 1.81883526848039e-05}. Best is trial 1 with value: 60.77461145928027.\n",
      "C:\\Users\\77019\\AppData\\Local\\Temp\\ipykernel_21844\\2493118097.py:6: FutureWarning: suggest_loguniform has been deprecated in v3.0.0. This feature will be removed in v6.0.0. See https://github.com/optuna/optuna/releases/tag/v3.0.0. Use suggest_float(..., log=True) instead.\n",
      "  tol = trial.suggest_loguniform('tol', 1e-6, 1e-3)\n"
     ]
    },
    {
     "name": "stdout",
     "output_type": "stream",
     "text": [
      "Input X contains infinity or a value too large for dtype('float64').\n"
     ]
    },
    {
     "name": "stderr",
     "output_type": "stream",
     "text": [
      "[I 2025-04-08 22:47:59,544] Trial 21 finished with value: 65.12246962002911 and parameters: {'alpha': 0.23284269427867324, 'l1_ratio': 0.8094046426816287, 'max_iter': 500, 'eta0': 6.871213168950734e-06, 'tol': 7.043639603261528e-06}. Best is trial 1 with value: 60.77461145928027.\n",
      "C:\\Users\\77019\\AppData\\Local\\Temp\\ipykernel_21844\\2493118097.py:6: FutureWarning: suggest_loguniform has been deprecated in v3.0.0. This feature will be removed in v6.0.0. See https://github.com/optuna/optuna/releases/tag/v3.0.0. Use suggest_float(..., log=True) instead.\n",
      "  tol = trial.suggest_loguniform('tol', 1e-6, 1e-3)\n",
      "c:\\Users\\77019\\pyver\\py312\\Lib\\site-packages\\sklearn\\linear_model\\_stochastic_gradient.py:1616: ConvergenceWarning: Maximum number of iteration reached before convergence. Consider increasing max_iter to improve the fit.\n",
      "  warnings.warn(\n",
      "[I 2025-04-08 22:48:03,119] Trial 22 finished with value: 68.63728490473312 and parameters: {'alpha': 0.0003423224103462438, 'l1_ratio': 0.9870392686304484, 'max_iter': 600, 'eta0': 3.1886562201647217e-06, 'tol': 6.118616502284563e-05}. Best is trial 1 with value: 60.77461145928027.\n",
      "C:\\Users\\77019\\AppData\\Local\\Temp\\ipykernel_21844\\2493118097.py:6: FutureWarning: suggest_loguniform has been deprecated in v3.0.0. This feature will be removed in v6.0.0. See https://github.com/optuna/optuna/releases/tag/v3.0.0. Use suggest_float(..., log=True) instead.\n",
      "  tol = trial.suggest_loguniform('tol', 1e-6, 1e-3)\n",
      "[I 2025-04-08 22:48:07,213] Trial 23 finished with value: 63.1478330773817 and parameters: {'alpha': 0.21569468987029902, 'l1_ratio': 0.1031859519170133, 'max_iter': 400, 'eta0': 1.5585788662379412e-05, 'tol': 1.4869100264451682e-05}. Best is trial 1 with value: 60.77461145928027.\n",
      "C:\\Users\\77019\\AppData\\Local\\Temp\\ipykernel_21844\\2493118097.py:6: FutureWarning: suggest_loguniform has been deprecated in v3.0.0. This feature will be removed in v6.0.0. See https://github.com/optuna/optuna/releases/tag/v3.0.0. Use suggest_float(..., log=True) instead.\n",
      "  tol = trial.suggest_loguniform('tol', 1e-6, 1e-3)\n",
      "[I 2025-04-08 22:48:10,710] Trial 24 finished with value: 218204.56723048264 and parameters: {'alpha': 0.015824389489923797, 'l1_ratio': 0.41635671228664556, 'max_iter': 900, 'eta0': 0.00012373666021048543, 'tol': 4.9067270372606715e-06}. Best is trial 1 with value: 60.77461145928027.\n",
      "C:\\Users\\77019\\AppData\\Local\\Temp\\ipykernel_21844\\2493118097.py:6: FutureWarning: suggest_loguniform has been deprecated in v3.0.0. This feature will be removed in v6.0.0. See https://github.com/optuna/optuna/releases/tag/v3.0.0. Use suggest_float(..., log=True) instead.\n",
      "  tol = trial.suggest_loguniform('tol', 1e-6, 1e-3)\n",
      "[I 2025-04-08 22:48:13,737] Trial 25 finished with value: 61.853047164179685 and parameters: {'alpha': 9.809550364333387e-05, 'l1_ratio': 0.5530663527198141, 'max_iter': 700, 'eta0': 2.1946026025434784e-05, 'tol': 0.0002888353973726153}. Best is trial 1 with value: 60.77461145928027.\n",
      "C:\\Users\\77019\\AppData\\Local\\Temp\\ipykernel_21844\\2493118097.py:6: FutureWarning: suggest_loguniform has been deprecated in v3.0.0. This feature will be removed in v6.0.0. See https://github.com/optuna/optuna/releases/tag/v3.0.0. Use suggest_float(..., log=True) instead.\n",
      "  tol = trial.suggest_loguniform('tol', 1e-6, 1e-3)\n",
      "c:\\Users\\77019\\pyver\\py312\\Lib\\site-packages\\sklearn\\linear_model\\_stochastic_gradient.py:1616: ConvergenceWarning: Maximum number of iteration reached before convergence. Consider increasing max_iter to improve the fit.\n",
      "  warnings.warn(\n",
      "[I 2025-04-08 22:48:17,009] Trial 26 finished with value: 68.69680628491848 and parameters: {'alpha': 0.00011011067927453343, 'l1_ratio': 0.5310972620600242, 'max_iter': 700, 'eta0': 2.8234814463996246e-06, 'tol': 0.0002620243970741999}. Best is trial 1 with value: 60.77461145928027.\n",
      "C:\\Users\\77019\\AppData\\Local\\Temp\\ipykernel_21844\\2493118097.py:6: FutureWarning: suggest_loguniform has been deprecated in v3.0.0. This feature will be removed in v6.0.0. See https://github.com/optuna/optuna/releases/tag/v3.0.0. Use suggest_float(..., log=True) instead.\n",
      "  tol = trial.suggest_loguniform('tol', 1e-6, 1e-3)\n",
      "[I 2025-04-08 22:48:20,969] Trial 27 finished with value: 58.77893024488537 and parameters: {'alpha': 6.069210248458378e-06, 'l1_ratio': 0.627734128305953, 'max_iter': 600, 'eta0': 1.715901118590889e-05, 'tol': 7.058550847537152e-05}. Best is trial 27 with value: 58.77893024488537.\n",
      "C:\\Users\\77019\\AppData\\Local\\Temp\\ipykernel_21844\\2493118097.py:6: FutureWarning: suggest_loguniform has been deprecated in v3.0.0. This feature will be removed in v6.0.0. See https://github.com/optuna/optuna/releases/tag/v3.0.0. Use suggest_float(..., log=True) instead.\n",
      "  tol = trial.suggest_loguniform('tol', 1e-6, 1e-3)\n",
      "c:\\Users\\77019\\pyver\\py312\\Lib\\site-packages\\sklearn\\utils\\extmath.py:208: RuntimeWarning: overflow encountered in matmul\n",
      "  ret = a @ b\n",
      "c:\\Users\\77019\\pyver\\py312\\Lib\\site-packages\\sklearn\\utils\\extmath.py:208: RuntimeWarning: invalid value encountered in matmul\n",
      "  ret = a @ b\n",
      "c:\\Users\\77019\\pyver\\py312\\Lib\\site-packages\\mlforecast\\core.py:626: UserWarning: Found null values in lag1, rolling_mean_14_lag1.\n",
      "  warnings.warn(f'Found null values in {\", \".join(cols_with_nulls)}.')\n",
      "[I 2025-04-08 22:48:22,075] Trial 28 finished with value: inf and parameters: {'alpha': 4.406203148461764e-06, 'l1_ratio': 0.5884445553899545, 'max_iter': 800, 'eta0': 0.0002507908313630358, 'tol': 0.0004110842025198604}. Best is trial 27 with value: 58.77893024488537.\n",
      "C:\\Users\\77019\\AppData\\Local\\Temp\\ipykernel_21844\\2493118097.py:6: FutureWarning: suggest_loguniform has been deprecated in v3.0.0. This feature will be removed in v6.0.0. See https://github.com/optuna/optuna/releases/tag/v3.0.0. Use suggest_float(..., log=True) instead.\n",
      "  tol = trial.suggest_loguniform('tol', 1e-6, 1e-3)\n"
     ]
    },
    {
     "name": "stdout",
     "output_type": "stream",
     "text": [
      "Input X contains NaN.\n",
      "SGDRegressor does not accept missing values encoded as NaN natively. For supervised learning, you might want to consider sklearn.ensemble.HistGradientBoostingClassifier and Regressor which accept missing values encoded as NaNs natively. Alternatively, it is possible to preprocess the data, for instance by using an imputer transformer in a pipeline or drop samples with missing values. See https://scikit-learn.org/stable/modules/impute.html You can find a list of all estimators that handle NaN values at the following page: https://scikit-learn.org/stable/modules/impute.html#estimators-that-handle-nan-values\n"
     ]
    },
    {
     "name": "stderr",
     "output_type": "stream",
     "text": [
      "[I 2025-04-08 22:48:25,527] Trial 29 finished with value: 67.47567003930389 and parameters: {'alpha': 8.798328883677844e-06, 'l1_ratio': 0.4599315332778271, 'max_iter': 600, 'eta0': 2.969427724983333e-05, 'tol': 0.00013426140717779603}. Best is trial 27 with value: 58.77893024488537.\n",
      "C:\\Users\\77019\\AppData\\Local\\Temp\\ipykernel_21844\\2493118097.py:6: FutureWarning: suggest_loguniform has been deprecated in v3.0.0. This feature will be removed in v6.0.0. See https://github.com/optuna/optuna/releases/tag/v3.0.0. Use suggest_float(..., log=True) instead.\n",
      "  tol = trial.suggest_loguniform('tol', 1e-6, 1e-3)\n",
      "[I 2025-04-08 22:48:29,020] Trial 30 finished with value: 61.219417547864566 and parameters: {'alpha': 5.7743608950208474e-05, 'l1_ratio': 0.7148348879073948, 'max_iter': 700, 'eta0': 7.362952769609247e-05, 'tol': 0.0004637713102108713}. Best is trial 27 with value: 58.77893024488537.\n",
      "C:\\Users\\77019\\AppData\\Local\\Temp\\ipykernel_21844\\2493118097.py:6: FutureWarning: suggest_loguniform has been deprecated in v3.0.0. This feature will be removed in v6.0.0. See https://github.com/optuna/optuna/releases/tag/v3.0.0. Use suggest_float(..., log=True) instead.\n",
      "  tol = trial.suggest_loguniform('tol', 1e-6, 1e-3)\n",
      "[I 2025-04-08 22:48:32,781] Trial 31 finished with value: 62.90131471921584 and parameters: {'alpha': 6.953380900893067e-05, 'l1_ratio': 0.6523971040620381, 'max_iter': 700, 'eta0': 7.498638224113003e-05, 'tol': 0.00044984836357456074}. Best is trial 27 with value: 58.77893024488537.\n",
      "C:\\Users\\77019\\AppData\\Local\\Temp\\ipykernel_21844\\2493118097.py:6: FutureWarning: suggest_loguniform has been deprecated in v3.0.0. This feature will be removed in v6.0.0. See https://github.com/optuna/optuna/releases/tag/v3.0.0. Use suggest_float(..., log=True) instead.\n",
      "  tol = trial.suggest_loguniform('tol', 1e-6, 1e-3)\n",
      "[I 2025-04-08 22:48:36,653] Trial 32 finished with value: 62.54907781139608 and parameters: {'alpha': 6.626366641625862e-05, 'l1_ratio': 0.718852979887228, 'max_iter': 800, 'eta0': 1.951727343621265e-05, 'tol': 0.00017766321230614673}. Best is trial 27 with value: 58.77893024488537.\n",
      "C:\\Users\\77019\\AppData\\Local\\Temp\\ipykernel_21844\\2493118097.py:6: FutureWarning: suggest_loguniform has been deprecated in v3.0.0. This feature will be removed in v6.0.0. See https://github.com/optuna/optuna/releases/tag/v3.0.0. Use suggest_float(..., log=True) instead.\n",
      "  tol = trial.suggest_loguniform('tol', 1e-6, 1e-3)\n",
      "[I 2025-04-08 22:48:40,189] Trial 33 finished with value: 58.622184898355115 and parameters: {'alpha': 8.17938705004448e-06, 'l1_ratio': 0.4933005558967502, 'max_iter': 700, 'eta0': 6.177729931596137e-05, 'tol': 0.0009592990145112393}. Best is trial 33 with value: 58.622184898355115.\n",
      "C:\\Users\\77019\\AppData\\Local\\Temp\\ipykernel_21844\\2493118097.py:6: FutureWarning: suggest_loguniform has been deprecated in v3.0.0. This feature will be removed in v6.0.0. See https://github.com/optuna/optuna/releases/tag/v3.0.0. Use suggest_float(..., log=True) instead.\n",
      "  tol = trial.suggest_loguniform('tol', 1e-6, 1e-3)\n",
      "[I 2025-04-08 22:48:43,253] Trial 34 finished with value: 60.34546326686399 and parameters: {'alpha': 5.610049141174867e-06, 'l1_ratio': 0.33410254297374675, 'max_iter': 600, 'eta0': 5.3272804213487024e-05, 'tol': 0.0008335593216003867}. Best is trial 33 with value: 58.622184898355115.\n",
      "C:\\Users\\77019\\AppData\\Local\\Temp\\ipykernel_21844\\2493118097.py:6: FutureWarning: suggest_loguniform has been deprecated in v3.0.0. This feature will be removed in v6.0.0. See https://github.com/optuna/optuna/releases/tag/v3.0.0. Use suggest_float(..., log=True) instead.\n",
      "  tol = trial.suggest_loguniform('tol', 1e-6, 1e-3)\n",
      "c:\\Users\\77019\\pyver\\py312\\Lib\\site-packages\\sklearn\\utils\\extmath.py:208: RuntimeWarning: overflow encountered in matmul\n",
      "  ret = a @ b\n",
      "[I 2025-04-08 22:48:43,669] Trial 35 finished with value: inf and parameters: {'alpha': 5.013364851872935e-06, 'l1_ratio': 0.3207440629334019, 'max_iter': 600, 'eta0': 0.0003732267266897928, 'tol': 0.0009342961826735003}. Best is trial 33 with value: 58.622184898355115.\n",
      "C:\\Users\\77019\\AppData\\Local\\Temp\\ipykernel_21844\\2493118097.py:6: FutureWarning: suggest_loguniform has been deprecated in v3.0.0. This feature will be removed in v6.0.0. See https://github.com/optuna/optuna/releases/tag/v3.0.0. Use suggest_float(..., log=True) instead.\n",
      "  tol = trial.suggest_loguniform('tol', 1e-6, 1e-3)\n"
     ]
    },
    {
     "name": "stdout",
     "output_type": "stream",
     "text": [
      "Input X contains infinity or a value too large for dtype('float64').\n"
     ]
    },
    {
     "name": "stderr",
     "output_type": "stream",
     "text": [
      "[I 2025-04-08 22:48:47,333] Trial 36 finished with value: 59.36934629985212 and parameters: {'alpha': 8.845961438587614e-06, 'l1_ratio': 0.45498293872693096, 'max_iter': 400, 'eta0': 1.1083732969979979e-05, 'tol': 0.0006841071417382626}. Best is trial 33 with value: 58.622184898355115.\n",
      "C:\\Users\\77019\\AppData\\Local\\Temp\\ipykernel_21844\\2493118097.py:6: FutureWarning: suggest_loguniform has been deprecated in v3.0.0. This feature will be removed in v6.0.0. See https://github.com/optuna/optuna/releases/tag/v3.0.0. Use suggest_float(..., log=True) instead.\n",
      "  tol = trial.suggest_loguniform('tol', 1e-6, 1e-3)\n",
      "c:\\Users\\77019\\pyver\\py312\\Lib\\site-packages\\sklearn\\utils\\extmath.py:208: RuntimeWarning: overflow encountered in matmul\n",
      "  ret = a @ b\n",
      "[I 2025-04-08 22:48:47,898] Trial 37 finished with value: inf and parameters: {'alpha': 3.0806332735405083e-06, 'l1_ratio': 0.4766618754270477, 'max_iter': 600, 'eta0': 0.001203124087030712, 'tol': 0.0009960404717800893}. Best is trial 33 with value: 58.622184898355115.\n",
      "C:\\Users\\77019\\AppData\\Local\\Temp\\ipykernel_21844\\2493118097.py:6: FutureWarning: suggest_loguniform has been deprecated in v3.0.0. This feature will be removed in v6.0.0. See https://github.com/optuna/optuna/releases/tag/v3.0.0. Use suggest_float(..., log=True) instead.\n",
      "  tol = trial.suggest_loguniform('tol', 1e-6, 1e-3)\n"
     ]
    },
    {
     "name": "stdout",
     "output_type": "stream",
     "text": [
      "Input X contains infinity or a value too large for dtype('float64').\n"
     ]
    },
    {
     "name": "stderr",
     "output_type": "stream",
     "text": [
      "c:\\Users\\77019\\pyver\\py312\\Lib\\site-packages\\sklearn\\linear_model\\_stochastic_gradient.py:1616: ConvergenceWarning: Maximum number of iteration reached before convergence. Consider increasing max_iter to improve the fit.\n",
      "  warnings.warn(\n",
      "[I 2025-04-08 22:48:51,663] Trial 38 finished with value: 70.77793640944564 and parameters: {'alpha': 1.0403272521575172e-05, 'l1_ratio': 0.24723945161976274, 'max_iter': 400, 'eta0': 3.471362458157527e-06, 'tol': 0.0006356411278043431}. Best is trial 33 with value: 58.622184898355115.\n",
      "C:\\Users\\77019\\AppData\\Local\\Temp\\ipykernel_21844\\2493118097.py:6: FutureWarning: suggest_loguniform has been deprecated in v3.0.0. This feature will be removed in v6.0.0. See https://github.com/optuna/optuna/releases/tag/v3.0.0. Use suggest_float(..., log=True) instead.\n",
      "  tol = trial.suggest_loguniform('tol', 1e-6, 1e-3)\n",
      "[I 2025-04-08 22:48:54,990] Trial 39 finished with value: 64.55308832663594 and parameters: {'alpha': 1.0109835771209514e-06, 'l1_ratio': 0.3778832728701729, 'max_iter': 500, 'eta0': 3.821957976332772e-05, 'tol': 0.0006618364112550921}. Best is trial 33 with value: 58.622184898355115.\n",
      "C:\\Users\\77019\\AppData\\Local\\Temp\\ipykernel_21844\\2493118097.py:6: FutureWarning: suggest_loguniform has been deprecated in v3.0.0. This feature will be removed in v6.0.0. See https://github.com/optuna/optuna/releases/tag/v3.0.0. Use suggest_float(..., log=True) instead.\n",
      "  tol = trial.suggest_loguniform('tol', 1e-6, 1e-3)\n",
      "[I 2025-04-08 22:48:58,506] Trial 40 finished with value: 58.258383093733116 and parameters: {'alpha': 3.110105975234943e-05, 'l1_ratio': 0.5902112523522685, 'max_iter': 900, 'eta0': 6.535683142068068e-05, 'tol': 0.0004026253360383624}. Best is trial 40 with value: 58.258383093733116.\n",
      "C:\\Users\\77019\\AppData\\Local\\Temp\\ipykernel_21844\\2493118097.py:6: FutureWarning: suggest_loguniform has been deprecated in v3.0.0. This feature will be removed in v6.0.0. See https://github.com/optuna/optuna/releases/tag/v3.0.0. Use suggest_float(..., log=True) instead.\n",
      "  tol = trial.suggest_loguniform('tol', 1e-6, 1e-3)\n",
      "[I 2025-04-08 22:49:01,433] Trial 41 finished with value: 58.70579037991396 and parameters: {'alpha': 1.1521094598951779e-05, 'l1_ratio': 0.6069429028340609, 'max_iter': 900, 'eta0': 6.120814618339324e-05, 'tol': 0.0004265130790822409}. Best is trial 40 with value: 58.258383093733116.\n",
      "C:\\Users\\77019\\AppData\\Local\\Temp\\ipykernel_21844\\2493118097.py:6: FutureWarning: suggest_loguniform has been deprecated in v3.0.0. This feature will be removed in v6.0.0. See https://github.com/optuna/optuna/releases/tag/v3.0.0. Use suggest_float(..., log=True) instead.\n",
      "  tol = trial.suggest_loguniform('tol', 1e-6, 1e-3)\n",
      "[I 2025-04-08 22:49:04,487] Trial 42 finished with value: 59.306710791630834 and parameters: {'alpha': 3.303831233076487e-05, 'l1_ratio': 0.6012231880204515, 'max_iter': 900, 'eta0': 1.1128856859039232e-05, 'tol': 0.0003891649689346004}. Best is trial 40 with value: 58.258383093733116.\n",
      "C:\\Users\\77019\\AppData\\Local\\Temp\\ipykernel_21844\\2493118097.py:6: FutureWarning: suggest_loguniform has been deprecated in v3.0.0. This feature will be removed in v6.0.0. See https://github.com/optuna/optuna/releases/tag/v3.0.0. Use suggest_float(..., log=True) instead.\n",
      "  tol = trial.suggest_loguniform('tol', 1e-6, 1e-3)\n",
      "[I 2025-04-08 22:49:07,345] Trial 43 finished with value: 52636.133903750946 and parameters: {'alpha': 3.871127698141471e-05, 'l1_ratio': 0.6047819728340013, 'max_iter': 900, 'eta0': 0.00011713083005607533, 'tol': 0.0004057422859099203}. Best is trial 40 with value: 58.258383093733116.\n",
      "C:\\Users\\77019\\AppData\\Local\\Temp\\ipykernel_21844\\2493118097.py:6: FutureWarning: suggest_loguniform has been deprecated in v3.0.0. This feature will be removed in v6.0.0. See https://github.com/optuna/optuna/releases/tag/v3.0.0. Use suggest_float(..., log=True) instead.\n",
      "  tol = trial.suggest_loguniform('tol', 1e-6, 1e-3)\n",
      "c:\\Users\\77019\\pyver\\py312\\Lib\\site-packages\\sklearn\\utils\\extmath.py:208: RuntimeWarning: overflow encountered in matmul\n",
      "  ret = a @ b\n",
      "[I 2025-04-08 22:49:07,887] Trial 44 finished with value: inf and parameters: {'alpha': 3.220741020329237e-05, 'l1_ratio': 0.6550613354928009, 'max_iter': 1000, 'eta0': 0.019896099981641838, 'tol': 6.510630335126298e-05}. Best is trial 40 with value: 58.258383093733116.\n",
      "C:\\Users\\77019\\AppData\\Local\\Temp\\ipykernel_21844\\2493118097.py:6: FutureWarning: suggest_loguniform has been deprecated in v3.0.0. This feature will be removed in v6.0.0. See https://github.com/optuna/optuna/releases/tag/v3.0.0. Use suggest_float(..., log=True) instead.\n",
      "  tol = trial.suggest_loguniform('tol', 1e-6, 1e-3)\n"
     ]
    },
    {
     "name": "stdout",
     "output_type": "stream",
     "text": [
      "Input X contains infinity or a value too large for dtype('float64').\n"
     ]
    },
    {
     "name": "stderr",
     "output_type": "stream",
     "text": [
      "c:\\Users\\77019\\pyver\\py312\\Lib\\site-packages\\sklearn\\linear_model\\_stochastic_gradient.py:1616: ConvergenceWarning: Maximum number of iteration reached before convergence. Consider increasing max_iter to improve the fit.\n",
      "  warnings.warn(\n",
      "[I 2025-04-08 22:49:11,222] Trial 45 finished with value: 59.613145471038735 and parameters: {'alpha': 0.0006741408444255351, 'l1_ratio': 0.5862279953012113, 'max_iter': 900, 'eta0': 4.673156679636657e-06, 'tol': 0.0001579777654408446}. Best is trial 40 with value: 58.258383093733116.\n",
      "C:\\Users\\77019\\AppData\\Local\\Temp\\ipykernel_21844\\2493118097.py:6: FutureWarning: suggest_loguniform has been deprecated in v3.0.0. This feature will be removed in v6.0.0. See https://github.com/optuna/optuna/releases/tag/v3.0.0. Use suggest_float(..., log=True) instead.\n",
      "  tol = trial.suggest_loguniform('tol', 1e-6, 1e-3)\n",
      "[I 2025-04-08 22:49:14,312] Trial 46 finished with value: 68.45742235967958 and parameters: {'alpha': 2.1511141310128827e-06, 'l1_ratio': 0.6502641092070638, 'max_iter': 900, 'eta0': 2.7163265193116613e-05, 'tol': 0.00035465414923258347}. Best is trial 40 with value: 58.258383093733116.\n",
      "C:\\Users\\77019\\AppData\\Local\\Temp\\ipykernel_21844\\2493118097.py:6: FutureWarning: suggest_loguniform has been deprecated in v3.0.0. This feature will be removed in v6.0.0. See https://github.com/optuna/optuna/releases/tag/v3.0.0. Use suggest_float(..., log=True) instead.\n",
      "  tol = trial.suggest_loguniform('tol', 1e-6, 1e-3)\n",
      "c:\\Users\\77019\\pyver\\py312\\Lib\\site-packages\\sklearn\\linear_model\\_stochastic_gradient.py:1616: ConvergenceWarning: Maximum number of iteration reached before convergence. Consider increasing max_iter to improve the fit.\n",
      "  warnings.warn(\n",
      "[I 2025-04-08 22:49:17,443] Trial 47 finished with value: 70.45777343973114 and parameters: {'alpha': 1.5091302408785598e-05, 'l1_ratio': 0.7751491211796417, 'max_iter': 1000, 'eta0': 1.8170594262451673e-06, 'tol': 0.0005335381985130931}. Best is trial 40 with value: 58.258383093733116.\n",
      "C:\\Users\\77019\\AppData\\Local\\Temp\\ipykernel_21844\\2493118097.py:6: FutureWarning: suggest_loguniform has been deprecated in v3.0.0. This feature will be removed in v6.0.0. See https://github.com/optuna/optuna/releases/tag/v3.0.0. Use suggest_float(..., log=True) instead.\n",
      "  tol = trial.suggest_loguniform('tol', 1e-6, 1e-3)\n",
      "[I 2025-04-08 22:49:20,756] Trial 48 finished with value: 60.392274743469564 and parameters: {'alpha': 0.0002589817114777537, 'l1_ratio': 0.5137787918850881, 'max_iter': 800, 'eta0': 1.3220086910850587e-05, 'tol': 0.00010106548101134585}. Best is trial 40 with value: 58.258383093733116.\n",
      "C:\\Users\\77019\\AppData\\Local\\Temp\\ipykernel_21844\\2493118097.py:6: FutureWarning: suggest_loguniform has been deprecated in v3.0.0. This feature will be removed in v6.0.0. See https://github.com/optuna/optuna/releases/tag/v3.0.0. Use suggest_float(..., log=True) instead.\n",
      "  tol = trial.suggest_loguniform('tol', 1e-6, 1e-3)\n",
      "c:\\Users\\77019\\pyver\\py312\\Lib\\site-packages\\sklearn\\utils\\extmath.py:208: RuntimeWarning: overflow encountered in matmul\n",
      "  ret = a @ b\n",
      "c:\\Users\\77019\\pyver\\py312\\Lib\\site-packages\\sklearn\\utils\\extmath.py:208: RuntimeWarning: invalid value encountered in matmul\n",
      "  ret = a @ b\n",
      "c:\\Users\\77019\\pyver\\py312\\Lib\\site-packages\\mlforecast\\core.py:626: UserWarning: Found null values in lag1, rolling_mean_14_lag1.\n",
      "  warnings.warn(f'Found null values in {\", \".join(cols_with_nulls)}.')\n",
      "[I 2025-04-08 22:49:21,137] Trial 49 finished with value: inf and parameters: {'alpha': 4.131356286490251e-05, 'l1_ratio': 0.6772785713979044, 'max_iter': 1000, 'eta0': 0.001010949642692286, 'tol': 0.0001967076182505622}. Best is trial 40 with value: 58.258383093733116.\n"
     ]
    },
    {
     "name": "stdout",
     "output_type": "stream",
     "text": [
      "Input X contains NaN.\n",
      "SGDRegressor does not accept missing values encoded as NaN natively. For supervised learning, you might want to consider sklearn.ensemble.HistGradientBoostingClassifier and Regressor which accept missing values encoded as NaNs natively. Alternatively, it is possible to preprocess the data, for instance by using an imputer transformer in a pipeline or drop samples with missing values. See https://scikit-learn.org/stable/modules/impute.html You can find a list of all estimators that handle NaN values at the following page: https://scikit-learn.org/stable/modules/impute.html#estimators-that-handle-nan-values\n"
     ]
    }
   ],
   "source": [
    "best_params = run_optuna_search(train_df, val_df, transforms, lags, lag_transforms, n_trials=42)\n",
    "\n",
    "optuna_model = SGDRegressor(**best_params, random_state=42)\n",
    "models['SGD_Optuna'] = optuna_model"
   ]
  },
  {
   "cell_type": "code",
   "execution_count": null,
   "metadata": {},
   "outputs": [],
   "source": [
    "from joblib import Parallel, delayed\n",
    "import time\n",
    "\n",
    "def process_scenario(sensor_name, scenario_name, scenario, selected_sensors_df, models, lag_transforms_options, ratios=[0.33, 0.66, 1]):\n",
    "    \"\"\" Process each scenario independently and save results. \"\"\"\n",
    "    print(f'{sensor_name}_{scenario_name}')\n",
    "    formatted_df = format_df_to_mlforecast(selected_sensors_df[['full_date', sensor_name]], 'full_date', sensor_name, unique_id=sensor_name)\n",
    "    formatted_df = formatted_df[['ds', 'y', 'unique_id']]\n",
    "    \n",
    "    train_df, test_df = split_data(formatted_df, scenario)\n",
    "    optimal_lags_list = get_optimal_lags(train_df, 'y', ratios=ratios)\n",
    "    target_transforms = get_dynamic_transforms(train_df)\n",
    "\n",
    "    results = evaluate_models(train_df, test_df, models, target_transforms, lag_transforms_options, optimal_lags_list)\n",
    "\n",
    "    # Save results\n",
    "    save_results(results, f\"results/run_18/{sensor_name}_{scenario_name}.csv\")\n",
    "\n",
    "    return results\n",
    "\n",
    "def run_all_scenarios_parallel(scenarios_sensors, selected_sensors_df, models, lag_transforms_options, ratios=[0.33, 0.66, 1]):\n",
    "    # don't use all cpus (instead all but one)\n",
    "    results = Parallel(n_jobs=15)( \n",
    "        delayed(process_scenario)(sensor_name, scenario_name, scenario, selected_sensors_df, models, lag_transforms_options, ratios=ratios)\n",
    "        for sensor_name, scenarios in scenarios_sensors.items()\n",
    "        for scenario_name, scenario in scenarios.items()\n",
    "    )\n",
    "\n",
    "    return results\n"
   ]
  }
 ],
 "metadata": {
  "kernelspec": {
   "display_name": "Python 3",
   "language": "python",
   "name": "python3"
  },
  "language_info": {
   "codemirror_mode": {
    "name": "ipython",
    "version": 3
   },
   "file_extension": ".py",
   "mimetype": "text/x-python",
   "name": "python",
   "nbconvert_exporter": "python",
   "pygments_lexer": "ipython3",
   "version": "3.12.1"
  }
 },
 "nbformat": 4,
 "nbformat_minor": 2
}
