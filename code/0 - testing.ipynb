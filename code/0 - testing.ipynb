{
 "cells": [
  {
   "cell_type": "code",
   "execution_count": 6,
   "metadata": {},
   "outputs": [],
   "source": [
    "import pandas as pd"
   ]
  },
  {
   "cell_type": "code",
   "execution_count": 8,
   "metadata": {},
   "outputs": [],
   "source": [
    "file_path = r\"C:\\Users\\77019\\Downloads\\waqi-covid19-airqualitydata-2025.csv\"\n",
    "\n",
    "# Read CSV while skipping comment lines\n",
    "data = pd.read_csv(file_path, comment='#')\n",
    "data = data.loc[data['City'] == \"Almaty\"]"
   ]
  },
  {
   "cell_type": "code",
   "execution_count": 10,
   "metadata": {},
   "outputs": [
    {
     "data": {
      "text/plain": [
       "array(['dew', 'co', 'humidity', 'so2', 'pressure', 'wind-speed',\n",
       "       'wind-gust', 'temperature', 'pm10', 'pm25', 'no2'], dtype=object)"
      ]
     },
     "execution_count": 10,
     "metadata": {},
     "output_type": "execute_result"
    }
   ],
   "source": [
    "data['Specie'].unique()"
   ]
  },
  {
   "cell_type": "code",
   "execution_count": 13,
   "metadata": {},
   "outputs": [
    {
     "data": {
      "text/plain": [
       "('2024-01-01', '2025-03-05')"
      ]
     },
     "execution_count": 13,
     "metadata": {},
     "output_type": "execute_result"
    }
   ],
   "source": [
    "data['Date'].min(), data['Date'].max()"
   ]
  },
  {
   "cell_type": "code",
   "execution_count": 14,
   "metadata": {},
   "outputs": [
    {
     "name": "stdout",
     "output_type": "stream",
     "text": [
      "Downloading 2015H1...\n",
      "✅ waqi-airquality-2015H1.csv downloaded successfully!\n",
      "Downloading 2016H1...\n",
      "✅ waqi-airquality-2016H1.csv downloaded successfully!\n",
      "Downloading 2017H1...\n",
      "✅ waqi-airquality-2017H1.csv downloaded successfully!\n",
      "Downloading 2018H1...\n",
      "✅ waqi-airquality-2018H1.csv downloaded successfully!\n",
      "Downloading 2019Q1...\n",
      "✅ waqi-airquality-2019Q1.csv downloaded successfully!\n",
      "Downloading 2019Q2...\n",
      "✅ waqi-airquality-2019Q2.csv downloaded successfully!\n",
      "Downloading 2019Q3...\n",
      "✅ waqi-airquality-2019Q3.csv downloaded successfully!\n",
      "Downloading 2019Q4...\n",
      "✅ waqi-airquality-2019Q4.csv downloaded successfully!\n",
      "Downloading 2020Q1...\n",
      "✅ waqi-airquality-2020Q1.csv downloaded successfully!\n",
      "Downloading 2020Q2...\n",
      "✅ waqi-airquality-2020Q2.csv downloaded successfully!\n",
      "Downloading 2020Q3...\n",
      "✅ waqi-airquality-2020Q3.csv downloaded successfully!\n",
      "Downloading 2020Q4...\n",
      "✅ waqi-airquality-2020Q4.csv downloaded successfully!\n",
      "Downloading 2021Q1...\n",
      "✅ waqi-airquality-2021Q1.csv downloaded successfully!\n",
      "Downloading 2021Q2...\n",
      "✅ waqi-airquality-2021Q2.csv downloaded successfully!\n",
      "Downloading 2021Q3...\n",
      "✅ waqi-airquality-2021Q3.csv downloaded successfully!\n",
      "Downloading 2021Q4...\n",
      "✅ waqi-airquality-2021Q4.csv downloaded successfully!\n",
      "Downloading 2022Q1...\n",
      "✅ waqi-airquality-2022Q1.csv downloaded successfully!\n",
      "Downloading 2022Q2...\n",
      "✅ waqi-airquality-2022Q2.csv downloaded successfully!\n",
      "Downloading 2022Q3...\n",
      "✅ waqi-airquality-2022Q3.csv downloaded successfully!\n",
      "Downloading 2022Q4...\n",
      "✅ waqi-airquality-2022Q4.csv downloaded successfully!\n",
      "Downloading 2023Q1...\n",
      "✅ waqi-airquality-2023Q1.csv downloaded successfully!\n",
      "Downloading 2023Q2...\n",
      "✅ waqi-airquality-2023Q2.csv downloaded successfully!\n",
      "Downloading 2023Q3...\n",
      "✅ waqi-airquality-2023Q3.csv downloaded successfully!\n",
      "Downloading 2023Q4...\n",
      "✅ waqi-airquality-2023Q4.csv downloaded successfully!\n",
      "🎉 All available datasets have been processed.\n"
     ]
    }
   ],
   "source": [
    "import requests\n",
    "import time\n",
    "\n",
    "# List of available periods\n",
    "periods = [\n",
    "    \"2015H1\", \"2016H1\", \"2017H1\", \"2018H1\",\n",
    "    \"2019Q1\", \"2019Q2\", \"2019Q3\", \"2019Q4\",\n",
    "    \"2020Q1\", \"2020Q2\", \"2020Q3\", \"2020Q4\",\n",
    "    \"2021Q1\", \"2021Q2\", \"2021Q3\", \"2021Q4\",\n",
    "    \"2022Q1\", \"2022Q2\", \"2022Q3\", \"2022Q4\",\n",
    "    \"2023Q1\", \"2023Q2\", \"2023Q3\", \"2023Q4\"\n",
    "]\n",
    "\n",
    "# Base URL\n",
    "base_url = \"https://aqicn.org/data-platform/covid19/report/45268-77d0de2d\"\n",
    "\n",
    "# Loop through each period and download the file\n",
    "for period in periods:\n",
    "    url = f\"{base_url}/{period}\"\n",
    "    file_name = f\"waqi-airquality-{period}.csv\"\n",
    "\n",
    "    print(f\"Downloading {period}...\")\n",
    "\n",
    "    response = requests.get(url)\n",
    "\n",
    "    if response.status_code == 200:\n",
    "        with open(file_name, \"wb\") as file:\n",
    "            file.write(response.content)\n",
    "        print(f\"✅ {file_name} downloaded successfully!\")\n",
    "    else:\n",
    "        print(f\"❌ Failed to download {period}. Status code: {response.status_code}\")\n",
    "\n",
    "    # Add a small delay to prevent overwhelming the server\n",
    "    time.sleep(2)\n",
    "\n",
    "print(\"🎉 All available datasets have been processed.\")\n"
   ]
  },
  {
   "cell_type": "code",
   "execution_count": null,
   "metadata": {},
   "outputs": [],
   "source": []
  }
 ],
 "metadata": {
  "kernelspec": {
   "display_name": "Python 3",
   "language": "python",
   "name": "python3"
  },
  "language_info": {
   "codemirror_mode": {
    "name": "ipython",
    "version": 3
   },
   "file_extension": ".py",
   "mimetype": "text/x-python",
   "name": "python",
   "nbconvert_exporter": "python",
   "pygments_lexer": "ipython3",
   "version": "3.12.1"
  }
 },
 "nbformat": 4,
 "nbformat_minor": 2
}
