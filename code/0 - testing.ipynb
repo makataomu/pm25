{
 "cells": [
  {
   "cell_type": "code",
   "execution_count": 62,
   "metadata": {},
   "outputs": [],
   "source": [
    "import pandas as pd"
   ]
  },
  {
   "cell_type": "code",
   "execution_count": 63,
   "metadata": {},
   "outputs": [],
   "source": [
    "from MLForecastPipeline import *\n",
    "\n",
    "def split_data(df, scenario, date_col=\"ds\"):\n",
    "    \"\"\"Extracts train and test data based on train end date.\"\"\"\n",
    "    train_data = df[df[date_col] <= scenario['train_end']]\n",
    "    test_start = pd.to_datetime(scenario['train_end']) + pd.Timedelta(days=1)\n",
    "    test_data = df[df[date_col] >= test_start]\n",
    "    return train_data, test_data\n",
    "\n",
    "selected_sensors_df = pd.read_csv(\"../data/selected_sensors2_cleaned.csv\", index_col=0)\n",
    "testing_df = format_df_to_mlforecast(selected_sensors_df, 'full_date', '2')[['ds', 'y', 'unique_id']]\n",
    "testing_df['ds'] = pd.to_datetime(testing_df['ds'])\n",
    "train_df, test_df = split_data(testing_df, {\"train_start\": \"2017-04-01\", \"train_end\": \"2018-04-01\"})"
   ]
  },
  {
   "cell_type": "code",
   "execution_count": 64,
   "metadata": {},
   "outputs": [],
   "source": [
    "\n",
    "# from prophet import Prophet\n",
    "# from sklearn.base import BaseEstimator, RegressorMixin\n",
    "\n",
    "# class ProphetWrapper(BaseEstimator, RegressorMixin):\n",
    "#     def __init__(self, **prophet_params):\n",
    "#         self.prophet_params = prophet_params\n",
    "#         self.model = None\n",
    "\n",
    "#     def fit(self, X, y):\n",
    "#         # Prophet requires a DataFrame with 'ds' and 'y' columns\n",
    "#         print(X)\n",
    "#         df = X.copy()\n",
    "#         df['y'] = y\n",
    "#         self.model = Prophet(**self.prophet_params)\n",
    "#         self.model.fit(df)\n",
    "#         return self\n",
    "\n",
    "#     def predict(self, X):\n",
    "#         # Prophet requires a DataFrame with 'ds' column for predictions\n",
    "#         print(\"HEYYYYYYYY - \\n\", X)\n",
    "#         future = X[['ds']].copy()\n",
    "#         forecast = self.model.predict(future)\n",
    "\n",
    "#         # future = self.model.make_future_dataframe(periods=len(X), freq='D')\n",
    "#         # forecast = self.model.predict(future)\n",
    "\n",
    "#         return forecast['yhat'].values\n",
    "\n",
    "#     def get_params(self, deep=True):\n",
    "#         return self.prophet_params\n",
    "\n",
    "#     def set_params(self, **parameters):\n",
    "#         for parameter, value in parameters.items():\n",
    "#             setattr(self, parameter, value)\n",
    "#         return self\n",
    "    \n",
    "# models = {\n",
    "#     \"Prophet\": ProphetWrapper()\n",
    "# }\n",
    "# model_name = 'Prophet'\n",
    "\n",
    "# fcst = MLForecast(\n",
    "#     models=[models[model_name]],\n",
    "#     freq='D',\n",
    "#     lags=[0],\n",
    "#     # target_transforms=list(transform_combination),\n",
    "#     # date_features=date_features,\n",
    "#     num_threads=1,\n",
    "#     # lag_transforms=lag_transforms,\n",
    "# )\n",
    "\n",
    "# # Fit the model\n",
    "# fcst.fit(train_df)\n",
    "\n",
    "# # Predict\n",
    "# predictions = fcst.predict(h=test_df.shape[0])\n",
    "# test_df_copy = test_df.copy()\n",
    "# test_df_copy['forecast'] = predictions[model_name].values     "
   ]
  },
  {
   "cell_type": "code",
   "execution_count": 65,
   "metadata": {},
   "outputs": [],
   "source": [
    "scenarios_sensors = {\n",
    "    # 0: 1, 4372603\n",
    "    # \"0_12M_train_7M_test\": {\"train_start\": \"2017-03-25\", \"train_end\": \"2018-03-25\", \"test_start\": \"2018-03-26\", \"test_end\": \"2018-10-10\"},\n",
    "    '2': {\n",
    "        \"26M_train\":  {\"train_start\": \"2017-04-01\", \"train_end\": \"2019-06-01\"},\n",
    "        \"24M_train\":  {\"train_start\": \"2017-04-01\", \"train_end\": \"2019-04-01\"},\n",
    "        \"18M_train\":  {\"train_start\": \"2017-04-01\", \"train_end\": \"2018-10-01\"},\n",
    "        \"12M_train\":  {\"train_start\": \"2017-04-01\", \"train_end\": \"2018-04-01\"},\n",
    "        \"8M_train\":   {\"train_start\": \"2017-04-01\", \"train_end\": \"2017-10-25\"},\n",
    "        \n",
    "        # Non-Heating Periods\n",
    "        \"NH_3M_train\":  {\"train_start\": \"2017-04-15\", \"train_end\": \"2017-07-15\"},\n",
    "        \"NH_4M_train\":  {\"train_start\": \"2017-04-15\", \"train_end\": \"2017-08-15\"},\n",
    "        },\n",
    "}"
   ]
  },
  {
   "cell_type": "code",
   "execution_count": 66,
   "metadata": {},
   "outputs": [],
   "source": [
    "from itertools import combinations, chain\n",
    "import pandas as pd\n",
    "from prophet import Prophet\n",
    "from copy import deepcopy\n",
    "\n",
    "def evaluate_models_prophet(train_df, test_df, target_transforms):\n",
    "    \"\"\"\n",
    "    Evaluates multiple models with different transformations using the AutoSeasonalityAndDifferences API.\n",
    "    Applies transformations to test data and inverse transforms predictions for evaluation.\n",
    "    \"\"\"\n",
    "    results = []\n",
    "\n",
    "    # Validate transform combinations\n",
    "    valid_transform_combinations = [()] + list(chain(combinations(target_transforms, 1), combinations(target_transforms, 2)))\n",
    "    valid_transform_combinations = [tc for tc in valid_transform_combinations if filter_conflicting_transforms(tc)]\n",
    "\n",
    "    max_test_length = len(test_df)  # Full test period\n",
    "\n",
    "    # Define test segment lengths: 1-6 months, then 8, 10, 12, 16, 20, etc.\n",
    "    test_lengths = list(range(30, 181, 30)) + [240, 300, 360, 480, 600, 720, max_test_length]  # Days-based segmentation\n",
    "\n",
    "    # Filter lengths within available test period\n",
    "    test_lengths = [t for t in test_lengths if t <= max_test_length]\n",
    "\n",
    "    total_fits = len(valid_transform_combinations)\n",
    "    print(f\"Total model fits to run: {total_fits}\")\n",
    "\n",
    "    fit_num = 0\n",
    "\n",
    "    train_df = train_df[['ds', 'y']].copy()\n",
    "    test_df = test_df[['ds', 'y']].copy()\n",
    "\n",
    "    for transform_combination in valid_transform_combinations:\n",
    "        print(f\"{fit_num}/{total_fits} Training...\")\n",
    "\n",
    "        # try:\n",
    "        # Apply transformations to training data\n",
    "        transformed_train_df = train_df.copy()\n",
    "        transformers = []  # Store transformers for inverse transformation later\n",
    "        for transform in transform_combination:\n",
    "            # Initialize the transformer\n",
    "            transformer = deepcopy(transform)\n",
    "            # Fit and transform the training data\n",
    "            transformed_train_df['y'] = transformer.fit_transform(transformed_train_df['y'])\n",
    "            transformers.append(transformer)  # Save the transformer\n",
    "\n",
    "        # Initialize and fit the model\n",
    "        model = Prophet(seasonality_mode='multiplicative', yearly_seasonality=True, weekly_seasonality=True)\n",
    "        model.fit(transformed_train_df)\n",
    "\n",
    "        # Transform test data using the same transformers\n",
    "        transformed_test_df = test_df.copy()\n",
    "        for transformer in transformers:\n",
    "            transformed_test_df['y'] = transformer.transform(transformed_test_df['y'])\n",
    "\n",
    "        # Predict on transformed test data\n",
    "        future = model.make_future_dataframe(periods=max_test_length)\n",
    "        predictions = model.predict(future)\n",
    "        transformed_test_df['forecast'] = predictions['yhat'].values[-max_test_length:]\n",
    "\n",
    "        # Inverse transform predictions to bring them back to the original scale\n",
    "        inverse_transformed_predictions = transformed_test_df['forecast'].copy()\n",
    "        for transformer in reversed(transformers):  # Apply inverse in reverse order\n",
    "            inverse_transformed_predictions = transformer.inverse_transform(inverse_transformed_predictions)\n",
    "\n",
    "        # Add inverse-transformed predictions to the test dataframe\n",
    "        test_df_copy = test_df.copy()\n",
    "        test_df_copy['forecast'] = inverse_transformed_predictions\n",
    "\n",
    "        error_dict = {}\n",
    "\n",
    "        for test_length in test_lengths:\n",
    "            eval_subset = test_df_copy.iloc[:test_length]  # Take subset for evaluation\n",
    "            error_dict[f\"test_{test_length}_days\"] = mape_met(eval_subset['y'].values, eval_subset['forecast'].values)\n",
    "\n",
    "        # Store results\n",
    "        results.append({\n",
    "            \"Model\": \"Prophet\",\n",
    "            \"Transforms\": stringify_transform(list(transform_combination)),\n",
    "            **error_dict  # Expand error dictionary into separate columns\n",
    "        })\n",
    "        print(f\"Prophet MAPE: {error_dict[f'test_{max_test_length}_days']:.2f}% with transforms {transform_combination}\")\n",
    "            \n",
    "        # except Exception as e:\n",
    "            # print(f\"Skipping combination {fit_num} due to error: {e}\")\n",
    "\n",
    "        fit_num += 1\n",
    "\n",
    "    return pd.DataFrame(results)"
   ]
  },
  {
   "cell_type": "code",
   "execution_count": null,
   "metadata": {},
   "outputs": [],
   "source": [
    "from utilsforecast.processing import counts_by_id\n",
    "import pandas as pd\n",
    "from itertools import chain, combinations\n",
    "from prophet import Prophet\n",
    "from mlforecast.target_transforms import Differences, LocalStandardScaler\n",
    "from utilsforecast.processing import counts_by_id\n",
    "from mlforecast.utils import generate_daily_series\n",
    "from coreforecast.grouped_array import GroupedArray\n",
    "\n",
    "def dataframe_to_grouped_array(df, id_col, target_col):\n",
    "    \"\"\"\n",
    "    Converts a pandas DataFrame to a GroupedArray required by mlforecast transformations.\n",
    "    \"\"\"\n",
    "    id_counts = counts_by_id(df, id_col)\n",
    "    indptr = np.append(0, id_counts['counts'].cumsum())\n",
    "    return GroupedArray(df[target_col].values, indptr)\n",
    "\n",
    "def apply_transformations(ga, transformations):\n",
    "    \"\"\"\n",
    "    Applies a series of transformations to a GroupedArray.\n",
    "    \"\"\"\n",
    "    for transform in transformations:\n",
    "        ga = transform.fit_transform(ga)\n",
    "    return ga\n",
    "\n",
    "def inverse_transformations(ga, transformations):\n",
    "    \"\"\"\n",
    "    Applies inverse transformations to a GroupedArray in reverse order.\n",
    "    \"\"\"\n",
    "    for transform in reversed(transformations):\n",
    "        ga = transform.inverse_transform(ga)\n",
    "    return ga"
   ]
  },
  {
   "cell_type": "code",
   "execution_count": null,
   "metadata": {},
   "outputs": [],
   "source": [
    "from itertools import combinations, chain\n",
    "import pandas as pd\n",
    "from prophet import Prophet\n",
    "from utilsforecast.processing import counts_by_id\n",
    "import pandas as pd\n",
    "from itertools import chain, combinations\n",
    "from prophet import Prophet\n",
    "from mlforecast.target_transforms import Differences, LocalStandardScaler\n",
    "from utilsforecast.processing import counts_by_id\n",
    "from mlforecast.utils import generate_daily_series\n",
    "from coreforecast.grouped_array import GroupedArray\n",
    "\n",
    "def dataframe_to_grouped_array(df, id_col, target_col):\n",
    "    \"\"\"\n",
    "    Converts a pandas DataFrame to a GroupedArray required by mlforecast transformations.\n",
    "    \"\"\"\n",
    "    id_counts = counts_by_id(df, id_col)\n",
    "    indptr = np.append(0, id_counts['counts'].cumsum())\n",
    "    return GroupedArray(df[target_col].values, indptr)\n",
    "\n",
    "def apply_transformations(ga, transformations):\n",
    "    \"\"\"\n",
    "    Applies a series of transformations to a GroupedArray.\n",
    "    \"\"\"\n",
    "    for transform in transformations:\n",
    "        ga = transform.fit_transform(ga)\n",
    "    return ga\n",
    "\n",
    "def inverse_transformations(ga, transformations):\n",
    "    \"\"\"\n",
    "    Applies inverse transformations to a GroupedArray in reverse order.\n",
    "    \"\"\"\n",
    "    for transform in reversed(transformations):\n",
    "        ga = transform.inverse_transform(ga)\n",
    "    return ga\n",
    "\n",
    "# Ensure kazakhstan_holidays is a DataFrame with 'ds' and 'holiday' columns\n",
    "kazakhstan_holidays = pd.read_csv(\"../data/kazakhstan_holidays.csv\")\n",
    "\n",
    "def evaluate_models_prophet(train_df, test_df, target_transforms):\n",
    "    \"\"\"\n",
    "    Evaluates multiple Prophet models with different configurations:\n",
    "    - Base model without additional seasonality or holidays.\n",
    "    - Model with additional seasonality.\n",
    "    - Model with holidays.\n",
    "    - Model with both additional seasonality and holidays.\n",
    "    Applies transformations to test data and inverse transforms predictions for evaluation.\n",
    "    \"\"\"\n",
    "    results = []\n",
    "\n",
    "    # Define model configurations\n",
    "    model_configs = [\n",
    "        {\"name\": \"prophet\", \"seasonality\": False, \"holidays\": False},\n",
    "        {\"name\": \"prophet_add_season30_5\", \"seasonality\": True, \"holidays\": False},\n",
    "        {\"name\": \"prophet_holy\", \"seasonality\": False, \"holidays\": True},\n",
    "        {\"name\": \"prophet_add_season30_5_holy\", \"seasonality\": True, \"holidays\": True}\n",
    "    ]\n",
    "\n",
    "    # Validate transform combinations\n",
    "    valid_transform_combinations = [()] + list(chain(combinations(target_transforms, 1), combinations(target_transforms, 2)))\n",
    "    valid_transform_combinations = [tc for tc in valid_transform_combinations if filter_conflicting_transforms(tc)]\n",
    "\n",
    "    max_test_length = len(test_df)  # Full test period\n",
    "\n",
    "    # Define test segment lengths: 1-6 months, then 8, 10, 12, 16, 20, etc.\n",
    "    test_lengths = list(range(30, 181, 30)) + [240, 300, 360, 480, 600, 720, max_test_length]  # Days-based segmentation\n",
    "\n",
    "    # Filter lengths within available test period\n",
    "    test_lengths = [t for t in test_lengths if t <= max_test_length]\n",
    "\n",
    "    total_fits = len(valid_transform_combinations) * len(model_configs)\n",
    "    print(f\"Total model fits to run: {total_fits}\")\n",
    "\n",
    "    fit_num = 0\n",
    "\n",
    "    for config in model_configs:\n",
    "        for transform_combination in valid_transform_combinations:\n",
    "            print(f\"{fit_num + 1}/{total_fits} Training {config['name']} with transforms: {stringify_transform(transform_combination)}...\")\n",
    "\n",
    "            try:\n",
    "                # Convert training data to GroupedArray\n",
    "                train_ga = dataframe_to_grouped_array(train_df, 'unique_id', 'y')\n",
    "\n",
    "                # Apply transformations\n",
    "                transformed_train_ga = apply_transformations(train_ga, transform_combination)\n",
    "\n",
    "                # Prepare transformed training DataFrame\n",
    "                transformed_train_df = train_df.copy()\n",
    "                transformed_train_df['y'] = transformed_train_ga.data\n",
    "\n",
    "                # Initialize the Prophet model\n",
    "                model = Prophet(\n",
    "                    seasonality_mode='multiplicative',\n",
    "                    yearly_seasonality=True,\n",
    "                    weekly_seasonality=True,\n",
    "                    holidays=kazakhstan_holidays if config['holidays'] else None\n",
    "                )\n",
    "\n",
    "                # Add additional seasonality if specified\n",
    "                if config['seasonality']:\n",
    "                    model.add_seasonality(name='monthly', period=30.5, fourier_order=8)\n",
    "\n",
    "                # Fit the model on transformed training data\n",
    "                model.fit(transformed_train_df[['ds', 'y']])\n",
    "\n",
    "                # Prepare a DataFrame for future dates\n",
    "                future = model.make_future_dataframe(periods=max_test_length, freq='D')\n",
    "                forecast = model.predict(future)\n",
    "\n",
    "                # Extract the forecasted values corresponding to the test period\n",
    "                transformed_forecast = forecast[['ds', 'yhat']].iloc[-max_test_length:].copy()\n",
    "                transformed_forecast.rename(columns={'yhat': 'y'}, inplace=True)\n",
    "                transformed_forecast['unique_id'] = test_df['unique_id'].iloc[0]  # Assuming a single series\n",
    "\n",
    "                # Convert forecast to GroupedArray\n",
    "                forecast_ga = dataframe_to_grouped_array(transformed_forecast, 'unique_id', 'y')\n",
    "\n",
    "                # Inverse transform the forecasted values\n",
    "                inverse_transformed_forecast_ga = inverse_transformations(forecast_ga, transform_combination)\n",
    "\n",
    "                # Align the inverse-transformed forecasts with the test data\n",
    "                test_df_copy = test_df.copy()\n",
    "                test_df_copy['forecast'] = inverse_transformed_forecast_ga.data\n",
    "\n",
    "                error_dict = {}\n",
    "\n",
    "                for test_length in test_lengths:\n",
    "                    eval_subset = test_df_copy.iloc[:test_length]  # Take subset for evaluation\n",
    "                    error_dict[f\"test_{test_length}_days\"] = mape_met(eval_subset['y'].values, eval_subset['forecast'].values)\n",
    "\n",
    "                # Store results\n",
    "                results.append({\n",
    "                    \"Model\": config['name'],\n",
    "                    \"Transforms\": stringify_transform(list(transform_combination)),\n",
    "                    **error_dict  # Expand error dictionary into separate columns\n",
    "                })\n",
    "                print(f\"{config['name']} MAPE: {error_dict[f'test_{max_test_length}_days']:.2f}% with transforms {stringify_transform(list(transform_combination))}\")\n",
    "            except Exception as e:\n",
    "                print(f\"Skipping combination {fit_num + 1} due to error: {e}\")\n",
    "            fit_num += 1\n",
    "\n",
    "    return pd.DataFrame(results)\n"
   ]
  },
  {
   "cell_type": "code",
   "execution_count": 74,
   "metadata": {},
   "outputs": [
    {
     "name": "stderr",
     "output_type": "stream",
     "text": [
      "12:15:01 - cmdstanpy - INFO - Chain [1] start processing\n",
      "12:15:01 - cmdstanpy - INFO - Chain [1] done processing\n"
     ]
    },
    {
     "name": "stdout",
     "output_type": "stream",
     "text": [
      "Total model fits to run: 64\n",
      "1/64 Training prophet with transforms: tuple()...\n"
     ]
    },
    {
     "name": "stderr",
     "output_type": "stream",
     "text": [
      "12:15:02 - cmdstanpy - INFO - Chain [1] start processing\n",
      "12:15:02 - cmdstanpy - INFO - Chain [1] done processing\n"
     ]
    },
    {
     "name": "stdout",
     "output_type": "stream",
     "text": [
      "prophet MAPE: 41.33% with transforms \n",
      "2/64 Training prophet with transforms: tuple()...\n"
     ]
    },
    {
     "name": "stderr",
     "output_type": "stream",
     "text": [
      "12:15:02 - cmdstanpy - INFO - Chain [1] start processing\n",
      "12:15:02 - cmdstanpy - INFO - Chain [1] done processing\n"
     ]
    },
    {
     "name": "stdout",
     "output_type": "stream",
     "text": [
      "prophet MAPE: 66.03% with transforms AutoDifferences(max_diffs=380)\n",
      "3/64 Training prophet with transforms: tuple()...\n",
      "prophet MAPE: 41.33% with transforms AutoSeasonalDifferences(max_diffs=380, n_seasons=10, season_length=267)\n",
      "4/64 Training prophet with transforms: tuple()...\n"
     ]
    },
    {
     "name": "stderr",
     "output_type": "stream",
     "text": [
      "12:15:07 - cmdstanpy - INFO - Chain [1] start processing\n",
      "12:15:08 - cmdstanpy - INFO - Chain [1] done processing\n",
      "12:15:08 - cmdstanpy - INFO - Chain [1] start processing\n"
     ]
    },
    {
     "name": "stdout",
     "output_type": "stream",
     "text": [
      "prophet MAPE: 41.33% with transforms AutoSeasonalityAndDifferences(max_diffs=380, max_season_length=267, n_seasons=10)\n",
      "5/64 Training prophet with transforms: tuple()...\n"
     ]
    },
    {
     "name": "stderr",
     "output_type": "stream",
     "text": [
      "12:15:08 - cmdstanpy - INFO - Chain [1] done processing\n",
      "12:15:08 - cmdstanpy - INFO - Chain [1] start processing\n",
      "12:15:08 - cmdstanpy - INFO - Chain [1] done processing\n"
     ]
    },
    {
     "name": "stdout",
     "output_type": "stream",
     "text": [
      "prophet MAPE: 298.47% with transforms LocalStandardScaler(stats_=[[47.42372721 38.3630083 ]])\n",
      "6/64 Training prophet with transforms: tuple()...\n"
     ]
    },
    {
     "name": "stderr",
     "output_type": "stream",
     "text": [
      "12:15:08 - cmdstanpy - INFO - Chain [1] start processing\n",
      "12:15:08 - cmdstanpy - INFO - Chain [1] done processing\n"
     ]
    },
    {
     "name": "stdout",
     "output_type": "stream",
     "text": [
      "prophet MAPE: 40.44% with transforms LocalMinMaxScaler(stats_=[[  5.11211699 325.92896936]])\n",
      "7/64 Training prophet with transforms: tuple()...\n"
     ]
    },
    {
     "name": "stderr",
     "output_type": "stream",
     "text": [
      "12:15:09 - cmdstanpy - INFO - Chain [1] start processing\n",
      "12:15:09 - cmdstanpy - INFO - Chain [1] done processing\n"
     ]
    },
    {
     "name": "stdout",
     "output_type": "stream",
     "text": [
      "prophet MAPE: 108.81% with transforms LocalBoxCox(lower=0.0, method=loglik, season_length=None, stats_=[[4.10226185e-005 3.96240648e-321]], upper=2.0)\n",
      "8/64 Training prophet with transforms: tuple()...\n"
     ]
    },
    {
     "name": "stderr",
     "output_type": "stream",
     "text": [
      "12:15:09 - cmdstanpy - INFO - Chain [1] start processing\n",
      "12:15:09 - cmdstanpy - INFO - Chain [1] done processing\n"
     ]
    },
    {
     "name": "stdout",
     "output_type": "stream",
     "text": [
      "prophet MAPE: 86.79% with transforms AutoDifferences(max_diffs=380) | LocalStandardScaler(stats_=[[-2.09155811e-02  2.20585897e+01]])\n",
      "9/64 Training prophet with transforms: tuple()...\n"
     ]
    },
    {
     "name": "stderr",
     "output_type": "stream",
     "text": [
      "12:15:09 - cmdstanpy - INFO - Chain [1] start processing\n"
     ]
    },
    {
     "name": "stdout",
     "output_type": "stream",
     "text": [
      "prophet MAPE: 180.29% with transforms AutoDifferences(max_diffs=380) | LocalMinMaxScaler(stats_=[[-214.51499032  437.2315826 ]])\n",
      "10/64 Training prophet with transforms: tuple()...\n",
      "Skipping combination 10 due to error: All values in data must be positive for method='loglik'\n",
      "11/64 Training prophet with transforms: tuple()...\n"
     ]
    },
    {
     "name": "stderr",
     "output_type": "stream",
     "text": [
      "12:15:10 - cmdstanpy - INFO - Chain [1] done processing\n",
      "12:15:10 - cmdstanpy - INFO - Chain [1] start processing\n",
      "12:15:10 - cmdstanpy - INFO - Chain [1] done processing\n"
     ]
    },
    {
     "name": "stdout",
     "output_type": "stream",
     "text": [
      "prophet MAPE: 298.47% with transforms AutoSeasonalDifferences(max_diffs=380, n_seasons=10, season_length=267) | LocalStandardScaler(stats_=[[47.42372721 38.3630083 ]])\n",
      "12/64 Training prophet with transforms: tuple()...\n"
     ]
    },
    {
     "name": "stderr",
     "output_type": "stream",
     "text": [
      "12:15:11 - cmdstanpy - INFO - Chain [1] start processing\n",
      "12:15:11 - cmdstanpy - INFO - Chain [1] done processing\n"
     ]
    },
    {
     "name": "stdout",
     "output_type": "stream",
     "text": [
      "prophet MAPE: 40.44% with transforms AutoSeasonalDifferences(max_diffs=380, n_seasons=10, season_length=267) | LocalMinMaxScaler(stats_=[[  5.11211699 325.92896936]])\n",
      "13/64 Training prophet with transforms: tuple()...\n",
      "prophet MAPE: 108.81% with transforms AutoSeasonalDifferences(max_diffs=380, n_seasons=10, season_length=267) | LocalBoxCox(lower=0.0, method=loglik, season_length=None, stats_=[[4.10226185e-005 3.96240648e-321]], upper=2.0)\n",
      "14/64 Training prophet with transforms: tuple()...\n"
     ]
    },
    {
     "name": "stderr",
     "output_type": "stream",
     "text": [
      "12:15:16 - cmdstanpy - INFO - Chain [1] start processing\n",
      "12:15:16 - cmdstanpy - INFO - Chain [1] done processing\n"
     ]
    },
    {
     "name": "stdout",
     "output_type": "stream",
     "text": [
      "prophet MAPE: 298.47% with transforms AutoSeasonalityAndDifferences(max_diffs=380, max_season_length=267, n_seasons=10) | LocalStandardScaler(stats_=[[47.42372721 38.3630083 ]])\n",
      "15/64 Training prophet with transforms: tuple()...\n"
     ]
    },
    {
     "name": "stderr",
     "output_type": "stream",
     "text": [
      "12:15:21 - cmdstanpy - INFO - Chain [1] start processing\n",
      "12:15:21 - cmdstanpy - INFO - Chain [1] done processing\n"
     ]
    },
    {
     "name": "stdout",
     "output_type": "stream",
     "text": [
      "prophet MAPE: 40.44% with transforms AutoSeasonalityAndDifferences(max_diffs=380, max_season_length=267, n_seasons=10) | LocalMinMaxScaler(stats_=[[  5.11211699 325.92896936]])\n",
      "16/64 Training prophet with transforms: tuple()...\n"
     ]
    },
    {
     "name": "stderr",
     "output_type": "stream",
     "text": [
      "12:15:26 - cmdstanpy - INFO - Chain [1] start processing\n",
      "12:15:26 - cmdstanpy - INFO - Chain [1] done processing\n",
      "12:15:27 - cmdstanpy - INFO - Chain [1] start processing\n",
      "12:15:27 - cmdstanpy - INFO - Chain [1] done processing\n"
     ]
    },
    {
     "name": "stdout",
     "output_type": "stream",
     "text": [
      "prophet MAPE: 108.81% with transforms AutoSeasonalityAndDifferences(max_diffs=380, max_season_length=267, n_seasons=10) | LocalBoxCox(lower=0.0, method=loglik, season_length=None, stats_=[[4.10226185e-05 0.00000000e+00]], upper=2.0)\n",
      "17/64 Training prophet_add_season30_5 with transforms: tuple()...\n"
     ]
    },
    {
     "name": "stderr",
     "output_type": "stream",
     "text": [
      "12:15:27 - cmdstanpy - INFO - Chain [1] start processing\n",
      "12:15:27 - cmdstanpy - INFO - Chain [1] done processing\n"
     ]
    },
    {
     "name": "stdout",
     "output_type": "stream",
     "text": [
      "prophet_add_season30_5 MAPE: 44.19% with transforms \n",
      "18/64 Training prophet_add_season30_5 with transforms: tuple()...\n"
     ]
    },
    {
     "name": "stderr",
     "output_type": "stream",
     "text": [
      "12:15:28 - cmdstanpy - INFO - Chain [1] start processing\n",
      "12:15:28 - cmdstanpy - INFO - Chain [1] done processing\n"
     ]
    },
    {
     "name": "stdout",
     "output_type": "stream",
     "text": [
      "prophet_add_season30_5 MAPE: 107.47% with transforms AutoDifferences(max_diffs=380)\n",
      "19/64 Training prophet_add_season30_5 with transforms: tuple()...\n",
      "prophet_add_season30_5 MAPE: 44.19% with transforms AutoSeasonalDifferences(max_diffs=380, n_seasons=10, season_length=267)\n",
      "20/64 Training prophet_add_season30_5 with transforms: tuple()...\n"
     ]
    },
    {
     "name": "stderr",
     "output_type": "stream",
     "text": [
      "12:15:33 - cmdstanpy - INFO - Chain [1] start processing\n",
      "12:15:33 - cmdstanpy - INFO - Chain [1] done processing\n",
      "12:15:33 - cmdstanpy - INFO - Chain [1] start processing\n"
     ]
    },
    {
     "name": "stdout",
     "output_type": "stream",
     "text": [
      "prophet_add_season30_5 MAPE: 44.19% with transforms AutoSeasonalityAndDifferences(max_diffs=380, max_season_length=267, n_seasons=10)\n",
      "21/64 Training prophet_add_season30_5 with transforms: tuple()...\n"
     ]
    },
    {
     "name": "stderr",
     "output_type": "stream",
     "text": [
      "12:15:33 - cmdstanpy - INFO - Chain [1] done processing\n",
      "12:15:34 - cmdstanpy - INFO - Chain [1] start processing\n",
      "12:15:34 - cmdstanpy - INFO - Chain [1] done processing\n"
     ]
    },
    {
     "name": "stdout",
     "output_type": "stream",
     "text": [
      "prophet_add_season30_5 MAPE: 389.88% with transforms LocalStandardScaler(stats_=[[47.42372721 38.3630083 ]])\n",
      "22/64 Training prophet_add_season30_5 with transforms: tuple()...\n"
     ]
    },
    {
     "name": "stderr",
     "output_type": "stream",
     "text": [
      "12:15:34 - cmdstanpy - INFO - Chain [1] start processing\n",
      "12:15:34 - cmdstanpy - INFO - Chain [1] done processing\n"
     ]
    },
    {
     "name": "stdout",
     "output_type": "stream",
     "text": [
      "prophet_add_season30_5 MAPE: 43.32% with transforms LocalMinMaxScaler(stats_=[[  5.11211699 325.92896936]])\n",
      "23/64 Training prophet_add_season30_5 with transforms: tuple()...\n"
     ]
    },
    {
     "name": "stderr",
     "output_type": "stream",
     "text": [
      "12:15:34 - cmdstanpy - INFO - Chain [1] start processing\n",
      "12:15:34 - cmdstanpy - INFO - Chain [1] done processing\n"
     ]
    },
    {
     "name": "stdout",
     "output_type": "stream",
     "text": [
      "prophet_add_season30_5 MAPE: 123.32% with transforms LocalBoxCox(lower=0.0, method=loglik, season_length=None, stats_=[[4.10226185e-005 3.96240648e-321]], upper=2.0)\n",
      "24/64 Training prophet_add_season30_5 with transforms: tuple()...\n"
     ]
    },
    {
     "name": "stderr",
     "output_type": "stream",
     "text": [
      "12:15:34 - cmdstanpy - INFO - Chain [1] start processing\n",
      "12:15:35 - cmdstanpy - INFO - Chain [1] done processing\n"
     ]
    },
    {
     "name": "stdout",
     "output_type": "stream",
     "text": [
      "prophet_add_season30_5 MAPE: 49.06% with transforms AutoDifferences(max_diffs=380) | LocalStandardScaler(stats_=[[-2.09155811e-02  2.20585897e+01]])\n",
      "25/64 Training prophet_add_season30_5 with transforms: tuple()...\n"
     ]
    },
    {
     "name": "stderr",
     "output_type": "stream",
     "text": [
      "12:15:35 - cmdstanpy - INFO - Chain [1] start processing\n"
     ]
    },
    {
     "name": "stdout",
     "output_type": "stream",
     "text": [
      "prophet_add_season30_5 MAPE: 266.24% with transforms AutoDifferences(max_diffs=380) | LocalMinMaxScaler(stats_=[[-214.51499032  437.2315826 ]])\n",
      "26/64 Training prophet_add_season30_5 with transforms: tuple()...\n",
      "Skipping combination 26 due to error: All values in data must be positive for method='loglik'\n",
      "27/64 Training prophet_add_season30_5 with transforms: tuple()...\n"
     ]
    },
    {
     "name": "stderr",
     "output_type": "stream",
     "text": [
      "12:15:35 - cmdstanpy - INFO - Chain [1] done processing\n",
      "12:15:36 - cmdstanpy - INFO - Chain [1] start processing\n",
      "12:15:36 - cmdstanpy - INFO - Chain [1] done processing\n"
     ]
    },
    {
     "name": "stdout",
     "output_type": "stream",
     "text": [
      "prophet_add_season30_5 MAPE: 389.88% with transforms AutoSeasonalDifferences(max_diffs=380, n_seasons=10, season_length=267) | LocalStandardScaler(stats_=[[47.42372721 38.3630083 ]])\n",
      "28/64 Training prophet_add_season30_5 with transforms: tuple()...\n"
     ]
    },
    {
     "name": "stderr",
     "output_type": "stream",
     "text": [
      "12:15:36 - cmdstanpy - INFO - Chain [1] start processing\n",
      "12:15:36 - cmdstanpy - INFO - Chain [1] done processing\n"
     ]
    },
    {
     "name": "stdout",
     "output_type": "stream",
     "text": [
      "prophet_add_season30_5 MAPE: 43.32% with transforms AutoSeasonalDifferences(max_diffs=380, n_seasons=10, season_length=267) | LocalMinMaxScaler(stats_=[[  5.11211699 325.92896936]])\n",
      "29/64 Training prophet_add_season30_5 with transforms: tuple()...\n",
      "prophet_add_season30_5 MAPE: 123.32% with transforms AutoSeasonalDifferences(max_diffs=380, n_seasons=10, season_length=267) | LocalBoxCox(lower=0.0, method=loglik, season_length=None, stats_=[[4.10226185e-005 3.96240648e-321]], upper=2.0)\n",
      "30/64 Training prophet_add_season30_5 with transforms: tuple()...\n"
     ]
    },
    {
     "name": "stderr",
     "output_type": "stream",
     "text": [
      "12:15:41 - cmdstanpy - INFO - Chain [1] start processing\n",
      "12:15:42 - cmdstanpy - INFO - Chain [1] done processing\n"
     ]
    },
    {
     "name": "stdout",
     "output_type": "stream",
     "text": [
      "prophet_add_season30_5 MAPE: 389.88% with transforms AutoSeasonalityAndDifferences(max_diffs=380, max_season_length=267, n_seasons=10) | LocalStandardScaler(stats_=[[47.42372721 38.3630083 ]])\n",
      "31/64 Training prophet_add_season30_5 with transforms: tuple()...\n"
     ]
    },
    {
     "name": "stderr",
     "output_type": "stream",
     "text": [
      "12:15:47 - cmdstanpy - INFO - Chain [1] start processing\n",
      "12:15:47 - cmdstanpy - INFO - Chain [1] done processing\n"
     ]
    },
    {
     "name": "stdout",
     "output_type": "stream",
     "text": [
      "prophet_add_season30_5 MAPE: 43.32% with transforms AutoSeasonalityAndDifferences(max_diffs=380, max_season_length=267, n_seasons=10) | LocalMinMaxScaler(stats_=[[  5.11211699 325.92896936]])\n",
      "32/64 Training prophet_add_season30_5 with transforms: tuple()...\n"
     ]
    },
    {
     "name": "stderr",
     "output_type": "stream",
     "text": [
      "12:15:52 - cmdstanpy - INFO - Chain [1] start processing\n",
      "12:15:52 - cmdstanpy - INFO - Chain [1] done processing\n",
      "12:15:52 - cmdstanpy - INFO - Chain [1] start processing\n",
      "12:15:52 - cmdstanpy - INFO - Chain [1] done processing\n"
     ]
    },
    {
     "name": "stdout",
     "output_type": "stream",
     "text": [
      "prophet_add_season30_5 MAPE: 123.32% with transforms AutoSeasonalityAndDifferences(max_diffs=380, max_season_length=267, n_seasons=10) | LocalBoxCox(lower=0.0, method=loglik, season_length=None, stats_=[[4.10226185e-05 0.00000000e+00]], upper=2.0)\n",
      "33/64 Training prophet_holy with transforms: tuple()...\n"
     ]
    },
    {
     "name": "stderr",
     "output_type": "stream",
     "text": [
      "12:15:53 - cmdstanpy - INFO - Chain [1] start processing\n",
      "12:15:53 - cmdstanpy - INFO - Chain [1] done processing\n"
     ]
    },
    {
     "name": "stdout",
     "output_type": "stream",
     "text": [
      "prophet_holy MAPE: 41.32% with transforms \n",
      "34/64 Training prophet_holy with transforms: tuple()...\n"
     ]
    },
    {
     "name": "stderr",
     "output_type": "stream",
     "text": [
      "12:15:53 - cmdstanpy - INFO - Chain [1] start processing\n",
      "12:15:53 - cmdstanpy - INFO - Chain [1] done processing\n"
     ]
    },
    {
     "name": "stdout",
     "output_type": "stream",
     "text": [
      "prophet_holy MAPE: 105.65% with transforms AutoDifferences(max_diffs=380)\n",
      "35/64 Training prophet_holy with transforms: tuple()...\n",
      "prophet_holy MAPE: 41.32% with transforms AutoSeasonalDifferences(max_diffs=380, n_seasons=10, season_length=267)\n",
      "36/64 Training prophet_holy with transforms: tuple()...\n"
     ]
    },
    {
     "name": "stderr",
     "output_type": "stream",
     "text": [
      "12:15:58 - cmdstanpy - INFO - Chain [1] start processing\n",
      "12:15:58 - cmdstanpy - INFO - Chain [1] done processing\n",
      "12:15:59 - cmdstanpy - INFO - Chain [1] start processing\n"
     ]
    },
    {
     "name": "stdout",
     "output_type": "stream",
     "text": [
      "prophet_holy MAPE: 41.32% with transforms AutoSeasonalityAndDifferences(max_diffs=380, max_season_length=267, n_seasons=10)\n",
      "37/64 Training prophet_holy with transforms: tuple()...\n"
     ]
    },
    {
     "name": "stderr",
     "output_type": "stream",
     "text": [
      "12:15:59 - cmdstanpy - INFO - Chain [1] done processing\n",
      "12:15:59 - cmdstanpy - INFO - Chain [1] start processing\n",
      "12:15:59 - cmdstanpy - INFO - Chain [1] done processing\n"
     ]
    },
    {
     "name": "stdout",
     "output_type": "stream",
     "text": [
      "prophet_holy MAPE: 288.41% with transforms LocalStandardScaler(stats_=[[47.42372721 38.3630083 ]])\n",
      "38/64 Training prophet_holy with transforms: tuple()...\n"
     ]
    },
    {
     "name": "stderr",
     "output_type": "stream",
     "text": [
      "12:15:59 - cmdstanpy - INFO - Chain [1] start processing\n",
      "12:15:59 - cmdstanpy - INFO - Chain [1] done processing\n"
     ]
    },
    {
     "name": "stdout",
     "output_type": "stream",
     "text": [
      "prophet_holy MAPE: 40.35% with transforms LocalMinMaxScaler(stats_=[[  5.11211699 325.92896936]])\n",
      "39/64 Training prophet_holy with transforms: tuple()...\n"
     ]
    },
    {
     "name": "stderr",
     "output_type": "stream",
     "text": [
      "12:16:00 - cmdstanpy - INFO - Chain [1] start processing\n",
      "12:16:00 - cmdstanpy - INFO - Chain [1] done processing\n"
     ]
    },
    {
     "name": "stdout",
     "output_type": "stream",
     "text": [
      "prophet_holy MAPE: 115.66% with transforms LocalBoxCox(lower=0.0, method=loglik, season_length=None, stats_=[[4.10226185e-005 3.96240648e-321]], upper=2.0)\n",
      "40/64 Training prophet_holy with transforms: tuple()...\n"
     ]
    },
    {
     "name": "stderr",
     "output_type": "stream",
     "text": [
      "12:16:00 - cmdstanpy - INFO - Chain [1] start processing\n",
      "12:16:00 - cmdstanpy - INFO - Chain [1] done processing\n"
     ]
    },
    {
     "name": "stdout",
     "output_type": "stream",
     "text": [
      "prophet_holy MAPE: 52.84% with transforms AutoDifferences(max_diffs=380) | LocalStandardScaler(stats_=[[-2.09155811e-02  2.20585897e+01]])\n",
      "41/64 Training prophet_holy with transforms: tuple()...\n"
     ]
    },
    {
     "name": "stderr",
     "output_type": "stream",
     "text": [
      "12:16:00 - cmdstanpy - INFO - Chain [1] start processing\n"
     ]
    },
    {
     "name": "stdout",
     "output_type": "stream",
     "text": [
      "prophet_holy MAPE: 61.69% with transforms AutoDifferences(max_diffs=380) | LocalMinMaxScaler(stats_=[[-214.51499032  437.2315826 ]])\n",
      "42/64 Training prophet_holy with transforms: tuple()...\n",
      "Skipping combination 42 due to error: All values in data must be positive for method='loglik'\n",
      "43/64 Training prophet_holy with transforms: tuple()...\n"
     ]
    },
    {
     "name": "stderr",
     "output_type": "stream",
     "text": [
      "12:16:01 - cmdstanpy - INFO - Chain [1] done processing\n",
      "12:16:01 - cmdstanpy - INFO - Chain [1] start processing\n",
      "12:16:01 - cmdstanpy - INFO - Chain [1] done processing\n"
     ]
    },
    {
     "name": "stdout",
     "output_type": "stream",
     "text": [
      "prophet_holy MAPE: 288.41% with transforms AutoSeasonalDifferences(max_diffs=380, n_seasons=10, season_length=267) | LocalStandardScaler(stats_=[[47.42372721 38.3630083 ]])\n",
      "44/64 Training prophet_holy with transforms: tuple()...\n"
     ]
    },
    {
     "name": "stderr",
     "output_type": "stream",
     "text": [
      "12:16:02 - cmdstanpy - INFO - Chain [1] start processing\n",
      "12:16:02 - cmdstanpy - INFO - Chain [1] done processing\n"
     ]
    },
    {
     "name": "stdout",
     "output_type": "stream",
     "text": [
      "prophet_holy MAPE: 40.35% with transforms AutoSeasonalDifferences(max_diffs=380, n_seasons=10, season_length=267) | LocalMinMaxScaler(stats_=[[  5.11211699 325.92896936]])\n",
      "45/64 Training prophet_holy with transforms: tuple()...\n",
      "prophet_holy MAPE: 115.66% with transforms AutoSeasonalDifferences(max_diffs=380, n_seasons=10, season_length=267) | LocalBoxCox(lower=0.0, method=loglik, season_length=None, stats_=[[4.10226185e-005 3.96240648e-321]], upper=2.0)\n",
      "46/64 Training prophet_holy with transforms: tuple()...\n"
     ]
    },
    {
     "name": "stderr",
     "output_type": "stream",
     "text": [
      "12:16:07 - cmdstanpy - INFO - Chain [1] start processing\n",
      "12:16:07 - cmdstanpy - INFO - Chain [1] done processing\n"
     ]
    },
    {
     "name": "stdout",
     "output_type": "stream",
     "text": [
      "prophet_holy MAPE: 288.41% with transforms AutoSeasonalityAndDifferences(max_diffs=380, max_season_length=267, n_seasons=10) | LocalStandardScaler(stats_=[[47.42372721 38.3630083 ]])\n",
      "47/64 Training prophet_holy with transforms: tuple()...\n"
     ]
    },
    {
     "name": "stderr",
     "output_type": "stream",
     "text": [
      "12:16:12 - cmdstanpy - INFO - Chain [1] start processing\n",
      "12:16:12 - cmdstanpy - INFO - Chain [1] done processing\n"
     ]
    },
    {
     "name": "stdout",
     "output_type": "stream",
     "text": [
      "prophet_holy MAPE: 40.35% with transforms AutoSeasonalityAndDifferences(max_diffs=380, max_season_length=267, n_seasons=10) | LocalMinMaxScaler(stats_=[[  5.11211699 325.92896936]])\n",
      "48/64 Training prophet_holy with transforms: tuple()...\n"
     ]
    },
    {
     "name": "stderr",
     "output_type": "stream",
     "text": [
      "12:16:17 - cmdstanpy - INFO - Chain [1] start processing\n",
      "12:16:17 - cmdstanpy - INFO - Chain [1] done processing\n",
      "12:16:18 - cmdstanpy - INFO - Chain [1] start processing\n",
      "12:16:18 - cmdstanpy - INFO - Chain [1] done processing\n"
     ]
    },
    {
     "name": "stdout",
     "output_type": "stream",
     "text": [
      "prophet_holy MAPE: 115.66% with transforms AutoSeasonalityAndDifferences(max_diffs=380, max_season_length=267, n_seasons=10) | LocalBoxCox(lower=0.0, method=loglik, season_length=None, stats_=[[4.10226185e-05 0.00000000e+00]], upper=2.0)\n",
      "49/64 Training prophet_add_season30_5_holy with transforms: tuple()...\n"
     ]
    },
    {
     "name": "stderr",
     "output_type": "stream",
     "text": [
      "12:16:18 - cmdstanpy - INFO - Chain [1] start processing\n",
      "12:16:18 - cmdstanpy - INFO - Chain [1] done processing\n"
     ]
    },
    {
     "name": "stdout",
     "output_type": "stream",
     "text": [
      "prophet_add_season30_5_holy MAPE: 44.15% with transforms \n",
      "50/64 Training prophet_add_season30_5_holy with transforms: tuple()...\n"
     ]
    },
    {
     "name": "stderr",
     "output_type": "stream",
     "text": [
      "12:16:19 - cmdstanpy - INFO - Chain [1] start processing\n",
      "12:16:19 - cmdstanpy - INFO - Chain [1] done processing\n"
     ]
    },
    {
     "name": "stdout",
     "output_type": "stream",
     "text": [
      "prophet_add_season30_5_holy MAPE: 78.91% with transforms AutoDifferences(max_diffs=380)\n",
      "51/64 Training prophet_add_season30_5_holy with transforms: tuple()...\n",
      "prophet_add_season30_5_holy MAPE: 44.15% with transforms AutoSeasonalDifferences(max_diffs=380, n_seasons=10, season_length=267)\n",
      "52/64 Training prophet_add_season30_5_holy with transforms: tuple()...\n"
     ]
    },
    {
     "name": "stderr",
     "output_type": "stream",
     "text": [
      "12:16:24 - cmdstanpy - INFO - Chain [1] start processing\n",
      "12:16:24 - cmdstanpy - INFO - Chain [1] done processing\n",
      "12:16:24 - cmdstanpy - INFO - Chain [1] start processing\n"
     ]
    },
    {
     "name": "stdout",
     "output_type": "stream",
     "text": [
      "prophet_add_season30_5_holy MAPE: 44.15% with transforms AutoSeasonalityAndDifferences(max_diffs=380, max_season_length=267, n_seasons=10)\n",
      "53/64 Training prophet_add_season30_5_holy with transforms: tuple()...\n"
     ]
    },
    {
     "name": "stderr",
     "output_type": "stream",
     "text": [
      "12:16:24 - cmdstanpy - INFO - Chain [1] done processing\n",
      "12:16:25 - cmdstanpy - INFO - Chain [1] start processing\n",
      "12:16:25 - cmdstanpy - INFO - Chain [1] done processing\n"
     ]
    },
    {
     "name": "stdout",
     "output_type": "stream",
     "text": [
      "prophet_add_season30_5_holy MAPE: 356.34% with transforms LocalStandardScaler(stats_=[[47.42372721 38.3630083 ]])\n",
      "54/64 Training prophet_add_season30_5_holy with transforms: tuple()...\n"
     ]
    },
    {
     "name": "stderr",
     "output_type": "stream",
     "text": [
      "12:16:25 - cmdstanpy - INFO - Chain [1] start processing\n",
      "12:16:25 - cmdstanpy - INFO - Chain [1] done processing\n"
     ]
    },
    {
     "name": "stdout",
     "output_type": "stream",
     "text": [
      "prophet_add_season30_5_holy MAPE: 43.27% with transforms LocalMinMaxScaler(stats_=[[  5.11211699 325.92896936]])\n",
      "55/64 Training prophet_add_season30_5_holy with transforms: tuple()...\n"
     ]
    },
    {
     "name": "stderr",
     "output_type": "stream",
     "text": [
      "12:16:25 - cmdstanpy - INFO - Chain [1] start processing\n",
      "12:16:25 - cmdstanpy - INFO - Chain [1] done processing\n"
     ]
    },
    {
     "name": "stdout",
     "output_type": "stream",
     "text": [
      "prophet_add_season30_5_holy MAPE: 114.34% with transforms LocalBoxCox(lower=0.0, method=loglik, season_length=None, stats_=[[4.10226185e-005 3.96240648e-321]], upper=2.0)\n",
      "56/64 Training prophet_add_season30_5_holy with transforms: tuple()...\n"
     ]
    },
    {
     "name": "stderr",
     "output_type": "stream",
     "text": [
      "12:16:26 - cmdstanpy - INFO - Chain [1] start processing\n",
      "12:16:26 - cmdstanpy - INFO - Chain [1] done processing\n"
     ]
    },
    {
     "name": "stdout",
     "output_type": "stream",
     "text": [
      "prophet_add_season30_5_holy MAPE: 100.34% with transforms AutoDifferences(max_diffs=380) | LocalStandardScaler(stats_=[[-2.09155811e-02  2.20585897e+01]])\n",
      "57/64 Training prophet_add_season30_5_holy with transforms: tuple()...\n"
     ]
    },
    {
     "name": "stderr",
     "output_type": "stream",
     "text": [
      "12:16:26 - cmdstanpy - INFO - Chain [1] start processing\n"
     ]
    },
    {
     "name": "stdout",
     "output_type": "stream",
     "text": [
      "prophet_add_season30_5_holy MAPE: 324.10% with transforms AutoDifferences(max_diffs=380) | LocalMinMaxScaler(stats_=[[-214.51499032  437.2315826 ]])\n",
      "58/64 Training prophet_add_season30_5_holy with transforms: tuple()...\n",
      "Skipping combination 58 due to error: All values in data must be positive for method='loglik'\n",
      "59/64 Training prophet_add_season30_5_holy with transforms: tuple()...\n"
     ]
    },
    {
     "name": "stderr",
     "output_type": "stream",
     "text": [
      "12:16:26 - cmdstanpy - INFO - Chain [1] done processing\n",
      "12:16:27 - cmdstanpy - INFO - Chain [1] start processing\n",
      "12:16:27 - cmdstanpy - INFO - Chain [1] done processing\n"
     ]
    },
    {
     "name": "stdout",
     "output_type": "stream",
     "text": [
      "prophet_add_season30_5_holy MAPE: 356.34% with transforms AutoSeasonalDifferences(max_diffs=380, n_seasons=10, season_length=267) | LocalStandardScaler(stats_=[[47.42372721 38.3630083 ]])\n",
      "60/64 Training prophet_add_season30_5_holy with transforms: tuple()...\n"
     ]
    },
    {
     "name": "stderr",
     "output_type": "stream",
     "text": [
      "12:16:27 - cmdstanpy - INFO - Chain [1] start processing\n",
      "12:16:27 - cmdstanpy - INFO - Chain [1] done processing\n"
     ]
    },
    {
     "name": "stdout",
     "output_type": "stream",
     "text": [
      "prophet_add_season30_5_holy MAPE: 43.27% with transforms AutoSeasonalDifferences(max_diffs=380, n_seasons=10, season_length=267) | LocalMinMaxScaler(stats_=[[  5.11211699 325.92896936]])\n",
      "61/64 Training prophet_add_season30_5_holy with transforms: tuple()...\n",
      "prophet_add_season30_5_holy MAPE: 114.34% with transforms AutoSeasonalDifferences(max_diffs=380, n_seasons=10, season_length=267) | LocalBoxCox(lower=0.0, method=loglik, season_length=None, stats_=[[4.10226185e-005 3.96240648e-321]], upper=2.0)\n",
      "62/64 Training prophet_add_season30_5_holy with transforms: tuple()...\n"
     ]
    },
    {
     "name": "stderr",
     "output_type": "stream",
     "text": [
      "12:16:32 - cmdstanpy - INFO - Chain [1] start processing\n",
      "12:16:33 - cmdstanpy - INFO - Chain [1] done processing\n"
     ]
    },
    {
     "name": "stdout",
     "output_type": "stream",
     "text": [
      "prophet_add_season30_5_holy MAPE: 356.34% with transforms AutoSeasonalityAndDifferences(max_diffs=380, max_season_length=267, n_seasons=10) | LocalStandardScaler(stats_=[[47.42372721 38.3630083 ]])\n",
      "63/64 Training prophet_add_season30_5_holy with transforms: tuple()...\n"
     ]
    },
    {
     "name": "stderr",
     "output_type": "stream",
     "text": [
      "12:16:38 - cmdstanpy - INFO - Chain [1] start processing\n",
      "12:16:38 - cmdstanpy - INFO - Chain [1] done processing\n"
     ]
    },
    {
     "name": "stdout",
     "output_type": "stream",
     "text": [
      "prophet_add_season30_5_holy MAPE: 43.27% with transforms AutoSeasonalityAndDifferences(max_diffs=380, max_season_length=267, n_seasons=10) | LocalMinMaxScaler(stats_=[[  5.11211699 325.92896936]])\n",
      "64/64 Training prophet_add_season30_5_holy with transforms: tuple()...\n"
     ]
    },
    {
     "name": "stderr",
     "output_type": "stream",
     "text": [
      "12:16:43 - cmdstanpy - INFO - Chain [1] start processing\n",
      "12:16:43 - cmdstanpy - INFO - Chain [1] done processing\n",
      "12:16:43 - cmdstanpy - INFO - Chain [1] start processing\n",
      "12:16:43 - cmdstanpy - INFO - Chain [1] done processing\n"
     ]
    },
    {
     "name": "stdout",
     "output_type": "stream",
     "text": [
      "prophet_add_season30_5_holy MAPE: 114.34% with transforms AutoSeasonalityAndDifferences(max_diffs=380, max_season_length=267, n_seasons=10) | LocalBoxCox(lower=0.0, method=loglik, season_length=None, stats_=[[4.10226185e-05 0.00000000e+00]], upper=2.0)\n",
      "Results saved to results/run_4/2_26M_train.csv\n",
      "Total model fits to run: 64\n",
      "1/64 Training prophet with transforms: tuple()...\n"
     ]
    },
    {
     "name": "stderr",
     "output_type": "stream",
     "text": [
      "12:16:44 - cmdstanpy - INFO - Chain [1] start processing\n",
      "12:16:44 - cmdstanpy - INFO - Chain [1] done processing\n"
     ]
    },
    {
     "name": "stdout",
     "output_type": "stream",
     "text": [
      "prophet MAPE: 36.96% with transforms \n",
      "2/64 Training prophet with transforms: tuple()...\n"
     ]
    },
    {
     "name": "stderr",
     "output_type": "stream",
     "text": [
      "12:16:44 - cmdstanpy - INFO - Chain [1] start processing\n",
      "12:16:44 - cmdstanpy - INFO - Chain [1] done processing\n"
     ]
    },
    {
     "name": "stdout",
     "output_type": "stream",
     "text": [
      "prophet MAPE: 283.95% with transforms AutoDifferences(max_diffs=370)\n",
      "3/64 Training prophet with transforms: tuple()...\n",
      "prophet MAPE: 36.96% with transforms AutoSeasonalDifferences(max_diffs=370, n_seasons=10, season_length=247)\n",
      "4/64 Training prophet with transforms: tuple()...\n"
     ]
    },
    {
     "name": "stderr",
     "output_type": "stream",
     "text": [
      "12:16:49 - cmdstanpy - INFO - Chain [1] start processing\n",
      "12:16:49 - cmdstanpy - INFO - Chain [1] done processing\n",
      "12:16:49 - cmdstanpy - INFO - Chain [1] start processing\n"
     ]
    },
    {
     "name": "stdout",
     "output_type": "stream",
     "text": [
      "prophet MAPE: 36.96% with transforms AutoSeasonalityAndDifferences(max_diffs=370, max_season_length=247, n_seasons=10)\n",
      "5/64 Training prophet with transforms: tuple()...\n"
     ]
    },
    {
     "name": "stderr",
     "output_type": "stream",
     "text": [
      "12:16:49 - cmdstanpy - INFO - Chain [1] done processing\n",
      "12:16:50 - cmdstanpy - INFO - Chain [1] start processing\n",
      "12:16:50 - cmdstanpy - INFO - Chain [1] done processing\n"
     ]
    },
    {
     "name": "stdout",
     "output_type": "stream",
     "text": [
      "prophet MAPE: 616.31% with transforms LocalStandardScaler(stats_=[[48.56416613 39.6199012 ]])\n",
      "6/64 Training prophet with transforms: tuple()...\n"
     ]
    },
    {
     "name": "stderr",
     "output_type": "stream",
     "text": [
      "12:16:50 - cmdstanpy - INFO - Chain [1] start processing\n",
      "12:16:50 - cmdstanpy - INFO - Chain [1] done processing\n"
     ]
    },
    {
     "name": "stdout",
     "output_type": "stream",
     "text": [
      "prophet MAPE: 36.49% with transforms LocalMinMaxScaler(stats_=[[  5.11211699 325.92896936]])\n",
      "7/64 Training prophet with transforms: tuple()...\n"
     ]
    },
    {
     "name": "stderr",
     "output_type": "stream",
     "text": [
      "12:16:50 - cmdstanpy - INFO - Chain [1] start processing\n",
      "12:16:50 - cmdstanpy - INFO - Chain [1] done processing\n"
     ]
    },
    {
     "name": "stdout",
     "output_type": "stream",
     "text": [
      "prophet MAPE: 35.85% with transforms LocalBoxCox(lower=0.0, method=loglik, season_length=None, stats_=[[4.10226185e-005 3.66102644e-321]], upper=2.0)\n",
      "8/64 Training prophet with transforms: tuple()...\n"
     ]
    },
    {
     "name": "stderr",
     "output_type": "stream",
     "text": [
      "12:16:51 - cmdstanpy - INFO - Chain [1] start processing\n",
      "12:16:51 - cmdstanpy - INFO - Chain [1] done processing\n"
     ]
    },
    {
     "name": "stdout",
     "output_type": "stream",
     "text": [
      "prophet MAPE: 335.99% with transforms AutoDifferences(max_diffs=370) | LocalStandardScaler(stats_=[[9.33143296e-04 2.28259190e+01]])\n",
      "9/64 Training prophet with transforms: tuple()...\n"
     ]
    },
    {
     "name": "stderr",
     "output_type": "stream",
     "text": [
      "12:16:51 - cmdstanpy - INFO - Chain [1] start processing\n"
     ]
    },
    {
     "name": "stdout",
     "output_type": "stream",
     "text": [
      "prophet MAPE: 261.58% with transforms AutoDifferences(max_diffs=370) | LocalMinMaxScaler(stats_=[[-214.51499032  437.2315826 ]])\n",
      "10/64 Training prophet with transforms: tuple()...\n",
      "Skipping combination 10 due to error: All values in data must be positive for method='loglik'\n",
      "11/64 Training prophet with transforms: tuple()...\n"
     ]
    },
    {
     "name": "stderr",
     "output_type": "stream",
     "text": [
      "12:16:51 - cmdstanpy - INFO - Chain [1] done processing\n",
      "12:16:52 - cmdstanpy - INFO - Chain [1] start processing\n",
      "12:16:52 - cmdstanpy - INFO - Chain [1] done processing\n"
     ]
    },
    {
     "name": "stdout",
     "output_type": "stream",
     "text": [
      "prophet MAPE: 616.31% with transforms AutoSeasonalDifferences(max_diffs=370, n_seasons=10, season_length=247) | LocalStandardScaler(stats_=[[48.56416613 39.6199012 ]])\n",
      "12/64 Training prophet with transforms: tuple()...\n"
     ]
    },
    {
     "name": "stderr",
     "output_type": "stream",
     "text": [
      "12:16:52 - cmdstanpy - INFO - Chain [1] start processing\n",
      "12:16:52 - cmdstanpy - INFO - Chain [1] done processing\n"
     ]
    },
    {
     "name": "stdout",
     "output_type": "stream",
     "text": [
      "prophet MAPE: 36.49% with transforms AutoSeasonalDifferences(max_diffs=370, n_seasons=10, season_length=247) | LocalMinMaxScaler(stats_=[[  5.11211699 325.92896936]])\n",
      "13/64 Training prophet with transforms: tuple()...\n",
      "prophet MAPE: 35.85% with transforms AutoSeasonalDifferences(max_diffs=370, n_seasons=10, season_length=247) | LocalBoxCox(lower=0.0, method=loglik, season_length=None, stats_=[[4.10226185e-005 3.66102644e-321]], upper=2.0)\n",
      "14/64 Training prophet with transforms: tuple()...\n"
     ]
    },
    {
     "name": "stderr",
     "output_type": "stream",
     "text": [
      "12:16:57 - cmdstanpy - INFO - Chain [1] start processing\n",
      "12:16:57 - cmdstanpy - INFO - Chain [1] done processing\n"
     ]
    },
    {
     "name": "stdout",
     "output_type": "stream",
     "text": [
      "prophet MAPE: 616.31% with transforms AutoSeasonalityAndDifferences(max_diffs=370, max_season_length=247, n_seasons=10) | LocalStandardScaler(stats_=[[48.56416613 39.6199012 ]])\n",
      "15/64 Training prophet with transforms: tuple()...\n"
     ]
    },
    {
     "name": "stderr",
     "output_type": "stream",
     "text": [
      "12:17:02 - cmdstanpy - INFO - Chain [1] start processing\n",
      "12:17:02 - cmdstanpy - INFO - Chain [1] done processing\n"
     ]
    },
    {
     "name": "stdout",
     "output_type": "stream",
     "text": [
      "prophet MAPE: 36.49% with transforms AutoSeasonalityAndDifferences(max_diffs=370, max_season_length=247, n_seasons=10) | LocalMinMaxScaler(stats_=[[  5.11211699 325.92896936]])\n",
      "16/64 Training prophet with transforms: tuple()...\n"
     ]
    },
    {
     "name": "stderr",
     "output_type": "stream",
     "text": [
      "12:17:06 - cmdstanpy - INFO - Chain [1] start processing\n",
      "12:17:06 - cmdstanpy - INFO - Chain [1] done processing\n",
      "12:17:07 - cmdstanpy - INFO - Chain [1] start processing\n",
      "12:17:07 - cmdstanpy - INFO - Chain [1] done processing\n"
     ]
    },
    {
     "name": "stdout",
     "output_type": "stream",
     "text": [
      "prophet MAPE: 35.85% with transforms AutoSeasonalityAndDifferences(max_diffs=370, max_season_length=247, n_seasons=10) | LocalBoxCox(lower=0.0, method=loglik, season_length=None, stats_=[[4.10226185e-05 0.00000000e+00]], upper=2.0)\n",
      "17/64 Training prophet_add_season30_5 with transforms: tuple()...\n"
     ]
    },
    {
     "name": "stderr",
     "output_type": "stream",
     "text": [
      "12:17:07 - cmdstanpy - INFO - Chain [1] start processing\n",
      "12:17:07 - cmdstanpy - INFO - Chain [1] done processing\n"
     ]
    },
    {
     "name": "stdout",
     "output_type": "stream",
     "text": [
      "prophet_add_season30_5 MAPE: 40.23% with transforms \n",
      "18/64 Training prophet_add_season30_5 with transforms: tuple()...\n"
     ]
    },
    {
     "name": "stderr",
     "output_type": "stream",
     "text": [
      "12:17:07 - cmdstanpy - INFO - Chain [1] start processing\n",
      "12:17:08 - cmdstanpy - INFO - Chain [1] done processing\n"
     ]
    },
    {
     "name": "stdout",
     "output_type": "stream",
     "text": [
      "prophet_add_season30_5 MAPE: 155.79% with transforms AutoDifferences(max_diffs=370)\n",
      "19/64 Training prophet_add_season30_5 with transforms: tuple()...\n",
      "prophet_add_season30_5 MAPE: 40.23% with transforms AutoSeasonalDifferences(max_diffs=370, n_seasons=10, season_length=247)\n",
      "20/64 Training prophet_add_season30_5 with transforms: tuple()...\n"
     ]
    },
    {
     "name": "stderr",
     "output_type": "stream",
     "text": [
      "12:17:12 - cmdstanpy - INFO - Chain [1] start processing\n",
      "12:17:12 - cmdstanpy - INFO - Chain [1] done processing\n",
      "12:17:13 - cmdstanpy - INFO - Chain [1] start processing\n"
     ]
    },
    {
     "name": "stdout",
     "output_type": "stream",
     "text": [
      "prophet_add_season30_5 MAPE: 40.23% with transforms AutoSeasonalityAndDifferences(max_diffs=370, max_season_length=247, n_seasons=10)\n",
      "21/64 Training prophet_add_season30_5 with transforms: tuple()...\n"
     ]
    },
    {
     "name": "stderr",
     "output_type": "stream",
     "text": [
      "12:17:13 - cmdstanpy - INFO - Chain [1] done processing\n",
      "12:17:13 - cmdstanpy - INFO - Chain [1] start processing\n",
      "12:17:13 - cmdstanpy - INFO - Chain [1] done processing\n"
     ]
    },
    {
     "name": "stdout",
     "output_type": "stream",
     "text": [
      "prophet_add_season30_5 MAPE: 651.61% with transforms LocalStandardScaler(stats_=[[48.56416613 39.6199012 ]])\n",
      "22/64 Training prophet_add_season30_5 with transforms: tuple()...\n"
     ]
    },
    {
     "name": "stderr",
     "output_type": "stream",
     "text": [
      "12:17:13 - cmdstanpy - INFO - Chain [1] start processing\n",
      "12:17:13 - cmdstanpy - INFO - Chain [1] done processing\n"
     ]
    },
    {
     "name": "stdout",
     "output_type": "stream",
     "text": [
      "prophet_add_season30_5 MAPE: 39.84% with transforms LocalMinMaxScaler(stats_=[[  5.11211699 325.92896936]])\n",
      "23/64 Training prophet_add_season30_5 with transforms: tuple()...\n"
     ]
    },
    {
     "name": "stderr",
     "output_type": "stream",
     "text": [
      "12:17:14 - cmdstanpy - INFO - Chain [1] start processing\n",
      "12:17:14 - cmdstanpy - INFO - Chain [1] done processing\n"
     ]
    },
    {
     "name": "stdout",
     "output_type": "stream",
     "text": [
      "prophet_add_season30_5 MAPE: 36.76% with transforms LocalBoxCox(lower=0.0, method=loglik, season_length=None, stats_=[[4.10226185e-005 3.66102644e-321]], upper=2.0)\n",
      "24/64 Training prophet_add_season30_5 with transforms: tuple()...\n"
     ]
    },
    {
     "name": "stderr",
     "output_type": "stream",
     "text": [
      "12:17:14 - cmdstanpy - INFO - Chain [1] start processing\n",
      "12:17:14 - cmdstanpy - INFO - Chain [1] done processing\n"
     ]
    },
    {
     "name": "stdout",
     "output_type": "stream",
     "text": [
      "prophet_add_season30_5 MAPE: 242.07% with transforms AutoDifferences(max_diffs=370) | LocalStandardScaler(stats_=[[9.33143296e-04 2.28259190e+01]])\n",
      "25/64 Training prophet_add_season30_5 with transforms: tuple()...\n"
     ]
    },
    {
     "name": "stderr",
     "output_type": "stream",
     "text": [
      "12:17:14 - cmdstanpy - INFO - Chain [1] start processing\n",
      "12:17:14 - cmdstanpy - INFO - Chain [1] done processing\n"
     ]
    },
    {
     "name": "stdout",
     "output_type": "stream",
     "text": [
      "prophet_add_season30_5 MAPE: 384.83% with transforms AutoDifferences(max_diffs=370) | LocalMinMaxScaler(stats_=[[-214.51499032  437.2315826 ]])\n",
      "26/64 Training prophet_add_season30_5 with transforms: tuple()...\n",
      "Skipping combination 26 due to error: All values in data must be positive for method='loglik'\n",
      "27/64 Training prophet_add_season30_5 with transforms: tuple()...\n"
     ]
    },
    {
     "name": "stderr",
     "output_type": "stream",
     "text": [
      "12:17:15 - cmdstanpy - INFO - Chain [1] start processing\n",
      "12:17:15 - cmdstanpy - INFO - Chain [1] done processing\n"
     ]
    },
    {
     "name": "stdout",
     "output_type": "stream",
     "text": [
      "prophet_add_season30_5 MAPE: 651.61% with transforms AutoSeasonalDifferences(max_diffs=370, n_seasons=10, season_length=247) | LocalStandardScaler(stats_=[[48.56416613 39.6199012 ]])\n",
      "28/64 Training prophet_add_season30_5 with transforms: tuple()...\n"
     ]
    },
    {
     "name": "stderr",
     "output_type": "stream",
     "text": [
      "12:17:15 - cmdstanpy - INFO - Chain [1] start processing\n",
      "12:17:15 - cmdstanpy - INFO - Chain [1] done processing\n"
     ]
    },
    {
     "name": "stdout",
     "output_type": "stream",
     "text": [
      "prophet_add_season30_5 MAPE: 39.84% with transforms AutoSeasonalDifferences(max_diffs=370, n_seasons=10, season_length=247) | LocalMinMaxScaler(stats_=[[  5.11211699 325.92896936]])\n",
      "29/64 Training prophet_add_season30_5 with transforms: tuple()...\n",
      "prophet_add_season30_5 MAPE: 36.76% with transforms AutoSeasonalDifferences(max_diffs=370, n_seasons=10, season_length=247) | LocalBoxCox(lower=0.0, method=loglik, season_length=None, stats_=[[4.10226185e-005 3.66102644e-321]], upper=2.0)\n",
      "30/64 Training prophet_add_season30_5 with transforms: tuple()...\n"
     ]
    },
    {
     "name": "stderr",
     "output_type": "stream",
     "text": [
      "12:17:20 - cmdstanpy - INFO - Chain [1] start processing\n",
      "12:17:20 - cmdstanpy - INFO - Chain [1] done processing\n"
     ]
    },
    {
     "name": "stdout",
     "output_type": "stream",
     "text": [
      "prophet_add_season30_5 MAPE: 651.61% with transforms AutoSeasonalityAndDifferences(max_diffs=370, max_season_length=247, n_seasons=10) | LocalStandardScaler(stats_=[[48.56416613 39.6199012 ]])\n",
      "31/64 Training prophet_add_season30_5 with transforms: tuple()...\n"
     ]
    },
    {
     "name": "stderr",
     "output_type": "stream",
     "text": [
      "12:17:25 - cmdstanpy - INFO - Chain [1] start processing\n",
      "12:17:25 - cmdstanpy - INFO - Chain [1] done processing\n"
     ]
    },
    {
     "name": "stdout",
     "output_type": "stream",
     "text": [
      "prophet_add_season30_5 MAPE: 39.84% with transforms AutoSeasonalityAndDifferences(max_diffs=370, max_season_length=247, n_seasons=10) | LocalMinMaxScaler(stats_=[[  5.11211699 325.92896936]])\n",
      "32/64 Training prophet_add_season30_5 with transforms: tuple()...\n"
     ]
    },
    {
     "name": "stderr",
     "output_type": "stream",
     "text": [
      "12:17:30 - cmdstanpy - INFO - Chain [1] start processing\n",
      "12:17:30 - cmdstanpy - INFO - Chain [1] done processing\n",
      "12:17:30 - cmdstanpy - INFO - Chain [1] start processing\n",
      "12:17:30 - cmdstanpy - INFO - Chain [1] done processing\n"
     ]
    },
    {
     "name": "stdout",
     "output_type": "stream",
     "text": [
      "prophet_add_season30_5 MAPE: 36.76% with transforms AutoSeasonalityAndDifferences(max_diffs=370, max_season_length=247, n_seasons=10) | LocalBoxCox(lower=0.0, method=loglik, season_length=None, stats_=[[4.10226185e-05 0.00000000e+00]], upper=2.0)\n",
      "33/64 Training prophet_holy with transforms: tuple()...\n"
     ]
    },
    {
     "name": "stderr",
     "output_type": "stream",
     "text": [
      "12:17:30 - cmdstanpy - INFO - Chain [1] start processing\n",
      "12:17:30 - cmdstanpy - INFO - Chain [1] done processing\n"
     ]
    },
    {
     "name": "stdout",
     "output_type": "stream",
     "text": [
      "prophet_holy MAPE: 37.07% with transforms \n",
      "34/64 Training prophet_holy with transforms: tuple()...\n"
     ]
    },
    {
     "name": "stderr",
     "output_type": "stream",
     "text": [
      "12:17:31 - cmdstanpy - INFO - Chain [1] start processing\n",
      "12:17:31 - cmdstanpy - INFO - Chain [1] done processing\n"
     ]
    },
    {
     "name": "stdout",
     "output_type": "stream",
     "text": [
      "prophet_holy MAPE: 295.71% with transforms AutoDifferences(max_diffs=370)\n",
      "35/64 Training prophet_holy with transforms: tuple()...\n",
      "prophet_holy MAPE: 37.07% with transforms AutoSeasonalDifferences(max_diffs=370, n_seasons=10, season_length=247)\n",
      "36/64 Training prophet_holy with transforms: tuple()...\n"
     ]
    },
    {
     "name": "stderr",
     "output_type": "stream",
     "text": [
      "12:17:36 - cmdstanpy - INFO - Chain [1] start processing\n",
      "12:17:36 - cmdstanpy - INFO - Chain [1] done processing\n",
      "12:17:36 - cmdstanpy - INFO - Chain [1] start processing\n",
      "12:17:36 - cmdstanpy - INFO - Chain [1] done processing\n"
     ]
    },
    {
     "name": "stdout",
     "output_type": "stream",
     "text": [
      "prophet_holy MAPE: 37.07% with transforms AutoSeasonalityAndDifferences(max_diffs=370, max_season_length=247, n_seasons=10)\n",
      "37/64 Training prophet_holy with transforms: tuple()...\n"
     ]
    },
    {
     "name": "stderr",
     "output_type": "stream",
     "text": [
      "12:17:36 - cmdstanpy - INFO - Chain [1] start processing\n",
      "12:17:36 - cmdstanpy - INFO - Chain [1] done processing\n"
     ]
    },
    {
     "name": "stdout",
     "output_type": "stream",
     "text": [
      "prophet_holy MAPE: 596.54% with transforms LocalStandardScaler(stats_=[[48.56416613 39.6199012 ]])\n",
      "38/64 Training prophet_holy with transforms: tuple()...\n"
     ]
    },
    {
     "name": "stderr",
     "output_type": "stream",
     "text": [
      "12:17:37 - cmdstanpy - INFO - Chain [1] start processing\n",
      "12:17:37 - cmdstanpy - INFO - Chain [1] done processing\n"
     ]
    },
    {
     "name": "stdout",
     "output_type": "stream",
     "text": [
      "prophet_holy MAPE: 36.31% with transforms LocalMinMaxScaler(stats_=[[  5.11211699 325.92896936]])\n",
      "39/64 Training prophet_holy with transforms: tuple()...\n"
     ]
    },
    {
     "name": "stderr",
     "output_type": "stream",
     "text": [
      "12:17:37 - cmdstanpy - INFO - Chain [1] start processing\n",
      "12:17:37 - cmdstanpy - INFO - Chain [1] done processing\n"
     ]
    },
    {
     "name": "stdout",
     "output_type": "stream",
     "text": [
      "prophet_holy MAPE: 36.08% with transforms LocalBoxCox(lower=0.0, method=loglik, season_length=None, stats_=[[4.10226185e-005 3.66102644e-321]], upper=2.0)\n",
      "40/64 Training prophet_holy with transforms: tuple()...\n"
     ]
    },
    {
     "name": "stderr",
     "output_type": "stream",
     "text": [
      "12:17:37 - cmdstanpy - INFO - Chain [1] start processing\n",
      "12:17:37 - cmdstanpy - INFO - Chain [1] done processing\n"
     ]
    },
    {
     "name": "stdout",
     "output_type": "stream",
     "text": [
      "prophet_holy MAPE: 331.45% with transforms AutoDifferences(max_diffs=370) | LocalStandardScaler(stats_=[[9.33143296e-04 2.28259190e+01]])\n",
      "41/64 Training prophet_holy with transforms: tuple()...\n"
     ]
    },
    {
     "name": "stderr",
     "output_type": "stream",
     "text": [
      "12:17:38 - cmdstanpy - INFO - Chain [1] start processing\n",
      "12:17:38 - cmdstanpy - INFO - Chain [1] done processing\n"
     ]
    },
    {
     "name": "stdout",
     "output_type": "stream",
     "text": [
      "prophet_holy MAPE: 174.36% with transforms AutoDifferences(max_diffs=370) | LocalMinMaxScaler(stats_=[[-214.51499032  437.2315826 ]])\n",
      "42/64 Training prophet_holy with transforms: tuple()...\n",
      "Skipping combination 42 due to error: All values in data must be positive for method='loglik'\n",
      "43/64 Training prophet_holy with transforms: tuple()...\n"
     ]
    },
    {
     "name": "stderr",
     "output_type": "stream",
     "text": [
      "12:17:38 - cmdstanpy - INFO - Chain [1] start processing\n",
      "12:17:38 - cmdstanpy - INFO - Chain [1] done processing\n"
     ]
    },
    {
     "name": "stdout",
     "output_type": "stream",
     "text": [
      "prophet_holy MAPE: 596.54% with transforms AutoSeasonalDifferences(max_diffs=370, n_seasons=10, season_length=247) | LocalStandardScaler(stats_=[[48.56416613 39.6199012 ]])\n",
      "44/64 Training prophet_holy with transforms: tuple()...\n"
     ]
    },
    {
     "name": "stderr",
     "output_type": "stream",
     "text": [
      "12:17:39 - cmdstanpy - INFO - Chain [1] start processing\n",
      "12:17:39 - cmdstanpy - INFO - Chain [1] done processing\n"
     ]
    },
    {
     "name": "stdout",
     "output_type": "stream",
     "text": [
      "prophet_holy MAPE: 36.31% with transforms AutoSeasonalDifferences(max_diffs=370, n_seasons=10, season_length=247) | LocalMinMaxScaler(stats_=[[  5.11211699 325.92896936]])\n",
      "45/64 Training prophet_holy with transforms: tuple()...\n",
      "prophet_holy MAPE: 36.08% with transforms AutoSeasonalDifferences(max_diffs=370, n_seasons=10, season_length=247) | LocalBoxCox(lower=0.0, method=loglik, season_length=None, stats_=[[4.10226185e-005 3.66102644e-321]], upper=2.0)\n",
      "46/64 Training prophet_holy with transforms: tuple()...\n"
     ]
    },
    {
     "name": "stderr",
     "output_type": "stream",
     "text": [
      "12:17:44 - cmdstanpy - INFO - Chain [1] start processing\n",
      "12:17:44 - cmdstanpy - INFO - Chain [1] done processing\n"
     ]
    },
    {
     "name": "stdout",
     "output_type": "stream",
     "text": [
      "prophet_holy MAPE: 596.54% with transforms AutoSeasonalityAndDifferences(max_diffs=370, max_season_length=247, n_seasons=10) | LocalStandardScaler(stats_=[[48.56416613 39.6199012 ]])\n",
      "47/64 Training prophet_holy with transforms: tuple()...\n"
     ]
    },
    {
     "name": "stderr",
     "output_type": "stream",
     "text": [
      "12:17:48 - cmdstanpy - INFO - Chain [1] start processing\n",
      "12:17:48 - cmdstanpy - INFO - Chain [1] done processing\n"
     ]
    },
    {
     "name": "stdout",
     "output_type": "stream",
     "text": [
      "prophet_holy MAPE: 36.31% with transforms AutoSeasonalityAndDifferences(max_diffs=370, max_season_length=247, n_seasons=10) | LocalMinMaxScaler(stats_=[[  5.11211699 325.92896936]])\n",
      "48/64 Training prophet_holy with transforms: tuple()...\n"
     ]
    },
    {
     "name": "stderr",
     "output_type": "stream",
     "text": [
      "12:17:53 - cmdstanpy - INFO - Chain [1] start processing\n",
      "12:17:53 - cmdstanpy - INFO - Chain [1] done processing\n",
      "12:17:53 - cmdstanpy - INFO - Chain [1] start processing\n",
      "12:17:53 - cmdstanpy - INFO - Chain [1] done processing\n"
     ]
    },
    {
     "name": "stdout",
     "output_type": "stream",
     "text": [
      "prophet_holy MAPE: 36.08% with transforms AutoSeasonalityAndDifferences(max_diffs=370, max_season_length=247, n_seasons=10) | LocalBoxCox(lower=0.0, method=loglik, season_length=None, stats_=[[4.10226185e-05 0.00000000e+00]], upper=2.0)\n",
      "49/64 Training prophet_add_season30_5_holy with transforms: tuple()...\n"
     ]
    },
    {
     "name": "stderr",
     "output_type": "stream",
     "text": [
      "12:17:54 - cmdstanpy - INFO - Chain [1] start processing\n",
      "12:17:54 - cmdstanpy - INFO - Chain [1] done processing\n"
     ]
    },
    {
     "name": "stdout",
     "output_type": "stream",
     "text": [
      "prophet_add_season30_5_holy MAPE: 40.41% with transforms \n",
      "50/64 Training prophet_add_season30_5_holy with transforms: tuple()...\n"
     ]
    },
    {
     "name": "stderr",
     "output_type": "stream",
     "text": [
      "12:17:54 - cmdstanpy - INFO - Chain [1] start processing\n",
      "12:17:54 - cmdstanpy - INFO - Chain [1] done processing\n"
     ]
    },
    {
     "name": "stdout",
     "output_type": "stream",
     "text": [
      "prophet_add_season30_5_holy MAPE: 232.51% with transforms AutoDifferences(max_diffs=370)\n",
      "51/64 Training prophet_add_season30_5_holy with transforms: tuple()...\n",
      "prophet_add_season30_5_holy MAPE: 40.41% with transforms AutoSeasonalDifferences(max_diffs=370, n_seasons=10, season_length=247)\n",
      "52/64 Training prophet_add_season30_5_holy with transforms: tuple()...\n"
     ]
    },
    {
     "name": "stderr",
     "output_type": "stream",
     "text": [
      "12:17:59 - cmdstanpy - INFO - Chain [1] start processing\n",
      "12:17:59 - cmdstanpy - INFO - Chain [1] done processing\n",
      "12:17:59 - cmdstanpy - INFO - Chain [1] start processing\n"
     ]
    },
    {
     "name": "stdout",
     "output_type": "stream",
     "text": [
      "prophet_add_season30_5_holy MAPE: 40.41% with transforms AutoSeasonalityAndDifferences(max_diffs=370, max_season_length=247, n_seasons=10)\n",
      "53/64 Training prophet_add_season30_5_holy with transforms: tuple()...\n"
     ]
    },
    {
     "name": "stderr",
     "output_type": "stream",
     "text": [
      "12:17:59 - cmdstanpy - INFO - Chain [1] done processing\n",
      "12:18:00 - cmdstanpy - INFO - Chain [1] start processing\n",
      "12:18:00 - cmdstanpy - INFO - Chain [1] done processing\n"
     ]
    },
    {
     "name": "stdout",
     "output_type": "stream",
     "text": [
      "prophet_add_season30_5_holy MAPE: 650.46% with transforms LocalStandardScaler(stats_=[[48.56416613 39.6199012 ]])\n",
      "54/64 Training prophet_add_season30_5_holy with transforms: tuple()...\n"
     ]
    },
    {
     "name": "stderr",
     "output_type": "stream",
     "text": [
      "12:18:00 - cmdstanpy - INFO - Chain [1] start processing\n",
      "12:18:00 - cmdstanpy - INFO - Chain [1] done processing\n"
     ]
    },
    {
     "name": "stdout",
     "output_type": "stream",
     "text": [
      "prophet_add_season30_5_holy MAPE: 39.57% with transforms LocalMinMaxScaler(stats_=[[  5.11211699 325.92896936]])\n",
      "55/64 Training prophet_add_season30_5_holy with transforms: tuple()...\n"
     ]
    },
    {
     "name": "stderr",
     "output_type": "stream",
     "text": [
      "12:18:00 - cmdstanpy - INFO - Chain [1] start processing\n",
      "12:18:00 - cmdstanpy - INFO - Chain [1] done processing\n"
     ]
    },
    {
     "name": "stdout",
     "output_type": "stream",
     "text": [
      "prophet_add_season30_5_holy MAPE: 37.04% with transforms LocalBoxCox(lower=0.0, method=loglik, season_length=None, stats_=[[4.10226185e-005 3.66102644e-321]], upper=2.0)\n",
      "56/64 Training prophet_add_season30_5_holy with transforms: tuple()...\n"
     ]
    },
    {
     "name": "stderr",
     "output_type": "stream",
     "text": [
      "12:18:01 - cmdstanpy - INFO - Chain [1] start processing\n",
      "12:18:01 - cmdstanpy - INFO - Chain [1] done processing\n"
     ]
    },
    {
     "name": "stdout",
     "output_type": "stream",
     "text": [
      "prophet_add_season30_5_holy MAPE: 251.95% with transforms AutoDifferences(max_diffs=370) | LocalStandardScaler(stats_=[[9.33143296e-04 2.28259190e+01]])\n",
      "57/64 Training prophet_add_season30_5_holy with transforms: tuple()...\n"
     ]
    },
    {
     "name": "stderr",
     "output_type": "stream",
     "text": [
      "12:18:01 - cmdstanpy - INFO - Chain [1] start processing\n"
     ]
    },
    {
     "name": "stdout",
     "output_type": "stream",
     "text": [
      "prophet_add_season30_5_holy MAPE: 348.11% with transforms AutoDifferences(max_diffs=370) | LocalMinMaxScaler(stats_=[[-214.51499032  437.2315826 ]])\n",
      "58/64 Training prophet_add_season30_5_holy with transforms: tuple()...\n",
      "Skipping combination 58 due to error: All values in data must be positive for method='loglik'\n",
      "59/64 Training prophet_add_season30_5_holy with transforms: tuple()...\n"
     ]
    },
    {
     "name": "stderr",
     "output_type": "stream",
     "text": [
      "12:18:01 - cmdstanpy - INFO - Chain [1] done processing\n",
      "12:18:02 - cmdstanpy - INFO - Chain [1] start processing\n",
      "12:18:02 - cmdstanpy - INFO - Chain [1] done processing\n"
     ]
    },
    {
     "name": "stdout",
     "output_type": "stream",
     "text": [
      "prophet_add_season30_5_holy MAPE: 650.46% with transforms AutoSeasonalDifferences(max_diffs=370, n_seasons=10, season_length=247) | LocalStandardScaler(stats_=[[48.56416613 39.6199012 ]])\n",
      "60/64 Training prophet_add_season30_5_holy with transforms: tuple()...\n"
     ]
    },
    {
     "name": "stderr",
     "output_type": "stream",
     "text": [
      "12:18:02 - cmdstanpy - INFO - Chain [1] start processing\n"
     ]
    },
    {
     "name": "stdout",
     "output_type": "stream",
     "text": [
      "prophet_add_season30_5_holy MAPE: 39.57% with transforms AutoSeasonalDifferences(max_diffs=370, n_seasons=10, season_length=247) | LocalMinMaxScaler(stats_=[[  5.11211699 325.92896936]])\n",
      "61/64 Training prophet_add_season30_5_holy with transforms: tuple()...\n"
     ]
    },
    {
     "name": "stderr",
     "output_type": "stream",
     "text": [
      "12:18:02 - cmdstanpy - INFO - Chain [1] done processing\n"
     ]
    },
    {
     "name": "stdout",
     "output_type": "stream",
     "text": [
      "prophet_add_season30_5_holy MAPE: 37.04% with transforms AutoSeasonalDifferences(max_diffs=370, n_seasons=10, season_length=247) | LocalBoxCox(lower=0.0, method=loglik, season_length=None, stats_=[[4.10226185e-005 3.66102644e-321]], upper=2.0)\n",
      "62/64 Training prophet_add_season30_5_holy with transforms: tuple()...\n"
     ]
    },
    {
     "name": "stderr",
     "output_type": "stream",
     "text": [
      "12:18:07 - cmdstanpy - INFO - Chain [1] start processing\n",
      "12:18:07 - cmdstanpy - INFO - Chain [1] done processing\n"
     ]
    },
    {
     "name": "stdout",
     "output_type": "stream",
     "text": [
      "prophet_add_season30_5_holy MAPE: 650.46% with transforms AutoSeasonalityAndDifferences(max_diffs=370, max_season_length=247, n_seasons=10) | LocalStandardScaler(stats_=[[48.56416613 39.6199012 ]])\n",
      "63/64 Training prophet_add_season30_5_holy with transforms: tuple()...\n"
     ]
    },
    {
     "name": "stderr",
     "output_type": "stream",
     "text": [
      "12:18:12 - cmdstanpy - INFO - Chain [1] start processing\n",
      "12:18:12 - cmdstanpy - INFO - Chain [1] done processing\n"
     ]
    },
    {
     "name": "stdout",
     "output_type": "stream",
     "text": [
      "prophet_add_season30_5_holy MAPE: 39.57% with transforms AutoSeasonalityAndDifferences(max_diffs=370, max_season_length=247, n_seasons=10) | LocalMinMaxScaler(stats_=[[  5.11211699 325.92896936]])\n",
      "64/64 Training prophet_add_season30_5_holy with transforms: tuple()...\n"
     ]
    },
    {
     "name": "stderr",
     "output_type": "stream",
     "text": [
      "12:18:17 - cmdstanpy - INFO - Chain [1] start processing\n",
      "12:18:17 - cmdstanpy - INFO - Chain [1] done processing\n",
      "12:18:17 - cmdstanpy - INFO - Chain [1] start processing\n",
      "12:18:17 - cmdstanpy - INFO - Chain [1] done processing\n"
     ]
    },
    {
     "name": "stdout",
     "output_type": "stream",
     "text": [
      "prophet_add_season30_5_holy MAPE: 37.04% with transforms AutoSeasonalityAndDifferences(max_diffs=370, max_season_length=247, n_seasons=10) | LocalBoxCox(lower=0.0, method=loglik, season_length=None, stats_=[[4.10226185e-05 0.00000000e+00]], upper=2.0)\n",
      "Results saved to results/run_4/2_24M_train.csv\n",
      "Total model fits to run: 64\n",
      "1/64 Training prophet with transforms: tuple()...\n"
     ]
    },
    {
     "name": "stderr",
     "output_type": "stream",
     "text": [
      "12:18:17 - cmdstanpy - INFO - Chain [1] start processing\n",
      "12:18:17 - cmdstanpy - INFO - Chain [1] done processing\n"
     ]
    },
    {
     "name": "stdout",
     "output_type": "stream",
     "text": [
      "prophet MAPE: 42.14% with transforms \n",
      "2/64 Training prophet with transforms: tuple()...\n"
     ]
    },
    {
     "name": "stderr",
     "output_type": "stream",
     "text": [
      "12:18:18 - cmdstanpy - INFO - Chain [1] start processing\n",
      "12:18:18 - cmdstanpy - INFO - Chain [1] done processing\n"
     ]
    },
    {
     "name": "stdout",
     "output_type": "stream",
     "text": [
      "prophet MAPE: 51.48% with transforms AutoDifferences(max_diffs=279)\n",
      "3/64 Training prophet with transforms: tuple()...\n",
      "prophet MAPE: 42.14% with transforms AutoSeasonalDifferences(max_diffs=279, n_seasons=10, season_length=186)\n",
      "4/64 Training prophet with transforms: tuple()...\n"
     ]
    },
    {
     "name": "stderr",
     "output_type": "stream",
     "text": [
      "12:18:27 - cmdstanpy - INFO - Chain [1] start processing\n",
      "12:18:27 - cmdstanpy - INFO - Chain [1] done processing\n",
      "12:18:27 - cmdstanpy - INFO - Chain [1] start processing\n",
      "12:18:27 - cmdstanpy - INFO - Chain [1] done processing\n"
     ]
    },
    {
     "name": "stdout",
     "output_type": "stream",
     "text": [
      "prophet MAPE: 42.14% with transforms AutoSeasonalityAndDifferences(max_diffs=279, max_season_length=186, n_seasons=10)\n",
      "5/64 Training prophet with transforms: tuple()...\n"
     ]
    },
    {
     "name": "stderr",
     "output_type": "stream",
     "text": [
      "12:18:28 - cmdstanpy - INFO - Chain [1] start processing\n",
      "12:18:28 - cmdstanpy - INFO - Chain [1] done processing\n"
     ]
    },
    {
     "name": "stdout",
     "output_type": "stream",
     "text": [
      "prophet MAPE: 394.22% with transforms LocalStandardScaler(stats_=[[38.77238083 33.27355631]])\n",
      "6/64 Training prophet with transforms: tuple()...\n"
     ]
    },
    {
     "name": "stderr",
     "output_type": "stream",
     "text": [
      "12:18:28 - cmdstanpy - INFO - Chain [1] start processing\n",
      "12:18:28 - cmdstanpy - INFO - Chain [1] done processing\n"
     ]
    },
    {
     "name": "stdout",
     "output_type": "stream",
     "text": [
      "prophet MAPE: 41.03% with transforms LocalMinMaxScaler(stats_=[[  5.11211699 183.47202765]])\n",
      "7/64 Training prophet with transforms: tuple()...\n"
     ]
    },
    {
     "name": "stderr",
     "output_type": "stream",
     "text": [
      "12:18:28 - cmdstanpy - INFO - Chain [1] start processing\n",
      "12:18:28 - cmdstanpy - INFO - Chain [1] done processing\n"
     ]
    },
    {
     "name": "stdout",
     "output_type": "stream",
     "text": [
      "prophet MAPE: 74.73% with transforms LocalBoxCox(lower=0.0, method=loglik, season_length=None, stats_=[[4.10226185e-005 2.76182696e-321]], upper=2.0)\n",
      "8/64 Training prophet with transforms: tuple()...\n"
     ]
    },
    {
     "name": "stderr",
     "output_type": "stream",
     "text": [
      "12:18:28 - cmdstanpy - INFO - Chain [1] start processing\n",
      "12:18:28 - cmdstanpy - INFO - Chain [1] done processing\n"
     ]
    },
    {
     "name": "stdout",
     "output_type": "stream",
     "text": [
      "prophet MAPE: 166.89% with transforms AutoDifferences(max_diffs=279) | LocalStandardScaler(stats_=[[-0.0220828  17.06190255]])\n",
      "9/64 Training prophet with transforms: tuple()...\n"
     ]
    },
    {
     "name": "stderr",
     "output_type": "stream",
     "text": [
      "12:18:29 - cmdstanpy - INFO - Chain [1] start processing\n",
      "12:18:29 - cmdstanpy - INFO - Chain [1] done processing\n"
     ]
    },
    {
     "name": "stdout",
     "output_type": "stream",
     "text": [
      "prophet MAPE: 307.17% with transforms AutoDifferences(max_diffs=279) | LocalMinMaxScaler(stats_=[[-102.35088178  183.20311617]])\n",
      "10/64 Training prophet with transforms: tuple()...\n",
      "Skipping combination 10 due to error: All values in data must be positive for method='loglik'\n",
      "11/64 Training prophet with transforms: tuple()...\n"
     ]
    },
    {
     "name": "stderr",
     "output_type": "stream",
     "text": [
      "12:18:29 - cmdstanpy - INFO - Chain [1] start processing\n",
      "12:18:29 - cmdstanpy - INFO - Chain [1] done processing\n"
     ]
    },
    {
     "name": "stdout",
     "output_type": "stream",
     "text": [
      "prophet MAPE: 394.22% with transforms AutoSeasonalDifferences(max_diffs=279, n_seasons=10, season_length=186) | LocalStandardScaler(stats_=[[38.77238083 33.27355631]])\n",
      "12/64 Training prophet with transforms: tuple()...\n"
     ]
    },
    {
     "name": "stderr",
     "output_type": "stream",
     "text": [
      "12:18:30 - cmdstanpy - INFO - Chain [1] start processing\n",
      "12:18:30 - cmdstanpy - INFO - Chain [1] done processing\n"
     ]
    },
    {
     "name": "stdout",
     "output_type": "stream",
     "text": [
      "prophet MAPE: 41.03% with transforms AutoSeasonalDifferences(max_diffs=279, n_seasons=10, season_length=186) | LocalMinMaxScaler(stats_=[[  5.11211699 183.47202765]])\n",
      "13/64 Training prophet with transforms: tuple()...\n",
      "prophet MAPE: 74.73% with transforms AutoSeasonalDifferences(max_diffs=279, n_seasons=10, season_length=186) | LocalBoxCox(lower=0.0, method=loglik, season_length=None, stats_=[[4.10226185e-005 2.76182696e-321]], upper=2.0)\n",
      "14/64 Training prophet with transforms: tuple()...\n"
     ]
    },
    {
     "name": "stderr",
     "output_type": "stream",
     "text": [
      "12:18:39 - cmdstanpy - INFO - Chain [1] start processing\n",
      "12:18:39 - cmdstanpy - INFO - Chain [1] done processing\n"
     ]
    },
    {
     "name": "stdout",
     "output_type": "stream",
     "text": [
      "prophet MAPE: 394.22% with transforms AutoSeasonalityAndDifferences(max_diffs=279, max_season_length=186, n_seasons=10) | LocalStandardScaler(stats_=[[38.77238083 33.27355631]])\n",
      "15/64 Training prophet with transforms: tuple()...\n"
     ]
    },
    {
     "name": "stderr",
     "output_type": "stream",
     "text": [
      "12:18:49 - cmdstanpy - INFO - Chain [1] start processing\n",
      "12:18:49 - cmdstanpy - INFO - Chain [1] done processing\n"
     ]
    },
    {
     "name": "stdout",
     "output_type": "stream",
     "text": [
      "prophet MAPE: 41.03% with transforms AutoSeasonalityAndDifferences(max_diffs=279, max_season_length=186, n_seasons=10) | LocalMinMaxScaler(stats_=[[  5.11211699 183.47202765]])\n",
      "16/64 Training prophet with transforms: tuple()...\n"
     ]
    },
    {
     "name": "stderr",
     "output_type": "stream",
     "text": [
      "12:18:58 - cmdstanpy - INFO - Chain [1] start processing\n",
      "12:18:58 - cmdstanpy - INFO - Chain [1] done processing\n",
      "12:18:58 - cmdstanpy - INFO - Chain [1] start processing\n",
      "12:18:58 - cmdstanpy - INFO - Chain [1] done processing\n"
     ]
    },
    {
     "name": "stdout",
     "output_type": "stream",
     "text": [
      "prophet MAPE: 74.73% with transforms AutoSeasonalityAndDifferences(max_diffs=279, max_season_length=186, n_seasons=10) | LocalBoxCox(lower=0.0, method=loglik, season_length=None, stats_=[[4.10226185e-05 0.00000000e+00]], upper=2.0)\n",
      "17/64 Training prophet_add_season30_5 with transforms: tuple()...\n"
     ]
    },
    {
     "name": "stderr",
     "output_type": "stream",
     "text": [
      "12:18:59 - cmdstanpy - INFO - Chain [1] start processing\n",
      "12:18:59 - cmdstanpy - INFO - Chain [1] done processing\n"
     ]
    },
    {
     "name": "stdout",
     "output_type": "stream",
     "text": [
      "prophet_add_season30_5 MAPE: 43.71% with transforms \n",
      "18/64 Training prophet_add_season30_5 with transforms: tuple()...\n"
     ]
    },
    {
     "name": "stderr",
     "output_type": "stream",
     "text": [
      "12:18:59 - cmdstanpy - INFO - Chain [1] start processing\n",
      "12:18:59 - cmdstanpy - INFO - Chain [1] done processing\n"
     ]
    },
    {
     "name": "stdout",
     "output_type": "stream",
     "text": [
      "prophet_add_season30_5 MAPE: 240.40% with transforms AutoDifferences(max_diffs=279)\n",
      "19/64 Training prophet_add_season30_5 with transforms: tuple()...\n",
      "prophet_add_season30_5 MAPE: 43.71% with transforms AutoSeasonalDifferences(max_diffs=279, n_seasons=10, season_length=186)\n",
      "20/64 Training prophet_add_season30_5 with transforms: tuple()...\n"
     ]
    },
    {
     "name": "stderr",
     "output_type": "stream",
     "text": [
      "12:19:08 - cmdstanpy - INFO - Chain [1] start processing\n",
      "12:19:08 - cmdstanpy - INFO - Chain [1] done processing\n",
      "12:19:09 - cmdstanpy - INFO - Chain [1] start processing\n",
      "12:19:09 - cmdstanpy - INFO - Chain [1] done processing\n"
     ]
    },
    {
     "name": "stdout",
     "output_type": "stream",
     "text": [
      "prophet_add_season30_5 MAPE: 43.71% with transforms AutoSeasonalityAndDifferences(max_diffs=279, max_season_length=186, n_seasons=10)\n",
      "21/64 Training prophet_add_season30_5 with transforms: tuple()...\n"
     ]
    },
    {
     "name": "stderr",
     "output_type": "stream",
     "text": [
      "12:19:09 - cmdstanpy - INFO - Chain [1] start processing\n",
      "12:19:09 - cmdstanpy - INFO - Chain [1] done processing\n"
     ]
    },
    {
     "name": "stdout",
     "output_type": "stream",
     "text": [
      "prophet_add_season30_5 MAPE: 374.46% with transforms LocalStandardScaler(stats_=[[38.77238083 33.27355631]])\n",
      "22/64 Training prophet_add_season30_5 with transforms: tuple()...\n"
     ]
    },
    {
     "name": "stderr",
     "output_type": "stream",
     "text": [
      "12:19:09 - cmdstanpy - INFO - Chain [1] start processing\n",
      "12:19:09 - cmdstanpy - INFO - Chain [1] done processing\n"
     ]
    },
    {
     "name": "stdout",
     "output_type": "stream",
     "text": [
      "prophet_add_season30_5 MAPE: 44.19% with transforms LocalMinMaxScaler(stats_=[[  5.11211699 183.47202765]])\n",
      "23/64 Training prophet_add_season30_5 with transforms: tuple()...\n"
     ]
    },
    {
     "name": "stderr",
     "output_type": "stream",
     "text": [
      "12:19:10 - cmdstanpy - INFO - Chain [1] start processing\n",
      "12:19:10 - cmdstanpy - INFO - Chain [1] done processing\n"
     ]
    },
    {
     "name": "stdout",
     "output_type": "stream",
     "text": [
      "prophet_add_season30_5 MAPE: 79.17% with transforms LocalBoxCox(lower=0.0, method=loglik, season_length=None, stats_=[[4.10226185e-005 2.76182696e-321]], upper=2.0)\n",
      "24/64 Training prophet_add_season30_5 with transforms: tuple()...\n"
     ]
    },
    {
     "name": "stderr",
     "output_type": "stream",
     "text": [
      "12:19:10 - cmdstanpy - INFO - Chain [1] start processing\n",
      "12:19:10 - cmdstanpy - INFO - Chain [1] done processing\n"
     ]
    },
    {
     "name": "stdout",
     "output_type": "stream",
     "text": [
      "prophet_add_season30_5 MAPE: 314.42% with transforms AutoDifferences(max_diffs=279) | LocalStandardScaler(stats_=[[-0.0220828  17.06190255]])\n",
      "25/64 Training prophet_add_season30_5 with transforms: tuple()...\n"
     ]
    },
    {
     "name": "stderr",
     "output_type": "stream",
     "text": [
      "12:19:10 - cmdstanpy - INFO - Chain [1] start processing\n",
      "12:19:10 - cmdstanpy - INFO - Chain [1] done processing\n"
     ]
    },
    {
     "name": "stdout",
     "output_type": "stream",
     "text": [
      "prophet_add_season30_5 MAPE: 422.45% with transforms AutoDifferences(max_diffs=279) | LocalMinMaxScaler(stats_=[[-102.35088178  183.20311617]])\n",
      "26/64 Training prophet_add_season30_5 with transforms: tuple()...\n",
      "Skipping combination 26 due to error: All values in data must be positive for method='loglik'\n",
      "27/64 Training prophet_add_season30_5 with transforms: tuple()...\n"
     ]
    },
    {
     "name": "stderr",
     "output_type": "stream",
     "text": [
      "12:19:11 - cmdstanpy - INFO - Chain [1] start processing\n",
      "12:19:11 - cmdstanpy - INFO - Chain [1] done processing\n"
     ]
    },
    {
     "name": "stdout",
     "output_type": "stream",
     "text": [
      "prophet_add_season30_5 MAPE: 374.46% with transforms AutoSeasonalDifferences(max_diffs=279, n_seasons=10, season_length=186) | LocalStandardScaler(stats_=[[38.77238083 33.27355631]])\n",
      "28/64 Training prophet_add_season30_5 with transforms: tuple()...\n"
     ]
    },
    {
     "name": "stderr",
     "output_type": "stream",
     "text": [
      "12:19:11 - cmdstanpy - INFO - Chain [1] start processing\n",
      "12:19:11 - cmdstanpy - INFO - Chain [1] done processing\n"
     ]
    },
    {
     "name": "stdout",
     "output_type": "stream",
     "text": [
      "prophet_add_season30_5 MAPE: 44.19% with transforms AutoSeasonalDifferences(max_diffs=279, n_seasons=10, season_length=186) | LocalMinMaxScaler(stats_=[[  5.11211699 183.47202765]])\n",
      "29/64 Training prophet_add_season30_5 with transforms: tuple()...\n",
      "prophet_add_season30_5 MAPE: 79.17% with transforms AutoSeasonalDifferences(max_diffs=279, n_seasons=10, season_length=186) | LocalBoxCox(lower=0.0, method=loglik, season_length=None, stats_=[[4.10226185e-005 2.76182696e-321]], upper=2.0)\n",
      "30/64 Training prophet_add_season30_5 with transforms: tuple()...\n"
     ]
    },
    {
     "name": "stderr",
     "output_type": "stream",
     "text": [
      "12:19:21 - cmdstanpy - INFO - Chain [1] start processing\n",
      "12:19:21 - cmdstanpy - INFO - Chain [1] done processing\n"
     ]
    },
    {
     "name": "stdout",
     "output_type": "stream",
     "text": [
      "prophet_add_season30_5 MAPE: 374.46% with transforms AutoSeasonalityAndDifferences(max_diffs=279, max_season_length=186, n_seasons=10) | LocalStandardScaler(stats_=[[38.77238083 33.27355631]])\n",
      "31/64 Training prophet_add_season30_5 with transforms: tuple()...\n"
     ]
    },
    {
     "name": "stderr",
     "output_type": "stream",
     "text": [
      "12:19:30 - cmdstanpy - INFO - Chain [1] start processing\n",
      "12:19:30 - cmdstanpy - INFO - Chain [1] done processing\n"
     ]
    },
    {
     "name": "stdout",
     "output_type": "stream",
     "text": [
      "prophet_add_season30_5 MAPE: 44.19% with transforms AutoSeasonalityAndDifferences(max_diffs=279, max_season_length=186, n_seasons=10) | LocalMinMaxScaler(stats_=[[  5.11211699 183.47202765]])\n",
      "32/64 Training prophet_add_season30_5 with transforms: tuple()...\n"
     ]
    },
    {
     "name": "stderr",
     "output_type": "stream",
     "text": [
      "12:19:39 - cmdstanpy - INFO - Chain [1] start processing\n",
      "12:19:39 - cmdstanpy - INFO - Chain [1] done processing\n",
      "12:19:40 - cmdstanpy - INFO - Chain [1] start processing\n",
      "12:19:40 - cmdstanpy - INFO - Chain [1] done processing\n"
     ]
    },
    {
     "name": "stdout",
     "output_type": "stream",
     "text": [
      "prophet_add_season30_5 MAPE: 79.17% with transforms AutoSeasonalityAndDifferences(max_diffs=279, max_season_length=186, n_seasons=10) | LocalBoxCox(lower=0.0, method=loglik, season_length=None, stats_=[[4.10226185e-05 0.00000000e+00]], upper=2.0)\n",
      "33/64 Training prophet_holy with transforms: tuple()...\n"
     ]
    },
    {
     "name": "stderr",
     "output_type": "stream",
     "text": [
      "12:19:40 - cmdstanpy - INFO - Chain [1] start processing\n",
      "12:19:40 - cmdstanpy - INFO - Chain [1] done processing\n"
     ]
    },
    {
     "name": "stdout",
     "output_type": "stream",
     "text": [
      "prophet_holy MAPE: 41.87% with transforms \n",
      "34/64 Training prophet_holy with transforms: tuple()...\n"
     ]
    },
    {
     "name": "stderr",
     "output_type": "stream",
     "text": [
      "12:19:40 - cmdstanpy - INFO - Chain [1] start processing\n",
      "12:19:40 - cmdstanpy - INFO - Chain [1] done processing\n"
     ]
    },
    {
     "name": "stdout",
     "output_type": "stream",
     "text": [
      "prophet_holy MAPE: 228.36% with transforms AutoDifferences(max_diffs=279)\n",
      "35/64 Training prophet_holy with transforms: tuple()...\n",
      "prophet_holy MAPE: 41.87% with transforms AutoSeasonalDifferences(max_diffs=279, n_seasons=10, season_length=186)\n",
      "36/64 Training prophet_holy with transforms: tuple()...\n"
     ]
    },
    {
     "name": "stderr",
     "output_type": "stream",
     "text": [
      "12:19:50 - cmdstanpy - INFO - Chain [1] start processing\n",
      "12:19:50 - cmdstanpy - INFO - Chain [1] done processing\n",
      "12:19:50 - cmdstanpy - INFO - Chain [1] start processing\n",
      "12:19:50 - cmdstanpy - INFO - Chain [1] done processing\n"
     ]
    },
    {
     "name": "stdout",
     "output_type": "stream",
     "text": [
      "prophet_holy MAPE: 41.87% with transforms AutoSeasonalityAndDifferences(max_diffs=279, max_season_length=186, n_seasons=10)\n",
      "37/64 Training prophet_holy with transforms: tuple()...\n"
     ]
    },
    {
     "name": "stderr",
     "output_type": "stream",
     "text": [
      "12:19:50 - cmdstanpy - INFO - Chain [1] start processing\n",
      "12:19:50 - cmdstanpy - INFO - Chain [1] done processing\n"
     ]
    },
    {
     "name": "stdout",
     "output_type": "stream",
     "text": [
      "prophet_holy MAPE: 394.98% with transforms LocalStandardScaler(stats_=[[38.77238083 33.27355631]])\n",
      "38/64 Training prophet_holy with transforms: tuple()...\n"
     ]
    },
    {
     "name": "stderr",
     "output_type": "stream",
     "text": [
      "12:19:51 - cmdstanpy - INFO - Chain [1] start processing\n",
      "12:19:51 - cmdstanpy - INFO - Chain [1] done processing\n"
     ]
    },
    {
     "name": "stdout",
     "output_type": "stream",
     "text": [
      "prophet_holy MAPE: 39.54% with transforms LocalMinMaxScaler(stats_=[[  5.11211699 183.47202765]])\n",
      "39/64 Training prophet_holy with transforms: tuple()...\n"
     ]
    },
    {
     "name": "stderr",
     "output_type": "stream",
     "text": [
      "12:19:51 - cmdstanpy - INFO - Chain [1] start processing\n",
      "12:19:51 - cmdstanpy - INFO - Chain [1] done processing\n"
     ]
    },
    {
     "name": "stdout",
     "output_type": "stream",
     "text": [
      "prophet_holy MAPE: 73.86% with transforms LocalBoxCox(lower=0.0, method=loglik, season_length=None, stats_=[[4.10226185e-005 2.76182696e-321]], upper=2.0)\n",
      "40/64 Training prophet_holy with transforms: tuple()...\n"
     ]
    },
    {
     "name": "stderr",
     "output_type": "stream",
     "text": [
      "12:19:51 - cmdstanpy - INFO - Chain [1] start processing\n",
      "12:19:51 - cmdstanpy - INFO - Chain [1] done processing\n"
     ]
    },
    {
     "name": "stdout",
     "output_type": "stream",
     "text": [
      "prophet_holy MAPE: 53.93% with transforms AutoDifferences(max_diffs=279) | LocalStandardScaler(stats_=[[-0.0220828  17.06190255]])\n",
      "41/64 Training prophet_holy with transforms: tuple()...\n"
     ]
    },
    {
     "name": "stderr",
     "output_type": "stream",
     "text": [
      "12:19:52 - cmdstanpy - INFO - Chain [1] start processing\n",
      "12:19:52 - cmdstanpy - INFO - Chain [1] done processing\n"
     ]
    },
    {
     "name": "stdout",
     "output_type": "stream",
     "text": [
      "prophet_holy MAPE: 458.23% with transforms AutoDifferences(max_diffs=279) | LocalMinMaxScaler(stats_=[[-102.35088178  183.20311617]])\n",
      "42/64 Training prophet_holy with transforms: tuple()...\n",
      "Skipping combination 42 due to error: All values in data must be positive for method='loglik'\n",
      "43/64 Training prophet_holy with transforms: tuple()...\n"
     ]
    },
    {
     "name": "stderr",
     "output_type": "stream",
     "text": [
      "12:19:52 - cmdstanpy - INFO - Chain [1] start processing\n",
      "12:19:52 - cmdstanpy - INFO - Chain [1] done processing\n"
     ]
    },
    {
     "name": "stdout",
     "output_type": "stream",
     "text": [
      "prophet_holy MAPE: 394.98% with transforms AutoSeasonalDifferences(max_diffs=279, n_seasons=10, season_length=186) | LocalStandardScaler(stats_=[[38.77238083 33.27355631]])\n",
      "44/64 Training prophet_holy with transforms: tuple()...\n"
     ]
    },
    {
     "name": "stderr",
     "output_type": "stream",
     "text": [
      "12:19:52 - cmdstanpy - INFO - Chain [1] start processing\n",
      "12:19:53 - cmdstanpy - INFO - Chain [1] done processing\n"
     ]
    },
    {
     "name": "stdout",
     "output_type": "stream",
     "text": [
      "prophet_holy MAPE: 39.54% with transforms AutoSeasonalDifferences(max_diffs=279, n_seasons=10, season_length=186) | LocalMinMaxScaler(stats_=[[  5.11211699 183.47202765]])\n",
      "45/64 Training prophet_holy with transforms: tuple()...\n",
      "prophet_holy MAPE: 73.86% with transforms AutoSeasonalDifferences(max_diffs=279, n_seasons=10, season_length=186) | LocalBoxCox(lower=0.0, method=loglik, season_length=None, stats_=[[4.10226185e-005 2.76182696e-321]], upper=2.0)\n",
      "46/64 Training prophet_holy with transforms: tuple()...\n"
     ]
    },
    {
     "ename": "KeyboardInterrupt",
     "evalue": "",
     "output_type": "error",
     "traceback": [
      "\u001b[1;31m---------------------------------------------------------------------------\u001b[0m",
      "\u001b[1;31mKeyboardInterrupt\u001b[0m                         Traceback (most recent call last)",
      "Cell \u001b[1;32mIn[74], line 13\u001b[0m\n\u001b[0;32m     10\u001b[0m train_df, test_df \u001b[38;5;241m=\u001b[39m split_data(formatted_df, scenario)\n\u001b[0;32m     12\u001b[0m target_transforms \u001b[38;5;241m=\u001b[39m get_dynamic_transforms(train_df)\n\u001b[1;32m---> 13\u001b[0m results \u001b[38;5;241m=\u001b[39m evaluate_models_prophet(train_df, test_df, target_transforms)\n\u001b[0;32m     15\u001b[0m save_results(results, \u001b[38;5;124mf\u001b[39m\u001b[38;5;124m\"\u001b[39m\u001b[38;5;124mresults/run_4/\u001b[39m\u001b[38;5;132;01m{\u001b[39;00msensor_name\u001b[38;5;132;01m}\u001b[39;00m\u001b[38;5;124m_\u001b[39m\u001b[38;5;132;01m{\u001b[39;00mscenario_name\u001b[38;5;132;01m}\u001b[39;00m\u001b[38;5;124m.csv\u001b[39m\u001b[38;5;124m\"\u001b[39m)\n",
      "Cell \u001b[1;32mIn[73], line 53\u001b[0m, in \u001b[0;36mevaluate_models_prophet\u001b[1;34m(train_df, test_df, target_transforms)\u001b[0m\n\u001b[0;32m     50\u001b[0m train_ga \u001b[38;5;241m=\u001b[39m dataframe_to_grouped_array(train_df, \u001b[38;5;124m'\u001b[39m\u001b[38;5;124munique_id\u001b[39m\u001b[38;5;124m'\u001b[39m, \u001b[38;5;124m'\u001b[39m\u001b[38;5;124my\u001b[39m\u001b[38;5;124m'\u001b[39m)\n\u001b[0;32m     52\u001b[0m \u001b[38;5;66;03m# Apply transformations\u001b[39;00m\n\u001b[1;32m---> 53\u001b[0m transformed_train_ga \u001b[38;5;241m=\u001b[39m apply_transformations(train_ga, transform_combination)\n\u001b[0;32m     55\u001b[0m \u001b[38;5;66;03m# Prepare transformed training DataFrame\u001b[39;00m\n\u001b[0;32m     56\u001b[0m transformed_train_df \u001b[38;5;241m=\u001b[39m train_df\u001b[38;5;241m.\u001b[39mcopy()\n",
      "Cell \u001b[1;32mIn[67], line 28\u001b[0m, in \u001b[0;36mapply_transformations\u001b[1;34m(ga, transformations)\u001b[0m\n\u001b[0;32m     24\u001b[0m \u001b[38;5;250m\u001b[39m\u001b[38;5;124;03m\"\"\"\u001b[39;00m\n\u001b[0;32m     25\u001b[0m \u001b[38;5;124;03mApplies a series of transformations to a GroupedArray.\u001b[39;00m\n\u001b[0;32m     26\u001b[0m \u001b[38;5;124;03m\"\"\"\u001b[39;00m\n\u001b[0;32m     27\u001b[0m \u001b[38;5;28;01mfor\u001b[39;00m transform \u001b[38;5;129;01min\u001b[39;00m transformations:\n\u001b[1;32m---> 28\u001b[0m     ga \u001b[38;5;241m=\u001b[39m transform\u001b[38;5;241m.\u001b[39mfit_transform(ga)\n\u001b[0;32m     29\u001b[0m \u001b[38;5;28;01mreturn\u001b[39;00m ga\n",
      "File \u001b[1;32mc:\\Users\\PC314\\anaconda3\\Lib\\site-packages\\mlforecast\\target_transforms.py:191\u001b[0m, in \u001b[0;36mAutoDifferences.fit_transform\u001b[1;34m(self, ga)\u001b[0m\n\u001b[0;32m    189\u001b[0m \u001b[38;5;28;01mdef\u001b[39;00m \u001b[38;5;21mfit_transform\u001b[39m(\u001b[38;5;28mself\u001b[39m, ga: GroupedArray) \u001b[38;5;241m-\u001b[39m\u001b[38;5;241m>\u001b[39m GroupedArray:\n\u001b[0;32m    190\u001b[0m     core_ga \u001b[38;5;241m=\u001b[39m CoreGroupedArray(ga\u001b[38;5;241m.\u001b[39mdata, ga\u001b[38;5;241m.\u001b[39mindptr, \u001b[38;5;28mself\u001b[39m\u001b[38;5;241m.\u001b[39mnum_threads)\n\u001b[1;32m--> 191\u001b[0m     \u001b[38;5;28;01mreturn\u001b[39;00m GroupedArray(\u001b[38;5;28mself\u001b[39m\u001b[38;5;241m.\u001b[39mscaler_\u001b[38;5;241m.\u001b[39mfit_transform(core_ga), ga\u001b[38;5;241m.\u001b[39mindptr)\n",
      "File \u001b[1;32mc:\\Users\\PC314\\anaconda3\\Lib\\site-packages\\coreforecast\\scalers.py:562\u001b[0m, in \u001b[0;36mAutoSeasonalityAndDifferences.fit_transform\u001b[1;34m(self, ga)\u001b[0m\n\u001b[0;32m    560\u001b[0m periods \u001b[38;5;241m=\u001b[39m tails_ga\u001b[38;5;241m.\u001b[39m_periods(\u001b[38;5;28mself\u001b[39m\u001b[38;5;241m.\u001b[39mmax_season_length)\n\u001b[0;32m    561\u001b[0m diffs \u001b[38;5;241m=\u001b[39m periods \u001b[38;5;241m*\u001b[39m tails_ga\u001b[38;5;241m.\u001b[39m_num_seas_diffs_periods(\u001b[38;5;241m1\u001b[39m, periods)\n\u001b[1;32m--> 562\u001b[0m diffs \u001b[38;5;241m=\u001b[39m diffs\u001b[38;5;241m.\u001b[39mastype(_indptr_dtype)\n\u001b[0;32m    563\u001b[0m \u001b[38;5;28mself\u001b[39m\u001b[38;5;241m.\u001b[39mdiffs_\u001b[38;5;241m.\u001b[39mappend(diffs)\n\u001b[0;32m    564\u001b[0m tails_indptr \u001b[38;5;241m=\u001b[39m _diffs_to_indptr(diffs)\n",
      "\u001b[1;31mKeyboardInterrupt\u001b[0m: "
     ]
    }
   ],
   "source": [
    "# Loop through scenarios and evaluate models\n",
    "results = []\n",
    "\n",
    "for sensor_name, scenarios in scenarios_sensors.items():\n",
    "    formatted_df = format_df_to_mlforecast(selected_sensors_df[['full_date', sensor_name]], 'full_date', sensor_name, unique_id=sensor_name)\n",
    "    formatted_df = formatted_df[['ds', 'y', 'unique_id']]\n",
    "\n",
    "    for scenario_name, scenario in scenarios.items():\n",
    "\n",
    "        train_df, test_df = split_data(formatted_df, scenario)\n",
    "\n",
    "        target_transforms = get_dynamic_transforms(train_df)\n",
    "        results = evaluate_models_prophet(train_df, test_df, target_transforms)\n",
    "\n",
    "        save_results(results, f\"results/run_4/{sensor_name}_{scenario_name}.csv\") "
   ]
  },
  {
   "cell_type": "markdown",
   "metadata": {},
   "source": [
    "## waqi data"
   ]
  },
  {
   "cell_type": "code",
   "execution_count": 8,
   "metadata": {},
   "outputs": [],
   "source": [
    "file_path = r\"C:\\Users\\77019\\Downloads\\waqi-covid19-airqualitydata-2025.csv\"\n",
    "\n",
    "# Read CSV while skipping comment lines\n",
    "data = pd.read_csv(file_path, comment='#')\n",
    "data = data.loc[data['City'] == \"Almaty\"]"
   ]
  },
  {
   "cell_type": "code",
   "execution_count": 10,
   "metadata": {},
   "outputs": [
    {
     "data": {
      "text/plain": [
       "array(['dew', 'co', 'humidity', 'so2', 'pressure', 'wind-speed',\n",
       "       'wind-gust', 'temperature', 'pm10', 'pm25', 'no2'], dtype=object)"
      ]
     },
     "execution_count": 10,
     "metadata": {},
     "output_type": "execute_result"
    }
   ],
   "source": [
    "data['Specie'].unique()"
   ]
  },
  {
   "cell_type": "code",
   "execution_count": 13,
   "metadata": {},
   "outputs": [
    {
     "data": {
      "text/plain": [
       "('2024-01-01', '2025-03-05')"
      ]
     },
     "execution_count": 13,
     "metadata": {},
     "output_type": "execute_result"
    }
   ],
   "source": [
    "data['Date'].min(), data['Date'].max()"
   ]
  },
  {
   "cell_type": "code",
   "execution_count": 14,
   "metadata": {},
   "outputs": [
    {
     "name": "stdout",
     "output_type": "stream",
     "text": [
      "Downloading 2015H1...\n",
      "✅ waqi-airquality-2015H1.csv downloaded successfully!\n",
      "Downloading 2016H1...\n",
      "✅ waqi-airquality-2016H1.csv downloaded successfully!\n",
      "Downloading 2017H1...\n",
      "✅ waqi-airquality-2017H1.csv downloaded successfully!\n",
      "Downloading 2018H1...\n",
      "✅ waqi-airquality-2018H1.csv downloaded successfully!\n",
      "Downloading 2019Q1...\n",
      "✅ waqi-airquality-2019Q1.csv downloaded successfully!\n",
      "Downloading 2019Q2...\n",
      "✅ waqi-airquality-2019Q2.csv downloaded successfully!\n",
      "Downloading 2019Q3...\n",
      "✅ waqi-airquality-2019Q3.csv downloaded successfully!\n",
      "Downloading 2019Q4...\n",
      "✅ waqi-airquality-2019Q4.csv downloaded successfully!\n",
      "Downloading 2020Q1...\n",
      "✅ waqi-airquality-2020Q1.csv downloaded successfully!\n",
      "Downloading 2020Q2...\n",
      "✅ waqi-airquality-2020Q2.csv downloaded successfully!\n",
      "Downloading 2020Q3...\n",
      "✅ waqi-airquality-2020Q3.csv downloaded successfully!\n",
      "Downloading 2020Q4...\n",
      "✅ waqi-airquality-2020Q4.csv downloaded successfully!\n",
      "Downloading 2021Q1...\n",
      "✅ waqi-airquality-2021Q1.csv downloaded successfully!\n",
      "Downloading 2021Q2...\n",
      "✅ waqi-airquality-2021Q2.csv downloaded successfully!\n",
      "Downloading 2021Q3...\n",
      "✅ waqi-airquality-2021Q3.csv downloaded successfully!\n",
      "Downloading 2021Q4...\n",
      "✅ waqi-airquality-2021Q4.csv downloaded successfully!\n",
      "Downloading 2022Q1...\n",
      "✅ waqi-airquality-2022Q1.csv downloaded successfully!\n",
      "Downloading 2022Q2...\n",
      "✅ waqi-airquality-2022Q2.csv downloaded successfully!\n",
      "Downloading 2022Q3...\n",
      "✅ waqi-airquality-2022Q3.csv downloaded successfully!\n",
      "Downloading 2022Q4...\n",
      "✅ waqi-airquality-2022Q4.csv downloaded successfully!\n",
      "Downloading 2023Q1...\n",
      "✅ waqi-airquality-2023Q1.csv downloaded successfully!\n",
      "Downloading 2023Q2...\n",
      "✅ waqi-airquality-2023Q2.csv downloaded successfully!\n",
      "Downloading 2023Q3...\n",
      "✅ waqi-airquality-2023Q3.csv downloaded successfully!\n",
      "Downloading 2023Q4...\n",
      "✅ waqi-airquality-2023Q4.csv downloaded successfully!\n",
      "🎉 All available datasets have been processed.\n"
     ]
    }
   ],
   "source": [
    "import requests\n",
    "import time\n",
    "\n",
    "# List of available periods\n",
    "periods = [\n",
    "    \"2015H1\", \"2016H1\", \"2017H1\", \"2018H1\",\n",
    "    \"2019Q1\", \"2019Q2\", \"2019Q3\", \"2019Q4\",\n",
    "    \"2020Q1\", \"2020Q2\", \"2020Q3\", \"2020Q4\",\n",
    "    \"2021Q1\", \"2021Q2\", \"2021Q3\", \"2021Q4\",\n",
    "    \"2022Q1\", \"2022Q2\", \"2022Q3\", \"2022Q4\",\n",
    "    \"2023Q1\", \"2023Q2\", \"2023Q3\", \"2023Q4\"\n",
    "]\n",
    "\n",
    "# Base URL\n",
    "base_url = \"https://aqicn.org/data-platform/covid19/report/45268-77d0de2d\"\n",
    "\n",
    "# Loop through each period and download the file\n",
    "for period in periods:\n",
    "    url = f\"{base_url}/{period}\"\n",
    "    file_name = f\"waqi-airquality-{period}.csv\"\n",
    "\n",
    "    print(f\"Downloading {period}...\")\n",
    "\n",
    "    response = requests.get(url)\n",
    "\n",
    "    if response.status_code == 200:\n",
    "        with open(file_name, \"wb\") as file:\n",
    "            file.write(response.content)\n",
    "        print(f\"✅ {file_name} downloaded successfully!\")\n",
    "    else:\n",
    "        print(f\"❌ Failed to download {period}. Status code: {response.status_code}\")\n",
    "\n",
    "    # Add a small delay to prevent overwhelming the server\n",
    "    time.sleep(2)\n",
    "\n",
    "print(\"🎉 All available datasets have been processed.\")\n"
   ]
  },
  {
   "cell_type": "code",
   "execution_count": null,
   "metadata": {},
   "outputs": [],
   "source": []
  }
 ],
 "metadata": {
  "kernelspec": {
   "display_name": "base",
   "language": "python",
   "name": "python3"
  },
  "language_info": {
   "codemirror_mode": {
    "name": "ipython",
    "version": 3
   },
   "file_extension": ".py",
   "mimetype": "text/x-python",
   "name": "python",
   "nbconvert_exporter": "python",
   "pygments_lexer": "ipython3",
   "version": "3.12.3"
  }
 },
 "nbformat": 4,
 "nbformat_minor": 2
}
