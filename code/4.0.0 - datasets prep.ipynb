{
 "cells": [
  {
   "cell_type": "code",
   "execution_count": 14,
   "metadata": {},
   "outputs": [],
   "source": [
    "import pandas as pd\n",
    "\n",
    "import matplotlib.pyplot as plt\n",
    "import plotly.express as px\n",
    "import plotly.graph_objects as go"
   ]
  },
  {
   "cell_type": "code",
   "execution_count": 15,
   "metadata": {},
   "outputs": [],
   "source": [
    "from numba import njit\n",
    "from window_ops.expanding import expanding_mean\n",
    "from window_ops.rolling import rolling_mean\n",
    "\n",
    "@njit\n",
    "def rolling_mean_14(x):\n",
    "    return rolling_mean(x, window_size=14)\n",
    "@njit\n",
    "def rolling_mean_30(x):\n",
    "    return rolling_mean(x, window_size=30)"
   ]
  },
  {
   "cell_type": "code",
   "execution_count": 16,
   "metadata": {},
   "outputs": [],
   "source": [
    "selected_sensors1_df = pd.read_csv(\"../data/selected_sensors1_cleaned.csv\")"
   ]
  },
  {
   "cell_type": "code",
   "execution_count": 17,
   "metadata": {},
   "outputs": [],
   "source": [
    "clusters_0 = {\n",
    "    0: [1, 4372603],\n",
    "    1: [2],\n",
    "    2: [5], \n",
    "    3: [6],\n",
    "    4: [9],\n",
    "    5: [12],\n",
    "}"
   ]
  },
  {
   "cell_type": "code",
   "execution_count": 18,
   "metadata": {},
   "outputs": [],
   "source": [
    "scenarios = {\n",
    "    # 0: 1, 4372603\n",
    "    \"0_12M_train_7M_test\": {\"train_start\": \"2017-03-25\", \"train_end\": \"2018-03-25\", \"test_start\": \"2018-03-26\", \"test_end\": \"2018-10-10\"},\n",
    "    \"0_10M_train_9M_test\":  {\"train_start\": \"2017-03-25\", \"train_end\": \"2018-01-25\", \"test_start\": \"2018-01-26\", \"test_end\": \"2018-10-10\"},\n",
    "    \"0_8M_train_11M_test\": {\"train_start\": \"2017-03-25\", \"train_end\": \"2017-10-25\", \"test_start\": \"2017-10-26\", \"test_end\": \"2018-10-10\"},\n",
    "    \n",
    "    # Non-Heating Periods\n",
    "    \"0_NonHeating_3M_train_3M_test\": {\"train_start\": \"2017-04-15\", \"train_end\": \"2017-07-15\", \"test_start\": \"2017-07-16\", \"test_end\": \"2017-10-01\"},\n",
    "    \"0_NonHeating_4M_train_2M_test\": {\"train_start\": \"2017-04-15\", \"train_end\": \"2017-08-15\", \"test_start\": \"2017-08-16\", \"test_end\": \"2017-10-01\"},\n",
    "    \"0_NonHeating_2M_train_4M_test\": {\"train_start\": \"2017-04-15\", \"train_end\": \"2017-06-15\", \"test_start\": \"2017-06-16\", \"test_end\": \"2017-10-01\"},\n",
    "    \"0_NonHeating_1M_train_5M_test\": {\"train_start\": \"2017-04-15\", \"train_end\": \"2017-05-15\", \"test_start\": \"2017-05-16\", \"test_end\": \"2017-10-01\"},\n",
    "\n",
    "    # Heating Periods\n",
    "    \"0_Heating_5M_train_1Y_test\": {\"train_start\": \"2017-06-01\", \"train_end\": \"2017-11-01\", \"test_start\": \"2017-11-02\", \"test_end\": \"2018-10-10\"},\n",
    "    \"0_Heating_3M_train_1Y_test\": {\"train_start\": \"2017-07-01\", \"train_end\": \"2017-10-10\", \"test_start\": \"2017-10-11\", \"test_end\": \"2018-10-10\"},\n",
    "}\n"
   ]
  },
  {
   "cell_type": "code",
   "execution_count": 19,
   "metadata": {},
   "outputs": [],
   "source": [
    "from MLForecastPipeline import *"
   ]
  },
  {
   "cell_type": "code",
   "execution_count": null,
   "metadata": {},
   "outputs": [],
   "source": [
    "def get_seasonal_data(df, start_date, end_date):\n",
    "    \"\"\"Filters data for a specific seasonal period.\"\"\"\n",
    "    return df[(df[\"date\"] >= start_date) & (df[\"date\"] <= end_date)]\n",
    "\n",
    "def split_data(df, scenario):\n",
    "    \"\"\"Extracts train and test data based on a given time window scenario.\"\"\"\n",
    "    train_data = get_seasonal_data(df, scenario[\"train_start\"], scenario[\"train_end\"])\n",
    "    test_data = get_seasonal_data(df, scenario[\"test_start\"], scenario[\"test_end\"])\n",
    "    return train_data, test_data\n",
    "\n",
    "models = {\n",
    "    \"XGBRegressor\": XGBRegressor(),\n",
    "    \"SGDRegressor\": SGDRegressor(),\n",
    "    \"Ridge\": Ridge(),\n",
    "    \"Lasso\": Lasso()\n",
    "}\n",
    "\n",
    "# Define lag transformations\n",
    "\n",
    "lag_transforms_options = [\n",
    "    {1: [expanding_mean], 7: [rolling_mean_14], 30: [expanding_mean]},\n",
    "    {1: [rolling_mean_14], 7: [rolling_mean_30], 30: [expanding_mean]},\n",
    "    # {1: [rolling_mean_14], 30: [expanding_mean]},\n",
    "    # {1: [rolling_mean_14]},\n",
    "    # {},\n",
    "]"
   ]
  },
  {
   "cell_type": "code",
   "execution_count": null,
   "metadata": {},
   "outputs": [],
   "source": [
    "# Loop through scenarios and evaluate models\n",
    "results = []\n",
    "for scenario_name, scenario in scenarios.items():\n",
    "    train_df, test_df = split_data(selected_sensors1_df[0], scenario)\n",
    "\n",
    "    optimal_lags_list = get_optimal_lags(train_df, \"y\")\n",
    "    target_transforms = get_dynamic_transforms(train_df)\n",
    "    results = evaluate_models(train_df, test_df, models, target_transforms, lag_transforms_options, optimal_lags_list)\n",
    "\n",
    "    save_results(results, f\"results/{scenario_name}.csv\") "
   ]
  },
  {
   "cell_type": "code",
   "execution_count": null,
   "metadata": {},
   "outputs": [],
   "source": []
  }
 ],
 "metadata": {
  "kernelspec": {
   "display_name": "Python 3",
   "language": "python",
   "name": "python3"
  },
  "language_info": {
   "codemirror_mode": {
    "name": "ipython",
    "version": 3
   },
   "file_extension": ".py",
   "mimetype": "text/x-python",
   "name": "python",
   "nbconvert_exporter": "python",
   "pygments_lexer": "ipython3",
   "version": "3.12.1"
  }
 },
 "nbformat": 4,
 "nbformat_minor": 2
}
