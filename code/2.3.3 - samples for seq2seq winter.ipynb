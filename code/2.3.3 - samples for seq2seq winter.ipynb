{
 "cells": [
  {
   "cell_type": "code",
   "execution_count": 46,
   "metadata": {},
   "outputs": [],
   "source": [
    "import pandas as pd\n",
    "path_to_data = \"..//data//\"\n",
    "\n",
    "df = pd.read_csv(path_to_data+\"pm_data.csv\")\n",
    "sensors_df = pd.read_csv(path_to_data+\"sensors.csv\")"
   ]
  },
  {
   "cell_type": "code",
   "execution_count": null,
   "metadata": {},
   "outputs": [
    {
     "name": "stdout",
     "output_type": "stream",
     "text": [
      "100\n"
     ]
    }
   ],
   "source": [
    "import pandas as pd\n",
    "import matplotlib.pyplot as plt\n",
    "from statsmodels.tsa.stattools import acf\n",
    "\n",
    "data = pd.read_csv(\"../data/decomp/kusok_5.csv\")  # Загрузить файл\n",
    "season_periods = {}\n",
    "data.drop(columns=['Unnamed: 0'], inplace=True)\n",
    "for col in data.columns:\n",
    "    if col == 'full_date':\n",
    "        continue\n",
    "    series = data[col]  # Выбрать временной ряд\n",
    "    lags = 500  # Достаточно, чтобы захватить возможный сезон\n",
    "    \n",
    "    acf_values = acf(series, nlags=lags)\n",
    "    season_length = acf_values[100:].argmax() + 100\n",
    "    print(season_length)\n",
    "    season_periods[col] = season_length"
   ]
  },
  {
   "cell_type": "code",
   "execution_count": 48,
   "metadata": {},
   "outputs": [
    {
     "data": {
      "text/plain": [
       "('2017-06-20', '2018-09-29', 1.2972222222222223)"
      ]
     },
     "execution_count": 48,
     "metadata": {},
     "output_type": "execute_result"
    }
   ],
   "source": [
    "data['full_date'].min(), data['full_date'].max(), len(data['full_date'])/360"
   ]
  },
  {
   "cell_type": "code",
   "execution_count": 49,
   "metadata": {},
   "outputs": [
    {
     "name": "stdout",
     "output_type": "stream",
     "text": [
      "2017-06-20 2018-09-29 1.2972222222222223\n",
      "2017-07-20 2019-09-15 2.188888888888889\n",
      "2017-10-28 2020-10-06 2.986111111111111\n",
      "2018-04-29 2020-10-06 2.477777777777778\n"
     ]
    }
   ],
   "source": [
    "for n in range(2,6):\n",
    "    data_ = pd.read_csv(f\"../data/decomp/kusok_{n}.csv\")  # Загрузить файл\n",
    "    print(data_['full_date'].min(), data_['full_date'].max(), len(data_['full_date'])/360)"
   ]
  },
  {
   "cell_type": "markdown",
   "metadata": {},
   "source": [
    "it makes sense to enforce a consistent season length across all samples, even if the underlying natural seasonality varies slightly. If we enforce 365 days for all samples, we ensure:\n",
    "\n",
    "Uniformity in modeling → Makes it easier to compare across distributions.\n",
    "\n",
    "Aligned start and end dates across columns → Prevents gaps and offsets.\n",
    "\n",
    "Better compatibility with ML models → Models generally prefer fixed input sizes."
   ]
  },
  {
   "cell_type": "code",
   "execution_count": 50,
   "metadata": {},
   "outputs": [
    {
     "name": "stdout",
     "output_type": "stream",
     "text": [
      "⚠️ Not enough data for at least 1 season in 8, skipping.\n",
      "✅ Datasets created with fixed 367-day seasons ending on 03-15!\n"
     ]
    }
   ],
   "source": [
    "import numpy as np\n",
    "import pandas as pd\n",
    "\n",
    "# User-defined target month and day (parameter, not hardcoded)\n",
    "target_month_day = \"03-15\"  # Default target ending day\n",
    "\n",
    "# Define a fixed season length for uniformity (365 days for all samples)\n",
    "fixed_season_length = 367\n",
    "\n",
    "# Load and sort data by date\n",
    "data[\"full_date\"] = pd.to_datetime(data[\"full_date\"])\n",
    "data = data.sort_values(\"full_date\")\n",
    "\n",
    "# Dictionary to store dataset samples per column\n",
    "dataset_samples = {}\n",
    "\n",
    "# Iterate over each column (distribution)\n",
    "for col in data.columns:\n",
    "    if col == \"full_date\":\n",
    "        continue\n",
    "\n",
    "    series = data[[\"full_date\", col]].dropna()  # Drop missing values\n",
    "\n",
    "    # Determine the last available year where {target_month_day} exists\n",
    "    available_years = series[\"full_date\"].dt.year.unique()\n",
    "    last_valid_year = None\n",
    "    last_valid_end_date = None\n",
    "\n",
    "    # Find the latest year that contains {MM-DD}\n",
    "    for year in sorted(available_years, reverse=True):\n",
    "        potential_end_date = pd.Timestamp(f\"{year}-{target_month_day}\")\n",
    "        if potential_end_date in series[\"full_date\"].values:\n",
    "            last_valid_year = year\n",
    "            last_valid_end_date = potential_end_date\n",
    "            break\n",
    "\n",
    "    if last_valid_end_date is None:\n",
    "        print(f\"⚠️ No exact match for {target_month_day} in column {col}, skipping.\")\n",
    "        continue\n",
    "\n",
    "    # Determine the number of available full seasons\n",
    "    series_filtered = series[series[\"full_date\"] <= last_valid_end_date]\n",
    "    num_available_days = len(series_filtered)\n",
    "    num_full_seasons = num_available_days // fixed_season_length\n",
    "\n",
    "    if num_full_seasons < 1:\n",
    "        print(f\"⚠️ Not enough data for at least 1 season in {col}, skipping.\")\n",
    "        continue\n",
    "\n",
    "    # Generate samples for each available full season\n",
    "    samples = []\n",
    "    for i in range(num_full_seasons):\n",
    "        start_date = last_valid_end_date - pd.Timedelta(days=(i + 1) * fixed_season_length)\n",
    "        end_date = start_date + pd.Timedelta(days=fixed_season_length)\n",
    "\n",
    "        # Extract data for this season\n",
    "        season_data = series[(series[\"full_date\"] >= start_date) & (series[\"full_date\"] < end_date)].copy()\n",
    "        if not season_data.empty:\n",
    "            samples.append(season_data)\n",
    "\n",
    "    # Store the dataset samples for this column\n",
    "    dataset_samples[col] = samples\n",
    "\n",
    "# Save datasets for each distribution\n",
    "for col, samples in dataset_samples.items():\n",
    "    for i, df in enumerate(samples):\n",
    "        df.to_csv(f\"../data/mar_samples/dataset_{col}_season_{i+1}.csv\", index=False)\n",
    "\n",
    "print(f\"✅ Datasets created with fixed {fixed_season_length}-day seasons ending on {target_month_day}!\")\n"
   ]
  },
  {
   "cell_type": "code",
   "execution_count": null,
   "metadata": {},
   "outputs": [],
   "source": []
  }
 ],
 "metadata": {
  "kernelspec": {
   "display_name": "Python 3",
   "language": "python",
   "name": "python3"
  },
  "language_info": {
   "codemirror_mode": {
    "name": "ipython",
    "version": 3
   },
   "file_extension": ".py",
   "mimetype": "text/x-python",
   "name": "python",
   "nbconvert_exporter": "python",
   "pygments_lexer": "ipython3",
   "version": "3.12.1"
  }
 },
 "nbformat": 4,
 "nbformat_minor": 2
}
