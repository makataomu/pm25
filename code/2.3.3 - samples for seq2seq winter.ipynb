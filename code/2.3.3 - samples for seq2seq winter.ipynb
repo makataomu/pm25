{
 "cells": [
  {
   "cell_type": "code",
   "execution_count": 5,
   "metadata": {},
   "outputs": [],
   "source": [
    "import pandas as pd\n",
    "path_to_data = \"..//data//\"\n",
    "\n",
    "df = pd.read_csv(path_to_data+\"pm_data.csv\")\n",
    "sensors_df = pd.read_csv(path_to_data+\"sensors.csv\")"
   ]
  },
  {
   "cell_type": "code",
   "execution_count": 6,
   "metadata": {},
   "outputs": [
    {
     "name": "stdout",
     "output_type": "stream",
     "text": [
      "365\n",
      "356\n",
      "358\n",
      "358\n"
     ]
    }
   ],
   "source": [
    "import pandas as pd\n",
    "import matplotlib.pyplot as plt\n",
    "from statsmodels.tsa.stattools import acf\n",
    "\n",
    "data = pd.read_csv(\"../data/decomp/kusok_1.csv\")  # Загрузить файл\n",
    "season_periods = {}\n",
    "data.drop(columns=['Unnamed: 0'], inplace=True)\n",
    "for col in data.columns:\n",
    "    if col == 'full_date':\n",
    "        continue\n",
    "    series = data[col]  # Выбрать временной ряд\n",
    "    lags = 500  # Достаточно, чтобы захватить возможный сезон\n",
    "    \n",
    "    acf_values = acf(series, nlags=lags)\n",
    "    season_length = acf_values[100:].argmax() + 100\n",
    "    print(season_length)\n",
    "    season_periods[col] = season_length"
   ]
  },
  {
   "cell_type": "code",
   "execution_count": 12,
   "metadata": {},
   "outputs": [
    {
     "data": {
      "application/vnd.microsoft.datawrangler.viewer.v0+json": {
       "columns": [
        {
         "name": "index",
         "rawType": "int64",
         "type": "integer"
        },
        {
         "name": "full_date",
         "rawType": "datetime64[ns]",
         "type": "datetime"
        },
        {
         "name": "1",
         "rawType": "float64",
         "type": "float"
        },
        {
         "name": "2",
         "rawType": "float64",
         "type": "float"
        },
        {
         "name": "5",
         "rawType": "float64",
         "type": "float"
        },
        {
         "name": "6",
         "rawType": "float64",
         "type": "float"
        }
       ],
       "conversionMethod": "pd.DataFrame",
       "ref": "ea5128a0-ea2f-4c20-9923-ba9a2ac4b4f1",
       "rows": [
        [
         "0",
         "2017-03-22 00:00:00",
         "148.0203366058906",
         "40.683844011142064",
         "39.02291666666667",
         "33.55038220986796"
        ],
        [
         "1",
         "2017-03-23 00:00:00",
         "44.30872483221477",
         "29.237465181058496",
         "24.60632183908046",
         "23.76527777777778"
        ],
        [
         "2",
         "2017-03-24 00:00:00",
         "54.90515463917526",
         "43.675636363636364",
         "32.66202090592334",
         "24.12752613240418"
        ],
        [
         "3",
         "2017-03-25 00:00:00",
         "67.57560975609756",
         "58.79221681723419",
         "73.68850174216028",
         "57.90271021542738"
        ],
        [
         "4",
         "2017-03-26 00:00:00",
         "45.677083333333336",
         "48.34840055632824",
         "41.90181058495822",
         "28.81111111111111"
        ],
        [
         "5",
         "2017-03-27 00:00:00",
         "22.100764419735928",
         "25.86610878661088",
         "24.221140472879",
         "21.971507991660875"
        ],
        [
         "6",
         "2017-03-28 00:00:00",
         "45.42618384401114",
         "23.530967292971468",
         "27.72144846796657",
         "23.299120234604107"
        ],
        [
         "7",
         "2017-03-29 00:00:00",
         "75.58524704244955",
         "31.14435879467414",
         "22.707028531663187",
         "18.757828810020875"
        ],
        [
         "8",
         "2017-03-30 00:00:00",
         "74.73991655076495",
         "29.700139470013948",
         "23.842032011134307",
         "23.87143849895761"
        ],
        [
         "9",
         "2017-03-31 00:00:00",
         "41.11961057023644",
         "30.5427974947808",
         "47.537178596247394",
         "30.421418636995828"
        ],
        [
         "10",
         "2017-04-01 00:00:00",
         "47.24442896935933",
         "23.582302568981923",
         "31.903337969401942",
         "30.690542420027818"
        ],
        [
         "11",
         "2017-04-02 00:00:00",
         "61.24287749287749",
         "37.50071022727273",
         "42.349338900487126",
         "41.16225626740947"
        ],
        [
         "12",
         "2017-04-03 00:00:00",
         "26.87319587628866",
         "32.33508956796628",
         "41.77105080027836",
         "40.91597222222222"
        ],
        [
         "13",
         "2017-04-04 00:00:00",
         "80.89594972067039",
         "44.31082118188795",
         "38.121593291404615",
         "37.17085076708508"
        ],
        [
         "14",
         "2017-04-05 00:00:00",
         "104.61888111888112",
         "55.17132867132867",
         "53.64722222222223",
         "52.87526132404181"
        ],
        [
         "15",
         "2017-04-06 00:00:00",
         "98.69006254343294",
         "51.85161744022504",
         "49.09861111111111",
         "47.21820708825573"
        ],
        [
         "16",
         "2017-04-07 00:00:00",
         "40.78401122019636",
         "36.998046875",
         "33.08286908077994",
         "28.031944444444445"
        ],
        [
         "17",
         "2017-04-08 00:00:00",
         "74.88325225851285",
         "44.327856025039125",
         "24.5076495132128",
         "17.85"
        ],
        [
         "18",
         "2017-04-09 00:00:00",
         "116.11203897007655",
         "49.2080723729993",
         "28.88399708949794",
         "22.64994947532064"
        ],
        [
         "19",
         "2017-04-10 00:00:00",
         "117.1924422673198",
         "49.50386507378777",
         "20.073018080667595",
         "16.17361111111111"
        ],
        [
         "20",
         "2017-04-11 00:00:00",
         "99.35328046142754",
         "22.058950395398995",
         "15.220138888888888",
         "14.069444444444445"
        ],
        [
         "21",
         "2017-04-12 00:00:00",
         "19.933192686357245",
         "8.032235459004905",
         "33.06041666666667",
         "30.033356497567755"
        ],
        [
         "22",
         "2017-04-13 00:00:00",
         "25.70546486870121",
         "12.694226657163222",
         "26.38055555555556",
         "27.12986111111111"
        ],
        [
         "23",
         "2017-04-14 00:00:00",
         "28.54407514450867",
         "18.97103548153512",
         "26.05625",
         "25.1782729805014"
        ],
        [
         "24",
         "2017-04-15 00:00:00",
         "46.62867132867133",
         "34.03138075313807",
         "27.386648122392213",
         "24.3769123783032"
        ],
        [
         "25",
         "2017-04-16 00:00:00",
         "48.14156206415621",
         "44.59357541899441",
         "25.28489620615605",
         "20.06328233657858"
        ],
        [
         "26",
         "2017-04-17 00:00:00",
         "24.02661870503597",
         "19.8845050215208",
         "22.58125",
         "22.847009735744088"
        ],
        [
         "27",
         "2017-04-18 00:00:00",
         "36.45762711864407",
         "31.38434414668547",
         "14.177453027139874",
         "11.852777777777778"
        ],
        [
         "28",
         "2017-04-19 00:00:00",
         "57.97339055793992",
         "37.45705521472393",
         "26.918021201413428",
         "17.873640167364016"
        ],
        [
         "29",
         "2017-04-20 00:00:00",
         "51.9978976874562",
         "22.19706498951782",
         "37.60356347438753",
         "29.435146443514643"
        ],
        [
         "30",
         "2017-04-21 00:00:00",
         "31.031757233592096",
         "19.06633733239238",
         "32.458030655770486",
         "32.74236111111111"
        ],
        [
         "31",
         "2017-04-22 00:00:00",
         "43.852161785216175",
         "17.776462395543174",
         "27.930313588850176",
         "20.8498957609451"
        ],
        [
         "32",
         "2017-04-23 00:00:00",
         "33.49687282835302",
         "19.914804469273744",
         "21.14305555555556",
         "15.997916666666669"
        ],
        [
         "33",
         "2017-04-24 00:00:00",
         "41.85136078157712",
         "19.3562412342216",
         "27.43929824561404",
         "23.61306179775281"
        ],
        [
         "34",
         "2017-04-25 00:00:00",
         "46.43715083798882",
         "19.16890459363957",
         "20.294979079497907",
         "17.17794836008374"
        ],
        [
         "35",
         "2017-04-26 00:00:00",
         "31.76775738228252",
         "19.68975265017668",
         "25.16759388038943",
         "22.42708333333333"
        ],
        [
         "36",
         "2017-04-27 00:00:00",
         "19.79178605539637",
         "9.913616398243043",
         "31.50730688935282",
         "27.2821403752606"
        ],
        [
         "37",
         "2017-04-28 00:00:00",
         "14.229108635097491",
         "8.162952646239555",
         "23.779944289693592",
         "16.558803061934587"
        ],
        [
         "38",
         "2017-04-29 00:00:00",
         "25.350767085076708",
         "18.62831241283124",
         "13.680555555555555",
         "12.668289290681502"
        ],
        [
         "39",
         "2017-04-30 00:00:00",
         "40.82538517975055",
         "19.75091041514931",
         "20.156576200417536",
         "13.688718662952644"
        ],
        [
         "40",
         "2017-05-01 00:00:00",
         "42.05288796102992",
         "13.228890439637125",
         "12.113668061366806",
         "10.98745644599303"
        ],
        [
         "41",
         "2017-05-02 00:00:00",
         "45.64017033356991",
         "29.64772727272728",
         "7.458594293667362",
         "7.040305767894371"
        ],
        [
         "42",
         "2017-05-03 00:00:00",
         "43.94097222222222",
         "19.522585128561506",
         "16.493741307371348",
         "15.50557880055788"
        ],
        [
         "43",
         "2017-05-04 00:00:00",
         "50.49756775538568",
         "27.33727399165508",
         "19.3567454798331",
         "20.707028531663187"
        ],
        [
         "44",
         "2017-05-05 00:00:00",
         "38.32242617717478",
         "15.11482254697286",
         "19.07997218358832",
         "15.020905923344948"
        ],
        [
         "45",
         "2017-05-06 00:00:00",
         "29.60500695410292",
         "17.878745644599302",
         "12.839248434237996",
         "34.0"
        ],
        [
         "46",
         "2017-05-07 00:00:00",
         "38.39151599443672",
         "16.82033426183844",
         "15.771050800278358",
         "16.175816539263376"
        ],
        [
         "47",
         "2017-05-08 00:00:00",
         "58.90138888888889",
         "23.80362116991644",
         "22.700486448922863",
         "25.14037526059764"
        ],
        [
         "48",
         "2017-05-09 00:00:00",
         "29.27512473271561",
         "15.596100278551532",
         "13.041029207232269",
         "11.590814196242173"
        ],
        [
         "49",
         "2017-05-10 00:00:00",
         "31.71001390820584",
         "12.974198047419804",
         "16.646796338672768",
         "14.805740675418042"
        ]
       ],
       "shape": {
        "columns": 5,
        "rows": 1296
       }
      },
      "text/html": [
       "<div>\n",
       "<style scoped>\n",
       "    .dataframe tbody tr th:only-of-type {\n",
       "        vertical-align: middle;\n",
       "    }\n",
       "\n",
       "    .dataframe tbody tr th {\n",
       "        vertical-align: top;\n",
       "    }\n",
       "\n",
       "    .dataframe thead th {\n",
       "        text-align: right;\n",
       "    }\n",
       "</style>\n",
       "<table border=\"1\" class=\"dataframe\">\n",
       "  <thead>\n",
       "    <tr style=\"text-align: right;\">\n",
       "      <th></th>\n",
       "      <th>full_date</th>\n",
       "      <th>1</th>\n",
       "      <th>2</th>\n",
       "      <th>5</th>\n",
       "      <th>6</th>\n",
       "    </tr>\n",
       "  </thead>\n",
       "  <tbody>\n",
       "    <tr>\n",
       "      <th>0</th>\n",
       "      <td>2017-03-22</td>\n",
       "      <td>148.020337</td>\n",
       "      <td>40.683844</td>\n",
       "      <td>39.022917</td>\n",
       "      <td>33.550382</td>\n",
       "    </tr>\n",
       "    <tr>\n",
       "      <th>1</th>\n",
       "      <td>2017-03-23</td>\n",
       "      <td>44.308725</td>\n",
       "      <td>29.237465</td>\n",
       "      <td>24.606322</td>\n",
       "      <td>23.765278</td>\n",
       "    </tr>\n",
       "    <tr>\n",
       "      <th>2</th>\n",
       "      <td>2017-03-24</td>\n",
       "      <td>54.905155</td>\n",
       "      <td>43.675636</td>\n",
       "      <td>32.662021</td>\n",
       "      <td>24.127526</td>\n",
       "    </tr>\n",
       "    <tr>\n",
       "      <th>3</th>\n",
       "      <td>2017-03-25</td>\n",
       "      <td>67.575610</td>\n",
       "      <td>58.792217</td>\n",
       "      <td>73.688502</td>\n",
       "      <td>57.902710</td>\n",
       "    </tr>\n",
       "    <tr>\n",
       "      <th>4</th>\n",
       "      <td>2017-03-26</td>\n",
       "      <td>45.677083</td>\n",
       "      <td>48.348401</td>\n",
       "      <td>41.901811</td>\n",
       "      <td>28.811111</td>\n",
       "    </tr>\n",
       "    <tr>\n",
       "      <th>...</th>\n",
       "      <td>...</td>\n",
       "      <td>...</td>\n",
       "      <td>...</td>\n",
       "      <td>...</td>\n",
       "      <td>...</td>\n",
       "    </tr>\n",
       "    <tr>\n",
       "      <th>1291</th>\n",
       "      <td>2020-10-03</td>\n",
       "      <td>59.629346</td>\n",
       "      <td>50.642450</td>\n",
       "      <td>43.423905</td>\n",
       "      <td>28.360000</td>\n",
       "    </tr>\n",
       "    <tr>\n",
       "      <th>1292</th>\n",
       "      <td>2020-10-04</td>\n",
       "      <td>69.613621</td>\n",
       "      <td>30.410000</td>\n",
       "      <td>17.520000</td>\n",
       "      <td>21.340000</td>\n",
       "    </tr>\n",
       "    <tr>\n",
       "      <th>1293</th>\n",
       "      <td>2020-10-05</td>\n",
       "      <td>79.143255</td>\n",
       "      <td>29.590000</td>\n",
       "      <td>16.530000</td>\n",
       "      <td>20.040000</td>\n",
       "    </tr>\n",
       "    <tr>\n",
       "      <th>1294</th>\n",
       "      <td>2020-10-06</td>\n",
       "      <td>48.956855</td>\n",
       "      <td>26.380000</td>\n",
       "      <td>13.220000</td>\n",
       "      <td>17.600000</td>\n",
       "    </tr>\n",
       "    <tr>\n",
       "      <th>1295</th>\n",
       "      <td>2020-10-07</td>\n",
       "      <td>36.733843</td>\n",
       "      <td>30.880000</td>\n",
       "      <td>24.571329</td>\n",
       "      <td>27.620000</td>\n",
       "    </tr>\n",
       "  </tbody>\n",
       "</table>\n",
       "<p>1296 rows × 5 columns</p>\n",
       "</div>"
      ],
      "text/plain": [
       "      full_date           1          2          5          6\n",
       "0    2017-03-22  148.020337  40.683844  39.022917  33.550382\n",
       "1    2017-03-23   44.308725  29.237465  24.606322  23.765278\n",
       "2    2017-03-24   54.905155  43.675636  32.662021  24.127526\n",
       "3    2017-03-25   67.575610  58.792217  73.688502  57.902710\n",
       "4    2017-03-26   45.677083  48.348401  41.901811  28.811111\n",
       "...         ...         ...        ...        ...        ...\n",
       "1291 2020-10-03   59.629346  50.642450  43.423905  28.360000\n",
       "1292 2020-10-04   69.613621  30.410000  17.520000  21.340000\n",
       "1293 2020-10-05   79.143255  29.590000  16.530000  20.040000\n",
       "1294 2020-10-06   48.956855  26.380000  13.220000  17.600000\n",
       "1295 2020-10-07   36.733843  30.880000  24.571329  27.620000\n",
       "\n",
       "[1296 rows x 5 columns]"
      ]
     },
     "execution_count": 12,
     "metadata": {},
     "output_type": "execute_result"
    }
   ],
   "source": [
    "data"
   ]
  },
  {
   "cell_type": "code",
   "execution_count": 7,
   "metadata": {},
   "outputs": [
    {
     "data": {
      "text/plain": [
       "('2017-03-22', '2020-10-07', 3.6)"
      ]
     },
     "execution_count": 7,
     "metadata": {},
     "output_type": "execute_result"
    }
   ],
   "source": [
    "data['full_date'].min(), data['full_date'].max(), len(data['full_date'])/360"
   ]
  },
  {
   "cell_type": "code",
   "execution_count": 8,
   "metadata": {},
   "outputs": [
    {
     "name": "stdout",
     "output_type": "stream",
     "text": [
      "2017-06-20 2018-09-29 1.2972222222222223\n",
      "2017-07-20 2019-09-15 2.188888888888889\n",
      "2017-10-28 2020-10-06 2.986111111111111\n",
      "2018-04-29 2020-10-06 2.477777777777778\n"
     ]
    }
   ],
   "source": [
    "for n in range(2,6):\n",
    "    data_ = pd.read_csv(f\"../data/decomp/kusok_{n}.csv\")  # Загрузить файл\n",
    "    print(data_['full_date'].min(), data_['full_date'].max(), len(data_['full_date'])/360)"
   ]
  },
  {
   "cell_type": "markdown",
   "metadata": {},
   "source": [
    "it makes sense to enforce a consistent season length across all samples, even if the underlying natural seasonality varies slightly. If we enforce 365 days for all samples, we ensure:\n",
    "\n",
    "Uniformity in modeling → Makes it easier to compare across distributions.\n",
    "\n",
    "Aligned start and end dates across columns → Prevents gaps and offsets.\n",
    "\n",
    "Better compatibility with ML models → Models generally prefer fixed input sizes."
   ]
  },
  {
   "cell_type": "code",
   "execution_count": 11,
   "metadata": {},
   "outputs": [
    {
     "name": "stdout",
     "output_type": "stream",
     "text": [
      "✅ Datasets created with fixed 365-day seasons ending on 11-15!\n"
     ]
    }
   ],
   "source": [
    "import numpy as np\n",
    "import pandas as pd\n",
    "\n",
    "# User-defined target month and day (parameter, not hardcoded)\n",
    "target_month_day = \"11-15\"  # Default target ending day\n",
    "\n",
    "# Define a fixed season length for uniformity (365 days for all samples)\n",
    "fixed_season_length = 365\n",
    "\n",
    "# Load and sort data by date\n",
    "data[\"full_date\"] = pd.to_datetime(data[\"full_date\"])\n",
    "data = data.sort_values(\"full_date\")\n",
    "\n",
    "# Dictionary to store dataset samples per column\n",
    "dataset_samples = {}\n",
    "\n",
    "# Iterate over each column (distribution)\n",
    "for col in data.columns:\n",
    "    if col == \"full_date\":\n",
    "        continue\n",
    "\n",
    "    series = data[[\"full_date\", col]].dropna()  # Drop missing values\n",
    "\n",
    "    # Determine the last available year where {target_month_day} exists\n",
    "    available_years = series[\"full_date\"].dt.year.unique()\n",
    "    last_valid_year = None\n",
    "    last_valid_end_date = None\n",
    "\n",
    "    # Find the latest year that contains {MM-DD}\n",
    "    for year in sorted(available_years, reverse=True):\n",
    "        potential_end_date = pd.Timestamp(f\"{year}-{target_month_day}\")\n",
    "        if potential_end_date in series[\"full_date\"].values:\n",
    "            last_valid_year = year\n",
    "            last_valid_end_date = potential_end_date\n",
    "            break\n",
    "\n",
    "    if last_valid_end_date is None:\n",
    "        print(f\"⚠️ No exact match for {target_month_day} in column {col}, skipping.\")\n",
    "        continue\n",
    "\n",
    "    # Determine the number of available full seasons\n",
    "    series_filtered = series[series[\"full_date\"] <= last_valid_end_date]\n",
    "    num_available_days = len(series_filtered)\n",
    "    num_full_seasons = num_available_days // fixed_season_length\n",
    "\n",
    "    if num_full_seasons < 1:\n",
    "        print(f\"⚠️ Not enough data for at least 1 season in {col}, skipping.\")\n",
    "        continue\n",
    "\n",
    "    # Generate samples for each available full season\n",
    "    samples = []\n",
    "    for i in range(num_full_seasons):\n",
    "        start_date = last_valid_end_date - pd.Timedelta(days=(i + 1) * fixed_season_length)\n",
    "        end_date = start_date + pd.Timedelta(days=fixed_season_length)\n",
    "\n",
    "        # Extract data for this season\n",
    "        season_data = series[(series[\"full_date\"] >= start_date) & (series[\"full_date\"] < end_date)].copy()\n",
    "        if not season_data.empty:\n",
    "            samples.append(season_data)\n",
    "\n",
    "    # Store the dataset samples for this column\n",
    "    dataset_samples[col] = samples\n",
    "\n",
    "# Save datasets for each distribution\n",
    "for col, samples in dataset_samples.items():\n",
    "    for i, df in enumerate(samples):\n",
    "        df.to_csv(f\"../data/nov_samples/dataset_{col}_season_{i+1}.csv\", index=False)\n",
    "\n",
    "print(f\"✅ Datasets created with fixed {fixed_season_length}-day seasons ending on {target_month_day}!\")\n"
   ]
  }
 ],
 "metadata": {
  "kernelspec": {
   "display_name": "Python 3",
   "language": "python",
   "name": "python3"
  },
  "language_info": {
   "codemirror_mode": {
    "name": "ipython",
    "version": 3
   },
   "file_extension": ".py",
   "mimetype": "text/x-python",
   "name": "python",
   "nbconvert_exporter": "python",
   "pygments_lexer": "ipython3",
   "version": "3.12.1"
  }
 },
 "nbformat": 4,
 "nbformat_minor": 2
}
