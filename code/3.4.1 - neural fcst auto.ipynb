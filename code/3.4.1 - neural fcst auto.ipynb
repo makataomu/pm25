{
 "cells": [
  {
   "cell_type": "markdown",
   "metadata": {},
   "source": [
    "More recent models, such as TSMixer, TFT and NHITS achieve better accuracy than LSTM in most settings."
   ]
  },
  {
   "cell_type": "code",
   "execution_count": 1,
   "metadata": {},
   "outputs": [
    {
     "name": "stderr",
     "output_type": "stream",
     "text": [
      "2025-03-19 18:40:40,501\tINFO util.py:154 -- Outdated packages:\n",
      "  ipywidgets==7.8.1 found, needs ipywidgets>=8\n",
      "Run `pip install -U ipywidgets`, then restart the notebook server for rich notebook output.\n",
      "2025-03-19 18:40:40,761\tINFO util.py:154 -- Outdated packages:\n",
      "  ipywidgets==7.8.1 found, needs ipywidgets>=8\n",
      "Run `pip install -U ipywidgets`, then restart the notebook server for rich notebook output.\n"
     ]
    },
    {
     "ename": "ImportError",
     "evalue": "cannot import name 'AutoTimeLLM' from 'neuralforecast.auto' (c:\\Users\\PC314\\anaconda3\\Lib\\site-packages\\neuralforecast\\auto.py)",
     "output_type": "error",
     "traceback": [
      "\u001b[1;31m---------------------------------------------------------------------------\u001b[0m",
      "\u001b[1;31mImportError\u001b[0m                               Traceback (most recent call last)",
      "Cell \u001b[1;32mIn[1], line 5\u001b[0m\n\u001b[0;32m      3\u001b[0m \u001b[38;5;28;01mfrom\u001b[39;00m \u001b[38;5;21;01mray\u001b[39;00m \u001b[38;5;28;01mimport\u001b[39;00m tune\n\u001b[0;32m      4\u001b[0m \u001b[38;5;28;01mfrom\u001b[39;00m \u001b[38;5;21;01mneuralforecast\u001b[39;00m \u001b[38;5;28;01mimport\u001b[39;00m NeuralForecast\n\u001b[1;32m----> 5\u001b[0m \u001b[38;5;28;01mfrom\u001b[39;00m \u001b[38;5;21;01mneuralforecast\u001b[39;00m\u001b[38;5;21;01m.\u001b[39;00m\u001b[38;5;21;01mauto\u001b[39;00m \u001b[38;5;28;01mimport\u001b[39;00m (\n\u001b[0;32m      6\u001b[0m     AutoNHITS, AutoNBEATS, AutoNBEATSx, AutoTFT, AutoVanillaTransformer,\n\u001b[0;32m      7\u001b[0m     AutoInformer, AutoAutoformer, AutoFEDformer, AutoPatchTST, AutoLSTM, AutoGRU,\n\u001b[0;32m      8\u001b[0m     AutoRNN, AutoDilatedRNN, AutoTCN, AutoMLP, AutoMLPMultivariate, AutoDLinear,\n\u001b[0;32m      9\u001b[0m     AutoNLinear, AutoTimeXer, AutoTSMixer, AutoTSMixerx, AutoTimeMixer, AutoTimeLLM,\n\u001b[0;32m     10\u001b[0m     AutoTimesNet, AutoiTransformer, AutoSOFTS, AutoStemGNN, AutoBiTCN,\n\u001b[0;32m     11\u001b[0m     AutoDeepAR, AutoDeepNPTS, AutoReversibleMixtureOfKAN, AutoHINT\n\u001b[0;32m     12\u001b[0m )\n\u001b[0;32m     13\u001b[0m \u001b[38;5;28;01mfrom\u001b[39;00m \u001b[38;5;21;01mneuralforecast\u001b[39;00m\u001b[38;5;21;01m.\u001b[39;00m\u001b[38;5;21;01mutils\u001b[39;00m \u001b[38;5;28;01mimport\u001b[39;00m AirPassengersDF\n\u001b[0;32m     14\u001b[0m \u001b[38;5;28;01mfrom\u001b[39;00m \u001b[38;5;21;01mutilsforecast\u001b[39;00m\u001b[38;5;21;01m.\u001b[39;00m\u001b[38;5;21;01mplotting\u001b[39;00m \u001b[38;5;28;01mimport\u001b[39;00m plot_series\n",
      "\u001b[1;31mImportError\u001b[0m: cannot import name 'AutoTimeLLM' from 'neuralforecast.auto' (c:\\Users\\PC314\\anaconda3\\Lib\\site-packages\\neuralforecast\\auto.py)"
     ]
    }
   ],
   "source": [
    "import logging\n",
    "import pandas as pd\n",
    "from ray import tune\n",
    "from neuralforecast import NeuralForecast\n",
    "from neuralforecast.auto import (\n",
    "    AutoNHITS, AutoNBEATS, AutoNBEATSx, AutoTFT, AutoVanillaTransformer,\n",
    "    AutoInformer, AutoAutoformer, AutoFEDformer, AutoPatchTST, AutoLSTM, AutoGRU,\n",
    "    AutoRNN, AutoDilatedRNN, AutoTCN, AutoMLP, AutoMLPMultivariate, AutoDLinear,\n",
    "    AutoNLinear, AutoTimeXer, AutoTSMixer, AutoTSMixerx, AutoTimeMixer, AutoTimeLLM,\n",
    "    AutoTimesNet, AutoiTransformer, AutoSOFTS, AutoStemGNN, AutoBiTCN,\n",
    "    AutoDeepAR, AutoDeepNPTS, AutoReversibleMixtureOfKAN, AutoHINT\n",
    ")\n",
    "from neuralforecast.utils import AirPassengersDF\n",
    "from utilsforecast.plotting import plot_series\n",
    "\n",
    "# Suppress unnecessary logging\n",
    "logging.getLogger('pytorch_lightning').setLevel(logging.ERROR)"
   ]
  },
  {
   "cell_type": "code",
   "execution_count": null,
   "metadata": {},
   "outputs": [],
   "source": [
    "\n",
    "\n",
    "# Load dataset\n",
    "Y_df = AirPassengersDF\n",
    "horizon = 12  # Forecasting horizon\n",
    "\n",
    "# List of AutoModels\n",
    "auto_models = [\n",
    "    AutoNHITS, AutoNBEATS, AutoNBEATSx, AutoTFT, AutoVanillaTransformer,\n",
    "    AutoInformer, AutoAutoformer, AutoFEDformer, AutoPatchTST, AutoLSTM, AutoGRU,\n",
    "    AutoRNN, AutoDilatedRNN, AutoTCN, AutoMLP, AutoMLPMultivariate, AutoDLinear,\n",
    "    AutoNLinear, AutoTimeXer, AutoTSMixer, AutoTSMixerx, AutoTimeMixer, AutoTimeLLM,\n",
    "    AutoTimesNet, AutoiTransformer, AutoSOFTS, AutoStemGNN, AutoBiTCN,\n",
    "    AutoDeepAR, AutoDeepNPTS, AutoReversibleMixtureOfKAN, AutoHINT\n",
    "]\n",
    "\n",
    "# Initialize models with default hyperparameter configurations\n",
    "def get_auto_model(model_cls):\n",
    "    config = model_cls.get_default_config(h=horizon, backend=\"ray\")\n",
    "    config[\"random_seed\"] = tune.randint(1, 10)\n",
    "    return model_cls(h=horizon, config=config, backend='ray', num_samples=3)\n",
    "\n",
    "# Create models\n",
    "models = [get_auto_model(model_cls) for model_cls in auto_models]\n",
    "\n",
    "# Initialize and fit NeuralForecast\n",
    "nf = NeuralForecast(models=models, freq='M')\n",
    "nf.fit(df=Y_df)\n",
    "\n",
    "# Generate predictions\n",
    "Y_hat_df = nf.predict()\n",
    "\n",
    "# Display predictions\n",
    "plot_series(Y_df, Y_hat_df)\n",
    "\n",
    "# Save results\n",
    "Y_hat_df.to_csv(\"forecast_results.csv\", index=False)\n",
    "print(\"Forecasting completed. Results saved in forecast_results.csv\")\n"
   ]
  }
 ],
 "metadata": {
  "kernelspec": {
   "display_name": "base",
   "language": "python",
   "name": "python3"
  },
  "language_info": {
   "codemirror_mode": {
    "name": "ipython",
    "version": 3
   },
   "file_extension": ".py",
   "mimetype": "text/x-python",
   "name": "python",
   "nbconvert_exporter": "python",
   "pygments_lexer": "ipython3",
   "version": "3.12.3"
  }
 },
 "nbformat": 4,
 "nbformat_minor": 2
}
